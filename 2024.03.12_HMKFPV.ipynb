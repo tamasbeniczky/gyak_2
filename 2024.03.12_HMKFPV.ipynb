{
    "metadata": {
        "kernelspec": {
            "name": "SQL",
            "display_name": "SQL",
            "language": "sql"
        },
        "language_info": {
            "name": "sql",
            "version": ""
        }
    },
    "nbformat_minor": 2,
    "nbformat": 4,
    "cells": [
        {
            "cell_type": "markdown",
            "source": [
                "- Válassz ki egy olyan adatbázist a bit.uni-corvinus.hu-n, amelynek tartalmához hozzáférsz\n",
                "- Az adatbázison belül válassz ki egy táblát!\n",
                "- Valósíts meg tipikus adatprofilozási lekérdezéseket a tábla legalább 2 oszlopára (min. 3 db / oszlop)!\n",
                "- Pl: NULL értékek száma, százalékos aránya, legkisebb/legnagyobb érték, kiugró értékek, min/max/átlag, értékek eloszlása stb.\n",
                "- A kapott eredményekhez diagramokat is készíthetsz\n",
                "- Az megoldást ide töltsd fel csatolva, vagy GitHub-ra a repo link megadásával (utóbbi esetben +5%)\n",
                "- A feladatot egyénileg kell megoldani!"
            ],
            "metadata": {
                "language": "sql",
                "azdata_cell_guid": "94f96f12-2ff2-48ce-809d-a4672de99b31"
            },
            "attachments": {}
        },
        {
            "cell_type": "code",
            "source": [
                "SELECT MIN(LEN(szallas_nev)) AS string_length_min, \r\n",
                "       MAX(LEN(szallas_nev)) AS string_length_max, \r\n",
                "       AVG(LEN(szallas_nev)) AS string_length_avg\r\n",
                "\r\n",
                "FROM szallashely\r\n",
                "WHERE szallas_nev IS NOT NULL\r\n",
                "AND LEN(SZALLAS_NEV) > 0"
            ],
            "metadata": {
                "language": "sql",
                "azdata_cell_guid": "c08aaee7-de16-4720-937d-b58f2bdaf11d",
                "tags": [
                    "parameters"
                ]
            },
            "outputs": [
                {
                    "output_type": "display_data",
                    "data": {
                        "text/html": "(1 row affected)"
                    },
                    "metadata": {}
                },
                {
                    "output_type": "display_data",
                    "data": {
                        "text/html": "Total execution time: 00:00:00.015"
                    },
                    "metadata": {}
                },
                {
                    "output_type": "execute_result",
                    "metadata": {},
                    "execution_count": 6,
                    "data": {
                        "application/vnd.dataresource+json": {
                            "schema": {
                                "fields": [
                                    {
                                        "name": "string_length_min"
                                    },
                                    {
                                        "name": "string_length_max"
                                    },
                                    {
                                        "name": "string_length_avg"
                                    }
                                ]
                            },
                            "data": [
                                {
                                    "string_length_min": "8",
                                    "string_length_max": "20",
                                    "string_length_avg": "14"
                                }
                            ]
                        },
                        "text/html": [
                            "<table>",
                            "<tr><th>string_length_min</th><th>string_length_max</th><th>string_length_avg</th></tr>",
                            "<tr><td>8</td><td>20</td><td>14</td></tr>",
                            "</table>"
                        ]
                    }
                }
            ],
            "execution_count": 6
        },
        {
            "cell_type": "markdown",
            "source": [
                "![](data:image/png;base64,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)"
            ],
            "metadata": {
                "azdata_cell_guid": "b471daa1-6f81-447e-9f64-92afdb83b494"
            },
            "attachments": {}
        },
        {
            "cell_type": "markdown",
            "source": [
                ""
            ],
            "metadata": {
                "azdata_cell_guid": "b10299fd-3c58-4610-9a84-35785d87e171"
            }
        },
        {
            "cell_type": "code",
            "source": [
                "SELECT AVG(LEN(szallas_nev)) AS string_length_avg, \r\n",
                "       STDEV(LEN(szallas_nev)) AS string_length_stddev, \r\n",
                "       VAR(LEN(szallas_nev)) AS string_length_var\r\n",
                "FROM szallashely\r\n",
                "WHERE szallas_nev IS NOT NULL\r\n",
                "AND LEN(SZALLAS_NEV) > 0"
            ],
            "metadata": {
                "azdata_cell_guid": "e48ba8d3-eb8e-4ff0-a456-cf44cd3d3ee3",
                "language": "sql",
                "tags": []
            },
            "outputs": [
                {
                    "output_type": "display_data",
                    "data": {
                        "text/html": "(1 row affected)"
                    },
                    "metadata": {}
                },
                {
                    "output_type": "display_data",
                    "data": {
                        "text/html": "Total execution time: 00:00:00.031"
                    },
                    "metadata": {}
                },
                {
                    "output_type": "execute_result",
                    "metadata": {},
                    "execution_count": 13,
                    "data": {
                        "application/vnd.dataresource+json": {
                            "schema": {
                                "fields": [
                                    {
                                        "name": "string_length_avg"
                                    },
                                    {
                                        "name": "string_length_stddev"
                                    },
                                    {
                                        "name": "string_length_var"
                                    }
                                ]
                            },
                            "data": [
                                {
                                    "string_length_avg": "14",
                                    "string_length_stddev": "3,2630689615175217",
                                    "string_length_var": "10,647619047619036"
                                }
                            ]
                        },
                        "text/html": [
                            "<table>",
                            "<tr><th>string_length_avg</th><th>string_length_stddev</th><th>string_length_var</th></tr>",
                            "<tr><td>14</td><td>3,2630689615175217</td><td>10,647619047619036</td></tr>",
                            "</table>"
                        ]
                    }
                }
            ],
            "execution_count": 13
        },
        {
            "cell_type": "code",
            "source": [
                "DECLARE \r\n",
                "@min int = 2,\r\n",
                "@max int = 4;   \r\n",
                "\r\n",
                "SELECT \r\n",
                "    SUM(CASE WHEN CSILLAGOK_SZAMA < @min THEN 1 ELSE 0 end) AS below_range,\r\n",
                "    SUM(CASE WHEN CSILLAGOK_SZAMA BETWEEN @min and @max THEN 1 ELSE 0 end) AS within_range,\r\n",
                "    SUM(CASE WHEN CSILLAGOK_SZAMA > @max THEN 1 ELSE 0 end) AS above_range\r\n",
                "FROM szallashely"
            ],
            "metadata": {
                "language": "sql",
                "azdata_cell_guid": "dd98c763-82ec-45eb-8248-048588867093"
            },
            "outputs": [
                {
                    "output_type": "display_data",
                    "data": {
                        "text/html": "(1 row affected)"
                    },
                    "metadata": {}
                },
                {
                    "output_type": "display_data",
                    "data": {
                        "text/html": "Total execution time: 00:00:00.024"
                    },
                    "metadata": {}
                },
                {
                    "output_type": "execute_result",
                    "metadata": {},
                    "execution_count": 15,
                    "data": {
                        "application/vnd.dataresource+json": {
                            "schema": {
                                "fields": [
                                    {
                                        "name": "below_range"
                                    },
                                    {
                                        "name": "within_range"
                                    },
                                    {
                                        "name": "above_range"
                                    }
                                ]
                            },
                            "data": [
                                {
                                    "below_range": "10",
                                    "within_range": "11",
                                    "above_range": "0"
                                }
                            ]
                        },
                        "text/html": [
                            "<table>",
                            "<tr><th>below_range</th><th>within_range</th><th>above_range</th></tr>",
                            "<tr><td>10</td><td>11</td><td>0</td></tr>",
                            "</table>"
                        ]
                    }
                }
            ],
            "execution_count": 15
        },
        {
            "cell_type": "markdown",
            "source": [
                "![](data:image/png;base64,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)"
            ],
            "metadata": {
                "azdata_cell_guid": "f6aa434a-4609-4cc9-a322-6ef094843a34"
            },
            "attachments": {}
        },
        {
            "cell_type": "code",
            "source": [
                "SELECT row_type,\r\n",
                "    COUNT(*) row_count\r\n",
                "FROM \r\n",
                "    (SELECT \r\n",
                "        CASE WHEN ROGZ_IDO IS NULL THEN 'Null'\r\n",
                "            ELSE 'Non Empty' \r\n",
                "            END AS row_type\r\n",
                "        FROM szallashely) rows\r\n",
                "GROUP BY row_type"
            ],
            "metadata": {
                "azdata_cell_guid": "9f18d801-be64-4394-99e0-f413e0c4e855",
                "language": "sql"
            },
            "outputs": [
                {
                    "output_type": "display_data",
                    "data": {
                        "text/html": "(1 row affected)"
                    },
                    "metadata": {}
                },
                {
                    "output_type": "display_data",
                    "data": {
                        "text/html": "Total execution time: 00:00:00.033"
                    },
                    "metadata": {}
                },
                {
                    "output_type": "execute_result",
                    "metadata": {},
                    "execution_count": 17,
                    "data": {
                        "application/vnd.dataresource+json": {
                            "schema": {
                                "fields": [
                                    {
                                        "name": "row_type"
                                    },
                                    {
                                        "name": "row_count"
                                    }
                                ]
                            },
                            "data": [
                                {
                                    "row_type": "Non Empty",
                                    "row_count": "21"
                                }
                            ]
                        },
                        "text/html": [
                            "<table>",
                            "<tr><th>row_type</th><th>row_count</th></tr>",
                            "<tr><td>Non Empty</td><td>21</td></tr>",
                            "</table>"
                        ]
                    }
                }
            ],
            "execution_count": 17
        },
        {
            "cell_type": "code",
            "source": [
                "SELECT row_type, \r\n",
                "    SUM(row_count) AS row_count\r\n",
                "FROM\r\n",
                "    (SELECT \r\n",
                "        CASE WHEN [value] IS NULL then 'NULL'\r\n",
                "            WHEN row_count = 1 then 'Unique'\r\n",
                "            ELSE 'Non Unique' \r\n",
                "            END AS row_type,\r\n",
                "        row_count\r\n",
                "    FROM (\r\n",
                "        SELECT ROGZ_IDO [value], \r\n",
                "            COUNT(*) row_count\r\n",
                "        FROM szallashely\r\n",
                "        GROUP BY ROGZ_IDO) X) Y\r\n",
                "GROUP BY row_type"
            ],
            "metadata": {
                "language": "sql",
                "azdata_cell_guid": "605ce2ed-0210-4914-ba34-cec514b1ff00"
            },
            "outputs": [
                {
                    "output_type": "display_data",
                    "data": {
                        "text/html": "(2 rows affected)"
                    },
                    "metadata": {}
                },
                {
                    "output_type": "display_data",
                    "data": {
                        "text/html": "Total execution time: 00:00:00.037"
                    },
                    "metadata": {}
                },
                {
                    "output_type": "execute_result",
                    "metadata": {},
                    "execution_count": 19,
                    "data": {
                        "application/vnd.dataresource+json": {
                            "schema": {
                                "fields": [
                                    {
                                        "name": "row_type"
                                    },
                                    {
                                        "name": "row_count"
                                    }
                                ]
                            },
                            "data": [
                                {
                                    "row_type": "Non Unique",
                                    "row_count": "8"
                                },
                                {
                                    "row_type": "Unique",
                                    "row_count": "13"
                                }
                            ]
                        },
                        "text/html": [
                            "<table>",
                            "<tr><th>row_type</th><th>row_count</th></tr>",
                            "<tr><td>Non Unique</td><td>8</td></tr>",
                            "<tr><td>Unique</td><td>13</td></tr>",
                            "</table>"
                        ]
                    }
                }
            ],
            "execution_count": 19
        },
        {
            "cell_type": "markdown",
            "source": [
                "![](data:image/png;base64,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)"
            ],
            "metadata": {
                "azdata_cell_guid": "f5b4756e-b9f2-4dbd-b033-485851ad04f7"
            },
            "attachments": {}
        }
    ]
}