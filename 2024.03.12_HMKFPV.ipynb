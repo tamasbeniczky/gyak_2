{
    "metadata": {
        "kernelspec": {
            "name": "SQL",
            "display_name": "SQL",
            "language": "sql"
        },
        "language_info": {
            "name": "sql",
            "version": ""
        }
    },
    "nbformat_minor": 2,
    "nbformat": 4,
    "cells": [
        {
            "cell_type": "markdown",
            "source": [
                "FELADAT\n",
                "\n",
                "- <span style=\"color: var(--vscode-foreground);\">Válassz ki egy olyan adatbázist a bit.uni-corvinus.hu-n, amelynek tartalmához hozzáférsz</span>\n",
                "- Az adatbázison belül válassz ki egy táblát!\n",
                "- Valósíts meg tipikus adatprofilozási lekérdezéseket a tábla legalább 2 oszlopára (min. 3 db / oszlop)!\n",
                "- Pl: NULL értékek száma, százalékos aránya, legkisebb/legnagyobb érték, kiugró értékek, min/max/átlag, értékek eloszlása stb.\n",
                "- A kapott eredményekhez diagramokat is készíthetsz\n",
                "- Az megoldást ide töltsd fel csatolva, vagy GitHub-ra a repo link megadásával (utóbbi esetben +5%)\n",
                "- A feladatot egyénileg kell megoldani!"
            ],
            "metadata": {
                "language": "sql",
                "azdata_cell_guid": "94f96f12-2ff2-48ce-809d-a4672de99b31"
            },
            "attachments": {}
        },
        {
            "cell_type": "markdown",
            "source": [
                "SZÁLLÁSHELY TÁBLA szallas\\_nev OSZLOPA"
            ],
            "metadata": {
                "language": "sql",
                "azdata_cell_guid": "0ad804b4-d941-4314-836f-6fecdb247c88"
            },
            "attachments": {}
        },
        {
            "cell_type": "code",
            "source": [
                "SELECT MIN(LEN(szallas_nev)) AS 'Legrövidebb név', \r\n",
                "       MAX(LEN(szallas_nev)) AS 'Leghosszabb név', \r\n",
                "       AVG(LEN(szallas_nev)) AS 'Átlag név hosszúság'\r\n",
                "\r\n",
                "FROM szallashely\r\n",
                "WHERE szallas_nev IS NOT NULL\r\n",
                "AND LEN(SZALLAS_NEV) > 0"
            ],
            "metadata": {
                "language": "sql",
                "azdata_cell_guid": "c08aaee7-de16-4720-937d-b58f2bdaf11d",
                "tags": [
                    "parameters"
                ]
            },
            "outputs": [
                {
                    "output_type": "display_data",
                    "data": {
                        "text/html": "(1 row affected)"
                    },
                    "metadata": {}
                },
                {
                    "output_type": "display_data",
                    "data": {
                        "text/html": "Total execution time: 00:00:00.014"
                    },
                    "metadata": {}
                },
                {
                    "output_type": "execute_result",
                    "metadata": {},
                    "execution_count": 28,
                    "data": {
                        "application/vnd.dataresource+json": {
                            "schema": {
                                "fields": [
                                    {
                                        "name": "Legrövidebb név"
                                    },
                                    {
                                        "name": "Leghosszabb név"
                                    },
                                    {
                                        "name": "Átlag név hosszúság"
                                    }
                                ]
                            },
                            "data": [
                                {
                                    "Legrövidebb név": "8",
                                    "Leghosszabb név": "20",
                                    "Átlag név hosszúság": "14"
                                }
                            ]
                        },
                        "text/html": [
                            "<table>",
                            "<tr><th>Legrövidebb név</th><th>Leghosszabb név</th><th>Átlag név hosszúság</th></tr>",
                            "<tr><td>8</td><td>20</td><td>14</td></tr>",
                            "</table>"
                        ]
                    }
                }
            ],
            "execution_count": 28
        },
        {
            "cell_type": "markdown",
            "source": [
                "![](data:image/png;base64,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)"
            ],
            "metadata": {
                "azdata_cell_guid": "b471daa1-6f81-447e-9f64-92afdb83b494"
            },
            "attachments": {}
        },
        {
            "cell_type": "markdown",
            "source": [
                ""
            ],
            "metadata": {
                "azdata_cell_guid": "b10299fd-3c58-4610-9a84-35785d87e171"
            }
        },
        {
            "cell_type": "code",
            "source": [
                "SELECT AVG(LEN(szallas_nev)) AS 'Átlag név hosszúság', \r\n",
                "       STDEV(LEN(szallas_nev)) AS 'Átlagtól eltérés', \r\n",
                "       VAR(LEN(szallas_nev)) AS 'Szórás'\r\n",
                "FROM szallashely\r\n",
                "WHERE szallas_nev IS NOT NULL\r\n",
                "AND LEN(SZALLAS_NEV) > 0"
            ],
            "metadata": {
                "azdata_cell_guid": "e48ba8d3-eb8e-4ff0-a456-cf44cd3d3ee3",
                "language": "sql",
                "tags": []
            },
            "outputs": [
                {
                    "output_type": "display_data",
                    "data": {
                        "text/html": "(1 row affected)"
                    },
                    "metadata": {}
                },
                {
                    "output_type": "display_data",
                    "data": {
                        "text/html": "Total execution time: 00:00:00.031"
                    },
                    "metadata": {}
                },
                {
                    "output_type": "execute_result",
                    "metadata": {},
                    "execution_count": 29,
                    "data": {
                        "application/vnd.dataresource+json": {
                            "schema": {
                                "fields": [
                                    {
                                        "name": "Átlag név hosszúság"
                                    },
                                    {
                                        "name": "Átlagtól eltérés"
                                    },
                                    {
                                        "name": "Szórás"
                                    }
                                ]
                            },
                            "data": [
                                {
                                    "Átlag név hosszúság": "14",
                                    "Átlagtól eltérés": "3,2630689615175217",
                                    "Szórás": "10,647619047619036"
                                }
                            ]
                        },
                        "text/html": [
                            "<table>",
                            "<tr><th>Átlag név hosszúság</th><th>Átlagtól eltérés</th><th>Szórás</th></tr>",
                            "<tr><td>14</td><td>3,2630689615175217</td><td>10,647619047619036</td></tr>",
                            "</table>"
                        ]
                    }
                }
            ],
            "execution_count": 29
        },
        {
            "cell_type": "code",
            "source": [
                "SELECT row_type, \r\n",
                "    SUM(row_count) AS 'row_count'\r\n",
                "FROM\r\n",
                "    (SELECT \r\n",
                "        CASE WHEN [value] IS NULL then 'NULL'\r\n",
                "            WHEN row_count = 1 then 'Egyedi érték'\r\n",
                "            ELSE 'Nem egyedi érték' \r\n",
                "            END AS row_type,\r\n",
                "        row_count\r\n",
                "    FROM (\r\n",
                "        SELECT SZALLAS_NEV [value], \r\n",
                "            COUNT(*) row_count\r\n",
                "        FROM szallashely\r\n",
                "        GROUP BY SZALLAS_NEV) X) Y\r\n",
                "GROUP BY row_type"
            ],
            "metadata": {
                "language": "sql",
                "azdata_cell_guid": "636fa994-f6a2-4c07-b962-a7b76f230c8e"
            },
            "outputs": [
                {
                    "output_type": "display_data",
                    "data": {
                        "text/html": "(2 rows affected)"
                    },
                    "metadata": {}
                },
                {
                    "output_type": "display_data",
                    "data": {
                        "text/html": "Total execution time: 00:00:00.026"
                    },
                    "metadata": {}
                },
                {
                    "output_type": "execute_result",
                    "metadata": {},
                    "execution_count": 39,
                    "data": {
                        "application/vnd.dataresource+json": {
                            "schema": {
                                "fields": [
                                    {
                                        "name": "row_type"
                                    },
                                    {
                                        "name": "row_count"
                                    }
                                ]
                            },
                            "data": [
                                {
                                    "row_type": "Non Unique",
                                    "row_count": "6"
                                },
                                {
                                    "row_type": "Unique",
                                    "row_count": "15"
                                }
                            ]
                        },
                        "text/html": [
                            "<table>",
                            "<tr><th>row_type</th><th>row_count</th></tr>",
                            "<tr><td>Non Unique</td><td>6</td></tr>",
                            "<tr><td>Unique</td><td>15</td></tr>",
                            "</table>"
                        ]
                    }
                }
            ],
            "execution_count": 39
        },
        {
            "cell_type": "markdown",
            "source": [
                "![](data:image/png;base64,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)"
            ],
            "metadata": {
                "language": "sql",
                "azdata_cell_guid": "4f1f5e82-056c-4dd1-b21e-906004d3e4ef"
            },
            "attachments": {}
        },
        {
            "cell_type": "markdown",
            "source": [
                "SZÁLLÁSHELY TÁBLA csillagok\\_szama OSZLOPA"
            ],
            "metadata": {
                "language": "sql",
                "azdata_cell_guid": "9e9e3d1e-f817-421b-a55b-fdde427799c0"
            },
            "attachments": {}
        },
        {
            "cell_type": "code",
            "source": [
                "DECLARE \r\n",
                "@min int = 2,\r\n",
                "@max int = 4;   \r\n",
                "\r\n",
                "SELECT \r\n",
                "    SUM(CASE WHEN CSILLAGOK_SZAMA < @min THEN 1 ELSE 0 end) AS '2* alatt',\r\n",
                "    SUM(CASE WHEN CSILLAGOK_SZAMA BETWEEN @min and @max THEN 1 ELSE 0 end) AS '2* és 4* között',\r\n",
                "    SUM(CASE WHEN CSILLAGOK_SZAMA > @max THEN 1 ELSE 0 end) AS '4* felett'\r\n",
                "FROM szallashely"
            ],
            "metadata": {
                "language": "sql",
                "azdata_cell_guid": "dd98c763-82ec-45eb-8248-048588867093"
            },
            "outputs": [
                {
                    "output_type": "display_data",
                    "data": {
                        "text/html": "(1 row affected)"
                    },
                    "metadata": {}
                },
                {
                    "output_type": "display_data",
                    "data": {
                        "text/html": "Total execution time: 00:00:00.015"
                    },
                    "metadata": {}
                },
                {
                    "output_type": "execute_result",
                    "metadata": {},
                    "execution_count": 33,
                    "data": {
                        "application/vnd.dataresource+json": {
                            "schema": {
                                "fields": [
                                    {
                                        "name": "2* alatt"
                                    },
                                    {
                                        "name": "2* és 4* között"
                                    },
                                    {
                                        "name": "4* felett"
                                    }
                                ]
                            },
                            "data": [
                                {
                                    "2* alatt": "10",
                                    "2* és 4* között": "11",
                                    "4* felett": "0"
                                }
                            ]
                        },
                        "text/html": [
                            "<table>",
                            "<tr><th>2* alatt</th><th>2* és 4* között</th><th>4* felett</th></tr>",
                            "<tr><td>10</td><td>11</td><td>0</td></tr>",
                            "</table>"
                        ]
                    }
                }
            ],
            "execution_count": 33
        },
        {
            "cell_type": "markdown",
            "source": [
                "![](data:image/png;base64,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)"
            ],
            "metadata": {
                "azdata_cell_guid": "f6aa434a-4609-4cc9-a322-6ef094843a34"
            },
            "attachments": {}
        },
        {
            "cell_type": "code",
            "source": [
                "SELECT AVG(CSILLAGOK_SZAMA) AS 'Átlag értékelés',\r\n",
                "        MIN(CSILLAGOK_SZAMA) AS 'Legkisebb értékelés',\r\n",
                "        MAX(CSILLAGOK_SZAMA) AS 'Legnagyobb értékelés'\r\n",
                "FROM Szallashely\r\n",
                ""
            ],
            "metadata": {
                "language": "sql",
                "azdata_cell_guid": "21b4ed27-8f3b-4fc1-b30c-2d2b9a92e2f8"
            },
            "outputs": [
                {
                    "output_type": "display_data",
                    "data": {
                        "text/html": "(1 row affected)"
                    },
                    "metadata": {}
                },
                {
                    "output_type": "display_data",
                    "data": {
                        "text/html": "Total execution time: 00:00:00.010"
                    },
                    "metadata": {}
                },
                {
                    "output_type": "execute_result",
                    "metadata": {},
                    "execution_count": 26,
                    "data": {
                        "application/vnd.dataresource+json": {
                            "schema": {
                                "fields": [
                                    {
                                        "name": "Átlag értékelés"
                                    },
                                    {
                                        "name": "Legkisebb értékelés"
                                    },
                                    {
                                        "name": "Legnagyobb értékelés"
                                    }
                                ]
                            },
                            "data": [
                                {
                                    "Átlag értékelés": "1",
                                    "Legkisebb értékelés": "0",
                                    "Legnagyobb értékelés": "4"
                                }
                            ]
                        },
                        "text/html": [
                            "<table>",
                            "<tr><th>Átlag értékelés</th><th>Legkisebb értékelés</th><th>Legnagyobb értékelés</th></tr>",
                            "<tr><td>1</td><td>0</td><td>4</td></tr>",
                            "</table>"
                        ]
                    }
                }
            ],
            "execution_count": 26
        },
        {
            "cell_type": "markdown",
            "source": [
                "![](data:image/png;base64,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)"
            ],
            "metadata": {
                "language": "sql",
                "azdata_cell_guid": "eb825852-eaf2-4465-9caa-28b78878148f"
            },
            "attachments": {}
        },
        {
            "cell_type": "code",
            "source": [
                "SELECT  STDEV(CSILLAGOK_SZAMA) AS 'Átlagtól eltérés', \r\n",
                "        VAR(CSILLAGOK_SZAMA) AS 'Szórás'\r\n",
                "FROM Szallashely"
            ],
            "metadata": {
                "language": "sql",
                "azdata_cell_guid": "9f71f0f0-afd2-4c66-b0df-cb858b618ce5"
            },
            "outputs": [
                {
                    "output_type": "display_data",
                    "data": {
                        "text/html": "(1 row affected)"
                    },
                    "metadata": {}
                },
                {
                    "output_type": "display_data",
                    "data": {
                        "text/html": "Total execution time: 00:00:00.013"
                    },
                    "metadata": {}
                },
                {
                    "output_type": "execute_result",
                    "metadata": {},
                    "execution_count": 27,
                    "data": {
                        "application/vnd.dataresource+json": {
                            "schema": {
                                "fields": [
                                    {
                                        "name": "Átlagtól eltérés"
                                    },
                                    {
                                        "name": "Szórás"
                                    }
                                ]
                            },
                            "data": [
                                {
                                    "Átlagtól eltérés": "1,7071279138616748",
                                    "Szórás": "2,914285714285714"
                                }
                            ]
                        },
                        "text/html": [
                            "<table>",
                            "<tr><th>Átlagtól eltérés</th><th>Szórás</th></tr>",
                            "<tr><td>1,7071279138616748</td><td>2,914285714285714</td></tr>",
                            "</table>"
                        ]
                    }
                }
            ],
            "execution_count": 27
        },
        {
            "cell_type": "markdown",
            "source": [
                "SZÁLLÁSHELY TÁBLA RÖGZ\\_IDŐ OSZLOPA"
            ],
            "metadata": {
                "language": "sql",
                "azdata_cell_guid": "1f555c2a-e6a3-4f2e-b7c7-bcf492281f4d"
            },
            "attachments": {}
        },
        {
            "cell_type": "code",
            "source": [
                "SELECT row_type, \r\n",
                "    SUM(row_count) AS 'row_count'\r\n",
                "FROM\r\n",
                "    (SELECT \r\n",
                "        CASE WHEN [value] IS NULL then 'NULL'\r\n",
                "            WHEN row_count = 1 then 'Egyedi érték'\r\n",
                "            ELSE 'Nem egyedi érték' \r\n",
                "            END AS row_type,\r\n",
                "        row_count\r\n",
                "    FROM (\r\n",
                "        SELECT ROGZ_IDO [value], \r\n",
                "            COUNT(*) row_count\r\n",
                "        FROM szallashely\r\n",
                "        GROUP BY ROGZ_IDO) X) Y\r\n",
                "GROUP BY row_type"
            ],
            "metadata": {
                "language": "sql",
                "azdata_cell_guid": "605ce2ed-0210-4914-ba34-cec514b1ff00"
            },
            "outputs": [
                {
                    "output_type": "display_data",
                    "data": {
                        "text/html": "(2 rows affected)"
                    },
                    "metadata": {}
                },
                {
                    "output_type": "display_data",
                    "data": {
                        "text/html": "Total execution time: 00:00:00.030"
                    },
                    "metadata": {}
                },
                {
                    "output_type": "execute_result",
                    "metadata": {},
                    "execution_count": 37,
                    "data": {
                        "application/vnd.dataresource+json": {
                            "schema": {
                                "fields": [
                                    {
                                        "name": "row_type"
                                    },
                                    {
                                        "name": "row_count"
                                    }
                                ]
                            },
                            "data": [
                                {
                                    "row_type": "Non Unique",
                                    "row_count": "8"
                                },
                                {
                                    "row_type": "Unique",
                                    "row_count": "13"
                                }
                            ]
                        },
                        "text/html": [
                            "<table>",
                            "<tr><th>row_type</th><th>row_count</th></tr>",
                            "<tr><td>Non Unique</td><td>8</td></tr>",
                            "<tr><td>Unique</td><td>13</td></tr>",
                            "</table>"
                        ]
                    }
                }
            ],
            "execution_count": 37
        },
        {
            "cell_type": "markdown",
            "source": [
                "![](data:image/png;base64,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)"
            ],
            "metadata": {
                "azdata_cell_guid": "f5b4756e-b9f2-4dbd-b033-485851ad04f7"
            },
            "attachments": {}
        },
        {
            "cell_type": "code",
            "source": [
                "SELECT row_type,\r\n",
                "    COUNT(*) row_count\r\n",
                "FROM \r\n",
                "    (SELECT \r\n",
                "        CASE WHEN ROGZ_IDO IS NULL THEN 'Null'\r\n",
                "            ELSE 'Nem üres' \r\n",
                "            END AS row_type\r\n",
                "        FROM szallashely) rows\r\n",
                "GROUP BY row_type"
            ],
            "metadata": {
                "azdata_cell_guid": "9f18d801-be64-4394-99e0-f413e0c4e855",
                "language": "sql"
            },
            "outputs": [
                {
                    "output_type": "display_data",
                    "data": {
                        "text/html": "(1 row affected)"
                    },
                    "metadata": {}
                },
                {
                    "output_type": "display_data",
                    "data": {
                        "text/html": "Total execution time: 00:00:00.028"
                    },
                    "metadata": {}
                },
                {
                    "output_type": "execute_result",
                    "metadata": {},
                    "execution_count": 42,
                    "data": {
                        "application/vnd.dataresource+json": {
                            "schema": {
                                "fields": [
                                    {
                                        "name": "row_type"
                                    },
                                    {
                                        "name": "row_count"
                                    }
                                ]
                            },
                            "data": [
                                {
                                    "row_type": "Nem üres",
                                    "row_count": "21"
                                }
                            ]
                        },
                        "text/html": [
                            "<table>",
                            "<tr><th>row_type</th><th>row_count</th></tr>",
                            "<tr><td>Nem üres</td><td>21</td></tr>",
                            "</table>"
                        ]
                    }
                }
            ],
            "execution_count": 42
        },
        {
            "cell_type": "code",
            "source": [
                "SELECT MIN(ROGZ_IDO) as 'Legkorábban rögzített',\r\n",
                "        MAX(ROGZ_IDO) as 'Legkésőbb rögzített'\r\n",
                "FROM szallashely"
            ],
            "metadata": {
                "azdata_cell_guid": "020e65ed-7b52-4d08-abe7-daf96fa75f8b",
                "language": "sql"
            },
            "outputs": [
                {
                    "output_type": "display_data",
                    "data": {
                        "text/html": "(1 row affected)"
                    },
                    "metadata": {}
                },
                {
                    "output_type": "display_data",
                    "data": {
                        "text/html": "Total execution time: 00:00:00.008"
                    },
                    "metadata": {}
                },
                {
                    "output_type": "execute_result",
                    "metadata": {},
                    "execution_count": 41,
                    "data": {
                        "application/vnd.dataresource+json": {
                            "schema": {
                                "fields": [
                                    {
                                        "name": "Legkorábban rögzített"
                                    },
                                    {
                                        "name": "Legkésőbb rögzített"
                                    }
                                ]
                            },
                            "data": [
                                {
                                    "Legkorábban rögzített": "2016-02-28",
                                    "Legkésőbb rögzített": "2016-04-07"
                                }
                            ]
                        },
                        "text/html": [
                            "<table>",
                            "<tr><th>Legkorábban rögzített</th><th>Legkésőbb rögzített</th></tr>",
                            "<tr><td>2016-02-28</td><td>2016-04-07</td></tr>",
                            "</table>"
                        ]
                    }
                }
            ],
            "execution_count": 41
        },
        {
            "cell_type": "code",
            "source": [
                "SELECT*\r\n",
                "from szallashely\r\n",
                ""
            ],
            "metadata": {
                "azdata_cell_guid": "709077d2-1fbc-4446-b519-abf2bbaa08ff",
                "language": "sql"
            },
            "outputs": [
                {
                    "output_type": "display_data",
                    "data": {
                        "text/html": "(21 rows affected)"
                    },
                    "metadata": {}
                },
                {
                    "output_type": "display_data",
                    "data": {
                        "text/html": "Total execution time: 00:00:00.082"
                    },
                    "metadata": {}
                },
                {
                    "output_type": "execute_result",
                    "metadata": {},
                    "execution_count": 16,
                    "data": {
                        "application/vnd.dataresource+json": {
                            "schema": {
                                "fields": [
                                    {
                                        "name": "SZALLAS_ID"
                                    },
                                    {
                                        "name": "SZALLAS_NEV"
                                    },
                                    {
                                        "name": "HELY"
                                    },
                                    {
                                        "name": "CSILLAGOK_SZAMA"
                                    },
                                    {
                                        "name": "TIPUS"
                                    },
                                    {
                                        "name": "ROGZITETTE"
                                    },
                                    {
                                        "name": "ROGZ_IDO"
                                    },
                                    {
                                        "name": "CIM"
                                    }
                                ]
                            },
                            "data": [
                                {
                                    "SZALLAS_ID": "1",
                                    "SZALLAS_NEV": "Sába-Ház",
                                    "HELY": "Balaton-dél",
                                    "CSILLAGOK_SZAMA": "0",
                                    "TIPUS": "vendégház",
                                    "ROGZITETTE": "Béla",
                                    "ROGZ_IDO": "2016-02-28",
                                    "CIM": "8630 Balatonboglár, Radnóti Miklós utca 8"
                                },
                                {
                                    "SZALLAS_ID": "2",
                                    "SZALLAS_NEV": "Családi Ház",
                                    "HELY": "Balaton-dél",
                                    "CSILLAGOK_SZAMA": "0",
                                    "TIPUS": "vendégház",
                                    "ROGZITETTE": "Béla",
                                    "ROGZ_IDO": "2016-03-02",
                                    "CIM": "8630 Balatonboglár, József Attila utca 25"
                                },
                                {
                                    "SZALLAS_ID": "3",
                                    "SZALLAS_NEV": "Fortuna Apartman",
                                    "HELY": "Hajdúbihar megye",
                                    "CSILLAGOK_SZAMA": "0",
                                    "TIPUS": "Apartman",
                                    "ROGZITETTE": "Sára",
                                    "ROGZ_IDO": "2016-03-06",
                                    "CIM": "4200 Hajdúszoboszló, Wesselényi utca 56."
                                },
                                {
                                    "SZALLAS_ID": "4",
                                    "SZALLAS_NEV": "Fortuna panzió",
                                    "HELY": "Budapest",
                                    "CSILLAGOK_SZAMA": "3",
                                    "TIPUS": "panzió",
                                    "ROGZITETTE": "Béla",
                                    "ROGZ_IDO": "2016-03-07",
                                    "CIM": "1019 Budapest XIV. Cinkotai út 86."
                                },
                                {
                                    "SZALLAS_ID": "5",
                                    "SZALLAS_NEV": "Fortuna Panzió",
                                    "HELY": "Békés megye",
                                    "CSILLAGOK_SZAMA": "3",
                                    "TIPUS": "panzió",
                                    "ROGZITETTE": "Sára",
                                    "ROGZ_IDO": "2016-03-08",
                                    "CIM": "5900 Orosháza, Gyopárosfürdő Tópart utca 3."
                                },
                                {
                                    "SZALLAS_ID": "6",
                                    "SZALLAS_NEV": "Kentaur Hotel",
                                    "HELY": "Balaton-dél",
                                    "CSILLAGOK_SZAMA": "3",
                                    "TIPUS": "Hotel",
                                    "ROGZITETTE": "Béla",
                                    "ROGZ_IDO": "2016-03-08",
                                    "CIM": "8600 Siófok (Széplak), Akácfa utca 1"
                                },
                                {
                                    "SZALLAS_ID": "7",
                                    "SZALLAS_NEV": "Szieszta Apartmanház",
                                    "HELY": "Balaton-dél",
                                    "CSILLAGOK_SZAMA": "0",
                                    "TIPUS": "Apartman",
                                    "ROGZITETTE": "Mari",
                                    "ROGZ_IDO": "2016-03-11",
                                    "CIM": "8630 Balatonboglár, Dózsa György utca 108"
                                },
                                {
                                    "SZALLAS_ID": "8",
                                    "SZALLAS_NEV": "Hotel Három Hattyú",
                                    "HELY": "Balaton-dél",
                                    "CSILLAGOK_SZAMA": "4",
                                    "TIPUS": "Hotel",
                                    "ROGZITETTE": "Béla",
                                    "ROGZ_IDO": "2016-03-13",
                                    "CIM": "8623 Balatonföldvár, Rákóczi Ferenc út 45."
                                },
                                {
                                    "SZALLAS_ID": "9",
                                    "SZALLAS_NEV": "Jáde panzió",
                                    "HELY": "Balaton-dél",
                                    "CSILLAGOK_SZAMA": "3",
                                    "TIPUS": "panzió",
                                    "ROGZITETTE": "Mari",
                                    "ROGZ_IDO": "2016-03-16",
                                    "CIM": "8624 Balatonföldvár, Kiss u.2."
                                },
                                {
                                    "SZALLAS_ID": "10",
                                    "SZALLAS_NEV": "Lagúna Hotel",
                                    "HELY": "Budapest",
                                    "CSILLAGOK_SZAMA": "4",
                                    "TIPUS": "Hotel",
                                    "ROGZITETTE": "Sára",
                                    "ROGZ_IDO": "2016-03-20",
                                    "CIM": "1097 Budapest, Albert Flórián út 3"
                                },
                                {
                                    "SZALLAS_ID": "11",
                                    "SZALLAS_NEV": "Partiszél Vendégház",
                                    "HELY": "Balaton-észak",
                                    "CSILLAGOK_SZAMA": "0",
                                    "TIPUS": "vendégház",
                                    "ROGZITETTE": "Béla",
                                    "ROGZ_IDO": "2016-03-22",
                                    "CIM": "8220 Balatonalmádi Neptun u. 23."
                                },
                                {
                                    "SZALLAS_ID": "12",
                                    "SZALLAS_NEV": "Gold Hotel",
                                    "HELY": "Budapest",
                                    "CSILLAGOK_SZAMA": "3",
                                    "TIPUS": "Hotel",
                                    "ROGZITETTE": "Béla",
                                    "ROGZ_IDO": "2016-03-24",
                                    "CIM": "1016 Budapest, Hegyalja út 12"
                                },
                                {
                                    "SZALLAS_ID": "13",
                                    "SZALLAS_NEV": "Riviéra Panzió",
                                    "HELY": "Csongrád megye",
                                    "CSILLAGOK_SZAMA": "3",
                                    "TIPUS": "panzió",
                                    "ROGZITETTE": "Sára",
                                    "ROGZ_IDO": "2016-03-27",
                                    "CIM": "6722 Szeged, Petőfi Sándor út 3."
                                },
                                {
                                    "SZALLAS_ID": "14",
                                    "SZALLAS_NEV": "Nyárfás Vendégház",
                                    "HELY": "Csongrád megye",
                                    "CSILLAGOK_SZAMA": "0",
                                    "TIPUS": "vendégház",
                                    "ROGZITETTE": "Béla",
                                    "ROGZ_IDO": "2016-03-27",
                                    "CIM": "6723 Szeged, Nagy u. 12."
                                },
                                {
                                    "SZALLAS_ID": "15",
                                    "SZALLAS_NEV": "Tímárház Panzió",
                                    "HELY": "Balaton-dél",
                                    "CSILLAGOK_SZAMA": "3",
                                    "TIPUS": "panzió",
                                    "ROGZITETTE": "Béla",
                                    "ROGZ_IDO": "2016-03-29",
                                    "CIM": "8600 Siófok, Virág utca 1"
                                },
                                {
                                    "SZALLAS_ID": "16",
                                    "SZALLAS_NEV": "Bagoly Hotel",
                                    "HELY": "Pest megye",
                                    "CSILLAGOK_SZAMA": "3",
                                    "TIPUS": "Hotel",
                                    "ROGZITETTE": "Mari",
                                    "ROGZ_IDO": "2016-04-01",
                                    "CIM": "2230 Gyömrő, Bergszász u. 5."
                                },
                                {
                                    "SZALLAS_ID": "17",
                                    "SZALLAS_NEV": "Szarvas Hotel",
                                    "HELY": "Tolna megye",
                                    "CSILLAGOK_SZAMA": "4",
                                    "TIPUS": "Hotel",
                                    "ROGZITETTE": "Béla",
                                    "ROGZ_IDO": "2016-04-04",
                                    "CIM": "7121 Szálka, Petőfi Sándor u."
                                },
                                {
                                    "SZALLAS_ID": "18",
                                    "SZALLAS_NEV": "Fortuna Apartman",
                                    "HELY": "Dél-Somogy",
                                    "CSILLAGOK_SZAMA": "0",
                                    "TIPUS": "Apartman",
                                    "ROGZITETTE": "Béla",
                                    "ROGZ_IDO": "2016-04-07",
                                    "CIM": "7570 Barcs, Kossuth u. 13."
                                },
                                {
                                    "SZALLAS_ID": "19",
                                    "SZALLAS_NEV": "Nyárfás Vendégház",
                                    "HELY": "Dél-Somogy",
                                    "CSILLAGOK_SZAMA": "0",
                                    "TIPUS": "vendégház",
                                    "ROGZITETTE": "Sára",
                                    "ROGZ_IDO": "2016-04-07",
                                    "CIM": "7570 Barcs, Bajcsy-Zs. u. 53"
                                },
                                {
                                    "SZALLAS_ID": "20",
                                    "SZALLAS_NEV": "Kollégium",
                                    "HELY": "Budapest",
                                    "CSILLAGOK_SZAMA": "0",
                                    "TIPUS": "Diákszálló",
                                    "ROGZITETTE": "Sára",
                                    "ROGZ_IDO": "2016-04-07",
                                    "CIM": "1146 Budapest, Ajtósi Dürer sor 23."
                                },
                                {
                                    "SZALLAS_ID": "21",
                                    "SZALLAS_NEV": "Müller Vendégház",
                                    "HELY": "Dél-Somogy",
                                    "CSILLAGOK_SZAMA": "0",
                                    "TIPUS": "vendégház",
                                    "ROGZITETTE": "Béla",
                                    "ROGZ_IDO": "2016-04-07",
                                    "CIM": "7570 Barcs, Magyar u. 10."
                                }
                            ]
                        },
                        "text/html": [
                            "<table>",
                            "<tr><th>SZALLAS_ID</th><th>SZALLAS_NEV</th><th>HELY</th><th>CSILLAGOK_SZAMA</th><th>TIPUS</th><th>ROGZITETTE</th><th>ROGZ_IDO</th><th>CIM</th></tr>",
                            "<tr><td>1</td><td>Sába-Ház</td><td>Balaton-dél</td><td>0</td><td>vendégház</td><td>Béla</td><td>2016-02-28</td><td>8630 Balatonboglár, Radnóti Miklós utca 8</td></tr>",
                            "<tr><td>2</td><td>Családi Ház</td><td>Balaton-dél</td><td>0</td><td>vendégház</td><td>Béla</td><td>2016-03-02</td><td>8630 Balatonboglár, József Attila utca 25</td></tr>",
                            "<tr><td>3</td><td>Fortuna Apartman</td><td>Hajdúbihar megye</td><td>0</td><td>Apartman</td><td>Sára</td><td>2016-03-06</td><td>4200 Hajdúszoboszló, Wesselényi utca 56.</td></tr>",
                            "<tr><td>4</td><td>Fortuna panzió</td><td>Budapest</td><td>3</td><td>panzió</td><td>Béla</td><td>2016-03-07</td><td>1019 Budapest XIV. Cinkotai út 86.</td></tr>",
                            "<tr><td>5</td><td>Fortuna Panzió</td><td>Békés megye</td><td>3</td><td>panzió</td><td>Sára</td><td>2016-03-08</td><td>5900 Orosháza, Gyopárosfürdő Tópart utca 3.</td></tr>",
                            "<tr><td>6</td><td>Kentaur Hotel</td><td>Balaton-dél</td><td>3</td><td>Hotel</td><td>Béla</td><td>2016-03-08</td><td>8600 Siófok (Széplak), Akácfa utca 1</td></tr>",
                            "<tr><td>7</td><td>Szieszta Apartmanház</td><td>Balaton-dél</td><td>0</td><td>Apartman</td><td>Mari</td><td>2016-03-11</td><td>8630 Balatonboglár, Dózsa György utca 108</td></tr>",
                            "<tr><td>8</td><td>Hotel Három Hattyú</td><td>Balaton-dél</td><td>4</td><td>Hotel</td><td>Béla</td><td>2016-03-13</td><td>8623 Balatonföldvár, Rákóczi Ferenc út 45.</td></tr>",
                            "<tr><td>9</td><td>Jáde panzió</td><td>Balaton-dél</td><td>3</td><td>panzió</td><td>Mari</td><td>2016-03-16</td><td>8624 Balatonföldvár, Kiss u.2.</td></tr>",
                            "<tr><td>10</td><td>Lagúna Hotel</td><td>Budapest</td><td>4</td><td>Hotel</td><td>Sára</td><td>2016-03-20</td><td>1097 Budapest, Albert Flórián út 3</td></tr>",
                            "<tr><td>11</td><td>Partiszél Vendégház</td><td>Balaton-észak</td><td>0</td><td>vendégház</td><td>Béla</td><td>2016-03-22</td><td>8220 Balatonalmádi Neptun u. 23.</td></tr>",
                            "<tr><td>12</td><td>Gold Hotel</td><td>Budapest</td><td>3</td><td>Hotel</td><td>Béla</td><td>2016-03-24</td><td>1016 Budapest, Hegyalja út 12</td></tr>",
                            "<tr><td>13</td><td>Riviéra Panzió</td><td>Csongrád megye</td><td>3</td><td>panzió</td><td>Sára</td><td>2016-03-27</td><td>6722 Szeged, Petőfi Sándor út 3.</td></tr>",
                            "<tr><td>14</td><td>Nyárfás Vendégház</td><td>Csongrád megye</td><td>0</td><td>vendégház</td><td>Béla</td><td>2016-03-27</td><td>6723 Szeged, Nagy u. 12.</td></tr>",
                            "<tr><td>15</td><td>Tímárház Panzió</td><td>Balaton-dél</td><td>3</td><td>panzió</td><td>Béla</td><td>2016-03-29</td><td>8600 Siófok, Virág utca 1</td></tr>",
                            "<tr><td>16</td><td>Bagoly Hotel</td><td>Pest megye</td><td>3</td><td>Hotel</td><td>Mari</td><td>2016-04-01</td><td>2230 Gyömrő, Bergszász u. 5.</td></tr>",
                            "<tr><td>17</td><td>Szarvas Hotel</td><td>Tolna megye</td><td>4</td><td>Hotel</td><td>Béla</td><td>2016-04-04</td><td>7121 Szálka, Petőfi Sándor u.</td></tr>",
                            "<tr><td>18</td><td>Fortuna Apartman</td><td>Dél-Somogy</td><td>0</td><td>Apartman</td><td>Béla</td><td>2016-04-07</td><td>7570 Barcs, Kossuth u. 13.</td></tr>",
                            "<tr><td>19</td><td>Nyárfás Vendégház</td><td>Dél-Somogy</td><td>0</td><td>vendégház</td><td>Sára</td><td>2016-04-07</td><td>7570 Barcs, Bajcsy-Zs. u. 53</td></tr>",
                            "<tr><td>20</td><td>Kollégium</td><td>Budapest</td><td>0</td><td>Diákszálló</td><td>Sára</td><td>2016-04-07</td><td>1146 Budapest, Ajtósi Dürer sor 23.</td></tr>",
                            "<tr><td>21</td><td>Müller Vendégház</td><td>Dél-Somogy</td><td>0</td><td>vendégház</td><td>Béla</td><td>2016-04-07</td><td>7570 Barcs, Magyar u. 10.</td></tr>",
                            "</table>"
                        ]
                    }
                }
            ],
            "execution_count": 16
        }
    ]
}