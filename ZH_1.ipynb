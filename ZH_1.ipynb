{
    "metadata": {
        "kernelspec": {
            "name": "SQL",
            "display_name": "SQL",
            "language": "sql"
        },
        "language_info": {
            "name": "sql",
            "version": ""
        }
    },
    "nbformat_minor": 2,
    "nbformat": 4,
    "cells": [
        {
            "cell_type": "markdown",
            "source": [
                "HMKFPV"
            ],
            "metadata": {
                "azdata_cell_guid": "77beabe6-e535-4eec-a00f-3fa1d53e74cf"
            },
            "attachments": {}
        },
        {
            "cell_type": "code",
            "source": [
                "SELECT rogzitette as 'név',\r\n",
                "        szallas_nev as 'szállás neve',\r\n",
                "        CIM as 'cim'\r\n",
                "FROM szallashely\r\n",
                "where MONTH(ROGZ_IDO) = 3 AND hely LIKE '%Balaton%'\r\n",
                "ORDER BY CSILLAGOK_SZAMA DESC"
            ],
            "metadata": {
                "azdata_cell_guid": "9eb5231d-ee57-444a-a252-5ed13e5d13d3",
                "language": "sql"
            },
            "outputs": [
                {
                    "output_type": "display_data",
                    "data": {
                        "text/html": "(7 rows affected)"
                    },
                    "metadata": {}
                },
                {
                    "output_type": "display_data",
                    "data": {
                        "text/html": "Total execution time: 00:00:00.005"
                    },
                    "metadata": {}
                },
                {
                    "output_type": "execute_result",
                    "metadata": {},
                    "execution_count": 19,
                    "data": {
                        "application/vnd.dataresource+json": {
                            "schema": {
                                "fields": [
                                    {
                                        "name": "név"
                                    },
                                    {
                                        "name": "szállás neve"
                                    },
                                    {
                                        "name": "cim"
                                    }
                                ]
                            },
                            "data": [
                                {
                                    "név": "Béla",
                                    "szállás neve": "Hotel Három Hattyú",
                                    "cim": "8623 Balatonföldvár, Rákóczi Ferenc út 45."
                                },
                                {
                                    "név": "Mari",
                                    "szállás neve": "Jáde panzió",
                                    "cim": "8624 Balatonföldvár, Kiss u.2."
                                },
                                {
                                    "név": "Béla",
                                    "szállás neve": "Kentaur Hotel",
                                    "cim": "8600 Siófok (Széplak), Akácfa utca 1"
                                },
                                {
                                    "név": "Béla",
                                    "szállás neve": "Tímárház Panzió",
                                    "cim": "8600 Siófok, Virág utca 1"
                                },
                                {
                                    "név": "Béla",
                                    "szállás neve": "Családi Ház",
                                    "cim": "8630 Balatonboglár, József Attila utca 25"
                                },
                                {
                                    "név": "Mari",
                                    "szállás neve": "Szieszta Apartmanház",
                                    "cim": "8630 Balatonboglár, Dózsa György utca 108"
                                },
                                {
                                    "név": "Béla",
                                    "szállás neve": "Partiszél Vendégház",
                                    "cim": "8220 Balatonalmádi Neptun u. 23."
                                }
                            ]
                        },
                        "text/html": [
                            "<table>",
                            "<tr><th>név</th><th>szállás neve</th><th>cim</th></tr>",
                            "<tr><td>Béla</td><td>Hotel Három Hattyú</td><td>8623 Balatonföldvár, Rákóczi Ferenc út 45.</td></tr>",
                            "<tr><td>Mari</td><td>Jáde panzió</td><td>8624 Balatonföldvár, Kiss u.2.</td></tr>",
                            "<tr><td>Béla</td><td>Kentaur Hotel</td><td>8600 Siófok (Széplak), Akácfa utca 1</td></tr>",
                            "<tr><td>Béla</td><td>Tímárház Panzió</td><td>8600 Siófok, Virág utca 1</td></tr>",
                            "<tr><td>Béla</td><td>Családi Ház</td><td>8630 Balatonboglár, József Attila utca 25</td></tr>",
                            "<tr><td>Mari</td><td>Szieszta Apartmanház</td><td>8630 Balatonboglár, Dózsa György utca 108</td></tr>",
                            "<tr><td>Béla</td><td>Partiszél Vendégház</td><td>8220 Balatonalmádi Neptun u. 23.</td></tr>",
                            "</table>"
                        ]
                    }
                }
            ],
            "execution_count": 19
        },
        {
            "cell_type": "code",
            "source": [
                "SELECT tipus as 'Szállás tipus',\r\n",
                "        ROUND(AVG(CSILLAGOK_SZAMA),0) as 'Kerekített átlag'\r\n",
                "FROM szallashely\r\n",
                "where tipus <> 'panzió' \r\n",
                "GROUP BY tipus\r\n",
                "HAVING ROUND(AVG(CSILLAGOK_SZAMA),0) >= 3\r\n",
                ""
            ],
            "metadata": {
                "language": "sql",
                "azdata_cell_guid": "9823365a-2088-4a3a-a345-3c542679554d"
            },
            "outputs": [
                {
                    "output_type": "display_data",
                    "data": {
                        "text/html": "(1 row affected)"
                    },
                    "metadata": {}
                },
                {
                    "output_type": "display_data",
                    "data": {
                        "text/html": "Total execution time: 00:00:00.008"
                    },
                    "metadata": {}
                },
                {
                    "output_type": "execute_result",
                    "metadata": {},
                    "execution_count": 38,
                    "data": {
                        "application/vnd.dataresource+json": {
                            "schema": {
                                "fields": [
                                    {
                                        "name": "Szállás tipus"
                                    },
                                    {
                                        "name": "Kerekített átlag"
                                    }
                                ]
                            },
                            "data": [
                                {
                                    "Szállás tipus": "Hotel",
                                    "Kerekített átlag": "3"
                                }
                            ]
                        },
                        "text/html": [
                            "<table>",
                            "<tr><th>Szállás tipus</th><th>Kerekített átlag</th></tr>",
                            "<tr><td>Hotel</td><td>3</td></tr>",
                            "</table>"
                        ]
                    }
                }
            ],
            "execution_count": 38
        },
        {
            "cell_type": "code",
            "source": [
                ""
            ],
            "metadata": {
                "azdata_cell_guid": "9a18b123-ae8f-4ea9-9281-5a34b3bf394d",
                "language": "sql"
            },
            "outputs": [
                {
                    "output_type": "display_data",
                    "data": {
                        "text/html": "(16 rows affected)"
                    },
                    "metadata": {}
                },
                {
                    "output_type": "display_data",
                    "data": {
                        "text/html": "Total execution time: 00:00:00.004"
                    },
                    "metadata": {}
                },
                {
                    "output_type": "execute_result",
                    "metadata": {},
                    "execution_count": 36,
                    "data": {
                        "application/vnd.dataresource+json": {
                            "schema": {
                                "fields": [
                                    {
                                        "name": "Szállás tipus"
                                    },
                                    {
                                        "name": "CSILLAGOK_SZAMA"
                                    }
                                ]
                            },
                            "data": [
                                {
                                    "Szállás tipus": "vendégház",
                                    "CSILLAGOK_SZAMA": "0"
                                },
                                {
                                    "Szállás tipus": "vendégház",
                                    "CSILLAGOK_SZAMA": "0"
                                },
                                {
                                    "Szállás tipus": "Apartman",
                                    "CSILLAGOK_SZAMA": "0"
                                },
                                {
                                    "Szállás tipus": "Hotel",
                                    "CSILLAGOK_SZAMA": "3"
                                },
                                {
                                    "Szállás tipus": "Apartman",
                                    "CSILLAGOK_SZAMA": "0"
                                },
                                {
                                    "Szállás tipus": "Hotel",
                                    "CSILLAGOK_SZAMA": "4"
                                },
                                {
                                    "Szállás tipus": "Hotel",
                                    "CSILLAGOK_SZAMA": "4"
                                },
                                {
                                    "Szállás tipus": "vendégház",
                                    "CSILLAGOK_SZAMA": "0"
                                },
                                {
                                    "Szállás tipus": "Hotel",
                                    "CSILLAGOK_SZAMA": "3"
                                },
                                {
                                    "Szállás tipus": "vendégház",
                                    "CSILLAGOK_SZAMA": "0"
                                },
                                {
                                    "Szállás tipus": "Hotel",
                                    "CSILLAGOK_SZAMA": "3"
                                },
                                {
                                    "Szállás tipus": "Hotel",
                                    "CSILLAGOK_SZAMA": "4"
                                },
                                {
                                    "Szállás tipus": "Apartman",
                                    "CSILLAGOK_SZAMA": "0"
                                },
                                {
                                    "Szállás tipus": "vendégház",
                                    "CSILLAGOK_SZAMA": "0"
                                },
                                {
                                    "Szállás tipus": "Diákszálló",
                                    "CSILLAGOK_SZAMA": "0"
                                },
                                {
                                    "Szállás tipus": "vendégház",
                                    "CSILLAGOK_SZAMA": "0"
                                }
                            ]
                        },
                        "text/html": [
                            "<table>",
                            "<tr><th>Szállás tipus</th><th>CSILLAGOK_SZAMA</th></tr>",
                            "<tr><td>vendégház</td><td>0</td></tr>",
                            "<tr><td>vendégház</td><td>0</td></tr>",
                            "<tr><td>Apartman</td><td>0</td></tr>",
                            "<tr><td>Hotel</td><td>3</td></tr>",
                            "<tr><td>Apartman</td><td>0</td></tr>",
                            "<tr><td>Hotel</td><td>4</td></tr>",
                            "<tr><td>Hotel</td><td>4</td></tr>",
                            "<tr><td>vendégház</td><td>0</td></tr>",
                            "<tr><td>Hotel</td><td>3</td></tr>",
                            "<tr><td>vendégház</td><td>0</td></tr>",
                            "<tr><td>Hotel</td><td>3</td></tr>",
                            "<tr><td>Hotel</td><td>4</td></tr>",
                            "<tr><td>Apartman</td><td>0</td></tr>",
                            "<tr><td>vendégház</td><td>0</td></tr>",
                            "<tr><td>Diákszálló</td><td>0</td></tr>",
                            "<tr><td>vendégház</td><td>0</td></tr>",
                            "</table>"
                        ]
                    }
                }
            ],
            "execution_count": 36
        }
    ]
}