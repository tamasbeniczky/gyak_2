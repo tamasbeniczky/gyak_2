{
    "metadata": {
        "kernelspec": {
            "name": "SQL",
            "display_name": "SQL",
            "language": "sql"
        },
        "language_info": {
            "name": "sql",
            "version": ""
        }
    },
    "nbformat_minor": 2,
    "nbformat": 4,
    "cells": [
        {
            "cell_type": "markdown",
            "source": [
                "HMKFPV"
            ],
            "metadata": {
                "azdata_cell_guid": "77beabe6-e535-4eec-a00f-3fa1d53e74cf"
            },
            "attachments": {}
        },
        {
            "cell_type": "code",
            "source": [
                "SELECT rogzitette as 'név',\r\n",
                "        szallas_nev as 'szállás neve',\r\n",
                "        CIM as 'cim'\r\n",
                "FROM szallashely\r\n",
                "where MONTH(ROGZ_IDO) = 3 AND hely LIKE '%Balaton%'\r\n",
                "ORDER BY CSILLAGOK_SZAMA DESC"
            ],
            "metadata": {
                "azdata_cell_guid": "9eb5231d-ee57-444a-a252-5ed13e5d13d3",
                "language": "sql"
            },
            "outputs": [
                {
                    "output_type": "display_data",
                    "data": {
                        "text/html": "(7 rows affected)"
                    },
                    "metadata": {}
                },
                {
                    "output_type": "display_data",
                    "data": {
                        "text/html": "Total execution time: 00:00:00.005"
                    },
                    "metadata": {}
                },
                {
                    "output_type": "execute_result",
                    "metadata": {},
                    "execution_count": 19,
                    "data": {
                        "application/vnd.dataresource+json": {
                            "schema": {
                                "fields": [
                                    {
                                        "name": "név"
                                    },
                                    {
                                        "name": "szállás neve"
                                    },
                                    {
                                        "name": "cim"
                                    }
                                ]
                            },
                            "data": [
                                {
                                    "név": "Béla",
                                    "szállás neve": "Hotel Három Hattyú",
                                    "cim": "8623 Balatonföldvár, Rákóczi Ferenc út 45."
                                },
                                {
                                    "név": "Mari",
                                    "szállás neve": "Jáde panzió",
                                    "cim": "8624 Balatonföldvár, Kiss u.2."
                                },
                                {
                                    "név": "Béla",
                                    "szállás neve": "Kentaur Hotel",
                                    "cim": "8600 Siófok (Széplak), Akácfa utca 1"
                                },
                                {
                                    "név": "Béla",
                                    "szállás neve": "Tímárház Panzió",
                                    "cim": "8600 Siófok, Virág utca 1"
                                },
                                {
                                    "név": "Béla",
                                    "szállás neve": "Családi Ház",
                                    "cim": "8630 Balatonboglár, József Attila utca 25"
                                },
                                {
                                    "név": "Mari",
                                    "szállás neve": "Szieszta Apartmanház",
                                    "cim": "8630 Balatonboglár, Dózsa György utca 108"
                                },
                                {
                                    "név": "Béla",
                                    "szállás neve": "Partiszél Vendégház",
                                    "cim": "8220 Balatonalmádi Neptun u. 23."
                                }
                            ]
                        },
                        "text/html": [
                            "<table>",
                            "<tr><th>név</th><th>szállás neve</th><th>cim</th></tr>",
                            "<tr><td>Béla</td><td>Hotel Három Hattyú</td><td>8623 Balatonföldvár, Rákóczi Ferenc út 45.</td></tr>",
                            "<tr><td>Mari</td><td>Jáde panzió</td><td>8624 Balatonföldvár, Kiss u.2.</td></tr>",
                            "<tr><td>Béla</td><td>Kentaur Hotel</td><td>8600 Siófok (Széplak), Akácfa utca 1</td></tr>",
                            "<tr><td>Béla</td><td>Tímárház Panzió</td><td>8600 Siófok, Virág utca 1</td></tr>",
                            "<tr><td>Béla</td><td>Családi Ház</td><td>8630 Balatonboglár, József Attila utca 25</td></tr>",
                            "<tr><td>Mari</td><td>Szieszta Apartmanház</td><td>8630 Balatonboglár, Dózsa György utca 108</td></tr>",
                            "<tr><td>Béla</td><td>Partiszél Vendégház</td><td>8220 Balatonalmádi Neptun u. 23.</td></tr>",
                            "</table>"
                        ]
                    }
                }
            ],
            "execution_count": 19
        },
        {
            "cell_type": "code",
            "source": [
                "SELECT tipus as 'Szállás tipus',\r\n",
                "        ROUND(AVG(CSILLAGOK_SZAMA),0) as 'Kerekített átlag'\r\n",
                "FROM szallashely\r\n",
                "where tipus <> 'panzió' \r\n",
                "GROUP BY tipus\r\n",
                "HAVING ROUND(AVG(CSILLAGOK_SZAMA),0) >= 3\r\n",
                ""
            ],
            "metadata": {
                "language": "sql",
                "azdata_cell_guid": "9823365a-2088-4a3a-a345-3c542679554d"
            },
            "outputs": [
                {
                    "output_type": "display_data",
                    "data": {
                        "text/html": "(1 row affected)"
                    },
                    "metadata": {}
                },
                {
                    "output_type": "display_data",
                    "data": {
                        "text/html": "Total execution time: 00:00:00.008"
                    },
                    "metadata": {}
                },
                {
                    "output_type": "execute_result",
                    "metadata": {},
                    "execution_count": 38,
                    "data": {
                        "application/vnd.dataresource+json": {
                            "schema": {
                                "fields": [
                                    {
                                        "name": "Szállás tipus"
                                    },
                                    {
                                        "name": "Kerekített átlag"
                                    }
                                ]
                            },
                            "data": [
                                {
                                    "Szállás tipus": "Hotel",
                                    "Kerekített átlag": "3"
                                }
                            ]
                        },
                        "text/html": [
                            "<table>",
                            "<tr><th>Szállás tipus</th><th>Kerekített átlag</th></tr>",
                            "<tr><td>Hotel</td><td>3</td></tr>",
                            "</table>"
                        ]
                    }
                }
            ],
            "execution_count": 38
        },
        {
            "cell_type": "code",
            "source": [
                "SELECT sz.SZOBA_SZAMA,\r\n",
                "       szh.SZALLAS_NEV as 'szállás név',\r\n",
                "       case when szh.tipus = 'panzió' THEN 'igen'\r\n",
                "            else 'nem'\r\n",
                "            end as 'Panzió?'\r\n",
                "FROM szoba sz left join foglalas f on sz.SZOBA_ID = f.SZOBA_FK\r\n",
                "                    join szallashely szh ON szh.SZALLAS_ID = sz.SZALLAS_FK\r\n",
                "WHERE FOGLALAS_PK IS NULL"
            ],
            "metadata": {
                "azdata_cell_guid": "6ff150d7-77f1-4925-b3fb-d87d5fdf09b4",
                "language": "sql"
            },
            "outputs": [
                {
                    "output_type": "display_data",
                    "data": {
                        "text/html": "(97 rows affected)"
                    },
                    "metadata": {}
                },
                {
                    "output_type": "display_data",
                    "data": {
                        "text/html": "Total execution time: 00:00:00.048"
                    },
                    "metadata": {}
                },
                {
                    "output_type": "execute_result",
                    "metadata": {},
                    "execution_count": 53,
                    "data": {
                        "application/vnd.dataresource+json": {
                            "schema": {
                                "fields": [
                                    {
                                        "name": "SZOBA_SZAMA"
                                    },
                                    {
                                        "name": "szállás név"
                                    },
                                    {
                                        "name": "Panzió?"
                                    }
                                ]
                            },
                            "data": [
                                {
                                    "SZOBA_SZAMA": "25",
                                    "szállás név": "Lagúna Hotel",
                                    "Panzió?": "nem"
                                },
                                {
                                    "SZOBA_SZAMA": "35",
                                    "szállás név": "Gold Hotel",
                                    "Panzió?": "nem"
                                },
                                {
                                    "SZOBA_SZAMA": "36",
                                    "szállás név": "Gold Hotel",
                                    "Panzió?": "nem"
                                },
                                {
                                    "SZOBA_SZAMA": "37",
                                    "szállás név": "Gold Hotel",
                                    "Panzió?": "nem"
                                },
                                {
                                    "SZOBA_SZAMA": "38",
                                    "szállás név": "Gold Hotel",
                                    "Panzió?": "nem"
                                },
                                {
                                    "SZOBA_SZAMA": "39",
                                    "szállás név": "Gold Hotel",
                                    "Panzió?": "nem"
                                },
                                {
                                    "SZOBA_SZAMA": "40",
                                    "szállás név": "Gold Hotel",
                                    "Panzió?": "nem"
                                },
                                {
                                    "SZOBA_SZAMA": "41",
                                    "szállás név": "Gold Hotel",
                                    "Panzió?": "nem"
                                },
                                {
                                    "SZOBA_SZAMA": "42",
                                    "szállás név": "Gold Hotel",
                                    "Panzió?": "nem"
                                },
                                {
                                    "SZOBA_SZAMA": "43",
                                    "szállás név": "Gold Hotel",
                                    "Panzió?": "nem"
                                },
                                {
                                    "SZOBA_SZAMA": "44",
                                    "szállás név": "Gold Hotel",
                                    "Panzió?": "nem"
                                },
                                {
                                    "SZOBA_SZAMA": "45",
                                    "szállás név": "Gold Hotel",
                                    "Panzió?": "nem"
                                },
                                {
                                    "SZOBA_SZAMA": "46",
                                    "szállás név": "Gold Hotel",
                                    "Panzió?": "nem"
                                },
                                {
                                    "SZOBA_SZAMA": "47",
                                    "szállás név": "Gold Hotel",
                                    "Panzió?": "nem"
                                },
                                {
                                    "SZOBA_SZAMA": "48",
                                    "szállás név": "Gold Hotel",
                                    "Panzió?": "nem"
                                },
                                {
                                    "SZOBA_SZAMA": "49",
                                    "szállás név": "Gold Hotel",
                                    "Panzió?": "nem"
                                },
                                {
                                    "SZOBA_SZAMA": "50",
                                    "szállás név": "Gold Hotel",
                                    "Panzió?": "nem"
                                },
                                {
                                    "SZOBA_SZAMA": "1",
                                    "szállás név": "Riviéra Panzió",
                                    "Panzió?": "igen"
                                },
                                {
                                    "SZOBA_SZAMA": "2",
                                    "szállás név": "Riviéra Panzió",
                                    "Panzió?": "igen"
                                },
                                {
                                    "SZOBA_SZAMA": "3",
                                    "szállás név": "Riviéra Panzió",
                                    "Panzió?": "igen"
                                },
                                {
                                    "SZOBA_SZAMA": "4",
                                    "szállás név": "Riviéra Panzió",
                                    "Panzió?": "igen"
                                },
                                {
                                    "SZOBA_SZAMA": "5",
                                    "szállás név": "Riviéra Panzió",
                                    "Panzió?": "igen"
                                },
                                {
                                    "SZOBA_SZAMA": "6",
                                    "szállás név": "Riviéra Panzió",
                                    "Panzió?": "igen"
                                },
                                {
                                    "SZOBA_SZAMA": "7",
                                    "szállás név": "Riviéra Panzió",
                                    "Panzió?": "igen"
                                },
                                {
                                    "SZOBA_SZAMA": "8",
                                    "szállás név": "Riviéra Panzió",
                                    "Panzió?": "igen"
                                },
                                {
                                    "SZOBA_SZAMA": "9",
                                    "szállás név": "Riviéra Panzió",
                                    "Panzió?": "igen"
                                },
                                {
                                    "SZOBA_SZAMA": "10",
                                    "szállás név": "Riviéra Panzió",
                                    "Panzió?": "igen"
                                },
                                {
                                    "SZOBA_SZAMA": "11",
                                    "szállás név": "Riviéra Panzió",
                                    "Panzió?": "igen"
                                },
                                {
                                    "SZOBA_SZAMA": "12",
                                    "szállás név": "Riviéra Panzió",
                                    "Panzió?": "igen"
                                },
                                {
                                    "SZOBA_SZAMA": "1",
                                    "szállás név": "Nyárfás Vendégház",
                                    "Panzió?": "nem"
                                },
                                {
                                    "SZOBA_SZAMA": "2",
                                    "szállás név": "Nyárfás Vendégház",
                                    "Panzió?": "nem"
                                },
                                {
                                    "SZOBA_SZAMA": "3",
                                    "szállás név": "Nyárfás Vendégház",
                                    "Panzió?": "nem"
                                },
                                {
                                    "SZOBA_SZAMA": "4",
                                    "szállás név": "Nyárfás Vendégház",
                                    "Panzió?": "nem"
                                },
                                {
                                    "SZOBA_SZAMA": "1",
                                    "szállás név": "Tímárház Panzió",
                                    "Panzió?": "igen"
                                },
                                {
                                    "SZOBA_SZAMA": "2",
                                    "szállás név": "Tímárház Panzió",
                                    "Panzió?": "igen"
                                },
                                {
                                    "SZOBA_SZAMA": "3",
                                    "szállás név": "Tímárház Panzió",
                                    "Panzió?": "igen"
                                },
                                {
                                    "SZOBA_SZAMA": "4",
                                    "szállás név": "Tímárház Panzió",
                                    "Panzió?": "igen"
                                },
                                {
                                    "SZOBA_SZAMA": "5",
                                    "szállás név": "Tímárház Panzió",
                                    "Panzió?": "igen"
                                },
                                {
                                    "SZOBA_SZAMA": "6",
                                    "szállás név": "Tímárház Panzió",
                                    "Panzió?": "igen"
                                },
                                {
                                    "SZOBA_SZAMA": "7",
                                    "szállás név": "Tímárház Panzió",
                                    "Panzió?": "igen"
                                },
                                {
                                    "SZOBA_SZAMA": "8",
                                    "szállás név": "Tímárház Panzió",
                                    "Panzió?": "igen"
                                },
                                {
                                    "SZOBA_SZAMA": "9",
                                    "szállás név": "Tímárház Panzió",
                                    "Panzió?": "igen"
                                },
                                {
                                    "SZOBA_SZAMA": "10",
                                    "szállás név": "Tímárház Panzió",
                                    "Panzió?": "igen"
                                },
                                {
                                    "SZOBA_SZAMA": "11",
                                    "szállás név": "Tímárház Panzió",
                                    "Panzió?": "igen"
                                },
                                {
                                    "SZOBA_SZAMA": "12",
                                    "szállás név": "Tímárház Panzió",
                                    "Panzió?": "igen"
                                },
                                {
                                    "SZOBA_SZAMA": "1",
                                    "szállás név": "Bagoly Hotel",
                                    "Panzió?": "nem"
                                },
                                {
                                    "SZOBA_SZAMA": "2",
                                    "szállás név": "Bagoly Hotel",
                                    "Panzió?": "nem"
                                },
                                {
                                    "SZOBA_SZAMA": "3",
                                    "szállás név": "Bagoly Hotel",
                                    "Panzió?": "nem"
                                },
                                {
                                    "SZOBA_SZAMA": "4",
                                    "szállás név": "Bagoly Hotel",
                                    "Panzió?": "nem"
                                },
                                {
                                    "SZOBA_SZAMA": "5",
                                    "szállás név": "Bagoly Hotel",
                                    "Panzió?": "nem"
                                },
                                {
                                    "SZOBA_SZAMA": "6",
                                    "szállás név": "Bagoly Hotel",
                                    "Panzió?": "nem"
                                },
                                {
                                    "SZOBA_SZAMA": "7",
                                    "szállás név": "Bagoly Hotel",
                                    "Panzió?": "nem"
                                },
                                {
                                    "SZOBA_SZAMA": "8",
                                    "szállás név": "Bagoly Hotel",
                                    "Panzió?": "nem"
                                },
                                {
                                    "SZOBA_SZAMA": "9",
                                    "szállás név": "Bagoly Hotel",
                                    "Panzió?": "nem"
                                },
                                {
                                    "SZOBA_SZAMA": "10",
                                    "szállás név": "Bagoly Hotel",
                                    "Panzió?": "nem"
                                },
                                {
                                    "SZOBA_SZAMA": "11",
                                    "szállás név": "Bagoly Hotel",
                                    "Panzió?": "nem"
                                },
                                {
                                    "SZOBA_SZAMA": "12",
                                    "szállás név": "Bagoly Hotel",
                                    "Panzió?": "nem"
                                },
                                {
                                    "SZOBA_SZAMA": "13",
                                    "szállás név": "Bagoly Hotel",
                                    "Panzió?": "nem"
                                },
                                {
                                    "SZOBA_SZAMA": "14",
                                    "szállás név": "Bagoly Hotel",
                                    "Panzió?": "nem"
                                },
                                {
                                    "SZOBA_SZAMA": "15",
                                    "szállás név": "Bagoly Hotel",
                                    "Panzió?": "nem"
                                },
                                {
                                    "SZOBA_SZAMA": "16",
                                    "szállás név": "Bagoly Hotel",
                                    "Panzió?": "nem"
                                },
                                {
                                    "SZOBA_SZAMA": "17",
                                    "szállás név": "Bagoly Hotel",
                                    "Panzió?": "nem"
                                },
                                {
                                    "SZOBA_SZAMA": "18",
                                    "szállás név": "Bagoly Hotel",
                                    "Panzió?": "nem"
                                },
                                {
                                    "SZOBA_SZAMA": "19",
                                    "szállás név": "Bagoly Hotel",
                                    "Panzió?": "nem"
                                },
                                {
                                    "SZOBA_SZAMA": "20",
                                    "szállás név": "Bagoly Hotel",
                                    "Panzió?": "nem"
                                },
                                {
                                    "SZOBA_SZAMA": "1",
                                    "szállás név": "Szarvas Hotel",
                                    "Panzió?": "nem"
                                },
                                {
                                    "SZOBA_SZAMA": "2",
                                    "szállás név": "Szarvas Hotel",
                                    "Panzió?": "nem"
                                },
                                {
                                    "SZOBA_SZAMA": "3",
                                    "szállás név": "Szarvas Hotel",
                                    "Panzió?": "nem"
                                },
                                {
                                    "SZOBA_SZAMA": "4",
                                    "szállás név": "Szarvas Hotel",
                                    "Panzió?": "nem"
                                },
                                {
                                    "SZOBA_SZAMA": "5",
                                    "szállás név": "Szarvas Hotel",
                                    "Panzió?": "nem"
                                },
                                {
                                    "SZOBA_SZAMA": "6",
                                    "szállás név": "Szarvas Hotel",
                                    "Panzió?": "nem"
                                },
                                {
                                    "SZOBA_SZAMA": "7",
                                    "szállás név": "Szarvas Hotel",
                                    "Panzió?": "nem"
                                },
                                {
                                    "SZOBA_SZAMA": "8",
                                    "szállás név": "Szarvas Hotel",
                                    "Panzió?": "nem"
                                },
                                {
                                    "SZOBA_SZAMA": "9",
                                    "szállás név": "Szarvas Hotel",
                                    "Panzió?": "nem"
                                },
                                {
                                    "SZOBA_SZAMA": "10",
                                    "szállás név": "Szarvas Hotel",
                                    "Panzió?": "nem"
                                },
                                {
                                    "SZOBA_SZAMA": "11",
                                    "szállás név": "Szarvas Hotel",
                                    "Panzió?": "nem"
                                },
                                {
                                    "SZOBA_SZAMA": "12",
                                    "szállás név": "Szarvas Hotel",
                                    "Panzió?": "nem"
                                },
                                {
                                    "SZOBA_SZAMA": "13",
                                    "szállás név": "Szarvas Hotel",
                                    "Panzió?": "nem"
                                },
                                {
                                    "SZOBA_SZAMA": "14",
                                    "szállás név": "Szarvas Hotel",
                                    "Panzió?": "nem"
                                },
                                {
                                    "SZOBA_SZAMA": "15",
                                    "szállás név": "Szarvas Hotel",
                                    "Panzió?": "nem"
                                },
                                {
                                    "SZOBA_SZAMA": "1",
                                    "szállás név": "Fortuna Apartman",
                                    "Panzió?": "nem"
                                },
                                {
                                    "SZOBA_SZAMA": "2",
                                    "szállás név": "Fortuna Apartman",
                                    "Panzió?": "nem"
                                },
                                {
                                    "SZOBA_SZAMA": "3",
                                    "szállás név": "Fortuna Apartman",
                                    "Panzió?": "nem"
                                },
                                {
                                    "SZOBA_SZAMA": "1",
                                    "szállás név": "Nyárfás Vendégház",
                                    "Panzió?": "nem"
                                },
                                {
                                    "SZOBA_SZAMA": "2",
                                    "szállás név": "Nyárfás Vendégház",
                                    "Panzió?": "nem"
                                },
                                {
                                    "SZOBA_SZAMA": "3",
                                    "szállás név": "Nyárfás Vendégház",
                                    "Panzió?": "nem"
                                },
                                {
                                    "SZOBA_SZAMA": "4",
                                    "szállás név": "Nyárfás Vendégház",
                                    "Panzió?": "nem"
                                },
                                {
                                    "SZOBA_SZAMA": "1",
                                    "szállás név": "Kollégium",
                                    "Panzió?": "nem"
                                },
                                {
                                    "SZOBA_SZAMA": "2",
                                    "szállás név": "Kollégium",
                                    "Panzió?": "nem"
                                },
                                {
                                    "SZOBA_SZAMA": "3",
                                    "szállás név": "Kollégium",
                                    "Panzió?": "nem"
                                },
                                {
                                    "SZOBA_SZAMA": "4",
                                    "szállás név": "Kollégium",
                                    "Panzió?": "nem"
                                },
                                {
                                    "SZOBA_SZAMA": "5",
                                    "szállás név": "Kollégium",
                                    "Panzió?": "nem"
                                },
                                {
                                    "SZOBA_SZAMA": "6",
                                    "szállás név": "Kollégium",
                                    "Panzió?": "nem"
                                },
                                {
                                    "SZOBA_SZAMA": "7",
                                    "szállás név": "Kollégium",
                                    "Panzió?": "nem"
                                },
                                {
                                    "SZOBA_SZAMA": "8",
                                    "szállás név": "Kollégium",
                                    "Panzió?": "nem"
                                },
                                {
                                    "SZOBA_SZAMA": "9",
                                    "szállás név": "Kollégium",
                                    "Panzió?": "nem"
                                },
                                {
                                    "SZOBA_SZAMA": "10",
                                    "szállás név": "Kollégium",
                                    "Panzió?": "nem"
                                }
                            ]
                        },
                        "text/html": [
                            "<table>",
                            "<tr><th>SZOBA_SZAMA</th><th>szállás név</th><th>Panzió?</th></tr>",
                            "<tr><td>25</td><td>Lagúna Hotel</td><td>nem</td></tr>",
                            "<tr><td>35</td><td>Gold Hotel</td><td>nem</td></tr>",
                            "<tr><td>36</td><td>Gold Hotel</td><td>nem</td></tr>",
                            "<tr><td>37</td><td>Gold Hotel</td><td>nem</td></tr>",
                            "<tr><td>38</td><td>Gold Hotel</td><td>nem</td></tr>",
                            "<tr><td>39</td><td>Gold Hotel</td><td>nem</td></tr>",
                            "<tr><td>40</td><td>Gold Hotel</td><td>nem</td></tr>",
                            "<tr><td>41</td><td>Gold Hotel</td><td>nem</td></tr>",
                            "<tr><td>42</td><td>Gold Hotel</td><td>nem</td></tr>",
                            "<tr><td>43</td><td>Gold Hotel</td><td>nem</td></tr>",
                            "<tr><td>44</td><td>Gold Hotel</td><td>nem</td></tr>",
                            "<tr><td>45</td><td>Gold Hotel</td><td>nem</td></tr>",
                            "<tr><td>46</td><td>Gold Hotel</td><td>nem</td></tr>",
                            "<tr><td>47</td><td>Gold Hotel</td><td>nem</td></tr>",
                            "<tr><td>48</td><td>Gold Hotel</td><td>nem</td></tr>",
                            "<tr><td>49</td><td>Gold Hotel</td><td>nem</td></tr>",
                            "<tr><td>50</td><td>Gold Hotel</td><td>nem</td></tr>",
                            "<tr><td>1</td><td>Riviéra Panzió</td><td>igen</td></tr>",
                            "<tr><td>2</td><td>Riviéra Panzió</td><td>igen</td></tr>",
                            "<tr><td>3</td><td>Riviéra Panzió</td><td>igen</td></tr>",
                            "<tr><td>4</td><td>Riviéra Panzió</td><td>igen</td></tr>",
                            "<tr><td>5</td><td>Riviéra Panzió</td><td>igen</td></tr>",
                            "<tr><td>6</td><td>Riviéra Panzió</td><td>igen</td></tr>",
                            "<tr><td>7</td><td>Riviéra Panzió</td><td>igen</td></tr>",
                            "<tr><td>8</td><td>Riviéra Panzió</td><td>igen</td></tr>",
                            "<tr><td>9</td><td>Riviéra Panzió</td><td>igen</td></tr>",
                            "<tr><td>10</td><td>Riviéra Panzió</td><td>igen</td></tr>",
                            "<tr><td>11</td><td>Riviéra Panzió</td><td>igen</td></tr>",
                            "<tr><td>12</td><td>Riviéra Panzió</td><td>igen</td></tr>",
                            "<tr><td>1</td><td>Nyárfás Vendégház</td><td>nem</td></tr>",
                            "<tr><td>2</td><td>Nyárfás Vendégház</td><td>nem</td></tr>",
                            "<tr><td>3</td><td>Nyárfás Vendégház</td><td>nem</td></tr>",
                            "<tr><td>4</td><td>Nyárfás Vendégház</td><td>nem</td></tr>",
                            "<tr><td>1</td><td>Tímárház Panzió</td><td>igen</td></tr>",
                            "<tr><td>2</td><td>Tímárház Panzió</td><td>igen</td></tr>",
                            "<tr><td>3</td><td>Tímárház Panzió</td><td>igen</td></tr>",
                            "<tr><td>4</td><td>Tímárház Panzió</td><td>igen</td></tr>",
                            "<tr><td>5</td><td>Tímárház Panzió</td><td>igen</td></tr>",
                            "<tr><td>6</td><td>Tímárház Panzió</td><td>igen</td></tr>",
                            "<tr><td>7</td><td>Tímárház Panzió</td><td>igen</td></tr>",
                            "<tr><td>8</td><td>Tímárház Panzió</td><td>igen</td></tr>",
                            "<tr><td>9</td><td>Tímárház Panzió</td><td>igen</td></tr>",
                            "<tr><td>10</td><td>Tímárház Panzió</td><td>igen</td></tr>",
                            "<tr><td>11</td><td>Tímárház Panzió</td><td>igen</td></tr>",
                            "<tr><td>12</td><td>Tímárház Panzió</td><td>igen</td></tr>",
                            "<tr><td>1</td><td>Bagoly Hotel</td><td>nem</td></tr>",
                            "<tr><td>2</td><td>Bagoly Hotel</td><td>nem</td></tr>",
                            "<tr><td>3</td><td>Bagoly Hotel</td><td>nem</td></tr>",
                            "<tr><td>4</td><td>Bagoly Hotel</td><td>nem</td></tr>",
                            "<tr><td>5</td><td>Bagoly Hotel</td><td>nem</td></tr>",
                            "<tr><td>6</td><td>Bagoly Hotel</td><td>nem</td></tr>",
                            "<tr><td>7</td><td>Bagoly Hotel</td><td>nem</td></tr>",
                            "<tr><td>8</td><td>Bagoly Hotel</td><td>nem</td></tr>",
                            "<tr><td>9</td><td>Bagoly Hotel</td><td>nem</td></tr>",
                            "<tr><td>10</td><td>Bagoly Hotel</td><td>nem</td></tr>",
                            "<tr><td>11</td><td>Bagoly Hotel</td><td>nem</td></tr>",
                            "<tr><td>12</td><td>Bagoly Hotel</td><td>nem</td></tr>",
                            "<tr><td>13</td><td>Bagoly Hotel</td><td>nem</td></tr>",
                            "<tr><td>14</td><td>Bagoly Hotel</td><td>nem</td></tr>",
                            "<tr><td>15</td><td>Bagoly Hotel</td><td>nem</td></tr>",
                            "<tr><td>16</td><td>Bagoly Hotel</td><td>nem</td></tr>",
                            "<tr><td>17</td><td>Bagoly Hotel</td><td>nem</td></tr>",
                            "<tr><td>18</td><td>Bagoly Hotel</td><td>nem</td></tr>",
                            "<tr><td>19</td><td>Bagoly Hotel</td><td>nem</td></tr>",
                            "<tr><td>20</td><td>Bagoly Hotel</td><td>nem</td></tr>",
                            "<tr><td>1</td><td>Szarvas Hotel</td><td>nem</td></tr>",
                            "<tr><td>2</td><td>Szarvas Hotel</td><td>nem</td></tr>",
                            "<tr><td>3</td><td>Szarvas Hotel</td><td>nem</td></tr>",
                            "<tr><td>4</td><td>Szarvas Hotel</td><td>nem</td></tr>",
                            "<tr><td>5</td><td>Szarvas Hotel</td><td>nem</td></tr>",
                            "<tr><td>6</td><td>Szarvas Hotel</td><td>nem</td></tr>",
                            "<tr><td>7</td><td>Szarvas Hotel</td><td>nem</td></tr>",
                            "<tr><td>8</td><td>Szarvas Hotel</td><td>nem</td></tr>",
                            "<tr><td>9</td><td>Szarvas Hotel</td><td>nem</td></tr>",
                            "<tr><td>10</td><td>Szarvas Hotel</td><td>nem</td></tr>",
                            "<tr><td>11</td><td>Szarvas Hotel</td><td>nem</td></tr>",
                            "<tr><td>12</td><td>Szarvas Hotel</td><td>nem</td></tr>",
                            "<tr><td>13</td><td>Szarvas Hotel</td><td>nem</td></tr>",
                            "<tr><td>14</td><td>Szarvas Hotel</td><td>nem</td></tr>",
                            "<tr><td>15</td><td>Szarvas Hotel</td><td>nem</td></tr>",
                            "<tr><td>1</td><td>Fortuna Apartman</td><td>nem</td></tr>",
                            "<tr><td>2</td><td>Fortuna Apartman</td><td>nem</td></tr>",
                            "<tr><td>3</td><td>Fortuna Apartman</td><td>nem</td></tr>",
                            "<tr><td>1</td><td>Nyárfás Vendégház</td><td>nem</td></tr>",
                            "<tr><td>2</td><td>Nyárfás Vendégház</td><td>nem</td></tr>",
                            "<tr><td>3</td><td>Nyárfás Vendégház</td><td>nem</td></tr>",
                            "<tr><td>4</td><td>Nyárfás Vendégház</td><td>nem</td></tr>",
                            "<tr><td>1</td><td>Kollégium</td><td>nem</td></tr>",
                            "<tr><td>2</td><td>Kollégium</td><td>nem</td></tr>",
                            "<tr><td>3</td><td>Kollégium</td><td>nem</td></tr>",
                            "<tr><td>4</td><td>Kollégium</td><td>nem</td></tr>",
                            "<tr><td>5</td><td>Kollégium</td><td>nem</td></tr>",
                            "<tr><td>6</td><td>Kollégium</td><td>nem</td></tr>",
                            "<tr><td>7</td><td>Kollégium</td><td>nem</td></tr>",
                            "<tr><td>8</td><td>Kollégium</td><td>nem</td></tr>",
                            "<tr><td>9</td><td>Kollégium</td><td>nem</td></tr>",
                            "<tr><td>10</td><td>Kollégium</td><td>nem</td></tr>",
                            "</table>"
                        ]
                    }
                }
            ],
            "execution_count": 53
        },
        {
            "cell_type": "code",
            "source": [
                ""
            ],
            "metadata": {
                "azdata_cell_guid": "9a18b123-ae8f-4ea9-9281-5a34b3bf394d",
                "language": "sql"
            },
            "outputs": [
                {
                    "output_type": "display_data",
                    "data": {
                        "text/html": "Commands completed successfully."
                    },
                    "metadata": {}
                },
                {
                    "output_type": "display_data",
                    "data": {
                        "text/html": "Total execution time: 00:00:00"
                    },
                    "metadata": {}
                }
            ],
            "execution_count": 46
        }
    ]
}