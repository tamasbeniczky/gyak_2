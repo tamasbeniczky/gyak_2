{
    "metadata": {
        "kernelspec": {
            "name": "SQL",
            "display_name": "SQL",
            "language": "sql"
        },
        "language_info": {
            "name": "sql",
            "version": ""
        }
    },
    "nbformat_minor": 2,
    "nbformat": 4,
    "cells": [
        {
            "cell_type": "markdown",
            "source": [
                "Jelenítsük meg minden egyes szoba esetén, hogy hányszor foglalták le!\n",
                "\n",
                "- Csak a szoba azonosítója és a foglalások darabszáma jelenjen meg\n",
                "- Azok a szobák is jelenjenek meg, ahol nem történt foglalás"
            ],
            "metadata": {
                "azdata_cell_guid": "d1bc1fc5-957b-4f1a-9a4b-d9bb23d7b18f"
            },
            "attachments": {}
        },
        {
            "cell_type": "code",
            "source": [
                "select sz.szoba_id, count(f.foglalas_pk)\r\n",
                "from szoba sz left join foglalas f on sz.szoba_id = f.szoba_fk\r\n",
                "group by sz.szoba_id"
            ],
            "metadata": {
                "azdata_cell_guid": "801698d2-88f9-4b0c-a6c2-9aa07143136b",
                "language": "sql"
            },
            "outputs": [
                {
                    "output_type": "display_data",
                    "data": {
                        "text/html": "(294 rows affected)"
                    },
                    "metadata": {}
                },
                {
                    "output_type": "display_data",
                    "data": {
                        "text/html": "Total execution time: 00:00:00.033"
                    },
                    "metadata": {}
                },
                {
                    "output_type": "execute_result",
                    "execution_count": 1,
                    "data": {
                        "application/vnd.dataresource+json": {
                            "schema": {
                                "fields": [
                                    {
                                        "name": "szoba_id"
                                    },
                                    {
                                        "name": "(No column name)"
                                    }
                                ]
                            },
                            "data": [
                                {
                                    "szoba_id": "1",
                                    "(No column name)": "8"
                                },
                                {
                                    "szoba_id": "2",
                                    "(No column name)": "4"
                                },
                                {
                                    "szoba_id": "3",
                                    "(No column name)": "8"
                                },
                                {
                                    "szoba_id": "4",
                                    "(No column name)": "6"
                                },
                                {
                                    "szoba_id": "5",
                                    "(No column name)": "4"
                                },
                                {
                                    "szoba_id": "6",
                                    "(No column name)": "6"
                                },
                                {
                                    "szoba_id": "7",
                                    "(No column name)": "6"
                                },
                                {
                                    "szoba_id": "8",
                                    "(No column name)": "5"
                                },
                                {
                                    "szoba_id": "9",
                                    "(No column name)": "6"
                                },
                                {
                                    "szoba_id": "10",
                                    "(No column name)": "4"
                                },
                                {
                                    "szoba_id": "11",
                                    "(No column name)": "4"
                                },
                                {
                                    "szoba_id": "12",
                                    "(No column name)": "9"
                                },
                                {
                                    "szoba_id": "13",
                                    "(No column name)": "4"
                                },
                                {
                                    "szoba_id": "14",
                                    "(No column name)": "3"
                                },
                                {
                                    "szoba_id": "15",
                                    "(No column name)": "6"
                                },
                                {
                                    "szoba_id": "16",
                                    "(No column name)": "5"
                                },
                                {
                                    "szoba_id": "17",
                                    "(No column name)": "6"
                                },
                                {
                                    "szoba_id": "18",
                                    "(No column name)": "6"
                                },
                                {
                                    "szoba_id": "19",
                                    "(No column name)": "6"
                                },
                                {
                                    "szoba_id": "20",
                                    "(No column name)": "5"
                                },
                                {
                                    "szoba_id": "21",
                                    "(No column name)": "4"
                                },
                                {
                                    "szoba_id": "22",
                                    "(No column name)": "6"
                                },
                                {
                                    "szoba_id": "23",
                                    "(No column name)": "3"
                                },
                                {
                                    "szoba_id": "24",
                                    "(No column name)": "3"
                                },
                                {
                                    "szoba_id": "25",
                                    "(No column name)": "2"
                                },
                                {
                                    "szoba_id": "26",
                                    "(No column name)": "2"
                                },
                                {
                                    "szoba_id": "27",
                                    "(No column name)": "7"
                                },
                                {
                                    "szoba_id": "28",
                                    "(No column name)": "6"
                                },
                                {
                                    "szoba_id": "29",
                                    "(No column name)": "6"
                                },
                                {
                                    "szoba_id": "30",
                                    "(No column name)": "3"
                                },
                                {
                                    "szoba_id": "31",
                                    "(No column name)": "3"
                                },
                                {
                                    "szoba_id": "32",
                                    "(No column name)": "1"
                                },
                                {
                                    "szoba_id": "33",
                                    "(No column name)": "6"
                                },
                                {
                                    "szoba_id": "34",
                                    "(No column name)": "4"
                                },
                                {
                                    "szoba_id": "35",
                                    "(No column name)": "9"
                                },
                                {
                                    "szoba_id": "36",
                                    "(No column name)": "6"
                                },
                                {
                                    "szoba_id": "37",
                                    "(No column name)": "3"
                                },
                                {
                                    "szoba_id": "38",
                                    "(No column name)": "8"
                                },
                                {
                                    "szoba_id": "39",
                                    "(No column name)": "7"
                                },
                                {
                                    "szoba_id": "40",
                                    "(No column name)": "4"
                                },
                                {
                                    "szoba_id": "41",
                                    "(No column name)": "2"
                                },
                                {
                                    "szoba_id": "42",
                                    "(No column name)": "6"
                                },
                                {
                                    "szoba_id": "43",
                                    "(No column name)": "8"
                                },
                                {
                                    "szoba_id": "44",
                                    "(No column name)": "6"
                                },
                                {
                                    "szoba_id": "45",
                                    "(No column name)": "5"
                                },
                                {
                                    "szoba_id": "46",
                                    "(No column name)": "4"
                                },
                                {
                                    "szoba_id": "47",
                                    "(No column name)": "2"
                                },
                                {
                                    "szoba_id": "48",
                                    "(No column name)": "9"
                                },
                                {
                                    "szoba_id": "49",
                                    "(No column name)": "7"
                                },
                                {
                                    "szoba_id": "50",
                                    "(No column name)": "4"
                                },
                                {
                                    "szoba_id": "51",
                                    "(No column name)": "5"
                                },
                                {
                                    "szoba_id": "52",
                                    "(No column name)": "5"
                                },
                                {
                                    "szoba_id": "53",
                                    "(No column name)": "2"
                                },
                                {
                                    "szoba_id": "54",
                                    "(No column name)": "6"
                                },
                                {
                                    "szoba_id": "55",
                                    "(No column name)": "8"
                                },
                                {
                                    "szoba_id": "56",
                                    "(No column name)": "2"
                                },
                                {
                                    "szoba_id": "57",
                                    "(No column name)": "4"
                                },
                                {
                                    "szoba_id": "58",
                                    "(No column name)": "13"
                                },
                                {
                                    "szoba_id": "59",
                                    "(No column name)": "7"
                                },
                                {
                                    "szoba_id": "60",
                                    "(No column name)": "1"
                                },
                                {
                                    "szoba_id": "61",
                                    "(No column name)": "5"
                                },
                                {
                                    "szoba_id": "62",
                                    "(No column name)": "5"
                                },
                                {
                                    "szoba_id": "63",
                                    "(No column name)": "4"
                                },
                                {
                                    "szoba_id": "64",
                                    "(No column name)": "6"
                                },
                                {
                                    "szoba_id": "65",
                                    "(No column name)": "1"
                                },
                                {
                                    "szoba_id": "66",
                                    "(No column name)": "4"
                                },
                                {
                                    "szoba_id": "67",
                                    "(No column name)": "6"
                                },
                                {
                                    "szoba_id": "68",
                                    "(No column name)": "3"
                                },
                                {
                                    "szoba_id": "69",
                                    "(No column name)": "4"
                                },
                                {
                                    "szoba_id": "70",
                                    "(No column name)": "11"
                                },
                                {
                                    "szoba_id": "71",
                                    "(No column name)": "3"
                                },
                                {
                                    "szoba_id": "72",
                                    "(No column name)": "4"
                                },
                                {
                                    "szoba_id": "73",
                                    "(No column name)": "4"
                                },
                                {
                                    "szoba_id": "74",
                                    "(No column name)": "9"
                                },
                                {
                                    "szoba_id": "75",
                                    "(No column name)": "3"
                                },
                                {
                                    "szoba_id": "76",
                                    "(No column name)": "3"
                                },
                                {
                                    "szoba_id": "77",
                                    "(No column name)": "6"
                                },
                                {
                                    "szoba_id": "78",
                                    "(No column name)": "6"
                                },
                                {
                                    "szoba_id": "79",
                                    "(No column name)": "5"
                                },
                                {
                                    "szoba_id": "80",
                                    "(No column name)": "7"
                                },
                                {
                                    "szoba_id": "81",
                                    "(No column name)": "5"
                                },
                                {
                                    "szoba_id": "82",
                                    "(No column name)": "6"
                                },
                                {
                                    "szoba_id": "83",
                                    "(No column name)": "8"
                                },
                                {
                                    "szoba_id": "84",
                                    "(No column name)": "4"
                                },
                                {
                                    "szoba_id": "85",
                                    "(No column name)": "4"
                                },
                                {
                                    "szoba_id": "86",
                                    "(No column name)": "5"
                                },
                                {
                                    "szoba_id": "87",
                                    "(No column name)": "5"
                                },
                                {
                                    "szoba_id": "88",
                                    "(No column name)": "8"
                                },
                                {
                                    "szoba_id": "89",
                                    "(No column name)": "8"
                                },
                                {
                                    "szoba_id": "90",
                                    "(No column name)": "4"
                                },
                                {
                                    "szoba_id": "91",
                                    "(No column name)": "4"
                                },
                                {
                                    "szoba_id": "92",
                                    "(No column name)": "6"
                                },
                                {
                                    "szoba_id": "93",
                                    "(No column name)": "5"
                                },
                                {
                                    "szoba_id": "94",
                                    "(No column name)": "10"
                                },
                                {
                                    "szoba_id": "95",
                                    "(No column name)": "4"
                                },
                                {
                                    "szoba_id": "96",
                                    "(No column name)": "7"
                                },
                                {
                                    "szoba_id": "97",
                                    "(No column name)": "7"
                                },
                                {
                                    "szoba_id": "98",
                                    "(No column name)": "4"
                                },
                                {
                                    "szoba_id": "99",
                                    "(No column name)": "5"
                                },
                                {
                                    "szoba_id": "100",
                                    "(No column name)": "4"
                                },
                                {
                                    "szoba_id": "101",
                                    "(No column name)": "3"
                                },
                                {
                                    "szoba_id": "102",
                                    "(No column name)": "2"
                                },
                                {
                                    "szoba_id": "103",
                                    "(No column name)": "4"
                                },
                                {
                                    "szoba_id": "104",
                                    "(No column name)": "4"
                                },
                                {
                                    "szoba_id": "105",
                                    "(No column name)": "2"
                                },
                                {
                                    "szoba_id": "106",
                                    "(No column name)": "6"
                                },
                                {
                                    "szoba_id": "107",
                                    "(No column name)": "5"
                                },
                                {
                                    "szoba_id": "108",
                                    "(No column name)": "2"
                                },
                                {
                                    "szoba_id": "109",
                                    "(No column name)": "7"
                                },
                                {
                                    "szoba_id": "110",
                                    "(No column name)": "8"
                                },
                                {
                                    "szoba_id": "111",
                                    "(No column name)": "5"
                                },
                                {
                                    "szoba_id": "112",
                                    "(No column name)": "5"
                                },
                                {
                                    "szoba_id": "113",
                                    "(No column name)": "5"
                                },
                                {
                                    "szoba_id": "114",
                                    "(No column name)": "4"
                                },
                                {
                                    "szoba_id": "115",
                                    "(No column name)": "7"
                                },
                                {
                                    "szoba_id": "116",
                                    "(No column name)": "2"
                                },
                                {
                                    "szoba_id": "117",
                                    "(No column name)": "8"
                                },
                                {
                                    "szoba_id": "118",
                                    "(No column name)": "7"
                                },
                                {
                                    "szoba_id": "119",
                                    "(No column name)": "5"
                                },
                                {
                                    "szoba_id": "120",
                                    "(No column name)": "6"
                                },
                                {
                                    "szoba_id": "121",
                                    "(No column name)": "8"
                                },
                                {
                                    "szoba_id": "122",
                                    "(No column name)": "9"
                                },
                                {
                                    "szoba_id": "123",
                                    "(No column name)": "5"
                                },
                                {
                                    "szoba_id": "124",
                                    "(No column name)": "6"
                                },
                                {
                                    "szoba_id": "125",
                                    "(No column name)": "1"
                                },
                                {
                                    "szoba_id": "126",
                                    "(No column name)": "6"
                                },
                                {
                                    "szoba_id": "127",
                                    "(No column name)": "7"
                                },
                                {
                                    "szoba_id": "128",
                                    "(No column name)": "5"
                                },
                                {
                                    "szoba_id": "129",
                                    "(No column name)": "4"
                                },
                                {
                                    "szoba_id": "130",
                                    "(No column name)": "6"
                                },
                                {
                                    "szoba_id": "131",
                                    "(No column name)": "5"
                                },
                                {
                                    "szoba_id": "132",
                                    "(No column name)": "6"
                                },
                                {
                                    "szoba_id": "133",
                                    "(No column name)": "6"
                                },
                                {
                                    "szoba_id": "134",
                                    "(No column name)": "6"
                                },
                                {
                                    "szoba_id": "135",
                                    "(No column name)": "3"
                                },
                                {
                                    "szoba_id": "136",
                                    "(No column name)": "3"
                                },
                                {
                                    "szoba_id": "137",
                                    "(No column name)": "6"
                                },
                                {
                                    "szoba_id": "138",
                                    "(No column name)": "7"
                                },
                                {
                                    "szoba_id": "139",
                                    "(No column name)": "7"
                                },
                                {
                                    "szoba_id": "140",
                                    "(No column name)": "8"
                                },
                                {
                                    "szoba_id": "141",
                                    "(No column name)": "6"
                                },
                                {
                                    "szoba_id": "142",
                                    "(No column name)": "2"
                                },
                                {
                                    "szoba_id": "143",
                                    "(No column name)": "7"
                                },
                                {
                                    "szoba_id": "144",
                                    "(No column name)": "5"
                                },
                                {
                                    "szoba_id": "145",
                                    "(No column name)": "6"
                                },
                                {
                                    "szoba_id": "146",
                                    "(No column name)": "6"
                                },
                                {
                                    "szoba_id": "147",
                                    "(No column name)": "1"
                                },
                                {
                                    "szoba_id": "148",
                                    "(No column name)": "6"
                                },
                                {
                                    "szoba_id": "149",
                                    "(No column name)": "7"
                                },
                                {
                                    "szoba_id": "150",
                                    "(No column name)": "6"
                                },
                                {
                                    "szoba_id": "151",
                                    "(No column name)": "3"
                                },
                                {
                                    "szoba_id": "152",
                                    "(No column name)": "4"
                                },
                                {
                                    "szoba_id": "153",
                                    "(No column name)": "5"
                                },
                                {
                                    "szoba_id": "154",
                                    "(No column name)": "5"
                                },
                                {
                                    "szoba_id": "155",
                                    "(No column name)": "5"
                                },
                                {
                                    "szoba_id": "156",
                                    "(No column name)": "7"
                                },
                                {
                                    "szoba_id": "157",
                                    "(No column name)": "5"
                                },
                                {
                                    "szoba_id": "158",
                                    "(No column name)": "3"
                                },
                                {
                                    "szoba_id": "159",
                                    "(No column name)": "0"
                                },
                                {
                                    "szoba_id": "160",
                                    "(No column name)": "5"
                                },
                                {
                                    "szoba_id": "161",
                                    "(No column name)": "6"
                                },
                                {
                                    "szoba_id": "162",
                                    "(No column name)": "3"
                                },
                                {
                                    "szoba_id": "163",
                                    "(No column name)": "7"
                                },
                                {
                                    "szoba_id": "164",
                                    "(No column name)": "5"
                                },
                                {
                                    "szoba_id": "165",
                                    "(No column name)": "7"
                                },
                                {
                                    "szoba_id": "166",
                                    "(No column name)": "3"
                                },
                                {
                                    "szoba_id": "167",
                                    "(No column name)": "2"
                                },
                                {
                                    "szoba_id": "168",
                                    "(No column name)": "5"
                                },
                                {
                                    "szoba_id": "169",
                                    "(No column name)": "6"
                                },
                                {
                                    "szoba_id": "170",
                                    "(No column name)": "5"
                                },
                                {
                                    "szoba_id": "171",
                                    "(No column name)": "5"
                                },
                                {
                                    "szoba_id": "172",
                                    "(No column name)": "9"
                                },
                                {
                                    "szoba_id": "173",
                                    "(No column name)": "4"
                                },
                                {
                                    "szoba_id": "174",
                                    "(No column name)": "4"
                                },
                                {
                                    "szoba_id": "175",
                                    "(No column name)": "5"
                                },
                                {
                                    "szoba_id": "176",
                                    "(No column name)": "6"
                                },
                                {
                                    "szoba_id": "177",
                                    "(No column name)": "4"
                                },
                                {
                                    "szoba_id": "178",
                                    "(No column name)": "4"
                                },
                                {
                                    "szoba_id": "179",
                                    "(No column name)": "3"
                                },
                                {
                                    "szoba_id": "180",
                                    "(No column name)": "3"
                                },
                                {
                                    "szoba_id": "181",
                                    "(No column name)": "6"
                                },
                                {
                                    "szoba_id": "182",
                                    "(No column name)": "12"
                                },
                                {
                                    "szoba_id": "183",
                                    "(No column name)": "4"
                                },
                                {
                                    "szoba_id": "184",
                                    "(No column name)": "4"
                                },
                                {
                                    "szoba_id": "185",
                                    "(No column name)": "12"
                                },
                                {
                                    "szoba_id": "186",
                                    "(No column name)": "4"
                                },
                                {
                                    "szoba_id": "187",
                                    "(No column name)": "7"
                                },
                                {
                                    "szoba_id": "188",
                                    "(No column name)": "6"
                                },
                                {
                                    "szoba_id": "189",
                                    "(No column name)": "5"
                                },
                                {
                                    "szoba_id": "190",
                                    "(No column name)": "5"
                                },
                                {
                                    "szoba_id": "191",
                                    "(No column name)": "5"
                                },
                                {
                                    "szoba_id": "192",
                                    "(No column name)": "2"
                                },
                                {
                                    "szoba_id": "193",
                                    "(No column name)": "7"
                                },
                                {
                                    "szoba_id": "194",
                                    "(No column name)": "1"
                                },
                                {
                                    "szoba_id": "195",
                                    "(No column name)": "6"
                                },
                                {
                                    "szoba_id": "196",
                                    "(No column name)": "4"
                                },
                                {
                                    "szoba_id": "197",
                                    "(No column name)": "6"
                                },
                                {
                                    "szoba_id": "198",
                                    "(No column name)": "8"
                                },
                                {
                                    "szoba_id": "199",
                                    "(No column name)": "0"
                                },
                                {
                                    "szoba_id": "200",
                                    "(No column name)": "0"
                                },
                                {
                                    "szoba_id": "201",
                                    "(No column name)": "0"
                                },
                                {
                                    "szoba_id": "202",
                                    "(No column name)": "0"
                                },
                                {
                                    "szoba_id": "203",
                                    "(No column name)": "0"
                                },
                                {
                                    "szoba_id": "204",
                                    "(No column name)": "0"
                                },
                                {
                                    "szoba_id": "205",
                                    "(No column name)": "0"
                                },
                                {
                                    "szoba_id": "206",
                                    "(No column name)": "0"
                                },
                                {
                                    "szoba_id": "207",
                                    "(No column name)": "0"
                                },
                                {
                                    "szoba_id": "208",
                                    "(No column name)": "0"
                                },
                                {
                                    "szoba_id": "209",
                                    "(No column name)": "0"
                                },
                                {
                                    "szoba_id": "210",
                                    "(No column name)": "0"
                                },
                                {
                                    "szoba_id": "211",
                                    "(No column name)": "0"
                                },
                                {
                                    "szoba_id": "212",
                                    "(No column name)": "0"
                                },
                                {
                                    "szoba_id": "213",
                                    "(No column name)": "0"
                                },
                                {
                                    "szoba_id": "214",
                                    "(No column name)": "0"
                                },
                                {
                                    "szoba_id": "215",
                                    "(No column name)": "0"
                                },
                                {
                                    "szoba_id": "216",
                                    "(No column name)": "0"
                                },
                                {
                                    "szoba_id": "217",
                                    "(No column name)": "0"
                                },
                                {
                                    "szoba_id": "218",
                                    "(No column name)": "0"
                                },
                                {
                                    "szoba_id": "219",
                                    "(No column name)": "0"
                                },
                                {
                                    "szoba_id": "220",
                                    "(No column name)": "0"
                                },
                                {
                                    "szoba_id": "221",
                                    "(No column name)": "0"
                                },
                                {
                                    "szoba_id": "222",
                                    "(No column name)": "0"
                                },
                                {
                                    "szoba_id": "223",
                                    "(No column name)": "0"
                                },
                                {
                                    "szoba_id": "224",
                                    "(No column name)": "0"
                                },
                                {
                                    "szoba_id": "225",
                                    "(No column name)": "0"
                                },
                                {
                                    "szoba_id": "226",
                                    "(No column name)": "0"
                                },
                                {
                                    "szoba_id": "227",
                                    "(No column name)": "0"
                                },
                                {
                                    "szoba_id": "228",
                                    "(No column name)": "0"
                                },
                                {
                                    "szoba_id": "229",
                                    "(No column name)": "0"
                                },
                                {
                                    "szoba_id": "230",
                                    "(No column name)": "0"
                                },
                                {
                                    "szoba_id": "231",
                                    "(No column name)": "0"
                                },
                                {
                                    "szoba_id": "232",
                                    "(No column name)": "0"
                                },
                                {
                                    "szoba_id": "233",
                                    "(No column name)": "0"
                                },
                                {
                                    "szoba_id": "234",
                                    "(No column name)": "0"
                                },
                                {
                                    "szoba_id": "235",
                                    "(No column name)": "0"
                                },
                                {
                                    "szoba_id": "236",
                                    "(No column name)": "0"
                                },
                                {
                                    "szoba_id": "237",
                                    "(No column name)": "0"
                                },
                                {
                                    "szoba_id": "238",
                                    "(No column name)": "0"
                                },
                                {
                                    "szoba_id": "239",
                                    "(No column name)": "0"
                                },
                                {
                                    "szoba_id": "240",
                                    "(No column name)": "0"
                                },
                                {
                                    "szoba_id": "241",
                                    "(No column name)": "0"
                                },
                                {
                                    "szoba_id": "242",
                                    "(No column name)": "0"
                                },
                                {
                                    "szoba_id": "243",
                                    "(No column name)": "0"
                                },
                                {
                                    "szoba_id": "244",
                                    "(No column name)": "0"
                                },
                                {
                                    "szoba_id": "245",
                                    "(No column name)": "0"
                                },
                                {
                                    "szoba_id": "246",
                                    "(No column name)": "0"
                                },
                                {
                                    "szoba_id": "247",
                                    "(No column name)": "0"
                                },
                                {
                                    "szoba_id": "248",
                                    "(No column name)": "0"
                                },
                                {
                                    "szoba_id": "249",
                                    "(No column name)": "0"
                                },
                                {
                                    "szoba_id": "250",
                                    "(No column name)": "0"
                                },
                                {
                                    "szoba_id": "251",
                                    "(No column name)": "0"
                                },
                                {
                                    "szoba_id": "252",
                                    "(No column name)": "0"
                                },
                                {
                                    "szoba_id": "253",
                                    "(No column name)": "0"
                                },
                                {
                                    "szoba_id": "254",
                                    "(No column name)": "0"
                                },
                                {
                                    "szoba_id": "255",
                                    "(No column name)": "0"
                                },
                                {
                                    "szoba_id": "256",
                                    "(No column name)": "0"
                                },
                                {
                                    "szoba_id": "257",
                                    "(No column name)": "0"
                                },
                                {
                                    "szoba_id": "258",
                                    "(No column name)": "0"
                                },
                                {
                                    "szoba_id": "259",
                                    "(No column name)": "0"
                                },
                                {
                                    "szoba_id": "260",
                                    "(No column name)": "0"
                                },
                                {
                                    "szoba_id": "261",
                                    "(No column name)": "0"
                                },
                                {
                                    "szoba_id": "262",
                                    "(No column name)": "0"
                                },
                                {
                                    "szoba_id": "263",
                                    "(No column name)": "0"
                                },
                                {
                                    "szoba_id": "264",
                                    "(No column name)": "0"
                                },
                                {
                                    "szoba_id": "265",
                                    "(No column name)": "0"
                                },
                                {
                                    "szoba_id": "266",
                                    "(No column name)": "0"
                                },
                                {
                                    "szoba_id": "267",
                                    "(No column name)": "0"
                                },
                                {
                                    "szoba_id": "268",
                                    "(No column name)": "0"
                                },
                                {
                                    "szoba_id": "269",
                                    "(No column name)": "0"
                                },
                                {
                                    "szoba_id": "270",
                                    "(No column name)": "0"
                                },
                                {
                                    "szoba_id": "271",
                                    "(No column name)": "0"
                                },
                                {
                                    "szoba_id": "272",
                                    "(No column name)": "0"
                                },
                                {
                                    "szoba_id": "273",
                                    "(No column name)": "0"
                                },
                                {
                                    "szoba_id": "274",
                                    "(No column name)": "0"
                                },
                                {
                                    "szoba_id": "275",
                                    "(No column name)": "0"
                                },
                                {
                                    "szoba_id": "276",
                                    "(No column name)": "0"
                                },
                                {
                                    "szoba_id": "277",
                                    "(No column name)": "0"
                                },
                                {
                                    "szoba_id": "278",
                                    "(No column name)": "0"
                                },
                                {
                                    "szoba_id": "279",
                                    "(No column name)": "0"
                                },
                                {
                                    "szoba_id": "280",
                                    "(No column name)": "0"
                                },
                                {
                                    "szoba_id": "281",
                                    "(No column name)": "0"
                                },
                                {
                                    "szoba_id": "282",
                                    "(No column name)": "0"
                                },
                                {
                                    "szoba_id": "283",
                                    "(No column name)": "0"
                                },
                                {
                                    "szoba_id": "284",
                                    "(No column name)": "0"
                                },
                                {
                                    "szoba_id": "285",
                                    "(No column name)": "0"
                                },
                                {
                                    "szoba_id": "286",
                                    "(No column name)": "0"
                                },
                                {
                                    "szoba_id": "287",
                                    "(No column name)": "0"
                                },
                                {
                                    "szoba_id": "288",
                                    "(No column name)": "0"
                                },
                                {
                                    "szoba_id": "289",
                                    "(No column name)": "0"
                                },
                                {
                                    "szoba_id": "290",
                                    "(No column name)": "0"
                                },
                                {
                                    "szoba_id": "291",
                                    "(No column name)": "0"
                                },
                                {
                                    "szoba_id": "292",
                                    "(No column name)": "0"
                                },
                                {
                                    "szoba_id": "293",
                                    "(No column name)": "0"
                                },
                                {
                                    "szoba_id": "294",
                                    "(No column name)": "0"
                                }
                            ]
                        },
                        "text/html": "<table><tr><th>szoba_id</th><th>(No column name)</th></tr><tr><td>1</td><td>8</td></tr><tr><td>2</td><td>4</td></tr><tr><td>3</td><td>8</td></tr><tr><td>4</td><td>6</td></tr><tr><td>5</td><td>4</td></tr><tr><td>6</td><td>6</td></tr><tr><td>7</td><td>6</td></tr><tr><td>8</td><td>5</td></tr><tr><td>9</td><td>6</td></tr><tr><td>10</td><td>4</td></tr><tr><td>11</td><td>4</td></tr><tr><td>12</td><td>9</td></tr><tr><td>13</td><td>4</td></tr><tr><td>14</td><td>3</td></tr><tr><td>15</td><td>6</td></tr><tr><td>16</td><td>5</td></tr><tr><td>17</td><td>6</td></tr><tr><td>18</td><td>6</td></tr><tr><td>19</td><td>6</td></tr><tr><td>20</td><td>5</td></tr><tr><td>21</td><td>4</td></tr><tr><td>22</td><td>6</td></tr><tr><td>23</td><td>3</td></tr><tr><td>24</td><td>3</td></tr><tr><td>25</td><td>2</td></tr><tr><td>26</td><td>2</td></tr><tr><td>27</td><td>7</td></tr><tr><td>28</td><td>6</td></tr><tr><td>29</td><td>6</td></tr><tr><td>30</td><td>3</td></tr><tr><td>31</td><td>3</td></tr><tr><td>32</td><td>1</td></tr><tr><td>33</td><td>6</td></tr><tr><td>34</td><td>4</td></tr><tr><td>35</td><td>9</td></tr><tr><td>36</td><td>6</td></tr><tr><td>37</td><td>3</td></tr><tr><td>38</td><td>8</td></tr><tr><td>39</td><td>7</td></tr><tr><td>40</td><td>4</td></tr><tr><td>41</td><td>2</td></tr><tr><td>42</td><td>6</td></tr><tr><td>43</td><td>8</td></tr><tr><td>44</td><td>6</td></tr><tr><td>45</td><td>5</td></tr><tr><td>46</td><td>4</td></tr><tr><td>47</td><td>2</td></tr><tr><td>48</td><td>9</td></tr><tr><td>49</td><td>7</td></tr><tr><td>50</td><td>4</td></tr><tr><td>51</td><td>5</td></tr><tr><td>52</td><td>5</td></tr><tr><td>53</td><td>2</td></tr><tr><td>54</td><td>6</td></tr><tr><td>55</td><td>8</td></tr><tr><td>56</td><td>2</td></tr><tr><td>57</td><td>4</td></tr><tr><td>58</td><td>13</td></tr><tr><td>59</td><td>7</td></tr><tr><td>60</td><td>1</td></tr><tr><td>61</td><td>5</td></tr><tr><td>62</td><td>5</td></tr><tr><td>63</td><td>4</td></tr><tr><td>64</td><td>6</td></tr><tr><td>65</td><td>1</td></tr><tr><td>66</td><td>4</td></tr><tr><td>67</td><td>6</td></tr><tr><td>68</td><td>3</td></tr><tr><td>69</td><td>4</td></tr><tr><td>70</td><td>11</td></tr><tr><td>71</td><td>3</td></tr><tr><td>72</td><td>4</td></tr><tr><td>73</td><td>4</td></tr><tr><td>74</td><td>9</td></tr><tr><td>75</td><td>3</td></tr><tr><td>76</td><td>3</td></tr><tr><td>77</td><td>6</td></tr><tr><td>78</td><td>6</td></tr><tr><td>79</td><td>5</td></tr><tr><td>80</td><td>7</td></tr><tr><td>81</td><td>5</td></tr><tr><td>82</td><td>6</td></tr><tr><td>83</td><td>8</td></tr><tr><td>84</td><td>4</td></tr><tr><td>85</td><td>4</td></tr><tr><td>86</td><td>5</td></tr><tr><td>87</td><td>5</td></tr><tr><td>88</td><td>8</td></tr><tr><td>89</td><td>8</td></tr><tr><td>90</td><td>4</td></tr><tr><td>91</td><td>4</td></tr><tr><td>92</td><td>6</td></tr><tr><td>93</td><td>5</td></tr><tr><td>94</td><td>10</td></tr><tr><td>95</td><td>4</td></tr><tr><td>96</td><td>7</td></tr><tr><td>97</td><td>7</td></tr><tr><td>98</td><td>4</td></tr><tr><td>99</td><td>5</td></tr><tr><td>100</td><td>4</td></tr><tr><td>101</td><td>3</td></tr><tr><td>102</td><td>2</td></tr><tr><td>103</td><td>4</td></tr><tr><td>104</td><td>4</td></tr><tr><td>105</td><td>2</td></tr><tr><td>106</td><td>6</td></tr><tr><td>107</td><td>5</td></tr><tr><td>108</td><td>2</td></tr><tr><td>109</td><td>7</td></tr><tr><td>110</td><td>8</td></tr><tr><td>111</td><td>5</td></tr><tr><td>112</td><td>5</td></tr><tr><td>113</td><td>5</td></tr><tr><td>114</td><td>4</td></tr><tr><td>115</td><td>7</td></tr><tr><td>116</td><td>2</td></tr><tr><td>117</td><td>8</td></tr><tr><td>118</td><td>7</td></tr><tr><td>119</td><td>5</td></tr><tr><td>120</td><td>6</td></tr><tr><td>121</td><td>8</td></tr><tr><td>122</td><td>9</td></tr><tr><td>123</td><td>5</td></tr><tr><td>124</td><td>6</td></tr><tr><td>125</td><td>1</td></tr><tr><td>126</td><td>6</td></tr><tr><td>127</td><td>7</td></tr><tr><td>128</td><td>5</td></tr><tr><td>129</td><td>4</td></tr><tr><td>130</td><td>6</td></tr><tr><td>131</td><td>5</td></tr><tr><td>132</td><td>6</td></tr><tr><td>133</td><td>6</td></tr><tr><td>134</td><td>6</td></tr><tr><td>135</td><td>3</td></tr><tr><td>136</td><td>3</td></tr><tr><td>137</td><td>6</td></tr><tr><td>138</td><td>7</td></tr><tr><td>139</td><td>7</td></tr><tr><td>140</td><td>8</td></tr><tr><td>141</td><td>6</td></tr><tr><td>142</td><td>2</td></tr><tr><td>143</td><td>7</td></tr><tr><td>144</td><td>5</td></tr><tr><td>145</td><td>6</td></tr><tr><td>146</td><td>6</td></tr><tr><td>147</td><td>1</td></tr><tr><td>148</td><td>6</td></tr><tr><td>149</td><td>7</td></tr><tr><td>150</td><td>6</td></tr><tr><td>151</td><td>3</td></tr><tr><td>152</td><td>4</td></tr><tr><td>153</td><td>5</td></tr><tr><td>154</td><td>5</td></tr><tr><td>155</td><td>5</td></tr><tr><td>156</td><td>7</td></tr><tr><td>157</td><td>5</td></tr><tr><td>158</td><td>3</td></tr><tr><td>159</td><td>0</td></tr><tr><td>160</td><td>5</td></tr><tr><td>161</td><td>6</td></tr><tr><td>162</td><td>3</td></tr><tr><td>163</td><td>7</td></tr><tr><td>164</td><td>5</td></tr><tr><td>165</td><td>7</td></tr><tr><td>166</td><td>3</td></tr><tr><td>167</td><td>2</td></tr><tr><td>168</td><td>5</td></tr><tr><td>169</td><td>6</td></tr><tr><td>170</td><td>5</td></tr><tr><td>171</td><td>5</td></tr><tr><td>172</td><td>9</td></tr><tr><td>173</td><td>4</td></tr><tr><td>174</td><td>4</td></tr><tr><td>175</td><td>5</td></tr><tr><td>176</td><td>6</td></tr><tr><td>177</td><td>4</td></tr><tr><td>178</td><td>4</td></tr><tr><td>179</td><td>3</td></tr><tr><td>180</td><td>3</td></tr><tr><td>181</td><td>6</td></tr><tr><td>182</td><td>12</td></tr><tr><td>183</td><td>4</td></tr><tr><td>184</td><td>4</td></tr><tr><td>185</td><td>12</td></tr><tr><td>186</td><td>4</td></tr><tr><td>187</td><td>7</td></tr><tr><td>188</td><td>6</td></tr><tr><td>189</td><td>5</td></tr><tr><td>190</td><td>5</td></tr><tr><td>191</td><td>5</td></tr><tr><td>192</td><td>2</td></tr><tr><td>193</td><td>7</td></tr><tr><td>194</td><td>1</td></tr><tr><td>195</td><td>6</td></tr><tr><td>196</td><td>4</td></tr><tr><td>197</td><td>6</td></tr><tr><td>198</td><td>8</td></tr><tr><td>199</td><td>0</td></tr><tr><td>200</td><td>0</td></tr><tr><td>201</td><td>0</td></tr><tr><td>202</td><td>0</td></tr><tr><td>203</td><td>0</td></tr><tr><td>204</td><td>0</td></tr><tr><td>205</td><td>0</td></tr><tr><td>206</td><td>0</td></tr><tr><td>207</td><td>0</td></tr><tr><td>208</td><td>0</td></tr><tr><td>209</td><td>0</td></tr><tr><td>210</td><td>0</td></tr><tr><td>211</td><td>0</td></tr><tr><td>212</td><td>0</td></tr><tr><td>213</td><td>0</td></tr><tr><td>214</td><td>0</td></tr><tr><td>215</td><td>0</td></tr><tr><td>216</td><td>0</td></tr><tr><td>217</td><td>0</td></tr><tr><td>218</td><td>0</td></tr><tr><td>219</td><td>0</td></tr><tr><td>220</td><td>0</td></tr><tr><td>221</td><td>0</td></tr><tr><td>222</td><td>0</td></tr><tr><td>223</td><td>0</td></tr><tr><td>224</td><td>0</td></tr><tr><td>225</td><td>0</td></tr><tr><td>226</td><td>0</td></tr><tr><td>227</td><td>0</td></tr><tr><td>228</td><td>0</td></tr><tr><td>229</td><td>0</td></tr><tr><td>230</td><td>0</td></tr><tr><td>231</td><td>0</td></tr><tr><td>232</td><td>0</td></tr><tr><td>233</td><td>0</td></tr><tr><td>234</td><td>0</td></tr><tr><td>235</td><td>0</td></tr><tr><td>236</td><td>0</td></tr><tr><td>237</td><td>0</td></tr><tr><td>238</td><td>0</td></tr><tr><td>239</td><td>0</td></tr><tr><td>240</td><td>0</td></tr><tr><td>241</td><td>0</td></tr><tr><td>242</td><td>0</td></tr><tr><td>243</td><td>0</td></tr><tr><td>244</td><td>0</td></tr><tr><td>245</td><td>0</td></tr><tr><td>246</td><td>0</td></tr><tr><td>247</td><td>0</td></tr><tr><td>248</td><td>0</td></tr><tr><td>249</td><td>0</td></tr><tr><td>250</td><td>0</td></tr><tr><td>251</td><td>0</td></tr><tr><td>252</td><td>0</td></tr><tr><td>253</td><td>0</td></tr><tr><td>254</td><td>0</td></tr><tr><td>255</td><td>0</td></tr><tr><td>256</td><td>0</td></tr><tr><td>257</td><td>0</td></tr><tr><td>258</td><td>0</td></tr><tr><td>259</td><td>0</td></tr><tr><td>260</td><td>0</td></tr><tr><td>261</td><td>0</td></tr><tr><td>262</td><td>0</td></tr><tr><td>263</td><td>0</td></tr><tr><td>264</td><td>0</td></tr><tr><td>265</td><td>0</td></tr><tr><td>266</td><td>0</td></tr><tr><td>267</td><td>0</td></tr><tr><td>268</td><td>0</td></tr><tr><td>269</td><td>0</td></tr><tr><td>270</td><td>0</td></tr><tr><td>271</td><td>0</td></tr><tr><td>272</td><td>0</td></tr><tr><td>273</td><td>0</td></tr><tr><td>274</td><td>0</td></tr><tr><td>275</td><td>0</td></tr><tr><td>276</td><td>0</td></tr><tr><td>277</td><td>0</td></tr><tr><td>278</td><td>0</td></tr><tr><td>279</td><td>0</td></tr><tr><td>280</td><td>0</td></tr><tr><td>281</td><td>0</td></tr><tr><td>282</td><td>0</td></tr><tr><td>283</td><td>0</td></tr><tr><td>284</td><td>0</td></tr><tr><td>285</td><td>0</td></tr><tr><td>286</td><td>0</td></tr><tr><td>287</td><td>0</td></tr><tr><td>288</td><td>0</td></tr><tr><td>289</td><td>0</td></tr><tr><td>290</td><td>0</td></tr><tr><td>291</td><td>0</td></tr><tr><td>292</td><td>0</td></tr><tr><td>293</td><td>0</td></tr><tr><td>294</td><td>0</td></tr></table>"
                    },
                    "metadata": {}
                }
            ],
            "execution_count": 1
        },
        {
            "cell_type": "markdown",
            "source": [
                "Listázzuk azon szálláshelyek azonosítóját és nevét, amelyek a saját helyükön (HELY) a legtöbb csillaggal rendelkeznek!"
            ],
            "metadata": {
                "azdata_cell_guid": "8801220e-92a8-45a4-a2d5-786c7a1cda8b"
            },
            "attachments": {}
        },
        {
            "cell_type": "code",
            "source": [
                "select szh.SZALLAS_ID, szh.SZALLAS_NEV\r\n",
                "from szallashely szh\r\n",
                "where szh.CSILLAGOK_SZAMA = (\r\n",
                "    select max(szh2.CSILLAGOK_SZAMA)\r\n",
                "    from szallashely szh2\r\n",
                "    where szh2.HELY = szh.HELY\r\n",
                ")"
            ],
            "metadata": {
                "azdata_cell_guid": "93608e09-8aad-40da-b40b-54b3773f8af7",
                "language": "sql"
            },
            "outputs": [
                {
                    "output_type": "display_data",
                    "data": {
                        "text/html": "(11 rows affected)"
                    },
                    "metadata": {}
                },
                {
                    "output_type": "display_data",
                    "data": {
                        "text/html": "Total execution time: 00:00:00.011"
                    },
                    "metadata": {}
                },
                {
                    "output_type": "execute_result",
                    "execution_count": 6,
                    "data": {
                        "application/vnd.dataresource+json": {
                            "schema": {
                                "fields": [
                                    {
                                        "name": "SZALLAS_ID"
                                    },
                                    {
                                        "name": "SZALLAS_NEV"
                                    }
                                ]
                            },
                            "data": [
                                {
                                    "SZALLAS_ID": "17",
                                    "SZALLAS_NEV": "Szarvas Hotel"
                                },
                                {
                                    "SZALLAS_ID": "16",
                                    "SZALLAS_NEV": "Bagoly Hotel"
                                },
                                {
                                    "SZALLAS_ID": "3",
                                    "SZALLAS_NEV": "Fortuna Apartman"
                                },
                                {
                                    "SZALLAS_ID": "18",
                                    "SZALLAS_NEV": "Fortuna Apartman"
                                },
                                {
                                    "SZALLAS_ID": "19",
                                    "SZALLAS_NEV": "Nyárfás Vendégház"
                                },
                                {
                                    "SZALLAS_ID": "21",
                                    "SZALLAS_NEV": "Müller Vendégház"
                                },
                                {
                                    "SZALLAS_ID": "13",
                                    "SZALLAS_NEV": "Riviéra Panzió"
                                },
                                {
                                    "SZALLAS_ID": "10",
                                    "SZALLAS_NEV": "Lagúna Hotel"
                                },
                                {
                                    "SZALLAS_ID": "5",
                                    "SZALLAS_NEV": "Fortuna Panzió"
                                },
                                {
                                    "SZALLAS_ID": "11",
                                    "SZALLAS_NEV": "Partiszél Vendégház"
                                },
                                {
                                    "SZALLAS_ID": "8",
                                    "SZALLAS_NEV": "Hotel Három Hattyú"
                                }
                            ]
                        },
                        "text/html": "<table><tr><th>SZALLAS_ID</th><th>SZALLAS_NEV</th></tr><tr><td>17</td><td>Szarvas Hotel</td></tr><tr><td>16</td><td>Bagoly Hotel</td></tr><tr><td>3</td><td>Fortuna Apartman</td></tr><tr><td>18</td><td>Fortuna Apartman</td></tr><tr><td>19</td><td>Nyárfás Vendégház</td></tr><tr><td>21</td><td>Müller Vendégház</td></tr><tr><td>13</td><td>Riviéra Panzió</td></tr><tr><td>10</td><td>Lagúna Hotel</td></tr><tr><td>5</td><td>Fortuna Panzió</td></tr><tr><td>11</td><td>Partiszél Vendégház</td></tr><tr><td>8</td><td>Hotel Három Hattyú</td></tr></table>"
                    },
                    "metadata": {}
                }
            ],
            "execution_count": 6
        },
        {
            "cell_type": "markdown",
            "source": [
                "Jelenítsük meg, hogy az egyes szálláshelyek szobáit esetén a legutolsó 5 foglalás átlagosan hány főre történt!\n",
                "\n",
                "- A számításnál vegyük figyelembe a felnőtteket és a gyermekeket is\n",
                "- A foglalás dátumánál a METTOL mezőt használjuk"
            ],
            "metadata": {
                "azdata_cell_guid": "f506756f-a48b-41de-8f04-32c880c6c00a"
            },
            "attachments": {}
        },
        {
            "cell_type": "code",
            "source": [
                "select szh.SZALLAS_NEV,\r\n",
                "        f.METTOL, \r\n",
                "        AVG(FELNOTT_SZAM + GYERMEK_SZAM) over (PARTITION by szh.szallas_nev order by f.mettol\r\n",
                "                                            rows between 5 preceding and 1 preceding)\r\n",
                "                                            as '5 legutolsó foglalás átlatlétszáma '\r\n",
                "FROM Foglalas f JOIN Szoba sz ON f.szoba_fk = sz.szoba_id\r\n",
                "                JOIN Szallashely szh ON sz.SZALLAS_FK = szh.SZALLAS_ID\r\n",
                "\r\n",
                ""
            ],
            "metadata": {
                "azdata_cell_guid": "2042759d-b611-4652-8330-82cc402d565f",
                "language": "sql"
            },
            "outputs": [
                {
                    "output_type": "display_data",
                    "data": {
                        "text/html": "(1027 rows affected)"
                    },
                    "metadata": {}
                },
                {
                    "output_type": "display_data",
                    "data": {
                        "text/html": "Total execution time: 00:00:00.037"
                    },
                    "metadata": {}
                },
                {
                    "output_type": "execute_result",
                    "metadata": {},
                    "execution_count": 3,
                    "data": {
                        "application/vnd.dataresource+json": {
                            "schema": {
                                "fields": [
                                    {
                                        "name": "SZALLAS_NEV"
                                    },
                                    {
                                        "name": "METTOL"
                                    },
                                    {
                                        "name": "5 legutolsó foglalás átlatlétszáma "
                                    }
                                ]
                            },
                            "data": [
                                {
                                    "SZALLAS_NEV": "Családi Ház",
                                    "METTOL": "2016-05-22",
                                    "5 legutolsó foglalás átlatlétszáma ": "NULL"
                                },
                                {
                                    "SZALLAS_NEV": "Családi Ház",
                                    "METTOL": "2016-05-24",
                                    "5 legutolsó foglalás átlatlétszáma ": "4"
                                },
                                {
                                    "SZALLAS_NEV": "Családi Ház",
                                    "METTOL": "2016-06-03",
                                    "5 legutolsó foglalás átlatlétszáma ": "4"
                                },
                                {
                                    "SZALLAS_NEV": "Családi Ház",
                                    "METTOL": "2016-06-20",
                                    "5 legutolsó foglalás átlatlétszáma ": "3"
                                },
                                {
                                    "SZALLAS_NEV": "Családi Ház",
                                    "METTOL": "2016-07-13",
                                    "5 legutolsó foglalás átlatlétszáma ": "3"
                                },
                                {
                                    "SZALLAS_NEV": "Családi Ház",
                                    "METTOL": "2016-07-18",
                                    "5 legutolsó foglalás átlatlétszáma ": "3"
                                },
                                {
                                    "SZALLAS_NEV": "Családi Ház",
                                    "METTOL": "2016-08-08",
                                    "5 legutolsó foglalás átlatlétszáma ": "3"
                                },
                                {
                                    "SZALLAS_NEV": "Családi Ház",
                                    "METTOL": "2016-08-16",
                                    "5 legutolsó foglalás átlatlétszáma ": "2"
                                },
                                {
                                    "SZALLAS_NEV": "Családi Ház",
                                    "METTOL": "2016-08-24",
                                    "5 legutolsó foglalás átlatlétszáma ": "2"
                                },
                                {
                                    "SZALLAS_NEV": "Családi Ház",
                                    "METTOL": "2016-09-12",
                                    "5 legutolsó foglalás átlatlétszáma ": "2"
                                },
                                {
                                    "SZALLAS_NEV": "Családi Ház",
                                    "METTOL": "2016-10-08",
                                    "5 legutolsó foglalás átlatlétszáma ": "2"
                                },
                                {
                                    "SZALLAS_NEV": "Családi Ház",
                                    "METTOL": "2016-11-03",
                                    "5 legutolsó foglalás átlatlétszáma ": "2"
                                },
                                {
                                    "SZALLAS_NEV": "Családi Ház",
                                    "METTOL": "2016-12-06",
                                    "5 legutolsó foglalás átlatlétszáma ": "2"
                                },
                                {
                                    "SZALLAS_NEV": "Családi Ház",
                                    "METTOL": "2017-01-04",
                                    "5 legutolsó foglalás átlatlétszáma ": "2"
                                },
                                {
                                    "SZALLAS_NEV": "Családi Ház",
                                    "METTOL": "2017-01-16",
                                    "5 legutolsó foglalás átlatlétszáma ": "2"
                                },
                                {
                                    "SZALLAS_NEV": "Családi Ház",
                                    "METTOL": "2017-01-23",
                                    "5 legutolsó foglalás átlatlétszáma ": "2"
                                },
                                {
                                    "SZALLAS_NEV": "Családi Ház",
                                    "METTOL": "2017-02-04",
                                    "5 legutolsó foglalás átlatlétszáma ": "2"
                                },
                                {
                                    "SZALLAS_NEV": "Családi Ház",
                                    "METTOL": "2017-02-16",
                                    "5 legutolsó foglalás átlatlétszáma ": "2"
                                },
                                {
                                    "SZALLAS_NEV": "Fortuna Apartman",
                                    "METTOL": "2016-04-09",
                                    "5 legutolsó foglalás átlatlétszáma ": "NULL"
                                },
                                {
                                    "SZALLAS_NEV": "Fortuna Apartman",
                                    "METTOL": "2016-04-26",
                                    "5 legutolsó foglalás átlatlétszáma ": "2"
                                },
                                {
                                    "SZALLAS_NEV": "Fortuna Apartman",
                                    "METTOL": "2016-05-08",
                                    "5 legutolsó foglalás átlatlétszáma ": "3"
                                },
                                {
                                    "SZALLAS_NEV": "Fortuna Apartman",
                                    "METTOL": "2016-05-21",
                                    "5 legutolsó foglalás átlatlétszáma ": "2"
                                },
                                {
                                    "SZALLAS_NEV": "Fortuna Apartman",
                                    "METTOL": "2016-05-23",
                                    "5 legutolsó foglalás átlatlétszáma ": "2"
                                },
                                {
                                    "SZALLAS_NEV": "Fortuna Apartman",
                                    "METTOL": "2016-06-04",
                                    "5 legutolsó foglalás átlatlétszáma ": "2"
                                },
                                {
                                    "SZALLAS_NEV": "Fortuna Apartman",
                                    "METTOL": "2016-06-06",
                                    "5 legutolsó foglalás átlatlétszáma ": "2"
                                },
                                {
                                    "SZALLAS_NEV": "Fortuna Apartman",
                                    "METTOL": "2016-06-08",
                                    "5 legutolsó foglalás átlatlétszáma ": "2"
                                },
                                {
                                    "SZALLAS_NEV": "Fortuna Apartman",
                                    "METTOL": "2016-06-10",
                                    "5 legutolsó foglalás átlatlétszáma ": "2"
                                },
                                {
                                    "SZALLAS_NEV": "Fortuna Apartman",
                                    "METTOL": "2016-06-10",
                                    "5 legutolsó foglalás átlatlétszáma ": "1"
                                },
                                {
                                    "SZALLAS_NEV": "Fortuna Apartman",
                                    "METTOL": "2016-07-03",
                                    "5 legutolsó foglalás átlatlétszáma ": "1"
                                },
                                {
                                    "SZALLAS_NEV": "Fortuna Apartman",
                                    "METTOL": "2016-07-20",
                                    "5 legutolsó foglalás átlatlétszáma ": "1"
                                },
                                {
                                    "SZALLAS_NEV": "Fortuna Apartman",
                                    "METTOL": "2016-07-24",
                                    "5 legutolsó foglalás átlatlétszáma ": "1"
                                },
                                {
                                    "SZALLAS_NEV": "Fortuna Apartman",
                                    "METTOL": "2016-08-01",
                                    "5 legutolsó foglalás átlatlétszáma ": "1"
                                },
                                {
                                    "SZALLAS_NEV": "Fortuna Apartman",
                                    "METTOL": "2016-08-04",
                                    "5 legutolsó foglalás átlatlétszáma ": "1"
                                },
                                {
                                    "SZALLAS_NEV": "Fortuna Apartman",
                                    "METTOL": "2016-08-11",
                                    "5 legutolsó foglalás átlatlétszáma ": "1"
                                },
                                {
                                    "SZALLAS_NEV": "Fortuna Apartman",
                                    "METTOL": "2016-08-14",
                                    "5 legutolsó foglalás átlatlétszáma ": "2"
                                },
                                {
                                    "SZALLAS_NEV": "Fortuna Apartman",
                                    "METTOL": "2016-08-21",
                                    "5 legutolsó foglalás átlatlétszáma ": "2"
                                },
                                {
                                    "SZALLAS_NEV": "Fortuna Apartman",
                                    "METTOL": "2016-08-24",
                                    "5 legutolsó foglalás átlatlétszáma ": "2"
                                },
                                {
                                    "SZALLAS_NEV": "Fortuna Apartman",
                                    "METTOL": "2016-09-04",
                                    "5 legutolsó foglalás átlatlétszáma ": "2"
                                },
                                {
                                    "SZALLAS_NEV": "Fortuna Apartman",
                                    "METTOL": "2016-09-07",
                                    "5 legutolsó foglalás átlatlétszáma ": "2"
                                },
                                {
                                    "SZALLAS_NEV": "Fortuna Apartman",
                                    "METTOL": "2016-09-19",
                                    "5 legutolsó foglalás átlatlétszáma ": "2"
                                },
                                {
                                    "SZALLAS_NEV": "Fortuna Apartman",
                                    "METTOL": "2016-10-01",
                                    "5 legutolsó foglalás átlatlétszáma ": "2"
                                },
                                {
                                    "SZALLAS_NEV": "Fortuna Apartman",
                                    "METTOL": "2016-10-01",
                                    "5 legutolsó foglalás átlatlétszáma ": "2"
                                },
                                {
                                    "SZALLAS_NEV": "Fortuna Apartman",
                                    "METTOL": "2016-10-08",
                                    "5 legutolsó foglalás átlatlétszáma ": "2"
                                },
                                {
                                    "SZALLAS_NEV": "Fortuna Apartman",
                                    "METTOL": "2016-10-09",
                                    "5 legutolsó foglalás átlatlétszáma ": "3"
                                },
                                {
                                    "SZALLAS_NEV": "Fortuna Apartman",
                                    "METTOL": "2016-10-19",
                                    "5 legutolsó foglalás átlatlétszáma ": "3"
                                },
                                {
                                    "SZALLAS_NEV": "Fortuna Apartman",
                                    "METTOL": "2016-10-21",
                                    "5 legutolsó foglalás átlatlétszáma ": "3"
                                },
                                {
                                    "SZALLAS_NEV": "Fortuna Apartman",
                                    "METTOL": "2016-10-26",
                                    "5 legutolsó foglalás átlatlétszáma ": "3"
                                },
                                {
                                    "SZALLAS_NEV": "Fortuna Apartman",
                                    "METTOL": "2016-10-26",
                                    "5 legutolsó foglalás átlatlétszáma ": "4"
                                },
                                {
                                    "SZALLAS_NEV": "Fortuna Apartman",
                                    "METTOL": "2016-10-27",
                                    "5 legutolsó foglalás átlatlétszáma ": "3"
                                },
                                {
                                    "SZALLAS_NEV": "Fortuna Apartman",
                                    "METTOL": "2016-10-28",
                                    "5 legutolsó foglalás átlatlétszáma ": "3"
                                },
                                {
                                    "SZALLAS_NEV": "Fortuna Apartman",
                                    "METTOL": "2016-11-02",
                                    "5 legutolsó foglalás átlatlétszáma ": "3"
                                },
                                {
                                    "SZALLAS_NEV": "Fortuna Apartman",
                                    "METTOL": "2016-11-17",
                                    "5 legutolsó foglalás átlatlétszáma ": "3"
                                },
                                {
                                    "SZALLAS_NEV": "Fortuna Apartman",
                                    "METTOL": "2016-11-25",
                                    "5 legutolsó foglalás átlatlétszáma ": "2"
                                },
                                {
                                    "SZALLAS_NEV": "Fortuna Apartman",
                                    "METTOL": "2017-01-03",
                                    "5 legutolsó foglalás átlatlétszáma ": "2"
                                },
                                {
                                    "SZALLAS_NEV": "Fortuna Apartman",
                                    "METTOL": "2017-02-06",
                                    "5 legutolsó foglalás átlatlétszáma ": "2"
                                },
                                {
                                    "SZALLAS_NEV": "Fortuna Apartman",
                                    "METTOL": "2017-02-14",
                                    "5 legutolsó foglalás átlatlétszáma ": "3"
                                },
                                {
                                    "SZALLAS_NEV": "Fortuna Apartman",
                                    "METTOL": "2017-02-18",
                                    "5 legutolsó foglalás átlatlétszáma ": "3"
                                },
                                {
                                    "SZALLAS_NEV": "Fortuna Panzió",
                                    "METTOL": "2016-04-06",
                                    "5 legutolsó foglalás átlatlétszáma ": "NULL"
                                },
                                {
                                    "SZALLAS_NEV": "Fortuna Panzió",
                                    "METTOL": "2016-04-19",
                                    "5 legutolsó foglalás átlatlétszáma ": "2"
                                },
                                {
                                    "SZALLAS_NEV": "Fortuna Panzió",
                                    "METTOL": "2016-04-19",
                                    "5 legutolsó foglalás átlatlétszáma ": "2"
                                },
                                {
                                    "SZALLAS_NEV": "Fortuna panzió",
                                    "METTOL": "2016-04-24",
                                    "5 legutolsó foglalás átlatlétszáma ": "2"
                                },
                                {
                                    "SZALLAS_NEV": "Fortuna panzió",
                                    "METTOL": "2016-04-25",
                                    "5 legutolsó foglalás átlatlétszáma ": "2"
                                },
                                {
                                    "SZALLAS_NEV": "Fortuna Panzió",
                                    "METTOL": "2016-04-26",
                                    "5 legutolsó foglalás átlatlétszáma ": "2"
                                },
                                {
                                    "SZALLAS_NEV": "Fortuna panzió",
                                    "METTOL": "2016-04-27",
                                    "5 legutolsó foglalás átlatlétszáma ": "2"
                                },
                                {
                                    "SZALLAS_NEV": "Fortuna panzió",
                                    "METTOL": "2016-04-27",
                                    "5 legutolsó foglalás átlatlétszáma ": "2"
                                },
                                {
                                    "SZALLAS_NEV": "Fortuna panzió",
                                    "METTOL": "2016-05-01",
                                    "5 legutolsó foglalás átlatlétszáma ": "2"
                                },
                                {
                                    "SZALLAS_NEV": "Fortuna panzió",
                                    "METTOL": "2016-05-08",
                                    "5 legutolsó foglalás átlatlétszáma ": "2"
                                },
                                {
                                    "SZALLAS_NEV": "Fortuna panzió",
                                    "METTOL": "2016-05-08",
                                    "5 legutolsó foglalás átlatlétszáma ": "2"
                                },
                                {
                                    "SZALLAS_NEV": "Fortuna Panzió",
                                    "METTOL": "2016-05-09",
                                    "5 legutolsó foglalás átlatlétszáma ": "3"
                                },
                                {
                                    "SZALLAS_NEV": "Fortuna Panzió",
                                    "METTOL": "2016-05-21",
                                    "5 legutolsó foglalás átlatlétszáma ": "3"
                                },
                                {
                                    "SZALLAS_NEV": "Fortuna Panzió",
                                    "METTOL": "2016-05-22",
                                    "5 legutolsó foglalás átlatlétszáma ": "3"
                                },
                                {
                                    "SZALLAS_NEV": "Fortuna panzió",
                                    "METTOL": "2016-05-28",
                                    "5 legutolsó foglalás átlatlétszáma ": "3"
                                },
                                {
                                    "SZALLAS_NEV": "Fortuna panzió",
                                    "METTOL": "2016-05-29",
                                    "5 legutolsó foglalás átlatlétszáma ": "3"
                                },
                                {
                                    "SZALLAS_NEV": "Fortuna panzió",
                                    "METTOL": "2016-06-01",
                                    "5 legutolsó foglalás átlatlétszáma ": "2"
                                },
                                {
                                    "SZALLAS_NEV": "Fortuna Panzió",
                                    "METTOL": "2016-06-02",
                                    "5 legutolsó foglalás átlatlétszáma ": "2"
                                },
                                {
                                    "SZALLAS_NEV": "Fortuna panzió",
                                    "METTOL": "2016-06-03",
                                    "5 legutolsó foglalás átlatlétszáma ": "2"
                                },
                                {
                                    "SZALLAS_NEV": "Fortuna panzió",
                                    "METTOL": "2016-06-03",
                                    "5 legutolsó foglalás átlatlétszáma ": "2"
                                },
                                {
                                    "SZALLAS_NEV": "Fortuna panzió",
                                    "METTOL": "2016-06-03",
                                    "5 legutolsó foglalás átlatlétszáma ": "2"
                                },
                                {
                                    "SZALLAS_NEV": "Fortuna panzió",
                                    "METTOL": "2016-06-04",
                                    "5 legutolsó foglalás átlatlétszáma ": "2"
                                },
                                {
                                    "SZALLAS_NEV": "Fortuna panzió",
                                    "METTOL": "2016-06-04",
                                    "5 legutolsó foglalás átlatlétszáma ": "2"
                                },
                                {
                                    "SZALLAS_NEV": "Fortuna Panzió",
                                    "METTOL": "2016-06-06",
                                    "5 legutolsó foglalás átlatlétszáma ": "2"
                                },
                                {
                                    "SZALLAS_NEV": "Fortuna panzió",
                                    "METTOL": "2016-06-06",
                                    "5 legutolsó foglalás átlatlétszáma ": "2"
                                },
                                {
                                    "SZALLAS_NEV": "Fortuna panzió",
                                    "METTOL": "2016-06-06",
                                    "5 legutolsó foglalás átlatlétszáma ": "2"
                                },
                                {
                                    "SZALLAS_NEV": "Fortuna Panzió",
                                    "METTOL": "2016-06-07",
                                    "5 legutolsó foglalás átlatlétszáma ": "2"
                                },
                                {
                                    "SZALLAS_NEV": "Fortuna Panzió",
                                    "METTOL": "2016-06-07",
                                    "5 legutolsó foglalás átlatlétszáma ": "2"
                                },
                                {
                                    "SZALLAS_NEV": "Fortuna Panzió",
                                    "METTOL": "2016-06-13",
                                    "5 legutolsó foglalás átlatlétszáma ": "3"
                                },
                                {
                                    "SZALLAS_NEV": "Fortuna Panzió",
                                    "METTOL": "2016-06-15",
                                    "5 legutolsó foglalás átlatlétszáma ": "2"
                                },
                                {
                                    "SZALLAS_NEV": "Fortuna panzió",
                                    "METTOL": "2016-06-18",
                                    "5 legutolsó foglalás átlatlétszáma ": "2"
                                },
                                {
                                    "SZALLAS_NEV": "Fortuna panzió",
                                    "METTOL": "2016-06-22",
                                    "5 legutolsó foglalás átlatlétszáma ": "2"
                                },
                                {
                                    "SZALLAS_NEV": "Fortuna panzió",
                                    "METTOL": "2016-06-24",
                                    "5 legutolsó foglalás átlatlétszáma ": "2"
                                },
                                {
                                    "SZALLAS_NEV": "Fortuna Panzió",
                                    "METTOL": "2016-06-25",
                                    "5 legutolsó foglalás átlatlétszáma ": "2"
                                },
                                {
                                    "SZALLAS_NEV": "Fortuna panzió",
                                    "METTOL": "2016-07-03",
                                    "5 legutolsó foglalás átlatlétszáma ": "3"
                                },
                                {
                                    "SZALLAS_NEV": "Fortuna panzió",
                                    "METTOL": "2016-07-05",
                                    "5 legutolsó foglalás átlatlétszáma ": "3"
                                },
                                {
                                    "SZALLAS_NEV": "Fortuna Panzió",
                                    "METTOL": "2016-07-08",
                                    "5 legutolsó foglalás átlatlétszáma ": "3"
                                },
                                {
                                    "SZALLAS_NEV": "Fortuna Panzió",
                                    "METTOL": "2016-07-08",
                                    "5 legutolsó foglalás átlatlétszáma ": "2"
                                },
                                {
                                    "SZALLAS_NEV": "Fortuna panzió",
                                    "METTOL": "2016-07-10",
                                    "5 legutolsó foglalás átlatlétszáma ": "2"
                                },
                                {
                                    "SZALLAS_NEV": "Fortuna Panzió",
                                    "METTOL": "2016-07-14",
                                    "5 legutolsó foglalás átlatlétszáma ": "2"
                                },
                                {
                                    "SZALLAS_NEV": "Fortuna panzió",
                                    "METTOL": "2016-07-18",
                                    "5 legutolsó foglalás átlatlétszáma ": "2"
                                },
                                {
                                    "SZALLAS_NEV": "Fortuna panzió",
                                    "METTOL": "2016-07-19",
                                    "5 legutolsó foglalás átlatlétszáma ": "2"
                                },
                                {
                                    "SZALLAS_NEV": "Fortuna panzió",
                                    "METTOL": "2016-07-22",
                                    "5 legutolsó foglalás átlatlétszáma ": "2"
                                },
                                {
                                    "SZALLAS_NEV": "Fortuna panzió",
                                    "METTOL": "2016-07-23",
                                    "5 legutolsó foglalás átlatlétszáma ": "2"
                                },
                                {
                                    "SZALLAS_NEV": "Fortuna panzió",
                                    "METTOL": "2016-07-27",
                                    "5 legutolsó foglalás átlatlétszáma ": "2"
                                },
                                {
                                    "SZALLAS_NEV": "Fortuna panzió",
                                    "METTOL": "2016-07-27",
                                    "5 legutolsó foglalás átlatlétszáma ": "2"
                                },
                                {
                                    "SZALLAS_NEV": "Fortuna panzió",
                                    "METTOL": "2016-08-02",
                                    "5 legutolsó foglalás átlatlétszáma ": "2"
                                },
                                {
                                    "SZALLAS_NEV": "Fortuna panzió",
                                    "METTOL": "2016-08-03",
                                    "5 legutolsó foglalás átlatlétszáma ": "2"
                                },
                                {
                                    "SZALLAS_NEV": "Fortuna Panzió",
                                    "METTOL": "2016-08-03",
                                    "5 legutolsó foglalás átlatlétszáma ": "3"
                                },
                                {
                                    "SZALLAS_NEV": "Fortuna panzió",
                                    "METTOL": "2016-08-05",
                                    "5 legutolsó foglalás átlatlétszáma ": "3"
                                },
                                {
                                    "SZALLAS_NEV": "Fortuna Panzió",
                                    "METTOL": "2016-08-12",
                                    "5 legutolsó foglalás átlatlétszáma ": "3"
                                },
                                {
                                    "SZALLAS_NEV": "Fortuna panzió",
                                    "METTOL": "2016-08-14",
                                    "5 legutolsó foglalás átlatlétszáma ": "3"
                                },
                                {
                                    "SZALLAS_NEV": "Fortuna Panzió",
                                    "METTOL": "2016-08-17",
                                    "5 legutolsó foglalás átlatlétszáma ": "3"
                                },
                                {
                                    "SZALLAS_NEV": "Fortuna Panzió",
                                    "METTOL": "2016-08-20",
                                    "5 legutolsó foglalás átlatlétszáma ": "2"
                                },
                                {
                                    "SZALLAS_NEV": "Fortuna Panzió",
                                    "METTOL": "2016-08-20",
                                    "5 legutolsó foglalás átlatlétszáma ": "2"
                                },
                                {
                                    "SZALLAS_NEV": "Fortuna panzió",
                                    "METTOL": "2016-08-22",
                                    "5 legutolsó foglalás átlatlétszáma ": "2"
                                },
                                {
                                    "SZALLAS_NEV": "Fortuna panzió",
                                    "METTOL": "2016-08-24",
                                    "5 legutolsó foglalás átlatlétszáma ": "2"
                                },
                                {
                                    "SZALLAS_NEV": "Fortuna Panzió",
                                    "METTOL": "2016-08-25",
                                    "5 legutolsó foglalás átlatlétszáma ": "2"
                                },
                                {
                                    "SZALLAS_NEV": "Fortuna Panzió",
                                    "METTOL": "2016-08-25",
                                    "5 legutolsó foglalás átlatlétszáma ": "2"
                                },
                                {
                                    "SZALLAS_NEV": "Fortuna Panzió",
                                    "METTOL": "2016-08-26",
                                    "5 legutolsó foglalás átlatlétszáma ": "2"
                                },
                                {
                                    "SZALLAS_NEV": "Fortuna panzió",
                                    "METTOL": "2016-08-28",
                                    "5 legutolsó foglalás átlatlétszáma ": "2"
                                },
                                {
                                    "SZALLAS_NEV": "Fortuna Panzió",
                                    "METTOL": "2016-09-02",
                                    "5 legutolsó foglalás átlatlétszáma ": "2"
                                },
                                {
                                    "SZALLAS_NEV": "Fortuna panzió",
                                    "METTOL": "2016-09-05",
                                    "5 legutolsó foglalás átlatlétszáma ": "2"
                                },
                                {
                                    "SZALLAS_NEV": "Fortuna panzió",
                                    "METTOL": "2016-09-05",
                                    "5 legutolsó foglalás átlatlétszáma ": "2"
                                },
                                {
                                    "SZALLAS_NEV": "Fortuna panzió",
                                    "METTOL": "2016-09-14",
                                    "5 legutolsó foglalás átlatlétszáma ": "2"
                                },
                                {
                                    "SZALLAS_NEV": "Fortuna panzió",
                                    "METTOL": "2016-09-15",
                                    "5 legutolsó foglalás átlatlétszáma ": "2"
                                },
                                {
                                    "SZALLAS_NEV": "Fortuna Panzió",
                                    "METTOL": "2016-09-16",
                                    "5 legutolsó foglalás átlatlétszáma ": "2"
                                },
                                {
                                    "SZALLAS_NEV": "Fortuna panzió",
                                    "METTOL": "2016-09-17",
                                    "5 legutolsó foglalás átlatlétszáma ": "2"
                                },
                                {
                                    "SZALLAS_NEV": "Fortuna Panzió",
                                    "METTOL": "2016-09-18",
                                    "5 legutolsó foglalás átlatlétszáma ": "2"
                                },
                                {
                                    "SZALLAS_NEV": "Fortuna panzió",
                                    "METTOL": "2016-09-23",
                                    "5 legutolsó foglalás átlatlétszáma ": "2"
                                },
                                {
                                    "SZALLAS_NEV": "Fortuna panzió",
                                    "METTOL": "2016-09-23",
                                    "5 legutolsó foglalás átlatlétszáma ": "1"
                                },
                                {
                                    "SZALLAS_NEV": "Fortuna panzió",
                                    "METTOL": "2016-09-26",
                                    "5 legutolsó foglalás átlatlétszáma ": "2"
                                },
                                {
                                    "SZALLAS_NEV": "Fortuna Panzió",
                                    "METTOL": "2016-09-29",
                                    "5 legutolsó foglalás átlatlétszáma ": "2"
                                },
                                {
                                    "SZALLAS_NEV": "Fortuna Panzió",
                                    "METTOL": "2016-10-03",
                                    "5 legutolsó foglalás átlatlétszáma ": "2"
                                },
                                {
                                    "SZALLAS_NEV": "Fortuna Panzió",
                                    "METTOL": "2016-10-09",
                                    "5 legutolsó foglalás átlatlétszáma ": "3"
                                },
                                {
                                    "SZALLAS_NEV": "Fortuna panzió",
                                    "METTOL": "2016-10-09",
                                    "5 legutolsó foglalás átlatlétszáma ": "3"
                                },
                                {
                                    "SZALLAS_NEV": "Fortuna Panzió",
                                    "METTOL": "2016-10-09",
                                    "5 legutolsó foglalás átlatlétszáma ": "2"
                                },
                                {
                                    "SZALLAS_NEV": "Fortuna panzió",
                                    "METTOL": "2016-10-13",
                                    "5 legutolsó foglalás átlatlétszáma ": "2"
                                },
                                {
                                    "SZALLAS_NEV": "Fortuna panzió",
                                    "METTOL": "2016-10-16",
                                    "5 legutolsó foglalás átlatlétszáma ": "2"
                                },
                                {
                                    "SZALLAS_NEV": "Fortuna panzió",
                                    "METTOL": "2016-10-23",
                                    "5 legutolsó foglalás átlatlétszáma ": "2"
                                },
                                {
                                    "SZALLAS_NEV": "Fortuna Panzió",
                                    "METTOL": "2016-10-23",
                                    "5 legutolsó foglalás átlatlétszáma ": "2"
                                },
                                {
                                    "SZALLAS_NEV": "Fortuna Panzió",
                                    "METTOL": "2016-10-26",
                                    "5 legutolsó foglalás átlatlétszáma ": "2"
                                },
                                {
                                    "SZALLAS_NEV": "Fortuna Panzió",
                                    "METTOL": "2016-10-27",
                                    "5 legutolsó foglalás átlatlétszáma ": "2"
                                },
                                {
                                    "SZALLAS_NEV": "Fortuna panzió",
                                    "METTOL": "2016-10-29",
                                    "5 legutolsó foglalás átlatlétszáma ": "2"
                                },
                                {
                                    "SZALLAS_NEV": "Fortuna Panzió",
                                    "METTOL": "2016-10-30",
                                    "5 legutolsó foglalás átlatlétszáma ": "2"
                                },
                                {
                                    "SZALLAS_NEV": "Fortuna Panzió",
                                    "METTOL": "2016-10-30",
                                    "5 legutolsó foglalás átlatlétszáma ": "2"
                                },
                                {
                                    "SZALLAS_NEV": "Fortuna panzió",
                                    "METTOL": "2016-11-01",
                                    "5 legutolsó foglalás átlatlétszáma ": "2"
                                },
                                {
                                    "SZALLAS_NEV": "Fortuna Panzió",
                                    "METTOL": "2016-11-03",
                                    "5 legutolsó foglalás átlatlétszáma ": "2"
                                },
                                {
                                    "SZALLAS_NEV": "Fortuna Panzió",
                                    "METTOL": "2016-11-10",
                                    "5 legutolsó foglalás átlatlétszáma ": "2"
                                },
                                {
                                    "SZALLAS_NEV": "Fortuna panzió",
                                    "METTOL": "2016-11-11",
                                    "5 legutolsó foglalás átlatlétszáma ": "2"
                                },
                                {
                                    "SZALLAS_NEV": "Fortuna Panzió",
                                    "METTOL": "2016-11-19",
                                    "5 legutolsó foglalás átlatlétszáma ": "2"
                                },
                                {
                                    "SZALLAS_NEV": "Fortuna Panzió",
                                    "METTOL": "2016-11-19",
                                    "5 legutolsó foglalás átlatlétszáma ": "2"
                                },
                                {
                                    "SZALLAS_NEV": "Fortuna Panzió",
                                    "METTOL": "2016-11-22",
                                    "5 legutolsó foglalás átlatlétszáma ": "2"
                                },
                                {
                                    "SZALLAS_NEV": "Fortuna Panzió",
                                    "METTOL": "2016-11-23",
                                    "5 legutolsó foglalás átlatlétszáma ": "2"
                                },
                                {
                                    "SZALLAS_NEV": "Fortuna panzió",
                                    "METTOL": "2016-11-25",
                                    "5 legutolsó foglalás átlatlétszáma ": "2"
                                },
                                {
                                    "SZALLAS_NEV": "Fortuna panzió",
                                    "METTOL": "2016-12-01",
                                    "5 legutolsó foglalás átlatlétszáma ": "2"
                                },
                                {
                                    "SZALLAS_NEV": "Fortuna panzió",
                                    "METTOL": "2016-12-05",
                                    "5 legutolsó foglalás átlatlétszáma ": "2"
                                },
                                {
                                    "SZALLAS_NEV": "Fortuna panzió",
                                    "METTOL": "2016-12-06",
                                    "5 legutolsó foglalás átlatlétszáma ": "2"
                                },
                                {
                                    "SZALLAS_NEV": "Fortuna panzió",
                                    "METTOL": "2016-12-14",
                                    "5 legutolsó foglalás átlatlétszáma ": "2"
                                },
                                {
                                    "SZALLAS_NEV": "Fortuna panzió",
                                    "METTOL": "2016-12-18",
                                    "5 legutolsó foglalás átlatlétszáma ": "2"
                                },
                                {
                                    "SZALLAS_NEV": "Fortuna panzió",
                                    "METTOL": "2016-12-20",
                                    "5 legutolsó foglalás átlatlétszáma ": "2"
                                },
                                {
                                    "SZALLAS_NEV": "Fortuna panzió",
                                    "METTOL": "2016-12-21",
                                    "5 legutolsó foglalás átlatlétszáma ": "2"
                                },
                                {
                                    "SZALLAS_NEV": "Fortuna panzió",
                                    "METTOL": "2016-12-24",
                                    "5 legutolsó foglalás átlatlétszáma ": "2"
                                },
                                {
                                    "SZALLAS_NEV": "Fortuna panzió",
                                    "METTOL": "2016-12-29",
                                    "5 legutolsó foglalás átlatlétszáma ": "2"
                                },
                                {
                                    "SZALLAS_NEV": "Fortuna panzió",
                                    "METTOL": "2017-01-01",
                                    "5 legutolsó foglalás átlatlétszáma ": "2"
                                },
                                {
                                    "SZALLAS_NEV": "Fortuna panzió",
                                    "METTOL": "2017-01-03",
                                    "5 legutolsó foglalás átlatlétszáma ": "2"
                                },
                                {
                                    "SZALLAS_NEV": "Fortuna Panzió",
                                    "METTOL": "2017-01-08",
                                    "5 legutolsó foglalás átlatlétszáma ": "2"
                                },
                                {
                                    "SZALLAS_NEV": "Fortuna panzió",
                                    "METTOL": "2017-01-12",
                                    "5 legutolsó foglalás átlatlétszáma ": "2"
                                },
                                {
                                    "SZALLAS_NEV": "Fortuna panzió",
                                    "METTOL": "2017-01-13",
                                    "5 legutolsó foglalás átlatlétszáma ": "2"
                                },
                                {
                                    "SZALLAS_NEV": "Fortuna Panzió",
                                    "METTOL": "2017-01-16",
                                    "5 legutolsó foglalás átlatlétszáma ": "2"
                                },
                                {
                                    "SZALLAS_NEV": "Fortuna panzió",
                                    "METTOL": "2017-01-18",
                                    "5 legutolsó foglalás átlatlétszáma ": "2"
                                },
                                {
                                    "SZALLAS_NEV": "Fortuna panzió",
                                    "METTOL": "2017-01-20",
                                    "5 legutolsó foglalás átlatlétszáma ": "2"
                                },
                                {
                                    "SZALLAS_NEV": "Fortuna panzió",
                                    "METTOL": "2017-01-27",
                                    "5 legutolsó foglalás átlatlétszáma ": "1"
                                },
                                {
                                    "SZALLAS_NEV": "Fortuna panzió",
                                    "METTOL": "2017-01-28",
                                    "5 legutolsó foglalás átlatlétszáma ": "2"
                                },
                                {
                                    "SZALLAS_NEV": "Fortuna Panzió",
                                    "METTOL": "2017-02-10",
                                    "5 legutolsó foglalás átlatlétszáma ": "2"
                                },
                                {
                                    "SZALLAS_NEV": "Fortuna Panzió",
                                    "METTOL": "2017-02-12",
                                    "5 legutolsó foglalás átlatlétszáma ": "2"
                                },
                                {
                                    "SZALLAS_NEV": "Fortuna panzió",
                                    "METTOL": "2017-02-13",
                                    "5 legutolsó foglalás átlatlétszáma ": "2"
                                },
                                {
                                    "SZALLAS_NEV": "Fortuna Panzió",
                                    "METTOL": "2017-02-16",
                                    "5 legutolsó foglalás átlatlétszáma ": "2"
                                },
                                {
                                    "SZALLAS_NEV": "Fortuna panzió",
                                    "METTOL": "2017-02-16",
                                    "5 legutolsó foglalás átlatlétszáma ": "2"
                                },
                                {
                                    "SZALLAS_NEV": "Fortuna Panzió",
                                    "METTOL": "2017-02-17",
                                    "5 legutolsó foglalás átlatlétszáma ": "2"
                                },
                                {
                                    "SZALLAS_NEV": "Fortuna Panzió",
                                    "METTOL": "2017-02-18",
                                    "5 legutolsó foglalás átlatlétszáma ": "2"
                                },
                                {
                                    "SZALLAS_NEV": "Fortuna Panzió",
                                    "METTOL": "2017-02-20",
                                    "5 legutolsó foglalás átlatlétszáma ": "2"
                                },
                                {
                                    "SZALLAS_NEV": "Fortuna Panzió",
                                    "METTOL": "2017-02-20",
                                    "5 legutolsó foglalás átlatlétszáma ": "2"
                                },
                                {
                                    "SZALLAS_NEV": "Fortuna panzió",
                                    "METTOL": "2017-02-21",
                                    "5 legutolsó foglalás átlatlétszáma ": "2"
                                },
                                {
                                    "SZALLAS_NEV": "Fortuna panzió",
                                    "METTOL": "2017-02-24",
                                    "5 legutolsó foglalás átlatlétszáma ": "2"
                                },
                                {
                                    "SZALLAS_NEV": "Fortuna Panzió",
                                    "METTOL": "2017-03-01",
                                    "5 legutolsó foglalás átlatlétszáma ": "2"
                                },
                                {
                                    "SZALLAS_NEV": "Gold Hotel",
                                    "METTOL": "2016-04-10",
                                    "5 legutolsó foglalás átlatlétszáma ": "NULL"
                                },
                                {
                                    "SZALLAS_NEV": "Gold Hotel",
                                    "METTOL": "2016-04-10",
                                    "5 legutolsó foglalás átlatlétszáma ": "1"
                                },
                                {
                                    "SZALLAS_NEV": "Gold Hotel",
                                    "METTOL": "2016-04-10",
                                    "5 legutolsó foglalás átlatlétszáma ": "1"
                                },
                                {
                                    "SZALLAS_NEV": "Gold Hotel",
                                    "METTOL": "2016-04-10",
                                    "5 legutolsó foglalás átlatlétszáma ": "1"
                                },
                                {
                                    "SZALLAS_NEV": "Gold Hotel",
                                    "METTOL": "2016-04-13",
                                    "5 legutolsó foglalás átlatlétszáma ": "1"
                                },
                                {
                                    "SZALLAS_NEV": "Gold Hotel",
                                    "METTOL": "2016-04-21",
                                    "5 legutolsó foglalás átlatlétszáma ": "2"
                                },
                                {
                                    "SZALLAS_NEV": "Gold Hotel",
                                    "METTOL": "2016-04-24",
                                    "5 legutolsó foglalás átlatlétszáma ": "2"
                                },
                                {
                                    "SZALLAS_NEV": "Gold Hotel",
                                    "METTOL": "2016-04-28",
                                    "5 legutolsó foglalás átlatlétszáma ": "2"
                                },
                                {
                                    "SZALLAS_NEV": "Gold Hotel",
                                    "METTOL": "2016-05-01",
                                    "5 legutolsó foglalás átlatlétszáma ": "2"
                                },
                                {
                                    "SZALLAS_NEV": "Gold Hotel",
                                    "METTOL": "2016-05-09",
                                    "5 legutolsó foglalás átlatlétszáma ": "2"
                                },
                                {
                                    "SZALLAS_NEV": "Gold Hotel",
                                    "METTOL": "2016-05-09",
                                    "5 legutolsó foglalás átlatlétszáma ": "2"
                                },
                                {
                                    "SZALLAS_NEV": "Gold Hotel",
                                    "METTOL": "2016-05-12",
                                    "5 legutolsó foglalás átlatlétszáma ": "2"
                                },
                                {
                                    "SZALLAS_NEV": "Gold Hotel",
                                    "METTOL": "2016-05-14",
                                    "5 legutolsó foglalás átlatlétszáma ": "2"
                                },
                                {
                                    "SZALLAS_NEV": "Gold Hotel",
                                    "METTOL": "2016-05-21",
                                    "5 legutolsó foglalás átlatlétszáma ": "2"
                                },
                                {
                                    "SZALLAS_NEV": "Gold Hotel",
                                    "METTOL": "2016-05-21",
                                    "5 legutolsó foglalás átlatlétszáma ": "2"
                                },
                                {
                                    "SZALLAS_NEV": "Gold Hotel",
                                    "METTOL": "2016-05-24",
                                    "5 legutolsó foglalás átlatlétszáma ": "2"
                                },
                                {
                                    "SZALLAS_NEV": "Gold Hotel",
                                    "METTOL": "2016-05-25",
                                    "5 legutolsó foglalás átlatlétszáma ": "2"
                                },
                                {
                                    "SZALLAS_NEV": "Gold Hotel",
                                    "METTOL": "2016-05-28",
                                    "5 legutolsó foglalás átlatlétszáma ": "2"
                                },
                                {
                                    "SZALLAS_NEV": "Gold Hotel",
                                    "METTOL": "2016-05-28",
                                    "5 legutolsó foglalás átlatlétszáma ": "2"
                                },
                                {
                                    "SZALLAS_NEV": "Gold Hotel",
                                    "METTOL": "2016-05-28",
                                    "5 legutolsó foglalás átlatlétszáma ": "2"
                                },
                                {
                                    "SZALLAS_NEV": "Gold Hotel",
                                    "METTOL": "2016-05-30",
                                    "5 legutolsó foglalás átlatlétszáma ": "2"
                                },
                                {
                                    "SZALLAS_NEV": "Gold Hotel",
                                    "METTOL": "2016-06-03",
                                    "5 legutolsó foglalás átlatlétszáma ": "2"
                                },
                                {
                                    "SZALLAS_NEV": "Gold Hotel",
                                    "METTOL": "2016-06-03",
                                    "5 legutolsó foglalás átlatlétszáma ": "2"
                                },
                                {
                                    "SZALLAS_NEV": "Gold Hotel",
                                    "METTOL": "2016-06-03",
                                    "5 legutolsó foglalás átlatlétszáma ": "2"
                                },
                                {
                                    "SZALLAS_NEV": "Gold Hotel",
                                    "METTOL": "2016-06-03",
                                    "5 legutolsó foglalás átlatlétszáma ": "2"
                                },
                                {
                                    "SZALLAS_NEV": "Gold Hotel",
                                    "METTOL": "2016-06-04",
                                    "5 legutolsó foglalás átlatlétszáma ": "1"
                                },
                                {
                                    "SZALLAS_NEV": "Gold Hotel",
                                    "METTOL": "2016-06-04",
                                    "5 legutolsó foglalás átlatlétszáma ": "2"
                                },
                                {
                                    "SZALLAS_NEV": "Gold Hotel",
                                    "METTOL": "2016-06-06",
                                    "5 legutolsó foglalás átlatlétszáma ": "2"
                                },
                                {
                                    "SZALLAS_NEV": "Gold Hotel",
                                    "METTOL": "2016-06-06",
                                    "5 legutolsó foglalás átlatlétszáma ": "2"
                                },
                                {
                                    "SZALLAS_NEV": "Gold Hotel",
                                    "METTOL": "2016-06-06",
                                    "5 legutolsó foglalás átlatlétszáma ": "2"
                                },
                                {
                                    "SZALLAS_NEV": "Gold Hotel",
                                    "METTOL": "2016-06-07",
                                    "5 legutolsó foglalás átlatlétszáma ": "2"
                                },
                                {
                                    "SZALLAS_NEV": "Gold Hotel",
                                    "METTOL": "2016-06-07",
                                    "5 legutolsó foglalás átlatlétszáma ": "2"
                                },
                                {
                                    "SZALLAS_NEV": "Gold Hotel",
                                    "METTOL": "2016-06-07",
                                    "5 legutolsó foglalás átlatlétszáma ": "2"
                                },
                                {
                                    "SZALLAS_NEV": "Gold Hotel",
                                    "METTOL": "2016-06-07",
                                    "5 legutolsó foglalás átlatlétszáma ": "2"
                                },
                                {
                                    "SZALLAS_NEV": "Gold Hotel",
                                    "METTOL": "2016-06-08",
                                    "5 legutolsó foglalás átlatlétszáma ": "3"
                                },
                                {
                                    "SZALLAS_NEV": "Gold Hotel",
                                    "METTOL": "2016-06-09",
                                    "5 legutolsó foglalás átlatlétszáma ": "3"
                                },
                                {
                                    "SZALLAS_NEV": "Gold Hotel",
                                    "METTOL": "2016-06-10",
                                    "5 legutolsó foglalás átlatlétszáma ": "3"
                                },
                                {
                                    "SZALLAS_NEV": "Gold Hotel",
                                    "METTOL": "2016-06-11",
                                    "5 legutolsó foglalás átlatlétszáma ": "3"
                                },
                                {
                                    "SZALLAS_NEV": "Gold Hotel",
                                    "METTOL": "2016-06-13",
                                    "5 legutolsó foglalás átlatlétszáma ": "3"
                                },
                                {
                                    "SZALLAS_NEV": "Gold Hotel",
                                    "METTOL": "2016-06-13",
                                    "5 legutolsó foglalás átlatlétszáma ": "2"
                                },
                                {
                                    "SZALLAS_NEV": "Gold Hotel",
                                    "METTOL": "2016-06-20",
                                    "5 legutolsó foglalás átlatlétszáma ": "2"
                                },
                                {
                                    "SZALLAS_NEV": "Gold Hotel",
                                    "METTOL": "2016-06-22",
                                    "5 legutolsó foglalás átlatlétszáma ": "2"
                                },
                                {
                                    "SZALLAS_NEV": "Gold Hotel",
                                    "METTOL": "2016-06-22",
                                    "5 legutolsó foglalás átlatlétszáma ": "3"
                                },
                                {
                                    "SZALLAS_NEV": "Gold Hotel",
                                    "METTOL": "2016-06-23",
                                    "5 legutolsó foglalás átlatlétszáma ": "3"
                                },
                                {
                                    "SZALLAS_NEV": "Gold Hotel",
                                    "METTOL": "2016-06-24",
                                    "5 legutolsó foglalás átlatlétszáma ": "2"
                                },
                                {
                                    "SZALLAS_NEV": "Gold Hotel",
                                    "METTOL": "2016-06-27",
                                    "5 legutolsó foglalás átlatlétszáma ": "2"
                                },
                                {
                                    "SZALLAS_NEV": "Gold Hotel",
                                    "METTOL": "2016-06-28",
                                    "5 legutolsó foglalás átlatlétszáma ": "2"
                                },
                                {
                                    "SZALLAS_NEV": "Gold Hotel",
                                    "METTOL": "2016-06-30",
                                    "5 legutolsó foglalás átlatlétszáma ": "2"
                                },
                                {
                                    "SZALLAS_NEV": "Gold Hotel",
                                    "METTOL": "2016-07-04",
                                    "5 legutolsó foglalás átlatlétszáma ": "2"
                                },
                                {
                                    "SZALLAS_NEV": "Gold Hotel",
                                    "METTOL": "2016-07-04",
                                    "5 legutolsó foglalás átlatlétszáma ": "2"
                                },
                                {
                                    "SZALLAS_NEV": "Gold Hotel",
                                    "METTOL": "2016-07-06",
                                    "5 legutolsó foglalás átlatlétszáma ": "2"
                                },
                                {
                                    "SZALLAS_NEV": "Gold Hotel",
                                    "METTOL": "2016-07-08",
                                    "5 legutolsó foglalás átlatlétszáma ": "2"
                                },
                                {
                                    "SZALLAS_NEV": "Gold Hotel",
                                    "METTOL": "2016-07-09",
                                    "5 legutolsó foglalás átlatlétszáma ": "2"
                                },
                                {
                                    "SZALLAS_NEV": "Gold Hotel",
                                    "METTOL": "2016-07-10",
                                    "5 legutolsó foglalás átlatlétszáma ": "2"
                                },
                                {
                                    "SZALLAS_NEV": "Gold Hotel",
                                    "METTOL": "2016-07-14",
                                    "5 legutolsó foglalás átlatlétszáma ": "2"
                                },
                                {
                                    "SZALLAS_NEV": "Gold Hotel",
                                    "METTOL": "2016-07-14",
                                    "5 legutolsó foglalás átlatlétszáma ": "2"
                                },
                                {
                                    "SZALLAS_NEV": "Gold Hotel",
                                    "METTOL": "2016-07-14",
                                    "5 legutolsó foglalás átlatlétszáma ": "2"
                                },
                                {
                                    "SZALLAS_NEV": "Gold Hotel",
                                    "METTOL": "2016-07-15",
                                    "5 legutolsó foglalás átlatlétszáma ": "2"
                                },
                                {
                                    "SZALLAS_NEV": "Gold Hotel",
                                    "METTOL": "2016-07-16",
                                    "5 legutolsó foglalás átlatlétszáma ": "2"
                                },
                                {
                                    "SZALLAS_NEV": "Gold Hotel",
                                    "METTOL": "2016-07-17",
                                    "5 legutolsó foglalás átlatlétszáma ": "2"
                                },
                                {
                                    "SZALLAS_NEV": "Gold Hotel",
                                    "METTOL": "2016-07-17",
                                    "5 legutolsó foglalás átlatlétszáma ": "2"
                                },
                                {
                                    "SZALLAS_NEV": "Gold Hotel",
                                    "METTOL": "2016-07-18",
                                    "5 legutolsó foglalás átlatlétszáma ": "2"
                                },
                                {
                                    "SZALLAS_NEV": "Gold Hotel",
                                    "METTOL": "2016-07-18",
                                    "5 legutolsó foglalás átlatlétszáma ": "2"
                                },
                                {
                                    "SZALLAS_NEV": "Gold Hotel",
                                    "METTOL": "2016-07-19",
                                    "5 legutolsó foglalás átlatlétszáma ": "2"
                                },
                                {
                                    "SZALLAS_NEV": "Gold Hotel",
                                    "METTOL": "2016-07-20",
                                    "5 legutolsó foglalás átlatlétszáma ": "2"
                                },
                                {
                                    "SZALLAS_NEV": "Gold Hotel",
                                    "METTOL": "2016-07-20",
                                    "5 legutolsó foglalás átlatlétszáma ": "1"
                                },
                                {
                                    "SZALLAS_NEV": "Gold Hotel",
                                    "METTOL": "2016-07-20",
                                    "5 legutolsó foglalás átlatlétszáma ": "1"
                                },
                                {
                                    "SZALLAS_NEV": "Gold Hotel",
                                    "METTOL": "2016-07-24",
                                    "5 legutolsó foglalás átlatlétszáma ": "2"
                                },
                                {
                                    "SZALLAS_NEV": "Gold Hotel",
                                    "METTOL": "2016-07-24",
                                    "5 legutolsó foglalás átlatlétszáma ": "2"
                                },
                                {
                                    "SZALLAS_NEV": "Gold Hotel",
                                    "METTOL": "2016-07-24",
                                    "5 legutolsó foglalás átlatlétszáma ": "2"
                                },
                                {
                                    "SZALLAS_NEV": "Gold Hotel",
                                    "METTOL": "2016-07-27",
                                    "5 legutolsó foglalás átlatlétszáma ": "2"
                                },
                                {
                                    "SZALLAS_NEV": "Gold Hotel",
                                    "METTOL": "2016-07-28",
                                    "5 legutolsó foglalás átlatlétszáma ": "2"
                                },
                                {
                                    "SZALLAS_NEV": "Gold Hotel",
                                    "METTOL": "2016-07-30",
                                    "5 legutolsó foglalás átlatlétszáma ": "2"
                                },
                                {
                                    "SZALLAS_NEV": "Gold Hotel",
                                    "METTOL": "2016-07-31",
                                    "5 legutolsó foglalás átlatlétszáma ": "2"
                                },
                                {
                                    "SZALLAS_NEV": "Gold Hotel",
                                    "METTOL": "2016-08-01",
                                    "5 legutolsó foglalás átlatlétszáma ": "2"
                                },
                                {
                                    "SZALLAS_NEV": "Gold Hotel",
                                    "METTOL": "2016-08-01",
                                    "5 legutolsó foglalás átlatlétszáma ": "2"
                                },
                                {
                                    "SZALLAS_NEV": "Gold Hotel",
                                    "METTOL": "2016-08-02",
                                    "5 legutolsó foglalás átlatlétszáma ": "2"
                                },
                                {
                                    "SZALLAS_NEV": "Gold Hotel",
                                    "METTOL": "2016-08-03",
                                    "5 legutolsó foglalás átlatlétszáma ": "2"
                                },
                                {
                                    "SZALLAS_NEV": "Gold Hotel",
                                    "METTOL": "2016-08-09",
                                    "5 legutolsó foglalás átlatlétszáma ": "2"
                                },
                                {
                                    "SZALLAS_NEV": "Gold Hotel",
                                    "METTOL": "2016-08-10",
                                    "5 legutolsó foglalás átlatlétszáma ": "3"
                                },
                                {
                                    "SZALLAS_NEV": "Gold Hotel",
                                    "METTOL": "2016-08-13",
                                    "5 legutolsó foglalás átlatlétszáma ": "2"
                                },
                                {
                                    "SZALLAS_NEV": "Gold Hotel",
                                    "METTOL": "2016-08-16",
                                    "5 legutolsó foglalás átlatlétszáma ": "2"
                                },
                                {
                                    "SZALLAS_NEV": "Gold Hotel",
                                    "METTOL": "2016-08-16",
                                    "5 legutolsó foglalás átlatlétszáma ": "2"
                                },
                                {
                                    "SZALLAS_NEV": "Gold Hotel",
                                    "METTOL": "2016-08-16",
                                    "5 legutolsó foglalás átlatlétszáma ": "2"
                                },
                                {
                                    "SZALLAS_NEV": "Gold Hotel",
                                    "METTOL": "2016-08-17",
                                    "5 legutolsó foglalás átlatlétszáma ": "2"
                                },
                                {
                                    "SZALLAS_NEV": "Gold Hotel",
                                    "METTOL": "2016-08-19",
                                    "5 legutolsó foglalás átlatlétszáma ": "3"
                                },
                                {
                                    "SZALLAS_NEV": "Gold Hotel",
                                    "METTOL": "2016-08-24",
                                    "5 legutolsó foglalás átlatlétszáma ": "2"
                                },
                                {
                                    "SZALLAS_NEV": "Gold Hotel",
                                    "METTOL": "2016-08-28",
                                    "5 legutolsó foglalás átlatlétszáma ": "2"
                                },
                                {
                                    "SZALLAS_NEV": "Gold Hotel",
                                    "METTOL": "2016-08-29",
                                    "5 legutolsó foglalás átlatlétszáma ": "2"
                                },
                                {
                                    "SZALLAS_NEV": "Gold Hotel",
                                    "METTOL": "2016-08-29",
                                    "5 legutolsó foglalás átlatlétszáma ": "3"
                                },
                                {
                                    "SZALLAS_NEV": "Gold Hotel",
                                    "METTOL": "2016-08-31",
                                    "5 legutolsó foglalás átlatlétszáma ": "2"
                                },
                                {
                                    "SZALLAS_NEV": "Gold Hotel",
                                    "METTOL": "2016-09-05",
                                    "5 legutolsó foglalás átlatlétszáma ": "2"
                                },
                                {
                                    "SZALLAS_NEV": "Gold Hotel",
                                    "METTOL": "2016-09-09",
                                    "5 legutolsó foglalás átlatlétszáma ": "2"
                                },
                                {
                                    "SZALLAS_NEV": "Gold Hotel",
                                    "METTOL": "2016-09-11",
                                    "5 legutolsó foglalás átlatlétszáma ": "2"
                                },
                                {
                                    "SZALLAS_NEV": "Gold Hotel",
                                    "METTOL": "2016-09-18",
                                    "5 legutolsó foglalás átlatlétszáma ": "2"
                                },
                                {
                                    "SZALLAS_NEV": "Gold Hotel",
                                    "METTOL": "2016-09-19",
                                    "5 legutolsó foglalás átlatlétszáma ": "2"
                                },
                                {
                                    "SZALLAS_NEV": "Gold Hotel",
                                    "METTOL": "2016-09-22",
                                    "5 legutolsó foglalás átlatlétszáma ": "2"
                                },
                                {
                                    "SZALLAS_NEV": "Gold Hotel",
                                    "METTOL": "2016-09-30",
                                    "5 legutolsó foglalás átlatlétszáma ": "2"
                                },
                                {
                                    "SZALLAS_NEV": "Gold Hotel",
                                    "METTOL": "2016-09-30",
                                    "5 legutolsó foglalás átlatlétszáma ": "2"
                                },
                                {
                                    "SZALLAS_NEV": "Gold Hotel",
                                    "METTOL": "2016-09-30",
                                    "5 legutolsó foglalás átlatlétszáma ": "2"
                                },
                                {
                                    "SZALLAS_NEV": "Gold Hotel",
                                    "METTOL": "2016-10-03",
                                    "5 legutolsó foglalás átlatlétszáma ": "2"
                                },
                                {
                                    "SZALLAS_NEV": "Gold Hotel",
                                    "METTOL": "2016-10-06",
                                    "5 legutolsó foglalás átlatlétszáma ": "2"
                                },
                                {
                                    "SZALLAS_NEV": "Gold Hotel",
                                    "METTOL": "2016-10-08",
                                    "5 legutolsó foglalás átlatlétszáma ": "2"
                                },
                                {
                                    "SZALLAS_NEV": "Gold Hotel",
                                    "METTOL": "2016-10-09",
                                    "5 legutolsó foglalás átlatlétszáma ": "2"
                                },
                                {
                                    "SZALLAS_NEV": "Gold Hotel",
                                    "METTOL": "2016-10-09",
                                    "5 legutolsó foglalás átlatlétszáma ": "2"
                                },
                                {
                                    "SZALLAS_NEV": "Gold Hotel",
                                    "METTOL": "2016-10-09",
                                    "5 legutolsó foglalás átlatlétszáma ": "2"
                                },
                                {
                                    "SZALLAS_NEV": "Gold Hotel",
                                    "METTOL": "2016-10-09",
                                    "5 legutolsó foglalás átlatlétszáma ": "2"
                                },
                                {
                                    "SZALLAS_NEV": "Gold Hotel",
                                    "METTOL": "2016-10-10",
                                    "5 legutolsó foglalás átlatlétszáma ": "2"
                                },
                                {
                                    "SZALLAS_NEV": "Gold Hotel",
                                    "METTOL": "2016-10-15",
                                    "5 legutolsó foglalás átlatlétszáma ": "2"
                                },
                                {
                                    "SZALLAS_NEV": "Gold Hotel",
                                    "METTOL": "2016-10-17",
                                    "5 legutolsó foglalás átlatlétszáma ": "2"
                                },
                                {
                                    "SZALLAS_NEV": "Gold Hotel",
                                    "METTOL": "2016-10-20",
                                    "5 legutolsó foglalás átlatlétszáma ": "2"
                                },
                                {
                                    "SZALLAS_NEV": "Gold Hotel",
                                    "METTOL": "2016-10-20",
                                    "5 legutolsó foglalás átlatlétszáma ": "2"
                                },
                                {
                                    "SZALLAS_NEV": "Gold Hotel",
                                    "METTOL": "2016-10-21",
                                    "5 legutolsó foglalás átlatlétszáma ": "2"
                                },
                                {
                                    "SZALLAS_NEV": "Gold Hotel",
                                    "METTOL": "2016-10-23",
                                    "5 legutolsó foglalás átlatlétszáma ": "2"
                                },
                                {
                                    "SZALLAS_NEV": "Gold Hotel",
                                    "METTOL": "2016-10-23",
                                    "5 legutolsó foglalás átlatlétszáma ": "2"
                                },
                                {
                                    "SZALLAS_NEV": "Gold Hotel",
                                    "METTOL": "2016-10-23",
                                    "5 legutolsó foglalás átlatlétszáma ": "2"
                                },
                                {
                                    "SZALLAS_NEV": "Gold Hotel",
                                    "METTOL": "2016-10-24",
                                    "5 legutolsó foglalás átlatlétszáma ": "2"
                                },
                                {
                                    "SZALLAS_NEV": "Gold Hotel",
                                    "METTOL": "2016-10-26",
                                    "5 legutolsó foglalás átlatlétszáma ": "3"
                                },
                                {
                                    "SZALLAS_NEV": "Gold Hotel",
                                    "METTOL": "2016-10-27",
                                    "5 legutolsó foglalás átlatlétszáma ": "2"
                                },
                                {
                                    "SZALLAS_NEV": "Gold Hotel",
                                    "METTOL": "2016-10-28",
                                    "5 legutolsó foglalás átlatlétszáma ": "2"
                                },
                                {
                                    "SZALLAS_NEV": "Gold Hotel",
                                    "METTOL": "2016-10-29",
                                    "5 legutolsó foglalás átlatlétszáma ": "2"
                                },
                                {
                                    "SZALLAS_NEV": "Gold Hotel",
                                    "METTOL": "2016-10-30",
                                    "5 legutolsó foglalás átlatlétszáma ": "2"
                                },
                                {
                                    "SZALLAS_NEV": "Gold Hotel",
                                    "METTOL": "2016-10-30",
                                    "5 legutolsó foglalás átlatlétszáma ": "2"
                                },
                                {
                                    "SZALLAS_NEV": "Gold Hotel",
                                    "METTOL": "2016-11-03",
                                    "5 legutolsó foglalás átlatlétszáma ": "2"
                                },
                                {
                                    "SZALLAS_NEV": "Gold Hotel",
                                    "METTOL": "2016-11-03",
                                    "5 legutolsó foglalás átlatlétszáma ": "2"
                                },
                                {
                                    "SZALLAS_NEV": "Gold Hotel",
                                    "METTOL": "2016-11-05",
                                    "5 legutolsó foglalás átlatlétszáma ": "2"
                                },
                                {
                                    "SZALLAS_NEV": "Gold Hotel",
                                    "METTOL": "2016-11-05",
                                    "5 legutolsó foglalás átlatlétszáma ": "2"
                                },
                                {
                                    "SZALLAS_NEV": "Gold Hotel",
                                    "METTOL": "2016-11-05",
                                    "5 legutolsó foglalás átlatlétszáma ": "2"
                                },
                                {
                                    "SZALLAS_NEV": "Gold Hotel",
                                    "METTOL": "2016-11-08",
                                    "5 legutolsó foglalás átlatlétszáma ": "2"
                                },
                                {
                                    "SZALLAS_NEV": "Gold Hotel",
                                    "METTOL": "2016-11-09",
                                    "5 legutolsó foglalás átlatlétszáma ": "2"
                                },
                                {
                                    "SZALLAS_NEV": "Gold Hotel",
                                    "METTOL": "2016-11-12",
                                    "5 legutolsó foglalás átlatlétszáma ": "1"
                                },
                                {
                                    "SZALLAS_NEV": "Gold Hotel",
                                    "METTOL": "2016-11-13",
                                    "5 legutolsó foglalás átlatlétszáma ": "1"
                                },
                                {
                                    "SZALLAS_NEV": "Gold Hotel",
                                    "METTOL": "2016-11-22",
                                    "5 legutolsó foglalás átlatlétszáma ": "2"
                                },
                                {
                                    "SZALLAS_NEV": "Gold Hotel",
                                    "METTOL": "2016-11-22",
                                    "5 legutolsó foglalás átlatlétszáma ": "2"
                                },
                                {
                                    "SZALLAS_NEV": "Gold Hotel",
                                    "METTOL": "2016-11-23",
                                    "5 legutolsó foglalás átlatlétszáma ": "2"
                                },
                                {
                                    "SZALLAS_NEV": "Gold Hotel",
                                    "METTOL": "2016-11-23",
                                    "5 legutolsó foglalás átlatlétszáma ": "2"
                                },
                                {
                                    "SZALLAS_NEV": "Gold Hotel",
                                    "METTOL": "2016-11-25",
                                    "5 legutolsó foglalás átlatlétszáma ": "2"
                                },
                                {
                                    "SZALLAS_NEV": "Gold Hotel",
                                    "METTOL": "2016-11-27",
                                    "5 legutolsó foglalás átlatlétszáma ": "2"
                                },
                                {
                                    "SZALLAS_NEV": "Gold Hotel",
                                    "METTOL": "2016-11-28",
                                    "5 legutolsó foglalás átlatlétszáma ": "2"
                                },
                                {
                                    "SZALLAS_NEV": "Gold Hotel",
                                    "METTOL": "2016-11-29",
                                    "5 legutolsó foglalás átlatlétszáma ": "2"
                                },
                                {
                                    "SZALLAS_NEV": "Gold Hotel",
                                    "METTOL": "2016-12-02",
                                    "5 legutolsó foglalás átlatlétszáma ": "2"
                                },
                                {
                                    "SZALLAS_NEV": "Gold Hotel",
                                    "METTOL": "2016-12-04",
                                    "5 legutolsó foglalás átlatlétszáma ": "1"
                                },
                                {
                                    "SZALLAS_NEV": "Gold Hotel",
                                    "METTOL": "2016-12-04",
                                    "5 legutolsó foglalás átlatlétszáma ": "2"
                                },
                                {
                                    "SZALLAS_NEV": "Gold Hotel",
                                    "METTOL": "2016-12-05",
                                    "5 legutolsó foglalás átlatlétszáma ": "1"
                                },
                                {
                                    "SZALLAS_NEV": "Gold Hotel",
                                    "METTOL": "2016-12-06",
                                    "5 legutolsó foglalás átlatlétszáma ": "1"
                                },
                                {
                                    "SZALLAS_NEV": "Gold Hotel",
                                    "METTOL": "2016-12-09",
                                    "5 legutolsó foglalás átlatlétszáma ": "1"
                                },
                                {
                                    "SZALLAS_NEV": "Gold Hotel",
                                    "METTOL": "2016-12-17",
                                    "5 legutolsó foglalás átlatlétszáma ": "2"
                                },
                                {
                                    "SZALLAS_NEV": "Gold Hotel",
                                    "METTOL": "2016-12-22",
                                    "5 legutolsó foglalás átlatlétszáma ": "2"
                                },
                                {
                                    "SZALLAS_NEV": "Gold Hotel",
                                    "METTOL": "2016-12-24",
                                    "5 legutolsó foglalás átlatlétszáma ": "2"
                                },
                                {
                                    "SZALLAS_NEV": "Gold Hotel",
                                    "METTOL": "2016-12-25",
                                    "5 legutolsó foglalás átlatlétszáma ": "2"
                                },
                                {
                                    "SZALLAS_NEV": "Gold Hotel",
                                    "METTOL": "2016-12-29",
                                    "5 legutolsó foglalás átlatlétszáma ": "2"
                                },
                                {
                                    "SZALLAS_NEV": "Gold Hotel",
                                    "METTOL": "2016-12-30",
                                    "5 legutolsó foglalás átlatlétszáma ": "2"
                                },
                                {
                                    "SZALLAS_NEV": "Gold Hotel",
                                    "METTOL": "2017-01-01",
                                    "5 legutolsó foglalás átlatlétszáma ": "2"
                                },
                                {
                                    "SZALLAS_NEV": "Gold Hotel",
                                    "METTOL": "2017-01-02",
                                    "5 legutolsó foglalás átlatlétszáma ": "2"
                                },
                                {
                                    "SZALLAS_NEV": "Gold Hotel",
                                    "METTOL": "2017-01-05",
                                    "5 legutolsó foglalás átlatlétszáma ": "2"
                                },
                                {
                                    "SZALLAS_NEV": "Gold Hotel",
                                    "METTOL": "2017-01-05",
                                    "5 legutolsó foglalás átlatlétszáma ": "2"
                                },
                                {
                                    "SZALLAS_NEV": "Gold Hotel",
                                    "METTOL": "2017-01-06",
                                    "5 legutolsó foglalás átlatlétszáma ": "2"
                                },
                                {
                                    "SZALLAS_NEV": "Gold Hotel",
                                    "METTOL": "2017-01-09",
                                    "5 legutolsó foglalás átlatlétszáma ": "1"
                                },
                                {
                                    "SZALLAS_NEV": "Gold Hotel",
                                    "METTOL": "2017-01-09",
                                    "5 legutolsó foglalás átlatlétszáma ": "1"
                                },
                                {
                                    "SZALLAS_NEV": "Gold Hotel",
                                    "METTOL": "2017-01-13",
                                    "5 legutolsó foglalás átlatlétszáma ": "1"
                                },
                                {
                                    "SZALLAS_NEV": "Gold Hotel",
                                    "METTOL": "2017-01-16",
                                    "5 legutolsó foglalás átlatlétszáma ": "2"
                                },
                                {
                                    "SZALLAS_NEV": "Gold Hotel",
                                    "METTOL": "2017-01-17",
                                    "5 legutolsó foglalás átlatlétszáma ": "2"
                                },
                                {
                                    "SZALLAS_NEV": "Gold Hotel",
                                    "METTOL": "2017-01-22",
                                    "5 legutolsó foglalás átlatlétszáma ": "2"
                                },
                                {
                                    "SZALLAS_NEV": "Gold Hotel",
                                    "METTOL": "2017-01-22",
                                    "5 legutolsó foglalás átlatlétszáma ": "2"
                                },
                                {
                                    "SZALLAS_NEV": "Gold Hotel",
                                    "METTOL": "2017-01-24",
                                    "5 legutolsó foglalás átlatlétszáma ": "3"
                                },
                                {
                                    "SZALLAS_NEV": "Gold Hotel",
                                    "METTOL": "2017-01-30",
                                    "5 legutolsó foglalás átlatlétszáma ": "2"
                                },
                                {
                                    "SZALLAS_NEV": "Gold Hotel",
                                    "METTOL": "2017-02-03",
                                    "5 legutolsó foglalás átlatlétszáma ": "2"
                                },
                                {
                                    "SZALLAS_NEV": "Gold Hotel",
                                    "METTOL": "2017-02-04",
                                    "5 legutolsó foglalás átlatlétszáma ": "2"
                                },
                                {
                                    "SZALLAS_NEV": "Gold Hotel",
                                    "METTOL": "2017-02-05",
                                    "5 legutolsó foglalás átlatlétszáma ": "2"
                                },
                                {
                                    "SZALLAS_NEV": "Gold Hotel",
                                    "METTOL": "2017-02-05",
                                    "5 legutolsó foglalás átlatlétszáma ": "2"
                                },
                                {
                                    "SZALLAS_NEV": "Gold Hotel",
                                    "METTOL": "2017-02-08",
                                    "5 legutolsó foglalás átlatlétszáma ": "2"
                                },
                                {
                                    "SZALLAS_NEV": "Gold Hotel",
                                    "METTOL": "2017-02-08",
                                    "5 legutolsó foglalás átlatlétszáma ": "2"
                                },
                                {
                                    "SZALLAS_NEV": "Gold Hotel",
                                    "METTOL": "2017-02-11",
                                    "5 legutolsó foglalás átlatlétszáma ": "2"
                                },
                                {
                                    "SZALLAS_NEV": "Gold Hotel",
                                    "METTOL": "2017-02-12",
                                    "5 legutolsó foglalás átlatlétszáma ": "2"
                                },
                                {
                                    "SZALLAS_NEV": "Gold Hotel",
                                    "METTOL": "2017-02-22",
                                    "5 legutolsó foglalás átlatlétszáma ": "2"
                                },
                                {
                                    "SZALLAS_NEV": "Gold Hotel",
                                    "METTOL": "2017-02-23",
                                    "5 legutolsó foglalás átlatlétszáma ": "2"
                                },
                                {
                                    "SZALLAS_NEV": "Gold Hotel",
                                    "METTOL": "2017-02-24",
                                    "5 legutolsó foglalás átlatlétszáma ": "3"
                                },
                                {
                                    "SZALLAS_NEV": "Gold Hotel",
                                    "METTOL": "2017-02-24",
                                    "5 legutolsó foglalás átlatlétszáma ": "2"
                                },
                                {
                                    "SZALLAS_NEV": "Gold Hotel",
                                    "METTOL": "2017-02-26",
                                    "5 legutolsó foglalás átlatlétszáma ": "3"
                                },
                                {
                                    "SZALLAS_NEV": "Hotel Három Hattyú",
                                    "METTOL": "2016-04-11",
                                    "5 legutolsó foglalás átlatlétszáma ": "NULL"
                                },
                                {
                                    "SZALLAS_NEV": "Hotel Három Hattyú",
                                    "METTOL": "2016-04-18",
                                    "5 legutolsó foglalás átlatlétszáma ": "3"
                                },
                                {
                                    "SZALLAS_NEV": "Hotel Három Hattyú",
                                    "METTOL": "2016-04-19",
                                    "5 legutolsó foglalás átlatlétszáma ": "2"
                                },
                                {
                                    "SZALLAS_NEV": "Hotel Három Hattyú",
                                    "METTOL": "2016-04-23",
                                    "5 legutolsó foglalás átlatlétszáma ": "1"
                                },
                                {
                                    "SZALLAS_NEV": "Hotel Három Hattyú",
                                    "METTOL": "2016-04-23",
                                    "5 legutolsó foglalás átlatlétszáma ": "2"
                                },
                                {
                                    "SZALLAS_NEV": "Hotel Három Hattyú",
                                    "METTOL": "2016-04-27",
                                    "5 legutolsó foglalás átlatlétszáma ": "2"
                                },
                                {
                                    "SZALLAS_NEV": "Hotel Három Hattyú",
                                    "METTOL": "2016-04-28",
                                    "5 legutolsó foglalás átlatlétszáma ": "2"
                                },
                                {
                                    "SZALLAS_NEV": "Hotel Három Hattyú",
                                    "METTOL": "2016-04-30",
                                    "5 legutolsó foglalás átlatlétszáma ": "2"
                                },
                                {
                                    "SZALLAS_NEV": "Hotel Három Hattyú",
                                    "METTOL": "2016-05-01",
                                    "5 legutolsó foglalás átlatlétszáma ": "2"
                                },
                                {
                                    "SZALLAS_NEV": "Hotel Három Hattyú",
                                    "METTOL": "2016-05-01",
                                    "5 legutolsó foglalás átlatlétszáma ": "2"
                                },
                                {
                                    "SZALLAS_NEV": "Hotel Három Hattyú",
                                    "METTOL": "2016-05-02",
                                    "5 legutolsó foglalás átlatlétszáma ": "2"
                                },
                                {
                                    "SZALLAS_NEV": "Hotel Három Hattyú",
                                    "METTOL": "2016-05-02",
                                    "5 legutolsó foglalás átlatlétszáma ": "2"
                                },
                                {
                                    "SZALLAS_NEV": "Hotel Három Hattyú",
                                    "METTOL": "2016-05-03",
                                    "5 legutolsó foglalás átlatlétszáma ": "2"
                                },
                                {
                                    "SZALLAS_NEV": "Hotel Három Hattyú",
                                    "METTOL": "2016-05-06",
                                    "5 legutolsó foglalás átlatlétszáma ": "2"
                                },
                                {
                                    "SZALLAS_NEV": "Hotel Három Hattyú",
                                    "METTOL": "2016-05-08",
                                    "5 legutolsó foglalás átlatlétszáma ": "2"
                                },
                                {
                                    "SZALLAS_NEV": "Hotel Három Hattyú",
                                    "METTOL": "2016-05-09",
                                    "5 legutolsó foglalás átlatlétszáma ": "2"
                                },
                                {
                                    "SZALLAS_NEV": "Hotel Három Hattyú",
                                    "METTOL": "2016-05-09",
                                    "5 legutolsó foglalás átlatlétszáma ": "2"
                                },
                                {
                                    "SZALLAS_NEV": "Hotel Három Hattyú",
                                    "METTOL": "2016-05-10",
                                    "5 legutolsó foglalás átlatlétszáma ": "2"
                                },
                                {
                                    "SZALLAS_NEV": "Hotel Három Hattyú",
                                    "METTOL": "2016-05-10",
                                    "5 legutolsó foglalás átlatlétszáma ": "2"
                                },
                                {
                                    "SZALLAS_NEV": "Hotel Három Hattyú",
                                    "METTOL": "2016-05-11",
                                    "5 legutolsó foglalás átlatlétszáma ": "2"
                                },
                                {
                                    "SZALLAS_NEV": "Hotel Három Hattyú",
                                    "METTOL": "2016-05-14",
                                    "5 legutolsó foglalás átlatlétszáma ": "2"
                                },
                                {
                                    "SZALLAS_NEV": "Hotel Három Hattyú",
                                    "METTOL": "2016-05-18",
                                    "5 legutolsó foglalás átlatlétszáma ": "2"
                                },
                                {
                                    "SZALLAS_NEV": "Hotel Három Hattyú",
                                    "METTOL": "2016-05-19",
                                    "5 legutolsó foglalás átlatlétszáma ": "2"
                                },
                                {
                                    "SZALLAS_NEV": "Hotel Három Hattyú",
                                    "METTOL": "2016-05-24",
                                    "5 legutolsó foglalás átlatlétszáma ": "2"
                                },
                                {
                                    "SZALLAS_NEV": "Hotel Három Hattyú",
                                    "METTOL": "2016-05-25",
                                    "5 legutolsó foglalás átlatlétszáma ": "2"
                                },
                                {
                                    "SZALLAS_NEV": "Hotel Három Hattyú",
                                    "METTOL": "2016-05-27",
                                    "5 legutolsó foglalás átlatlétszáma ": "1"
                                },
                                {
                                    "SZALLAS_NEV": "Hotel Három Hattyú",
                                    "METTOL": "2016-05-28",
                                    "5 legutolsó foglalás átlatlétszáma ": "2"
                                },
                                {
                                    "SZALLAS_NEV": "Hotel Három Hattyú",
                                    "METTOL": "2016-05-30",
                                    "5 legutolsó foglalás átlatlétszáma ": "2"
                                },
                                {
                                    "SZALLAS_NEV": "Hotel Három Hattyú",
                                    "METTOL": "2016-05-30",
                                    "5 legutolsó foglalás átlatlétszáma ": "2"
                                },
                                {
                                    "SZALLAS_NEV": "Hotel Három Hattyú",
                                    "METTOL": "2016-06-06",
                                    "5 legutolsó foglalás átlatlétszáma ": "1"
                                },
                                {
                                    "SZALLAS_NEV": "Hotel Három Hattyú",
                                    "METTOL": "2016-06-07",
                                    "5 legutolsó foglalás átlatlétszáma ": "2"
                                },
                                {
                                    "SZALLAS_NEV": "Hotel Három Hattyú",
                                    "METTOL": "2016-06-07",
                                    "5 legutolsó foglalás átlatlétszáma ": "2"
                                },
                                {
                                    "SZALLAS_NEV": "Hotel Három Hattyú",
                                    "METTOL": "2016-06-10",
                                    "5 legutolsó foglalás átlatlétszáma ": "1"
                                },
                                {
                                    "SZALLAS_NEV": "Hotel Három Hattyú",
                                    "METTOL": "2016-06-10",
                                    "5 legutolsó foglalás átlatlétszáma ": "2"
                                },
                                {
                                    "SZALLAS_NEV": "Hotel Három Hattyú",
                                    "METTOL": "2016-06-12",
                                    "5 legutolsó foglalás átlatlétszáma ": "2"
                                },
                                {
                                    "SZALLAS_NEV": "Hotel Három Hattyú",
                                    "METTOL": "2016-06-14",
                                    "5 legutolsó foglalás átlatlétszáma ": "2"
                                },
                                {
                                    "SZALLAS_NEV": "Hotel Három Hattyú",
                                    "METTOL": "2016-06-16",
                                    "5 legutolsó foglalás átlatlétszáma ": "2"
                                },
                                {
                                    "SZALLAS_NEV": "Hotel Három Hattyú",
                                    "METTOL": "2016-06-16",
                                    "5 legutolsó foglalás átlatlétszáma ": "3"
                                },
                                {
                                    "SZALLAS_NEV": "Hotel Három Hattyú",
                                    "METTOL": "2016-06-16",
                                    "5 legutolsó foglalás átlatlétszáma ": "2"
                                },
                                {
                                    "SZALLAS_NEV": "Hotel Három Hattyú",
                                    "METTOL": "2016-06-16",
                                    "5 legutolsó foglalás átlatlétszáma ": "2"
                                },
                                {
                                    "SZALLAS_NEV": "Hotel Három Hattyú",
                                    "METTOL": "2016-06-19",
                                    "5 legutolsó foglalás átlatlétszáma ": "2"
                                },
                                {
                                    "SZALLAS_NEV": "Hotel Három Hattyú",
                                    "METTOL": "2016-06-21",
                                    "5 legutolsó foglalás átlatlétszáma ": "2"
                                },
                                {
                                    "SZALLAS_NEV": "Hotel Három Hattyú",
                                    "METTOL": "2016-06-29",
                                    "5 legutolsó foglalás átlatlétszáma ": "2"
                                },
                                {
                                    "SZALLAS_NEV": "Hotel Három Hattyú",
                                    "METTOL": "2016-06-30",
                                    "5 legutolsó foglalás átlatlétszáma ": "2"
                                },
                                {
                                    "SZALLAS_NEV": "Hotel Három Hattyú",
                                    "METTOL": "2016-07-01",
                                    "5 legutolsó foglalás átlatlétszáma ": "2"
                                },
                                {
                                    "SZALLAS_NEV": "Hotel Három Hattyú",
                                    "METTOL": "2016-07-01",
                                    "5 legutolsó foglalás átlatlétszáma ": "2"
                                },
                                {
                                    "SZALLAS_NEV": "Hotel Három Hattyú",
                                    "METTOL": "2016-07-03",
                                    "5 legutolsó foglalás átlatlétszáma ": "2"
                                },
                                {
                                    "SZALLAS_NEV": "Hotel Három Hattyú",
                                    "METTOL": "2016-07-04",
                                    "5 legutolsó foglalás átlatlétszáma ": "3"
                                },
                                {
                                    "SZALLAS_NEV": "Hotel Három Hattyú",
                                    "METTOL": "2016-07-07",
                                    "5 legutolsó foglalás átlatlétszáma ": "3"
                                },
                                {
                                    "SZALLAS_NEV": "Hotel Három Hattyú",
                                    "METTOL": "2016-07-12",
                                    "5 legutolsó foglalás átlatlétszáma ": "3"
                                },
                                {
                                    "SZALLAS_NEV": "Hotel Három Hattyú",
                                    "METTOL": "2016-07-13",
                                    "5 legutolsó foglalás átlatlétszáma ": "3"
                                },
                                {
                                    "SZALLAS_NEV": "Hotel Három Hattyú",
                                    "METTOL": "2016-07-14",
                                    "5 legutolsó foglalás átlatlétszáma ": "2"
                                },
                                {
                                    "SZALLAS_NEV": "Hotel Három Hattyú",
                                    "METTOL": "2016-07-18",
                                    "5 legutolsó foglalás átlatlétszáma ": "2"
                                },
                                {
                                    "SZALLAS_NEV": "Hotel Három Hattyú",
                                    "METTOL": "2016-07-19",
                                    "5 legutolsó foglalás átlatlétszáma ": "2"
                                },
                                {
                                    "SZALLAS_NEV": "Hotel Három Hattyú",
                                    "METTOL": "2016-07-20",
                                    "5 legutolsó foglalás átlatlétszáma ": "1"
                                },
                                {
                                    "SZALLAS_NEV": "Hotel Három Hattyú",
                                    "METTOL": "2016-07-22",
                                    "5 legutolsó foglalás átlatlétszáma ": "2"
                                },
                                {
                                    "SZALLAS_NEV": "Hotel Három Hattyú",
                                    "METTOL": "2016-07-23",
                                    "5 legutolsó foglalás átlatlétszáma ": "2"
                                },
                                {
                                    "SZALLAS_NEV": "Hotel Három Hattyú",
                                    "METTOL": "2016-07-25",
                                    "5 legutolsó foglalás átlatlétszáma ": "1"
                                },
                                {
                                    "SZALLAS_NEV": "Hotel Három Hattyú",
                                    "METTOL": "2016-07-26",
                                    "5 legutolsó foglalás átlatlétszáma ": "1"
                                },
                                {
                                    "SZALLAS_NEV": "Hotel Három Hattyú",
                                    "METTOL": "2016-07-26",
                                    "5 legutolsó foglalás átlatlétszáma ": "2"
                                },
                                {
                                    "SZALLAS_NEV": "Hotel Három Hattyú",
                                    "METTOL": "2016-07-27",
                                    "5 legutolsó foglalás átlatlétszáma ": "2"
                                },
                                {
                                    "SZALLAS_NEV": "Hotel Három Hattyú",
                                    "METTOL": "2016-07-27",
                                    "5 legutolsó foglalás átlatlétszáma ": "2"
                                },
                                {
                                    "SZALLAS_NEV": "Hotel Három Hattyú",
                                    "METTOL": "2016-07-27",
                                    "5 legutolsó foglalás átlatlétszáma ": "2"
                                },
                                {
                                    "SZALLAS_NEV": "Hotel Három Hattyú",
                                    "METTOL": "2016-07-27",
                                    "5 legutolsó foglalás átlatlétszáma ": "2"
                                },
                                {
                                    "SZALLAS_NEV": "Hotel Három Hattyú",
                                    "METTOL": "2016-07-27",
                                    "5 legutolsó foglalás átlatlétszáma ": "3"
                                },
                                {
                                    "SZALLAS_NEV": "Hotel Három Hattyú",
                                    "METTOL": "2016-07-28",
                                    "5 legutolsó foglalás átlatlétszáma ": "3"
                                },
                                {
                                    "SZALLAS_NEV": "Hotel Három Hattyú",
                                    "METTOL": "2016-07-28",
                                    "5 legutolsó foglalás átlatlétszáma ": "2"
                                },
                                {
                                    "SZALLAS_NEV": "Hotel Három Hattyú",
                                    "METTOL": "2016-07-29",
                                    "5 legutolsó foglalás átlatlétszáma ": "2"
                                },
                                {
                                    "SZALLAS_NEV": "Hotel Három Hattyú",
                                    "METTOL": "2016-07-30",
                                    "5 legutolsó foglalás átlatlétszáma ": "2"
                                },
                                {
                                    "SZALLAS_NEV": "Hotel Három Hattyú",
                                    "METTOL": "2016-07-30",
                                    "5 legutolsó foglalás átlatlétszáma ": "2"
                                },
                                {
                                    "SZALLAS_NEV": "Hotel Három Hattyú",
                                    "METTOL": "2016-08-04",
                                    "5 legutolsó foglalás átlatlétszáma ": "2"
                                },
                                {
                                    "SZALLAS_NEV": "Hotel Három Hattyú",
                                    "METTOL": "2016-08-07",
                                    "5 legutolsó foglalás átlatlétszáma ": "2"
                                },
                                {
                                    "SZALLAS_NEV": "Hotel Három Hattyú",
                                    "METTOL": "2016-08-14",
                                    "5 legutolsó foglalás átlatlétszáma ": "2"
                                },
                                {
                                    "SZALLAS_NEV": "Hotel Három Hattyú",
                                    "METTOL": "2016-08-15",
                                    "5 legutolsó foglalás átlatlétszáma ": "3"
                                },
                                {
                                    "SZALLAS_NEV": "Hotel Három Hattyú",
                                    "METTOL": "2016-08-16",
                                    "5 legutolsó foglalás átlatlétszáma ": "2"
                                },
                                {
                                    "SZALLAS_NEV": "Hotel Három Hattyú",
                                    "METTOL": "2016-08-20",
                                    "5 legutolsó foglalás átlatlétszáma ": "2"
                                },
                                {
                                    "SZALLAS_NEV": "Hotel Három Hattyú",
                                    "METTOL": "2016-08-21",
                                    "5 legutolsó foglalás átlatlétszáma ": "2"
                                },
                                {
                                    "SZALLAS_NEV": "Hotel Három Hattyú",
                                    "METTOL": "2016-08-23",
                                    "5 legutolsó foglalás átlatlétszáma ": "2"
                                },
                                {
                                    "SZALLAS_NEV": "Hotel Három Hattyú",
                                    "METTOL": "2016-08-23",
                                    "5 legutolsó foglalás átlatlétszáma ": "2"
                                },
                                {
                                    "SZALLAS_NEV": "Hotel Három Hattyú",
                                    "METTOL": "2016-08-24",
                                    "5 legutolsó foglalás átlatlétszáma ": "2"
                                },
                                {
                                    "SZALLAS_NEV": "Hotel Három Hattyú",
                                    "METTOL": "2016-08-26",
                                    "5 legutolsó foglalás átlatlétszáma ": "2"
                                },
                                {
                                    "SZALLAS_NEV": "Hotel Három Hattyú",
                                    "METTOL": "2016-08-29",
                                    "5 legutolsó foglalás átlatlétszáma ": "2"
                                },
                                {
                                    "SZALLAS_NEV": "Hotel Három Hattyú",
                                    "METTOL": "2016-08-29",
                                    "5 legutolsó foglalás átlatlétszáma ": "2"
                                },
                                {
                                    "SZALLAS_NEV": "Hotel Három Hattyú",
                                    "METTOL": "2016-08-31",
                                    "5 legutolsó foglalás átlatlétszáma ": "2"
                                },
                                {
                                    "SZALLAS_NEV": "Hotel Három Hattyú",
                                    "METTOL": "2016-09-05",
                                    "5 legutolsó foglalás átlatlétszáma ": "2"
                                },
                                {
                                    "SZALLAS_NEV": "Hotel Három Hattyú",
                                    "METTOL": "2016-09-06",
                                    "5 legutolsó foglalás átlatlétszáma ": "3"
                                },
                                {
                                    "SZALLAS_NEV": "Hotel Három Hattyú",
                                    "METTOL": "2016-09-08",
                                    "5 legutolsó foglalás átlatlétszáma ": "2"
                                },
                                {
                                    "SZALLAS_NEV": "Hotel Három Hattyú",
                                    "METTOL": "2016-09-10",
                                    "5 legutolsó foglalás átlatlétszáma ": "3"
                                },
                                {
                                    "SZALLAS_NEV": "Hotel Három Hattyú",
                                    "METTOL": "2016-09-13",
                                    "5 legutolsó foglalás átlatlétszáma ": "3"
                                },
                                {
                                    "SZALLAS_NEV": "Hotel Három Hattyú",
                                    "METTOL": "2016-09-13",
                                    "5 legutolsó foglalás átlatlétszáma ": "2"
                                },
                                {
                                    "SZALLAS_NEV": "Hotel Három Hattyú",
                                    "METTOL": "2016-09-13",
                                    "5 legutolsó foglalás átlatlétszáma ": "2"
                                },
                                {
                                    "SZALLAS_NEV": "Hotel Három Hattyú",
                                    "METTOL": "2016-09-17",
                                    "5 legutolsó foglalás átlatlétszáma ": "2"
                                },
                                {
                                    "SZALLAS_NEV": "Hotel Három Hattyú",
                                    "METTOL": "2016-09-20",
                                    "5 legutolsó foglalás átlatlétszáma ": "2"
                                },
                                {
                                    "SZALLAS_NEV": "Hotel Három Hattyú",
                                    "METTOL": "2016-09-27",
                                    "5 legutolsó foglalás átlatlétszáma ": "2"
                                },
                                {
                                    "SZALLAS_NEV": "Hotel Három Hattyú",
                                    "METTOL": "2016-09-28",
                                    "5 legutolsó foglalás átlatlétszáma ": "2"
                                },
                                {
                                    "SZALLAS_NEV": "Hotel Három Hattyú",
                                    "METTOL": "2016-09-30",
                                    "5 legutolsó foglalás átlatlétszáma ": "2"
                                },
                                {
                                    "SZALLAS_NEV": "Hotel Három Hattyú",
                                    "METTOL": "2016-10-01",
                                    "5 legutolsó foglalás átlatlétszáma ": "2"
                                },
                                {
                                    "SZALLAS_NEV": "Hotel Három Hattyú",
                                    "METTOL": "2016-10-01",
                                    "5 legutolsó foglalás átlatlétszáma ": "2"
                                },
                                {
                                    "SZALLAS_NEV": "Hotel Három Hattyú",
                                    "METTOL": "2016-10-01",
                                    "5 legutolsó foglalás átlatlétszáma ": "2"
                                },
                                {
                                    "SZALLAS_NEV": "Hotel Három Hattyú",
                                    "METTOL": "2016-10-04",
                                    "5 legutolsó foglalás átlatlétszáma ": "2"
                                },
                                {
                                    "SZALLAS_NEV": "Hotel Három Hattyú",
                                    "METTOL": "2016-10-06",
                                    "5 legutolsó foglalás átlatlétszáma ": "2"
                                },
                                {
                                    "SZALLAS_NEV": "Hotel Három Hattyú",
                                    "METTOL": "2016-10-08",
                                    "5 legutolsó foglalás átlatlétszáma ": "2"
                                },
                                {
                                    "SZALLAS_NEV": "Hotel Három Hattyú",
                                    "METTOL": "2016-10-08",
                                    "5 legutolsó foglalás átlatlétszáma ": "2"
                                },
                                {
                                    "SZALLAS_NEV": "Hotel Három Hattyú",
                                    "METTOL": "2016-10-15",
                                    "5 legutolsó foglalás átlatlétszáma ": "2"
                                },
                                {
                                    "SZALLAS_NEV": "Hotel Három Hattyú",
                                    "METTOL": "2016-10-17",
                                    "5 legutolsó foglalás átlatlétszáma ": "2"
                                },
                                {
                                    "SZALLAS_NEV": "Hotel Három Hattyú",
                                    "METTOL": "2016-10-19",
                                    "5 legutolsó foglalás átlatlétszáma ": "2"
                                },
                                {
                                    "SZALLAS_NEV": "Hotel Három Hattyú",
                                    "METTOL": "2016-10-20",
                                    "5 legutolsó foglalás átlatlétszáma ": "1"
                                },
                                {
                                    "SZALLAS_NEV": "Hotel Három Hattyú",
                                    "METTOL": "2016-10-22",
                                    "5 legutolsó foglalás átlatlétszáma ": "1"
                                },
                                {
                                    "SZALLAS_NEV": "Hotel Három Hattyú",
                                    "METTOL": "2016-10-26",
                                    "5 legutolsó foglalás átlatlétszáma ": "1"
                                },
                                {
                                    "SZALLAS_NEV": "Hotel Három Hattyú",
                                    "METTOL": "2016-10-28",
                                    "5 legutolsó foglalás átlatlétszáma ": "2"
                                },
                                {
                                    "SZALLAS_NEV": "Hotel Három Hattyú",
                                    "METTOL": "2016-10-28",
                                    "5 legutolsó foglalás átlatlétszáma ": "1"
                                },
                                {
                                    "SZALLAS_NEV": "Hotel Három Hattyú",
                                    "METTOL": "2016-10-28",
                                    "5 legutolsó foglalás átlatlétszáma ": "2"
                                },
                                {
                                    "SZALLAS_NEV": "Hotel Három Hattyú",
                                    "METTOL": "2016-10-29",
                                    "5 legutolsó foglalás átlatlétszáma ": "2"
                                },
                                {
                                    "SZALLAS_NEV": "Hotel Három Hattyú",
                                    "METTOL": "2016-10-29",
                                    "5 legutolsó foglalás átlatlétszáma ": "2"
                                },
                                {
                                    "SZALLAS_NEV": "Hotel Három Hattyú",
                                    "METTOL": "2016-10-30",
                                    "5 legutolsó foglalás átlatlétszáma ": "3"
                                },
                                {
                                    "SZALLAS_NEV": "Hotel Három Hattyú",
                                    "METTOL": "2016-10-30",
                                    "5 legutolsó foglalás átlatlétszáma ": "3"
                                },
                                {
                                    "SZALLAS_NEV": "Hotel Három Hattyú",
                                    "METTOL": "2016-10-30",
                                    "5 legutolsó foglalás átlatlétszáma ": "3"
                                },
                                {
                                    "SZALLAS_NEV": "Hotel Három Hattyú",
                                    "METTOL": "2016-11-03",
                                    "5 legutolsó foglalás átlatlétszáma ": "3"
                                },
                                {
                                    "SZALLAS_NEV": "Hotel Három Hattyú",
                                    "METTOL": "2016-11-04",
                                    "5 legutolsó foglalás átlatlétszáma ": "2"
                                },
                                {
                                    "SZALLAS_NEV": "Hotel Három Hattyú",
                                    "METTOL": "2016-11-05",
                                    "5 legutolsó foglalás átlatlétszáma ": "2"
                                },
                                {
                                    "SZALLAS_NEV": "Hotel Három Hattyú",
                                    "METTOL": "2016-11-05",
                                    "5 legutolsó foglalás átlatlétszáma ": "2"
                                },
                                {
                                    "SZALLAS_NEV": "Hotel Három Hattyú",
                                    "METTOL": "2016-11-08",
                                    "5 legutolsó foglalás átlatlétszáma ": "2"
                                },
                                {
                                    "SZALLAS_NEV": "Hotel Három Hattyú",
                                    "METTOL": "2016-11-10",
                                    "5 legutolsó foglalás átlatlétszáma ": "2"
                                },
                                {
                                    "SZALLAS_NEV": "Hotel Három Hattyú",
                                    "METTOL": "2016-11-15",
                                    "5 legutolsó foglalás átlatlétszáma ": "2"
                                },
                                {
                                    "SZALLAS_NEV": "Hotel Három Hattyú",
                                    "METTOL": "2016-11-16",
                                    "5 legutolsó foglalás átlatlétszáma ": "2"
                                },
                                {
                                    "SZALLAS_NEV": "Hotel Három Hattyú",
                                    "METTOL": "2016-11-19",
                                    "5 legutolsó foglalás átlatlétszáma ": "3"
                                },
                                {
                                    "SZALLAS_NEV": "Hotel Három Hattyú",
                                    "METTOL": "2016-11-19",
                                    "5 legutolsó foglalás átlatlétszáma ": "2"
                                },
                                {
                                    "SZALLAS_NEV": "Hotel Három Hattyú",
                                    "METTOL": "2016-11-20",
                                    "5 legutolsó foglalás átlatlétszáma ": "2"
                                },
                                {
                                    "SZALLAS_NEV": "Hotel Három Hattyú",
                                    "METTOL": "2016-11-22",
                                    "5 legutolsó foglalás átlatlétszáma ": "2"
                                },
                                {
                                    "SZALLAS_NEV": "Hotel Három Hattyú",
                                    "METTOL": "2016-11-23",
                                    "5 legutolsó foglalás átlatlétszáma ": "2"
                                },
                                {
                                    "SZALLAS_NEV": "Hotel Három Hattyú",
                                    "METTOL": "2016-11-24",
                                    "5 legutolsó foglalás átlatlétszáma ": "2"
                                },
                                {
                                    "SZALLAS_NEV": "Hotel Három Hattyú",
                                    "METTOL": "2016-11-29",
                                    "5 legutolsó foglalás átlatlétszáma ": "2"
                                },
                                {
                                    "SZALLAS_NEV": "Hotel Három Hattyú",
                                    "METTOL": "2016-11-29",
                                    "5 legutolsó foglalás átlatlétszáma ": "2"
                                },
                                {
                                    "SZALLAS_NEV": "Hotel Három Hattyú",
                                    "METTOL": "2016-12-02",
                                    "5 legutolsó foglalás átlatlétszáma ": "2"
                                },
                                {
                                    "SZALLAS_NEV": "Hotel Három Hattyú",
                                    "METTOL": "2016-12-03",
                                    "5 legutolsó foglalás átlatlétszáma ": "2"
                                },
                                {
                                    "SZALLAS_NEV": "Hotel Három Hattyú",
                                    "METTOL": "2016-12-05",
                                    "5 legutolsó foglalás átlatlétszáma ": "2"
                                },
                                {
                                    "SZALLAS_NEV": "Hotel Három Hattyú",
                                    "METTOL": "2016-12-07",
                                    "5 legutolsó foglalás átlatlétszáma ": "2"
                                },
                                {
                                    "SZALLAS_NEV": "Hotel Három Hattyú",
                                    "METTOL": "2016-12-07",
                                    "5 legutolsó foglalás átlatlétszáma ": "2"
                                },
                                {
                                    "SZALLAS_NEV": "Hotel Három Hattyú",
                                    "METTOL": "2016-12-07",
                                    "5 legutolsó foglalás átlatlétszáma ": "2"
                                },
                                {
                                    "SZALLAS_NEV": "Hotel Három Hattyú",
                                    "METTOL": "2016-12-08",
                                    "5 legutolsó foglalás átlatlétszáma ": "2"
                                },
                                {
                                    "SZALLAS_NEV": "Hotel Három Hattyú",
                                    "METTOL": "2016-12-13",
                                    "5 legutolsó foglalás átlatlétszáma ": "3"
                                },
                                {
                                    "SZALLAS_NEV": "Hotel Három Hattyú",
                                    "METTOL": "2016-12-15",
                                    "5 legutolsó foglalás átlatlétszáma ": "3"
                                },
                                {
                                    "SZALLAS_NEV": "Hotel Három Hattyú",
                                    "METTOL": "2016-12-17",
                                    "5 legutolsó foglalás átlatlétszáma ": "3"
                                },
                                {
                                    "SZALLAS_NEV": "Hotel Három Hattyú",
                                    "METTOL": "2016-12-17",
                                    "5 legutolsó foglalás átlatlétszáma ": "2"
                                },
                                {
                                    "SZALLAS_NEV": "Hotel Három Hattyú",
                                    "METTOL": "2016-12-17",
                                    "5 legutolsó foglalás átlatlétszáma ": "2"
                                },
                                {
                                    "SZALLAS_NEV": "Hotel Három Hattyú",
                                    "METTOL": "2016-12-17",
                                    "5 legutolsó foglalás átlatlétszáma ": "1"
                                },
                                {
                                    "SZALLAS_NEV": "Hotel Három Hattyú",
                                    "METTOL": "2016-12-18",
                                    "5 legutolsó foglalás átlatlétszáma ": "1"
                                },
                                {
                                    "SZALLAS_NEV": "Hotel Három Hattyú",
                                    "METTOL": "2016-12-23",
                                    "5 legutolsó foglalás átlatlétszáma ": "1"
                                },
                                {
                                    "SZALLAS_NEV": "Hotel Három Hattyú",
                                    "METTOL": "2016-12-25",
                                    "5 legutolsó foglalás átlatlétszáma ": "1"
                                },
                                {
                                    "SZALLAS_NEV": "Hotel Három Hattyú",
                                    "METTOL": "2016-12-25",
                                    "5 legutolsó foglalás átlatlétszáma ": "2"
                                },
                                {
                                    "SZALLAS_NEV": "Hotel Három Hattyú",
                                    "METTOL": "2016-12-25",
                                    "5 legutolsó foglalás átlatlétszáma ": "2"
                                },
                                {
                                    "SZALLAS_NEV": "Hotel Három Hattyú",
                                    "METTOL": "2016-12-25",
                                    "5 legutolsó foglalás átlatlétszáma ": "2"
                                },
                                {
                                    "SZALLAS_NEV": "Hotel Három Hattyú",
                                    "METTOL": "2016-12-25",
                                    "5 legutolsó foglalás átlatlétszáma ": "3"
                                },
                                {
                                    "SZALLAS_NEV": "Hotel Három Hattyú",
                                    "METTOL": "2016-12-26",
                                    "5 legutolsó foglalás átlatlétszáma ": "3"
                                },
                                {
                                    "SZALLAS_NEV": "Hotel Három Hattyú",
                                    "METTOL": "2016-12-28",
                                    "5 legutolsó foglalás átlatlétszáma ": "2"
                                },
                                {
                                    "SZALLAS_NEV": "Hotel Három Hattyú",
                                    "METTOL": "2016-12-29",
                                    "5 legutolsó foglalás átlatlétszáma ": "2"
                                },
                                {
                                    "SZALLAS_NEV": "Hotel Három Hattyú",
                                    "METTOL": "2016-12-31",
                                    "5 legutolsó foglalás átlatlétszáma ": "2"
                                },
                                {
                                    "SZALLAS_NEV": "Hotel Három Hattyú",
                                    "METTOL": "2017-01-02",
                                    "5 legutolsó foglalás átlatlétszáma ": "1"
                                },
                                {
                                    "SZALLAS_NEV": "Hotel Három Hattyú",
                                    "METTOL": "2017-01-03",
                                    "5 legutolsó foglalás átlatlétszáma ": "1"
                                },
                                {
                                    "SZALLAS_NEV": "Hotel Három Hattyú",
                                    "METTOL": "2017-01-05",
                                    "5 legutolsó foglalás átlatlétszáma ": "1"
                                },
                                {
                                    "SZALLAS_NEV": "Hotel Három Hattyú",
                                    "METTOL": "2017-01-07",
                                    "5 legutolsó foglalás átlatlétszáma ": "2"
                                },
                                {
                                    "SZALLAS_NEV": "Hotel Három Hattyú",
                                    "METTOL": "2017-01-09",
                                    "5 legutolsó foglalás átlatlétszáma ": "2"
                                },
                                {
                                    "SZALLAS_NEV": "Hotel Három Hattyú",
                                    "METTOL": "2017-01-14",
                                    "5 legutolsó foglalás átlatlétszáma ": "2"
                                },
                                {
                                    "SZALLAS_NEV": "Hotel Három Hattyú",
                                    "METTOL": "2017-01-15",
                                    "5 legutolsó foglalás átlatlétszáma ": "2"
                                },
                                {
                                    "SZALLAS_NEV": "Hotel Három Hattyú",
                                    "METTOL": "2017-01-16",
                                    "5 legutolsó foglalás átlatlétszáma ": "2"
                                },
                                {
                                    "SZALLAS_NEV": "Hotel Három Hattyú",
                                    "METTOL": "2017-01-17",
                                    "5 legutolsó foglalás átlatlétszáma ": "2"
                                },
                                {
                                    "SZALLAS_NEV": "Hotel Három Hattyú",
                                    "METTOL": "2017-01-18",
                                    "5 legutolsó foglalás átlatlétszáma ": "2"
                                },
                                {
                                    "SZALLAS_NEV": "Hotel Három Hattyú",
                                    "METTOL": "2017-01-23",
                                    "5 legutolsó foglalás átlatlétszáma ": "2"
                                },
                                {
                                    "SZALLAS_NEV": "Hotel Három Hattyú",
                                    "METTOL": "2017-01-24",
                                    "5 legutolsó foglalás átlatlétszáma ": "3"
                                },
                                {
                                    "SZALLAS_NEV": "Hotel Három Hattyú",
                                    "METTOL": "2017-01-29",
                                    "5 legutolsó foglalás átlatlétszáma ": "3"
                                },
                                {
                                    "SZALLAS_NEV": "Hotel Három Hattyú",
                                    "METTOL": "2017-01-29",
                                    "5 legutolsó foglalás átlatlétszáma ": "2"
                                },
                                {
                                    "SZALLAS_NEV": "Hotel Három Hattyú",
                                    "METTOL": "2017-01-30",
                                    "5 legutolsó foglalás átlatlétszáma ": "2"
                                },
                                {
                                    "SZALLAS_NEV": "Hotel Három Hattyú",
                                    "METTOL": "2017-01-30",
                                    "5 legutolsó foglalás átlatlétszáma ": "3"
                                },
                                {
                                    "SZALLAS_NEV": "Hotel Három Hattyú",
                                    "METTOL": "2017-01-31",
                                    "5 legutolsó foglalás átlatlétszáma ": "2"
                                },
                                {
                                    "SZALLAS_NEV": "Hotel Három Hattyú",
                                    "METTOL": "2017-02-01",
                                    "5 legutolsó foglalás átlatlétszáma ": "2"
                                },
                                {
                                    "SZALLAS_NEV": "Hotel Három Hattyú",
                                    "METTOL": "2017-02-02",
                                    "5 legutolsó foglalás átlatlétszáma ": "2"
                                },
                                {
                                    "SZALLAS_NEV": "Hotel Három Hattyú",
                                    "METTOL": "2017-02-04",
                                    "5 legutolsó foglalás átlatlétszáma ": "2"
                                },
                                {
                                    "SZALLAS_NEV": "Hotel Három Hattyú",
                                    "METTOL": "2017-02-04",
                                    "5 legutolsó foglalás átlatlétszáma ": "2"
                                },
                                {
                                    "SZALLAS_NEV": "Hotel Három Hattyú",
                                    "METTOL": "2017-02-04",
                                    "5 legutolsó foglalás átlatlétszáma ": "2"
                                },
                                {
                                    "SZALLAS_NEV": "Hotel Három Hattyú",
                                    "METTOL": "2017-02-05",
                                    "5 legutolsó foglalás átlatlétszáma ": "3"
                                },
                                {
                                    "SZALLAS_NEV": "Hotel Három Hattyú",
                                    "METTOL": "2017-02-05",
                                    "5 legutolsó foglalás átlatlétszáma ": "3"
                                },
                                {
                                    "SZALLAS_NEV": "Hotel Három Hattyú",
                                    "METTOL": "2017-02-05",
                                    "5 legutolsó foglalás átlatlétszáma ": "3"
                                },
                                {
                                    "SZALLAS_NEV": "Hotel Három Hattyú",
                                    "METTOL": "2017-02-08",
                                    "5 legutolsó foglalás átlatlétszáma ": "3"
                                },
                                {
                                    "SZALLAS_NEV": "Hotel Három Hattyú",
                                    "METTOL": "2017-02-08",
                                    "5 legutolsó foglalás átlatlétszáma ": "3"
                                },
                                {
                                    "SZALLAS_NEV": "Hotel Három Hattyú",
                                    "METTOL": "2017-02-10",
                                    "5 legutolsó foglalás átlatlétszáma ": "3"
                                },
                                {
                                    "SZALLAS_NEV": "Hotel Három Hattyú",
                                    "METTOL": "2017-02-12",
                                    "5 legutolsó foglalás átlatlétszáma ": "2"
                                },
                                {
                                    "SZALLAS_NEV": "Hotel Három Hattyú",
                                    "METTOL": "2017-02-12",
                                    "5 legutolsó foglalás átlatlétszáma ": "2"
                                },
                                {
                                    "SZALLAS_NEV": "Hotel Három Hattyú",
                                    "METTOL": "2017-02-12",
                                    "5 legutolsó foglalás átlatlétszáma ": "2"
                                },
                                {
                                    "SZALLAS_NEV": "Hotel Három Hattyú",
                                    "METTOL": "2017-02-13",
                                    "5 legutolsó foglalás átlatlétszáma ": "2"
                                },
                                {
                                    "SZALLAS_NEV": "Hotel Három Hattyú",
                                    "METTOL": "2017-02-13",
                                    "5 legutolsó foglalás átlatlétszáma ": "2"
                                },
                                {
                                    "SZALLAS_NEV": "Hotel Három Hattyú",
                                    "METTOL": "2017-02-13",
                                    "5 legutolsó foglalás átlatlétszáma ": "2"
                                },
                                {
                                    "SZALLAS_NEV": "Hotel Három Hattyú",
                                    "METTOL": "2017-02-13",
                                    "5 legutolsó foglalás átlatlétszáma ": "2"
                                },
                                {
                                    "SZALLAS_NEV": "Hotel Három Hattyú",
                                    "METTOL": "2017-02-14",
                                    "5 legutolsó foglalás átlatlétszáma ": "2"
                                },
                                {
                                    "SZALLAS_NEV": "Hotel Három Hattyú",
                                    "METTOL": "2017-02-16",
                                    "5 legutolsó foglalás átlatlétszáma ": "2"
                                },
                                {
                                    "SZALLAS_NEV": "Hotel Három Hattyú",
                                    "METTOL": "2017-02-16",
                                    "5 legutolsó foglalás átlatlétszáma ": "2"
                                },
                                {
                                    "SZALLAS_NEV": "Hotel Három Hattyú",
                                    "METTOL": "2017-02-20",
                                    "5 legutolsó foglalás átlatlétszáma ": "2"
                                },
                                {
                                    "SZALLAS_NEV": "Hotel Három Hattyú",
                                    "METTOL": "2017-02-20",
                                    "5 legutolsó foglalás átlatlétszáma ": "2"
                                },
                                {
                                    "SZALLAS_NEV": "Hotel Három Hattyú",
                                    "METTOL": "2017-02-23",
                                    "5 legutolsó foglalás átlatlétszáma ": "2"
                                },
                                {
                                    "SZALLAS_NEV": "Hotel Három Hattyú",
                                    "METTOL": "2017-02-23",
                                    "5 legutolsó foglalás átlatlétszáma ": "2"
                                },
                                {
                                    "SZALLAS_NEV": "Hotel Három Hattyú",
                                    "METTOL": "2017-02-24",
                                    "5 legutolsó foglalás átlatlétszáma ": "2"
                                },
                                {
                                    "SZALLAS_NEV": "Hotel Három Hattyú",
                                    "METTOL": "2017-02-24",
                                    "5 legutolsó foglalás átlatlétszáma ": "2"
                                },
                                {
                                    "SZALLAS_NEV": "Hotel Három Hattyú",
                                    "METTOL": "2017-02-26",
                                    "5 legutolsó foglalás átlatlétszáma ": "2"
                                },
                                {
                                    "SZALLAS_NEV": "Hotel Három Hattyú",
                                    "METTOL": "2017-02-28",
                                    "5 legutolsó foglalás átlatlétszáma ": "2"
                                },
                                {
                                    "SZALLAS_NEV": "Hotel Három Hattyú",
                                    "METTOL": "2017-03-03",
                                    "5 legutolsó foglalás átlatlétszáma ": "2"
                                },
                                {
                                    "SZALLAS_NEV": "Jáde panzió",
                                    "METTOL": "2016-04-06",
                                    "5 legutolsó foglalás átlatlétszáma ": "NULL"
                                },
                                {
                                    "SZALLAS_NEV": "Jáde panzió",
                                    "METTOL": "2016-04-14",
                                    "5 legutolsó foglalás átlatlétszáma ": "2"
                                },
                                {
                                    "SZALLAS_NEV": "Jáde panzió",
                                    "METTOL": "2016-05-01",
                                    "5 legutolsó foglalás átlatlétszáma ": "2"
                                },
                                {
                                    "SZALLAS_NEV": "Jáde panzió",
                                    "METTOL": "2016-05-04",
                                    "5 legutolsó foglalás átlatlétszáma ": "2"
                                },
                                {
                                    "SZALLAS_NEV": "Jáde panzió",
                                    "METTOL": "2016-05-18",
                                    "5 legutolsó foglalás átlatlétszáma ": "2"
                                },
                                {
                                    "SZALLAS_NEV": "Jáde panzió",
                                    "METTOL": "2016-05-30",
                                    "5 legutolsó foglalás átlatlétszáma ": "2"
                                },
                                {
                                    "SZALLAS_NEV": "Jáde panzió",
                                    "METTOL": "2016-06-06",
                                    "5 legutolsó foglalás átlatlétszáma ": "1"
                                },
                                {
                                    "SZALLAS_NEV": "Jáde panzió",
                                    "METTOL": "2016-06-06",
                                    "5 legutolsó foglalás átlatlétszáma ": "2"
                                },
                                {
                                    "SZALLAS_NEV": "Jáde panzió",
                                    "METTOL": "2016-06-27",
                                    "5 legutolsó foglalás átlatlétszáma ": "2"
                                },
                                {
                                    "SZALLAS_NEV": "Jáde panzió",
                                    "METTOL": "2016-07-01",
                                    "5 legutolsó foglalás átlatlétszáma ": "2"
                                },
                                {
                                    "SZALLAS_NEV": "Jáde panzió",
                                    "METTOL": "2016-07-03",
                                    "5 legutolsó foglalás átlatlétszáma ": "2"
                                },
                                {
                                    "SZALLAS_NEV": "Jáde panzió",
                                    "METTOL": "2016-07-11",
                                    "5 legutolsó foglalás átlatlétszáma ": "2"
                                },
                                {
                                    "SZALLAS_NEV": "Jáde panzió",
                                    "METTOL": "2016-08-06",
                                    "5 legutolsó foglalás átlatlétszáma ": "2"
                                },
                                {
                                    "SZALLAS_NEV": "Jáde panzió",
                                    "METTOL": "2016-08-15",
                                    "5 legutolsó foglalás átlatlétszáma ": "2"
                                },
                                {
                                    "SZALLAS_NEV": "Jáde panzió",
                                    "METTOL": "2016-09-09",
                                    "5 legutolsó foglalás átlatlétszáma ": "2"
                                },
                                {
                                    "SZALLAS_NEV": "Jáde panzió",
                                    "METTOL": "2016-09-12",
                                    "5 legutolsó foglalás átlatlétszáma ": "2"
                                },
                                {
                                    "SZALLAS_NEV": "Jáde panzió",
                                    "METTOL": "2016-09-30",
                                    "5 legutolsó foglalás átlatlétszáma ": "2"
                                },
                                {
                                    "SZALLAS_NEV": "Jáde panzió",
                                    "METTOL": "2016-10-01",
                                    "5 legutolsó foglalás átlatlétszáma ": "2"
                                },
                                {
                                    "SZALLAS_NEV": "Jáde panzió",
                                    "METTOL": "2016-10-12",
                                    "5 legutolsó foglalás átlatlétszáma ": "2"
                                },
                                {
                                    "SZALLAS_NEV": "Jáde panzió",
                                    "METTOL": "2016-10-22",
                                    "5 legutolsó foglalás átlatlétszáma ": "2"
                                },
                                {
                                    "SZALLAS_NEV": "Jáde panzió",
                                    "METTOL": "2016-10-30",
                                    "5 legutolsó foglalás átlatlétszáma ": "3"
                                },
                                {
                                    "SZALLAS_NEV": "Jáde panzió",
                                    "METTOL": "2016-11-22",
                                    "5 legutolsó foglalás átlatlétszáma ": "2"
                                },
                                {
                                    "SZALLAS_NEV": "Jáde panzió",
                                    "METTOL": "2016-11-22",
                                    "5 legutolsó foglalás átlatlétszáma ": "2"
                                },
                                {
                                    "SZALLAS_NEV": "Jáde panzió",
                                    "METTOL": "2016-12-15",
                                    "5 legutolsó foglalás átlatlétszáma ": "2"
                                },
                                {
                                    "SZALLAS_NEV": "Jáde panzió",
                                    "METTOL": "2017-01-01",
                                    "5 legutolsó foglalás átlatlétszáma ": "2"
                                },
                                {
                                    "SZALLAS_NEV": "Jáde panzió",
                                    "METTOL": "2017-01-25",
                                    "5 legutolsó foglalás átlatlétszáma ": "2"
                                },
                                {
                                    "SZALLAS_NEV": "Jáde panzió",
                                    "METTOL": "2017-01-26",
                                    "5 legutolsó foglalás átlatlétszáma ": "2"
                                },
                                {
                                    "SZALLAS_NEV": "Jáde panzió",
                                    "METTOL": "2017-02-12",
                                    "5 legutolsó foglalás átlatlétszáma ": "2"
                                },
                                {
                                    "SZALLAS_NEV": "Jáde panzió",
                                    "METTOL": "2017-02-15",
                                    "5 legutolsó foglalás átlatlétszáma ": "2"
                                },
                                {
                                    "SZALLAS_NEV": "Kentaur Hotel",
                                    "METTOL": "2016-04-07",
                                    "5 legutolsó foglalás átlatlétszáma ": "NULL"
                                },
                                {
                                    "SZALLAS_NEV": "Kentaur Hotel",
                                    "METTOL": "2016-04-10",
                                    "5 legutolsó foglalás átlatlétszáma ": "4"
                                },
                                {
                                    "SZALLAS_NEV": "Kentaur Hotel",
                                    "METTOL": "2016-04-10",
                                    "5 legutolsó foglalás átlatlétszáma ": "3"
                                },
                                {
                                    "SZALLAS_NEV": "Kentaur Hotel",
                                    "METTOL": "2016-04-16",
                                    "5 legutolsó foglalás átlatlétszáma ": "2"
                                },
                                {
                                    "SZALLAS_NEV": "Kentaur Hotel",
                                    "METTOL": "2016-04-17",
                                    "5 legutolsó foglalás átlatlétszáma ": "2"
                                },
                                {
                                    "SZALLAS_NEV": "Kentaur Hotel",
                                    "METTOL": "2016-04-21",
                                    "5 legutolsó foglalás átlatlétszáma ": "2"
                                },
                                {
                                    "SZALLAS_NEV": "Kentaur Hotel",
                                    "METTOL": "2016-04-22",
                                    "5 legutolsó foglalás átlatlétszáma ": "2"
                                },
                                {
                                    "SZALLAS_NEV": "Kentaur Hotel",
                                    "METTOL": "2016-05-07",
                                    "5 legutolsó foglalás átlatlétszáma ": "2"
                                },
                                {
                                    "SZALLAS_NEV": "Kentaur Hotel",
                                    "METTOL": "2016-05-08",
                                    "5 legutolsó foglalás átlatlétszáma ": "2"
                                },
                                {
                                    "SZALLAS_NEV": "Kentaur Hotel",
                                    "METTOL": "2016-05-12",
                                    "5 legutolsó foglalás átlatlétszáma ": "2"
                                },
                                {
                                    "SZALLAS_NEV": "Kentaur Hotel",
                                    "METTOL": "2016-05-13",
                                    "5 legutolsó foglalás átlatlétszáma ": "2"
                                },
                                {
                                    "SZALLAS_NEV": "Kentaur Hotel",
                                    "METTOL": "2016-05-14",
                                    "5 legutolsó foglalás átlatlétszáma ": "1"
                                },
                                {
                                    "SZALLAS_NEV": "Kentaur Hotel",
                                    "METTOL": "2016-05-14",
                                    "5 legutolsó foglalás átlatlétszáma ": "2"
                                },
                                {
                                    "SZALLAS_NEV": "Kentaur Hotel",
                                    "METTOL": "2016-05-17",
                                    "5 legutolsó foglalás átlatlétszáma ": "2"
                                },
                                {
                                    "SZALLAS_NEV": "Kentaur Hotel",
                                    "METTOL": "2016-05-24",
                                    "5 legutolsó foglalás átlatlétszáma ": "2"
                                },
                                {
                                    "SZALLAS_NEV": "Kentaur Hotel",
                                    "METTOL": "2016-05-27",
                                    "5 legutolsó foglalás átlatlétszáma ": "2"
                                },
                                {
                                    "SZALLAS_NEV": "Kentaur Hotel",
                                    "METTOL": "2016-05-27",
                                    "5 legutolsó foglalás átlatlétszáma ": "2"
                                },
                                {
                                    "SZALLAS_NEV": "Kentaur Hotel",
                                    "METTOL": "2016-05-28",
                                    "5 legutolsó foglalás átlatlétszáma ": "2"
                                },
                                {
                                    "SZALLAS_NEV": "Kentaur Hotel",
                                    "METTOL": "2016-05-28",
                                    "5 legutolsó foglalás átlatlétszáma ": "2"
                                },
                                {
                                    "SZALLAS_NEV": "Kentaur Hotel",
                                    "METTOL": "2016-05-29",
                                    "5 legutolsó foglalás átlatlétszáma ": "2"
                                },
                                {
                                    "SZALLAS_NEV": "Kentaur Hotel",
                                    "METTOL": "2016-05-30",
                                    "5 legutolsó foglalás átlatlétszáma ": "2"
                                },
                                {
                                    "SZALLAS_NEV": "Kentaur Hotel",
                                    "METTOL": "2016-05-30",
                                    "5 legutolsó foglalás átlatlétszáma ": "2"
                                },
                                {
                                    "SZALLAS_NEV": "Kentaur Hotel",
                                    "METTOL": "2016-05-30",
                                    "5 legutolsó foglalás átlatlétszáma ": "2"
                                },
                                {
                                    "SZALLAS_NEV": "Kentaur Hotel",
                                    "METTOL": "2016-05-30",
                                    "5 legutolsó foglalás átlatlétszáma ": "2"
                                },
                                {
                                    "SZALLAS_NEV": "Kentaur Hotel",
                                    "METTOL": "2016-05-30",
                                    "5 legutolsó foglalás átlatlétszáma ": "2"
                                },
                                {
                                    "SZALLAS_NEV": "Kentaur Hotel",
                                    "METTOL": "2016-05-31",
                                    "5 legutolsó foglalás átlatlétszáma ": "2"
                                },
                                {
                                    "SZALLAS_NEV": "Kentaur Hotel",
                                    "METTOL": "2016-06-01",
                                    "5 legutolsó foglalás átlatlétszáma ": "2"
                                },
                                {
                                    "SZALLAS_NEV": "Kentaur Hotel",
                                    "METTOL": "2016-06-02",
                                    "5 legutolsó foglalás átlatlétszáma ": "2"
                                },
                                {
                                    "SZALLAS_NEV": "Kentaur Hotel",
                                    "METTOL": "2016-06-02",
                                    "5 legutolsó foglalás átlatlétszáma ": "2"
                                },
                                {
                                    "SZALLAS_NEV": "Kentaur Hotel",
                                    "METTOL": "2016-06-04",
                                    "5 legutolsó foglalás átlatlétszáma ": "2"
                                },
                                {
                                    "SZALLAS_NEV": "Kentaur Hotel",
                                    "METTOL": "2016-06-07",
                                    "5 legutolsó foglalás átlatlétszáma ": "2"
                                },
                                {
                                    "SZALLAS_NEV": "Kentaur Hotel",
                                    "METTOL": "2016-06-08",
                                    "5 legutolsó foglalás átlatlétszáma ": "1"
                                },
                                {
                                    "SZALLAS_NEV": "Kentaur Hotel",
                                    "METTOL": "2016-06-08",
                                    "5 legutolsó foglalás átlatlétszáma ": "1"
                                },
                                {
                                    "SZALLAS_NEV": "Kentaur Hotel",
                                    "METTOL": "2016-06-09",
                                    "5 legutolsó foglalás átlatlétszáma ": "1"
                                },
                                {
                                    "SZALLAS_NEV": "Kentaur Hotel",
                                    "METTOL": "2016-06-09",
                                    "5 legutolsó foglalás átlatlétszáma ": "1"
                                },
                                {
                                    "SZALLAS_NEV": "Kentaur Hotel",
                                    "METTOL": "2016-06-10",
                                    "5 legutolsó foglalás átlatlétszáma ": "2"
                                },
                                {
                                    "SZALLAS_NEV": "Kentaur Hotel",
                                    "METTOL": "2016-06-13",
                                    "5 legutolsó foglalás átlatlétszáma ": "2"
                                },
                                {
                                    "SZALLAS_NEV": "Kentaur Hotel",
                                    "METTOL": "2016-06-16",
                                    "5 legutolsó foglalás átlatlétszáma ": "2"
                                },
                                {
                                    "SZALLAS_NEV": "Kentaur Hotel",
                                    "METTOL": "2016-06-16",
                                    "5 legutolsó foglalás átlatlétszáma ": "2"
                                },
                                {
                                    "SZALLAS_NEV": "Kentaur Hotel",
                                    "METTOL": "2016-06-22",
                                    "5 legutolsó foglalás átlatlétszáma ": "2"
                                },
                                {
                                    "SZALLAS_NEV": "Kentaur Hotel",
                                    "METTOL": "2016-06-23",
                                    "5 legutolsó foglalás átlatlétszáma ": "2"
                                },
                                {
                                    "SZALLAS_NEV": "Kentaur Hotel",
                                    "METTOL": "2016-06-23",
                                    "5 legutolsó foglalás átlatlétszáma ": "2"
                                },
                                {
                                    "SZALLAS_NEV": "Kentaur Hotel",
                                    "METTOL": "2016-06-26",
                                    "5 legutolsó foglalás átlatlétszáma ": "2"
                                },
                                {
                                    "SZALLAS_NEV": "Kentaur Hotel",
                                    "METTOL": "2016-06-30",
                                    "5 legutolsó foglalás átlatlétszáma ": "2"
                                },
                                {
                                    "SZALLAS_NEV": "Kentaur Hotel",
                                    "METTOL": "2016-07-01",
                                    "5 legutolsó foglalás átlatlétszáma ": "2"
                                },
                                {
                                    "SZALLAS_NEV": "Kentaur Hotel",
                                    "METTOL": "2016-07-01",
                                    "5 legutolsó foglalás átlatlétszáma ": "2"
                                },
                                {
                                    "SZALLAS_NEV": "Kentaur Hotel",
                                    "METTOL": "2016-07-03",
                                    "5 legutolsó foglalás átlatlétszáma ": "2"
                                },
                                {
                                    "SZALLAS_NEV": "Kentaur Hotel",
                                    "METTOL": "2016-07-04",
                                    "5 legutolsó foglalás átlatlétszáma ": "1"
                                },
                                {
                                    "SZALLAS_NEV": "Kentaur Hotel",
                                    "METTOL": "2016-07-06",
                                    "5 legutolsó foglalás átlatlétszáma ": "2"
                                },
                                {
                                    "SZALLAS_NEV": "Kentaur Hotel",
                                    "METTOL": "2016-07-12",
                                    "5 legutolsó foglalás átlatlétszáma ": "1"
                                },
                                {
                                    "SZALLAS_NEV": "Kentaur Hotel",
                                    "METTOL": "2016-07-13",
                                    "5 legutolsó foglalás átlatlétszáma ": "2"
                                },
                                {
                                    "SZALLAS_NEV": "Kentaur Hotel",
                                    "METTOL": "2016-07-14",
                                    "5 legutolsó foglalás átlatlétszáma ": "2"
                                },
                                {
                                    "SZALLAS_NEV": "Kentaur Hotel",
                                    "METTOL": "2016-07-15",
                                    "5 legutolsó foglalás átlatlétszáma ": "3"
                                },
                                {
                                    "SZALLAS_NEV": "Kentaur Hotel",
                                    "METTOL": "2016-07-16",
                                    "5 legutolsó foglalás átlatlétszáma ": "3"
                                },
                                {
                                    "SZALLAS_NEV": "Kentaur Hotel",
                                    "METTOL": "2016-07-18",
                                    "5 legutolsó foglalás átlatlétszáma ": "3"
                                },
                                {
                                    "SZALLAS_NEV": "Kentaur Hotel",
                                    "METTOL": "2016-07-18",
                                    "5 legutolsó foglalás átlatlétszáma ": "2"
                                },
                                {
                                    "SZALLAS_NEV": "Kentaur Hotel",
                                    "METTOL": "2016-07-20",
                                    "5 legutolsó foglalás átlatlétszáma ": "2"
                                },
                                {
                                    "SZALLAS_NEV": "Kentaur Hotel",
                                    "METTOL": "2016-07-20",
                                    "5 legutolsó foglalás átlatlétszáma ": "2"
                                },
                                {
                                    "SZALLAS_NEV": "Kentaur Hotel",
                                    "METTOL": "2016-07-21",
                                    "5 legutolsó foglalás átlatlétszáma ": "2"
                                },
                                {
                                    "SZALLAS_NEV": "Kentaur Hotel",
                                    "METTOL": "2016-07-21",
                                    "5 legutolsó foglalás átlatlétszáma ": "2"
                                },
                                {
                                    "SZALLAS_NEV": "Kentaur Hotel",
                                    "METTOL": "2016-07-22",
                                    "5 legutolsó foglalás átlatlétszáma ": "2"
                                },
                                {
                                    "SZALLAS_NEV": "Kentaur Hotel",
                                    "METTOL": "2016-07-24",
                                    "5 legutolsó foglalás átlatlétszáma ": "2"
                                },
                                {
                                    "SZALLAS_NEV": "Kentaur Hotel",
                                    "METTOL": "2016-07-25",
                                    "5 legutolsó foglalás átlatlétszáma ": "2"
                                },
                                {
                                    "SZALLAS_NEV": "Kentaur Hotel",
                                    "METTOL": "2016-07-27",
                                    "5 legutolsó foglalás átlatlétszáma ": "2"
                                },
                                {
                                    "SZALLAS_NEV": "Kentaur Hotel",
                                    "METTOL": "2016-07-28",
                                    "5 legutolsó foglalás átlatlétszáma ": "2"
                                },
                                {
                                    "SZALLAS_NEV": "Kentaur Hotel",
                                    "METTOL": "2016-07-29",
                                    "5 legutolsó foglalás átlatlétszáma ": "3"
                                },
                                {
                                    "SZALLAS_NEV": "Kentaur Hotel",
                                    "METTOL": "2016-08-05",
                                    "5 legutolsó foglalás átlatlétszáma ": "3"
                                },
                                {
                                    "SZALLAS_NEV": "Kentaur Hotel",
                                    "METTOL": "2016-08-12",
                                    "5 legutolsó foglalás átlatlétszáma ": "3"
                                },
                                {
                                    "SZALLAS_NEV": "Kentaur Hotel",
                                    "METTOL": "2016-08-12",
                                    "5 legutolsó foglalás átlatlétszáma ": "2"
                                },
                                {
                                    "SZALLAS_NEV": "Kentaur Hotel",
                                    "METTOL": "2016-08-16",
                                    "5 legutolsó foglalás átlatlétszáma ": "2"
                                },
                                {
                                    "SZALLAS_NEV": "Kentaur Hotel",
                                    "METTOL": "2016-08-18",
                                    "5 legutolsó foglalás átlatlétszáma ": "2"
                                },
                                {
                                    "SZALLAS_NEV": "Kentaur Hotel",
                                    "METTOL": "2016-08-18",
                                    "5 legutolsó foglalás átlatlétszáma ": "2"
                                },
                                {
                                    "SZALLAS_NEV": "Kentaur Hotel",
                                    "METTOL": "2016-08-23",
                                    "5 legutolsó foglalás átlatlétszáma ": "2"
                                },
                                {
                                    "SZALLAS_NEV": "Kentaur Hotel",
                                    "METTOL": "2016-08-24",
                                    "5 legutolsó foglalás átlatlétszáma ": "2"
                                },
                                {
                                    "SZALLAS_NEV": "Kentaur Hotel",
                                    "METTOL": "2016-08-24",
                                    "5 legutolsó foglalás átlatlétszáma ": "2"
                                },
                                {
                                    "SZALLAS_NEV": "Kentaur Hotel",
                                    "METTOL": "2016-08-24",
                                    "5 legutolsó foglalás átlatlétszáma ": "2"
                                },
                                {
                                    "SZALLAS_NEV": "Kentaur Hotel",
                                    "METTOL": "2016-08-28",
                                    "5 legutolsó foglalás átlatlétszáma ": "2"
                                },
                                {
                                    "SZALLAS_NEV": "Kentaur Hotel",
                                    "METTOL": "2016-08-29",
                                    "5 legutolsó foglalás átlatlétszáma ": "2"
                                },
                                {
                                    "SZALLAS_NEV": "Kentaur Hotel",
                                    "METTOL": "2016-09-02",
                                    "5 legutolsó foglalás átlatlétszáma ": "2"
                                },
                                {
                                    "SZALLAS_NEV": "Kentaur Hotel",
                                    "METTOL": "2016-09-03",
                                    "5 legutolsó foglalás átlatlétszáma ": "2"
                                },
                                {
                                    "SZALLAS_NEV": "Kentaur Hotel",
                                    "METTOL": "2016-09-15",
                                    "5 legutolsó foglalás átlatlétszáma ": "2"
                                },
                                {
                                    "SZALLAS_NEV": "Kentaur Hotel",
                                    "METTOL": "2016-09-15",
                                    "5 legutolsó foglalás átlatlétszáma ": "2"
                                },
                                {
                                    "SZALLAS_NEV": "Kentaur Hotel",
                                    "METTOL": "2016-09-18",
                                    "5 legutolsó foglalás átlatlétszáma ": "2"
                                },
                                {
                                    "SZALLAS_NEV": "Kentaur Hotel",
                                    "METTOL": "2016-09-20",
                                    "5 legutolsó foglalás átlatlétszáma ": "2"
                                },
                                {
                                    "SZALLAS_NEV": "Kentaur Hotel",
                                    "METTOL": "2016-09-25",
                                    "5 legutolsó foglalás átlatlétszáma ": "2"
                                },
                                {
                                    "SZALLAS_NEV": "Kentaur Hotel",
                                    "METTOL": "2016-09-26",
                                    "5 legutolsó foglalás átlatlétszáma ": "2"
                                },
                                {
                                    "SZALLAS_NEV": "Kentaur Hotel",
                                    "METTOL": "2016-09-28",
                                    "5 legutolsó foglalás átlatlétszáma ": "2"
                                },
                                {
                                    "SZALLAS_NEV": "Kentaur Hotel",
                                    "METTOL": "2016-09-28",
                                    "5 legutolsó foglalás átlatlétszáma ": "2"
                                },
                                {
                                    "SZALLAS_NEV": "Kentaur Hotel",
                                    "METTOL": "2016-09-30",
                                    "5 legutolsó foglalás átlatlétszáma ": "2"
                                },
                                {
                                    "SZALLAS_NEV": "Kentaur Hotel",
                                    "METTOL": "2016-09-30",
                                    "5 legutolsó foglalás átlatlétszáma ": "2"
                                },
                                {
                                    "SZALLAS_NEV": "Kentaur Hotel",
                                    "METTOL": "2016-09-30",
                                    "5 legutolsó foglalás átlatlétszáma ": "2"
                                },
                                {
                                    "SZALLAS_NEV": "Kentaur Hotel",
                                    "METTOL": "2016-10-01",
                                    "5 legutolsó foglalás átlatlétszáma ": "2"
                                },
                                {
                                    "SZALLAS_NEV": "Kentaur Hotel",
                                    "METTOL": "2016-10-01",
                                    "5 legutolsó foglalás átlatlétszáma ": "2"
                                },
                                {
                                    "SZALLAS_NEV": "Kentaur Hotel",
                                    "METTOL": "2016-10-04",
                                    "5 legutolsó foglalás átlatlétszáma ": "2"
                                },
                                {
                                    "SZALLAS_NEV": "Kentaur Hotel",
                                    "METTOL": "2016-10-05",
                                    "5 legutolsó foglalás átlatlétszáma ": "2"
                                },
                                {
                                    "SZALLAS_NEV": "Kentaur Hotel",
                                    "METTOL": "2016-10-07",
                                    "5 legutolsó foglalás átlatlétszáma ": "2"
                                },
                                {
                                    "SZALLAS_NEV": "Kentaur Hotel",
                                    "METTOL": "2016-10-11",
                                    "5 legutolsó foglalás átlatlétszáma ": "2"
                                },
                                {
                                    "SZALLAS_NEV": "Kentaur Hotel",
                                    "METTOL": "2016-10-16",
                                    "5 legutolsó foglalás átlatlétszáma ": "2"
                                },
                                {
                                    "SZALLAS_NEV": "Kentaur Hotel",
                                    "METTOL": "2016-10-17",
                                    "5 legutolsó foglalás átlatlétszáma ": "2"
                                },
                                {
                                    "SZALLAS_NEV": "Kentaur Hotel",
                                    "METTOL": "2016-10-19",
                                    "5 legutolsó foglalás átlatlétszáma ": "2"
                                },
                                {
                                    "SZALLAS_NEV": "Kentaur Hotel",
                                    "METTOL": "2016-10-20",
                                    "5 legutolsó foglalás átlatlétszáma ": "2"
                                },
                                {
                                    "SZALLAS_NEV": "Kentaur Hotel",
                                    "METTOL": "2016-10-22",
                                    "5 legutolsó foglalás átlatlétszáma ": "2"
                                },
                                {
                                    "SZALLAS_NEV": "Kentaur Hotel",
                                    "METTOL": "2016-10-23",
                                    "5 legutolsó foglalás átlatlétszáma ": "2"
                                },
                                {
                                    "SZALLAS_NEV": "Kentaur Hotel",
                                    "METTOL": "2016-10-25",
                                    "5 legutolsó foglalás átlatlétszáma ": "2"
                                },
                                {
                                    "SZALLAS_NEV": "Kentaur Hotel",
                                    "METTOL": "2016-10-26",
                                    "5 legutolsó foglalás átlatlétszáma ": "2"
                                },
                                {
                                    "SZALLAS_NEV": "Kentaur Hotel",
                                    "METTOL": "2016-10-28",
                                    "5 legutolsó foglalás átlatlétszáma ": "2"
                                },
                                {
                                    "SZALLAS_NEV": "Kentaur Hotel",
                                    "METTOL": "2016-10-29",
                                    "5 legutolsó foglalás átlatlétszáma ": "2"
                                },
                                {
                                    "SZALLAS_NEV": "Kentaur Hotel",
                                    "METTOL": "2016-10-30",
                                    "5 legutolsó foglalás átlatlétszáma ": "2"
                                },
                                {
                                    "SZALLAS_NEV": "Kentaur Hotel",
                                    "METTOL": "2016-10-30",
                                    "5 legutolsó foglalás átlatlétszáma ": "2"
                                },
                                {
                                    "SZALLAS_NEV": "Kentaur Hotel",
                                    "METTOL": "2016-10-30",
                                    "5 legutolsó foglalás átlatlétszáma ": "1"
                                },
                                {
                                    "SZALLAS_NEV": "Kentaur Hotel",
                                    "METTOL": "2016-10-30",
                                    "5 legutolsó foglalás átlatlétszáma ": "2"
                                },
                                {
                                    "SZALLAS_NEV": "Kentaur Hotel",
                                    "METTOL": "2016-10-31",
                                    "5 legutolsó foglalás átlatlétszáma ": "2"
                                },
                                {
                                    "SZALLAS_NEV": "Kentaur Hotel",
                                    "METTOL": "2016-11-01",
                                    "5 legutolsó foglalás átlatlétszáma ": "2"
                                },
                                {
                                    "SZALLAS_NEV": "Kentaur Hotel",
                                    "METTOL": "2016-11-03",
                                    "5 legutolsó foglalás átlatlétszáma ": "2"
                                },
                                {
                                    "SZALLAS_NEV": "Kentaur Hotel",
                                    "METTOL": "2016-11-05",
                                    "5 legutolsó foglalás átlatlétszáma ": "2"
                                },
                                {
                                    "SZALLAS_NEV": "Kentaur Hotel",
                                    "METTOL": "2016-11-06",
                                    "5 legutolsó foglalás átlatlétszáma ": "3"
                                },
                                {
                                    "SZALLAS_NEV": "Kentaur Hotel",
                                    "METTOL": "2016-11-07",
                                    "5 legutolsó foglalás átlatlétszáma ": "2"
                                },
                                {
                                    "SZALLAS_NEV": "Kentaur Hotel",
                                    "METTOL": "2016-11-07",
                                    "5 legutolsó foglalás átlatlétszáma ": "2"
                                },
                                {
                                    "SZALLAS_NEV": "Kentaur Hotel",
                                    "METTOL": "2016-11-08",
                                    "5 legutolsó foglalás átlatlétszáma ": "2"
                                },
                                {
                                    "SZALLAS_NEV": "Kentaur Hotel",
                                    "METTOL": "2016-11-09",
                                    "5 legutolsó foglalás átlatlétszáma ": "2"
                                },
                                {
                                    "SZALLAS_NEV": "Kentaur Hotel",
                                    "METTOL": "2016-11-10",
                                    "5 legutolsó foglalás átlatlétszáma ": "2"
                                },
                                {
                                    "SZALLAS_NEV": "Kentaur Hotel",
                                    "METTOL": "2016-11-12",
                                    "5 legutolsó foglalás átlatlétszáma ": "2"
                                },
                                {
                                    "SZALLAS_NEV": "Kentaur Hotel",
                                    "METTOL": "2016-11-14",
                                    "5 legutolsó foglalás átlatlétszáma ": "2"
                                },
                                {
                                    "SZALLAS_NEV": "Kentaur Hotel",
                                    "METTOL": "2016-11-15",
                                    "5 legutolsó foglalás átlatlétszáma ": "2"
                                },
                                {
                                    "SZALLAS_NEV": "Kentaur Hotel",
                                    "METTOL": "2016-11-16",
                                    "5 legutolsó foglalás átlatlétszáma ": "2"
                                },
                                {
                                    "SZALLAS_NEV": "Kentaur Hotel",
                                    "METTOL": "2016-11-17",
                                    "5 legutolsó foglalás átlatlétszáma ": "2"
                                },
                                {
                                    "SZALLAS_NEV": "Kentaur Hotel",
                                    "METTOL": "2016-11-19",
                                    "5 legutolsó foglalás átlatlétszáma ": "2"
                                },
                                {
                                    "SZALLAS_NEV": "Kentaur Hotel",
                                    "METTOL": "2016-11-23",
                                    "5 legutolsó foglalás átlatlétszáma ": "2"
                                },
                                {
                                    "SZALLAS_NEV": "Kentaur Hotel",
                                    "METTOL": "2016-11-25",
                                    "5 legutolsó foglalás átlatlétszáma ": "2"
                                },
                                {
                                    "SZALLAS_NEV": "Kentaur Hotel",
                                    "METTOL": "2016-11-26",
                                    "5 legutolsó foglalás átlatlétszáma ": "2"
                                },
                                {
                                    "SZALLAS_NEV": "Kentaur Hotel",
                                    "METTOL": "2016-11-27",
                                    "5 legutolsó foglalás átlatlétszáma ": "2"
                                },
                                {
                                    "SZALLAS_NEV": "Kentaur Hotel",
                                    "METTOL": "2016-11-27",
                                    "5 legutolsó foglalás átlatlétszáma ": "2"
                                },
                                {
                                    "SZALLAS_NEV": "Kentaur Hotel",
                                    "METTOL": "2016-11-28",
                                    "5 legutolsó foglalás átlatlétszáma ": "3"
                                },
                                {
                                    "SZALLAS_NEV": "Kentaur Hotel",
                                    "METTOL": "2016-11-28",
                                    "5 legutolsó foglalás átlatlétszáma ": "3"
                                },
                                {
                                    "SZALLAS_NEV": "Kentaur Hotel",
                                    "METTOL": "2016-11-29",
                                    "5 legutolsó foglalás átlatlétszáma ": "3"
                                },
                                {
                                    "SZALLAS_NEV": "Kentaur Hotel",
                                    "METTOL": "2016-11-30",
                                    "5 legutolsó foglalás átlatlétszáma ": "2"
                                },
                                {
                                    "SZALLAS_NEV": "Kentaur Hotel",
                                    "METTOL": "2016-12-04",
                                    "5 legutolsó foglalás átlatlétszáma ": "2"
                                },
                                {
                                    "SZALLAS_NEV": "Kentaur Hotel",
                                    "METTOL": "2016-12-05",
                                    "5 legutolsó foglalás átlatlétszáma ": "2"
                                },
                                {
                                    "SZALLAS_NEV": "Kentaur Hotel",
                                    "METTOL": "2016-12-06",
                                    "5 legutolsó foglalás átlatlétszáma ": "2"
                                },
                                {
                                    "SZALLAS_NEV": "Kentaur Hotel",
                                    "METTOL": "2016-12-15",
                                    "5 legutolsó foglalás átlatlétszáma ": "2"
                                },
                                {
                                    "SZALLAS_NEV": "Kentaur Hotel",
                                    "METTOL": "2016-12-16",
                                    "5 legutolsó foglalás átlatlétszáma ": "2"
                                },
                                {
                                    "SZALLAS_NEV": "Kentaur Hotel",
                                    "METTOL": "2016-12-17",
                                    "5 legutolsó foglalás átlatlétszáma ": "2"
                                },
                                {
                                    "SZALLAS_NEV": "Kentaur Hotel",
                                    "METTOL": "2016-12-17",
                                    "5 legutolsó foglalás átlatlétszáma ": "1"
                                },
                                {
                                    "SZALLAS_NEV": "Kentaur Hotel",
                                    "METTOL": "2016-12-19",
                                    "5 legutolsó foglalás átlatlétszáma ": "1"
                                },
                                {
                                    "SZALLAS_NEV": "Kentaur Hotel",
                                    "METTOL": "2016-12-22",
                                    "5 legutolsó foglalás átlatlétszáma ": "1"
                                },
                                {
                                    "SZALLAS_NEV": "Kentaur Hotel",
                                    "METTOL": "2016-12-22",
                                    "5 legutolsó foglalás átlatlétszáma ": "1"
                                },
                                {
                                    "SZALLAS_NEV": "Kentaur Hotel",
                                    "METTOL": "2016-12-24",
                                    "5 legutolsó foglalás átlatlétszáma ": "1"
                                },
                                {
                                    "SZALLAS_NEV": "Kentaur Hotel",
                                    "METTOL": "2016-12-25",
                                    "5 legutolsó foglalás átlatlétszáma ": "2"
                                },
                                {
                                    "SZALLAS_NEV": "Kentaur Hotel",
                                    "METTOL": "2016-12-25",
                                    "5 legutolsó foglalás átlatlétszáma ": "1"
                                },
                                {
                                    "SZALLAS_NEV": "Kentaur Hotel",
                                    "METTOL": "2016-12-29",
                                    "5 legutolsó foglalás átlatlétszáma ": "1"
                                },
                                {
                                    "SZALLAS_NEV": "Kentaur Hotel",
                                    "METTOL": "2017-01-01",
                                    "5 legutolsó foglalás átlatlétszáma ": "2"
                                },
                                {
                                    "SZALLAS_NEV": "Kentaur Hotel",
                                    "METTOL": "2017-01-09",
                                    "5 legutolsó foglalás átlatlétszáma ": "2"
                                },
                                {
                                    "SZALLAS_NEV": "Kentaur Hotel",
                                    "METTOL": "2017-01-10",
                                    "5 legutolsó foglalás átlatlétszáma ": "2"
                                },
                                {
                                    "SZALLAS_NEV": "Kentaur Hotel",
                                    "METTOL": "2017-01-15",
                                    "5 legutolsó foglalás átlatlétszáma ": "2"
                                },
                                {
                                    "SZALLAS_NEV": "Kentaur Hotel",
                                    "METTOL": "2017-01-16",
                                    "5 legutolsó foglalás átlatlétszáma ": "2"
                                },
                                {
                                    "SZALLAS_NEV": "Kentaur Hotel",
                                    "METTOL": "2017-01-16",
                                    "5 legutolsó foglalás átlatlétszáma ": "2"
                                },
                                {
                                    "SZALLAS_NEV": "Kentaur Hotel",
                                    "METTOL": "2017-01-16",
                                    "5 legutolsó foglalás átlatlétszáma ": "2"
                                },
                                {
                                    "SZALLAS_NEV": "Kentaur Hotel",
                                    "METTOL": "2017-01-17",
                                    "5 legutolsó foglalás átlatlétszáma ": "2"
                                },
                                {
                                    "SZALLAS_NEV": "Kentaur Hotel",
                                    "METTOL": "2017-01-19",
                                    "5 legutolsó foglalás átlatlétszáma ": "2"
                                },
                                {
                                    "SZALLAS_NEV": "Kentaur Hotel",
                                    "METTOL": "2017-01-19",
                                    "5 legutolsó foglalás átlatlétszáma ": "1"
                                },
                                {
                                    "SZALLAS_NEV": "Kentaur Hotel",
                                    "METTOL": "2017-01-22",
                                    "5 legutolsó foglalás átlatlétszáma ": "2"
                                },
                                {
                                    "SZALLAS_NEV": "Kentaur Hotel",
                                    "METTOL": "2017-01-22",
                                    "5 legutolsó foglalás átlatlétszáma ": "2"
                                },
                                {
                                    "SZALLAS_NEV": "Kentaur Hotel",
                                    "METTOL": "2017-01-22",
                                    "5 legutolsó foglalás átlatlétszáma ": "2"
                                },
                                {
                                    "SZALLAS_NEV": "Kentaur Hotel",
                                    "METTOL": "2017-01-22",
                                    "5 legutolsó foglalás átlatlétszáma ": "2"
                                },
                                {
                                    "SZALLAS_NEV": "Kentaur Hotel",
                                    "METTOL": "2017-01-28",
                                    "5 legutolsó foglalás átlatlétszáma ": "1"
                                },
                                {
                                    "SZALLAS_NEV": "Kentaur Hotel",
                                    "METTOL": "2017-02-04",
                                    "5 legutolsó foglalás átlatlétszáma ": "1"
                                },
                                {
                                    "SZALLAS_NEV": "Kentaur Hotel",
                                    "METTOL": "2017-02-06",
                                    "5 legutolsó foglalás átlatlétszáma ": "1"
                                },
                                {
                                    "SZALLAS_NEV": "Kentaur Hotel",
                                    "METTOL": "2017-02-06",
                                    "5 legutolsó foglalás átlatlétszáma ": "1"
                                },
                                {
                                    "SZALLAS_NEV": "Kentaur Hotel",
                                    "METTOL": "2017-02-08",
                                    "5 legutolsó foglalás átlatlétszáma ": "1"
                                },
                                {
                                    "SZALLAS_NEV": "Kentaur Hotel",
                                    "METTOL": "2017-02-12",
                                    "5 legutolsó foglalás átlatlétszáma ": "2"
                                },
                                {
                                    "SZALLAS_NEV": "Kentaur Hotel",
                                    "METTOL": "2017-02-14",
                                    "5 legutolsó foglalás átlatlétszáma ": "2"
                                },
                                {
                                    "SZALLAS_NEV": "Kentaur Hotel",
                                    "METTOL": "2017-02-18",
                                    "5 legutolsó foglalás átlatlétszáma ": "2"
                                },
                                {
                                    "SZALLAS_NEV": "Kentaur Hotel",
                                    "METTOL": "2017-02-21",
                                    "5 legutolsó foglalás átlatlétszáma ": "2"
                                },
                                {
                                    "SZALLAS_NEV": "Kentaur Hotel",
                                    "METTOL": "2017-02-23",
                                    "5 legutolsó foglalás átlatlétszáma ": "3"
                                },
                                {
                                    "SZALLAS_NEV": "Kentaur Hotel",
                                    "METTOL": "2017-02-26",
                                    "5 legutolsó foglalás átlatlétszáma ": "2"
                                },
                                {
                                    "SZALLAS_NEV": "Kentaur Hotel",
                                    "METTOL": "2017-02-27",
                                    "5 legutolsó foglalás átlatlétszáma ": "2"
                                },
                                {
                                    "SZALLAS_NEV": "Kentaur Hotel",
                                    "METTOL": "2017-03-01",
                                    "5 legutolsó foglalás átlatlétszáma ": "2"
                                },
                                {
                                    "SZALLAS_NEV": "Kentaur Hotel",
                                    "METTOL": "2017-03-02",
                                    "5 legutolsó foglalás átlatlétszáma ": "2"
                                },
                                {
                                    "SZALLAS_NEV": "Kentaur Hotel",
                                    "METTOL": "2017-03-03",
                                    "5 legutolsó foglalás átlatlétszáma ": "2"
                                },
                                {
                                    "SZALLAS_NEV": "Lagúna Hotel",
                                    "METTOL": "2016-04-08",
                                    "5 legutolsó foglalás átlatlétszáma ": "NULL"
                                },
                                {
                                    "SZALLAS_NEV": "Lagúna Hotel",
                                    "METTOL": "2016-04-10",
                                    "5 legutolsó foglalás átlatlétszáma ": "2"
                                },
                                {
                                    "SZALLAS_NEV": "Lagúna Hotel",
                                    "METTOL": "2016-04-12",
                                    "5 legutolsó foglalás átlatlétszáma ": "3"
                                },
                                {
                                    "SZALLAS_NEV": "Lagúna Hotel",
                                    "METTOL": "2016-04-14",
                                    "5 legutolsó foglalás átlatlétszáma ": "3"
                                },
                                {
                                    "SZALLAS_NEV": "Lagúna Hotel",
                                    "METTOL": "2016-04-15",
                                    "5 legutolsó foglalás átlatlétszáma ": "2"
                                },
                                {
                                    "SZALLAS_NEV": "Lagúna Hotel",
                                    "METTOL": "2016-04-16",
                                    "5 legutolsó foglalás átlatlétszáma ": "2"
                                },
                                {
                                    "SZALLAS_NEV": "Lagúna Hotel",
                                    "METTOL": "2016-04-17",
                                    "5 legutolsó foglalás átlatlétszáma ": "2"
                                },
                                {
                                    "SZALLAS_NEV": "Lagúna Hotel",
                                    "METTOL": "2016-04-19",
                                    "5 legutolsó foglalás átlatlétszáma ": "2"
                                },
                                {
                                    "SZALLAS_NEV": "Lagúna Hotel",
                                    "METTOL": "2016-04-20",
                                    "5 legutolsó foglalás átlatlétszáma ": "2"
                                },
                                {
                                    "SZALLAS_NEV": "Lagúna Hotel",
                                    "METTOL": "2016-04-22",
                                    "5 legutolsó foglalás átlatlétszáma ": "2"
                                },
                                {
                                    "SZALLAS_NEV": "Lagúna Hotel",
                                    "METTOL": "2016-05-13",
                                    "5 legutolsó foglalás átlatlétszáma ": "2"
                                },
                                {
                                    "SZALLAS_NEV": "Lagúna Hotel",
                                    "METTOL": "2016-05-16",
                                    "5 legutolsó foglalás átlatlétszáma ": "2"
                                },
                                {
                                    "SZALLAS_NEV": "Lagúna Hotel",
                                    "METTOL": "2016-05-17",
                                    "5 legutolsó foglalás átlatlétszáma ": "2"
                                },
                                {
                                    "SZALLAS_NEV": "Lagúna Hotel",
                                    "METTOL": "2016-05-18",
                                    "5 legutolsó foglalás átlatlétszáma ": "2"
                                },
                                {
                                    "SZALLAS_NEV": "Lagúna Hotel",
                                    "METTOL": "2016-05-20",
                                    "5 legutolsó foglalás átlatlétszáma ": "1"
                                },
                                {
                                    "SZALLAS_NEV": "Lagúna Hotel",
                                    "METTOL": "2016-05-21",
                                    "5 legutolsó foglalás átlatlétszáma ": "1"
                                },
                                {
                                    "SZALLAS_NEV": "Lagúna Hotel",
                                    "METTOL": "2016-06-02",
                                    "5 legutolsó foglalás átlatlétszáma ": "1"
                                },
                                {
                                    "SZALLAS_NEV": "Lagúna Hotel",
                                    "METTOL": "2016-06-03",
                                    "5 legutolsó foglalás átlatlétszáma ": "1"
                                },
                                {
                                    "SZALLAS_NEV": "Lagúna Hotel",
                                    "METTOL": "2016-06-05",
                                    "5 legutolsó foglalás átlatlétszáma ": "1"
                                },
                                {
                                    "SZALLAS_NEV": "Lagúna Hotel",
                                    "METTOL": "2016-06-05",
                                    "5 legutolsó foglalás átlatlétszáma ": "1"
                                },
                                {
                                    "SZALLAS_NEV": "Lagúna Hotel",
                                    "METTOL": "2016-06-06",
                                    "5 legutolsó foglalás átlatlétszáma ": "1"
                                },
                                {
                                    "SZALLAS_NEV": "Lagúna Hotel",
                                    "METTOL": "2016-06-13",
                                    "5 legutolsó foglalás átlatlétszáma ": "2"
                                },
                                {
                                    "SZALLAS_NEV": "Lagúna Hotel",
                                    "METTOL": "2016-06-16",
                                    "5 legutolsó foglalás átlatlétszáma ": "2"
                                },
                                {
                                    "SZALLAS_NEV": "Lagúna Hotel",
                                    "METTOL": "2016-06-17",
                                    "5 legutolsó foglalás átlatlétszáma ": "2"
                                },
                                {
                                    "SZALLAS_NEV": "Lagúna Hotel",
                                    "METTOL": "2016-06-23",
                                    "5 legutolsó foglalás átlatlétszáma ": "2"
                                },
                                {
                                    "SZALLAS_NEV": "Lagúna Hotel",
                                    "METTOL": "2016-07-06",
                                    "5 legutolsó foglalás átlatlétszáma ": "2"
                                },
                                {
                                    "SZALLAS_NEV": "Lagúna Hotel",
                                    "METTOL": "2016-07-12",
                                    "5 legutolsó foglalás átlatlétszáma ": "2"
                                },
                                {
                                    "SZALLAS_NEV": "Lagúna Hotel",
                                    "METTOL": "2016-07-13",
                                    "5 legutolsó foglalás átlatlétszáma ": "2"
                                },
                                {
                                    "SZALLAS_NEV": "Lagúna Hotel",
                                    "METTOL": "2016-07-17",
                                    "5 legutolsó foglalás átlatlétszáma ": "2"
                                },
                                {
                                    "SZALLAS_NEV": "Lagúna Hotel",
                                    "METTOL": "2016-07-20",
                                    "5 legutolsó foglalás átlatlétszáma ": "1"
                                },
                                {
                                    "SZALLAS_NEV": "Lagúna Hotel",
                                    "METTOL": "2016-07-22",
                                    "5 legutolsó foglalás átlatlétszáma ": "2"
                                },
                                {
                                    "SZALLAS_NEV": "Lagúna Hotel",
                                    "METTOL": "2016-07-27",
                                    "5 legutolsó foglalás átlatlétszáma ": "2"
                                },
                                {
                                    "SZALLAS_NEV": "Lagúna Hotel",
                                    "METTOL": "2016-07-28",
                                    "5 legutolsó foglalás átlatlétszáma ": "2"
                                },
                                {
                                    "SZALLAS_NEV": "Lagúna Hotel",
                                    "METTOL": "2016-07-28",
                                    "5 legutolsó foglalás átlatlétszáma ": "2"
                                },
                                {
                                    "SZALLAS_NEV": "Lagúna Hotel",
                                    "METTOL": "2016-08-01",
                                    "5 legutolsó foglalás átlatlétszáma ": "2"
                                },
                                {
                                    "SZALLAS_NEV": "Lagúna Hotel",
                                    "METTOL": "2016-08-03",
                                    "5 legutolsó foglalás átlatlétszáma ": "2"
                                },
                                {
                                    "SZALLAS_NEV": "Lagúna Hotel",
                                    "METTOL": "2016-08-06",
                                    "5 legutolsó foglalás átlatlétszáma ": "1"
                                },
                                {
                                    "SZALLAS_NEV": "Lagúna Hotel",
                                    "METTOL": "2016-08-09",
                                    "5 legutolsó foglalás átlatlétszáma ": "1"
                                },
                                {
                                    "SZALLAS_NEV": "Lagúna Hotel",
                                    "METTOL": "2016-08-12",
                                    "5 legutolsó foglalás átlatlétszáma ": "1"
                                },
                                {
                                    "SZALLAS_NEV": "Lagúna Hotel",
                                    "METTOL": "2016-08-12",
                                    "5 legutolsó foglalás átlatlétszáma ": "2"
                                },
                                {
                                    "SZALLAS_NEV": "Lagúna Hotel",
                                    "METTOL": "2016-08-16",
                                    "5 legutolsó foglalás átlatlétszáma ": "2"
                                },
                                {
                                    "SZALLAS_NEV": "Lagúna Hotel",
                                    "METTOL": "2016-08-16",
                                    "5 legutolsó foglalás átlatlétszáma ": "2"
                                },
                                {
                                    "SZALLAS_NEV": "Lagúna Hotel",
                                    "METTOL": "2016-08-16",
                                    "5 legutolsó foglalás átlatlétszáma ": "2"
                                },
                                {
                                    "SZALLAS_NEV": "Lagúna Hotel",
                                    "METTOL": "2016-08-17",
                                    "5 legutolsó foglalás átlatlétszáma ": "2"
                                },
                                {
                                    "SZALLAS_NEV": "Lagúna Hotel",
                                    "METTOL": "2016-08-20",
                                    "5 legutolsó foglalás átlatlétszáma ": "2"
                                },
                                {
                                    "SZALLAS_NEV": "Lagúna Hotel",
                                    "METTOL": "2016-08-23",
                                    "5 legutolsó foglalás átlatlétszáma ": "2"
                                },
                                {
                                    "SZALLAS_NEV": "Lagúna Hotel",
                                    "METTOL": "2016-08-23",
                                    "5 legutolsó foglalás átlatlétszáma ": "2"
                                },
                                {
                                    "SZALLAS_NEV": "Lagúna Hotel",
                                    "METTOL": "2016-08-25",
                                    "5 legutolsó foglalás átlatlétszáma ": "2"
                                },
                                {
                                    "SZALLAS_NEV": "Lagúna Hotel",
                                    "METTOL": "2016-08-28",
                                    "5 legutolsó foglalás átlatlétszáma ": "2"
                                },
                                {
                                    "SZALLAS_NEV": "Lagúna Hotel",
                                    "METTOL": "2016-08-29",
                                    "5 legutolsó foglalás átlatlétszáma ": "2"
                                },
                                {
                                    "SZALLAS_NEV": "Lagúna Hotel",
                                    "METTOL": "2016-08-30",
                                    "5 legutolsó foglalás átlatlétszáma ": "2"
                                },
                                {
                                    "SZALLAS_NEV": "Lagúna Hotel",
                                    "METTOL": "2016-09-01",
                                    "5 legutolsó foglalás átlatlétszáma ": "2"
                                },
                                {
                                    "SZALLAS_NEV": "Lagúna Hotel",
                                    "METTOL": "2016-09-05",
                                    "5 legutolsó foglalás átlatlétszáma ": "2"
                                },
                                {
                                    "SZALLAS_NEV": "Lagúna Hotel",
                                    "METTOL": "2016-09-05",
                                    "5 legutolsó foglalás átlatlétszáma ": "2"
                                },
                                {
                                    "SZALLAS_NEV": "Lagúna Hotel",
                                    "METTOL": "2016-09-10",
                                    "5 legutolsó foglalás átlatlétszáma ": "2"
                                },
                                {
                                    "SZALLAS_NEV": "Lagúna Hotel",
                                    "METTOL": "2016-09-12",
                                    "5 legutolsó foglalás átlatlétszáma ": "2"
                                },
                                {
                                    "SZALLAS_NEV": "Lagúna Hotel",
                                    "METTOL": "2016-09-13",
                                    "5 legutolsó foglalás átlatlétszáma ": "2"
                                },
                                {
                                    "SZALLAS_NEV": "Lagúna Hotel",
                                    "METTOL": "2016-09-16",
                                    "5 legutolsó foglalás átlatlétszáma ": "2"
                                },
                                {
                                    "SZALLAS_NEV": "Lagúna Hotel",
                                    "METTOL": "2016-09-17",
                                    "5 legutolsó foglalás átlatlétszáma ": "2"
                                },
                                {
                                    "SZALLAS_NEV": "Lagúna Hotel",
                                    "METTOL": "2016-09-18",
                                    "5 legutolsó foglalás átlatlétszáma ": "2"
                                },
                                {
                                    "SZALLAS_NEV": "Lagúna Hotel",
                                    "METTOL": "2016-09-23",
                                    "5 legutolsó foglalás átlatlétszáma ": "2"
                                },
                                {
                                    "SZALLAS_NEV": "Lagúna Hotel",
                                    "METTOL": "2016-09-29",
                                    "5 legutolsó foglalás átlatlétszáma ": "2"
                                },
                                {
                                    "SZALLAS_NEV": "Lagúna Hotel",
                                    "METTOL": "2016-10-01",
                                    "5 legutolsó foglalás átlatlétszáma ": "2"
                                },
                                {
                                    "SZALLAS_NEV": "Lagúna Hotel",
                                    "METTOL": "2016-10-01",
                                    "5 legutolsó foglalás átlatlétszáma ": "2"
                                },
                                {
                                    "SZALLAS_NEV": "Lagúna Hotel",
                                    "METTOL": "2016-10-01",
                                    "5 legutolsó foglalás átlatlétszáma ": "3"
                                },
                                {
                                    "SZALLAS_NEV": "Lagúna Hotel",
                                    "METTOL": "2016-10-01",
                                    "5 legutolsó foglalás átlatlétszáma ": "2"
                                },
                                {
                                    "SZALLAS_NEV": "Lagúna Hotel",
                                    "METTOL": "2016-10-02",
                                    "5 legutolsó foglalás átlatlétszáma ": "2"
                                },
                                {
                                    "SZALLAS_NEV": "Lagúna Hotel",
                                    "METTOL": "2016-10-03",
                                    "5 legutolsó foglalás átlatlétszáma ": "2"
                                },
                                {
                                    "SZALLAS_NEV": "Lagúna Hotel",
                                    "METTOL": "2016-10-04",
                                    "5 legutolsó foglalás átlatlétszáma ": "2"
                                },
                                {
                                    "SZALLAS_NEV": "Lagúna Hotel",
                                    "METTOL": "2016-10-09",
                                    "5 legutolsó foglalás átlatlétszáma ": "2"
                                },
                                {
                                    "SZALLAS_NEV": "Lagúna Hotel",
                                    "METTOL": "2016-10-10",
                                    "5 legutolsó foglalás átlatlétszáma ": "2"
                                },
                                {
                                    "SZALLAS_NEV": "Lagúna Hotel",
                                    "METTOL": "2016-10-15",
                                    "5 legutolsó foglalás átlatlétszáma ": "2"
                                },
                                {
                                    "SZALLAS_NEV": "Lagúna Hotel",
                                    "METTOL": "2016-10-15",
                                    "5 legutolsó foglalás átlatlétszáma ": "2"
                                },
                                {
                                    "SZALLAS_NEV": "Lagúna Hotel",
                                    "METTOL": "2016-10-16",
                                    "5 legutolsó foglalás átlatlétszáma ": "2"
                                },
                                {
                                    "SZALLAS_NEV": "Lagúna Hotel",
                                    "METTOL": "2016-10-19",
                                    "5 legutolsó foglalás átlatlétszáma ": "2"
                                },
                                {
                                    "SZALLAS_NEV": "Lagúna Hotel",
                                    "METTOL": "2016-10-22",
                                    "5 legutolsó foglalás átlatlétszáma ": "2"
                                },
                                {
                                    "SZALLAS_NEV": "Lagúna Hotel",
                                    "METTOL": "2016-10-26",
                                    "5 legutolsó foglalás átlatlétszáma ": "1"
                                },
                                {
                                    "SZALLAS_NEV": "Lagúna Hotel",
                                    "METTOL": "2016-10-26",
                                    "5 legutolsó foglalás átlatlétszáma ": "1"
                                },
                                {
                                    "SZALLAS_NEV": "Lagúna Hotel",
                                    "METTOL": "2016-10-26",
                                    "5 legutolsó foglalás átlatlétszáma ": "2"
                                },
                                {
                                    "SZALLAS_NEV": "Lagúna Hotel",
                                    "METTOL": "2016-10-26",
                                    "5 legutolsó foglalás átlatlétszáma ": "2"
                                },
                                {
                                    "SZALLAS_NEV": "Lagúna Hotel",
                                    "METTOL": "2016-10-26",
                                    "5 legutolsó foglalás átlatlétszáma ": "2"
                                },
                                {
                                    "SZALLAS_NEV": "Lagúna Hotel",
                                    "METTOL": "2016-10-30",
                                    "5 legutolsó foglalás átlatlétszáma ": "3"
                                },
                                {
                                    "SZALLAS_NEV": "Lagúna Hotel",
                                    "METTOL": "2016-11-03",
                                    "5 legutolsó foglalás átlatlétszáma ": "3"
                                },
                                {
                                    "SZALLAS_NEV": "Lagúna Hotel",
                                    "METTOL": "2016-11-06",
                                    "5 legutolsó foglalás átlatlétszáma ": "2"
                                },
                                {
                                    "SZALLAS_NEV": "Lagúna Hotel",
                                    "METTOL": "2016-11-06",
                                    "5 legutolsó foglalás átlatlétszáma ": "2"
                                },
                                {
                                    "SZALLAS_NEV": "Lagúna Hotel",
                                    "METTOL": "2016-11-07",
                                    "5 legutolsó foglalás átlatlétszáma ": "2"
                                },
                                {
                                    "SZALLAS_NEV": "Lagúna Hotel",
                                    "METTOL": "2016-11-07",
                                    "5 legutolsó foglalás átlatlétszáma ": "2"
                                },
                                {
                                    "SZALLAS_NEV": "Lagúna Hotel",
                                    "METTOL": "2016-11-15",
                                    "5 legutolsó foglalás átlatlétszáma ": "2"
                                },
                                {
                                    "SZALLAS_NEV": "Lagúna Hotel",
                                    "METTOL": "2016-11-16",
                                    "5 legutolsó foglalás átlatlétszáma ": "2"
                                },
                                {
                                    "SZALLAS_NEV": "Lagúna Hotel",
                                    "METTOL": "2016-11-18",
                                    "5 legutolsó foglalás átlatlétszáma ": "2"
                                },
                                {
                                    "SZALLAS_NEV": "Lagúna Hotel",
                                    "METTOL": "2016-11-19",
                                    "5 legutolsó foglalás átlatlétszáma ": "2"
                                },
                                {
                                    "SZALLAS_NEV": "Lagúna Hotel",
                                    "METTOL": "2016-11-19",
                                    "5 legutolsó foglalás átlatlétszáma ": "2"
                                },
                                {
                                    "SZALLAS_NEV": "Lagúna Hotel",
                                    "METTOL": "2016-11-23",
                                    "5 legutolsó foglalás átlatlétszáma ": "2"
                                },
                                {
                                    "SZALLAS_NEV": "Lagúna Hotel",
                                    "METTOL": "2016-11-23",
                                    "5 legutolsó foglalás átlatlétszáma ": "3"
                                },
                                {
                                    "SZALLAS_NEV": "Lagúna Hotel",
                                    "METTOL": "2016-12-02",
                                    "5 legutolsó foglalás átlatlétszáma ": "3"
                                },
                                {
                                    "SZALLAS_NEV": "Lagúna Hotel",
                                    "METTOL": "2016-12-10",
                                    "5 legutolsó foglalás átlatlétszáma ": "3"
                                },
                                {
                                    "SZALLAS_NEV": "Lagúna Hotel",
                                    "METTOL": "2016-12-11",
                                    "5 legutolsó foglalás átlatlétszáma ": "3"
                                },
                                {
                                    "SZALLAS_NEV": "Lagúna Hotel",
                                    "METTOL": "2016-12-14",
                                    "5 legutolsó foglalás átlatlétszáma ": "2"
                                },
                                {
                                    "SZALLAS_NEV": "Lagúna Hotel",
                                    "METTOL": "2016-12-17",
                                    "5 legutolsó foglalás átlatlétszáma ": "2"
                                },
                                {
                                    "SZALLAS_NEV": "Lagúna Hotel",
                                    "METTOL": "2016-12-17",
                                    "5 legutolsó foglalás átlatlétszáma ": "2"
                                },
                                {
                                    "SZALLAS_NEV": "Lagúna Hotel",
                                    "METTOL": "2016-12-17",
                                    "5 legutolsó foglalás átlatlétszáma ": "3"
                                },
                                {
                                    "SZALLAS_NEV": "Lagúna Hotel",
                                    "METTOL": "2016-12-25",
                                    "5 legutolsó foglalás átlatlétszáma ": "2"
                                },
                                {
                                    "SZALLAS_NEV": "Lagúna Hotel",
                                    "METTOL": "2016-12-27",
                                    "5 legutolsó foglalás átlatlétszáma ": "3"
                                },
                                {
                                    "SZALLAS_NEV": "Lagúna Hotel",
                                    "METTOL": "2017-01-10",
                                    "5 legutolsó foglalás átlatlétszáma ": "3"
                                },
                                {
                                    "SZALLAS_NEV": "Lagúna Hotel",
                                    "METTOL": "2017-01-11",
                                    "5 legutolsó foglalás átlatlétszáma ": "2"
                                },
                                {
                                    "SZALLAS_NEV": "Lagúna Hotel",
                                    "METTOL": "2017-01-16",
                                    "5 legutolsó foglalás átlatlétszáma ": "2"
                                },
                                {
                                    "SZALLAS_NEV": "Lagúna Hotel",
                                    "METTOL": "2017-01-17",
                                    "5 legutolsó foglalás átlatlétszáma ": "2"
                                },
                                {
                                    "SZALLAS_NEV": "Lagúna Hotel",
                                    "METTOL": "2017-01-21",
                                    "5 legutolsó foglalás átlatlétszáma ": "2"
                                },
                                {
                                    "SZALLAS_NEV": "Lagúna Hotel",
                                    "METTOL": "2017-01-22",
                                    "5 legutolsó foglalás átlatlétszáma ": "2"
                                },
                                {
                                    "SZALLAS_NEV": "Lagúna Hotel",
                                    "METTOL": "2017-01-23",
                                    "5 legutolsó foglalás átlatlétszáma ": "2"
                                },
                                {
                                    "SZALLAS_NEV": "Lagúna Hotel",
                                    "METTOL": "2017-01-23",
                                    "5 legutolsó foglalás átlatlétszáma ": "2"
                                },
                                {
                                    "SZALLAS_NEV": "Lagúna Hotel",
                                    "METTOL": "2017-01-28",
                                    "5 legutolsó foglalás átlatlétszáma ": "2"
                                },
                                {
                                    "SZALLAS_NEV": "Lagúna Hotel",
                                    "METTOL": "2017-02-03",
                                    "5 legutolsó foglalás átlatlétszáma ": "2"
                                },
                                {
                                    "SZALLAS_NEV": "Lagúna Hotel",
                                    "METTOL": "2017-02-07",
                                    "5 legutolsó foglalás átlatlétszáma ": "2"
                                },
                                {
                                    "SZALLAS_NEV": "Lagúna Hotel",
                                    "METTOL": "2017-02-09",
                                    "5 legutolsó foglalás átlatlétszáma ": "2"
                                },
                                {
                                    "SZALLAS_NEV": "Lagúna Hotel",
                                    "METTOL": "2017-02-16",
                                    "5 legutolsó foglalás átlatlétszáma ": "2"
                                },
                                {
                                    "SZALLAS_NEV": "Lagúna Hotel",
                                    "METTOL": "2017-02-16",
                                    "5 legutolsó foglalás átlatlétszáma ": "2"
                                },
                                {
                                    "SZALLAS_NEV": "Lagúna Hotel",
                                    "METTOL": "2017-02-17",
                                    "5 legutolsó foglalás átlatlétszáma ": "2"
                                },
                                {
                                    "SZALLAS_NEV": "Lagúna Hotel",
                                    "METTOL": "2017-02-19",
                                    "5 legutolsó foglalás átlatlétszáma ": "2"
                                },
                                {
                                    "SZALLAS_NEV": "Lagúna Hotel",
                                    "METTOL": "2017-02-21",
                                    "5 legutolsó foglalás átlatlétszáma ": "1"
                                },
                                {
                                    "SZALLAS_NEV": "Lagúna Hotel",
                                    "METTOL": "2017-02-23",
                                    "5 legutolsó foglalás átlatlétszáma ": "1"
                                },
                                {
                                    "SZALLAS_NEV": "Lagúna Hotel",
                                    "METTOL": "2017-02-25",
                                    "5 legutolsó foglalás átlatlétszáma ": "2"
                                },
                                {
                                    "SZALLAS_NEV": "Lagúna Hotel",
                                    "METTOL": "2017-02-27",
                                    "5 legutolsó foglalás átlatlétszáma ": "2"
                                },
                                {
                                    "SZALLAS_NEV": "Partiszél Vendégház",
                                    "METTOL": "2016-04-10",
                                    "5 legutolsó foglalás átlatlétszáma ": "NULL"
                                },
                                {
                                    "SZALLAS_NEV": "Partiszél Vendégház",
                                    "METTOL": "2016-04-24",
                                    "5 legutolsó foglalás átlatlétszáma ": "2"
                                },
                                {
                                    "SZALLAS_NEV": "Partiszél Vendégház",
                                    "METTOL": "2016-05-09",
                                    "5 legutolsó foglalás átlatlétszáma ": "2"
                                },
                                {
                                    "SZALLAS_NEV": "Partiszél Vendégház",
                                    "METTOL": "2016-05-12",
                                    "5 legutolsó foglalás átlatlétszáma ": "2"
                                },
                                {
                                    "SZALLAS_NEV": "Partiszél Vendégház",
                                    "METTOL": "2016-05-18",
                                    "5 legutolsó foglalás átlatlétszáma ": "2"
                                },
                                {
                                    "SZALLAS_NEV": "Partiszél Vendégház",
                                    "METTOL": "2016-06-06",
                                    "5 legutolsó foglalás átlatlétszáma ": "2"
                                },
                                {
                                    "SZALLAS_NEV": "Partiszél Vendégház",
                                    "METTOL": "2016-06-06",
                                    "5 legutolsó foglalás átlatlétszáma ": "2"
                                },
                                {
                                    "SZALLAS_NEV": "Partiszél Vendégház",
                                    "METTOL": "2016-06-07",
                                    "5 legutolsó foglalás átlatlétszáma ": "2"
                                },
                                {
                                    "SZALLAS_NEV": "Partiszél Vendégház",
                                    "METTOL": "2016-06-07",
                                    "5 legutolsó foglalás átlatlétszáma ": "2"
                                },
                                {
                                    "SZALLAS_NEV": "Partiszél Vendégház",
                                    "METTOL": "2016-06-10",
                                    "5 legutolsó foglalás átlatlétszáma ": "2"
                                },
                                {
                                    "SZALLAS_NEV": "Partiszél Vendégház",
                                    "METTOL": "2016-07-04",
                                    "5 legutolsó foglalás átlatlétszáma ": "2"
                                },
                                {
                                    "SZALLAS_NEV": "Partiszél Vendégház",
                                    "METTOL": "2016-07-27",
                                    "5 legutolsó foglalás átlatlétszáma ": "2"
                                },
                                {
                                    "SZALLAS_NEV": "Partiszél Vendégház",
                                    "METTOL": "2016-07-31",
                                    "5 legutolsó foglalás átlatlétszáma ": "2"
                                },
                                {
                                    "SZALLAS_NEV": "Partiszél Vendégház",
                                    "METTOL": "2016-08-16",
                                    "5 legutolsó foglalás átlatlétszáma ": "2"
                                },
                                {
                                    "SZALLAS_NEV": "Partiszél Vendégház",
                                    "METTOL": "2016-09-19",
                                    "5 legutolsó foglalás átlatlétszáma ": "2"
                                },
                                {
                                    "SZALLAS_NEV": "Partiszél Vendégház",
                                    "METTOL": "2016-09-23",
                                    "5 legutolsó foglalás átlatlétszáma ": "2"
                                },
                                {
                                    "SZALLAS_NEV": "Partiszél Vendégház",
                                    "METTOL": "2016-10-01",
                                    "5 legutolsó foglalás átlatlétszáma ": "2"
                                },
                                {
                                    "SZALLAS_NEV": "Partiszél Vendégház",
                                    "METTOL": "2016-10-24",
                                    "5 legutolsó foglalás átlatlétszáma ": "2"
                                },
                                {
                                    "SZALLAS_NEV": "Partiszél Vendégház",
                                    "METTOL": "2016-10-27",
                                    "5 legutolsó foglalás átlatlétszáma ": "2"
                                },
                                {
                                    "SZALLAS_NEV": "Partiszél Vendégház",
                                    "METTOL": "2016-11-08",
                                    "5 legutolsó foglalás átlatlétszáma ": "2"
                                },
                                {
                                    "SZALLAS_NEV": "Partiszél Vendégház",
                                    "METTOL": "2016-11-16",
                                    "5 legutolsó foglalás átlatlétszáma ": "2"
                                },
                                {
                                    "SZALLAS_NEV": "Partiszél Vendégház",
                                    "METTOL": "2016-11-19",
                                    "5 legutolsó foglalás átlatlétszáma ": "2"
                                },
                                {
                                    "SZALLAS_NEV": "Partiszél Vendégház",
                                    "METTOL": "2016-12-26",
                                    "5 legutolsó foglalás átlatlétszáma ": "2"
                                },
                                {
                                    "SZALLAS_NEV": "Partiszél Vendégház",
                                    "METTOL": "2017-02-01",
                                    "5 legutolsó foglalás átlatlétszáma ": "2"
                                },
                                {
                                    "SZALLAS_NEV": "Partiszél Vendégház",
                                    "METTOL": "2017-02-23",
                                    "5 legutolsó foglalás átlatlétszáma ": "2"
                                },
                                {
                                    "SZALLAS_NEV": "Partiszél Vendégház",
                                    "METTOL": "2017-02-25",
                                    "5 legutolsó foglalás átlatlétszáma ": "2"
                                },
                                {
                                    "SZALLAS_NEV": "Sába-Ház",
                                    "METTOL": "2016-04-06",
                                    "5 legutolsó foglalás átlatlétszáma ": "NULL"
                                },
                                {
                                    "SZALLAS_NEV": "Sába-Ház",
                                    "METTOL": "2016-04-06",
                                    "5 legutolsó foglalás átlatlétszáma ": "2"
                                },
                                {
                                    "SZALLAS_NEV": "Sába-Ház",
                                    "METTOL": "2016-04-08",
                                    "5 legutolsó foglalás átlatlétszáma ": "1"
                                },
                                {
                                    "SZALLAS_NEV": "Sába-Ház",
                                    "METTOL": "2016-04-10",
                                    "5 legutolsó foglalás átlatlétszáma ": "1"
                                },
                                {
                                    "SZALLAS_NEV": "Sába-Ház",
                                    "METTOL": "2016-04-29",
                                    "5 legutolsó foglalás átlatlétszáma ": "1"
                                },
                                {
                                    "SZALLAS_NEV": "Sába-Ház",
                                    "METTOL": "2016-05-05",
                                    "5 legutolsó foglalás átlatlétszáma ": "1"
                                },
                                {
                                    "SZALLAS_NEV": "Sába-Ház",
                                    "METTOL": "2016-05-09",
                                    "5 legutolsó foglalás átlatlétszáma ": "1"
                                },
                                {
                                    "SZALLAS_NEV": "Sába-Ház",
                                    "METTOL": "2016-05-17",
                                    "5 legutolsó foglalás átlatlétszáma ": "2"
                                },
                                {
                                    "SZALLAS_NEV": "Sába-Ház",
                                    "METTOL": "2016-05-29",
                                    "5 legutolsó foglalás átlatlétszáma ": "1"
                                },
                                {
                                    "SZALLAS_NEV": "Sába-Ház",
                                    "METTOL": "2016-05-30",
                                    "5 legutolsó foglalás átlatlétszáma ": "1"
                                },
                                {
                                    "SZALLAS_NEV": "Sába-Ház",
                                    "METTOL": "2016-05-30",
                                    "5 legutolsó foglalás átlatlétszáma ": "2"
                                },
                                {
                                    "SZALLAS_NEV": "Sába-Ház",
                                    "METTOL": "2016-06-06",
                                    "5 legutolsó foglalás átlatlétszáma ": "2"
                                },
                                {
                                    "SZALLAS_NEV": "Sába-Ház",
                                    "METTOL": "2016-06-10",
                                    "5 legutolsó foglalás átlatlétszáma ": "2"
                                },
                                {
                                    "SZALLAS_NEV": "Sába-Ház",
                                    "METTOL": "2016-06-10",
                                    "5 legutolsó foglalás átlatlétszáma ": "2"
                                },
                                {
                                    "SZALLAS_NEV": "Sába-Ház",
                                    "METTOL": "2016-06-10",
                                    "5 legutolsó foglalás átlatlétszáma ": "2"
                                },
                                {
                                    "SZALLAS_NEV": "Sába-Ház",
                                    "METTOL": "2016-06-11",
                                    "5 legutolsó foglalás átlatlétszáma ": "2"
                                },
                                {
                                    "SZALLAS_NEV": "Sába-Ház",
                                    "METTOL": "2016-06-16",
                                    "5 legutolsó foglalás átlatlétszáma ": "2"
                                },
                                {
                                    "SZALLAS_NEV": "Sába-Ház",
                                    "METTOL": "2016-06-17",
                                    "5 legutolsó foglalás átlatlétszáma ": "1"
                                },
                                {
                                    "SZALLAS_NEV": "Sába-Ház",
                                    "METTOL": "2016-06-27",
                                    "5 legutolsó foglalás átlatlétszáma ": "2"
                                },
                                {
                                    "SZALLAS_NEV": "Sába-Ház",
                                    "METTOL": "2016-07-02",
                                    "5 legutolsó foglalás átlatlétszáma ": "1"
                                },
                                {
                                    "SZALLAS_NEV": "Sába-Ház",
                                    "METTOL": "2016-07-09",
                                    "5 legutolsó foglalás átlatlétszáma ": "1"
                                },
                                {
                                    "SZALLAS_NEV": "Sába-Ház",
                                    "METTOL": "2016-07-13",
                                    "5 legutolsó foglalás átlatlétszáma ": "1"
                                },
                                {
                                    "SZALLAS_NEV": "Sába-Ház",
                                    "METTOL": "2016-07-20",
                                    "5 legutolsó foglalás átlatlétszáma ": "2"
                                },
                                {
                                    "SZALLAS_NEV": "Sába-Ház",
                                    "METTOL": "2016-07-20",
                                    "5 legutolsó foglalás átlatlétszáma ": "2"
                                },
                                {
                                    "SZALLAS_NEV": "Sába-Ház",
                                    "METTOL": "2016-07-30",
                                    "5 legutolsó foglalás átlatlétszáma ": "2"
                                },
                                {
                                    "SZALLAS_NEV": "Sába-Ház",
                                    "METTOL": "2016-08-06",
                                    "5 legutolsó foglalás átlatlétszáma ": "2"
                                },
                                {
                                    "SZALLAS_NEV": "Sába-Ház",
                                    "METTOL": "2016-08-12",
                                    "5 legutolsó foglalás átlatlétszáma ": "2"
                                },
                                {
                                    "SZALLAS_NEV": "Sába-Ház",
                                    "METTOL": "2016-08-13",
                                    "5 legutolsó foglalás átlatlétszáma ": "2"
                                },
                                {
                                    "SZALLAS_NEV": "Sába-Ház",
                                    "METTOL": "2016-08-16",
                                    "5 legutolsó foglalás átlatlétszáma ": "2"
                                },
                                {
                                    "SZALLAS_NEV": "Sába-Ház",
                                    "METTOL": "2016-08-16",
                                    "5 legutolsó foglalás átlatlétszáma ": "2"
                                },
                                {
                                    "SZALLAS_NEV": "Sába-Ház",
                                    "METTOL": "2016-08-17",
                                    "5 legutolsó foglalás átlatlétszáma ": "2"
                                },
                                {
                                    "SZALLAS_NEV": "Sába-Ház",
                                    "METTOL": "2016-08-20",
                                    "5 legutolsó foglalás átlatlétszáma ": "2"
                                },
                                {
                                    "SZALLAS_NEV": "Sába-Ház",
                                    "METTOL": "2016-08-24",
                                    "5 legutolsó foglalás átlatlétszáma ": "2"
                                },
                                {
                                    "SZALLAS_NEV": "Sába-Ház",
                                    "METTOL": "2016-08-27",
                                    "5 legutolsó foglalás átlatlétszáma ": "2"
                                },
                                {
                                    "SZALLAS_NEV": "Sába-Ház",
                                    "METTOL": "2016-08-28",
                                    "5 legutolsó foglalás átlatlétszáma ": "2"
                                },
                                {
                                    "SZALLAS_NEV": "Sába-Ház",
                                    "METTOL": "2016-09-05",
                                    "5 legutolsó foglalás átlatlétszáma ": "2"
                                },
                                {
                                    "SZALLAS_NEV": "Sába-Ház",
                                    "METTOL": "2016-09-08",
                                    "5 legutolsó foglalás átlatlétszáma ": "2"
                                },
                                {
                                    "SZALLAS_NEV": "Sába-Ház",
                                    "METTOL": "2016-09-14",
                                    "5 legutolsó foglalás átlatlétszáma ": "3"
                                },
                                {
                                    "SZALLAS_NEV": "Sába-Ház",
                                    "METTOL": "2016-09-19",
                                    "5 legutolsó foglalás átlatlétszáma ": "3"
                                },
                                {
                                    "SZALLAS_NEV": "Sába-Ház",
                                    "METTOL": "2016-09-21",
                                    "5 legutolsó foglalás átlatlétszáma ": "3"
                                },
                                {
                                    "SZALLAS_NEV": "Sába-Ház",
                                    "METTOL": "2016-10-01",
                                    "5 legutolsó foglalás átlatlétszáma ": "3"
                                },
                                {
                                    "SZALLAS_NEV": "Sába-Ház",
                                    "METTOL": "2016-10-01",
                                    "5 legutolsó foglalás átlatlétszáma ": "3"
                                },
                                {
                                    "SZALLAS_NEV": "Sába-Ház",
                                    "METTOL": "2016-10-05",
                                    "5 legutolsó foglalás átlatlétszáma ": "3"
                                },
                                {
                                    "SZALLAS_NEV": "Sába-Ház",
                                    "METTOL": "2016-10-07",
                                    "5 legutolsó foglalás átlatlétszáma ": "3"
                                },
                                {
                                    "SZALLAS_NEV": "Sába-Ház",
                                    "METTOL": "2016-10-08",
                                    "5 legutolsó foglalás átlatlétszáma ": "2"
                                },
                                {
                                    "SZALLAS_NEV": "Sába-Ház",
                                    "METTOL": "2016-10-08",
                                    "5 legutolsó foglalás átlatlétszáma ": "2"
                                },
                                {
                                    "SZALLAS_NEV": "Sába-Ház",
                                    "METTOL": "2016-10-09",
                                    "5 legutolsó foglalás átlatlétszáma ": "2"
                                },
                                {
                                    "SZALLAS_NEV": "Sába-Ház",
                                    "METTOL": "2016-10-09",
                                    "5 legutolsó foglalás átlatlétszáma ": "2"
                                },
                                {
                                    "SZALLAS_NEV": "Sába-Ház",
                                    "METTOL": "2016-10-14",
                                    "5 legutolsó foglalás átlatlétszáma ": "2"
                                },
                                {
                                    "SZALLAS_NEV": "Sába-Ház",
                                    "METTOL": "2016-10-15",
                                    "5 legutolsó foglalás átlatlétszáma ": "2"
                                },
                                {
                                    "SZALLAS_NEV": "Sába-Ház",
                                    "METTOL": "2016-10-15",
                                    "5 legutolsó foglalás átlatlétszáma ": "2"
                                },
                                {
                                    "SZALLAS_NEV": "Sába-Ház",
                                    "METTOL": "2016-10-18",
                                    "5 legutolsó foglalás átlatlétszáma ": "2"
                                },
                                {
                                    "SZALLAS_NEV": "Sába-Ház",
                                    "METTOL": "2016-10-21",
                                    "5 legutolsó foglalás átlatlétszáma ": "2"
                                },
                                {
                                    "SZALLAS_NEV": "Sába-Ház",
                                    "METTOL": "2016-10-23",
                                    "5 legutolsó foglalás átlatlétszáma ": "2"
                                },
                                {
                                    "SZALLAS_NEV": "Sába-Ház",
                                    "METTOL": "2016-10-30",
                                    "5 legutolsó foglalás átlatlétszáma ": "2"
                                },
                                {
                                    "SZALLAS_NEV": "Sába-Ház",
                                    "METTOL": "2016-11-01",
                                    "5 legutolsó foglalás átlatlétszáma ": "2"
                                },
                                {
                                    "SZALLAS_NEV": "Sába-Ház",
                                    "METTOL": "2016-11-05",
                                    "5 legutolsó foglalás átlatlétszáma ": "2"
                                },
                                {
                                    "SZALLAS_NEV": "Sába-Ház",
                                    "METTOL": "2016-11-07",
                                    "5 legutolsó foglalás átlatlétszáma ": "2"
                                },
                                {
                                    "SZALLAS_NEV": "Sába-Ház",
                                    "METTOL": "2016-11-07",
                                    "5 legutolsó foglalás átlatlétszáma ": "2"
                                },
                                {
                                    "SZALLAS_NEV": "Sába-Ház",
                                    "METTOL": "2016-11-11",
                                    "5 legutolsó foglalás átlatlétszáma ": "2"
                                },
                                {
                                    "SZALLAS_NEV": "Sába-Ház",
                                    "METTOL": "2016-11-23",
                                    "5 legutolsó foglalás átlatlétszáma ": "2"
                                },
                                {
                                    "SZALLAS_NEV": "Sába-Ház",
                                    "METTOL": "2016-11-25",
                                    "5 legutolsó foglalás átlatlétszáma ": "2"
                                },
                                {
                                    "SZALLAS_NEV": "Sába-Ház",
                                    "METTOL": "2016-12-01",
                                    "5 legutolsó foglalás átlatlétszáma ": "3"
                                },
                                {
                                    "SZALLAS_NEV": "Sába-Ház",
                                    "METTOL": "2017-01-06",
                                    "5 legutolsó foglalás átlatlétszáma ": "2"
                                },
                                {
                                    "SZALLAS_NEV": "Sába-Ház",
                                    "METTOL": "2017-01-09",
                                    "5 legutolsó foglalás átlatlétszáma ": "3"
                                },
                                {
                                    "SZALLAS_NEV": "Sába-Ház",
                                    "METTOL": "2017-01-12",
                                    "5 legutolsó foglalás átlatlétszáma ": "2"
                                },
                                {
                                    "SZALLAS_NEV": "Sába-Ház",
                                    "METTOL": "2017-02-03",
                                    "5 legutolsó foglalás átlatlétszáma ": "2"
                                },
                                {
                                    "SZALLAS_NEV": "Sába-Ház",
                                    "METTOL": "2017-02-12",
                                    "5 legutolsó foglalás átlatlétszáma ": "2"
                                },
                                {
                                    "SZALLAS_NEV": "Sába-Ház",
                                    "METTOL": "2017-02-16",
                                    "5 legutolsó foglalás átlatlétszáma ": "1"
                                },
                                {
                                    "SZALLAS_NEV": "Sába-Ház",
                                    "METTOL": "2017-02-16",
                                    "5 legutolsó foglalás átlatlétszáma ": "1"
                                },
                                {
                                    "SZALLAS_NEV": "Szieszta Apartmanház",
                                    "METTOL": "2016-04-06",
                                    "5 legutolsó foglalás átlatlétszáma ": "NULL"
                                },
                                {
                                    "SZALLAS_NEV": "Szieszta Apartmanház",
                                    "METTOL": "2016-05-15",
                                    "5 legutolsó foglalás átlatlétszáma ": "3"
                                },
                                {
                                    "SZALLAS_NEV": "Szieszta Apartmanház",
                                    "METTOL": "2016-05-26",
                                    "5 legutolsó foglalás átlatlétszáma ": "2"
                                },
                                {
                                    "SZALLAS_NEV": "Szieszta Apartmanház",
                                    "METTOL": "2016-05-28",
                                    "5 legutolsó foglalás átlatlétszáma ": "2"
                                },
                                {
                                    "SZALLAS_NEV": "Szieszta Apartmanház",
                                    "METTOL": "2016-07-28",
                                    "5 legutolsó foglalás átlatlétszáma ": "2"
                                },
                                {
                                    "SZALLAS_NEV": "Szieszta Apartmanház",
                                    "METTOL": "2016-08-05",
                                    "5 legutolsó foglalás átlatlétszáma ": "2"
                                },
                                {
                                    "SZALLAS_NEV": "Szieszta Apartmanház",
                                    "METTOL": "2016-08-24",
                                    "5 legutolsó foglalás átlatlétszáma ": "2"
                                },
                                {
                                    "SZALLAS_NEV": "Szieszta Apartmanház",
                                    "METTOL": "2016-09-02",
                                    "5 legutolsó foglalás átlatlétszáma ": "2"
                                },
                                {
                                    "SZALLAS_NEV": "Szieszta Apartmanház",
                                    "METTOL": "2016-09-08",
                                    "5 legutolsó foglalás átlatlétszáma ": "2"
                                },
                                {
                                    "SZALLAS_NEV": "Szieszta Apartmanház",
                                    "METTOL": "2016-09-16",
                                    "5 legutolsó foglalás átlatlétszáma ": "2"
                                },
                                {
                                    "SZALLAS_NEV": "Szieszta Apartmanház",
                                    "METTOL": "2016-09-17",
                                    "5 legutolsó foglalás átlatlétszáma ": "2"
                                },
                                {
                                    "SZALLAS_NEV": "Szieszta Apartmanház",
                                    "METTOL": "2016-09-24",
                                    "5 legutolsó foglalás átlatlétszáma ": "2"
                                },
                                {
                                    "SZALLAS_NEV": "Szieszta Apartmanház",
                                    "METTOL": "2016-10-01",
                                    "5 legutolsó foglalás átlatlétszáma ": "1"
                                },
                                {
                                    "SZALLAS_NEV": "Szieszta Apartmanház",
                                    "METTOL": "2016-10-01",
                                    "5 legutolsó foglalás átlatlétszáma ": "1"
                                },
                                {
                                    "SZALLAS_NEV": "Szieszta Apartmanház",
                                    "METTOL": "2016-10-01",
                                    "5 legutolsó foglalás átlatlétszáma ": "1"
                                },
                                {
                                    "SZALLAS_NEV": "Szieszta Apartmanház",
                                    "METTOL": "2016-10-21",
                                    "5 legutolsó foglalás átlatlétszáma ": "1"
                                },
                                {
                                    "SZALLAS_NEV": "Szieszta Apartmanház",
                                    "METTOL": "2016-10-24",
                                    "5 legutolsó foglalás átlatlétszáma ": "2"
                                },
                                {
                                    "SZALLAS_NEV": "Szieszta Apartmanház",
                                    "METTOL": "2016-10-26",
                                    "5 legutolsó foglalás átlatlétszáma ": "2"
                                },
                                {
                                    "SZALLAS_NEV": "Szieszta Apartmanház",
                                    "METTOL": "2016-11-05",
                                    "5 legutolsó foglalás átlatlétszáma ": "2"
                                },
                                {
                                    "SZALLAS_NEV": "Szieszta Apartmanház",
                                    "METTOL": "2016-11-09",
                                    "5 legutolsó foglalás átlatlétszáma ": "2"
                                },
                                {
                                    "SZALLAS_NEV": "Szieszta Apartmanház",
                                    "METTOL": "2016-11-10",
                                    "5 legutolsó foglalás átlatlétszáma ": "2"
                                },
                                {
                                    "SZALLAS_NEV": "Szieszta Apartmanház",
                                    "METTOL": "2016-11-21",
                                    "5 legutolsó foglalás átlatlétszáma ": "2"
                                },
                                {
                                    "SZALLAS_NEV": "Szieszta Apartmanház",
                                    "METTOL": "2016-11-21",
                                    "5 legutolsó foglalás átlatlétszáma ": "2"
                                },
                                {
                                    "SZALLAS_NEV": "Szieszta Apartmanház",
                                    "METTOL": "2016-11-25",
                                    "5 legutolsó foglalás átlatlétszáma ": "2"
                                },
                                {
                                    "SZALLAS_NEV": "Szieszta Apartmanház",
                                    "METTOL": "2016-12-06",
                                    "5 legutolsó foglalás átlatlétszáma ": "2"
                                },
                                {
                                    "SZALLAS_NEV": "Szieszta Apartmanház",
                                    "METTOL": "2016-12-12",
                                    "5 legutolsó foglalás átlatlétszáma ": "2"
                                },
                                {
                                    "SZALLAS_NEV": "Szieszta Apartmanház",
                                    "METTOL": "2016-12-26",
                                    "5 legutolsó foglalás átlatlétszáma ": "2"
                                },
                                {
                                    "SZALLAS_NEV": "Szieszta Apartmanház",
                                    "METTOL": "2016-12-29",
                                    "5 legutolsó foglalás átlatlétszáma ": "2"
                                },
                                {
                                    "SZALLAS_NEV": "Szieszta Apartmanház",
                                    "METTOL": "2017-01-17",
                                    "5 legutolsó foglalás átlatlétszáma ": "2"
                                },
                                {
                                    "SZALLAS_NEV": "Szieszta Apartmanház",
                                    "METTOL": "2017-01-19",
                                    "5 legutolsó foglalás átlatlétszáma ": "2"
                                },
                                {
                                    "SZALLAS_NEV": "Szieszta Apartmanház",
                                    "METTOL": "2017-02-09",
                                    "5 legutolsó foglalás átlatlétszáma ": "3"
                                },
                                {
                                    "SZALLAS_NEV": "Szieszta Apartmanház",
                                    "METTOL": "2017-02-12",
                                    "5 legutolsó foglalás átlatlétszáma ": "2"
                                },
                                {
                                    "SZALLAS_NEV": "Szieszta Apartmanház",
                                    "METTOL": "2017-02-18",
                                    "5 legutolsó foglalás átlatlétszáma ": "2"
                                },
                                {
                                    "SZALLAS_NEV": "Szieszta Apartmanház",
                                    "METTOL": "2017-02-26",
                                    "5 legutolsó foglalás átlatlétszáma ": "2"
                                }
                            ]
                        },
                        "text/html": [
                            "<table>",
                            "<tr><th>SZALLAS_NEV</th><th>METTOL</th><th>5 legutolsó foglalás átlatlétszáma </th></tr>",
                            "<tr><td>Családi Ház</td><td>2016-05-22</td><td>NULL</td></tr>",
                            "<tr><td>Családi Ház</td><td>2016-05-24</td><td>4</td></tr>",
                            "<tr><td>Családi Ház</td><td>2016-06-03</td><td>4</td></tr>",
                            "<tr><td>Családi Ház</td><td>2016-06-20</td><td>3</td></tr>",
                            "<tr><td>Családi Ház</td><td>2016-07-13</td><td>3</td></tr>",
                            "<tr><td>Családi Ház</td><td>2016-07-18</td><td>3</td></tr>",
                            "<tr><td>Családi Ház</td><td>2016-08-08</td><td>3</td></tr>",
                            "<tr><td>Családi Ház</td><td>2016-08-16</td><td>2</td></tr>",
                            "<tr><td>Családi Ház</td><td>2016-08-24</td><td>2</td></tr>",
                            "<tr><td>Családi Ház</td><td>2016-09-12</td><td>2</td></tr>",
                            "<tr><td>Családi Ház</td><td>2016-10-08</td><td>2</td></tr>",
                            "<tr><td>Családi Ház</td><td>2016-11-03</td><td>2</td></tr>",
                            "<tr><td>Családi Ház</td><td>2016-12-06</td><td>2</td></tr>",
                            "<tr><td>Családi Ház</td><td>2017-01-04</td><td>2</td></tr>",
                            "<tr><td>Családi Ház</td><td>2017-01-16</td><td>2</td></tr>",
                            "<tr><td>Családi Ház</td><td>2017-01-23</td><td>2</td></tr>",
                            "<tr><td>Családi Ház</td><td>2017-02-04</td><td>2</td></tr>",
                            "<tr><td>Családi Ház</td><td>2017-02-16</td><td>2</td></tr>",
                            "<tr><td>Fortuna Apartman</td><td>2016-04-09</td><td>NULL</td></tr>",
                            "<tr><td>Fortuna Apartman</td><td>2016-04-26</td><td>2</td></tr>",
                            "<tr><td>Fortuna Apartman</td><td>2016-05-08</td><td>3</td></tr>",
                            "<tr><td>Fortuna Apartman</td><td>2016-05-21</td><td>2</td></tr>",
                            "<tr><td>Fortuna Apartman</td><td>2016-05-23</td><td>2</td></tr>",
                            "<tr><td>Fortuna Apartman</td><td>2016-06-04</td><td>2</td></tr>",
                            "<tr><td>Fortuna Apartman</td><td>2016-06-06</td><td>2</td></tr>",
                            "<tr><td>Fortuna Apartman</td><td>2016-06-08</td><td>2</td></tr>",
                            "<tr><td>Fortuna Apartman</td><td>2016-06-10</td><td>2</td></tr>",
                            "<tr><td>Fortuna Apartman</td><td>2016-06-10</td><td>1</td></tr>",
                            "<tr><td>Fortuna Apartman</td><td>2016-07-03</td><td>1</td></tr>",
                            "<tr><td>Fortuna Apartman</td><td>2016-07-20</td><td>1</td></tr>",
                            "<tr><td>Fortuna Apartman</td><td>2016-07-24</td><td>1</td></tr>",
                            "<tr><td>Fortuna Apartman</td><td>2016-08-01</td><td>1</td></tr>",
                            "<tr><td>Fortuna Apartman</td><td>2016-08-04</td><td>1</td></tr>",
                            "<tr><td>Fortuna Apartman</td><td>2016-08-11</td><td>1</td></tr>",
                            "<tr><td>Fortuna Apartman</td><td>2016-08-14</td><td>2</td></tr>",
                            "<tr><td>Fortuna Apartman</td><td>2016-08-21</td><td>2</td></tr>",
                            "<tr><td>Fortuna Apartman</td><td>2016-08-24</td><td>2</td></tr>",
                            "<tr><td>Fortuna Apartman</td><td>2016-09-04</td><td>2</td></tr>",
                            "<tr><td>Fortuna Apartman</td><td>2016-09-07</td><td>2</td></tr>",
                            "<tr><td>Fortuna Apartman</td><td>2016-09-19</td><td>2</td></tr>",
                            "<tr><td>Fortuna Apartman</td><td>2016-10-01</td><td>2</td></tr>",
                            "<tr><td>Fortuna Apartman</td><td>2016-10-01</td><td>2</td></tr>",
                            "<tr><td>Fortuna Apartman</td><td>2016-10-08</td><td>2</td></tr>",
                            "<tr><td>Fortuna Apartman</td><td>2016-10-09</td><td>3</td></tr>",
                            "<tr><td>Fortuna Apartman</td><td>2016-10-19</td><td>3</td></tr>",
                            "<tr><td>Fortuna Apartman</td><td>2016-10-21</td><td>3</td></tr>",
                            "<tr><td>Fortuna Apartman</td><td>2016-10-26</td><td>3</td></tr>",
                            "<tr><td>Fortuna Apartman</td><td>2016-10-26</td><td>4</td></tr>",
                            "<tr><td>Fortuna Apartman</td><td>2016-10-27</td><td>3</td></tr>",
                            "<tr><td>Fortuna Apartman</td><td>2016-10-28</td><td>3</td></tr>",
                            "<tr><td>Fortuna Apartman</td><td>2016-11-02</td><td>3</td></tr>",
                            "<tr><td>Fortuna Apartman</td><td>2016-11-17</td><td>3</td></tr>",
                            "<tr><td>Fortuna Apartman</td><td>2016-11-25</td><td>2</td></tr>",
                            "<tr><td>Fortuna Apartman</td><td>2017-01-03</td><td>2</td></tr>",
                            "<tr><td>Fortuna Apartman</td><td>2017-02-06</td><td>2</td></tr>",
                            "<tr><td>Fortuna Apartman</td><td>2017-02-14</td><td>3</td></tr>",
                            "<tr><td>Fortuna Apartman</td><td>2017-02-18</td><td>3</td></tr>",
                            "<tr><td>Fortuna Panzió</td><td>2016-04-06</td><td>NULL</td></tr>",
                            "<tr><td>Fortuna Panzió</td><td>2016-04-19</td><td>2</td></tr>",
                            "<tr><td>Fortuna Panzió</td><td>2016-04-19</td><td>2</td></tr>",
                            "<tr><td>Fortuna panzió</td><td>2016-04-24</td><td>2</td></tr>",
                            "<tr><td>Fortuna panzió</td><td>2016-04-25</td><td>2</td></tr>",
                            "<tr><td>Fortuna Panzió</td><td>2016-04-26</td><td>2</td></tr>",
                            "<tr><td>Fortuna panzió</td><td>2016-04-27</td><td>2</td></tr>",
                            "<tr><td>Fortuna panzió</td><td>2016-04-27</td><td>2</td></tr>",
                            "<tr><td>Fortuna panzió</td><td>2016-05-01</td><td>2</td></tr>",
                            "<tr><td>Fortuna panzió</td><td>2016-05-08</td><td>2</td></tr>",
                            "<tr><td>Fortuna panzió</td><td>2016-05-08</td><td>2</td></tr>",
                            "<tr><td>Fortuna Panzió</td><td>2016-05-09</td><td>3</td></tr>",
                            "<tr><td>Fortuna Panzió</td><td>2016-05-21</td><td>3</td></tr>",
                            "<tr><td>Fortuna Panzió</td><td>2016-05-22</td><td>3</td></tr>",
                            "<tr><td>Fortuna panzió</td><td>2016-05-28</td><td>3</td></tr>",
                            "<tr><td>Fortuna panzió</td><td>2016-05-29</td><td>3</td></tr>",
                            "<tr><td>Fortuna panzió</td><td>2016-06-01</td><td>2</td></tr>",
                            "<tr><td>Fortuna Panzió</td><td>2016-06-02</td><td>2</td></tr>",
                            "<tr><td>Fortuna panzió</td><td>2016-06-03</td><td>2</td></tr>",
                            "<tr><td>Fortuna panzió</td><td>2016-06-03</td><td>2</td></tr>",
                            "<tr><td>Fortuna panzió</td><td>2016-06-03</td><td>2</td></tr>",
                            "<tr><td>Fortuna panzió</td><td>2016-06-04</td><td>2</td></tr>",
                            "<tr><td>Fortuna panzió</td><td>2016-06-04</td><td>2</td></tr>",
                            "<tr><td>Fortuna Panzió</td><td>2016-06-06</td><td>2</td></tr>",
                            "<tr><td>Fortuna panzió</td><td>2016-06-06</td><td>2</td></tr>",
                            "<tr><td>Fortuna panzió</td><td>2016-06-06</td><td>2</td></tr>",
                            "<tr><td>Fortuna Panzió</td><td>2016-06-07</td><td>2</td></tr>",
                            "<tr><td>Fortuna Panzió</td><td>2016-06-07</td><td>2</td></tr>",
                            "<tr><td>Fortuna Panzió</td><td>2016-06-13</td><td>3</td></tr>",
                            "<tr><td>Fortuna Panzió</td><td>2016-06-15</td><td>2</td></tr>",
                            "<tr><td>Fortuna panzió</td><td>2016-06-18</td><td>2</td></tr>",
                            "<tr><td>Fortuna panzió</td><td>2016-06-22</td><td>2</td></tr>",
                            "<tr><td>Fortuna panzió</td><td>2016-06-24</td><td>2</td></tr>",
                            "<tr><td>Fortuna Panzió</td><td>2016-06-25</td><td>2</td></tr>",
                            "<tr><td>Fortuna panzió</td><td>2016-07-03</td><td>3</td></tr>",
                            "<tr><td>Fortuna panzió</td><td>2016-07-05</td><td>3</td></tr>",
                            "<tr><td>Fortuna Panzió</td><td>2016-07-08</td><td>3</td></tr>",
                            "<tr><td>Fortuna Panzió</td><td>2016-07-08</td><td>2</td></tr>",
                            "<tr><td>Fortuna panzió</td><td>2016-07-10</td><td>2</td></tr>",
                            "<tr><td>Fortuna Panzió</td><td>2016-07-14</td><td>2</td></tr>",
                            "<tr><td>Fortuna panzió</td><td>2016-07-18</td><td>2</td></tr>",
                            "<tr><td>Fortuna panzió</td><td>2016-07-19</td><td>2</td></tr>",
                            "<tr><td>Fortuna panzió</td><td>2016-07-22</td><td>2</td></tr>",
                            "<tr><td>Fortuna panzió</td><td>2016-07-23</td><td>2</td></tr>",
                            "<tr><td>Fortuna panzió</td><td>2016-07-27</td><td>2</td></tr>",
                            "<tr><td>Fortuna panzió</td><td>2016-07-27</td><td>2</td></tr>",
                            "<tr><td>Fortuna panzió</td><td>2016-08-02</td><td>2</td></tr>",
                            "<tr><td>Fortuna panzió</td><td>2016-08-03</td><td>2</td></tr>",
                            "<tr><td>Fortuna Panzió</td><td>2016-08-03</td><td>3</td></tr>",
                            "<tr><td>Fortuna panzió</td><td>2016-08-05</td><td>3</td></tr>",
                            "<tr><td>Fortuna Panzió</td><td>2016-08-12</td><td>3</td></tr>",
                            "<tr><td>Fortuna panzió</td><td>2016-08-14</td><td>3</td></tr>",
                            "<tr><td>Fortuna Panzió</td><td>2016-08-17</td><td>3</td></tr>",
                            "<tr><td>Fortuna Panzió</td><td>2016-08-20</td><td>2</td></tr>",
                            "<tr><td>Fortuna Panzió</td><td>2016-08-20</td><td>2</td></tr>",
                            "<tr><td>Fortuna panzió</td><td>2016-08-22</td><td>2</td></tr>",
                            "<tr><td>Fortuna panzió</td><td>2016-08-24</td><td>2</td></tr>",
                            "<tr><td>Fortuna Panzió</td><td>2016-08-25</td><td>2</td></tr>",
                            "<tr><td>Fortuna Panzió</td><td>2016-08-25</td><td>2</td></tr>",
                            "<tr><td>Fortuna Panzió</td><td>2016-08-26</td><td>2</td></tr>",
                            "<tr><td>Fortuna panzió</td><td>2016-08-28</td><td>2</td></tr>",
                            "<tr><td>Fortuna Panzió</td><td>2016-09-02</td><td>2</td></tr>",
                            "<tr><td>Fortuna panzió</td><td>2016-09-05</td><td>2</td></tr>",
                            "<tr><td>Fortuna panzió</td><td>2016-09-05</td><td>2</td></tr>",
                            "<tr><td>Fortuna panzió</td><td>2016-09-14</td><td>2</td></tr>",
                            "<tr><td>Fortuna panzió</td><td>2016-09-15</td><td>2</td></tr>",
                            "<tr><td>Fortuna Panzió</td><td>2016-09-16</td><td>2</td></tr>",
                            "<tr><td>Fortuna panzió</td><td>2016-09-17</td><td>2</td></tr>",
                            "<tr><td>Fortuna Panzió</td><td>2016-09-18</td><td>2</td></tr>",
                            "<tr><td>Fortuna panzió</td><td>2016-09-23</td><td>2</td></tr>",
                            "<tr><td>Fortuna panzió</td><td>2016-09-23</td><td>1</td></tr>",
                            "<tr><td>Fortuna panzió</td><td>2016-09-26</td><td>2</td></tr>",
                            "<tr><td>Fortuna Panzió</td><td>2016-09-29</td><td>2</td></tr>",
                            "<tr><td>Fortuna Panzió</td><td>2016-10-03</td><td>2</td></tr>",
                            "<tr><td>Fortuna Panzió</td><td>2016-10-09</td><td>3</td></tr>",
                            "<tr><td>Fortuna panzió</td><td>2016-10-09</td><td>3</td></tr>",
                            "<tr><td>Fortuna Panzió</td><td>2016-10-09</td><td>2</td></tr>",
                            "<tr><td>Fortuna panzió</td><td>2016-10-13</td><td>2</td></tr>",
                            "<tr><td>Fortuna panzió</td><td>2016-10-16</td><td>2</td></tr>",
                            "<tr><td>Fortuna panzió</td><td>2016-10-23</td><td>2</td></tr>",
                            "<tr><td>Fortuna Panzió</td><td>2016-10-23</td><td>2</td></tr>",
                            "<tr><td>Fortuna Panzió</td><td>2016-10-26</td><td>2</td></tr>",
                            "<tr><td>Fortuna Panzió</td><td>2016-10-27</td><td>2</td></tr>",
                            "<tr><td>Fortuna panzió</td><td>2016-10-29</td><td>2</td></tr>",
                            "<tr><td>Fortuna Panzió</td><td>2016-10-30</td><td>2</td></tr>",
                            "<tr><td>Fortuna Panzió</td><td>2016-10-30</td><td>2</td></tr>",
                            "<tr><td>Fortuna panzió</td><td>2016-11-01</td><td>2</td></tr>",
                            "<tr><td>Fortuna Panzió</td><td>2016-11-03</td><td>2</td></tr>",
                            "<tr><td>Fortuna Panzió</td><td>2016-11-10</td><td>2</td></tr>",
                            "<tr><td>Fortuna panzió</td><td>2016-11-11</td><td>2</td></tr>",
                            "<tr><td>Fortuna Panzió</td><td>2016-11-19</td><td>2</td></tr>",
                            "<tr><td>Fortuna Panzió</td><td>2016-11-19</td><td>2</td></tr>",
                            "<tr><td>Fortuna Panzió</td><td>2016-11-22</td><td>2</td></tr>",
                            "<tr><td>Fortuna Panzió</td><td>2016-11-23</td><td>2</td></tr>",
                            "<tr><td>Fortuna panzió</td><td>2016-11-25</td><td>2</td></tr>",
                            "<tr><td>Fortuna panzió</td><td>2016-12-01</td><td>2</td></tr>",
                            "<tr><td>Fortuna panzió</td><td>2016-12-05</td><td>2</td></tr>",
                            "<tr><td>Fortuna panzió</td><td>2016-12-06</td><td>2</td></tr>",
                            "<tr><td>Fortuna panzió</td><td>2016-12-14</td><td>2</td></tr>",
                            "<tr><td>Fortuna panzió</td><td>2016-12-18</td><td>2</td></tr>",
                            "<tr><td>Fortuna panzió</td><td>2016-12-20</td><td>2</td></tr>",
                            "<tr><td>Fortuna panzió</td><td>2016-12-21</td><td>2</td></tr>",
                            "<tr><td>Fortuna panzió</td><td>2016-12-24</td><td>2</td></tr>",
                            "<tr><td>Fortuna panzió</td><td>2016-12-29</td><td>2</td></tr>",
                            "<tr><td>Fortuna panzió</td><td>2017-01-01</td><td>2</td></tr>",
                            "<tr><td>Fortuna panzió</td><td>2017-01-03</td><td>2</td></tr>",
                            "<tr><td>Fortuna Panzió</td><td>2017-01-08</td><td>2</td></tr>",
                            "<tr><td>Fortuna panzió</td><td>2017-01-12</td><td>2</td></tr>",
                            "<tr><td>Fortuna panzió</td><td>2017-01-13</td><td>2</td></tr>",
                            "<tr><td>Fortuna Panzió</td><td>2017-01-16</td><td>2</td></tr>",
                            "<tr><td>Fortuna panzió</td><td>2017-01-18</td><td>2</td></tr>",
                            "<tr><td>Fortuna panzió</td><td>2017-01-20</td><td>2</td></tr>",
                            "<tr><td>Fortuna panzió</td><td>2017-01-27</td><td>1</td></tr>",
                            "<tr><td>Fortuna panzió</td><td>2017-01-28</td><td>2</td></tr>",
                            "<tr><td>Fortuna Panzió</td><td>2017-02-10</td><td>2</td></tr>",
                            "<tr><td>Fortuna Panzió</td><td>2017-02-12</td><td>2</td></tr>",
                            "<tr><td>Fortuna panzió</td><td>2017-02-13</td><td>2</td></tr>",
                            "<tr><td>Fortuna Panzió</td><td>2017-02-16</td><td>2</td></tr>",
                            "<tr><td>Fortuna panzió</td><td>2017-02-16</td><td>2</td></tr>",
                            "<tr><td>Fortuna Panzió</td><td>2017-02-17</td><td>2</td></tr>",
                            "<tr><td>Fortuna Panzió</td><td>2017-02-18</td><td>2</td></tr>",
                            "<tr><td>Fortuna Panzió</td><td>2017-02-20</td><td>2</td></tr>",
                            "<tr><td>Fortuna Panzió</td><td>2017-02-20</td><td>2</td></tr>",
                            "<tr><td>Fortuna panzió</td><td>2017-02-21</td><td>2</td></tr>",
                            "<tr><td>Fortuna panzió</td><td>2017-02-24</td><td>2</td></tr>",
                            "<tr><td>Fortuna Panzió</td><td>2017-03-01</td><td>2</td></tr>",
                            "<tr><td>Gold Hotel</td><td>2016-04-10</td><td>NULL</td></tr>",
                            "<tr><td>Gold Hotel</td><td>2016-04-10</td><td>1</td></tr>",
                            "<tr><td>Gold Hotel</td><td>2016-04-10</td><td>1</td></tr>",
                            "<tr><td>Gold Hotel</td><td>2016-04-10</td><td>1</td></tr>",
                            "<tr><td>Gold Hotel</td><td>2016-04-13</td><td>1</td></tr>",
                            "<tr><td>Gold Hotel</td><td>2016-04-21</td><td>2</td></tr>",
                            "<tr><td>Gold Hotel</td><td>2016-04-24</td><td>2</td></tr>",
                            "<tr><td>Gold Hotel</td><td>2016-04-28</td><td>2</td></tr>",
                            "<tr><td>Gold Hotel</td><td>2016-05-01</td><td>2</td></tr>",
                            "<tr><td>Gold Hotel</td><td>2016-05-09</td><td>2</td></tr>",
                            "<tr><td>Gold Hotel</td><td>2016-05-09</td><td>2</td></tr>",
                            "<tr><td>Gold Hotel</td><td>2016-05-12</td><td>2</td></tr>",
                            "<tr><td>Gold Hotel</td><td>2016-05-14</td><td>2</td></tr>",
                            "<tr><td>Gold Hotel</td><td>2016-05-21</td><td>2</td></tr>",
                            "<tr><td>Gold Hotel</td><td>2016-05-21</td><td>2</td></tr>",
                            "<tr><td>Gold Hotel</td><td>2016-05-24</td><td>2</td></tr>",
                            "<tr><td>Gold Hotel</td><td>2016-05-25</td><td>2</td></tr>",
                            "<tr><td>Gold Hotel</td><td>2016-05-28</td><td>2</td></tr>",
                            "<tr><td>Gold Hotel</td><td>2016-05-28</td><td>2</td></tr>",
                            "<tr><td>Gold Hotel</td><td>2016-05-28</td><td>2</td></tr>",
                            "<tr><td>Gold Hotel</td><td>2016-05-30</td><td>2</td></tr>",
                            "<tr><td>Gold Hotel</td><td>2016-06-03</td><td>2</td></tr>",
                            "<tr><td>Gold Hotel</td><td>2016-06-03</td><td>2</td></tr>",
                            "<tr><td>Gold Hotel</td><td>2016-06-03</td><td>2</td></tr>",
                            "<tr><td>Gold Hotel</td><td>2016-06-03</td><td>2</td></tr>",
                            "<tr><td>Gold Hotel</td><td>2016-06-04</td><td>1</td></tr>",
                            "<tr><td>Gold Hotel</td><td>2016-06-04</td><td>2</td></tr>",
                            "<tr><td>Gold Hotel</td><td>2016-06-06</td><td>2</td></tr>",
                            "<tr><td>Gold Hotel</td><td>2016-06-06</td><td>2</td></tr>",
                            "<tr><td>Gold Hotel</td><td>2016-06-06</td><td>2</td></tr>",
                            "<tr><td>Gold Hotel</td><td>2016-06-07</td><td>2</td></tr>",
                            "<tr><td>Gold Hotel</td><td>2016-06-07</td><td>2</td></tr>",
                            "<tr><td>Gold Hotel</td><td>2016-06-07</td><td>2</td></tr>",
                            "<tr><td>Gold Hotel</td><td>2016-06-07</td><td>2</td></tr>",
                            "<tr><td>Gold Hotel</td><td>2016-06-08</td><td>3</td></tr>",
                            "<tr><td>Gold Hotel</td><td>2016-06-09</td><td>3</td></tr>",
                            "<tr><td>Gold Hotel</td><td>2016-06-10</td><td>3</td></tr>",
                            "<tr><td>Gold Hotel</td><td>2016-06-11</td><td>3</td></tr>",
                            "<tr><td>Gold Hotel</td><td>2016-06-13</td><td>3</td></tr>",
                            "<tr><td>Gold Hotel</td><td>2016-06-13</td><td>2</td></tr>",
                            "<tr><td>Gold Hotel</td><td>2016-06-20</td><td>2</td></tr>",
                            "<tr><td>Gold Hotel</td><td>2016-06-22</td><td>2</td></tr>",
                            "<tr><td>Gold Hotel</td><td>2016-06-22</td><td>3</td></tr>",
                            "<tr><td>Gold Hotel</td><td>2016-06-23</td><td>3</td></tr>",
                            "<tr><td>Gold Hotel</td><td>2016-06-24</td><td>2</td></tr>",
                            "<tr><td>Gold Hotel</td><td>2016-06-27</td><td>2</td></tr>",
                            "<tr><td>Gold Hotel</td><td>2016-06-28</td><td>2</td></tr>",
                            "<tr><td>Gold Hotel</td><td>2016-06-30</td><td>2</td></tr>",
                            "<tr><td>Gold Hotel</td><td>2016-07-04</td><td>2</td></tr>",
                            "<tr><td>Gold Hotel</td><td>2016-07-04</td><td>2</td></tr>",
                            "<tr><td>Gold Hotel</td><td>2016-07-06</td><td>2</td></tr>",
                            "<tr><td>Gold Hotel</td><td>2016-07-08</td><td>2</td></tr>",
                            "<tr><td>Gold Hotel</td><td>2016-07-09</td><td>2</td></tr>",
                            "<tr><td>Gold Hotel</td><td>2016-07-10</td><td>2</td></tr>",
                            "<tr><td>Gold Hotel</td><td>2016-07-14</td><td>2</td></tr>",
                            "<tr><td>Gold Hotel</td><td>2016-07-14</td><td>2</td></tr>",
                            "<tr><td>Gold Hotel</td><td>2016-07-14</td><td>2</td></tr>",
                            "<tr><td>Gold Hotel</td><td>2016-07-15</td><td>2</td></tr>",
                            "<tr><td>Gold Hotel</td><td>2016-07-16</td><td>2</td></tr>",
                            "<tr><td>Gold Hotel</td><td>2016-07-17</td><td>2</td></tr>",
                            "<tr><td>Gold Hotel</td><td>2016-07-17</td><td>2</td></tr>",
                            "<tr><td>Gold Hotel</td><td>2016-07-18</td><td>2</td></tr>",
                            "<tr><td>Gold Hotel</td><td>2016-07-18</td><td>2</td></tr>",
                            "<tr><td>Gold Hotel</td><td>2016-07-19</td><td>2</td></tr>",
                            "<tr><td>Gold Hotel</td><td>2016-07-20</td><td>2</td></tr>",
                            "<tr><td>Gold Hotel</td><td>2016-07-20</td><td>1</td></tr>",
                            "<tr><td>Gold Hotel</td><td>2016-07-20</td><td>1</td></tr>",
                            "<tr><td>Gold Hotel</td><td>2016-07-24</td><td>2</td></tr>",
                            "<tr><td>Gold Hotel</td><td>2016-07-24</td><td>2</td></tr>",
                            "<tr><td>Gold Hotel</td><td>2016-07-24</td><td>2</td></tr>",
                            "<tr><td>Gold Hotel</td><td>2016-07-27</td><td>2</td></tr>",
                            "<tr><td>Gold Hotel</td><td>2016-07-28</td><td>2</td></tr>",
                            "<tr><td>Gold Hotel</td><td>2016-07-30</td><td>2</td></tr>",
                            "<tr><td>Gold Hotel</td><td>2016-07-31</td><td>2</td></tr>",
                            "<tr><td>Gold Hotel</td><td>2016-08-01</td><td>2</td></tr>",
                            "<tr><td>Gold Hotel</td><td>2016-08-01</td><td>2</td></tr>",
                            "<tr><td>Gold Hotel</td><td>2016-08-02</td><td>2</td></tr>",
                            "<tr><td>Gold Hotel</td><td>2016-08-03</td><td>2</td></tr>",
                            "<tr><td>Gold Hotel</td><td>2016-08-09</td><td>2</td></tr>",
                            "<tr><td>Gold Hotel</td><td>2016-08-10</td><td>3</td></tr>",
                            "<tr><td>Gold Hotel</td><td>2016-08-13</td><td>2</td></tr>",
                            "<tr><td>Gold Hotel</td><td>2016-08-16</td><td>2</td></tr>",
                            "<tr><td>Gold Hotel</td><td>2016-08-16</td><td>2</td></tr>",
                            "<tr><td>Gold Hotel</td><td>2016-08-16</td><td>2</td></tr>",
                            "<tr><td>Gold Hotel</td><td>2016-08-17</td><td>2</td></tr>",
                            "<tr><td>Gold Hotel</td><td>2016-08-19</td><td>3</td></tr>",
                            "<tr><td>Gold Hotel</td><td>2016-08-24</td><td>2</td></tr>",
                            "<tr><td>Gold Hotel</td><td>2016-08-28</td><td>2</td></tr>",
                            "<tr><td>Gold Hotel</td><td>2016-08-29</td><td>2</td></tr>",
                            "<tr><td>Gold Hotel</td><td>2016-08-29</td><td>3</td></tr>",
                            "<tr><td>Gold Hotel</td><td>2016-08-31</td><td>2</td></tr>",
                            "<tr><td>Gold Hotel</td><td>2016-09-05</td><td>2</td></tr>",
                            "<tr><td>Gold Hotel</td><td>2016-09-09</td><td>2</td></tr>",
                            "<tr><td>Gold Hotel</td><td>2016-09-11</td><td>2</td></tr>",
                            "<tr><td>Gold Hotel</td><td>2016-09-18</td><td>2</td></tr>",
                            "<tr><td>Gold Hotel</td><td>2016-09-19</td><td>2</td></tr>",
                            "<tr><td>Gold Hotel</td><td>2016-09-22</td><td>2</td></tr>",
                            "<tr><td>Gold Hotel</td><td>2016-09-30</td><td>2</td></tr>",
                            "<tr><td>Gold Hotel</td><td>2016-09-30</td><td>2</td></tr>",
                            "<tr><td>Gold Hotel</td><td>2016-09-30</td><td>2</td></tr>",
                            "<tr><td>Gold Hotel</td><td>2016-10-03</td><td>2</td></tr>",
                            "<tr><td>Gold Hotel</td><td>2016-10-06</td><td>2</td></tr>",
                            "<tr><td>Gold Hotel</td><td>2016-10-08</td><td>2</td></tr>",
                            "<tr><td>Gold Hotel</td><td>2016-10-09</td><td>2</td></tr>",
                            "<tr><td>Gold Hotel</td><td>2016-10-09</td><td>2</td></tr>",
                            "<tr><td>Gold Hotel</td><td>2016-10-09</td><td>2</td></tr>",
                            "<tr><td>Gold Hotel</td><td>2016-10-09</td><td>2</td></tr>",
                            "<tr><td>Gold Hotel</td><td>2016-10-10</td><td>2</td></tr>",
                            "<tr><td>Gold Hotel</td><td>2016-10-15</td><td>2</td></tr>",
                            "<tr><td>Gold Hotel</td><td>2016-10-17</td><td>2</td></tr>",
                            "<tr><td>Gold Hotel</td><td>2016-10-20</td><td>2</td></tr>",
                            "<tr><td>Gold Hotel</td><td>2016-10-20</td><td>2</td></tr>",
                            "<tr><td>Gold Hotel</td><td>2016-10-21</td><td>2</td></tr>",
                            "<tr><td>Gold Hotel</td><td>2016-10-23</td><td>2</td></tr>",
                            "<tr><td>Gold Hotel</td><td>2016-10-23</td><td>2</td></tr>",
                            "<tr><td>Gold Hotel</td><td>2016-10-23</td><td>2</td></tr>",
                            "<tr><td>Gold Hotel</td><td>2016-10-24</td><td>2</td></tr>",
                            "<tr><td>Gold Hotel</td><td>2016-10-26</td><td>3</td></tr>",
                            "<tr><td>Gold Hotel</td><td>2016-10-27</td><td>2</td></tr>",
                            "<tr><td>Gold Hotel</td><td>2016-10-28</td><td>2</td></tr>",
                            "<tr><td>Gold Hotel</td><td>2016-10-29</td><td>2</td></tr>",
                            "<tr><td>Gold Hotel</td><td>2016-10-30</td><td>2</td></tr>",
                            "<tr><td>Gold Hotel</td><td>2016-10-30</td><td>2</td></tr>",
                            "<tr><td>Gold Hotel</td><td>2016-11-03</td><td>2</td></tr>",
                            "<tr><td>Gold Hotel</td><td>2016-11-03</td><td>2</td></tr>",
                            "<tr><td>Gold Hotel</td><td>2016-11-05</td><td>2</td></tr>",
                            "<tr><td>Gold Hotel</td><td>2016-11-05</td><td>2</td></tr>",
                            "<tr><td>Gold Hotel</td><td>2016-11-05</td><td>2</td></tr>",
                            "<tr><td>Gold Hotel</td><td>2016-11-08</td><td>2</td></tr>",
                            "<tr><td>Gold Hotel</td><td>2016-11-09</td><td>2</td></tr>",
                            "<tr><td>Gold Hotel</td><td>2016-11-12</td><td>1</td></tr>",
                            "<tr><td>Gold Hotel</td><td>2016-11-13</td><td>1</td></tr>",
                            "<tr><td>Gold Hotel</td><td>2016-11-22</td><td>2</td></tr>",
                            "<tr><td>Gold Hotel</td><td>2016-11-22</td><td>2</td></tr>",
                            "<tr><td>Gold Hotel</td><td>2016-11-23</td><td>2</td></tr>",
                            "<tr><td>Gold Hotel</td><td>2016-11-23</td><td>2</td></tr>",
                            "<tr><td>Gold Hotel</td><td>2016-11-25</td><td>2</td></tr>",
                            "<tr><td>Gold Hotel</td><td>2016-11-27</td><td>2</td></tr>",
                            "<tr><td>Gold Hotel</td><td>2016-11-28</td><td>2</td></tr>",
                            "<tr><td>Gold Hotel</td><td>2016-11-29</td><td>2</td></tr>",
                            "<tr><td>Gold Hotel</td><td>2016-12-02</td><td>2</td></tr>",
                            "<tr><td>Gold Hotel</td><td>2016-12-04</td><td>1</td></tr>",
                            "<tr><td>Gold Hotel</td><td>2016-12-04</td><td>2</td></tr>",
                            "<tr><td>Gold Hotel</td><td>2016-12-05</td><td>1</td></tr>",
                            "<tr><td>Gold Hotel</td><td>2016-12-06</td><td>1</td></tr>",
                            "<tr><td>Gold Hotel</td><td>2016-12-09</td><td>1</td></tr>",
                            "<tr><td>Gold Hotel</td><td>2016-12-17</td><td>2</td></tr>",
                            "<tr><td>Gold Hotel</td><td>2016-12-22</td><td>2</td></tr>",
                            "<tr><td>Gold Hotel</td><td>2016-12-24</td><td>2</td></tr>",
                            "<tr><td>Gold Hotel</td><td>2016-12-25</td><td>2</td></tr>",
                            "<tr><td>Gold Hotel</td><td>2016-12-29</td><td>2</td></tr>",
                            "<tr><td>Gold Hotel</td><td>2016-12-30</td><td>2</td></tr>",
                            "<tr><td>Gold Hotel</td><td>2017-01-01</td><td>2</td></tr>",
                            "<tr><td>Gold Hotel</td><td>2017-01-02</td><td>2</td></tr>",
                            "<tr><td>Gold Hotel</td><td>2017-01-05</td><td>2</td></tr>",
                            "<tr><td>Gold Hotel</td><td>2017-01-05</td><td>2</td></tr>",
                            "<tr><td>Gold Hotel</td><td>2017-01-06</td><td>2</td></tr>",
                            "<tr><td>Gold Hotel</td><td>2017-01-09</td><td>1</td></tr>",
                            "<tr><td>Gold Hotel</td><td>2017-01-09</td><td>1</td></tr>",
                            "<tr><td>Gold Hotel</td><td>2017-01-13</td><td>1</td></tr>",
                            "<tr><td>Gold Hotel</td><td>2017-01-16</td><td>2</td></tr>",
                            "<tr><td>Gold Hotel</td><td>2017-01-17</td><td>2</td></tr>",
                            "<tr><td>Gold Hotel</td><td>2017-01-22</td><td>2</td></tr>",
                            "<tr><td>Gold Hotel</td><td>2017-01-22</td><td>2</td></tr>",
                            "<tr><td>Gold Hotel</td><td>2017-01-24</td><td>3</td></tr>",
                            "<tr><td>Gold Hotel</td><td>2017-01-30</td><td>2</td></tr>",
                            "<tr><td>Gold Hotel</td><td>2017-02-03</td><td>2</td></tr>",
                            "<tr><td>Gold Hotel</td><td>2017-02-04</td><td>2</td></tr>",
                            "<tr><td>Gold Hotel</td><td>2017-02-05</td><td>2</td></tr>",
                            "<tr><td>Gold Hotel</td><td>2017-02-05</td><td>2</td></tr>",
                            "<tr><td>Gold Hotel</td><td>2017-02-08</td><td>2</td></tr>",
                            "<tr><td>Gold Hotel</td><td>2017-02-08</td><td>2</td></tr>",
                            "<tr><td>Gold Hotel</td><td>2017-02-11</td><td>2</td></tr>",
                            "<tr><td>Gold Hotel</td><td>2017-02-12</td><td>2</td></tr>",
                            "<tr><td>Gold Hotel</td><td>2017-02-22</td><td>2</td></tr>",
                            "<tr><td>Gold Hotel</td><td>2017-02-23</td><td>2</td></tr>",
                            "<tr><td>Gold Hotel</td><td>2017-02-24</td><td>3</td></tr>",
                            "<tr><td>Gold Hotel</td><td>2017-02-24</td><td>2</td></tr>",
                            "<tr><td>Gold Hotel</td><td>2017-02-26</td><td>3</td></tr>",
                            "<tr><td>Hotel Három Hattyú</td><td>2016-04-11</td><td>NULL</td></tr>",
                            "<tr><td>Hotel Három Hattyú</td><td>2016-04-18</td><td>3</td></tr>",
                            "<tr><td>Hotel Három Hattyú</td><td>2016-04-19</td><td>2</td></tr>",
                            "<tr><td>Hotel Három Hattyú</td><td>2016-04-23</td><td>1</td></tr>",
                            "<tr><td>Hotel Három Hattyú</td><td>2016-04-23</td><td>2</td></tr>",
                            "<tr><td>Hotel Három Hattyú</td><td>2016-04-27</td><td>2</td></tr>",
                            "<tr><td>Hotel Három Hattyú</td><td>2016-04-28</td><td>2</td></tr>",
                            "<tr><td>Hotel Három Hattyú</td><td>2016-04-30</td><td>2</td></tr>",
                            "<tr><td>Hotel Három Hattyú</td><td>2016-05-01</td><td>2</td></tr>",
                            "<tr><td>Hotel Három Hattyú</td><td>2016-05-01</td><td>2</td></tr>",
                            "<tr><td>Hotel Három Hattyú</td><td>2016-05-02</td><td>2</td></tr>",
                            "<tr><td>Hotel Három Hattyú</td><td>2016-05-02</td><td>2</td></tr>",
                            "<tr><td>Hotel Három Hattyú</td><td>2016-05-03</td><td>2</td></tr>",
                            "<tr><td>Hotel Három Hattyú</td><td>2016-05-06</td><td>2</td></tr>",
                            "<tr><td>Hotel Három Hattyú</td><td>2016-05-08</td><td>2</td></tr>",
                            "<tr><td>Hotel Három Hattyú</td><td>2016-05-09</td><td>2</td></tr>",
                            "<tr><td>Hotel Három Hattyú</td><td>2016-05-09</td><td>2</td></tr>",
                            "<tr><td>Hotel Három Hattyú</td><td>2016-05-10</td><td>2</td></tr>",
                            "<tr><td>Hotel Három Hattyú</td><td>2016-05-10</td><td>2</td></tr>",
                            "<tr><td>Hotel Három Hattyú</td><td>2016-05-11</td><td>2</td></tr>",
                            "<tr><td>Hotel Három Hattyú</td><td>2016-05-14</td><td>2</td></tr>",
                            "<tr><td>Hotel Három Hattyú</td><td>2016-05-18</td><td>2</td></tr>",
                            "<tr><td>Hotel Három Hattyú</td><td>2016-05-19</td><td>2</td></tr>",
                            "<tr><td>Hotel Három Hattyú</td><td>2016-05-24</td><td>2</td></tr>",
                            "<tr><td>Hotel Három Hattyú</td><td>2016-05-25</td><td>2</td></tr>",
                            "<tr><td>Hotel Három Hattyú</td><td>2016-05-27</td><td>1</td></tr>",
                            "<tr><td>Hotel Három Hattyú</td><td>2016-05-28</td><td>2</td></tr>",
                            "<tr><td>Hotel Három Hattyú</td><td>2016-05-30</td><td>2</td></tr>",
                            "<tr><td>Hotel Három Hattyú</td><td>2016-05-30</td><td>2</td></tr>",
                            "<tr><td>Hotel Három Hattyú</td><td>2016-06-06</td><td>1</td></tr>",
                            "<tr><td>Hotel Három Hattyú</td><td>2016-06-07</td><td>2</td></tr>",
                            "<tr><td>Hotel Három Hattyú</td><td>2016-06-07</td><td>2</td></tr>",
                            "<tr><td>Hotel Három Hattyú</td><td>2016-06-10</td><td>1</td></tr>",
                            "<tr><td>Hotel Három Hattyú</td><td>2016-06-10</td><td>2</td></tr>",
                            "<tr><td>Hotel Három Hattyú</td><td>2016-06-12</td><td>2</td></tr>",
                            "<tr><td>Hotel Három Hattyú</td><td>2016-06-14</td><td>2</td></tr>",
                            "<tr><td>Hotel Három Hattyú</td><td>2016-06-16</td><td>2</td></tr>",
                            "<tr><td>Hotel Három Hattyú</td><td>2016-06-16</td><td>3</td></tr>",
                            "<tr><td>Hotel Három Hattyú</td><td>2016-06-16</td><td>2</td></tr>",
                            "<tr><td>Hotel Három Hattyú</td><td>2016-06-16</td><td>2</td></tr>",
                            "<tr><td>Hotel Három Hattyú</td><td>2016-06-19</td><td>2</td></tr>",
                            "<tr><td>Hotel Három Hattyú</td><td>2016-06-21</td><td>2</td></tr>",
                            "<tr><td>Hotel Három Hattyú</td><td>2016-06-29</td><td>2</td></tr>",
                            "<tr><td>Hotel Három Hattyú</td><td>2016-06-30</td><td>2</td></tr>",
                            "<tr><td>Hotel Három Hattyú</td><td>2016-07-01</td><td>2</td></tr>",
                            "<tr><td>Hotel Három Hattyú</td><td>2016-07-01</td><td>2</td></tr>",
                            "<tr><td>Hotel Három Hattyú</td><td>2016-07-03</td><td>2</td></tr>",
                            "<tr><td>Hotel Három Hattyú</td><td>2016-07-04</td><td>3</td></tr>",
                            "<tr><td>Hotel Három Hattyú</td><td>2016-07-07</td><td>3</td></tr>",
                            "<tr><td>Hotel Három Hattyú</td><td>2016-07-12</td><td>3</td></tr>",
                            "<tr><td>Hotel Három Hattyú</td><td>2016-07-13</td><td>3</td></tr>",
                            "<tr><td>Hotel Három Hattyú</td><td>2016-07-14</td><td>2</td></tr>",
                            "<tr><td>Hotel Három Hattyú</td><td>2016-07-18</td><td>2</td></tr>",
                            "<tr><td>Hotel Három Hattyú</td><td>2016-07-19</td><td>2</td></tr>",
                            "<tr><td>Hotel Három Hattyú</td><td>2016-07-20</td><td>1</td></tr>",
                            "<tr><td>Hotel Három Hattyú</td><td>2016-07-22</td><td>2</td></tr>",
                            "<tr><td>Hotel Három Hattyú</td><td>2016-07-23</td><td>2</td></tr>",
                            "<tr><td>Hotel Három Hattyú</td><td>2016-07-25</td><td>1</td></tr>",
                            "<tr><td>Hotel Három Hattyú</td><td>2016-07-26</td><td>1</td></tr>",
                            "<tr><td>Hotel Három Hattyú</td><td>2016-07-26</td><td>2</td></tr>",
                            "<tr><td>Hotel Három Hattyú</td><td>2016-07-27</td><td>2</td></tr>",
                            "<tr><td>Hotel Három Hattyú</td><td>2016-07-27</td><td>2</td></tr>",
                            "<tr><td>Hotel Három Hattyú</td><td>2016-07-27</td><td>2</td></tr>",
                            "<tr><td>Hotel Három Hattyú</td><td>2016-07-27</td><td>2</td></tr>",
                            "<tr><td>Hotel Három Hattyú</td><td>2016-07-27</td><td>3</td></tr>",
                            "<tr><td>Hotel Három Hattyú</td><td>2016-07-28</td><td>3</td></tr>",
                            "<tr><td>Hotel Három Hattyú</td><td>2016-07-28</td><td>2</td></tr>",
                            "<tr><td>Hotel Három Hattyú</td><td>2016-07-29</td><td>2</td></tr>",
                            "<tr><td>Hotel Három Hattyú</td><td>2016-07-30</td><td>2</td></tr>",
                            "<tr><td>Hotel Három Hattyú</td><td>2016-07-30</td><td>2</td></tr>",
                            "<tr><td>Hotel Három Hattyú</td><td>2016-08-04</td><td>2</td></tr>",
                            "<tr><td>Hotel Három Hattyú</td><td>2016-08-07</td><td>2</td></tr>",
                            "<tr><td>Hotel Három Hattyú</td><td>2016-08-14</td><td>2</td></tr>",
                            "<tr><td>Hotel Három Hattyú</td><td>2016-08-15</td><td>3</td></tr>",
                            "<tr><td>Hotel Három Hattyú</td><td>2016-08-16</td><td>2</td></tr>",
                            "<tr><td>Hotel Három Hattyú</td><td>2016-08-20</td><td>2</td></tr>",
                            "<tr><td>Hotel Három Hattyú</td><td>2016-08-21</td><td>2</td></tr>",
                            "<tr><td>Hotel Három Hattyú</td><td>2016-08-23</td><td>2</td></tr>",
                            "<tr><td>Hotel Három Hattyú</td><td>2016-08-23</td><td>2</td></tr>",
                            "<tr><td>Hotel Három Hattyú</td><td>2016-08-24</td><td>2</td></tr>",
                            "<tr><td>Hotel Három Hattyú</td><td>2016-08-26</td><td>2</td></tr>",
                            "<tr><td>Hotel Három Hattyú</td><td>2016-08-29</td><td>2</td></tr>",
                            "<tr><td>Hotel Három Hattyú</td><td>2016-08-29</td><td>2</td></tr>",
                            "<tr><td>Hotel Három Hattyú</td><td>2016-08-31</td><td>2</td></tr>",
                            "<tr><td>Hotel Három Hattyú</td><td>2016-09-05</td><td>2</td></tr>",
                            "<tr><td>Hotel Három Hattyú</td><td>2016-09-06</td><td>3</td></tr>",
                            "<tr><td>Hotel Három Hattyú</td><td>2016-09-08</td><td>2</td></tr>",
                            "<tr><td>Hotel Három Hattyú</td><td>2016-09-10</td><td>3</td></tr>",
                            "<tr><td>Hotel Három Hattyú</td><td>2016-09-13</td><td>3</td></tr>",
                            "<tr><td>Hotel Három Hattyú</td><td>2016-09-13</td><td>2</td></tr>",
                            "<tr><td>Hotel Három Hattyú</td><td>2016-09-13</td><td>2</td></tr>",
                            "<tr><td>Hotel Három Hattyú</td><td>2016-09-17</td><td>2</td></tr>",
                            "<tr><td>Hotel Három Hattyú</td><td>2016-09-20</td><td>2</td></tr>",
                            "<tr><td>Hotel Három Hattyú</td><td>2016-09-27</td><td>2</td></tr>",
                            "<tr><td>Hotel Három Hattyú</td><td>2016-09-28</td><td>2</td></tr>",
                            "<tr><td>Hotel Három Hattyú</td><td>2016-09-30</td><td>2</td></tr>",
                            "<tr><td>Hotel Három Hattyú</td><td>2016-10-01</td><td>2</td></tr>",
                            "<tr><td>Hotel Három Hattyú</td><td>2016-10-01</td><td>2</td></tr>",
                            "<tr><td>Hotel Három Hattyú</td><td>2016-10-01</td><td>2</td></tr>",
                            "<tr><td>Hotel Három Hattyú</td><td>2016-10-04</td><td>2</td></tr>",
                            "<tr><td>Hotel Három Hattyú</td><td>2016-10-06</td><td>2</td></tr>",
                            "<tr><td>Hotel Három Hattyú</td><td>2016-10-08</td><td>2</td></tr>",
                            "<tr><td>Hotel Három Hattyú</td><td>2016-10-08</td><td>2</td></tr>",
                            "<tr><td>Hotel Három Hattyú</td><td>2016-10-15</td><td>2</td></tr>",
                            "<tr><td>Hotel Három Hattyú</td><td>2016-10-17</td><td>2</td></tr>",
                            "<tr><td>Hotel Három Hattyú</td><td>2016-10-19</td><td>2</td></tr>",
                            "<tr><td>Hotel Három Hattyú</td><td>2016-10-20</td><td>1</td></tr>",
                            "<tr><td>Hotel Három Hattyú</td><td>2016-10-22</td><td>1</td></tr>",
                            "<tr><td>Hotel Három Hattyú</td><td>2016-10-26</td><td>1</td></tr>",
                            "<tr><td>Hotel Három Hattyú</td><td>2016-10-28</td><td>2</td></tr>",
                            "<tr><td>Hotel Három Hattyú</td><td>2016-10-28</td><td>1</td></tr>",
                            "<tr><td>Hotel Három Hattyú</td><td>2016-10-28</td><td>2</td></tr>",
                            "<tr><td>Hotel Három Hattyú</td><td>2016-10-29</td><td>2</td></tr>",
                            "<tr><td>Hotel Három Hattyú</td><td>2016-10-29</td><td>2</td></tr>",
                            "<tr><td>Hotel Három Hattyú</td><td>2016-10-30</td><td>3</td></tr>",
                            "<tr><td>Hotel Három Hattyú</td><td>2016-10-30</td><td>3</td></tr>",
                            "<tr><td>Hotel Három Hattyú</td><td>2016-10-30</td><td>3</td></tr>",
                            "<tr><td>Hotel Három Hattyú</td><td>2016-11-03</td><td>3</td></tr>",
                            "<tr><td>Hotel Három Hattyú</td><td>2016-11-04</td><td>2</td></tr>",
                            "<tr><td>Hotel Három Hattyú</td><td>2016-11-05</td><td>2</td></tr>",
                            "<tr><td>Hotel Három Hattyú</td><td>2016-11-05</td><td>2</td></tr>",
                            "<tr><td>Hotel Három Hattyú</td><td>2016-11-08</td><td>2</td></tr>",
                            "<tr><td>Hotel Három Hattyú</td><td>2016-11-10</td><td>2</td></tr>",
                            "<tr><td>Hotel Három Hattyú</td><td>2016-11-15</td><td>2</td></tr>",
                            "<tr><td>Hotel Három Hattyú</td><td>2016-11-16</td><td>2</td></tr>",
                            "<tr><td>Hotel Három Hattyú</td><td>2016-11-19</td><td>3</td></tr>",
                            "<tr><td>Hotel Három Hattyú</td><td>2016-11-19</td><td>2</td></tr>",
                            "<tr><td>Hotel Három Hattyú</td><td>2016-11-20</td><td>2</td></tr>",
                            "<tr><td>Hotel Három Hattyú</td><td>2016-11-22</td><td>2</td></tr>",
                            "<tr><td>Hotel Három Hattyú</td><td>2016-11-23</td><td>2</td></tr>",
                            "<tr><td>Hotel Három Hattyú</td><td>2016-11-24</td><td>2</td></tr>",
                            "<tr><td>Hotel Három Hattyú</td><td>2016-11-29</td><td>2</td></tr>",
                            "<tr><td>Hotel Három Hattyú</td><td>2016-11-29</td><td>2</td></tr>",
                            "<tr><td>Hotel Három Hattyú</td><td>2016-12-02</td><td>2</td></tr>",
                            "<tr><td>Hotel Három Hattyú</td><td>2016-12-03</td><td>2</td></tr>",
                            "<tr><td>Hotel Három Hattyú</td><td>2016-12-05</td><td>2</td></tr>",
                            "<tr><td>Hotel Három Hattyú</td><td>2016-12-07</td><td>2</td></tr>",
                            "<tr><td>Hotel Három Hattyú</td><td>2016-12-07</td><td>2</td></tr>",
                            "<tr><td>Hotel Három Hattyú</td><td>2016-12-07</td><td>2</td></tr>",
                            "<tr><td>Hotel Három Hattyú</td><td>2016-12-08</td><td>2</td></tr>",
                            "<tr><td>Hotel Három Hattyú</td><td>2016-12-13</td><td>3</td></tr>",
                            "<tr><td>Hotel Három Hattyú</td><td>2016-12-15</td><td>3</td></tr>",
                            "<tr><td>Hotel Három Hattyú</td><td>2016-12-17</td><td>3</td></tr>",
                            "<tr><td>Hotel Három Hattyú</td><td>2016-12-17</td><td>2</td></tr>",
                            "<tr><td>Hotel Három Hattyú</td><td>2016-12-17</td><td>2</td></tr>",
                            "<tr><td>Hotel Három Hattyú</td><td>2016-12-17</td><td>1</td></tr>",
                            "<tr><td>Hotel Három Hattyú</td><td>2016-12-18</td><td>1</td></tr>",
                            "<tr><td>Hotel Három Hattyú</td><td>2016-12-23</td><td>1</td></tr>",
                            "<tr><td>Hotel Három Hattyú</td><td>2016-12-25</td><td>1</td></tr>",
                            "<tr><td>Hotel Három Hattyú</td><td>2016-12-25</td><td>2</td></tr>",
                            "<tr><td>Hotel Három Hattyú</td><td>2016-12-25</td><td>2</td></tr>",
                            "<tr><td>Hotel Három Hattyú</td><td>2016-12-25</td><td>2</td></tr>",
                            "<tr><td>Hotel Három Hattyú</td><td>2016-12-25</td><td>3</td></tr>",
                            "<tr><td>Hotel Három Hattyú</td><td>2016-12-26</td><td>3</td></tr>",
                            "<tr><td>Hotel Három Hattyú</td><td>2016-12-28</td><td>2</td></tr>",
                            "<tr><td>Hotel Három Hattyú</td><td>2016-12-29</td><td>2</td></tr>",
                            "<tr><td>Hotel Három Hattyú</td><td>2016-12-31</td><td>2</td></tr>",
                            "<tr><td>Hotel Három Hattyú</td><td>2017-01-02</td><td>1</td></tr>",
                            "<tr><td>Hotel Három Hattyú</td><td>2017-01-03</td><td>1</td></tr>",
                            "<tr><td>Hotel Három Hattyú</td><td>2017-01-05</td><td>1</td></tr>",
                            "<tr><td>Hotel Három Hattyú</td><td>2017-01-07</td><td>2</td></tr>",
                            "<tr><td>Hotel Három Hattyú</td><td>2017-01-09</td><td>2</td></tr>",
                            "<tr><td>Hotel Három Hattyú</td><td>2017-01-14</td><td>2</td></tr>",
                            "<tr><td>Hotel Három Hattyú</td><td>2017-01-15</td><td>2</td></tr>",
                            "<tr><td>Hotel Három Hattyú</td><td>2017-01-16</td><td>2</td></tr>",
                            "<tr><td>Hotel Három Hattyú</td><td>2017-01-17</td><td>2</td></tr>",
                            "<tr><td>Hotel Három Hattyú</td><td>2017-01-18</td><td>2</td></tr>",
                            "<tr><td>Hotel Három Hattyú</td><td>2017-01-23</td><td>2</td></tr>",
                            "<tr><td>Hotel Három Hattyú</td><td>2017-01-24</td><td>3</td></tr>",
                            "<tr><td>Hotel Három Hattyú</td><td>2017-01-29</td><td>3</td></tr>",
                            "<tr><td>Hotel Három Hattyú</td><td>2017-01-29</td><td>2</td></tr>",
                            "<tr><td>Hotel Három Hattyú</td><td>2017-01-30</td><td>2</td></tr>",
                            "<tr><td>Hotel Három Hattyú</td><td>2017-01-30</td><td>3</td></tr>",
                            "<tr><td>Hotel Három Hattyú</td><td>2017-01-31</td><td>2</td></tr>",
                            "<tr><td>Hotel Három Hattyú</td><td>2017-02-01</td><td>2</td></tr>",
                            "<tr><td>Hotel Három Hattyú</td><td>2017-02-02</td><td>2</td></tr>",
                            "<tr><td>Hotel Három Hattyú</td><td>2017-02-04</td><td>2</td></tr>",
                            "<tr><td>Hotel Három Hattyú</td><td>2017-02-04</td><td>2</td></tr>",
                            "<tr><td>Hotel Három Hattyú</td><td>2017-02-04</td><td>2</td></tr>",
                            "<tr><td>Hotel Három Hattyú</td><td>2017-02-05</td><td>3</td></tr>",
                            "<tr><td>Hotel Három Hattyú</td><td>2017-02-05</td><td>3</td></tr>",
                            "<tr><td>Hotel Három Hattyú</td><td>2017-02-05</td><td>3</td></tr>",
                            "<tr><td>Hotel Három Hattyú</td><td>2017-02-08</td><td>3</td></tr>",
                            "<tr><td>Hotel Három Hattyú</td><td>2017-02-08</td><td>3</td></tr>",
                            "<tr><td>Hotel Három Hattyú</td><td>2017-02-10</td><td>3</td></tr>",
                            "<tr><td>Hotel Három Hattyú</td><td>2017-02-12</td><td>2</td></tr>",
                            "<tr><td>Hotel Három Hattyú</td><td>2017-02-12</td><td>2</td></tr>",
                            "<tr><td>Hotel Három Hattyú</td><td>2017-02-12</td><td>2</td></tr>",
                            "<tr><td>Hotel Három Hattyú</td><td>2017-02-13</td><td>2</td></tr>",
                            "<tr><td>Hotel Három Hattyú</td><td>2017-02-13</td><td>2</td></tr>",
                            "<tr><td>Hotel Három Hattyú</td><td>2017-02-13</td><td>2</td></tr>",
                            "<tr><td>Hotel Három Hattyú</td><td>2017-02-13</td><td>2</td></tr>",
                            "<tr><td>Hotel Három Hattyú</td><td>2017-02-14</td><td>2</td></tr>",
                            "<tr><td>Hotel Három Hattyú</td><td>2017-02-16</td><td>2</td></tr>",
                            "<tr><td>Hotel Három Hattyú</td><td>2017-02-16</td><td>2</td></tr>",
                            "<tr><td>Hotel Három Hattyú</td><td>2017-02-20</td><td>2</td></tr>",
                            "<tr><td>Hotel Három Hattyú</td><td>2017-02-20</td><td>2</td></tr>",
                            "<tr><td>Hotel Három Hattyú</td><td>2017-02-23</td><td>2</td></tr>",
                            "<tr><td>Hotel Három Hattyú</td><td>2017-02-23</td><td>2</td></tr>",
                            "<tr><td>Hotel Három Hattyú</td><td>2017-02-24</td><td>2</td></tr>",
                            "<tr><td>Hotel Három Hattyú</td><td>2017-02-24</td><td>2</td></tr>",
                            "<tr><td>Hotel Három Hattyú</td><td>2017-02-26</td><td>2</td></tr>",
                            "<tr><td>Hotel Három Hattyú</td><td>2017-02-28</td><td>2</td></tr>",
                            "<tr><td>Hotel Három Hattyú</td><td>2017-03-03</td><td>2</td></tr>",
                            "<tr><td>Jáde panzió</td><td>2016-04-06</td><td>NULL</td></tr>",
                            "<tr><td>Jáde panzió</td><td>2016-04-14</td><td>2</td></tr>",
                            "<tr><td>Jáde panzió</td><td>2016-05-01</td><td>2</td></tr>",
                            "<tr><td>Jáde panzió</td><td>2016-05-04</td><td>2</td></tr>",
                            "<tr><td>Jáde panzió</td><td>2016-05-18</td><td>2</td></tr>",
                            "<tr><td>Jáde panzió</td><td>2016-05-30</td><td>2</td></tr>",
                            "<tr><td>Jáde panzió</td><td>2016-06-06</td><td>1</td></tr>",
                            "<tr><td>Jáde panzió</td><td>2016-06-06</td><td>2</td></tr>",
                            "<tr><td>Jáde panzió</td><td>2016-06-27</td><td>2</td></tr>",
                            "<tr><td>Jáde panzió</td><td>2016-07-01</td><td>2</td></tr>",
                            "<tr><td>Jáde panzió</td><td>2016-07-03</td><td>2</td></tr>",
                            "<tr><td>Jáde panzió</td><td>2016-07-11</td><td>2</td></tr>",
                            "<tr><td>Jáde panzió</td><td>2016-08-06</td><td>2</td></tr>",
                            "<tr><td>Jáde panzió</td><td>2016-08-15</td><td>2</td></tr>",
                            "<tr><td>Jáde panzió</td><td>2016-09-09</td><td>2</td></tr>",
                            "<tr><td>Jáde panzió</td><td>2016-09-12</td><td>2</td></tr>",
                            "<tr><td>Jáde panzió</td><td>2016-09-30</td><td>2</td></tr>",
                            "<tr><td>Jáde panzió</td><td>2016-10-01</td><td>2</td></tr>",
                            "<tr><td>Jáde panzió</td><td>2016-10-12</td><td>2</td></tr>",
                            "<tr><td>Jáde panzió</td><td>2016-10-22</td><td>2</td></tr>",
                            "<tr><td>Jáde panzió</td><td>2016-10-30</td><td>3</td></tr>",
                            "<tr><td>Jáde panzió</td><td>2016-11-22</td><td>2</td></tr>",
                            "<tr><td>Jáde panzió</td><td>2016-11-22</td><td>2</td></tr>",
                            "<tr><td>Jáde panzió</td><td>2016-12-15</td><td>2</td></tr>",
                            "<tr><td>Jáde panzió</td><td>2017-01-01</td><td>2</td></tr>",
                            "<tr><td>Jáde panzió</td><td>2017-01-25</td><td>2</td></tr>",
                            "<tr><td>Jáde panzió</td><td>2017-01-26</td><td>2</td></tr>",
                            "<tr><td>Jáde panzió</td><td>2017-02-12</td><td>2</td></tr>",
                            "<tr><td>Jáde panzió</td><td>2017-02-15</td><td>2</td></tr>",
                            "<tr><td>Kentaur Hotel</td><td>2016-04-07</td><td>NULL</td></tr>",
                            "<tr><td>Kentaur Hotel</td><td>2016-04-10</td><td>4</td></tr>",
                            "<tr><td>Kentaur Hotel</td><td>2016-04-10</td><td>3</td></tr>",
                            "<tr><td>Kentaur Hotel</td><td>2016-04-16</td><td>2</td></tr>",
                            "<tr><td>Kentaur Hotel</td><td>2016-04-17</td><td>2</td></tr>",
                            "<tr><td>Kentaur Hotel</td><td>2016-04-21</td><td>2</td></tr>",
                            "<tr><td>Kentaur Hotel</td><td>2016-04-22</td><td>2</td></tr>",
                            "<tr><td>Kentaur Hotel</td><td>2016-05-07</td><td>2</td></tr>",
                            "<tr><td>Kentaur Hotel</td><td>2016-05-08</td><td>2</td></tr>",
                            "<tr><td>Kentaur Hotel</td><td>2016-05-12</td><td>2</td></tr>",
                            "<tr><td>Kentaur Hotel</td><td>2016-05-13</td><td>2</td></tr>",
                            "<tr><td>Kentaur Hotel</td><td>2016-05-14</td><td>1</td></tr>",
                            "<tr><td>Kentaur Hotel</td><td>2016-05-14</td><td>2</td></tr>",
                            "<tr><td>Kentaur Hotel</td><td>2016-05-17</td><td>2</td></tr>",
                            "<tr><td>Kentaur Hotel</td><td>2016-05-24</td><td>2</td></tr>",
                            "<tr><td>Kentaur Hotel</td><td>2016-05-27</td><td>2</td></tr>",
                            "<tr><td>Kentaur Hotel</td><td>2016-05-27</td><td>2</td></tr>",
                            "<tr><td>Kentaur Hotel</td><td>2016-05-28</td><td>2</td></tr>",
                            "<tr><td>Kentaur Hotel</td><td>2016-05-28</td><td>2</td></tr>",
                            "<tr><td>Kentaur Hotel</td><td>2016-05-29</td><td>2</td></tr>",
                            "<tr><td>Kentaur Hotel</td><td>2016-05-30</td><td>2</td></tr>",
                            "<tr><td>Kentaur Hotel</td><td>2016-05-30</td><td>2</td></tr>",
                            "<tr><td>Kentaur Hotel</td><td>2016-05-30</td><td>2</td></tr>",
                            "<tr><td>Kentaur Hotel</td><td>2016-05-30</td><td>2</td></tr>",
                            "<tr><td>Kentaur Hotel</td><td>2016-05-30</td><td>2</td></tr>",
                            "<tr><td>Kentaur Hotel</td><td>2016-05-31</td><td>2</td></tr>",
                            "<tr><td>Kentaur Hotel</td><td>2016-06-01</td><td>2</td></tr>",
                            "<tr><td>Kentaur Hotel</td><td>2016-06-02</td><td>2</td></tr>",
                            "<tr><td>Kentaur Hotel</td><td>2016-06-02</td><td>2</td></tr>",
                            "<tr><td>Kentaur Hotel</td><td>2016-06-04</td><td>2</td></tr>",
                            "<tr><td>Kentaur Hotel</td><td>2016-06-07</td><td>2</td></tr>",
                            "<tr><td>Kentaur Hotel</td><td>2016-06-08</td><td>1</td></tr>",
                            "<tr><td>Kentaur Hotel</td><td>2016-06-08</td><td>1</td></tr>",
                            "<tr><td>Kentaur Hotel</td><td>2016-06-09</td><td>1</td></tr>",
                            "<tr><td>Kentaur Hotel</td><td>2016-06-09</td><td>1</td></tr>",
                            "<tr><td>Kentaur Hotel</td><td>2016-06-10</td><td>2</td></tr>",
                            "<tr><td>Kentaur Hotel</td><td>2016-06-13</td><td>2</td></tr>",
                            "<tr><td>Kentaur Hotel</td><td>2016-06-16</td><td>2</td></tr>",
                            "<tr><td>Kentaur Hotel</td><td>2016-06-16</td><td>2</td></tr>",
                            "<tr><td>Kentaur Hotel</td><td>2016-06-22</td><td>2</td></tr>",
                            "<tr><td>Kentaur Hotel</td><td>2016-06-23</td><td>2</td></tr>",
                            "<tr><td>Kentaur Hotel</td><td>2016-06-23</td><td>2</td></tr>",
                            "<tr><td>Kentaur Hotel</td><td>2016-06-26</td><td>2</td></tr>",
                            "<tr><td>Kentaur Hotel</td><td>2016-06-30</td><td>2</td></tr>",
                            "<tr><td>Kentaur Hotel</td><td>2016-07-01</td><td>2</td></tr>",
                            "<tr><td>Kentaur Hotel</td><td>2016-07-01</td><td>2</td></tr>",
                            "<tr><td>Kentaur Hotel</td><td>2016-07-03</td><td>2</td></tr>",
                            "<tr><td>Kentaur Hotel</td><td>2016-07-04</td><td>1</td></tr>",
                            "<tr><td>Kentaur Hotel</td><td>2016-07-06</td><td>2</td></tr>",
                            "<tr><td>Kentaur Hotel</td><td>2016-07-12</td><td>1</td></tr>",
                            "<tr><td>Kentaur Hotel</td><td>2016-07-13</td><td>2</td></tr>",
                            "<tr><td>Kentaur Hotel</td><td>2016-07-14</td><td>2</td></tr>",
                            "<tr><td>Kentaur Hotel</td><td>2016-07-15</td><td>3</td></tr>",
                            "<tr><td>Kentaur Hotel</td><td>2016-07-16</td><td>3</td></tr>",
                            "<tr><td>Kentaur Hotel</td><td>2016-07-18</td><td>3</td></tr>",
                            "<tr><td>Kentaur Hotel</td><td>2016-07-18</td><td>2</td></tr>",
                            "<tr><td>Kentaur Hotel</td><td>2016-07-20</td><td>2</td></tr>",
                            "<tr><td>Kentaur Hotel</td><td>2016-07-20</td><td>2</td></tr>",
                            "<tr><td>Kentaur Hotel</td><td>2016-07-21</td><td>2</td></tr>",
                            "<tr><td>Kentaur Hotel</td><td>2016-07-21</td><td>2</td></tr>",
                            "<tr><td>Kentaur Hotel</td><td>2016-07-22</td><td>2</td></tr>",
                            "<tr><td>Kentaur Hotel</td><td>2016-07-24</td><td>2</td></tr>",
                            "<tr><td>Kentaur Hotel</td><td>2016-07-25</td><td>2</td></tr>",
                            "<tr><td>Kentaur Hotel</td><td>2016-07-27</td><td>2</td></tr>",
                            "<tr><td>Kentaur Hotel</td><td>2016-07-28</td><td>2</td></tr>",
                            "<tr><td>Kentaur Hotel</td><td>2016-07-29</td><td>3</td></tr>",
                            "<tr><td>Kentaur Hotel</td><td>2016-08-05</td><td>3</td></tr>",
                            "<tr><td>Kentaur Hotel</td><td>2016-08-12</td><td>3</td></tr>",
                            "<tr><td>Kentaur Hotel</td><td>2016-08-12</td><td>2</td></tr>",
                            "<tr><td>Kentaur Hotel</td><td>2016-08-16</td><td>2</td></tr>",
                            "<tr><td>Kentaur Hotel</td><td>2016-08-18</td><td>2</td></tr>",
                            "<tr><td>Kentaur Hotel</td><td>2016-08-18</td><td>2</td></tr>",
                            "<tr><td>Kentaur Hotel</td><td>2016-08-23</td><td>2</td></tr>",
                            "<tr><td>Kentaur Hotel</td><td>2016-08-24</td><td>2</td></tr>",
                            "<tr><td>Kentaur Hotel</td><td>2016-08-24</td><td>2</td></tr>",
                            "<tr><td>Kentaur Hotel</td><td>2016-08-24</td><td>2</td></tr>",
                            "<tr><td>Kentaur Hotel</td><td>2016-08-28</td><td>2</td></tr>",
                            "<tr><td>Kentaur Hotel</td><td>2016-08-29</td><td>2</td></tr>",
                            "<tr><td>Kentaur Hotel</td><td>2016-09-02</td><td>2</td></tr>",
                            "<tr><td>Kentaur Hotel</td><td>2016-09-03</td><td>2</td></tr>",
                            "<tr><td>Kentaur Hotel</td><td>2016-09-15</td><td>2</td></tr>",
                            "<tr><td>Kentaur Hotel</td><td>2016-09-15</td><td>2</td></tr>",
                            "<tr><td>Kentaur Hotel</td><td>2016-09-18</td><td>2</td></tr>",
                            "<tr><td>Kentaur Hotel</td><td>2016-09-20</td><td>2</td></tr>",
                            "<tr><td>Kentaur Hotel</td><td>2016-09-25</td><td>2</td></tr>",
                            "<tr><td>Kentaur Hotel</td><td>2016-09-26</td><td>2</td></tr>",
                            "<tr><td>Kentaur Hotel</td><td>2016-09-28</td><td>2</td></tr>",
                            "<tr><td>Kentaur Hotel</td><td>2016-09-28</td><td>2</td></tr>",
                            "<tr><td>Kentaur Hotel</td><td>2016-09-30</td><td>2</td></tr>",
                            "<tr><td>Kentaur Hotel</td><td>2016-09-30</td><td>2</td></tr>",
                            "<tr><td>Kentaur Hotel</td><td>2016-09-30</td><td>2</td></tr>",
                            "<tr><td>Kentaur Hotel</td><td>2016-10-01</td><td>2</td></tr>",
                            "<tr><td>Kentaur Hotel</td><td>2016-10-01</td><td>2</td></tr>",
                            "<tr><td>Kentaur Hotel</td><td>2016-10-04</td><td>2</td></tr>",
                            "<tr><td>Kentaur Hotel</td><td>2016-10-05</td><td>2</td></tr>",
                            "<tr><td>Kentaur Hotel</td><td>2016-10-07</td><td>2</td></tr>",
                            "<tr><td>Kentaur Hotel</td><td>2016-10-11</td><td>2</td></tr>",
                            "<tr><td>Kentaur Hotel</td><td>2016-10-16</td><td>2</td></tr>",
                            "<tr><td>Kentaur Hotel</td><td>2016-10-17</td><td>2</td></tr>",
                            "<tr><td>Kentaur Hotel</td><td>2016-10-19</td><td>2</td></tr>",
                            "<tr><td>Kentaur Hotel</td><td>2016-10-20</td><td>2</td></tr>",
                            "<tr><td>Kentaur Hotel</td><td>2016-10-22</td><td>2</td></tr>",
                            "<tr><td>Kentaur Hotel</td><td>2016-10-23</td><td>2</td></tr>",
                            "<tr><td>Kentaur Hotel</td><td>2016-10-25</td><td>2</td></tr>",
                            "<tr><td>Kentaur Hotel</td><td>2016-10-26</td><td>2</td></tr>",
                            "<tr><td>Kentaur Hotel</td><td>2016-10-28</td><td>2</td></tr>",
                            "<tr><td>Kentaur Hotel</td><td>2016-10-29</td><td>2</td></tr>",
                            "<tr><td>Kentaur Hotel</td><td>2016-10-30</td><td>2</td></tr>",
                            "<tr><td>Kentaur Hotel</td><td>2016-10-30</td><td>2</td></tr>",
                            "<tr><td>Kentaur Hotel</td><td>2016-10-30</td><td>1</td></tr>",
                            "<tr><td>Kentaur Hotel</td><td>2016-10-30</td><td>2</td></tr>",
                            "<tr><td>Kentaur Hotel</td><td>2016-10-31</td><td>2</td></tr>",
                            "<tr><td>Kentaur Hotel</td><td>2016-11-01</td><td>2</td></tr>",
                            "<tr><td>Kentaur Hotel</td><td>2016-11-03</td><td>2</td></tr>",
                            "<tr><td>Kentaur Hotel</td><td>2016-11-05</td><td>2</td></tr>",
                            "<tr><td>Kentaur Hotel</td><td>2016-11-06</td><td>3</td></tr>",
                            "<tr><td>Kentaur Hotel</td><td>2016-11-07</td><td>2</td></tr>",
                            "<tr><td>Kentaur Hotel</td><td>2016-11-07</td><td>2</td></tr>",
                            "<tr><td>Kentaur Hotel</td><td>2016-11-08</td><td>2</td></tr>",
                            "<tr><td>Kentaur Hotel</td><td>2016-11-09</td><td>2</td></tr>",
                            "<tr><td>Kentaur Hotel</td><td>2016-11-10</td><td>2</td></tr>",
                            "<tr><td>Kentaur Hotel</td><td>2016-11-12</td><td>2</td></tr>",
                            "<tr><td>Kentaur Hotel</td><td>2016-11-14</td><td>2</td></tr>",
                            "<tr><td>Kentaur Hotel</td><td>2016-11-15</td><td>2</td></tr>",
                            "<tr><td>Kentaur Hotel</td><td>2016-11-16</td><td>2</td></tr>",
                            "<tr><td>Kentaur Hotel</td><td>2016-11-17</td><td>2</td></tr>",
                            "<tr><td>Kentaur Hotel</td><td>2016-11-19</td><td>2</td></tr>",
                            "<tr><td>Kentaur Hotel</td><td>2016-11-23</td><td>2</td></tr>",
                            "<tr><td>Kentaur Hotel</td><td>2016-11-25</td><td>2</td></tr>",
                            "<tr><td>Kentaur Hotel</td><td>2016-11-26</td><td>2</td></tr>",
                            "<tr><td>Kentaur Hotel</td><td>2016-11-27</td><td>2</td></tr>",
                            "<tr><td>Kentaur Hotel</td><td>2016-11-27</td><td>2</td></tr>",
                            "<tr><td>Kentaur Hotel</td><td>2016-11-28</td><td>3</td></tr>",
                            "<tr><td>Kentaur Hotel</td><td>2016-11-28</td><td>3</td></tr>",
                            "<tr><td>Kentaur Hotel</td><td>2016-11-29</td><td>3</td></tr>",
                            "<tr><td>Kentaur Hotel</td><td>2016-11-30</td><td>2</td></tr>",
                            "<tr><td>Kentaur Hotel</td><td>2016-12-04</td><td>2</td></tr>",
                            "<tr><td>Kentaur Hotel</td><td>2016-12-05</td><td>2</td></tr>",
                            "<tr><td>Kentaur Hotel</td><td>2016-12-06</td><td>2</td></tr>",
                            "<tr><td>Kentaur Hotel</td><td>2016-12-15</td><td>2</td></tr>",
                            "<tr><td>Kentaur Hotel</td><td>2016-12-16</td><td>2</td></tr>",
                            "<tr><td>Kentaur Hotel</td><td>2016-12-17</td><td>2</td></tr>",
                            "<tr><td>Kentaur Hotel</td><td>2016-12-17</td><td>1</td></tr>",
                            "<tr><td>Kentaur Hotel</td><td>2016-12-19</td><td>1</td></tr>",
                            "<tr><td>Kentaur Hotel</td><td>2016-12-22</td><td>1</td></tr>",
                            "<tr><td>Kentaur Hotel</td><td>2016-12-22</td><td>1</td></tr>",
                            "<tr><td>Kentaur Hotel</td><td>2016-12-24</td><td>1</td></tr>",
                            "<tr><td>Kentaur Hotel</td><td>2016-12-25</td><td>2</td></tr>",
                            "<tr><td>Kentaur Hotel</td><td>2016-12-25</td><td>1</td></tr>",
                            "<tr><td>Kentaur Hotel</td><td>2016-12-29</td><td>1</td></tr>",
                            "<tr><td>Kentaur Hotel</td><td>2017-01-01</td><td>2</td></tr>",
                            "<tr><td>Kentaur Hotel</td><td>2017-01-09</td><td>2</td></tr>",
                            "<tr><td>Kentaur Hotel</td><td>2017-01-10</td><td>2</td></tr>",
                            "<tr><td>Kentaur Hotel</td><td>2017-01-15</td><td>2</td></tr>",
                            "<tr><td>Kentaur Hotel</td><td>2017-01-16</td><td>2</td></tr>",
                            "<tr><td>Kentaur Hotel</td><td>2017-01-16</td><td>2</td></tr>",
                            "<tr><td>Kentaur Hotel</td><td>2017-01-16</td><td>2</td></tr>",
                            "<tr><td>Kentaur Hotel</td><td>2017-01-17</td><td>2</td></tr>",
                            "<tr><td>Kentaur Hotel</td><td>2017-01-19</td><td>2</td></tr>",
                            "<tr><td>Kentaur Hotel</td><td>2017-01-19</td><td>1</td></tr>",
                            "<tr><td>Kentaur Hotel</td><td>2017-01-22</td><td>2</td></tr>",
                            "<tr><td>Kentaur Hotel</td><td>2017-01-22</td><td>2</td></tr>",
                            "<tr><td>Kentaur Hotel</td><td>2017-01-22</td><td>2</td></tr>",
                            "<tr><td>Kentaur Hotel</td><td>2017-01-22</td><td>2</td></tr>",
                            "<tr><td>Kentaur Hotel</td><td>2017-01-28</td><td>1</td></tr>",
                            "<tr><td>Kentaur Hotel</td><td>2017-02-04</td><td>1</td></tr>",
                            "<tr><td>Kentaur Hotel</td><td>2017-02-06</td><td>1</td></tr>",
                            "<tr><td>Kentaur Hotel</td><td>2017-02-06</td><td>1</td></tr>",
                            "<tr><td>Kentaur Hotel</td><td>2017-02-08</td><td>1</td></tr>",
                            "<tr><td>Kentaur Hotel</td><td>2017-02-12</td><td>2</td></tr>",
                            "<tr><td>Kentaur Hotel</td><td>2017-02-14</td><td>2</td></tr>",
                            "<tr><td>Kentaur Hotel</td><td>2017-02-18</td><td>2</td></tr>",
                            "<tr><td>Kentaur Hotel</td><td>2017-02-21</td><td>2</td></tr>",
                            "<tr><td>Kentaur Hotel</td><td>2017-02-23</td><td>3</td></tr>",
                            "<tr><td>Kentaur Hotel</td><td>2017-02-26</td><td>2</td></tr>",
                            "<tr><td>Kentaur Hotel</td><td>2017-02-27</td><td>2</td></tr>",
                            "<tr><td>Kentaur Hotel</td><td>2017-03-01</td><td>2</td></tr>",
                            "<tr><td>Kentaur Hotel</td><td>2017-03-02</td><td>2</td></tr>",
                            "<tr><td>Kentaur Hotel</td><td>2017-03-03</td><td>2</td></tr>",
                            "<tr><td>Lagúna Hotel</td><td>2016-04-08</td><td>NULL</td></tr>",
                            "<tr><td>Lagúna Hotel</td><td>2016-04-10</td><td>2</td></tr>",
                            "<tr><td>Lagúna Hotel</td><td>2016-04-12</td><td>3</td></tr>",
                            "<tr><td>Lagúna Hotel</td><td>2016-04-14</td><td>3</td></tr>",
                            "<tr><td>Lagúna Hotel</td><td>2016-04-15</td><td>2</td></tr>",
                            "<tr><td>Lagúna Hotel</td><td>2016-04-16</td><td>2</td></tr>",
                            "<tr><td>Lagúna Hotel</td><td>2016-04-17</td><td>2</td></tr>",
                            "<tr><td>Lagúna Hotel</td><td>2016-04-19</td><td>2</td></tr>",
                            "<tr><td>Lagúna Hotel</td><td>2016-04-20</td><td>2</td></tr>",
                            "<tr><td>Lagúna Hotel</td><td>2016-04-22</td><td>2</td></tr>",
                            "<tr><td>Lagúna Hotel</td><td>2016-05-13</td><td>2</td></tr>",
                            "<tr><td>Lagúna Hotel</td><td>2016-05-16</td><td>2</td></tr>",
                            "<tr><td>Lagúna Hotel</td><td>2016-05-17</td><td>2</td></tr>",
                            "<tr><td>Lagúna Hotel</td><td>2016-05-18</td><td>2</td></tr>",
                            "<tr><td>Lagúna Hotel</td><td>2016-05-20</td><td>1</td></tr>",
                            "<tr><td>Lagúna Hotel</td><td>2016-05-21</td><td>1</td></tr>",
                            "<tr><td>Lagúna Hotel</td><td>2016-06-02</td><td>1</td></tr>",
                            "<tr><td>Lagúna Hotel</td><td>2016-06-03</td><td>1</td></tr>",
                            "<tr><td>Lagúna Hotel</td><td>2016-06-05</td><td>1</td></tr>",
                            "<tr><td>Lagúna Hotel</td><td>2016-06-05</td><td>1</td></tr>",
                            "<tr><td>Lagúna Hotel</td><td>2016-06-06</td><td>1</td></tr>",
                            "<tr><td>Lagúna Hotel</td><td>2016-06-13</td><td>2</td></tr>",
                            "<tr><td>Lagúna Hotel</td><td>2016-06-16</td><td>2</td></tr>",
                            "<tr><td>Lagúna Hotel</td><td>2016-06-17</td><td>2</td></tr>",
                            "<tr><td>Lagúna Hotel</td><td>2016-06-23</td><td>2</td></tr>",
                            "<tr><td>Lagúna Hotel</td><td>2016-07-06</td><td>2</td></tr>",
                            "<tr><td>Lagúna Hotel</td><td>2016-07-12</td><td>2</td></tr>",
                            "<tr><td>Lagúna Hotel</td><td>2016-07-13</td><td>2</td></tr>",
                            "<tr><td>Lagúna Hotel</td><td>2016-07-17</td><td>2</td></tr>",
                            "<tr><td>Lagúna Hotel</td><td>2016-07-20</td><td>1</td></tr>",
                            "<tr><td>Lagúna Hotel</td><td>2016-07-22</td><td>2</td></tr>",
                            "<tr><td>Lagúna Hotel</td><td>2016-07-27</td><td>2</td></tr>",
                            "<tr><td>Lagúna Hotel</td><td>2016-07-28</td><td>2</td></tr>",
                            "<tr><td>Lagúna Hotel</td><td>2016-07-28</td><td>2</td></tr>",
                            "<tr><td>Lagúna Hotel</td><td>2016-08-01</td><td>2</td></tr>",
                            "<tr><td>Lagúna Hotel</td><td>2016-08-03</td><td>2</td></tr>",
                            "<tr><td>Lagúna Hotel</td><td>2016-08-06</td><td>1</td></tr>",
                            "<tr><td>Lagúna Hotel</td><td>2016-08-09</td><td>1</td></tr>",
                            "<tr><td>Lagúna Hotel</td><td>2016-08-12</td><td>1</td></tr>",
                            "<tr><td>Lagúna Hotel</td><td>2016-08-12</td><td>2</td></tr>",
                            "<tr><td>Lagúna Hotel</td><td>2016-08-16</td><td>2</td></tr>",
                            "<tr><td>Lagúna Hotel</td><td>2016-08-16</td><td>2</td></tr>",
                            "<tr><td>Lagúna Hotel</td><td>2016-08-16</td><td>2</td></tr>",
                            "<tr><td>Lagúna Hotel</td><td>2016-08-17</td><td>2</td></tr>",
                            "<tr><td>Lagúna Hotel</td><td>2016-08-20</td><td>2</td></tr>",
                            "<tr><td>Lagúna Hotel</td><td>2016-08-23</td><td>2</td></tr>",
                            "<tr><td>Lagúna Hotel</td><td>2016-08-23</td><td>2</td></tr>",
                            "<tr><td>Lagúna Hotel</td><td>2016-08-25</td><td>2</td></tr>",
                            "<tr><td>Lagúna Hotel</td><td>2016-08-28</td><td>2</td></tr>",
                            "<tr><td>Lagúna Hotel</td><td>2016-08-29</td><td>2</td></tr>",
                            "<tr><td>Lagúna Hotel</td><td>2016-08-30</td><td>2</td></tr>",
                            "<tr><td>Lagúna Hotel</td><td>2016-09-01</td><td>2</td></tr>",
                            "<tr><td>Lagúna Hotel</td><td>2016-09-05</td><td>2</td></tr>",
                            "<tr><td>Lagúna Hotel</td><td>2016-09-05</td><td>2</td></tr>",
                            "<tr><td>Lagúna Hotel</td><td>2016-09-10</td><td>2</td></tr>",
                            "<tr><td>Lagúna Hotel</td><td>2016-09-12</td><td>2</td></tr>",
                            "<tr><td>Lagúna Hotel</td><td>2016-09-13</td><td>2</td></tr>",
                            "<tr><td>Lagúna Hotel</td><td>2016-09-16</td><td>2</td></tr>",
                            "<tr><td>Lagúna Hotel</td><td>2016-09-17</td><td>2</td></tr>",
                            "<tr><td>Lagúna Hotel</td><td>2016-09-18</td><td>2</td></tr>",
                            "<tr><td>Lagúna Hotel</td><td>2016-09-23</td><td>2</td></tr>",
                            "<tr><td>Lagúna Hotel</td><td>2016-09-29</td><td>2</td></tr>",
                            "<tr><td>Lagúna Hotel</td><td>2016-10-01</td><td>2</td></tr>",
                            "<tr><td>Lagúna Hotel</td><td>2016-10-01</td><td>2</td></tr>",
                            "<tr><td>Lagúna Hotel</td><td>2016-10-01</td><td>3</td></tr>",
                            "<tr><td>Lagúna Hotel</td><td>2016-10-01</td><td>2</td></tr>",
                            "<tr><td>Lagúna Hotel</td><td>2016-10-02</td><td>2</td></tr>",
                            "<tr><td>Lagúna Hotel</td><td>2016-10-03</td><td>2</td></tr>",
                            "<tr><td>Lagúna Hotel</td><td>2016-10-04</td><td>2</td></tr>",
                            "<tr><td>Lagúna Hotel</td><td>2016-10-09</td><td>2</td></tr>",
                            "<tr><td>Lagúna Hotel</td><td>2016-10-10</td><td>2</td></tr>",
                            "<tr><td>Lagúna Hotel</td><td>2016-10-15</td><td>2</td></tr>",
                            "<tr><td>Lagúna Hotel</td><td>2016-10-15</td><td>2</td></tr>",
                            "<tr><td>Lagúna Hotel</td><td>2016-10-16</td><td>2</td></tr>",
                            "<tr><td>Lagúna Hotel</td><td>2016-10-19</td><td>2</td></tr>",
                            "<tr><td>Lagúna Hotel</td><td>2016-10-22</td><td>2</td></tr>",
                            "<tr><td>Lagúna Hotel</td><td>2016-10-26</td><td>1</td></tr>",
                            "<tr><td>Lagúna Hotel</td><td>2016-10-26</td><td>1</td></tr>",
                            "<tr><td>Lagúna Hotel</td><td>2016-10-26</td><td>2</td></tr>",
                            "<tr><td>Lagúna Hotel</td><td>2016-10-26</td><td>2</td></tr>",
                            "<tr><td>Lagúna Hotel</td><td>2016-10-26</td><td>2</td></tr>",
                            "<tr><td>Lagúna Hotel</td><td>2016-10-30</td><td>3</td></tr>",
                            "<tr><td>Lagúna Hotel</td><td>2016-11-03</td><td>3</td></tr>",
                            "<tr><td>Lagúna Hotel</td><td>2016-11-06</td><td>2</td></tr>",
                            "<tr><td>Lagúna Hotel</td><td>2016-11-06</td><td>2</td></tr>",
                            "<tr><td>Lagúna Hotel</td><td>2016-11-07</td><td>2</td></tr>",
                            "<tr><td>Lagúna Hotel</td><td>2016-11-07</td><td>2</td></tr>",
                            "<tr><td>Lagúna Hotel</td><td>2016-11-15</td><td>2</td></tr>",
                            "<tr><td>Lagúna Hotel</td><td>2016-11-16</td><td>2</td></tr>",
                            "<tr><td>Lagúna Hotel</td><td>2016-11-18</td><td>2</td></tr>",
                            "<tr><td>Lagúna Hotel</td><td>2016-11-19</td><td>2</td></tr>",
                            "<tr><td>Lagúna Hotel</td><td>2016-11-19</td><td>2</td></tr>",
                            "<tr><td>Lagúna Hotel</td><td>2016-11-23</td><td>2</td></tr>",
                            "<tr><td>Lagúna Hotel</td><td>2016-11-23</td><td>3</td></tr>",
                            "<tr><td>Lagúna Hotel</td><td>2016-12-02</td><td>3</td></tr>",
                            "<tr><td>Lagúna Hotel</td><td>2016-12-10</td><td>3</td></tr>",
                            "<tr><td>Lagúna Hotel</td><td>2016-12-11</td><td>3</td></tr>",
                            "<tr><td>Lagúna Hotel</td><td>2016-12-14</td><td>2</td></tr>",
                            "<tr><td>Lagúna Hotel</td><td>2016-12-17</td><td>2</td></tr>",
                            "<tr><td>Lagúna Hotel</td><td>2016-12-17</td><td>2</td></tr>",
                            "<tr><td>Lagúna Hotel</td><td>2016-12-17</td><td>3</td></tr>",
                            "<tr><td>Lagúna Hotel</td><td>2016-12-25</td><td>2</td></tr>",
                            "<tr><td>Lagúna Hotel</td><td>2016-12-27</td><td>3</td></tr>",
                            "<tr><td>Lagúna Hotel</td><td>2017-01-10</td><td>3</td></tr>",
                            "<tr><td>Lagúna Hotel</td><td>2017-01-11</td><td>2</td></tr>",
                            "<tr><td>Lagúna Hotel</td><td>2017-01-16</td><td>2</td></tr>",
                            "<tr><td>Lagúna Hotel</td><td>2017-01-17</td><td>2</td></tr>",
                            "<tr><td>Lagúna Hotel</td><td>2017-01-21</td><td>2</td></tr>",
                            "<tr><td>Lagúna Hotel</td><td>2017-01-22</td><td>2</td></tr>",
                            "<tr><td>Lagúna Hotel</td><td>2017-01-23</td><td>2</td></tr>",
                            "<tr><td>Lagúna Hotel</td><td>2017-01-23</td><td>2</td></tr>",
                            "<tr><td>Lagúna Hotel</td><td>2017-01-28</td><td>2</td></tr>",
                            "<tr><td>Lagúna Hotel</td><td>2017-02-03</td><td>2</td></tr>",
                            "<tr><td>Lagúna Hotel</td><td>2017-02-07</td><td>2</td></tr>",
                            "<tr><td>Lagúna Hotel</td><td>2017-02-09</td><td>2</td></tr>",
                            "<tr><td>Lagúna Hotel</td><td>2017-02-16</td><td>2</td></tr>",
                            "<tr><td>Lagúna Hotel</td><td>2017-02-16</td><td>2</td></tr>",
                            "<tr><td>Lagúna Hotel</td><td>2017-02-17</td><td>2</td></tr>",
                            "<tr><td>Lagúna Hotel</td><td>2017-02-19</td><td>2</td></tr>",
                            "<tr><td>Lagúna Hotel</td><td>2017-02-21</td><td>1</td></tr>",
                            "<tr><td>Lagúna Hotel</td><td>2017-02-23</td><td>1</td></tr>",
                            "<tr><td>Lagúna Hotel</td><td>2017-02-25</td><td>2</td></tr>",
                            "<tr><td>Lagúna Hotel</td><td>2017-02-27</td><td>2</td></tr>",
                            "<tr><td>Partiszél Vendégház</td><td>2016-04-10</td><td>NULL</td></tr>",
                            "<tr><td>Partiszél Vendégház</td><td>2016-04-24</td><td>2</td></tr>",
                            "<tr><td>Partiszél Vendégház</td><td>2016-05-09</td><td>2</td></tr>",
                            "<tr><td>Partiszél Vendégház</td><td>2016-05-12</td><td>2</td></tr>",
                            "<tr><td>Partiszél Vendégház</td><td>2016-05-18</td><td>2</td></tr>",
                            "<tr><td>Partiszél Vendégház</td><td>2016-06-06</td><td>2</td></tr>",
                            "<tr><td>Partiszél Vendégház</td><td>2016-06-06</td><td>2</td></tr>",
                            "<tr><td>Partiszél Vendégház</td><td>2016-06-07</td><td>2</td></tr>",
                            "<tr><td>Partiszél Vendégház</td><td>2016-06-07</td><td>2</td></tr>",
                            "<tr><td>Partiszél Vendégház</td><td>2016-06-10</td><td>2</td></tr>",
                            "<tr><td>Partiszél Vendégház</td><td>2016-07-04</td><td>2</td></tr>",
                            "<tr><td>Partiszél Vendégház</td><td>2016-07-27</td><td>2</td></tr>",
                            "<tr><td>Partiszél Vendégház</td><td>2016-07-31</td><td>2</td></tr>",
                            "<tr><td>Partiszél Vendégház</td><td>2016-08-16</td><td>2</td></tr>",
                            "<tr><td>Partiszél Vendégház</td><td>2016-09-19</td><td>2</td></tr>",
                            "<tr><td>Partiszél Vendégház</td><td>2016-09-23</td><td>2</td></tr>",
                            "<tr><td>Partiszél Vendégház</td><td>2016-10-01</td><td>2</td></tr>",
                            "<tr><td>Partiszél Vendégház</td><td>2016-10-24</td><td>2</td></tr>",
                            "<tr><td>Partiszél Vendégház</td><td>2016-10-27</td><td>2</td></tr>",
                            "<tr><td>Partiszél Vendégház</td><td>2016-11-08</td><td>2</td></tr>",
                            "<tr><td>Partiszél Vendégház</td><td>2016-11-16</td><td>2</td></tr>",
                            "<tr><td>Partiszél Vendégház</td><td>2016-11-19</td><td>2</td></tr>",
                            "<tr><td>Partiszél Vendégház</td><td>2016-12-26</td><td>2</td></tr>",
                            "<tr><td>Partiszél Vendégház</td><td>2017-02-01</td><td>2</td></tr>",
                            "<tr><td>Partiszél Vendégház</td><td>2017-02-23</td><td>2</td></tr>",
                            "<tr><td>Partiszél Vendégház</td><td>2017-02-25</td><td>2</td></tr>",
                            "<tr><td>Sába-Ház</td><td>2016-04-06</td><td>NULL</td></tr>",
                            "<tr><td>Sába-Ház</td><td>2016-04-06</td><td>2</td></tr>",
                            "<tr><td>Sába-Ház</td><td>2016-04-08</td><td>1</td></tr>",
                            "<tr><td>Sába-Ház</td><td>2016-04-10</td><td>1</td></tr>",
                            "<tr><td>Sába-Ház</td><td>2016-04-29</td><td>1</td></tr>",
                            "<tr><td>Sába-Ház</td><td>2016-05-05</td><td>1</td></tr>",
                            "<tr><td>Sába-Ház</td><td>2016-05-09</td><td>1</td></tr>",
                            "<tr><td>Sába-Ház</td><td>2016-05-17</td><td>2</td></tr>",
                            "<tr><td>Sába-Ház</td><td>2016-05-29</td><td>1</td></tr>",
                            "<tr><td>Sába-Ház</td><td>2016-05-30</td><td>1</td></tr>",
                            "<tr><td>Sába-Ház</td><td>2016-05-30</td><td>2</td></tr>",
                            "<tr><td>Sába-Ház</td><td>2016-06-06</td><td>2</td></tr>",
                            "<tr><td>Sába-Ház</td><td>2016-06-10</td><td>2</td></tr>",
                            "<tr><td>Sába-Ház</td><td>2016-06-10</td><td>2</td></tr>",
                            "<tr><td>Sába-Ház</td><td>2016-06-10</td><td>2</td></tr>",
                            "<tr><td>Sába-Ház</td><td>2016-06-11</td><td>2</td></tr>",
                            "<tr><td>Sába-Ház</td><td>2016-06-16</td><td>2</td></tr>",
                            "<tr><td>Sába-Ház</td><td>2016-06-17</td><td>1</td></tr>",
                            "<tr><td>Sába-Ház</td><td>2016-06-27</td><td>2</td></tr>",
                            "<tr><td>Sába-Ház</td><td>2016-07-02</td><td>1</td></tr>",
                            "<tr><td>Sába-Ház</td><td>2016-07-09</td><td>1</td></tr>",
                            "<tr><td>Sába-Ház</td><td>2016-07-13</td><td>1</td></tr>",
                            "<tr><td>Sába-Ház</td><td>2016-07-20</td><td>2</td></tr>",
                            "<tr><td>Sába-Ház</td><td>2016-07-20</td><td>2</td></tr>",
                            "<tr><td>Sába-Ház</td><td>2016-07-30</td><td>2</td></tr>",
                            "<tr><td>Sába-Ház</td><td>2016-08-06</td><td>2</td></tr>",
                            "<tr><td>Sába-Ház</td><td>2016-08-12</td><td>2</td></tr>",
                            "<tr><td>Sába-Ház</td><td>2016-08-13</td><td>2</td></tr>",
                            "<tr><td>Sába-Ház</td><td>2016-08-16</td><td>2</td></tr>",
                            "<tr><td>Sába-Ház</td><td>2016-08-16</td><td>2</td></tr>",
                            "<tr><td>Sába-Ház</td><td>2016-08-17</td><td>2</td></tr>",
                            "<tr><td>Sába-Ház</td><td>2016-08-20</td><td>2</td></tr>",
                            "<tr><td>Sába-Ház</td><td>2016-08-24</td><td>2</td></tr>",
                            "<tr><td>Sába-Ház</td><td>2016-08-27</td><td>2</td></tr>",
                            "<tr><td>Sába-Ház</td><td>2016-08-28</td><td>2</td></tr>",
                            "<tr><td>Sába-Ház</td><td>2016-09-05</td><td>2</td></tr>",
                            "<tr><td>Sába-Ház</td><td>2016-09-08</td><td>2</td></tr>",
                            "<tr><td>Sába-Ház</td><td>2016-09-14</td><td>3</td></tr>",
                            "<tr><td>Sába-Ház</td><td>2016-09-19</td><td>3</td></tr>",
                            "<tr><td>Sába-Ház</td><td>2016-09-21</td><td>3</td></tr>",
                            "<tr><td>Sába-Ház</td><td>2016-10-01</td><td>3</td></tr>",
                            "<tr><td>Sába-Ház</td><td>2016-10-01</td><td>3</td></tr>",
                            "<tr><td>Sába-Ház</td><td>2016-10-05</td><td>3</td></tr>",
                            "<tr><td>Sába-Ház</td><td>2016-10-07</td><td>3</td></tr>",
                            "<tr><td>Sába-Ház</td><td>2016-10-08</td><td>2</td></tr>",
                            "<tr><td>Sába-Ház</td><td>2016-10-08</td><td>2</td></tr>",
                            "<tr><td>Sába-Ház</td><td>2016-10-09</td><td>2</td></tr>",
                            "<tr><td>Sába-Ház</td><td>2016-10-09</td><td>2</td></tr>",
                            "<tr><td>Sába-Ház</td><td>2016-10-14</td><td>2</td></tr>",
                            "<tr><td>Sába-Ház</td><td>2016-10-15</td><td>2</td></tr>",
                            "<tr><td>Sába-Ház</td><td>2016-10-15</td><td>2</td></tr>",
                            "<tr><td>Sába-Ház</td><td>2016-10-18</td><td>2</td></tr>",
                            "<tr><td>Sába-Ház</td><td>2016-10-21</td><td>2</td></tr>",
                            "<tr><td>Sába-Ház</td><td>2016-10-23</td><td>2</td></tr>",
                            "<tr><td>Sába-Ház</td><td>2016-10-30</td><td>2</td></tr>",
                            "<tr><td>Sába-Ház</td><td>2016-11-01</td><td>2</td></tr>",
                            "<tr><td>Sába-Ház</td><td>2016-11-05</td><td>2</td></tr>",
                            "<tr><td>Sába-Ház</td><td>2016-11-07</td><td>2</td></tr>",
                            "<tr><td>Sába-Ház</td><td>2016-11-07</td><td>2</td></tr>",
                            "<tr><td>Sába-Ház</td><td>2016-11-11</td><td>2</td></tr>",
                            "<tr><td>Sába-Ház</td><td>2016-11-23</td><td>2</td></tr>",
                            "<tr><td>Sába-Ház</td><td>2016-11-25</td><td>2</td></tr>",
                            "<tr><td>Sába-Ház</td><td>2016-12-01</td><td>3</td></tr>",
                            "<tr><td>Sába-Ház</td><td>2017-01-06</td><td>2</td></tr>",
                            "<tr><td>Sába-Ház</td><td>2017-01-09</td><td>3</td></tr>",
                            "<tr><td>Sába-Ház</td><td>2017-01-12</td><td>2</td></tr>",
                            "<tr><td>Sába-Ház</td><td>2017-02-03</td><td>2</td></tr>",
                            "<tr><td>Sába-Ház</td><td>2017-02-12</td><td>2</td></tr>",
                            "<tr><td>Sába-Ház</td><td>2017-02-16</td><td>1</td></tr>",
                            "<tr><td>Sába-Ház</td><td>2017-02-16</td><td>1</td></tr>",
                            "<tr><td>Szieszta Apartmanház</td><td>2016-04-06</td><td>NULL</td></tr>",
                            "<tr><td>Szieszta Apartmanház</td><td>2016-05-15</td><td>3</td></tr>",
                            "<tr><td>Szieszta Apartmanház</td><td>2016-05-26</td><td>2</td></tr>",
                            "<tr><td>Szieszta Apartmanház</td><td>2016-05-28</td><td>2</td></tr>",
                            "<tr><td>Szieszta Apartmanház</td><td>2016-07-28</td><td>2</td></tr>",
                            "<tr><td>Szieszta Apartmanház</td><td>2016-08-05</td><td>2</td></tr>",
                            "<tr><td>Szieszta Apartmanház</td><td>2016-08-24</td><td>2</td></tr>",
                            "<tr><td>Szieszta Apartmanház</td><td>2016-09-02</td><td>2</td></tr>",
                            "<tr><td>Szieszta Apartmanház</td><td>2016-09-08</td><td>2</td></tr>",
                            "<tr><td>Szieszta Apartmanház</td><td>2016-09-16</td><td>2</td></tr>",
                            "<tr><td>Szieszta Apartmanház</td><td>2016-09-17</td><td>2</td></tr>",
                            "<tr><td>Szieszta Apartmanház</td><td>2016-09-24</td><td>2</td></tr>",
                            "<tr><td>Szieszta Apartmanház</td><td>2016-10-01</td><td>1</td></tr>",
                            "<tr><td>Szieszta Apartmanház</td><td>2016-10-01</td><td>1</td></tr>",
                            "<tr><td>Szieszta Apartmanház</td><td>2016-10-01</td><td>1</td></tr>",
                            "<tr><td>Szieszta Apartmanház</td><td>2016-10-21</td><td>1</td></tr>",
                            "<tr><td>Szieszta Apartmanház</td><td>2016-10-24</td><td>2</td></tr>",
                            "<tr><td>Szieszta Apartmanház</td><td>2016-10-26</td><td>2</td></tr>",
                            "<tr><td>Szieszta Apartmanház</td><td>2016-11-05</td><td>2</td></tr>",
                            "<tr><td>Szieszta Apartmanház</td><td>2016-11-09</td><td>2</td></tr>",
                            "<tr><td>Szieszta Apartmanház</td><td>2016-11-10</td><td>2</td></tr>",
                            "<tr><td>Szieszta Apartmanház</td><td>2016-11-21</td><td>2</td></tr>",
                            "<tr><td>Szieszta Apartmanház</td><td>2016-11-21</td><td>2</td></tr>",
                            "<tr><td>Szieszta Apartmanház</td><td>2016-11-25</td><td>2</td></tr>",
                            "<tr><td>Szieszta Apartmanház</td><td>2016-12-06</td><td>2</td></tr>",
                            "<tr><td>Szieszta Apartmanház</td><td>2016-12-12</td><td>2</td></tr>",
                            "<tr><td>Szieszta Apartmanház</td><td>2016-12-26</td><td>2</td></tr>",
                            "<tr><td>Szieszta Apartmanház</td><td>2016-12-29</td><td>2</td></tr>",
                            "<tr><td>Szieszta Apartmanház</td><td>2017-01-17</td><td>2</td></tr>",
                            "<tr><td>Szieszta Apartmanház</td><td>2017-01-19</td><td>2</td></tr>",
                            "<tr><td>Szieszta Apartmanház</td><td>2017-02-09</td><td>3</td></tr>",
                            "<tr><td>Szieszta Apartmanház</td><td>2017-02-12</td><td>2</td></tr>",
                            "<tr><td>Szieszta Apartmanház</td><td>2017-02-18</td><td>2</td></tr>",
                            "<tr><td>Szieszta Apartmanház</td><td>2017-02-26</td><td>2</td></tr>",
                            "</table>"
                        ]
                    }
                }
            ],
            "execution_count": 3
        },
        {
            "cell_type": "markdown",
            "source": [
                "Jelenítsük meg, hogy hány foglalás történt szobánként, naponta (METTOL), valamint szobánként, azon belül naponta \n",
                "\n",
                "- Szempontonként külön-külön számoljuk a foglalásokat\n",
                "- A foglalások száma minden esetben legalább 2 legyen"
            ],
            "metadata": {
                "azdata_cell_guid": "276c7db8-090d-420e-b2a9-07029ed5c56e"
            },
            "attachments": {}
        },
        {
            "cell_type": "code",
            "source": [
                "select sz.SZOBA_ID, f.METTOL, count(*) as 'foglalások száma'\r\n",
                "from szoba sz left join foglalas f on sz.szoba_id = f.szoba_fk\r\n",
                "group by rollup(sz.SZOBA_ID, f.METTOL)"
            ],
            "metadata": {
                "language": "sql",
                "azdata_cell_guid": "75a07e48-bf82-4209-8430-89885a9f0d78"
            },
            "outputs": [
                {
                    "output_type": "display_data",
                    "data": {
                        "text/html": "(1409 rows affected)"
                    },
                    "metadata": {}
                },
                {
                    "output_type": "display_data",
                    "data": {
                        "text/html": "Total execution time: 00:00:00.070"
                    },
                    "metadata": {}
                },
                {
                    "output_type": "execute_result",
                    "metadata": {},
                    "execution_count": 10,
                    "data": {
                        "application/vnd.dataresource+json": {
                            "schema": {
                                "fields": [
                                    {
                                        "name": "SZOBA_ID"
                                    },
                                    {
                                        "name": "METTOL"
                                    },
                                    {
                                        "name": "foglalások száma"
                                    }
                                ]
                            },
                            "data": [
                                {
                                    "SZOBA_ID": "1",
                                    "METTOL": "2016-05-05",
                                    "foglalások száma": "1"
                                },
                                {
                                    "SZOBA_ID": "1",
                                    "METTOL": "2016-06-10",
                                    "foglalások száma": "1"
                                },
                                {
                                    "SZOBA_ID": "1",
                                    "METTOL": "2016-07-30",
                                    "foglalások száma": "1"
                                },
                                {
                                    "SZOBA_ID": "1",
                                    "METTOL": "2016-08-20",
                                    "foglalások száma": "1"
                                },
                                {
                                    "SZOBA_ID": "1",
                                    "METTOL": "2016-10-09",
                                    "foglalások száma": "1"
                                },
                                {
                                    "SZOBA_ID": "1",
                                    "METTOL": "2016-10-15",
                                    "foglalások száma": "1"
                                },
                                {
                                    "SZOBA_ID": "1",
                                    "METTOL": "2016-11-11",
                                    "foglalások száma": "1"
                                },
                                {
                                    "SZOBA_ID": "1",
                                    "METTOL": "2016-12-01",
                                    "foglalások száma": "1"
                                },
                                {
                                    "SZOBA_ID": "1",
                                    "METTOL": "NULL",
                                    "foglalások száma": "8"
                                },
                                {
                                    "SZOBA_ID": "2",
                                    "METTOL": "2016-08-27",
                                    "foglalások száma": "1"
                                },
                                {
                                    "SZOBA_ID": "2",
                                    "METTOL": "2016-09-14",
                                    "foglalások száma": "1"
                                },
                                {
                                    "SZOBA_ID": "2",
                                    "METTOL": "2016-09-19",
                                    "foglalások száma": "1"
                                },
                                {
                                    "SZOBA_ID": "2",
                                    "METTOL": "2016-11-23",
                                    "foglalások száma": "1"
                                },
                                {
                                    "SZOBA_ID": "2",
                                    "METTOL": "NULL",
                                    "foglalások száma": "4"
                                },
                                {
                                    "SZOBA_ID": "3",
                                    "METTOL": "2016-05-09",
                                    "foglalások száma": "1"
                                },
                                {
                                    "SZOBA_ID": "3",
                                    "METTOL": "2016-07-13",
                                    "foglalások száma": "1"
                                },
                                {
                                    "SZOBA_ID": "3",
                                    "METTOL": "2016-08-16",
                                    "foglalások száma": "1"
                                },
                                {
                                    "SZOBA_ID": "3",
                                    "METTOL": "2016-09-08",
                                    "foglalások száma": "1"
                                },
                                {
                                    "SZOBA_ID": "3",
                                    "METTOL": "2016-10-01",
                                    "foglalások száma": "1"
                                },
                                {
                                    "SZOBA_ID": "3",
                                    "METTOL": "2016-10-14",
                                    "foglalások száma": "1"
                                },
                                {
                                    "SZOBA_ID": "3",
                                    "METTOL": "2017-01-12",
                                    "foglalások száma": "1"
                                },
                                {
                                    "SZOBA_ID": "3",
                                    "METTOL": "2017-02-16",
                                    "foglalások száma": "1"
                                },
                                {
                                    "SZOBA_ID": "3",
                                    "METTOL": "NULL",
                                    "foglalások száma": "8"
                                },
                                {
                                    "SZOBA_ID": "4",
                                    "METTOL": "2016-05-17",
                                    "foglalások száma": "1"
                                },
                                {
                                    "SZOBA_ID": "4",
                                    "METTOL": "2016-06-10",
                                    "foglalások száma": "1"
                                },
                                {
                                    "SZOBA_ID": "4",
                                    "METTOL": "2016-07-02",
                                    "foglalások száma": "1"
                                },
                                {
                                    "SZOBA_ID": "4",
                                    "METTOL": "2016-10-07",
                                    "foglalások száma": "1"
                                },
                                {
                                    "SZOBA_ID": "4",
                                    "METTOL": "2016-10-08",
                                    "foglalások száma": "1"
                                },
                                {
                                    "SZOBA_ID": "4",
                                    "METTOL": "2017-02-03",
                                    "foglalások száma": "1"
                                },
                                {
                                    "SZOBA_ID": "4",
                                    "METTOL": "NULL",
                                    "foglalások száma": "6"
                                },
                                {
                                    "SZOBA_ID": "5",
                                    "METTOL": "2016-04-08",
                                    "foglalások száma": "1"
                                },
                                {
                                    "SZOBA_ID": "5",
                                    "METTOL": "2016-06-16",
                                    "foglalások száma": "1"
                                },
                                {
                                    "SZOBA_ID": "5",
                                    "METTOL": "2016-09-21",
                                    "foglalások száma": "1"
                                },
                                {
                                    "SZOBA_ID": "5",
                                    "METTOL": "2016-11-07",
                                    "foglalások száma": "1"
                                },
                                {
                                    "SZOBA_ID": "5",
                                    "METTOL": "NULL",
                                    "foglalások száma": "4"
                                },
                                {
                                    "SZOBA_ID": "6",
                                    "METTOL": "2016-04-06",
                                    "foglalások száma": "1"
                                },
                                {
                                    "SZOBA_ID": "6",
                                    "METTOL": "2016-05-29",
                                    "foglalások száma": "1"
                                },
                                {
                                    "SZOBA_ID": "6",
                                    "METTOL": "2016-06-27",
                                    "foglalások száma": "1"
                                },
                                {
                                    "SZOBA_ID": "6",
                                    "METTOL": "2016-08-12",
                                    "foglalások száma": "1"
                                },
                                {
                                    "SZOBA_ID": "6",
                                    "METTOL": "2016-09-05",
                                    "foglalások száma": "1"
                                },
                                {
                                    "SZOBA_ID": "6",
                                    "METTOL": "2016-10-01",
                                    "foglalások száma": "1"
                                },
                                {
                                    "SZOBA_ID": "6",
                                    "METTOL": "NULL",
                                    "foglalások száma": "6"
                                },
                                {
                                    "SZOBA_ID": "7",
                                    "METTOL": "2016-04-06",
                                    "foglalások száma": "1"
                                },
                                {
                                    "SZOBA_ID": "7",
                                    "METTOL": "2016-08-06",
                                    "foglalások száma": "1"
                                },
                                {
                                    "SZOBA_ID": "7",
                                    "METTOL": "2016-10-08",
                                    "foglalások száma": "1"
                                },
                                {
                                    "SZOBA_ID": "7",
                                    "METTOL": "2016-10-21",
                                    "foglalások száma": "1"
                                },
                                {
                                    "SZOBA_ID": "7",
                                    "METTOL": "2016-10-23",
                                    "foglalások száma": "1"
                                },
                                {
                                    "SZOBA_ID": "7",
                                    "METTOL": "2016-11-05",
                                    "foglalások száma": "1"
                                },
                                {
                                    "SZOBA_ID": "7",
                                    "METTOL": "NULL",
                                    "foglalások száma": "6"
                                },
                                {
                                    "SZOBA_ID": "8",
                                    "METTOL": "2016-05-30",
                                    "foglalások száma": "1"
                                },
                                {
                                    "SZOBA_ID": "8",
                                    "METTOL": "2016-06-10",
                                    "foglalások száma": "1"
                                },
                                {
                                    "SZOBA_ID": "8",
                                    "METTOL": "2016-07-20",
                                    "foglalások száma": "1"
                                },
                                {
                                    "SZOBA_ID": "8",
                                    "METTOL": "2016-08-24",
                                    "foglalások száma": "1"
                                },
                                {
                                    "SZOBA_ID": "8",
                                    "METTOL": "2016-08-28",
                                    "foglalások száma": "1"
                                },
                                {
                                    "SZOBA_ID": "8",
                                    "METTOL": "NULL",
                                    "foglalások száma": "5"
                                },
                                {
                                    "SZOBA_ID": "9",
                                    "METTOL": "2016-04-29",
                                    "foglalások száma": "1"
                                },
                                {
                                    "SZOBA_ID": "9",
                                    "METTOL": "2016-10-15",
                                    "foglalások száma": "1"
                                },
                                {
                                    "SZOBA_ID": "9",
                                    "METTOL": "2016-10-30",
                                    "foglalások száma": "1"
                                },
                                {
                                    "SZOBA_ID": "9",
                                    "METTOL": "2016-11-07",
                                    "foglalások száma": "1"
                                },
                                {
                                    "SZOBA_ID": "9",
                                    "METTOL": "2017-01-06",
                                    "foglalások száma": "1"
                                },
                                {
                                    "SZOBA_ID": "9",
                                    "METTOL": "2017-02-16",
                                    "foglalások száma": "1"
                                },
                                {
                                    "SZOBA_ID": "9",
                                    "METTOL": "NULL",
                                    "foglalások száma": "6"
                                },
                                {
                                    "SZOBA_ID": "10",
                                    "METTOL": "2016-04-10",
                                    "foglalások száma": "1"
                                },
                                {
                                    "SZOBA_ID": "10",
                                    "METTOL": "2016-08-16",
                                    "foglalások száma": "1"
                                },
                                {
                                    "SZOBA_ID": "10",
                                    "METTOL": "2016-08-17",
                                    "foglalások száma": "1"
                                },
                                {
                                    "SZOBA_ID": "10",
                                    "METTOL": "2016-11-25",
                                    "foglalások száma": "1"
                                },
                                {
                                    "SZOBA_ID": "10",
                                    "METTOL": "NULL",
                                    "foglalások száma": "4"
                                },
                                {
                                    "SZOBA_ID": "11",
                                    "METTOL": "2016-06-06",
                                    "foglalások száma": "1"
                                },
                                {
                                    "SZOBA_ID": "11",
                                    "METTOL": "2016-10-05",
                                    "foglalások száma": "1"
                                },
                                {
                                    "SZOBA_ID": "11",
                                    "METTOL": "2016-11-01",
                                    "foglalások száma": "1"
                                },
                                {
                                    "SZOBA_ID": "11",
                                    "METTOL": "2017-02-12",
                                    "foglalások száma": "1"
                                },
                                {
                                    "SZOBA_ID": "11",
                                    "METTOL": "NULL",
                                    "foglalások száma": "4"
                                },
                                {
                                    "SZOBA_ID": "12",
                                    "METTOL": "2016-05-30",
                                    "foglalások száma": "1"
                                },
                                {
                                    "SZOBA_ID": "12",
                                    "METTOL": "2016-06-11",
                                    "foglalások száma": "1"
                                },
                                {
                                    "SZOBA_ID": "12",
                                    "METTOL": "2016-06-17",
                                    "foglalások száma": "1"
                                },
                                {
                                    "SZOBA_ID": "12",
                                    "METTOL": "2016-07-09",
                                    "foglalások száma": "1"
                                },
                                {
                                    "SZOBA_ID": "12",
                                    "METTOL": "2016-07-20",
                                    "foglalások száma": "1"
                                },
                                {
                                    "SZOBA_ID": "12",
                                    "METTOL": "2016-08-13",
                                    "foglalások száma": "1"
                                },
                                {
                                    "SZOBA_ID": "12",
                                    "METTOL": "2016-10-09",
                                    "foglalások száma": "1"
                                },
                                {
                                    "SZOBA_ID": "12",
                                    "METTOL": "2016-10-18",
                                    "foglalások száma": "1"
                                },
                                {
                                    "SZOBA_ID": "12",
                                    "METTOL": "2017-01-09",
                                    "foglalások száma": "1"
                                },
                                {
                                    "SZOBA_ID": "12",
                                    "METTOL": "NULL",
                                    "foglalások száma": "9"
                                },
                                {
                                    "SZOBA_ID": "13",
                                    "METTOL": "2016-08-08",
                                    "foglalások száma": "1"
                                },
                                {
                                    "SZOBA_ID": "13",
                                    "METTOL": "2016-09-12",
                                    "foglalások száma": "1"
                                },
                                {
                                    "SZOBA_ID": "13",
                                    "METTOL": "2016-12-06",
                                    "foglalások száma": "1"
                                },
                                {
                                    "SZOBA_ID": "13",
                                    "METTOL": "2017-01-23",
                                    "foglalások száma": "1"
                                },
                                {
                                    "SZOBA_ID": "13",
                                    "METTOL": "NULL",
                                    "foglalások száma": "4"
                                },
                                {
                                    "SZOBA_ID": "14",
                                    "METTOL": "2016-05-22",
                                    "foglalások száma": "1"
                                },
                                {
                                    "SZOBA_ID": "14",
                                    "METTOL": "2016-08-24",
                                    "foglalások száma": "1"
                                },
                                {
                                    "SZOBA_ID": "14",
                                    "METTOL": "2017-02-16",
                                    "foglalások száma": "1"
                                },
                                {
                                    "SZOBA_ID": "14",
                                    "METTOL": "NULL",
                                    "foglalások száma": "3"
                                },
                                {
                                    "SZOBA_ID": "15",
                                    "METTOL": "2016-07-13",
                                    "foglalások száma": "1"
                                },
                                {
                                    "SZOBA_ID": "15",
                                    "METTOL": "2016-08-16",
                                    "foglalások száma": "1"
                                },
                                {
                                    "SZOBA_ID": "15",
                                    "METTOL": "2016-10-08",
                                    "foglalások száma": "1"
                                },
                                {
                                    "SZOBA_ID": "15",
                                    "METTOL": "2016-11-03",
                                    "foglalások száma": "1"
                                },
                                {
                                    "SZOBA_ID": "15",
                                    "METTOL": "2017-01-04",
                                    "foglalások száma": "1"
                                },
                                {
                                    "SZOBA_ID": "15",
                                    "METTOL": "2017-01-16",
                                    "foglalások száma": "1"
                                },
                                {
                                    "SZOBA_ID": "15",
                                    "METTOL": "NULL",
                                    "foglalások száma": "6"
                                },
                                {
                                    "SZOBA_ID": "16",
                                    "METTOL": "2016-05-24",
                                    "foglalások száma": "1"
                                },
                                {
                                    "SZOBA_ID": "16",
                                    "METTOL": "2016-06-03",
                                    "foglalások száma": "1"
                                },
                                {
                                    "SZOBA_ID": "16",
                                    "METTOL": "2016-06-20",
                                    "foglalások száma": "1"
                                },
                                {
                                    "SZOBA_ID": "16",
                                    "METTOL": "2016-07-18",
                                    "foglalások száma": "1"
                                },
                                {
                                    "SZOBA_ID": "16",
                                    "METTOL": "2017-02-04",
                                    "foglalások száma": "1"
                                },
                                {
                                    "SZOBA_ID": "16",
                                    "METTOL": "NULL",
                                    "foglalások száma": "5"
                                },
                                {
                                    "SZOBA_ID": "17",
                                    "METTOL": "2016-04-26",
                                    "foglalások száma": "1"
                                },
                                {
                                    "SZOBA_ID": "17",
                                    "METTOL": "2016-06-06",
                                    "foglalások száma": "1"
                                },
                                {
                                    "SZOBA_ID": "17",
                                    "METTOL": "2016-07-24",
                                    "foglalások száma": "1"
                                },
                                {
                                    "SZOBA_ID": "17",
                                    "METTOL": "2016-08-01",
                                    "foglalások száma": "1"
                                },
                                {
                                    "SZOBA_ID": "17",
                                    "METTOL": "2016-11-25",
                                    "foglalások száma": "1"
                                },
                                {
                                    "SZOBA_ID": "17",
                                    "METTOL": "2017-02-18",
                                    "foglalások száma": "1"
                                },
                                {
                                    "SZOBA_ID": "17",
                                    "METTOL": "NULL",
                                    "foglalások száma": "6"
                                },
                                {
                                    "SZOBA_ID": "18",
                                    "METTOL": "2016-05-08",
                                    "foglalások száma": "1"
                                },
                                {
                                    "SZOBA_ID": "18",
                                    "METTOL": "2016-08-11",
                                    "foglalások száma": "1"
                                },
                                {
                                    "SZOBA_ID": "18",
                                    "METTOL": "2016-09-07",
                                    "foglalások száma": "1"
                                },
                                {
                                    "SZOBA_ID": "18",
                                    "METTOL": "2016-10-21",
                                    "foglalások száma": "1"
                                },
                                {
                                    "SZOBA_ID": "18",
                                    "METTOL": "2016-10-26",
                                    "foglalások száma": "1"
                                },
                                {
                                    "SZOBA_ID": "18",
                                    "METTOL": "2017-02-06",
                                    "foglalások száma": "1"
                                },
                                {
                                    "SZOBA_ID": "18",
                                    "METTOL": "NULL",
                                    "foglalások száma": "6"
                                },
                                {
                                    "SZOBA_ID": "19",
                                    "METTOL": "2016-06-10",
                                    "foglalások száma": "1"
                                },
                                {
                                    "SZOBA_ID": "19",
                                    "METTOL": "2016-07-20",
                                    "foglalások száma": "1"
                                },
                                {
                                    "SZOBA_ID": "19",
                                    "METTOL": "2016-08-14",
                                    "foglalások száma": "1"
                                },
                                {
                                    "SZOBA_ID": "19",
                                    "METTOL": "2016-10-09",
                                    "foglalások száma": "1"
                                },
                                {
                                    "SZOBA_ID": "19",
                                    "METTOL": "2016-11-02",
                                    "foglalások száma": "1"
                                },
                                {
                                    "SZOBA_ID": "19",
                                    "METTOL": "2017-02-14",
                                    "foglalások száma": "1"
                                },
                                {
                                    "SZOBA_ID": "19",
                                    "METTOL": "NULL",
                                    "foglalások száma": "6"
                                },
                                {
                                    "SZOBA_ID": "20",
                                    "METTOL": "2016-08-04",
                                    "foglalások száma": "1"
                                },
                                {
                                    "SZOBA_ID": "20",
                                    "METTOL": "2016-08-24",
                                    "foglalások száma": "1"
                                },
                                {
                                    "SZOBA_ID": "20",
                                    "METTOL": "2016-09-19",
                                    "foglalások száma": "1"
                                },
                                {
                                    "SZOBA_ID": "20",
                                    "METTOL": "2016-10-01",
                                    "foglalások száma": "2"
                                },
                                {
                                    "SZOBA_ID": "20",
                                    "METTOL": "NULL",
                                    "foglalások száma": "5"
                                },
                                {
                                    "SZOBA_ID": "21",
                                    "METTOL": "2016-04-09",
                                    "foglalások száma": "1"
                                },
                                {
                                    "SZOBA_ID": "21",
                                    "METTOL": "2016-05-21",
                                    "foglalások száma": "1"
                                },
                                {
                                    "SZOBA_ID": "21",
                                    "METTOL": "2016-08-21",
                                    "foglalások száma": "1"
                                },
                                {
                                    "SZOBA_ID": "21",
                                    "METTOL": "2016-10-28",
                                    "foglalások száma": "1"
                                },
                                {
                                    "SZOBA_ID": "21",
                                    "METTOL": "NULL",
                                    "foglalások száma": "4"
                                },
                                {
                                    "SZOBA_ID": "22",
                                    "METTOL": "2016-06-04",
                                    "foglalások száma": "1"
                                },
                                {
                                    "SZOBA_ID": "22",
                                    "METTOL": "2016-07-03",
                                    "foglalások száma": "1"
                                },
                                {
                                    "SZOBA_ID": "22",
                                    "METTOL": "2016-10-08",
                                    "foglalások száma": "1"
                                },
                                {
                                    "SZOBA_ID": "22",
                                    "METTOL": "2016-10-26",
                                    "foglalások száma": "1"
                                },
                                {
                                    "SZOBA_ID": "22",
                                    "METTOL": "2016-10-27",
                                    "foglalások száma": "1"
                                },
                                {
                                    "SZOBA_ID": "22",
                                    "METTOL": "2016-11-17",
                                    "foglalások száma": "1"
                                },
                                {
                                    "SZOBA_ID": "22",
                                    "METTOL": "NULL",
                                    "foglalások száma": "6"
                                },
                                {
                                    "SZOBA_ID": "23",
                                    "METTOL": "2016-06-08",
                                    "foglalások száma": "1"
                                },
                                {
                                    "SZOBA_ID": "23",
                                    "METTOL": "2016-06-10",
                                    "foglalások száma": "1"
                                },
                                {
                                    "SZOBA_ID": "23",
                                    "METTOL": "2016-09-04",
                                    "foglalások száma": "1"
                                },
                                {
                                    "SZOBA_ID": "23",
                                    "METTOL": "NULL",
                                    "foglalások száma": "3"
                                },
                                {
                                    "SZOBA_ID": "24",
                                    "METTOL": "2016-05-23",
                                    "foglalások száma": "1"
                                },
                                {
                                    "SZOBA_ID": "24",
                                    "METTOL": "2016-10-19",
                                    "foglalások száma": "1"
                                },
                                {
                                    "SZOBA_ID": "24",
                                    "METTOL": "2017-01-03",
                                    "foglalások száma": "1"
                                },
                                {
                                    "SZOBA_ID": "24",
                                    "METTOL": "NULL",
                                    "foglalások száma": "3"
                                },
                                {
                                    "SZOBA_ID": "25",
                                    "METTOL": "2016-09-14",
                                    "foglalások száma": "1"
                                },
                                {
                                    "SZOBA_ID": "25",
                                    "METTOL": "2016-12-14",
                                    "foglalások száma": "1"
                                },
                                {
                                    "SZOBA_ID": "25",
                                    "METTOL": "NULL",
                                    "foglalások száma": "2"
                                },
                                {
                                    "SZOBA_ID": "26",
                                    "METTOL": "2016-10-16",
                                    "foglalások száma": "1"
                                },
                                {
                                    "SZOBA_ID": "26",
                                    "METTOL": "2016-12-24",
                                    "foglalások száma": "1"
                                },
                                {
                                    "SZOBA_ID": "26",
                                    "METTOL": "NULL",
                                    "foglalások száma": "2"
                                },
                                {
                                    "SZOBA_ID": "27",
                                    "METTOL": "2016-08-05",
                                    "foglalások száma": "1"
                                },
                                {
                                    "SZOBA_ID": "27",
                                    "METTOL": "2016-08-22",
                                    "foglalások száma": "1"
                                },
                                {
                                    "SZOBA_ID": "27",
                                    "METTOL": "2016-09-05",
                                    "foglalások száma": "1"
                                },
                                {
                                    "SZOBA_ID": "27",
                                    "METTOL": "2016-09-26",
                                    "foglalások száma": "1"
                                },
                                {
                                    "SZOBA_ID": "27",
                                    "METTOL": "2016-11-11",
                                    "foglalások száma": "1"
                                },
                                {
                                    "SZOBA_ID": "27",
                                    "METTOL": "2016-12-18",
                                    "foglalások száma": "1"
                                },
                                {
                                    "SZOBA_ID": "27",
                                    "METTOL": "2017-01-27",
                                    "foglalások száma": "1"
                                },
                                {
                                    "SZOBA_ID": "27",
                                    "METTOL": "NULL",
                                    "foglalások száma": "7"
                                },
                                {
                                    "SZOBA_ID": "28",
                                    "METTOL": "2016-05-29",
                                    "foglalások száma": "1"
                                },
                                {
                                    "SZOBA_ID": "28",
                                    "METTOL": "2016-06-01",
                                    "foglalások száma": "1"
                                },
                                {
                                    "SZOBA_ID": "28",
                                    "METTOL": "2016-06-04",
                                    "foglalások száma": "1"
                                },
                                {
                                    "SZOBA_ID": "28",
                                    "METTOL": "2016-07-27",
                                    "foglalások száma": "1"
                                },
                                {
                                    "SZOBA_ID": "28",
                                    "METTOL": "2016-10-13",
                                    "foglalások száma": "1"
                                },
                                {
                                    "SZOBA_ID": "28",
                                    "METTOL": "2017-01-20",
                                    "foglalások száma": "1"
                                },
                                {
                                    "SZOBA_ID": "28",
                                    "METTOL": "NULL",
                                    "foglalások száma": "6"
                                },
                                {
                                    "SZOBA_ID": "29",
                                    "METTOL": "2016-05-01",
                                    "foglalások száma": "1"
                                },
                                {
                                    "SZOBA_ID": "29",
                                    "METTOL": "2016-06-03",
                                    "foglalások száma": "1"
                                },
                                {
                                    "SZOBA_ID": "29",
                                    "METTOL": "2016-09-23",
                                    "foglalások száma": "1"
                                },
                                {
                                    "SZOBA_ID": "29",
                                    "METTOL": "2016-10-23",
                                    "foglalások száma": "1"
                                },
                                {
                                    "SZOBA_ID": "29",
                                    "METTOL": "2016-11-01",
                                    "foglalások száma": "1"
                                },
                                {
                                    "SZOBA_ID": "29",
                                    "METTOL": "2017-02-24",
                                    "foglalások száma": "1"
                                },
                                {
                                    "SZOBA_ID": "29",
                                    "METTOL": "NULL",
                                    "foglalások száma": "6"
                                },
                                {
                                    "SZOBA_ID": "30",
                                    "METTOL": "2016-04-27",
                                    "foglalások száma": "1"
                                },
                                {
                                    "SZOBA_ID": "30",
                                    "METTOL": "2016-07-10",
                                    "foglalások száma": "1"
                                },
                                {
                                    "SZOBA_ID": "30",
                                    "METTOL": "2016-10-09",
                                    "foglalások száma": "1"
                                },
                                {
                                    "SZOBA_ID": "30",
                                    "METTOL": "NULL",
                                    "foglalások száma": "3"
                                },
                                {
                                    "SZOBA_ID": "31",
                                    "METTOL": "2016-04-24",
                                    "foglalások száma": "1"
                                },
                                {
                                    "SZOBA_ID": "31",
                                    "METTOL": "2016-04-27",
                                    "foglalások száma": "1"
                                },
                                {
                                    "SZOBA_ID": "31",
                                    "METTOL": "2016-07-27",
                                    "foglalások száma": "1"
                                },
                                {
                                    "SZOBA_ID": "31",
                                    "METTOL": "NULL",
                                    "foglalások száma": "3"
                                },
                                {
                                    "SZOBA_ID": "32",
                                    "METTOL": "2016-06-06",
                                    "foglalások száma": "1"
                                },
                                {
                                    "SZOBA_ID": "32",
                                    "METTOL": "NULL",
                                    "foglalások száma": "1"
                                },
                                {
                                    "SZOBA_ID": "33",
                                    "METTOL": "2016-05-08",
                                    "foglalások száma": "1"
                                },
                                {
                                    "SZOBA_ID": "33",
                                    "METTOL": "2016-07-05",
                                    "foglalások száma": "1"
                                },
                                {
                                    "SZOBA_ID": "33",
                                    "METTOL": "2016-09-15",
                                    "foglalások száma": "1"
                                },
                                {
                                    "SZOBA_ID": "33",
                                    "METTOL": "2016-11-25",
                                    "foglalások száma": "1"
                                },
                                {
                                    "SZOBA_ID": "33",
                                    "METTOL": "2016-12-05",
                                    "foglalások száma": "1"
                                },
                                {
                                    "SZOBA_ID": "33",
                                    "METTOL": "2016-12-21",
                                    "foglalások száma": "1"
                                },
                                {
                                    "SZOBA_ID": "33",
                                    "METTOL": "NULL",
                                    "foglalások száma": "6"
                                },
                                {
                                    "SZOBA_ID": "34",
                                    "METTOL": "2016-05-28",
                                    "foglalások száma": "1"
                                },
                                {
                                    "SZOBA_ID": "34",
                                    "METTOL": "2016-06-04",
                                    "foglalások száma": "1"
                                },
                                {
                                    "SZOBA_ID": "34",
                                    "METTOL": "2016-08-14",
                                    "foglalások száma": "1"
                                },
                                {
                                    "SZOBA_ID": "34",
                                    "METTOL": "2016-08-24",
                                    "foglalások száma": "1"
                                },
                                {
                                    "SZOBA_ID": "34",
                                    "METTOL": "NULL",
                                    "foglalások száma": "4"
                                },
                                {
                                    "SZOBA_ID": "35",
                                    "METTOL": "2016-06-18",
                                    "foglalások száma": "1"
                                },
                                {
                                    "SZOBA_ID": "35",
                                    "METTOL": "2016-06-22",
                                    "foglalások száma": "1"
                                },
                                {
                                    "SZOBA_ID": "35",
                                    "METTOL": "2016-07-18",
                                    "foglalások száma": "1"
                                },
                                {
                                    "SZOBA_ID": "35",
                                    "METTOL": "2016-07-23",
                                    "foglalások száma": "1"
                                },
                                {
                                    "SZOBA_ID": "35",
                                    "METTOL": "2016-08-28",
                                    "foglalások száma": "1"
                                },
                                {
                                    "SZOBA_ID": "35",
                                    "METTOL": "2016-12-29",
                                    "foglalások száma": "1"
                                },
                                {
                                    "SZOBA_ID": "35",
                                    "METTOL": "2017-01-01",
                                    "foglalások száma": "1"
                                },
                                {
                                    "SZOBA_ID": "35",
                                    "METTOL": "2017-01-13",
                                    "foglalások száma": "1"
                                },
                                {
                                    "SZOBA_ID": "35",
                                    "METTOL": "2017-02-13",
                                    "foglalások száma": "1"
                                },
                                {
                                    "SZOBA_ID": "35",
                                    "METTOL": "NULL",
                                    "foglalások száma": "9"
                                },
                                {
                                    "SZOBA_ID": "36",
                                    "METTOL": "2016-06-03",
                                    "foglalások száma": "1"
                                },
                                {
                                    "SZOBA_ID": "36",
                                    "METTOL": "2016-06-06",
                                    "foglalások száma": "1"
                                },
                                {
                                    "SZOBA_ID": "36",
                                    "METTOL": "2016-06-24",
                                    "foglalások száma": "1"
                                },
                                {
                                    "SZOBA_ID": "36",
                                    "METTOL": "2016-07-03",
                                    "foglalások száma": "1"
                                },
                                {
                                    "SZOBA_ID": "36",
                                    "METTOL": "2016-08-02",
                                    "foglalások száma": "1"
                                },
                                {
                                    "SZOBA_ID": "36",
                                    "METTOL": "2016-08-03",
                                    "foglalások száma": "1"
                                },
                                {
                                    "SZOBA_ID": "36",
                                    "METTOL": "NULL",
                                    "foglalások száma": "6"
                                },
                                {
                                    "SZOBA_ID": "37",
                                    "METTOL": "2016-07-19",
                                    "foglalások száma": "1"
                                },
                                {
                                    "SZOBA_ID": "37",
                                    "METTOL": "2016-07-22",
                                    "foglalások száma": "1"
                                },
                                {
                                    "SZOBA_ID": "37",
                                    "METTOL": "2016-12-01",
                                    "foglalások száma": "1"
                                },
                                {
                                    "SZOBA_ID": "37",
                                    "METTOL": "NULL",
                                    "foglalások száma": "3"
                                },
                                {
                                    "SZOBA_ID": "38",
                                    "METTOL": "2016-05-08",
                                    "foglalások száma": "1"
                                },
                                {
                                    "SZOBA_ID": "38",
                                    "METTOL": "2016-09-05",
                                    "foglalások száma": "1"
                                },
                                {
                                    "SZOBA_ID": "38",
                                    "METTOL": "2016-09-17",
                                    "foglalások száma": "1"
                                },
                                {
                                    "SZOBA_ID": "38",
                                    "METTOL": "2016-09-23",
                                    "foglalások száma": "1"
                                },
                                {
                                    "SZOBA_ID": "38",
                                    "METTOL": "2016-12-06",
                                    "foglalások száma": "1"
                                },
                                {
                                    "SZOBA_ID": "38",
                                    "METTOL": "2017-01-03",
                                    "foglalások száma": "1"
                                },
                                {
                                    "SZOBA_ID": "38",
                                    "METTOL": "2017-01-28",
                                    "foglalások száma": "1"
                                },
                                {
                                    "SZOBA_ID": "38",
                                    "METTOL": "2017-02-21",
                                    "foglalások száma": "1"
                                },
                                {
                                    "SZOBA_ID": "38",
                                    "METTOL": "NULL",
                                    "foglalások száma": "8"
                                },
                                {
                                    "SZOBA_ID": "39",
                                    "METTOL": "2016-04-25",
                                    "foglalások száma": "1"
                                },
                                {
                                    "SZOBA_ID": "39",
                                    "METTOL": "2016-06-03",
                                    "foglalások száma": "1"
                                },
                                {
                                    "SZOBA_ID": "39",
                                    "METTOL": "2016-10-29",
                                    "foglalások száma": "1"
                                },
                                {
                                    "SZOBA_ID": "39",
                                    "METTOL": "2016-12-20",
                                    "foglalások száma": "1"
                                },
                                {
                                    "SZOBA_ID": "39",
                                    "METTOL": "2017-01-12",
                                    "foglalások száma": "1"
                                },
                                {
                                    "SZOBA_ID": "39",
                                    "METTOL": "2017-01-18",
                                    "foglalások száma": "1"
                                },
                                {
                                    "SZOBA_ID": "39",
                                    "METTOL": "2017-02-16",
                                    "foglalások száma": "1"
                                },
                                {
                                    "SZOBA_ID": "39",
                                    "METTOL": "NULL",
                                    "foglalások száma": "7"
                                },
                                {
                                    "SZOBA_ID": "40",
                                    "METTOL": "2016-06-07",
                                    "foglalások száma": "2"
                                },
                                {
                                    "SZOBA_ID": "40",
                                    "METTOL": "2016-07-08",
                                    "foglalások száma": "1"
                                },
                                {
                                    "SZOBA_ID": "40",
                                    "METTOL": "2016-10-03",
                                    "foglalások száma": "1"
                                },
                                {
                                    "SZOBA_ID": "40",
                                    "METTOL": "NULL",
                                    "foglalások száma": "4"
                                },
                                {
                                    "SZOBA_ID": "41",
                                    "METTOL": "2016-06-15",
                                    "foglalások száma": "1"
                                },
                                {
                                    "SZOBA_ID": "41",
                                    "METTOL": "2016-10-09",
                                    "foglalások száma": "1"
                                },
                                {
                                    "SZOBA_ID": "41",
                                    "METTOL": "NULL",
                                    "foglalások száma": "2"
                                },
                                {
                                    "SZOBA_ID": "42",
                                    "METTOL": "2016-04-06",
                                    "foglalások száma": "1"
                                },
                                {
                                    "SZOBA_ID": "42",
                                    "METTOL": "2016-04-19",
                                    "foglalások száma": "1"
                                },
                                {
                                    "SZOBA_ID": "42",
                                    "METTOL": "2016-05-22",
                                    "foglalások száma": "1"
                                },
                                {
                                    "SZOBA_ID": "42",
                                    "METTOL": "2016-08-12",
                                    "foglalások száma": "1"
                                },
                                {
                                    "SZOBA_ID": "42",
                                    "METTOL": "2016-11-23",
                                    "foglalások száma": "1"
                                },
                                {
                                    "SZOBA_ID": "42",
                                    "METTOL": "2017-01-16",
                                    "foglalások száma": "1"
                                },
                                {
                                    "SZOBA_ID": "42",
                                    "METTOL": "NULL",
                                    "foglalások száma": "6"
                                },
                                {
                                    "SZOBA_ID": "43",
                                    "METTOL": "2016-07-08",
                                    "foglalások száma": "1"
                                },
                                {
                                    "SZOBA_ID": "43",
                                    "METTOL": "2016-07-14",
                                    "foglalások száma": "1"
                                },
                                {
                                    "SZOBA_ID": "43",
                                    "METTOL": "2016-09-29",
                                    "foglalások száma": "1"
                                },
                                {
                                    "SZOBA_ID": "43",
                                    "METTOL": "2016-10-27",
                                    "foglalások száma": "1"
                                },
                                {
                                    "SZOBA_ID": "43",
                                    "METTOL": "2016-10-30",
                                    "foglalások száma": "1"
                                },
                                {
                                    "SZOBA_ID": "43",
                                    "METTOL": "2016-11-10",
                                    "foglalások száma": "1"
                                },
                                {
                                    "SZOBA_ID": "43",
                                    "METTOL": "2017-02-12",
                                    "foglalások száma": "1"
                                },
                                {
                                    "SZOBA_ID": "43",
                                    "METTOL": "2017-02-20",
                                    "foglalások száma": "1"
                                },
                                {
                                    "SZOBA_ID": "43",
                                    "METTOL": "NULL",
                                    "foglalások száma": "8"
                                },
                                {
                                    "SZOBA_ID": "44",
                                    "METTOL": "2016-04-19",
                                    "foglalások száma": "1"
                                },
                                {
                                    "SZOBA_ID": "44",
                                    "METTOL": "2016-05-21",
                                    "foglalások száma": "1"
                                },
                                {
                                    "SZOBA_ID": "44",
                                    "METTOL": "2016-08-25",
                                    "foglalások száma": "1"
                                },
                                {
                                    "SZOBA_ID": "44",
                                    "METTOL": "2016-11-19",
                                    "foglalások száma": "1"
                                },
                                {
                                    "SZOBA_ID": "44",
                                    "METTOL": "2017-01-08",
                                    "foglalások száma": "1"
                                },
                                {
                                    "SZOBA_ID": "44",
                                    "METTOL": "2017-02-20",
                                    "foglalások száma": "1"
                                },
                                {
                                    "SZOBA_ID": "44",
                                    "METTOL": "NULL",
                                    "foglalások száma": "6"
                                },
                                {
                                    "SZOBA_ID": "45",
                                    "METTOL": "2016-08-20",
                                    "foglalások száma": "2"
                                },
                                {
                                    "SZOBA_ID": "45",
                                    "METTOL": "2016-09-02",
                                    "foglalások száma": "1"
                                },
                                {
                                    "SZOBA_ID": "45",
                                    "METTOL": "2016-10-09",
                                    "foglalások száma": "1"
                                },
                                {
                                    "SZOBA_ID": "45",
                                    "METTOL": "2016-11-22",
                                    "foglalások száma": "1"
                                },
                                {
                                    "SZOBA_ID": "45",
                                    "METTOL": "NULL",
                                    "foglalások száma": "5"
                                },
                                {
                                    "SZOBA_ID": "46",
                                    "METTOL": "2016-08-03",
                                    "foglalások száma": "1"
                                },
                                {
                                    "SZOBA_ID": "46",
                                    "METTOL": "2016-10-23",
                                    "foglalások száma": "1"
                                },
                                {
                                    "SZOBA_ID": "46",
                                    "METTOL": "2016-11-19",
                                    "foglalások száma": "1"
                                },
                                {
                                    "SZOBA_ID": "46",
                                    "METTOL": "2017-02-10",
                                    "foglalások száma": "1"
                                },
                                {
                                    "SZOBA_ID": "46",
                                    "METTOL": "NULL",
                                    "foglalások száma": "4"
                                },
                                {
                                    "SZOBA_ID": "47",
                                    "METTOL": "2016-06-13",
                                    "foglalások száma": "1"
                                },
                                {
                                    "SZOBA_ID": "47",
                                    "METTOL": "2016-09-16",
                                    "foglalások száma": "1"
                                },
                                {
                                    "SZOBA_ID": "47",
                                    "METTOL": "NULL",
                                    "foglalások száma": "2"
                                },
                                {
                                    "SZOBA_ID": "48",
                                    "METTOL": "2016-04-26",
                                    "foglalások száma": "1"
                                },
                                {
                                    "SZOBA_ID": "48",
                                    "METTOL": "2016-05-09",
                                    "foglalások száma": "1"
                                },
                                {
                                    "SZOBA_ID": "48",
                                    "METTOL": "2016-06-06",
                                    "foglalások száma": "1"
                                },
                                {
                                    "SZOBA_ID": "48",
                                    "METTOL": "2016-06-25",
                                    "foglalások száma": "1"
                                },
                                {
                                    "SZOBA_ID": "48",
                                    "METTOL": "2016-08-25",
                                    "foglalások száma": "1"
                                },
                                {
                                    "SZOBA_ID": "48",
                                    "METTOL": "2016-11-03",
                                    "foglalások száma": "1"
                                },
                                {
                                    "SZOBA_ID": "48",
                                    "METTOL": "2017-02-17",
                                    "foglalások száma": "1"
                                },
                                {
                                    "SZOBA_ID": "48",
                                    "METTOL": "2017-02-18",
                                    "foglalások száma": "1"
                                },
                                {
                                    "SZOBA_ID": "48",
                                    "METTOL": "2017-03-01",
                                    "foglalások száma": "1"
                                },
                                {
                                    "SZOBA_ID": "48",
                                    "METTOL": "NULL",
                                    "foglalások száma": "9"
                                },
                                {
                                    "SZOBA_ID": "49",
                                    "METTOL": "2016-06-02",
                                    "foglalások száma": "1"
                                },
                                {
                                    "SZOBA_ID": "49",
                                    "METTOL": "2016-08-17",
                                    "foglalások száma": "1"
                                },
                                {
                                    "SZOBA_ID": "49",
                                    "METTOL": "2016-08-26",
                                    "foglalások száma": "1"
                                },
                                {
                                    "SZOBA_ID": "49",
                                    "METTOL": "2016-09-18",
                                    "foglalások száma": "1"
                                },
                                {
                                    "SZOBA_ID": "49",
                                    "METTOL": "2016-10-26",
                                    "foglalások száma": "1"
                                },
                                {
                                    "SZOBA_ID": "49",
                                    "METTOL": "2016-10-30",
                                    "foglalások száma": "1"
                                },
                                {
                                    "SZOBA_ID": "49",
                                    "METTOL": "2017-02-16",
                                    "foglalások száma": "1"
                                },
                                {
                                    "SZOBA_ID": "49",
                                    "METTOL": "NULL",
                                    "foglalások száma": "7"
                                },
                                {
                                    "SZOBA_ID": "50",
                                    "METTOL": "2016-08-16",
                                    "foglalások száma": "1"
                                },
                                {
                                    "SZOBA_ID": "50",
                                    "METTOL": "2016-09-18",
                                    "foglalások száma": "1"
                                },
                                {
                                    "SZOBA_ID": "50",
                                    "METTOL": "2016-10-30",
                                    "foglalások száma": "1"
                                },
                                {
                                    "SZOBA_ID": "50",
                                    "METTOL": "2016-11-10",
                                    "foglalások száma": "1"
                                },
                                {
                                    "SZOBA_ID": "50",
                                    "METTOL": "NULL",
                                    "foglalások száma": "4"
                                },
                                {
                                    "SZOBA_ID": "51",
                                    "METTOL": "2016-05-28",
                                    "foglalások száma": "1"
                                },
                                {
                                    "SZOBA_ID": "51",
                                    "METTOL": "2016-08-23",
                                    "foglalások száma": "1"
                                },
                                {
                                    "SZOBA_ID": "51",
                                    "METTOL": "2016-10-19",
                                    "foglalások száma": "1"
                                },
                                {
                                    "SZOBA_ID": "51",
                                    "METTOL": "2017-01-28",
                                    "foglalások száma": "1"
                                },
                                {
                                    "SZOBA_ID": "51",
                                    "METTOL": "2017-02-18",
                                    "foglalások száma": "1"
                                },
                                {
                                    "SZOBA_ID": "51",
                                    "METTOL": "NULL",
                                    "foglalások száma": "5"
                                },
                                {
                                    "SZOBA_ID": "52",
                                    "METTOL": "2016-08-24",
                                    "foglalások száma": "1"
                                },
                                {
                                    "SZOBA_ID": "52",
                                    "METTOL": "2016-10-26",
                                    "foglalások száma": "1"
                                },
                                {
                                    "SZOBA_ID": "52",
                                    "METTOL": "2016-11-07",
                                    "foglalások száma": "1"
                                },
                                {
                                    "SZOBA_ID": "52",
                                    "METTOL": "2017-01-10",
                                    "foglalások száma": "1"
                                },
                                {
                                    "SZOBA_ID": "52",
                                    "METTOL": "2017-02-14",
                                    "foglalások száma": "1"
                                },
                                {
                                    "SZOBA_ID": "52",
                                    "METTOL": "NULL",
                                    "foglalások száma": "5"
                                },
                                {
                                    "SZOBA_ID": "53",
                                    "METTOL": "2016-05-24",
                                    "foglalások száma": "1"
                                },
                                {
                                    "SZOBA_ID": "53",
                                    "METTOL": "2016-06-26",
                                    "foglalások száma": "1"
                                },
                                {
                                    "SZOBA_ID": "53",
                                    "METTOL": "NULL",
                                    "foglalások száma": "2"
                                },
                                {
                                    "SZOBA_ID": "54",
                                    "METTOL": "2016-05-07",
                                    "foglalások száma": "1"
                                },
                                {
                                    "SZOBA_ID": "54",
                                    "METTOL": "2016-05-13",
                                    "foglalások száma": "1"
                                },
                                {
                                    "SZOBA_ID": "54",
                                    "METTOL": "2016-06-02",
                                    "foglalások száma": "1"
                                },
                                {
                                    "SZOBA_ID": "54",
                                    "METTOL": "2016-07-14",
                                    "foglalások száma": "1"
                                },
                                {
                                    "SZOBA_ID": "54",
                                    "METTOL": "2016-09-30",
                                    "foglalások száma": "1"
                                },
                                {
                                    "SZOBA_ID": "54",
                                    "METTOL": "2016-11-28",
                                    "foglalások száma": "1"
                                },
                                {
                                    "SZOBA_ID": "54",
                                    "METTOL": "NULL",
                                    "foglalások száma": "6"
                                },
                                {
                                    "SZOBA_ID": "55",
                                    "METTOL": "2016-07-28",
                                    "foglalások száma": "1"
                                },
                                {
                                    "SZOBA_ID": "55",
                                    "METTOL": "2016-09-28",
                                    "foglalások száma": "1"
                                },
                                {
                                    "SZOBA_ID": "55",
                                    "METTOL": "2016-10-17",
                                    "foglalások száma": "1"
                                },
                                {
                                    "SZOBA_ID": "55",
                                    "METTOL": "2016-10-30",
                                    "foglalások száma": "1"
                                },
                                {
                                    "SZOBA_ID": "55",
                                    "METTOL": "2016-11-28",
                                    "foglalások száma": "1"
                                },
                                {
                                    "SZOBA_ID": "55",
                                    "METTOL": "2016-12-24",
                                    "foglalások száma": "1"
                                },
                                {
                                    "SZOBA_ID": "55",
                                    "METTOL": "2017-02-08",
                                    "foglalások száma": "1"
                                },
                                {
                                    "SZOBA_ID": "55",
                                    "METTOL": "2017-02-12",
                                    "foglalások száma": "1"
                                },
                                {
                                    "SZOBA_ID": "55",
                                    "METTOL": "NULL",
                                    "foglalások száma": "8"
                                },
                                {
                                    "SZOBA_ID": "56",
                                    "METTOL": "2016-06-08",
                                    "foglalások száma": "1"
                                },
                                {
                                    "SZOBA_ID": "56",
                                    "METTOL": "2016-08-29",
                                    "foglalások száma": "1"
                                },
                                {
                                    "SZOBA_ID": "56",
                                    "METTOL": "NULL",
                                    "foglalások száma": "2"
                                },
                                {
                                    "SZOBA_ID": "57",
                                    "METTOL": "2016-12-06",
                                    "foglalások száma": "1"
                                },
                                {
                                    "SZOBA_ID": "57",
                                    "METTOL": "2016-12-25",
                                    "foglalások száma": "1"
                                },
                                {
                                    "SZOBA_ID": "57",
                                    "METTOL": "2017-01-22",
                                    "foglalások száma": "1"
                                },
                                {
                                    "SZOBA_ID": "57",
                                    "METTOL": "2017-02-06",
                                    "foglalások száma": "1"
                                },
                                {
                                    "SZOBA_ID": "57",
                                    "METTOL": "NULL",
                                    "foglalások száma": "4"
                                },
                                {
                                    "SZOBA_ID": "58",
                                    "METTOL": "2016-05-30",
                                    "foglalások száma": "1"
                                },
                                {
                                    "SZOBA_ID": "58",
                                    "METTOL": "2016-07-27",
                                    "foglalások száma": "1"
                                },
                                {
                                    "SZOBA_ID": "58",
                                    "METTOL": "2016-08-12",
                                    "foglalások száma": "1"
                                },
                                {
                                    "SZOBA_ID": "58",
                                    "METTOL": "2016-10-01",
                                    "foglalások száma": "1"
                                },
                                {
                                    "SZOBA_ID": "58",
                                    "METTOL": "2016-10-23",
                                    "foglalások száma": "1"
                                },
                                {
                                    "SZOBA_ID": "58",
                                    "METTOL": "2016-10-28",
                                    "foglalások száma": "1"
                                },
                                {
                                    "SZOBA_ID": "58",
                                    "METTOL": "2016-11-06",
                                    "foglalások száma": "1"
                                },
                                {
                                    "SZOBA_ID": "58",
                                    "METTOL": "2016-11-07",
                                    "foglalások száma": "1"
                                },
                                {
                                    "SZOBA_ID": "58",
                                    "METTOL": "2016-11-16",
                                    "foglalások száma": "1"
                                },
                                {
                                    "SZOBA_ID": "58",
                                    "METTOL": "2016-11-19",
                                    "foglalások száma": "1"
                                },
                                {
                                    "SZOBA_ID": "58",
                                    "METTOL": "2016-11-23",
                                    "foglalások száma": "1"
                                },
                                {
                                    "SZOBA_ID": "58",
                                    "METTOL": "2016-11-26",
                                    "foglalások száma": "1"
                                },
                                {
                                    "SZOBA_ID": "58",
                                    "METTOL": "2017-01-17",
                                    "foglalások száma": "1"
                                },
                                {
                                    "SZOBA_ID": "58",
                                    "METTOL": "NULL",
                                    "foglalások száma": "13"
                                },
                                {
                                    "SZOBA_ID": "59",
                                    "METTOL": "2016-09-25",
                                    "foglalások száma": "1"
                                },
                                {
                                    "SZOBA_ID": "59",
                                    "METTOL": "2016-09-28",
                                    "foglalások száma": "1"
                                },
                                {
                                    "SZOBA_ID": "59",
                                    "METTOL": "2016-10-20",
                                    "foglalások száma": "1"
                                },
                                {
                                    "SZOBA_ID": "59",
                                    "METTOL": "2016-10-25",
                                    "foglalások száma": "1"
                                },
                                {
                                    "SZOBA_ID": "59",
                                    "METTOL": "2016-11-03",
                                    "foglalások száma": "1"
                                },
                                {
                                    "SZOBA_ID": "59",
                                    "METTOL": "2016-11-17",
                                    "foglalások száma": "1"
                                },
                                {
                                    "SZOBA_ID": "59",
                                    "METTOL": "2017-02-26",
                                    "foglalások száma": "1"
                                },
                                {
                                    "SZOBA_ID": "59",
                                    "METTOL": "NULL",
                                    "foglalások száma": "7"
                                },
                                {
                                    "SZOBA_ID": "60",
                                    "METTOL": "2016-07-16",
                                    "foglalások száma": "1"
                                },
                                {
                                    "SZOBA_ID": "60",
                                    "METTOL": "NULL",
                                    "foglalások száma": "1"
                                },
                                {
                                    "SZOBA_ID": "61",
                                    "METTOL": "2016-07-21",
                                    "foglalások száma": "1"
                                },
                                {
                                    "SZOBA_ID": "61",
                                    "METTOL": "2016-08-05",
                                    "foglalások száma": "1"
                                },
                                {
                                    "SZOBA_ID": "61",
                                    "METTOL": "2016-10-11",
                                    "foglalások száma": "1"
                                },
                                {
                                    "SZOBA_ID": "61",
                                    "METTOL": "2016-10-29",
                                    "foglalások száma": "1"
                                },
                                {
                                    "SZOBA_ID": "61",
                                    "METTOL": "2017-02-04",
                                    "foglalások száma": "1"
                                },
                                {
                                    "SZOBA_ID": "61",
                                    "METTOL": "NULL",
                                    "foglalások száma": "5"
                                },
                                {
                                    "SZOBA_ID": "62",
                                    "METTOL": "2016-06-08",
                                    "foglalások száma": "1"
                                },
                                {
                                    "SZOBA_ID": "62",
                                    "METTOL": "2016-06-09",
                                    "foglalások száma": "1"
                                },
                                {
                                    "SZOBA_ID": "62",
                                    "METTOL": "2016-07-21",
                                    "foglalások száma": "1"
                                },
                                {
                                    "SZOBA_ID": "62",
                                    "METTOL": "2016-09-26",
                                    "foglalások száma": "1"
                                },
                                {
                                    "SZOBA_ID": "62",
                                    "METTOL": "2017-01-09",
                                    "foglalások száma": "1"
                                },
                                {
                                    "SZOBA_ID": "62",
                                    "METTOL": "NULL",
                                    "foglalások száma": "5"
                                },
                                {
                                    "SZOBA_ID": "63",
                                    "METTOL": "2016-05-08",
                                    "foglalások száma": "1"
                                },
                                {
                                    "SZOBA_ID": "63",
                                    "METTOL": "2016-06-02",
                                    "foglalások száma": "1"
                                },
                                {
                                    "SZOBA_ID": "63",
                                    "METTOL": "2016-08-12",
                                    "foglalások száma": "1"
                                },
                                {
                                    "SZOBA_ID": "63",
                                    "METTOL": "2016-09-02",
                                    "foglalások száma": "1"
                                },
                                {
                                    "SZOBA_ID": "63",
                                    "METTOL": "NULL",
                                    "foglalások száma": "4"
                                },
                                {
                                    "SZOBA_ID": "64",
                                    "METTOL": "2016-05-30",
                                    "foglalások száma": "1"
                                },
                                {
                                    "SZOBA_ID": "64",
                                    "METTOL": "2016-10-05",
                                    "foglalások száma": "1"
                                },
                                {
                                    "SZOBA_ID": "64",
                                    "METTOL": "2016-10-31",
                                    "foglalások száma": "1"
                                },
                                {
                                    "SZOBA_ID": "64",
                                    "METTOL": "2017-01-16",
                                    "foglalások száma": "1"
                                },
                                {
                                    "SZOBA_ID": "64",
                                    "METTOL": "2017-01-22",
                                    "foglalások száma": "1"
                                },
                                {
                                    "SZOBA_ID": "64",
                                    "METTOL": "2017-03-02",
                                    "foglalások száma": "1"
                                },
                                {
                                    "SZOBA_ID": "64",
                                    "METTOL": "NULL",
                                    "foglalások száma": "6"
                                },
                                {
                                    "SZOBA_ID": "65",
                                    "METTOL": "2016-05-17",
                                    "foglalások száma": "1"
                                },
                                {
                                    "SZOBA_ID": "65",
                                    "METTOL": "NULL",
                                    "foglalások száma": "1"
                                },
                                {
                                    "SZOBA_ID": "66",
                                    "METTOL": "2016-06-10",
                                    "foglalások száma": "1"
                                },
                                {
                                    "SZOBA_ID": "66",
                                    "METTOL": "2016-07-29",
                                    "foglalások száma": "1"
                                },
                                {
                                    "SZOBA_ID": "66",
                                    "METTOL": "2016-11-01",
                                    "foglalások száma": "1"
                                },
                                {
                                    "SZOBA_ID": "66",
                                    "METTOL": "2016-11-08",
                                    "foglalások száma": "1"
                                },
                                {
                                    "SZOBA_ID": "66",
                                    "METTOL": "NULL",
                                    "foglalások száma": "4"
                                },
                                {
                                    "SZOBA_ID": "67",
                                    "METTOL": "2016-05-12",
                                    "foglalások száma": "1"
                                },
                                {
                                    "SZOBA_ID": "67",
                                    "METTOL": "2016-05-14",
                                    "foglalások száma": "1"
                                },
                                {
                                    "SZOBA_ID": "67",
                                    "METTOL": "2016-05-30",
                                    "foglalások száma": "1"
                                },
                                {
                                    "SZOBA_ID": "67",
                                    "METTOL": "2016-12-22",
                                    "foglalások száma": "1"
                                },
                                {
                                    "SZOBA_ID": "67",
                                    "METTOL": "2017-03-01",
                                    "foglalások száma": "1"
                                },
                                {
                                    "SZOBA_ID": "67",
                                    "METTOL": "2017-03-03",
                                    "foglalások száma": "1"
                                },
                                {
                                    "SZOBA_ID": "67",
                                    "METTOL": "NULL",
                                    "foglalások száma": "6"
                                },
                                {
                                    "SZOBA_ID": "68",
                                    "METTOL": "2016-04-07",
                                    "foglalások száma": "1"
                                },
                                {
                                    "SZOBA_ID": "68",
                                    "METTOL": "2016-07-12",
                                    "foglalások száma": "1"
                                },
                                {
                                    "SZOBA_ID": "68",
                                    "METTOL": "2016-11-27",
                                    "foglalások száma": "1"
                                },
                                {
                                    "SZOBA_ID": "68",
                                    "METTOL": "NULL",
                                    "foglalások száma": "3"
                                },
                                {
                                    "SZOBA_ID": "69",
                                    "METTOL": "2016-05-31",
                                    "foglalások száma": "1"
                                },
                                {
                                    "SZOBA_ID": "69",
                                    "METTOL": "2016-09-15",
                                    "foglalások száma": "1"
                                },
                                {
                                    "SZOBA_ID": "69",
                                    "METTOL": "2016-10-30",
                                    "foglalások száma": "1"
                                },
                                {
                                    "SZOBA_ID": "69",
                                    "METTOL": "2016-11-05",
                                    "foglalások száma": "1"
                                },
                                {
                                    "SZOBA_ID": "69",
                                    "METTOL": "NULL",
                                    "foglalások száma": "4"
                                },
                                {
                                    "SZOBA_ID": "70",
                                    "METTOL": "2016-04-17",
                                    "foglalások száma": "1"
                                },
                                {
                                    "SZOBA_ID": "70",
                                    "METTOL": "2016-05-27",
                                    "foglalások száma": "1"
                                },
                                {
                                    "SZOBA_ID": "70",
                                    "METTOL": "2016-07-03",
                                    "foglalások száma": "1"
                                },
                                {
                                    "SZOBA_ID": "70",
                                    "METTOL": "2016-07-22",
                                    "foglalások száma": "1"
                                },
                                {
                                    "SZOBA_ID": "70",
                                    "METTOL": "2016-08-24",
                                    "foglalások száma": "1"
                                },
                                {
                                    "SZOBA_ID": "70",
                                    "METTOL": "2016-09-30",
                                    "foglalások száma": "1"
                                },
                                {
                                    "SZOBA_ID": "70",
                                    "METTOL": "2016-10-07",
                                    "foglalások száma": "1"
                                },
                                {
                                    "SZOBA_ID": "70",
                                    "METTOL": "2016-11-27",
                                    "foglalások száma": "1"
                                },
                                {
                                    "SZOBA_ID": "70",
                                    "METTOL": "2016-11-30",
                                    "foglalások száma": "1"
                                },
                                {
                                    "SZOBA_ID": "70",
                                    "METTOL": "2016-12-15",
                                    "foglalások száma": "1"
                                },
                                {
                                    "SZOBA_ID": "70",
                                    "METTOL": "2017-01-19",
                                    "foglalások száma": "1"
                                },
                                {
                                    "SZOBA_ID": "70",
                                    "METTOL": "NULL",
                                    "foglalások száma": "11"
                                },
                                {
                                    "SZOBA_ID": "71",
                                    "METTOL": "2016-07-04",
                                    "foglalások száma": "1"
                                },
                                {
                                    "SZOBA_ID": "71",
                                    "METTOL": "2016-07-18",
                                    "foglalások száma": "1"
                                },
                                {
                                    "SZOBA_ID": "71",
                                    "METTOL": "2016-07-24",
                                    "foglalások száma": "1"
                                },
                                {
                                    "SZOBA_ID": "71",
                                    "METTOL": "NULL",
                                    "foglalások száma": "3"
                                },
                                {
                                    "SZOBA_ID": "72",
                                    "METTOL": "2016-06-04",
                                    "foglalások száma": "1"
                                },
                                {
                                    "SZOBA_ID": "72",
                                    "METTOL": "2016-06-16",
                                    "foglalások száma": "1"
                                },
                                {
                                    "SZOBA_ID": "72",
                                    "METTOL": "2016-11-25",
                                    "foglalások száma": "1"
                                },
                                {
                                    "SZOBA_ID": "72",
                                    "METTOL": "2016-12-25",
                                    "foglalások száma": "1"
                                },
                                {
                                    "SZOBA_ID": "72",
                                    "METTOL": "NULL",
                                    "foglalások száma": "4"
                                },
                                {
                                    "SZOBA_ID": "73",
                                    "METTOL": "2016-07-01",
                                    "foglalások száma": "1"
                                },
                                {
                                    "SZOBA_ID": "73",
                                    "METTOL": "2016-07-25",
                                    "foglalások száma": "1"
                                },
                                {
                                    "SZOBA_ID": "73",
                                    "METTOL": "2016-10-16",
                                    "foglalások száma": "1"
                                },
                                {
                                    "SZOBA_ID": "73",
                                    "METTOL": "2016-11-29",
                                    "foglalások száma": "1"
                                },
                                {
                                    "SZOBA_ID": "73",
                                    "METTOL": "NULL",
                                    "foglalások száma": "4"
                                },
                                {
                                    "SZOBA_ID": "74",
                                    "METTOL": "2016-04-22",
                                    "foglalások száma": "1"
                                },
                                {
                                    "SZOBA_ID": "74",
                                    "METTOL": "2016-05-30",
                                    "foglalások száma": "1"
                                },
                                {
                                    "SZOBA_ID": "74",
                                    "METTOL": "2016-06-09",
                                    "foglalások száma": "1"
                                },
                                {
                                    "SZOBA_ID": "74",
                                    "METTOL": "2016-06-16",
                                    "foglalások száma": "1"
                                },
                                {
                                    "SZOBA_ID": "74",
                                    "METTOL": "2016-08-18",
                                    "foglalások száma": "1"
                                },
                                {
                                    "SZOBA_ID": "74",
                                    "METTOL": "2016-08-28",
                                    "foglalások száma": "1"
                                },
                                {
                                    "SZOBA_ID": "74",
                                    "METTOL": "2016-09-03",
                                    "foglalások száma": "1"
                                },
                                {
                                    "SZOBA_ID": "74",
                                    "METTOL": "2016-09-30",
                                    "foglalások száma": "1"
                                },
                                {
                                    "SZOBA_ID": "74",
                                    "METTOL": "2016-10-22",
                                    "foglalások száma": "1"
                                },
                                {
                                    "SZOBA_ID": "74",
                                    "METTOL": "NULL",
                                    "foglalások száma": "9"
                                },
                                {
                                    "SZOBA_ID": "75",
                                    "METTOL": "2016-07-06",
                                    "foglalások száma": "1"
                                },
                                {
                                    "SZOBA_ID": "75",
                                    "METTOL": "2017-01-01",
                                    "foglalások száma": "1"
                                },
                                {
                                    "SZOBA_ID": "75",
                                    "METTOL": "2017-01-19",
                                    "foglalások száma": "1"
                                },
                                {
                                    "SZOBA_ID": "75",
                                    "METTOL": "NULL",
                                    "foglalások száma": "3"
                                },
                                {
                                    "SZOBA_ID": "76",
                                    "METTOL": "2016-06-22",
                                    "foglalások száma": "1"
                                },
                                {
                                    "SZOBA_ID": "76",
                                    "METTOL": "2016-07-18",
                                    "foglalások száma": "1"
                                },
                                {
                                    "SZOBA_ID": "76",
                                    "METTOL": "2017-02-21",
                                    "foglalások száma": "1"
                                },
                                {
                                    "SZOBA_ID": "76",
                                    "METTOL": "NULL",
                                    "foglalások száma": "3"
                                },
                                {
                                    "SZOBA_ID": "77",
                                    "METTOL": "2016-04-21",
                                    "foglalások száma": "1"
                                },
                                {
                                    "SZOBA_ID": "77",
                                    "METTOL": "2016-06-23",
                                    "foglalások száma": "1"
                                },
                                {
                                    "SZOBA_ID": "77",
                                    "METTOL": "2016-07-20",
                                    "foglalások száma": "1"
                                },
                                {
                                    "SZOBA_ID": "77",
                                    "METTOL": "2016-10-01",
                                    "foglalások száma": "1"
                                },
                                {
                                    "SZOBA_ID": "77",
                                    "METTOL": "2017-01-15",
                                    "foglalások száma": "1"
                                },
                                {
                                    "SZOBA_ID": "77",
                                    "METTOL": "2017-01-22",
                                    "foglalások száma": "1"
                                },
                                {
                                    "SZOBA_ID": "77",
                                    "METTOL": "NULL",
                                    "foglalások száma": "6"
                                },
                                {
                                    "SZOBA_ID": "78",
                                    "METTOL": "2016-04-10",
                                    "foglalások száma": "1"
                                },
                                {
                                    "SZOBA_ID": "78",
                                    "METTOL": "2016-05-14",
                                    "foglalások száma": "1"
                                },
                                {
                                    "SZOBA_ID": "78",
                                    "METTOL": "2016-07-20",
                                    "foglalások száma": "1"
                                },
                                {
                                    "SZOBA_ID": "78",
                                    "METTOL": "2016-11-09",
                                    "foglalások száma": "1"
                                },
                                {
                                    "SZOBA_ID": "78",
                                    "METTOL": "2016-11-15",
                                    "foglalások száma": "1"
                                },
                                {
                                    "SZOBA_ID": "78",
                                    "METTOL": "2017-02-27",
                                    "foglalások száma": "1"
                                },
                                {
                                    "SZOBA_ID": "78",
                                    "METTOL": "NULL",
                                    "foglalások száma": "6"
                                },
                                {
                                    "SZOBA_ID": "79",
                                    "METTOL": "2016-04-16",
                                    "foglalások száma": "1"
                                },
                                {
                                    "SZOBA_ID": "79",
                                    "METTOL": "2016-09-15",
                                    "foglalások száma": "1"
                                },
                                {
                                    "SZOBA_ID": "79",
                                    "METTOL": "2016-10-30",
                                    "foglalások száma": "1"
                                },
                                {
                                    "SZOBA_ID": "79",
                                    "METTOL": "2016-12-05",
                                    "foglalások száma": "1"
                                },
                                {
                                    "SZOBA_ID": "79",
                                    "METTOL": "2017-01-16",
                                    "foglalások száma": "1"
                                },
                                {
                                    "SZOBA_ID": "79",
                                    "METTOL": "NULL",
                                    "foglalások száma": "5"
                                },
                                {
                                    "SZOBA_ID": "80",
                                    "METTOL": "2016-06-01",
                                    "foglalások száma": "1"
                                },
                                {
                                    "SZOBA_ID": "80",
                                    "METTOL": "2016-06-07",
                                    "foglalások száma": "1"
                                },
                                {
                                    "SZOBA_ID": "80",
                                    "METTOL": "2016-06-23",
                                    "foglalások száma": "1"
                                },
                                {
                                    "SZOBA_ID": "80",
                                    "METTOL": "2016-07-13",
                                    "foglalások száma": "1"
                                },
                                {
                                    "SZOBA_ID": "80",
                                    "METTOL": "2016-09-20",
                                    "foglalások száma": "1"
                                },
                                {
                                    "SZOBA_ID": "80",
                                    "METTOL": "2016-11-14",
                                    "foglalások száma": "1"
                                },
                                {
                                    "SZOBA_ID": "80",
                                    "METTOL": "2016-12-17",
                                    "foglalások száma": "1"
                                },
                                {
                                    "SZOBA_ID": "80",
                                    "METTOL": "NULL",
                                    "foglalások száma": "7"
                                },
                                {
                                    "SZOBA_ID": "81",
                                    "METTOL": "2016-12-16",
                                    "foglalások száma": "1"
                                },
                                {
                                    "SZOBA_ID": "81",
                                    "METTOL": "2017-01-16",
                                    "foglalások száma": "1"
                                },
                                {
                                    "SZOBA_ID": "81",
                                    "METTOL": "2017-01-22",
                                    "foglalások száma": "1"
                                },
                                {
                                    "SZOBA_ID": "81",
                                    "METTOL": "2017-02-06",
                                    "foglalások száma": "1"
                                },
                                {
                                    "SZOBA_ID": "81",
                                    "METTOL": "2017-02-23",
                                    "foglalások száma": "1"
                                },
                                {
                                    "SZOBA_ID": "81",
                                    "METTOL": "NULL",
                                    "foglalások száma": "5"
                                },
                                {
                                    "SZOBA_ID": "82",
                                    "METTOL": "2016-05-27",
                                    "foglalások száma": "1"
                                },
                                {
                                    "SZOBA_ID": "82",
                                    "METTOL": "2016-05-29",
                                    "foglalások száma": "1"
                                },
                                {
                                    "SZOBA_ID": "82",
                                    "METTOL": "2016-07-01",
                                    "foglalások száma": "1"
                                },
                                {
                                    "SZOBA_ID": "82",
                                    "METTOL": "2016-11-12",
                                    "foglalások száma": "1"
                                },
                                {
                                    "SZOBA_ID": "82",
                                    "METTOL": "2016-12-04",
                                    "foglalások száma": "1"
                                },
                                {
                                    "SZOBA_ID": "82",
                                    "METTOL": "2016-12-29",
                                    "foglalások száma": "1"
                                },
                                {
                                    "SZOBA_ID": "82",
                                    "METTOL": "NULL",
                                    "foglalások száma": "6"
                                },
                                {
                                    "SZOBA_ID": "83",
                                    "METTOL": "2016-04-10",
                                    "foglalások száma": "1"
                                },
                                {
                                    "SZOBA_ID": "83",
                                    "METTOL": "2016-05-28",
                                    "foglalások száma": "1"
                                },
                                {
                                    "SZOBA_ID": "83",
                                    "METTOL": "2016-05-30",
                                    "foglalások száma": "1"
                                },
                                {
                                    "SZOBA_ID": "83",
                                    "METTOL": "2016-06-30",
                                    "foglalások száma": "1"
                                },
                                {
                                    "SZOBA_ID": "83",
                                    "METTOL": "2016-07-15",
                                    "foglalások száma": "1"
                                },
                                {
                                    "SZOBA_ID": "83",
                                    "METTOL": "2016-08-18",
                                    "foglalások száma": "1"
                                },
                                {
                                    "SZOBA_ID": "83",
                                    "METTOL": "2016-10-04",
                                    "foglalások száma": "1"
                                },
                                {
                                    "SZOBA_ID": "83",
                                    "METTOL": "2016-12-19",
                                    "foglalások száma": "1"
                                },
                                {
                                    "SZOBA_ID": "83",
                                    "METTOL": "NULL",
                                    "foglalások száma": "8"
                                },
                                {
                                    "SZOBA_ID": "84",
                                    "METTOL": "2016-06-13",
                                    "foglalások száma": "1"
                                },
                                {
                                    "SZOBA_ID": "84",
                                    "METTOL": "2016-08-24",
                                    "foglalások száma": "1"
                                },
                                {
                                    "SZOBA_ID": "84",
                                    "METTOL": "2016-12-17",
                                    "foglalások száma": "1"
                                },
                                {
                                    "SZOBA_ID": "84",
                                    "METTOL": "2016-12-22",
                                    "foglalások száma": "1"
                                },
                                {
                                    "SZOBA_ID": "84",
                                    "METTOL": "NULL",
                                    "foglalások száma": "4"
                                },
                                {
                                    "SZOBA_ID": "85",
                                    "METTOL": "2016-05-15",
                                    "foglalások száma": "1"
                                },
                                {
                                    "SZOBA_ID": "85",
                                    "METTOL": "2016-09-17",
                                    "foglalások száma": "1"
                                },
                                {
                                    "SZOBA_ID": "85",
                                    "METTOL": "2016-11-25",
                                    "foglalások száma": "1"
                                },
                                {
                                    "SZOBA_ID": "85",
                                    "METTOL": "2017-02-09",
                                    "foglalások száma": "1"
                                },
                                {
                                    "SZOBA_ID": "85",
                                    "METTOL": "NULL",
                                    "foglalások száma": "4"
                                },
                                {
                                    "SZOBA_ID": "86",
                                    "METTOL": "2016-05-26",
                                    "foglalások száma": "1"
                                },
                                {
                                    "SZOBA_ID": "86",
                                    "METTOL": "2016-09-16",
                                    "foglalások száma": "1"
                                },
                                {
                                    "SZOBA_ID": "86",
                                    "METTOL": "2016-09-24",
                                    "foglalások száma": "1"
                                },
                                {
                                    "SZOBA_ID": "86",
                                    "METTOL": "2016-10-01",
                                    "foglalások száma": "1"
                                },
                                {
                                    "SZOBA_ID": "86",
                                    "METTOL": "2017-01-17",
                                    "foglalások száma": "1"
                                },
                                {
                                    "SZOBA_ID": "86",
                                    "METTOL": "NULL",
                                    "foglalások száma": "5"
                                },
                                {
                                    "SZOBA_ID": "87",
                                    "METTOL": "2016-04-06",
                                    "foglalások száma": "1"
                                },
                                {
                                    "SZOBA_ID": "87",
                                    "METTOL": "2016-09-02",
                                    "foglalások száma": "1"
                                },
                                {
                                    "SZOBA_ID": "87",
                                    "METTOL": "2016-10-01",
                                    "foglalások száma": "1"
                                },
                                {
                                    "SZOBA_ID": "87",
                                    "METTOL": "2016-12-06",
                                    "foglalások száma": "1"
                                },
                                {
                                    "SZOBA_ID": "87",
                                    "METTOL": "2017-01-19",
                                    "foglalások száma": "1"
                                },
                                {
                                    "SZOBA_ID": "87",
                                    "METTOL": "NULL",
                                    "foglalások száma": "5"
                                },
                                {
                                    "SZOBA_ID": "88",
                                    "METTOL": "2016-05-28",
                                    "foglalások száma": "1"
                                },
                                {
                                    "SZOBA_ID": "88",
                                    "METTOL": "2016-08-05",
                                    "foglalások száma": "1"
                                },
                                {
                                    "SZOBA_ID": "88",
                                    "METTOL": "2016-10-26",
                                    "foglalások száma": "1"
                                },
                                {
                                    "SZOBA_ID": "88",
                                    "METTOL": "2016-11-10",
                                    "foglalások száma": "1"
                                },
                                {
                                    "SZOBA_ID": "88",
                                    "METTOL": "2016-11-21",
                                    "foglalások száma": "1"
                                },
                                {
                                    "SZOBA_ID": "88",
                                    "METTOL": "2016-12-12",
                                    "foglalások száma": "1"
                                },
                                {
                                    "SZOBA_ID": "88",
                                    "METTOL": "2017-02-18",
                                    "foglalások száma": "1"
                                },
                                {
                                    "SZOBA_ID": "88",
                                    "METTOL": "2017-02-26",
                                    "foglalások száma": "1"
                                },
                                {
                                    "SZOBA_ID": "88",
                                    "METTOL": "NULL",
                                    "foglalások száma": "8"
                                },
                                {
                                    "SZOBA_ID": "89",
                                    "METTOL": "2016-08-24",
                                    "foglalások száma": "1"
                                },
                                {
                                    "SZOBA_ID": "89",
                                    "METTOL": "2016-09-08",
                                    "foglalások száma": "1"
                                },
                                {
                                    "SZOBA_ID": "89",
                                    "METTOL": "2016-10-01",
                                    "foglalások száma": "1"
                                },
                                {
                                    "SZOBA_ID": "89",
                                    "METTOL": "2016-10-24",
                                    "foglalások száma": "1"
                                },
                                {
                                    "SZOBA_ID": "89",
                                    "METTOL": "2016-11-05",
                                    "foglalások száma": "1"
                                },
                                {
                                    "SZOBA_ID": "89",
                                    "METTOL": "2016-11-09",
                                    "foglalások száma": "1"
                                },
                                {
                                    "SZOBA_ID": "89",
                                    "METTOL": "2016-12-26",
                                    "foglalások száma": "1"
                                },
                                {
                                    "SZOBA_ID": "89",
                                    "METTOL": "2017-02-12",
                                    "foglalások száma": "1"
                                },
                                {
                                    "SZOBA_ID": "89",
                                    "METTOL": "NULL",
                                    "foglalások száma": "8"
                                },
                                {
                                    "SZOBA_ID": "90",
                                    "METTOL": "2016-07-28",
                                    "foglalások száma": "1"
                                },
                                {
                                    "SZOBA_ID": "90",
                                    "METTOL": "2016-10-21",
                                    "foglalások száma": "1"
                                },
                                {
                                    "SZOBA_ID": "90",
                                    "METTOL": "2016-11-21",
                                    "foglalások száma": "1"
                                },
                                {
                                    "SZOBA_ID": "90",
                                    "METTOL": "2016-12-29",
                                    "foglalások száma": "1"
                                },
                                {
                                    "SZOBA_ID": "90",
                                    "METTOL": "NULL",
                                    "foglalások száma": "4"
                                },
                                {
                                    "SZOBA_ID": "91",
                                    "METTOL": "2016-05-10",
                                    "foglalások száma": "1"
                                },
                                {
                                    "SZOBA_ID": "91",
                                    "METTOL": "2016-07-28",
                                    "foglalások száma": "1"
                                },
                                {
                                    "SZOBA_ID": "91",
                                    "METTOL": "2016-10-28",
                                    "foglalások száma": "1"
                                },
                                {
                                    "SZOBA_ID": "91",
                                    "METTOL": "2016-12-25",
                                    "foglalások száma": "1"
                                },
                                {
                                    "SZOBA_ID": "91",
                                    "METTOL": "NULL",
                                    "foglalások száma": "4"
                                },
                                {
                                    "SZOBA_ID": "92",
                                    "METTOL": "2016-06-10",
                                    "foglalások száma": "1"
                                },
                                {
                                    "SZOBA_ID": "92",
                                    "METTOL": "2016-07-07",
                                    "foglalások száma": "1"
                                },
                                {
                                    "SZOBA_ID": "92",
                                    "METTOL": "2016-08-23",
                                    "foglalások száma": "1"
                                },
                                {
                                    "SZOBA_ID": "92",
                                    "METTOL": "2016-08-31",
                                    "foglalások száma": "1"
                                },
                                {
                                    "SZOBA_ID": "92",
                                    "METTOL": "2017-02-13",
                                    "foglalások száma": "1"
                                },
                                {
                                    "SZOBA_ID": "92",
                                    "METTOL": "2017-02-20",
                                    "foglalások száma": "1"
                                },
                                {
                                    "SZOBA_ID": "92",
                                    "METTOL": "NULL",
                                    "foglalások száma": "6"
                                },
                                {
                                    "SZOBA_ID": "93",
                                    "METTOL": "2016-07-30",
                                    "foglalások száma": "1"
                                },
                                {
                                    "SZOBA_ID": "93",
                                    "METTOL": "2016-10-20",
                                    "foglalások száma": "1"
                                },
                                {
                                    "SZOBA_ID": "93",
                                    "METTOL": "2016-10-29",
                                    "foglalások száma": "1"
                                },
                                {
                                    "SZOBA_ID": "93",
                                    "METTOL": "2016-12-08",
                                    "foglalások száma": "1"
                                },
                                {
                                    "SZOBA_ID": "93",
                                    "METTOL": "2016-12-25",
                                    "foglalások száma": "1"
                                },
                                {
                                    "SZOBA_ID": "93",
                                    "METTOL": "NULL",
                                    "foglalások száma": "5"
                                },
                                {
                                    "SZOBA_ID": "94",
                                    "METTOL": "2016-05-02",
                                    "foglalások száma": "1"
                                },
                                {
                                    "SZOBA_ID": "94",
                                    "METTOL": "2016-06-21",
                                    "foglalások száma": "1"
                                },
                                {
                                    "SZOBA_ID": "94",
                                    "METTOL": "2016-07-13",
                                    "foglalások száma": "1"
                                },
                                {
                                    "SZOBA_ID": "94",
                                    "METTOL": "2016-07-27",
                                    "foglalások száma": "1"
                                },
                                {
                                    "SZOBA_ID": "94",
                                    "METTOL": "2016-11-03",
                                    "foglalások száma": "1"
                                },
                                {
                                    "SZOBA_ID": "94",
                                    "METTOL": "2016-11-22",
                                    "foglalások száma": "1"
                                },
                                {
                                    "SZOBA_ID": "94",
                                    "METTOL": "2016-11-23",
                                    "foglalások száma": "1"
                                },
                                {
                                    "SZOBA_ID": "94",
                                    "METTOL": "2016-12-17",
                                    "foglalások száma": "1"
                                },
                                {
                                    "SZOBA_ID": "94",
                                    "METTOL": "2017-02-12",
                                    "foglalások száma": "1"
                                },
                                {
                                    "SZOBA_ID": "94",
                                    "METTOL": "2017-02-23",
                                    "foglalások száma": "1"
                                },
                                {
                                    "SZOBA_ID": "94",
                                    "METTOL": "NULL",
                                    "foglalások száma": "10"
                                },
                                {
                                    "SZOBA_ID": "95",
                                    "METTOL": "2016-05-19",
                                    "foglalások száma": "1"
                                },
                                {
                                    "SZOBA_ID": "95",
                                    "METTOL": "2016-09-13",
                                    "foglalások száma": "1"
                                },
                                {
                                    "SZOBA_ID": "95",
                                    "METTOL": "2016-10-01",
                                    "foglalások száma": "1"
                                },
                                {
                                    "SZOBA_ID": "95",
                                    "METTOL": "2017-02-16",
                                    "foglalások száma": "1"
                                },
                                {
                                    "SZOBA_ID": "95",
                                    "METTOL": "NULL",
                                    "foglalások száma": "4"
                                },
                                {
                                    "SZOBA_ID": "96",
                                    "METTOL": "2016-04-28",
                                    "foglalások száma": "1"
                                },
                                {
                                    "SZOBA_ID": "96",
                                    "METTOL": "2016-05-08",
                                    "foglalások száma": "1"
                                },
                                {
                                    "SZOBA_ID": "96",
                                    "METTOL": "2016-07-14",
                                    "foglalások száma": "1"
                                },
                                {
                                    "SZOBA_ID": "96",
                                    "METTOL": "2016-08-15",
                                    "foglalások száma": "1"
                                },
                                {
                                    "SZOBA_ID": "96",
                                    "METTOL": "2016-12-18",
                                    "foglalások száma": "1"
                                },
                                {
                                    "SZOBA_ID": "96",
                                    "METTOL": "2017-01-14",
                                    "foglalások száma": "1"
                                },
                                {
                                    "SZOBA_ID": "96",
                                    "METTOL": "2017-02-24",
                                    "foglalások száma": "1"
                                },
                                {
                                    "SZOBA_ID": "96",
                                    "METTOL": "NULL",
                                    "foglalások száma": "7"
                                },
                                {
                                    "SZOBA_ID": "97",
                                    "METTOL": "2016-05-10",
                                    "foglalások száma": "1"
                                },
                                {
                                    "SZOBA_ID": "97",
                                    "METTOL": "2016-07-27",
                                    "foglalások száma": "2"
                                },
                                {
                                    "SZOBA_ID": "97",
                                    "METTOL": "2016-08-29",
                                    "foglalások száma": "1"
                                },
                                {
                                    "SZOBA_ID": "97",
                                    "METTOL": "2016-12-25",
                                    "foglalások száma": "1"
                                },
                                {
                                    "SZOBA_ID": "97",
                                    "METTOL": "2017-01-03",
                                    "foglalások száma": "1"
                                },
                                {
                                    "SZOBA_ID": "97",
                                    "METTOL": "2017-02-13",
                                    "foglalások száma": "1"
                                },
                                {
                                    "SZOBA_ID": "97",
                                    "METTOL": "NULL",
                                    "foglalások száma": "7"
                                },
                                {
                                    "SZOBA_ID": "98",
                                    "METTOL": "2016-05-09",
                                    "foglalások száma": "1"
                                },
                                {
                                    "SZOBA_ID": "98",
                                    "METTOL": "2016-05-30",
                                    "foglalások száma": "1"
                                },
                                {
                                    "SZOBA_ID": "98",
                                    "METTOL": "2016-09-13",
                                    "foglalások száma": "1"
                                },
                                {
                                    "SZOBA_ID": "98",
                                    "METTOL": "2016-12-28",
                                    "foglalások száma": "1"
                                },
                                {
                                    "SZOBA_ID": "98",
                                    "METTOL": "NULL",
                                    "foglalások száma": "4"
                                },
                                {
                                    "SZOBA_ID": "99",
                                    "METTOL": "2016-05-09",
                                    "foglalások száma": "1"
                                },
                                {
                                    "SZOBA_ID": "99",
                                    "METTOL": "2016-07-20",
                                    "foglalások száma": "1"
                                },
                                {
                                    "SZOBA_ID": "99",
                                    "METTOL": "2016-09-20",
                                    "foglalások száma": "1"
                                },
                                {
                                    "SZOBA_ID": "99",
                                    "METTOL": "2016-12-31",
                                    "foglalások száma": "1"
                                },
                                {
                                    "SZOBA_ID": "99",
                                    "METTOL": "2017-01-31",
                                    "foglalások száma": "1"
                                },
                                {
                                    "SZOBA_ID": "99",
                                    "METTOL": "NULL",
                                    "foglalások száma": "5"
                                },
                                {
                                    "SZOBA_ID": "100",
                                    "METTOL": "2016-04-23",
                                    "foglalások száma": "1"
                                },
                                {
                                    "SZOBA_ID": "100",
                                    "METTOL": "2016-05-11",
                                    "foglalások száma": "1"
                                },
                                {
                                    "SZOBA_ID": "100",
                                    "METTOL": "2016-11-24",
                                    "foglalások száma": "1"
                                },
                                {
                                    "SZOBA_ID": "100",
                                    "METTOL": "2017-01-29",
                                    "foglalások száma": "1"
                                },
                                {
                                    "SZOBA_ID": "100",
                                    "METTOL": "NULL",
                                    "foglalások száma": "4"
                                },
                                {
                                    "SZOBA_ID": "101",
                                    "METTOL": "2016-07-25",
                                    "foglalások száma": "1"
                                },
                                {
                                    "SZOBA_ID": "101",
                                    "METTOL": "2016-11-29",
                                    "foglalások száma": "1"
                                },
                                {
                                    "SZOBA_ID": "101",
                                    "METTOL": "2017-02-10",
                                    "foglalások száma": "1"
                                },
                                {
                                    "SZOBA_ID": "101",
                                    "METTOL": "NULL",
                                    "foglalások száma": "3"
                                },
                                {
                                    "SZOBA_ID": "102",
                                    "METTOL": "2016-07-19",
                                    "foglalások száma": "1"
                                },
                                {
                                    "SZOBA_ID": "102",
                                    "METTOL": "2016-12-05",
                                    "foglalások száma": "1"
                                },
                                {
                                    "SZOBA_ID": "102",
                                    "METTOL": "NULL",
                                    "foglalások száma": "2"
                                },
                                {
                                    "SZOBA_ID": "103",
                                    "METTOL": "2016-06-19",
                                    "foglalások száma": "1"
                                },
                                {
                                    "SZOBA_ID": "103",
                                    "METTOL": "2016-06-29",
                                    "foglalások száma": "1"
                                },
                                {
                                    "SZOBA_ID": "103",
                                    "METTOL": "2016-12-26",
                                    "foglalások száma": "1"
                                },
                                {
                                    "SZOBA_ID": "103",
                                    "METTOL": "2017-01-30",
                                    "foglalások száma": "1"
                                },
                                {
                                    "SZOBA_ID": "103",
                                    "METTOL": "NULL",
                                    "foglalások száma": "4"
                                },
                                {
                                    "SZOBA_ID": "104",
                                    "METTOL": "2016-08-29",
                                    "foglalások száma": "1"
                                },
                                {
                                    "SZOBA_ID": "104",
                                    "METTOL": "2016-10-22",
                                    "foglalások száma": "1"
                                },
                                {
                                    "SZOBA_ID": "104",
                                    "METTOL": "2017-02-12",
                                    "foglalások száma": "1"
                                },
                                {
                                    "SZOBA_ID": "104",
                                    "METTOL": "2017-02-14",
                                    "foglalások száma": "1"
                                },
                                {
                                    "SZOBA_ID": "104",
                                    "METTOL": "NULL",
                                    "foglalások száma": "4"
                                },
                                {
                                    "SZOBA_ID": "105",
                                    "METTOL": "2016-05-03",
                                    "foglalások száma": "1"
                                },
                                {
                                    "SZOBA_ID": "105",
                                    "METTOL": "2017-02-12",
                                    "foglalások száma": "1"
                                },
                                {
                                    "SZOBA_ID": "105",
                                    "METTOL": "NULL",
                                    "foglalások száma": "2"
                                },
                                {
                                    "SZOBA_ID": "106",
                                    "METTOL": "2016-04-30",
                                    "foglalások száma": "1"
                                },
                                {
                                    "SZOBA_ID": "106",
                                    "METTOL": "2016-07-23",
                                    "foglalások száma": "1"
                                },
                                {
                                    "SZOBA_ID": "106",
                                    "METTOL": "2016-10-30",
                                    "foglalások száma": "1"
                                },
                                {
                                    "SZOBA_ID": "106",
                                    "METTOL": "2016-11-10",
                                    "foglalások száma": "1"
                                },
                                {
                                    "SZOBA_ID": "106",
                                    "METTOL": "2016-12-17",
                                    "foglalások száma": "1"
                                },
                                {
                                    "SZOBA_ID": "106",
                                    "METTOL": "2017-02-08",
                                    "foglalások száma": "1"
                                },
                                {
                                    "SZOBA_ID": "106",
                                    "METTOL": "NULL",
                                    "foglalások száma": "6"
                                },
                                {
                                    "SZOBA_ID": "107",
                                    "METTOL": "2016-04-18",
                                    "foglalások száma": "1"
                                },
                                {
                                    "SZOBA_ID": "107",
                                    "METTOL": "2016-11-05",
                                    "foglalások száma": "1"
                                },
                                {
                                    "SZOBA_ID": "107",
                                    "METTOL": "2016-12-07",
                                    "foglalások száma": "1"
                                },
                                {
                                    "SZOBA_ID": "107",
                                    "METTOL": "2017-01-17",
                                    "foglalások száma": "1"
                                },
                                {
                                    "SZOBA_ID": "107",
                                    "METTOL": "2017-02-04",
                                    "foglalások száma": "1"
                                },
                                {
                                    "SZOBA_ID": "107",
                                    "METTOL": "NULL",
                                    "foglalások száma": "5"
                                },
                                {
                                    "SZOBA_ID": "108",
                                    "METTOL": "2016-10-01",
                                    "foglalások száma": "1"
                                },
                                {
                                    "SZOBA_ID": "108",
                                    "METTOL": "2016-12-25",
                                    "foglalások száma": "1"
                                },
                                {
                                    "SZOBA_ID": "108",
                                    "METTOL": "NULL",
                                    "foglalások száma": "2"
                                },
                                {
                                    "SZOBA_ID": "109",
                                    "METTOL": "2016-05-01",
                                    "foglalások száma": "1"
                                },
                                {
                                    "SZOBA_ID": "109",
                                    "METTOL": "2016-05-06",
                                    "foglalások száma": "1"
                                },
                                {
                                    "SZOBA_ID": "109",
                                    "METTOL": "2016-05-18",
                                    "foglalások száma": "1"
                                },
                                {
                                    "SZOBA_ID": "109",
                                    "METTOL": "2016-08-23",
                                    "foglalások száma": "1"
                                },
                                {
                                    "SZOBA_ID": "109",
                                    "METTOL": "2016-09-27",
                                    "foglalások száma": "1"
                                },
                                {
                                    "SZOBA_ID": "109",
                                    "METTOL": "2016-11-20",
                                    "foglalások száma": "1"
                                },
                                {
                                    "SZOBA_ID": "109",
                                    "METTOL": "2017-02-23",
                                    "foglalások száma": "1"
                                },
                                {
                                    "SZOBA_ID": "109",
                                    "METTOL": "NULL",
                                    "foglalások száma": "7"
                                },
                                {
                                    "SZOBA_ID": "110",
                                    "METTOL": "2016-06-07",
                                    "foglalások száma": "1"
                                },
                                {
                                    "SZOBA_ID": "110",
                                    "METTOL": "2016-06-16",
                                    "foglalások száma": "1"
                                },
                                {
                                    "SZOBA_ID": "110",
                                    "METTOL": "2016-07-18",
                                    "foglalások száma": "1"
                                },
                                {
                                    "SZOBA_ID": "110",
                                    "METTOL": "2016-09-10",
                                    "foglalások száma": "1"
                                },
                                {
                                    "SZOBA_ID": "110",
                                    "METTOL": "2016-10-01",
                                    "foglalások száma": "1"
                                },
                                {
                                    "SZOBA_ID": "110",
                                    "METTOL": "2016-10-17",
                                    "foglalások száma": "1"
                                },
                                {
                                    "SZOBA_ID": "110",
                                    "METTOL": "2017-01-07",
                                    "foglalások száma": "1"
                                },
                                {
                                    "SZOBA_ID": "110",
                                    "METTOL": "2017-02-02",
                                    "foglalások száma": "1"
                                },
                                {
                                    "SZOBA_ID": "110",
                                    "METTOL": "NULL",
                                    "foglalások száma": "8"
                                },
                                {
                                    "SZOBA_ID": "111",
                                    "METTOL": "2016-04-27",
                                    "foglalások száma": "1"
                                },
                                {
                                    "SZOBA_ID": "111",
                                    "METTOL": "2016-06-14",
                                    "foglalások száma": "1"
                                },
                                {
                                    "SZOBA_ID": "111",
                                    "METTOL": "2016-08-16",
                                    "foglalások száma": "1"
                                },
                                {
                                    "SZOBA_ID": "111",
                                    "METTOL": "2016-11-19",
                                    "foglalások száma": "1"
                                },
                                {
                                    "SZOBA_ID": "111",
                                    "METTOL": "2016-12-07",
                                    "foglalások száma": "1"
                                },
                                {
                                    "SZOBA_ID": "111",
                                    "METTOL": "NULL",
                                    "foglalások száma": "5"
                                },
                                {
                                    "SZOBA_ID": "112",
                                    "METTOL": "2016-06-06",
                                    "foglalások száma": "1"
                                },
                                {
                                    "SZOBA_ID": "112",
                                    "METTOL": "2016-08-14",
                                    "foglalások száma": "1"
                                },
                                {
                                    "SZOBA_ID": "112",
                                    "METTOL": "2016-08-20",
                                    "foglalások száma": "1"
                                },
                                {
                                    "SZOBA_ID": "112",
                                    "METTOL": "2016-10-06",
                                    "foglalások száma": "1"
                                },
                                {
                                    "SZOBA_ID": "112",
                                    "METTOL": "2017-02-13",
                                    "foglalások száma": "1"
                                },
                                {
                                    "SZOBA_ID": "112",
                                    "METTOL": "NULL",
                                    "foglalások száma": "5"
                                },
                                {
                                    "SZOBA_ID": "113",
                                    "METTOL": "2016-09-05",
                                    "foglalások száma": "1"
                                },
                                {
                                    "SZOBA_ID": "113",
                                    "METTOL": "2016-09-28",
                                    "foglalások száma": "1"
                                },
                                {
                                    "SZOBA_ID": "113",
                                    "METTOL": "2016-11-08",
                                    "foglalások száma": "1"
                                },
                                {
                                    "SZOBA_ID": "113",
                                    "METTOL": "2017-02-04",
                                    "foglalások száma": "1"
                                },
                                {
                                    "SZOBA_ID": "113",
                                    "METTOL": "2017-02-05",
                                    "foglalások száma": "1"
                                },
                                {
                                    "SZOBA_ID": "113",
                                    "METTOL": "NULL",
                                    "foglalások száma": "5"
                                },
                                {
                                    "SZOBA_ID": "114",
                                    "METTOL": "2016-06-16",
                                    "foglalások száma": "1"
                                },
                                {
                                    "SZOBA_ID": "114",
                                    "METTOL": "2016-07-29",
                                    "foglalások száma": "1"
                                },
                                {
                                    "SZOBA_ID": "114",
                                    "METTOL": "2016-08-26",
                                    "foglalások száma": "1"
                                },
                                {
                                    "SZOBA_ID": "114",
                                    "METTOL": "2017-02-16",
                                    "foglalások száma": "1"
                                },
                                {
                                    "SZOBA_ID": "114",
                                    "METTOL": "NULL",
                                    "foglalások száma": "4"
                                },
                                {
                                    "SZOBA_ID": "115",
                                    "METTOL": "2016-04-23",
                                    "foglalások száma": "1"
                                },
                                {
                                    "SZOBA_ID": "115",
                                    "METTOL": "2016-06-10",
                                    "foglalások száma": "1"
                                },
                                {
                                    "SZOBA_ID": "115",
                                    "METTOL": "2016-10-04",
                                    "foglalások száma": "1"
                                },
                                {
                                    "SZOBA_ID": "115",
                                    "METTOL": "2016-10-15",
                                    "foglalások száma": "1"
                                },
                                {
                                    "SZOBA_ID": "115",
                                    "METTOL": "2016-12-07",
                                    "foglalások száma": "1"
                                },
                                {
                                    "SZOBA_ID": "115",
                                    "METTOL": "2017-02-20",
                                    "foglalások száma": "1"
                                },
                                {
                                    "SZOBA_ID": "115",
                                    "METTOL": "2017-02-24",
                                    "foglalások száma": "1"
                                },
                                {
                                    "SZOBA_ID": "115",
                                    "METTOL": "NULL",
                                    "foglalások száma": "7"
                                },
                                {
                                    "SZOBA_ID": "116",
                                    "METTOL": "2017-01-18",
                                    "foglalások száma": "1"
                                },
                                {
                                    "SZOBA_ID": "116",
                                    "METTOL": "2017-02-05",
                                    "foglalások száma": "1"
                                },
                                {
                                    "SZOBA_ID": "116",
                                    "METTOL": "NULL",
                                    "foglalások száma": "2"
                                },
                                {
                                    "SZOBA_ID": "117",
                                    "METTOL": "2016-05-01",
                                    "foglalások száma": "1"
                                },
                                {
                                    "SZOBA_ID": "117",
                                    "METTOL": "2016-05-02",
                                    "foglalások száma": "1"
                                },
                                {
                                    "SZOBA_ID": "117",
                                    "METTOL": "2016-06-12",
                                    "foglalások száma": "1"
                                },
                                {
                                    "SZOBA_ID": "117",
                                    "METTOL": "2016-06-16",
                                    "foglalások száma": "1"
                                },
                                {
                                    "SZOBA_ID": "117",
                                    "METTOL": "2016-07-03",
                                    "foglalások száma": "1"
                                },
                                {
                                    "SZOBA_ID": "117",
                                    "METTOL": "2016-10-26",
                                    "foglalások száma": "1"
                                },
                                {
                                    "SZOBA_ID": "117",
                                    "METTOL": "2016-11-05",
                                    "foglalások száma": "1"
                                },
                                {
                                    "SZOBA_ID": "117",
                                    "METTOL": "2017-01-23",
                                    "foglalások száma": "1"
                                },
                                {
                                    "SZOBA_ID": "117",
                                    "METTOL": "NULL",
                                    "foglalások száma": "8"
                                },
                                {
                                    "SZOBA_ID": "118",
                                    "METTOL": "2016-05-28",
                                    "foglalások száma": "1"
                                },
                                {
                                    "SZOBA_ID": "118",
                                    "METTOL": "2016-06-30",
                                    "foglalások száma": "1"
                                },
                                {
                                    "SZOBA_ID": "118",
                                    "METTOL": "2016-07-01",
                                    "foglalások száma": "1"
                                },
                                {
                                    "SZOBA_ID": "118",
                                    "METTOL": "2016-07-26",
                                    "foglalások száma": "1"
                                },
                                {
                                    "SZOBA_ID": "118",
                                    "METTOL": "2016-12-17",
                                    "foglalások száma": "1"
                                },
                                {
                                    "SZOBA_ID": "118",
                                    "METTOL": "2017-01-24",
                                    "foglalások száma": "1"
                                },
                                {
                                    "SZOBA_ID": "118",
                                    "METTOL": "2017-01-29",
                                    "foglalások száma": "1"
                                },
                                {
                                    "SZOBA_ID": "118",
                                    "METTOL": "NULL",
                                    "foglalások száma": "7"
                                },
                                {
                                    "SZOBA_ID": "119",
                                    "METTOL": "2016-07-12",
                                    "foglalások száma": "1"
                                },
                                {
                                    "SZOBA_ID": "119",
                                    "METTOL": "2016-07-22",
                                    "foglalások száma": "1"
                                },
                                {
                                    "SZOBA_ID": "119",
                                    "METTOL": "2016-07-27",
                                    "foglalások száma": "1"
                                },
                                {
                                    "SZOBA_ID": "119",
                                    "METTOL": "2017-01-02",
                                    "foglalások száma": "1"
                                },
                                {
                                    "SZOBA_ID": "119",
                                    "METTOL": "2017-02-01",
                                    "foglalások száma": "1"
                                },
                                {
                                    "SZOBA_ID": "119",
                                    "METTOL": "NULL",
                                    "foglalások száma": "5"
                                },
                                {
                                    "SZOBA_ID": "120",
                                    "METTOL": "2016-07-01",
                                    "foglalások száma": "1"
                                },
                                {
                                    "SZOBA_ID": "120",
                                    "METTOL": "2016-08-07",
                                    "foglalások száma": "1"
                                },
                                {
                                    "SZOBA_ID": "120",
                                    "METTOL": "2016-09-30",
                                    "foglalások száma": "1"
                                },
                                {
                                    "SZOBA_ID": "120",
                                    "METTOL": "2016-12-03",
                                    "foglalások száma": "1"
                                },
                                {
                                    "SZOBA_ID": "120",
                                    "METTOL": "2017-01-30",
                                    "foglalások száma": "1"
                                },
                                {
                                    "SZOBA_ID": "120",
                                    "METTOL": "2017-02-04",
                                    "foglalások száma": "1"
                                },
                                {
                                    "SZOBA_ID": "120",
                                    "METTOL": "NULL",
                                    "foglalások száma": "6"
                                },
                                {
                                    "SZOBA_ID": "121",
                                    "METTOL": "2016-05-25",
                                    "foglalások száma": "1"
                                },
                                {
                                    "SZOBA_ID": "121",
                                    "METTOL": "2016-07-28",
                                    "foglalások száma": "1"
                                },
                                {
                                    "SZOBA_ID": "121",
                                    "METTOL": "2016-07-30",
                                    "foglalások száma": "1"
                                },
                                {
                                    "SZOBA_ID": "121",
                                    "METTOL": "2016-09-13",
                                    "foglalások száma": "1"
                                },
                                {
                                    "SZOBA_ID": "121",
                                    "METTOL": "2016-10-08",
                                    "foglalások száma": "1"
                                },
                                {
                                    "SZOBA_ID": "121",
                                    "METTOL": "2016-10-29",
                                    "foglalások száma": "1"
                                },
                                {
                                    "SZOBA_ID": "121",
                                    "METTOL": "2016-12-17",
                                    "foglalások száma": "1"
                                },
                                {
                                    "SZOBA_ID": "121",
                                    "METTOL": "2016-12-25",
                                    "foglalások száma": "1"
                                },
                                {
                                    "SZOBA_ID": "121",
                                    "METTOL": "NULL",
                                    "foglalások száma": "8"
                                },
                                {
                                    "SZOBA_ID": "122",
                                    "METTOL": "2016-07-04",
                                    "foglalások száma": "1"
                                },
                                {
                                    "SZOBA_ID": "122",
                                    "METTOL": "2016-09-08",
                                    "foglalások száma": "1"
                                },
                                {
                                    "SZOBA_ID": "122",
                                    "METTOL": "2016-09-17",
                                    "foglalások száma": "1"
                                },
                                {
                                    "SZOBA_ID": "122",
                                    "METTOL": "2016-10-19",
                                    "foglalások száma": "1"
                                },
                                {
                                    "SZOBA_ID": "122",
                                    "METTOL": "2016-10-28",
                                    "foglalások száma": "1"
                                },
                                {
                                    "SZOBA_ID": "122",
                                    "METTOL": "2016-11-04",
                                    "foglalások száma": "1"
                                },
                                {
                                    "SZOBA_ID": "122",
                                    "METTOL": "2016-12-02",
                                    "foglalások száma": "1"
                                },
                                {
                                    "SZOBA_ID": "122",
                                    "METTOL": "2016-12-23",
                                    "foglalások száma": "1"
                                },
                                {
                                    "SZOBA_ID": "122",
                                    "METTOL": "2017-01-15",
                                    "foglalások száma": "1"
                                },
                                {
                                    "SZOBA_ID": "122",
                                    "METTOL": "NULL",
                                    "foglalások száma": "9"
                                },
                                {
                                    "SZOBA_ID": "123",
                                    "METTOL": "2016-04-19",
                                    "foglalások száma": "1"
                                },
                                {
                                    "SZOBA_ID": "123",
                                    "METTOL": "2016-06-07",
                                    "foglalások száma": "1"
                                },
                                {
                                    "SZOBA_ID": "123",
                                    "METTOL": "2016-06-16",
                                    "foglalások száma": "1"
                                },
                                {
                                    "SZOBA_ID": "123",
                                    "METTOL": "2016-10-30",
                                    "foglalások száma": "1"
                                },
                                {
                                    "SZOBA_ID": "123",
                                    "METTOL": "2016-11-15",
                                    "foglalások száma": "1"
                                },
                                {
                                    "SZOBA_ID": "123",
                                    "METTOL": "NULL",
                                    "foglalások száma": "5"
                                },
                                {
                                    "SZOBA_ID": "124",
                                    "METTOL": "2016-05-27",
                                    "foglalások száma": "1"
                                },
                                {
                                    "SZOBA_ID": "124",
                                    "METTOL": "2016-10-28",
                                    "foglalások száma": "1"
                                },
                                {
                                    "SZOBA_ID": "124",
                                    "METTOL": "2016-11-29",
                                    "foglalások száma": "1"
                                },
                                {
                                    "SZOBA_ID": "124",
                                    "METTOL": "2016-12-29",
                                    "foglalások száma": "1"
                                },
                                {
                                    "SZOBA_ID": "124",
                                    "METTOL": "2017-01-05",
                                    "foglalások száma": "1"
                                },
                                {
                                    "SZOBA_ID": "124",
                                    "METTOL": "2017-02-13",
                                    "foglalások száma": "1"
                                },
                                {
                                    "SZOBA_ID": "124",
                                    "METTOL": "NULL",
                                    "foglalások száma": "6"
                                },
                                {
                                    "SZOBA_ID": "125",
                                    "METTOL": "2016-04-11",
                                    "foglalások száma": "1"
                                },
                                {
                                    "SZOBA_ID": "125",
                                    "METTOL": "NULL",
                                    "foglalások száma": "1"
                                },
                                {
                                    "SZOBA_ID": "126",
                                    "METTOL": "2016-08-04",
                                    "foglalások száma": "1"
                                },
                                {
                                    "SZOBA_ID": "126",
                                    "METTOL": "2016-08-21",
                                    "foglalások száma": "1"
                                },
                                {
                                    "SZOBA_ID": "126",
                                    "METTOL": "2016-10-08",
                                    "foglalások száma": "1"
                                },
                                {
                                    "SZOBA_ID": "126",
                                    "METTOL": "2016-12-15",
                                    "foglalások száma": "1"
                                },
                                {
                                    "SZOBA_ID": "126",
                                    "METTOL": "2017-01-09",
                                    "foglalások száma": "1"
                                },
                                {
                                    "SZOBA_ID": "126",
                                    "METTOL": "2017-02-05",
                                    "foglalások száma": "1"
                                },
                                {
                                    "SZOBA_ID": "126",
                                    "METTOL": "NULL",
                                    "foglalások száma": "6"
                                },
                                {
                                    "SZOBA_ID": "127",
                                    "METTOL": "2016-05-14",
                                    "foglalások száma": "1"
                                },
                                {
                                    "SZOBA_ID": "127",
                                    "METTOL": "2016-05-24",
                                    "foglalások száma": "1"
                                },
                                {
                                    "SZOBA_ID": "127",
                                    "METTOL": "2016-05-30",
                                    "foglalások száma": "1"
                                },
                                {
                                    "SZOBA_ID": "127",
                                    "METTOL": "2016-09-06",
                                    "foglalások száma": "1"
                                },
                                {
                                    "SZOBA_ID": "127",
                                    "METTOL": "2016-10-30",
                                    "foglalások száma": "1"
                                },
                                {
                                    "SZOBA_ID": "127",
                                    "METTOL": "2016-11-16",
                                    "foglalások száma": "1"
                                },
                                {
                                    "SZOBA_ID": "127",
                                    "METTOL": "2017-02-28",
                                    "foglalások száma": "1"
                                },
                                {
                                    "SZOBA_ID": "127",
                                    "METTOL": "NULL",
                                    "foglalások száma": "7"
                                },
                                {
                                    "SZOBA_ID": "128",
                                    "METTOL": "2016-07-26",
                                    "foglalások száma": "1"
                                },
                                {
                                    "SZOBA_ID": "128",
                                    "METTOL": "2016-08-24",
                                    "foglalások száma": "1"
                                },
                                {
                                    "SZOBA_ID": "128",
                                    "METTOL": "2016-11-19",
                                    "foglalások száma": "1"
                                },
                                {
                                    "SZOBA_ID": "128",
                                    "METTOL": "2017-02-26",
                                    "foglalások száma": "1"
                                },
                                {
                                    "SZOBA_ID": "128",
                                    "METTOL": "2017-03-03",
                                    "foglalások száma": "1"
                                },
                                {
                                    "SZOBA_ID": "128",
                                    "METTOL": "NULL",
                                    "foglalások száma": "5"
                                },
                                {
                                    "SZOBA_ID": "129",
                                    "METTOL": "2016-07-27",
                                    "foglalások száma": "1"
                                },
                                {
                                    "SZOBA_ID": "129",
                                    "METTOL": "2016-12-13",
                                    "foglalások száma": "1"
                                },
                                {
                                    "SZOBA_ID": "129",
                                    "METTOL": "2017-01-16",
                                    "foglalások száma": "1"
                                },
                                {
                                    "SZOBA_ID": "129",
                                    "METTOL": "2017-02-08",
                                    "foglalások száma": "1"
                                },
                                {
                                    "SZOBA_ID": "129",
                                    "METTOL": "NULL",
                                    "foglalások száma": "4"
                                },
                                {
                                    "SZOBA_ID": "130",
                                    "METTOL": "2016-04-14",
                                    "foglalások száma": "1"
                                },
                                {
                                    "SZOBA_ID": "130",
                                    "METTOL": "2016-05-01",
                                    "foglalások száma": "1"
                                },
                                {
                                    "SZOBA_ID": "130",
                                    "METTOL": "2016-06-06",
                                    "foglalások száma": "1"
                                },
                                {
                                    "SZOBA_ID": "130",
                                    "METTOL": "2016-08-15",
                                    "foglalások száma": "1"
                                },
                                {
                                    "SZOBA_ID": "130",
                                    "METTOL": "2016-09-09",
                                    "foglalások száma": "1"
                                },
                                {
                                    "SZOBA_ID": "130",
                                    "METTOL": "2017-01-26",
                                    "foglalások száma": "1"
                                },
                                {
                                    "SZOBA_ID": "130",
                                    "METTOL": "NULL",
                                    "foglalások száma": "6"
                                },
                                {
                                    "SZOBA_ID": "131",
                                    "METTOL": "2016-04-06",
                                    "foglalások száma": "1"
                                },
                                {
                                    "SZOBA_ID": "131",
                                    "METTOL": "2016-05-18",
                                    "foglalások száma": "1"
                                },
                                {
                                    "SZOBA_ID": "131",
                                    "METTOL": "2016-05-30",
                                    "foglalások száma": "1"
                                },
                                {
                                    "SZOBA_ID": "131",
                                    "METTOL": "2016-08-06",
                                    "foglalások száma": "1"
                                },
                                {
                                    "SZOBA_ID": "131",
                                    "METTOL": "2017-01-25",
                                    "foglalások száma": "1"
                                },
                                {
                                    "SZOBA_ID": "131",
                                    "METTOL": "NULL",
                                    "foglalások száma": "5"
                                },
                                {
                                    "SZOBA_ID": "132",
                                    "METTOL": "2016-05-04",
                                    "foglalások száma": "1"
                                },
                                {
                                    "SZOBA_ID": "132",
                                    "METTOL": "2016-07-01",
                                    "foglalások száma": "1"
                                },
                                {
                                    "SZOBA_ID": "132",
                                    "METTOL": "2016-09-30",
                                    "foglalások száma": "1"
                                },
                                {
                                    "SZOBA_ID": "132",
                                    "METTOL": "2016-10-01",
                                    "foglalások száma": "1"
                                },
                                {
                                    "SZOBA_ID": "132",
                                    "METTOL": "2016-11-22",
                                    "foglalások száma": "1"
                                },
                                {
                                    "SZOBA_ID": "132",
                                    "METTOL": "2017-02-12",
                                    "foglalások száma": "1"
                                },
                                {
                                    "SZOBA_ID": "132",
                                    "METTOL": "NULL",
                                    "foglalások száma": "6"
                                },
                                {
                                    "SZOBA_ID": "133",
                                    "METTOL": "2016-06-06",
                                    "foglalások száma": "1"
                                },
                                {
                                    "SZOBA_ID": "133",
                                    "METTOL": "2016-06-27",
                                    "foglalások száma": "1"
                                },
                                {
                                    "SZOBA_ID": "133",
                                    "METTOL": "2016-10-12",
                                    "foglalások száma": "1"
                                },
                                {
                                    "SZOBA_ID": "133",
                                    "METTOL": "2016-11-22",
                                    "foglalások száma": "1"
                                },
                                {
                                    "SZOBA_ID": "133",
                                    "METTOL": "2016-12-15",
                                    "foglalások száma": "1"
                                },
                                {
                                    "SZOBA_ID": "133",
                                    "METTOL": "2017-01-01",
                                    "foglalások száma": "1"
                                },
                                {
                                    "SZOBA_ID": "133",
                                    "METTOL": "NULL",
                                    "foglalások száma": "6"
                                },
                                {
                                    "SZOBA_ID": "134",
                                    "METTOL": "2016-07-03",
                                    "foglalások száma": "1"
                                },
                                {
                                    "SZOBA_ID": "134",
                                    "METTOL": "2016-07-11",
                                    "foglalások száma": "1"
                                },
                                {
                                    "SZOBA_ID": "134",
                                    "METTOL": "2016-09-12",
                                    "foglalások száma": "1"
                                },
                                {
                                    "SZOBA_ID": "134",
                                    "METTOL": "2016-10-22",
                                    "foglalások száma": "1"
                                },
                                {
                                    "SZOBA_ID": "134",
                                    "METTOL": "2016-10-30",
                                    "foglalások száma": "1"
                                },
                                {
                                    "SZOBA_ID": "134",
                                    "METTOL": "2017-02-15",
                                    "foglalások száma": "1"
                                },
                                {
                                    "SZOBA_ID": "134",
                                    "METTOL": "NULL",
                                    "foglalások száma": "6"
                                },
                                {
                                    "SZOBA_ID": "135",
                                    "METTOL": "2016-07-27",
                                    "foglalások száma": "1"
                                },
                                {
                                    "SZOBA_ID": "135",
                                    "METTOL": "2016-09-05",
                                    "foglalások száma": "1"
                                },
                                {
                                    "SZOBA_ID": "135",
                                    "METTOL": "2016-11-18",
                                    "foglalások száma": "1"
                                },
                                {
                                    "SZOBA_ID": "135",
                                    "METTOL": "NULL",
                                    "foglalások száma": "3"
                                },
                                {
                                    "SZOBA_ID": "136",
                                    "METTOL": "2016-04-17",
                                    "foglalások száma": "1"
                                },
                                {
                                    "SZOBA_ID": "136",
                                    "METTOL": "2016-05-21",
                                    "foglalások száma": "1"
                                },
                                {
                                    "SZOBA_ID": "136",
                                    "METTOL": "2016-09-12",
                                    "foglalások száma": "1"
                                },
                                {
                                    "SZOBA_ID": "136",
                                    "METTOL": "NULL",
                                    "foglalások száma": "3"
                                },
                                {
                                    "SZOBA_ID": "137",
                                    "METTOL": "2016-04-16",
                                    "foglalások száma": "1"
                                },
                                {
                                    "SZOBA_ID": "137",
                                    "METTOL": "2016-05-17",
                                    "foglalások száma": "1"
                                },
                                {
                                    "SZOBA_ID": "137",
                                    "METTOL": "2016-05-20",
                                    "foglalások száma": "1"
                                },
                                {
                                    "SZOBA_ID": "137",
                                    "METTOL": "2016-07-06",
                                    "foglalások száma": "1"
                                },
                                {
                                    "SZOBA_ID": "137",
                                    "METTOL": "2016-10-26",
                                    "foglalások száma": "1"
                                },
                                {
                                    "SZOBA_ID": "137",
                                    "METTOL": "2016-11-15",
                                    "foglalások száma": "1"
                                },
                                {
                                    "SZOBA_ID": "137",
                                    "METTOL": "NULL",
                                    "foglalások száma": "6"
                                },
                                {
                                    "SZOBA_ID": "138",
                                    "METTOL": "2016-08-12",
                                    "foglalások száma": "1"
                                },
                                {
                                    "SZOBA_ID": "138",
                                    "METTOL": "2016-08-17",
                                    "foglalások száma": "1"
                                },
                                {
                                    "SZOBA_ID": "138",
                                    "METTOL": "2016-11-06",
                                    "foglalások száma": "1"
                                },
                                {
                                    "SZOBA_ID": "138",
                                    "METTOL": "2016-11-16",
                                    "foglalások száma": "1"
                                },
                                {
                                    "SZOBA_ID": "138",
                                    "METTOL": "2016-11-19",
                                    "foglalások száma": "1"
                                },
                                {
                                    "SZOBA_ID": "138",
                                    "METTOL": "2016-12-11",
                                    "foglalások száma": "1"
                                },
                                {
                                    "SZOBA_ID": "138",
                                    "METTOL": "2016-12-17",
                                    "foglalások száma": "1"
                                },
                                {
                                    "SZOBA_ID": "138",
                                    "METTOL": "NULL",
                                    "foglalások száma": "7"
                                },
                                {
                                    "SZOBA_ID": "139",
                                    "METTOL": "2016-04-14",
                                    "foglalások száma": "1"
                                },
                                {
                                    "SZOBA_ID": "139",
                                    "METTOL": "2016-08-01",
                                    "foglalások száma": "1"
                                },
                                {
                                    "SZOBA_ID": "139",
                                    "METTOL": "2016-08-03",
                                    "foglalások száma": "1"
                                },
                                {
                                    "SZOBA_ID": "139",
                                    "METTOL": "2016-09-10",
                                    "foglalások száma": "1"
                                },
                                {
                                    "SZOBA_ID": "139",
                                    "METTOL": "2016-09-18",
                                    "foglalások száma": "1"
                                },
                                {
                                    "SZOBA_ID": "139",
                                    "METTOL": "2017-01-11",
                                    "foglalások száma": "1"
                                },
                                {
                                    "SZOBA_ID": "139",
                                    "METTOL": "2017-01-17",
                                    "foglalások száma": "1"
                                },
                                {
                                    "SZOBA_ID": "139",
                                    "METTOL": "NULL",
                                    "foglalások száma": "7"
                                },
                                {
                                    "SZOBA_ID": "140",
                                    "METTOL": "2016-06-06",
                                    "foglalások száma": "1"
                                },
                                {
                                    "SZOBA_ID": "140",
                                    "METTOL": "2016-07-28",
                                    "foglalások száma": "1"
                                },
                                {
                                    "SZOBA_ID": "140",
                                    "METTOL": "2016-10-01",
                                    "foglalások száma": "1"
                                },
                                {
                                    "SZOBA_ID": "140",
                                    "METTOL": "2016-10-15",
                                    "foglalások száma": "1"
                                },
                                {
                                    "SZOBA_ID": "140",
                                    "METTOL": "2016-11-07",
                                    "foglalások száma": "1"
                                },
                                {
                                    "SZOBA_ID": "140",
                                    "METTOL": "2016-12-10",
                                    "foglalások száma": "1"
                                },
                                {
                                    "SZOBA_ID": "140",
                                    "METTOL": "2016-12-14",
                                    "foglalások száma": "1"
                                },
                                {
                                    "SZOBA_ID": "140",
                                    "METTOL": "2016-12-17",
                                    "foglalások száma": "1"
                                },
                                {
                                    "SZOBA_ID": "140",
                                    "METTOL": "NULL",
                                    "foglalások száma": "8"
                                },
                                {
                                    "SZOBA_ID": "141",
                                    "METTOL": "2016-04-08",
                                    "foglalások száma": "1"
                                },
                                {
                                    "SZOBA_ID": "141",
                                    "METTOL": "2016-06-05",
                                    "foglalások száma": "1"
                                },
                                {
                                    "SZOBA_ID": "141",
                                    "METTOL": "2016-08-06",
                                    "foglalások száma": "1"
                                },
                                {
                                    "SZOBA_ID": "141",
                                    "METTOL": "2016-08-16",
                                    "foglalások száma": "1"
                                },
                                {
                                    "SZOBA_ID": "141",
                                    "METTOL": "2016-11-06",
                                    "foglalások száma": "1"
                                },
                                {
                                    "SZOBA_ID": "141",
                                    "METTOL": "2016-12-27",
                                    "foglalások száma": "1"
                                },
                                {
                                    "SZOBA_ID": "141",
                                    "METTOL": "NULL",
                                    "foglalások száma": "6"
                                },
                                {
                                    "SZOBA_ID": "142",
                                    "METTOL": "2016-12-17",
                                    "foglalások száma": "1"
                                },
                                {
                                    "SZOBA_ID": "142",
                                    "METTOL": "2017-02-17",
                                    "foglalások száma": "1"
                                },
                                {
                                    "SZOBA_ID": "142",
                                    "METTOL": "NULL",
                                    "foglalások száma": "2"
                                },
                                {
                                    "SZOBA_ID": "143",
                                    "METTOL": "2016-06-23",
                                    "foglalások száma": "1"
                                },
                                {
                                    "SZOBA_ID": "143",
                                    "METTOL": "2016-10-15",
                                    "foglalások száma": "1"
                                },
                                {
                                    "SZOBA_ID": "143",
                                    "METTOL": "2016-10-26",
                                    "foglalások száma": "1"
                                },
                                {
                                    "SZOBA_ID": "143",
                                    "METTOL": "2016-10-30",
                                    "foglalások száma": "1"
                                },
                                {
                                    "SZOBA_ID": "143",
                                    "METTOL": "2016-11-23",
                                    "foglalások száma": "1"
                                },
                                {
                                    "SZOBA_ID": "143",
                                    "METTOL": "2016-12-25",
                                    "foglalások száma": "1"
                                },
                                {
                                    "SZOBA_ID": "143",
                                    "METTOL": "2017-01-16",
                                    "foglalások száma": "1"
                                },
                                {
                                    "SZOBA_ID": "143",
                                    "METTOL": "NULL",
                                    "foglalások száma": "7"
                                },
                                {
                                    "SZOBA_ID": "144",
                                    "METTOL": "2016-04-15",
                                    "foglalások száma": "1"
                                },
                                {
                                    "SZOBA_ID": "144",
                                    "METTOL": "2016-09-29",
                                    "foglalások száma": "1"
                                },
                                {
                                    "SZOBA_ID": "144",
                                    "METTOL": "2016-10-26",
                                    "foglalások száma": "1"
                                },
                                {
                                    "SZOBA_ID": "144",
                                    "METTOL": "2016-11-19",
                                    "foglalások száma": "1"
                                },
                                {
                                    "SZOBA_ID": "144",
                                    "METTOL": "2017-02-25",
                                    "foglalások száma": "1"
                                },
                                {
                                    "SZOBA_ID": "144",
                                    "METTOL": "NULL",
                                    "foglalások száma": "5"
                                },
                                {
                                    "SZOBA_ID": "145",
                                    "METTOL": "2016-07-22",
                                    "foglalások száma": "1"
                                },
                                {
                                    "SZOBA_ID": "145",
                                    "METTOL": "2016-09-23",
                                    "foglalások száma": "1"
                                },
                                {
                                    "SZOBA_ID": "145",
                                    "METTOL": "2016-10-04",
                                    "foglalások száma": "1"
                                },
                                {
                                    "SZOBA_ID": "145",
                                    "METTOL": "2016-10-09",
                                    "foglalások száma": "1"
                                },
                                {
                                    "SZOBA_ID": "145",
                                    "METTOL": "2016-12-02",
                                    "foglalások száma": "1"
                                },
                                {
                                    "SZOBA_ID": "145",
                                    "METTOL": "2017-01-23",
                                    "foglalások száma": "1"
                                },
                                {
                                    "SZOBA_ID": "145",
                                    "METTOL": "NULL",
                                    "foglalások száma": "6"
                                },
                                {
                                    "SZOBA_ID": "146",
                                    "METTOL": "2016-06-02",
                                    "foglalások száma": "1"
                                },
                                {
                                    "SZOBA_ID": "146",
                                    "METTOL": "2016-07-13",
                                    "foglalások száma": "1"
                                },
                                {
                                    "SZOBA_ID": "146",
                                    "METTOL": "2016-08-16",
                                    "foglalások száma": "1"
                                },
                                {
                                    "SZOBA_ID": "146",
                                    "METTOL": "2016-08-20",
                                    "foglalások száma": "1"
                                },
                                {
                                    "SZOBA_ID": "146",
                                    "METTOL": "2016-09-05",
                                    "foglalások száma": "1"
                                },
                                {
                                    "SZOBA_ID": "146",
                                    "METTOL": "2017-01-28",
                                    "foglalások száma": "1"
                                },
                                {
                                    "SZOBA_ID": "146",
                                    "METTOL": "NULL",
                                    "foglalások száma": "6"
                                },
                                {
                                    "SZOBA_ID": "147",
                                    "METTOL": "2016-08-12",
                                    "foglalások száma": "1"
                                },
                                {
                                    "SZOBA_ID": "147",
                                    "METTOL": "NULL",
                                    "foglalások száma": "1"
                                },
                                {
                                    "SZOBA_ID": "148",
                                    "METTOL": "2016-07-17",
                                    "foglalások száma": "1"
                                },
                                {
                                    "SZOBA_ID": "148",
                                    "METTOL": "2016-08-09",
                                    "foglalások száma": "1"
                                },
                                {
                                    "SZOBA_ID": "148",
                                    "METTOL": "2016-08-16",
                                    "foglalások száma": "1"
                                },
                                {
                                    "SZOBA_ID": "148",
                                    "METTOL": "2016-08-23",
                                    "foglalások száma": "2"
                                },
                                {
                                    "SZOBA_ID": "148",
                                    "METTOL": "2017-02-27",
                                    "foglalások száma": "1"
                                },
                                {
                                    "SZOBA_ID": "148",
                                    "METTOL": "NULL",
                                    "foglalások száma": "6"
                                },
                                {
                                    "SZOBA_ID": "149",
                                    "METTOL": "2016-04-20",
                                    "foglalások száma": "1"
                                },
                                {
                                    "SZOBA_ID": "149",
                                    "METTOL": "2016-05-18",
                                    "foglalások száma": "1"
                                },
                                {
                                    "SZOBA_ID": "149",
                                    "METTOL": "2016-08-28",
                                    "foglalások száma": "1"
                                },
                                {
                                    "SZOBA_ID": "149",
                                    "METTOL": "2016-08-29",
                                    "foglalások száma": "1"
                                },
                                {
                                    "SZOBA_ID": "149",
                                    "METTOL": "2016-09-01",
                                    "foglalások száma": "1"
                                },
                                {
                                    "SZOBA_ID": "149",
                                    "METTOL": "2016-10-10",
                                    "foglalások száma": "1"
                                },
                                {
                                    "SZOBA_ID": "149",
                                    "METTOL": "2017-02-09",
                                    "foglalások száma": "1"
                                },
                                {
                                    "SZOBA_ID": "149",
                                    "METTOL": "NULL",
                                    "foglalások száma": "7"
                                },
                                {
                                    "SZOBA_ID": "150",
                                    "METTOL": "2016-05-13",
                                    "foglalások száma": "1"
                                },
                                {
                                    "SZOBA_ID": "150",
                                    "METTOL": "2016-10-01",
                                    "foglalások száma": "2"
                                },
                                {
                                    "SZOBA_ID": "150",
                                    "METTOL": "2016-10-22",
                                    "foglalások száma": "1"
                                },
                                {
                                    "SZOBA_ID": "150",
                                    "METTOL": "2016-10-26",
                                    "foglalások száma": "1"
                                },
                                {
                                    "SZOBA_ID": "150",
                                    "METTOL": "2017-01-10",
                                    "foglalások száma": "1"
                                },
                                {
                                    "SZOBA_ID": "150",
                                    "METTOL": "NULL",
                                    "foglalások száma": "6"
                                },
                                {
                                    "SZOBA_ID": "151",
                                    "METTOL": "2016-06-03",
                                    "foglalások száma": "1"
                                },
                                {
                                    "SZOBA_ID": "151",
                                    "METTOL": "2016-09-16",
                                    "foglalások száma": "1"
                                },
                                {
                                    "SZOBA_ID": "151",
                                    "METTOL": "2016-10-02",
                                    "foglalások száma": "1"
                                },
                                {
                                    "SZOBA_ID": "151",
                                    "METTOL": "NULL",
                                    "foglalások száma": "3"
                                },
                                {
                                    "SZOBA_ID": "152",
                                    "METTOL": "2016-07-28",
                                    "foglalások száma": "1"
                                },
                                {
                                    "SZOBA_ID": "152",
                                    "METTOL": "2016-10-16",
                                    "foglalások száma": "1"
                                },
                                {
                                    "SZOBA_ID": "152",
                                    "METTOL": "2016-10-26",
                                    "foglalások száma": "1"
                                },
                                {
                                    "SZOBA_ID": "152",
                                    "METTOL": "2017-02-21",
                                    "foglalások száma": "1"
                                },
                                {
                                    "SZOBA_ID": "152",
                                    "METTOL": "NULL",
                                    "foglalások száma": "4"
                                },
                                {
                                    "SZOBA_ID": "153",
                                    "METTOL": "2016-04-22",
                                    "foglalások száma": "1"
                                },
                                {
                                    "SZOBA_ID": "153",
                                    "METTOL": "2016-06-17",
                                    "foglalások száma": "1"
                                },
                                {
                                    "SZOBA_ID": "153",
                                    "METTOL": "2017-01-21",
                                    "foglalások száma": "1"
                                },
                                {
                                    "SZOBA_ID": "153",
                                    "METTOL": "2017-01-23",
                                    "foglalások száma": "1"
                                },
                                {
                                    "SZOBA_ID": "153",
                                    "METTOL": "2017-02-07",
                                    "foglalások száma": "1"
                                },
                                {
                                    "SZOBA_ID": "153",
                                    "METTOL": "NULL",
                                    "foglalások száma": "5"
                                },
                                {
                                    "SZOBA_ID": "154",
                                    "METTOL": "2016-06-16",
                                    "foglalások száma": "1"
                                },
                                {
                                    "SZOBA_ID": "154",
                                    "METTOL": "2016-09-17",
                                    "foglalások száma": "1"
                                },
                                {
                                    "SZOBA_ID": "154",
                                    "METTOL": "2016-10-19",
                                    "foglalások száma": "1"
                                },
                                {
                                    "SZOBA_ID": "154",
                                    "METTOL": "2016-11-07",
                                    "foglalások száma": "1"
                                },
                                {
                                    "SZOBA_ID": "154",
                                    "METTOL": "2017-02-16",
                                    "foglalások száma": "1"
                                },
                                {
                                    "SZOBA_ID": "154",
                                    "METTOL": "NULL",
                                    "foglalások száma": "5"
                                },
                                {
                                    "SZOBA_ID": "155",
                                    "METTOL": "2016-04-10",
                                    "foglalások száma": "1"
                                },
                                {
                                    "SZOBA_ID": "155",
                                    "METTOL": "2016-04-12",
                                    "foglalások száma": "1"
                                },
                                {
                                    "SZOBA_ID": "155",
                                    "METTOL": "2016-10-01",
                                    "foglalások száma": "1"
                                },
                                {
                                    "SZOBA_ID": "155",
                                    "METTOL": "2016-11-23",
                                    "foglalások száma": "1"
                                },
                                {
                                    "SZOBA_ID": "155",
                                    "METTOL": "2017-02-16",
                                    "foglalások száma": "1"
                                },
                                {
                                    "SZOBA_ID": "155",
                                    "METTOL": "NULL",
                                    "foglalások száma": "5"
                                },
                                {
                                    "SZOBA_ID": "156",
                                    "METTOL": "2016-04-19",
                                    "foglalások száma": "1"
                                },
                                {
                                    "SZOBA_ID": "156",
                                    "METTOL": "2016-06-05",
                                    "foglalások száma": "1"
                                },
                                {
                                    "SZOBA_ID": "156",
                                    "METTOL": "2016-06-13",
                                    "foglalások száma": "1"
                                },
                                {
                                    "SZOBA_ID": "156",
                                    "METTOL": "2016-07-20",
                                    "foglalások száma": "1"
                                },
                                {
                                    "SZOBA_ID": "156",
                                    "METTOL": "2017-01-22",
                                    "foglalások száma": "1"
                                },
                                {
                                    "SZOBA_ID": "156",
                                    "METTOL": "2017-02-03",
                                    "foglalások száma": "1"
                                },
                                {
                                    "SZOBA_ID": "156",
                                    "METTOL": "2017-02-23",
                                    "foglalások száma": "1"
                                },
                                {
                                    "SZOBA_ID": "156",
                                    "METTOL": "NULL",
                                    "foglalások száma": "7"
                                },
                                {
                                    "SZOBA_ID": "157",
                                    "METTOL": "2016-05-16",
                                    "foglalások száma": "1"
                                },
                                {
                                    "SZOBA_ID": "157",
                                    "METTOL": "2016-07-12",
                                    "foglalások száma": "1"
                                },
                                {
                                    "SZOBA_ID": "157",
                                    "METTOL": "2016-09-13",
                                    "foglalások száma": "1"
                                },
                                {
                                    "SZOBA_ID": "157",
                                    "METTOL": "2016-11-03",
                                    "foglalások száma": "1"
                                },
                                {
                                    "SZOBA_ID": "157",
                                    "METTOL": "2017-02-19",
                                    "foglalások száma": "1"
                                },
                                {
                                    "SZOBA_ID": "157",
                                    "METTOL": "NULL",
                                    "foglalások száma": "5"
                                },
                                {
                                    "SZOBA_ID": "158",
                                    "METTOL": "2016-08-25",
                                    "foglalások száma": "1"
                                },
                                {
                                    "SZOBA_ID": "158",
                                    "METTOL": "2016-08-30",
                                    "foglalások száma": "1"
                                },
                                {
                                    "SZOBA_ID": "158",
                                    "METTOL": "2016-10-03",
                                    "foglalások száma": "1"
                                },
                                {
                                    "SZOBA_ID": "158",
                                    "METTOL": "NULL",
                                    "foglalások száma": "3"
                                },
                                {
                                    "SZOBA_ID": "159",
                                    "METTOL": "NULL",
                                    "foglalások száma": "1"
                                },
                                {
                                    "SZOBA_ID": "159",
                                    "METTOL": "NULL",
                                    "foglalások száma": "1"
                                },
                                {
                                    "SZOBA_ID": "160",
                                    "METTOL": "2016-06-06",
                                    "foglalások száma": "1"
                                },
                                {
                                    "SZOBA_ID": "160",
                                    "METTOL": "2016-06-07",
                                    "foglalások száma": "2"
                                },
                                {
                                    "SZOBA_ID": "160",
                                    "METTOL": "2016-07-27",
                                    "foglalások száma": "1"
                                },
                                {
                                    "SZOBA_ID": "160",
                                    "METTOL": "2017-02-23",
                                    "foglalások száma": "1"
                                },
                                {
                                    "SZOBA_ID": "160",
                                    "METTOL": "NULL",
                                    "foglalások száma": "5"
                                },
                                {
                                    "SZOBA_ID": "161",
                                    "METTOL": "2016-05-12",
                                    "foglalások száma": "1"
                                },
                                {
                                    "SZOBA_ID": "161",
                                    "METTOL": "2016-05-18",
                                    "foglalások száma": "1"
                                },
                                {
                                    "SZOBA_ID": "161",
                                    "METTOL": "2016-06-06",
                                    "foglalások száma": "1"
                                },
                                {
                                    "SZOBA_ID": "161",
                                    "METTOL": "2016-09-19",
                                    "foglalások száma": "1"
                                },
                                {
                                    "SZOBA_ID": "161",
                                    "METTOL": "2016-10-24",
                                    "foglalások száma": "1"
                                },
                                {
                                    "SZOBA_ID": "161",
                                    "METTOL": "2017-02-25",
                                    "foglalások száma": "1"
                                },
                                {
                                    "SZOBA_ID": "161",
                                    "METTOL": "NULL",
                                    "foglalások száma": "6"
                                },
                                {
                                    "SZOBA_ID": "162",
                                    "METTOL": "2016-04-24",
                                    "foglalások száma": "1"
                                },
                                {
                                    "SZOBA_ID": "162",
                                    "METTOL": "2016-10-27",
                                    "foglalások száma": "1"
                                },
                                {
                                    "SZOBA_ID": "162",
                                    "METTOL": "2016-12-26",
                                    "foglalások száma": "1"
                                },
                                {
                                    "SZOBA_ID": "162",
                                    "METTOL": "NULL",
                                    "foglalások száma": "3"
                                },
                                {
                                    "SZOBA_ID": "163",
                                    "METTOL": "2016-05-09",
                                    "foglalások száma": "1"
                                },
                                {
                                    "SZOBA_ID": "163",
                                    "METTOL": "2016-06-10",
                                    "foglalások száma": "1"
                                },
                                {
                                    "SZOBA_ID": "163",
                                    "METTOL": "2016-08-16",
                                    "foglalások száma": "1"
                                },
                                {
                                    "SZOBA_ID": "163",
                                    "METTOL": "2016-09-23",
                                    "foglalások száma": "1"
                                },
                                {
                                    "SZOBA_ID": "163",
                                    "METTOL": "2016-10-01",
                                    "foglalások száma": "1"
                                },
                                {
                                    "SZOBA_ID": "163",
                                    "METTOL": "2016-11-08",
                                    "foglalások száma": "1"
                                },
                                {
                                    "SZOBA_ID": "163",
                                    "METTOL": "2017-02-01",
                                    "foglalások száma": "1"
                                },
                                {
                                    "SZOBA_ID": "163",
                                    "METTOL": "NULL",
                                    "foglalások száma": "7"
                                },
                                {
                                    "SZOBA_ID": "164",
                                    "METTOL": "2016-04-10",
                                    "foglalások száma": "1"
                                },
                                {
                                    "SZOBA_ID": "164",
                                    "METTOL": "2016-07-04",
                                    "foglalások száma": "1"
                                },
                                {
                                    "SZOBA_ID": "164",
                                    "METTOL": "2016-07-31",
                                    "foglalások száma": "1"
                                },
                                {
                                    "SZOBA_ID": "164",
                                    "METTOL": "2016-11-16",
                                    "foglalások száma": "1"
                                },
                                {
                                    "SZOBA_ID": "164",
                                    "METTOL": "2016-11-19",
                                    "foglalások száma": "1"
                                },
                                {
                                    "SZOBA_ID": "164",
                                    "METTOL": "NULL",
                                    "foglalások száma": "5"
                                },
                                {
                                    "SZOBA_ID": "165",
                                    "METTOL": "2016-05-12",
                                    "foglalások száma": "1"
                                },
                                {
                                    "SZOBA_ID": "165",
                                    "METTOL": "2016-05-25",
                                    "foglalások száma": "1"
                                },
                                {
                                    "SZOBA_ID": "165",
                                    "METTOL": "2016-06-03",
                                    "foglalások száma": "3"
                                },
                                {
                                    "SZOBA_ID": "165",
                                    "METTOL": "2016-10-09",
                                    "foglalások száma": "1"
                                },
                                {
                                    "SZOBA_ID": "165",
                                    "METTOL": "2016-12-17",
                                    "foglalások száma": "1"
                                },
                                {
                                    "SZOBA_ID": "165",
                                    "METTOL": "NULL",
                                    "foglalások száma": "7"
                                },
                                {
                                    "SZOBA_ID": "166",
                                    "METTOL": "2016-05-14",
                                    "foglalások száma": "1"
                                },
                                {
                                    "SZOBA_ID": "166",
                                    "METTOL": "2016-08-16",
                                    "foglalások száma": "1"
                                },
                                {
                                    "SZOBA_ID": "166",
                                    "METTOL": "2017-02-12",
                                    "foglalások száma": "1"
                                },
                                {
                                    "SZOBA_ID": "166",
                                    "METTOL": "NULL",
                                    "foglalások száma": "3"
                                },
                                {
                                    "SZOBA_ID": "167",
                                    "METTOL": "2016-05-24",
                                    "foglalások száma": "1"
                                },
                                {
                                    "SZOBA_ID": "167",
                                    "METTOL": "2017-01-02",
                                    "foglalások száma": "1"
                                },
                                {
                                    "SZOBA_ID": "167",
                                    "METTOL": "NULL",
                                    "foglalások száma": "2"
                                },
                                {
                                    "SZOBA_ID": "168",
                                    "METTOL": "2016-06-07",
                                    "foglalások száma": "1"
                                },
                                {
                                    "SZOBA_ID": "168",
                                    "METTOL": "2016-08-16",
                                    "foglalások száma": "1"
                                },
                                {
                                    "SZOBA_ID": "168",
                                    "METTOL": "2016-08-17",
                                    "foglalások száma": "1"
                                },
                                {
                                    "SZOBA_ID": "168",
                                    "METTOL": "2016-11-05",
                                    "foglalások száma": "1"
                                },
                                {
                                    "SZOBA_ID": "168",
                                    "METTOL": "2016-11-08",
                                    "foglalások száma": "1"
                                },
                                {
                                    "SZOBA_ID": "168",
                                    "METTOL": "NULL",
                                    "foglalások száma": "5"
                                },
                                {
                                    "SZOBA_ID": "169",
                                    "METTOL": "2016-04-10",
                                    "foglalások száma": "1"
                                },
                                {
                                    "SZOBA_ID": "169",
                                    "METTOL": "2016-05-21",
                                    "foglalások száma": "1"
                                },
                                {
                                    "SZOBA_ID": "169",
                                    "METTOL": "2016-06-20",
                                    "foglalások száma": "1"
                                },
                                {
                                    "SZOBA_ID": "169",
                                    "METTOL": "2016-08-01",
                                    "foglalások száma": "1"
                                },
                                {
                                    "SZOBA_ID": "169",
                                    "METTOL": "2016-12-09",
                                    "foglalások száma": "1"
                                },
                                {
                                    "SZOBA_ID": "169",
                                    "METTOL": "2017-01-09",
                                    "foglalások száma": "1"
                                },
                                {
                                    "SZOBA_ID": "169",
                                    "METTOL": "NULL",
                                    "foglalások száma": "6"
                                },
                                {
                                    "SZOBA_ID": "170",
                                    "METTOL": "2016-04-10",
                                    "foglalások száma": "1"
                                },
                                {
                                    "SZOBA_ID": "170",
                                    "METTOL": "2016-06-10",
                                    "foglalások száma": "1"
                                },
                                {
                                    "SZOBA_ID": "170",
                                    "METTOL": "2016-10-26",
                                    "foglalások száma": "1"
                                },
                                {
                                    "SZOBA_ID": "170",
                                    "METTOL": "2016-11-09",
                                    "foglalások száma": "1"
                                },
                                {
                                    "SZOBA_ID": "170",
                                    "METTOL": "2016-12-04",
                                    "foglalások száma": "1"
                                },
                                {
                                    "SZOBA_ID": "170",
                                    "METTOL": "NULL",
                                    "foglalások száma": "5"
                                },
                                {
                                    "SZOBA_ID": "171",
                                    "METTOL": "2016-04-10",
                                    "foglalások száma": "1"
                                },
                                {
                                    "SZOBA_ID": "171",
                                    "METTOL": "2016-06-23",
                                    "foglalások száma": "1"
                                },
                                {
                                    "SZOBA_ID": "171",
                                    "METTOL": "2016-10-23",
                                    "foglalások száma": "1"
                                },
                                {
                                    "SZOBA_ID": "171",
                                    "METTOL": "2016-11-29",
                                    "foglalások száma": "1"
                                },
                                {
                                    "SZOBA_ID": "171",
                                    "METTOL": "2017-02-24",
                                    "foglalások száma": "1"
                                },
                                {
                                    "SZOBA_ID": "171",
                                    "METTOL": "NULL",
                                    "foglalások száma": "5"
                                },
                                {
                                    "SZOBA_ID": "172",
                                    "METTOL": "2016-06-24",
                                    "foglalások száma": "1"
                                },
                                {
                                    "SZOBA_ID": "172",
                                    "METTOL": "2016-07-24",
                                    "foglalások száma": "1"
                                },
                                {
                                    "SZOBA_ID": "172",
                                    "METTOL": "2016-08-02",
                                    "foglalások száma": "1"
                                },
                                {
                                    "SZOBA_ID": "172",
                                    "METTOL": "2016-08-29",
                                    "foglalások száma": "1"
                                },
                                {
                                    "SZOBA_ID": "172",
                                    "METTOL": "2016-10-09",
                                    "foglalások száma": "1"
                                },
                                {
                                    "SZOBA_ID": "172",
                                    "METTOL": "2016-10-20",
                                    "foglalások száma": "1"
                                },
                                {
                                    "SZOBA_ID": "172",
                                    "METTOL": "2016-12-02",
                                    "foglalások száma": "1"
                                },
                                {
                                    "SZOBA_ID": "172",
                                    "METTOL": "2017-01-05",
                                    "foglalások száma": "1"
                                },
                                {
                                    "SZOBA_ID": "172",
                                    "METTOL": "2017-02-03",
                                    "foglalások száma": "1"
                                },
                                {
                                    "SZOBA_ID": "172",
                                    "METTOL": "NULL",
                                    "foglalások száma": "9"
                                },
                                {
                                    "SZOBA_ID": "173",
                                    "METTOL": "2016-06-06",
                                    "foglalások száma": "1"
                                },
                                {
                                    "SZOBA_ID": "173",
                                    "METTOL": "2016-07-14",
                                    "foglalások száma": "1"
                                },
                                {
                                    "SZOBA_ID": "173",
                                    "METTOL": "2016-12-06",
                                    "foglalások száma": "1"
                                },
                                {
                                    "SZOBA_ID": "173",
                                    "METTOL": "2017-01-09",
                                    "foglalások száma": "1"
                                },
                                {
                                    "SZOBA_ID": "173",
                                    "METTOL": "NULL",
                                    "foglalások száma": "4"
                                },
                                {
                                    "SZOBA_ID": "174",
                                    "METTOL": "2016-06-06",
                                    "foglalások száma": "1"
                                },
                                {
                                    "SZOBA_ID": "174",
                                    "METTOL": "2016-07-06",
                                    "foglalások száma": "1"
                                },
                                {
                                    "SZOBA_ID": "174",
                                    "METTOL": "2016-07-18",
                                    "foglalások száma": "1"
                                },
                                {
                                    "SZOBA_ID": "174",
                                    "METTOL": "2016-11-12",
                                    "foglalások száma": "1"
                                },
                                {
                                    "SZOBA_ID": "174",
                                    "METTOL": "NULL",
                                    "foglalások száma": "4"
                                },
                                {
                                    "SZOBA_ID": "175",
                                    "METTOL": "2016-05-28",
                                    "foglalások száma": "1"
                                },
                                {
                                    "SZOBA_ID": "175",
                                    "METTOL": "2016-08-19",
                                    "foglalások száma": "1"
                                },
                                {
                                    "SZOBA_ID": "175",
                                    "METTOL": "2016-09-30",
                                    "foglalások száma": "1"
                                },
                                {
                                    "SZOBA_ID": "175",
                                    "METTOL": "2016-10-08",
                                    "foglalások száma": "1"
                                },
                                {
                                    "SZOBA_ID": "175",
                                    "METTOL": "2016-12-30",
                                    "foglalások száma": "1"
                                },
                                {
                                    "SZOBA_ID": "175",
                                    "METTOL": "NULL",
                                    "foglalások száma": "5"
                                },
                                {
                                    "SZOBA_ID": "176",
                                    "METTOL": "2016-04-21",
                                    "foglalások száma": "1"
                                },
                                {
                                    "SZOBA_ID": "176",
                                    "METTOL": "2016-10-09",
                                    "foglalások száma": "1"
                                },
                                {
                                    "SZOBA_ID": "176",
                                    "METTOL": "2016-11-13",
                                    "foglalások száma": "1"
                                },
                                {
                                    "SZOBA_ID": "176",
                                    "METTOL": "2016-12-22",
                                    "foglalások száma": "1"
                                },
                                {
                                    "SZOBA_ID": "176",
                                    "METTOL": "2017-02-08",
                                    "foglalások száma": "1"
                                },
                                {
                                    "SZOBA_ID": "176",
                                    "METTOL": "2017-02-24",
                                    "foglalások száma": "1"
                                },
                                {
                                    "SZOBA_ID": "176",
                                    "METTOL": "NULL",
                                    "foglalások száma": "6"
                                },
                                {
                                    "SZOBA_ID": "177",
                                    "METTOL": "2016-08-16",
                                    "foglalások száma": "1"
                                },
                                {
                                    "SZOBA_ID": "177",
                                    "METTOL": "2016-08-28",
                                    "foglalások száma": "1"
                                },
                                {
                                    "SZOBA_ID": "177",
                                    "METTOL": "2016-10-21",
                                    "foglalások száma": "1"
                                },
                                {
                                    "SZOBA_ID": "177",
                                    "METTOL": "2017-02-05",
                                    "foglalások száma": "1"
                                },
                                {
                                    "SZOBA_ID": "177",
                                    "METTOL": "NULL",
                                    "foglalások száma": "4"
                                },
                                {
                                    "SZOBA_ID": "178",
                                    "METTOL": "2016-06-28",
                                    "foglalások száma": "1"
                                },
                                {
                                    "SZOBA_ID": "178",
                                    "METTOL": "2016-08-24",
                                    "foglalások száma": "1"
                                },
                                {
                                    "SZOBA_ID": "178",
                                    "METTOL": "2016-10-28",
                                    "foglalások száma": "1"
                                },
                                {
                                    "SZOBA_ID": "178",
                                    "METTOL": "2016-11-03",
                                    "foglalások száma": "1"
                                },
                                {
                                    "SZOBA_ID": "178",
                                    "METTOL": "NULL",
                                    "foglalások száma": "4"
                                },
                                {
                                    "SZOBA_ID": "179",
                                    "METTOL": "2016-05-21",
                                    "foglalások száma": "1"
                                },
                                {
                                    "SZOBA_ID": "179",
                                    "METTOL": "2016-07-09",
                                    "foglalások száma": "1"
                                },
                                {
                                    "SZOBA_ID": "179",
                                    "METTOL": "2017-02-04",
                                    "foglalások száma": "1"
                                },
                                {
                                    "SZOBA_ID": "179",
                                    "METTOL": "NULL",
                                    "foglalások száma": "3"
                                },
                                {
                                    "SZOBA_ID": "180",
                                    "METTOL": "2016-06-04",
                                    "foglalások száma": "1"
                                },
                                {
                                    "SZOBA_ID": "180",
                                    "METTOL": "2017-02-22",
                                    "foglalások száma": "1"
                                },
                                {
                                    "SZOBA_ID": "180",
                                    "METTOL": "2017-02-23",
                                    "foglalások száma": "1"
                                },
                                {
                                    "SZOBA_ID": "180",
                                    "METTOL": "NULL",
                                    "foglalások száma": "3"
                                },
                                {
                                    "SZOBA_ID": "181",
                                    "METTOL": "2016-06-08",
                                    "foglalások száma": "1"
                                },
                                {
                                    "SZOBA_ID": "181",
                                    "METTOL": "2016-06-13",
                                    "foglalások száma": "1"
                                },
                                {
                                    "SZOBA_ID": "181",
                                    "METTOL": "2016-07-10",
                                    "foglalások száma": "1"
                                },
                                {
                                    "SZOBA_ID": "181",
                                    "METTOL": "2016-07-16",
                                    "foglalások száma": "1"
                                },
                                {
                                    "SZOBA_ID": "181",
                                    "METTOL": "2016-07-28",
                                    "foglalások száma": "1"
                                },
                                {
                                    "SZOBA_ID": "181",
                                    "METTOL": "2016-12-05",
                                    "foglalások száma": "1"
                                },
                                {
                                    "SZOBA_ID": "181",
                                    "METTOL": "NULL",
                                    "foglalások száma": "6"
                                },
                                {
                                    "SZOBA_ID": "182",
                                    "METTOL": "2016-04-10",
                                    "foglalások száma": "1"
                                },
                                {
                                    "SZOBA_ID": "182",
                                    "METTOL": "2016-06-07",
                                    "foglalások száma": "1"
                                },
                                {
                                    "SZOBA_ID": "182",
                                    "METTOL": "2016-07-04",
                                    "foglalások száma": "1"
                                },
                                {
                                    "SZOBA_ID": "182",
                                    "METTOL": "2016-07-30",
                                    "foglalások száma": "1"
                                },
                                {
                                    "SZOBA_ID": "182",
                                    "METTOL": "2016-10-24",
                                    "foglalások száma": "1"
                                },
                                {
                                    "SZOBA_ID": "182",
                                    "METTOL": "2016-10-30",
                                    "foglalások száma": "2"
                                },
                                {
                                    "SZOBA_ID": "182",
                                    "METTOL": "2016-11-23",
                                    "foglalások száma": "1"
                                },
                                {
                                    "SZOBA_ID": "182",
                                    "METTOL": "2016-11-25",
                                    "foglalások száma": "1"
                                },
                                {
                                    "SZOBA_ID": "182",
                                    "METTOL": "2016-11-28",
                                    "foglalások száma": "1"
                                },
                                {
                                    "SZOBA_ID": "182",
                                    "METTOL": "2017-01-01",
                                    "foglalások száma": "1"
                                },
                                {
                                    "SZOBA_ID": "182",
                                    "METTOL": "2017-01-06",
                                    "foglalások száma": "1"
                                },
                                {
                                    "SZOBA_ID": "182",
                                    "METTOL": "NULL",
                                    "foglalások száma": "12"
                                },
                                {
                                    "SZOBA_ID": "183",
                                    "METTOL": "2016-06-09",
                                    "foglalások száma": "1"
                                },
                                {
                                    "SZOBA_ID": "183",
                                    "METTOL": "2016-09-19",
                                    "foglalások száma": "1"
                                },
                                {
                                    "SZOBA_ID": "183",
                                    "METTOL": "2016-10-10",
                                    "foglalások száma": "1"
                                },
                                {
                                    "SZOBA_ID": "183",
                                    "METTOL": "2017-01-13",
                                    "foglalások száma": "1"
                                },
                                {
                                    "SZOBA_ID": "183",
                                    "METTOL": "NULL",
                                    "foglalások száma": "4"
                                },
                                {
                                    "SZOBA_ID": "184",
                                    "METTOL": "2016-04-28",
                                    "foglalások száma": "1"
                                },
                                {
                                    "SZOBA_ID": "184",
                                    "METTOL": "2016-05-30",
                                    "foglalások száma": "1"
                                },
                                {
                                    "SZOBA_ID": "184",
                                    "METTOL": "2016-07-18",
                                    "foglalások száma": "1"
                                },
                                {
                                    "SZOBA_ID": "184",
                                    "METTOL": "2016-11-05",
                                    "foglalások száma": "1"
                                },
                                {
                                    "SZOBA_ID": "184",
                                    "METTOL": "NULL",
                                    "foglalások száma": "4"
                                },
                                {
                                    "SZOBA_ID": "185",
                                    "METTOL": "2016-04-13",
                                    "foglalások száma": "1"
                                },
                                {
                                    "SZOBA_ID": "185",
                                    "METTOL": "2016-05-28",
                                    "foglalások száma": "1"
                                },
                                {
                                    "SZOBA_ID": "185",
                                    "METTOL": "2016-06-03",
                                    "foglalások száma": "1"
                                },
                                {
                                    "SZOBA_ID": "185",
                                    "METTOL": "2016-06-07",
                                    "foglalások száma": "1"
                                },
                                {
                                    "SZOBA_ID": "185",
                                    "METTOL": "2016-07-14",
                                    "foglalások száma": "1"
                                },
                                {
                                    "SZOBA_ID": "185",
                                    "METTOL": "2016-07-17",
                                    "foglalások száma": "1"
                                },
                                {
                                    "SZOBA_ID": "185",
                                    "METTOL": "2016-07-20",
                                    "foglalások száma": "1"
                                },
                                {
                                    "SZOBA_ID": "185",
                                    "METTOL": "2016-07-24",
                                    "foglalások száma": "1"
                                },
                                {
                                    "SZOBA_ID": "185",
                                    "METTOL": "2016-10-06",
                                    "foglalások száma": "1"
                                },
                                {
                                    "SZOBA_ID": "185",
                                    "METTOL": "2016-10-23",
                                    "foglalások száma": "1"
                                },
                                {
                                    "SZOBA_ID": "185",
                                    "METTOL": "2017-01-16",
                                    "foglalások száma": "1"
                                },
                                {
                                    "SZOBA_ID": "185",
                                    "METTOL": "2017-01-22",
                                    "foglalások száma": "1"
                                },
                                {
                                    "SZOBA_ID": "185",
                                    "METTOL": "NULL",
                                    "foglalások száma": "12"
                                },
                                {
                                    "SZOBA_ID": "186",
                                    "METTOL": "2016-05-01",
                                    "foglalások száma": "1"
                                },
                                {
                                    "SZOBA_ID": "186",
                                    "METTOL": "2016-10-15",
                                    "foglalások száma": "1"
                                },
                                {
                                    "SZOBA_ID": "186",
                                    "METTOL": "2016-11-05",
                                    "foglalások száma": "1"
                                },
                                {
                                    "SZOBA_ID": "186",
                                    "METTOL": "2017-01-22",
                                    "foglalások száma": "1"
                                },
                                {
                                    "SZOBA_ID": "186",
                                    "METTOL": "NULL",
                                    "foglalások száma": "4"
                                },
                                {
                                    "SZOBA_ID": "187",
                                    "METTOL": "2016-05-09",
                                    "foglalások száma": "1"
                                },
                                {
                                    "SZOBA_ID": "187",
                                    "METTOL": "2016-05-28",
                                    "foglalások száma": "1"
                                },
                                {
                                    "SZOBA_ID": "187",
                                    "METTOL": "2016-06-13",
                                    "foglalások száma": "1"
                                },
                                {
                                    "SZOBA_ID": "187",
                                    "METTOL": "2016-07-20",
                                    "foglalások száma": "1"
                                },
                                {
                                    "SZOBA_ID": "187",
                                    "METTOL": "2016-07-31",
                                    "foglalások száma": "1"
                                },
                                {
                                    "SZOBA_ID": "187",
                                    "METTOL": "2016-08-10",
                                    "foglalások száma": "1"
                                },
                                {
                                    "SZOBA_ID": "187",
                                    "METTOL": "2016-12-29",
                                    "foglalások száma": "1"
                                },
                                {
                                    "SZOBA_ID": "187",
                                    "METTOL": "NULL",
                                    "foglalások száma": "7"
                                },
                                {
                                    "SZOBA_ID": "188",
                                    "METTOL": "2016-06-06",
                                    "foglalások száma": "1"
                                },
                                {
                                    "SZOBA_ID": "188",
                                    "METTOL": "2016-07-19",
                                    "foglalások száma": "1"
                                },
                                {
                                    "SZOBA_ID": "188",
                                    "METTOL": "2016-07-24",
                                    "foglalások száma": "1"
                                },
                                {
                                    "SZOBA_ID": "188",
                                    "METTOL": "2016-08-01",
                                    "foglalások száma": "1"
                                },
                                {
                                    "SZOBA_ID": "188",
                                    "METTOL": "2016-09-05",
                                    "foglalások száma": "1"
                                },
                                {
                                    "SZOBA_ID": "188",
                                    "METTOL": "2016-12-25",
                                    "foglalások száma": "1"
                                },
                                {
                                    "SZOBA_ID": "188",
                                    "METTOL": "NULL",
                                    "foglalások száma": "6"
                                },
                                {
                                    "SZOBA_ID": "189",
                                    "METTOL": "2016-07-20",
                                    "foglalások száma": "1"
                                },
                                {
                                    "SZOBA_ID": "189",
                                    "METTOL": "2016-08-03",
                                    "foglalások száma": "1"
                                },
                                {
                                    "SZOBA_ID": "189",
                                    "METTOL": "2016-10-27",
                                    "foglalások száma": "1"
                                },
                                {
                                    "SZOBA_ID": "189",
                                    "METTOL": "2017-01-17",
                                    "foglalások száma": "1"
                                },
                                {
                                    "SZOBA_ID": "189",
                                    "METTOL": "2017-02-26",
                                    "foglalások száma": "1"
                                },
                                {
                                    "SZOBA_ID": "189",
                                    "METTOL": "NULL",
                                    "foglalások száma": "5"
                                },
                                {
                                    "SZOBA_ID": "190",
                                    "METTOL": "2016-04-24",
                                    "foglalások száma": "1"
                                },
                                {
                                    "SZOBA_ID": "190",
                                    "METTOL": "2016-06-27",
                                    "foglalások száma": "1"
                                },
                                {
                                    "SZOBA_ID": "190",
                                    "METTOL": "2016-07-08",
                                    "foglalások száma": "1"
                                },
                                {
                                    "SZOBA_ID": "190",
                                    "METTOL": "2016-08-13",
                                    "foglalások száma": "1"
                                },
                                {
                                    "SZOBA_ID": "190",
                                    "METTOL": "2017-02-11",
                                    "foglalások száma": "1"
                                },
                                {
                                    "SZOBA_ID": "190",
                                    "METTOL": "NULL",
                                    "foglalások száma": "5"
                                },
                                {
                                    "SZOBA_ID": "191",
                                    "METTOL": "2016-09-09",
                                    "foglalások száma": "1"
                                },
                                {
                                    "SZOBA_ID": "191",
                                    "METTOL": "2016-11-22",
                                    "foglalások száma": "1"
                                },
                                {
                                    "SZOBA_ID": "191",
                                    "METTOL": "2016-11-27",
                                    "foglalások száma": "1"
                                },
                                {
                                    "SZOBA_ID": "191",
                                    "METTOL": "2017-02-05",
                                    "foglalások száma": "1"
                                },
                                {
                                    "SZOBA_ID": "191",
                                    "METTOL": "2017-02-08",
                                    "foglalások száma": "1"
                                },
                                {
                                    "SZOBA_ID": "191",
                                    "METTOL": "NULL",
                                    "foglalások száma": "5"
                                },
                                {
                                    "SZOBA_ID": "192",
                                    "METTOL": "2016-06-04",
                                    "foglalások száma": "1"
                                },
                                {
                                    "SZOBA_ID": "192",
                                    "METTOL": "2016-07-17",
                                    "foglalások száma": "1"
                                },
                                {
                                    "SZOBA_ID": "192",
                                    "METTOL": "NULL",
                                    "foglalások száma": "2"
                                },
                                {
                                    "SZOBA_ID": "193",
                                    "METTOL": "2016-05-09",
                                    "foglalások száma": "1"
                                },
                                {
                                    "SZOBA_ID": "193",
                                    "METTOL": "2016-06-07",
                                    "foglalások száma": "1"
                                },
                                {
                                    "SZOBA_ID": "193",
                                    "METTOL": "2016-06-22",
                                    "foglalások száma": "1"
                                },
                                {
                                    "SZOBA_ID": "193",
                                    "METTOL": "2016-07-15",
                                    "foglalások száma": "1"
                                },
                                {
                                    "SZOBA_ID": "193",
                                    "METTOL": "2016-08-29",
                                    "foglalások száma": "1"
                                },
                                {
                                    "SZOBA_ID": "193",
                                    "METTOL": "2016-09-11",
                                    "foglalások száma": "1"
                                },
                                {
                                    "SZOBA_ID": "193",
                                    "METTOL": "2016-11-03",
                                    "foglalások száma": "1"
                                },
                                {
                                    "SZOBA_ID": "193",
                                    "METTOL": "NULL",
                                    "foglalások száma": "7"
                                },
                                {
                                    "SZOBA_ID": "194",
                                    "METTOL": "2016-09-30",
                                    "foglalások száma": "1"
                                },
                                {
                                    "SZOBA_ID": "194",
                                    "METTOL": "NULL",
                                    "foglalások száma": "1"
                                },
                                {
                                    "SZOBA_ID": "195",
                                    "METTOL": "2016-07-27",
                                    "foglalások száma": "1"
                                },
                                {
                                    "SZOBA_ID": "195",
                                    "METTOL": "2016-08-31",
                                    "foglalások száma": "1"
                                },
                                {
                                    "SZOBA_ID": "195",
                                    "METTOL": "2016-09-22",
                                    "foglalások száma": "1"
                                },
                                {
                                    "SZOBA_ID": "195",
                                    "METTOL": "2016-10-23",
                                    "foglalások száma": "1"
                                },
                                {
                                    "SZOBA_ID": "195",
                                    "METTOL": "2017-01-24",
                                    "foglalások száma": "1"
                                },
                                {
                                    "SZOBA_ID": "195",
                                    "METTOL": "2017-01-30",
                                    "foglalások száma": "1"
                                },
                                {
                                    "SZOBA_ID": "195",
                                    "METTOL": "NULL",
                                    "foglalások száma": "6"
                                },
                                {
                                    "SZOBA_ID": "196",
                                    "METTOL": "2016-06-11",
                                    "foglalások száma": "1"
                                },
                                {
                                    "SZOBA_ID": "196",
                                    "METTOL": "2016-07-14",
                                    "foglalások száma": "1"
                                },
                                {
                                    "SZOBA_ID": "196",
                                    "METTOL": "2016-11-23",
                                    "foglalások száma": "1"
                                },
                                {
                                    "SZOBA_ID": "196",
                                    "METTOL": "2016-12-04",
                                    "foglalások száma": "1"
                                },
                                {
                                    "SZOBA_ID": "196",
                                    "METTOL": "NULL",
                                    "foglalások száma": "4"
                                },
                                {
                                    "SZOBA_ID": "197",
                                    "METTOL": "2016-06-30",
                                    "foglalások száma": "1"
                                },
                                {
                                    "SZOBA_ID": "197",
                                    "METTOL": "2016-08-09",
                                    "foglalások száma": "1"
                                },
                                {
                                    "SZOBA_ID": "197",
                                    "METTOL": "2016-09-30",
                                    "foglalások száma": "1"
                                },
                                {
                                    "SZOBA_ID": "197",
                                    "METTOL": "2016-10-20",
                                    "foglalások száma": "1"
                                },
                                {
                                    "SZOBA_ID": "197",
                                    "METTOL": "2016-11-22",
                                    "foglalások száma": "1"
                                },
                                {
                                    "SZOBA_ID": "197",
                                    "METTOL": "2016-12-24",
                                    "foglalások száma": "1"
                                },
                                {
                                    "SZOBA_ID": "197",
                                    "METTOL": "NULL",
                                    "foglalások száma": "6"
                                },
                                {
                                    "SZOBA_ID": "198",
                                    "METTOL": "2016-06-22",
                                    "foglalások száma": "1"
                                },
                                {
                                    "SZOBA_ID": "198",
                                    "METTOL": "2016-07-04",
                                    "foglalások száma": "1"
                                },
                                {
                                    "SZOBA_ID": "198",
                                    "METTOL": "2016-09-18",
                                    "foglalások száma": "1"
                                },
                                {
                                    "SZOBA_ID": "198",
                                    "METTOL": "2016-10-03",
                                    "foglalások száma": "1"
                                },
                                {
                                    "SZOBA_ID": "198",
                                    "METTOL": "2016-10-09",
                                    "foglalások száma": "1"
                                },
                                {
                                    "SZOBA_ID": "198",
                                    "METTOL": "2016-10-17",
                                    "foglalások száma": "1"
                                },
                                {
                                    "SZOBA_ID": "198",
                                    "METTOL": "2016-10-29",
                                    "foglalások száma": "1"
                                },
                                {
                                    "SZOBA_ID": "198",
                                    "METTOL": "2017-01-05",
                                    "foglalások száma": "1"
                                },
                                {
                                    "SZOBA_ID": "198",
                                    "METTOL": "NULL",
                                    "foglalások száma": "8"
                                },
                                {
                                    "SZOBA_ID": "199",
                                    "METTOL": "NULL",
                                    "foglalások száma": "1"
                                },
                                {
                                    "SZOBA_ID": "199",
                                    "METTOL": "NULL",
                                    "foglalások száma": "1"
                                },
                                {
                                    "SZOBA_ID": "200",
                                    "METTOL": "NULL",
                                    "foglalások száma": "1"
                                },
                                {
                                    "SZOBA_ID": "200",
                                    "METTOL": "NULL",
                                    "foglalások száma": "1"
                                },
                                {
                                    "SZOBA_ID": "201",
                                    "METTOL": "NULL",
                                    "foglalások száma": "1"
                                },
                                {
                                    "SZOBA_ID": "201",
                                    "METTOL": "NULL",
                                    "foglalások száma": "1"
                                },
                                {
                                    "SZOBA_ID": "202",
                                    "METTOL": "NULL",
                                    "foglalások száma": "1"
                                },
                                {
                                    "SZOBA_ID": "202",
                                    "METTOL": "NULL",
                                    "foglalások száma": "1"
                                },
                                {
                                    "SZOBA_ID": "203",
                                    "METTOL": "NULL",
                                    "foglalások száma": "1"
                                },
                                {
                                    "SZOBA_ID": "203",
                                    "METTOL": "NULL",
                                    "foglalások száma": "1"
                                },
                                {
                                    "SZOBA_ID": "204",
                                    "METTOL": "NULL",
                                    "foglalások száma": "1"
                                },
                                {
                                    "SZOBA_ID": "204",
                                    "METTOL": "NULL",
                                    "foglalások száma": "1"
                                },
                                {
                                    "SZOBA_ID": "205",
                                    "METTOL": "NULL",
                                    "foglalások száma": "1"
                                },
                                {
                                    "SZOBA_ID": "205",
                                    "METTOL": "NULL",
                                    "foglalások száma": "1"
                                },
                                {
                                    "SZOBA_ID": "206",
                                    "METTOL": "NULL",
                                    "foglalások száma": "1"
                                },
                                {
                                    "SZOBA_ID": "206",
                                    "METTOL": "NULL",
                                    "foglalások száma": "1"
                                },
                                {
                                    "SZOBA_ID": "207",
                                    "METTOL": "NULL",
                                    "foglalások száma": "1"
                                },
                                {
                                    "SZOBA_ID": "207",
                                    "METTOL": "NULL",
                                    "foglalások száma": "1"
                                },
                                {
                                    "SZOBA_ID": "208",
                                    "METTOL": "NULL",
                                    "foglalások száma": "1"
                                },
                                {
                                    "SZOBA_ID": "208",
                                    "METTOL": "NULL",
                                    "foglalások száma": "1"
                                },
                                {
                                    "SZOBA_ID": "209",
                                    "METTOL": "NULL",
                                    "foglalások száma": "1"
                                },
                                {
                                    "SZOBA_ID": "209",
                                    "METTOL": "NULL",
                                    "foglalások száma": "1"
                                },
                                {
                                    "SZOBA_ID": "210",
                                    "METTOL": "NULL",
                                    "foglalások száma": "1"
                                },
                                {
                                    "SZOBA_ID": "210",
                                    "METTOL": "NULL",
                                    "foglalások száma": "1"
                                },
                                {
                                    "SZOBA_ID": "211",
                                    "METTOL": "NULL",
                                    "foglalások száma": "1"
                                },
                                {
                                    "SZOBA_ID": "211",
                                    "METTOL": "NULL",
                                    "foglalások száma": "1"
                                },
                                {
                                    "SZOBA_ID": "212",
                                    "METTOL": "NULL",
                                    "foglalások száma": "1"
                                },
                                {
                                    "SZOBA_ID": "212",
                                    "METTOL": "NULL",
                                    "foglalások száma": "1"
                                },
                                {
                                    "SZOBA_ID": "213",
                                    "METTOL": "NULL",
                                    "foglalások száma": "1"
                                },
                                {
                                    "SZOBA_ID": "213",
                                    "METTOL": "NULL",
                                    "foglalások száma": "1"
                                },
                                {
                                    "SZOBA_ID": "214",
                                    "METTOL": "NULL",
                                    "foglalások száma": "1"
                                },
                                {
                                    "SZOBA_ID": "214",
                                    "METTOL": "NULL",
                                    "foglalások száma": "1"
                                },
                                {
                                    "SZOBA_ID": "215",
                                    "METTOL": "NULL",
                                    "foglalások száma": "1"
                                },
                                {
                                    "SZOBA_ID": "215",
                                    "METTOL": "NULL",
                                    "foglalások száma": "1"
                                },
                                {
                                    "SZOBA_ID": "216",
                                    "METTOL": "NULL",
                                    "foglalások száma": "1"
                                },
                                {
                                    "SZOBA_ID": "216",
                                    "METTOL": "NULL",
                                    "foglalások száma": "1"
                                },
                                {
                                    "SZOBA_ID": "217",
                                    "METTOL": "NULL",
                                    "foglalások száma": "1"
                                },
                                {
                                    "SZOBA_ID": "217",
                                    "METTOL": "NULL",
                                    "foglalások száma": "1"
                                },
                                {
                                    "SZOBA_ID": "218",
                                    "METTOL": "NULL",
                                    "foglalások száma": "1"
                                },
                                {
                                    "SZOBA_ID": "218",
                                    "METTOL": "NULL",
                                    "foglalások száma": "1"
                                },
                                {
                                    "SZOBA_ID": "219",
                                    "METTOL": "NULL",
                                    "foglalások száma": "1"
                                },
                                {
                                    "SZOBA_ID": "219",
                                    "METTOL": "NULL",
                                    "foglalások száma": "1"
                                },
                                {
                                    "SZOBA_ID": "220",
                                    "METTOL": "NULL",
                                    "foglalások száma": "1"
                                },
                                {
                                    "SZOBA_ID": "220",
                                    "METTOL": "NULL",
                                    "foglalások száma": "1"
                                },
                                {
                                    "SZOBA_ID": "221",
                                    "METTOL": "NULL",
                                    "foglalások száma": "1"
                                },
                                {
                                    "SZOBA_ID": "221",
                                    "METTOL": "NULL",
                                    "foglalások száma": "1"
                                },
                                {
                                    "SZOBA_ID": "222",
                                    "METTOL": "NULL",
                                    "foglalások száma": "1"
                                },
                                {
                                    "SZOBA_ID": "222",
                                    "METTOL": "NULL",
                                    "foglalások száma": "1"
                                },
                                {
                                    "SZOBA_ID": "223",
                                    "METTOL": "NULL",
                                    "foglalások száma": "1"
                                },
                                {
                                    "SZOBA_ID": "223",
                                    "METTOL": "NULL",
                                    "foglalások száma": "1"
                                },
                                {
                                    "SZOBA_ID": "224",
                                    "METTOL": "NULL",
                                    "foglalások száma": "1"
                                },
                                {
                                    "SZOBA_ID": "224",
                                    "METTOL": "NULL",
                                    "foglalások száma": "1"
                                },
                                {
                                    "SZOBA_ID": "225",
                                    "METTOL": "NULL",
                                    "foglalások száma": "1"
                                },
                                {
                                    "SZOBA_ID": "225",
                                    "METTOL": "NULL",
                                    "foglalások száma": "1"
                                },
                                {
                                    "SZOBA_ID": "226",
                                    "METTOL": "NULL",
                                    "foglalások száma": "1"
                                },
                                {
                                    "SZOBA_ID": "226",
                                    "METTOL": "NULL",
                                    "foglalások száma": "1"
                                },
                                {
                                    "SZOBA_ID": "227",
                                    "METTOL": "NULL",
                                    "foglalások száma": "1"
                                },
                                {
                                    "SZOBA_ID": "227",
                                    "METTOL": "NULL",
                                    "foglalások száma": "1"
                                },
                                {
                                    "SZOBA_ID": "228",
                                    "METTOL": "NULL",
                                    "foglalások száma": "1"
                                },
                                {
                                    "SZOBA_ID": "228",
                                    "METTOL": "NULL",
                                    "foglalások száma": "1"
                                },
                                {
                                    "SZOBA_ID": "229",
                                    "METTOL": "NULL",
                                    "foglalások száma": "1"
                                },
                                {
                                    "SZOBA_ID": "229",
                                    "METTOL": "NULL",
                                    "foglalások száma": "1"
                                },
                                {
                                    "SZOBA_ID": "230",
                                    "METTOL": "NULL",
                                    "foglalások száma": "1"
                                },
                                {
                                    "SZOBA_ID": "230",
                                    "METTOL": "NULL",
                                    "foglalások száma": "1"
                                },
                                {
                                    "SZOBA_ID": "231",
                                    "METTOL": "NULL",
                                    "foglalások száma": "1"
                                },
                                {
                                    "SZOBA_ID": "231",
                                    "METTOL": "NULL",
                                    "foglalások száma": "1"
                                },
                                {
                                    "SZOBA_ID": "232",
                                    "METTOL": "NULL",
                                    "foglalások száma": "1"
                                },
                                {
                                    "SZOBA_ID": "232",
                                    "METTOL": "NULL",
                                    "foglalások száma": "1"
                                },
                                {
                                    "SZOBA_ID": "233",
                                    "METTOL": "NULL",
                                    "foglalások száma": "1"
                                },
                                {
                                    "SZOBA_ID": "233",
                                    "METTOL": "NULL",
                                    "foglalások száma": "1"
                                },
                                {
                                    "SZOBA_ID": "234",
                                    "METTOL": "NULL",
                                    "foglalások száma": "1"
                                },
                                {
                                    "SZOBA_ID": "234",
                                    "METTOL": "NULL",
                                    "foglalások száma": "1"
                                },
                                {
                                    "SZOBA_ID": "235",
                                    "METTOL": "NULL",
                                    "foglalások száma": "1"
                                },
                                {
                                    "SZOBA_ID": "235",
                                    "METTOL": "NULL",
                                    "foglalások száma": "1"
                                },
                                {
                                    "SZOBA_ID": "236",
                                    "METTOL": "NULL",
                                    "foglalások száma": "1"
                                },
                                {
                                    "SZOBA_ID": "236",
                                    "METTOL": "NULL",
                                    "foglalások száma": "1"
                                },
                                {
                                    "SZOBA_ID": "237",
                                    "METTOL": "NULL",
                                    "foglalások száma": "1"
                                },
                                {
                                    "SZOBA_ID": "237",
                                    "METTOL": "NULL",
                                    "foglalások száma": "1"
                                },
                                {
                                    "SZOBA_ID": "238",
                                    "METTOL": "NULL",
                                    "foglalások száma": "1"
                                },
                                {
                                    "SZOBA_ID": "238",
                                    "METTOL": "NULL",
                                    "foglalások száma": "1"
                                },
                                {
                                    "SZOBA_ID": "239",
                                    "METTOL": "NULL",
                                    "foglalások száma": "1"
                                },
                                {
                                    "SZOBA_ID": "239",
                                    "METTOL": "NULL",
                                    "foglalások száma": "1"
                                },
                                {
                                    "SZOBA_ID": "240",
                                    "METTOL": "NULL",
                                    "foglalások száma": "1"
                                },
                                {
                                    "SZOBA_ID": "240",
                                    "METTOL": "NULL",
                                    "foglalások száma": "1"
                                },
                                {
                                    "SZOBA_ID": "241",
                                    "METTOL": "NULL",
                                    "foglalások száma": "1"
                                },
                                {
                                    "SZOBA_ID": "241",
                                    "METTOL": "NULL",
                                    "foglalások száma": "1"
                                },
                                {
                                    "SZOBA_ID": "242",
                                    "METTOL": "NULL",
                                    "foglalások száma": "1"
                                },
                                {
                                    "SZOBA_ID": "242",
                                    "METTOL": "NULL",
                                    "foglalások száma": "1"
                                },
                                {
                                    "SZOBA_ID": "243",
                                    "METTOL": "NULL",
                                    "foglalások száma": "1"
                                },
                                {
                                    "SZOBA_ID": "243",
                                    "METTOL": "NULL",
                                    "foglalások száma": "1"
                                },
                                {
                                    "SZOBA_ID": "244",
                                    "METTOL": "NULL",
                                    "foglalások száma": "1"
                                },
                                {
                                    "SZOBA_ID": "244",
                                    "METTOL": "NULL",
                                    "foglalások száma": "1"
                                },
                                {
                                    "SZOBA_ID": "245",
                                    "METTOL": "NULL",
                                    "foglalások száma": "1"
                                },
                                {
                                    "SZOBA_ID": "245",
                                    "METTOL": "NULL",
                                    "foglalások száma": "1"
                                },
                                {
                                    "SZOBA_ID": "246",
                                    "METTOL": "NULL",
                                    "foglalások száma": "1"
                                },
                                {
                                    "SZOBA_ID": "246",
                                    "METTOL": "NULL",
                                    "foglalások száma": "1"
                                },
                                {
                                    "SZOBA_ID": "247",
                                    "METTOL": "NULL",
                                    "foglalások száma": "1"
                                },
                                {
                                    "SZOBA_ID": "247",
                                    "METTOL": "NULL",
                                    "foglalások száma": "1"
                                },
                                {
                                    "SZOBA_ID": "248",
                                    "METTOL": "NULL",
                                    "foglalások száma": "1"
                                },
                                {
                                    "SZOBA_ID": "248",
                                    "METTOL": "NULL",
                                    "foglalások száma": "1"
                                },
                                {
                                    "SZOBA_ID": "249",
                                    "METTOL": "NULL",
                                    "foglalások száma": "1"
                                },
                                {
                                    "SZOBA_ID": "249",
                                    "METTOL": "NULL",
                                    "foglalások száma": "1"
                                },
                                {
                                    "SZOBA_ID": "250",
                                    "METTOL": "NULL",
                                    "foglalások száma": "1"
                                },
                                {
                                    "SZOBA_ID": "250",
                                    "METTOL": "NULL",
                                    "foglalások száma": "1"
                                },
                                {
                                    "SZOBA_ID": "251",
                                    "METTOL": "NULL",
                                    "foglalások száma": "1"
                                },
                                {
                                    "SZOBA_ID": "251",
                                    "METTOL": "NULL",
                                    "foglalások száma": "1"
                                },
                                {
                                    "SZOBA_ID": "252",
                                    "METTOL": "NULL",
                                    "foglalások száma": "1"
                                },
                                {
                                    "SZOBA_ID": "252",
                                    "METTOL": "NULL",
                                    "foglalások száma": "1"
                                },
                                {
                                    "SZOBA_ID": "253",
                                    "METTOL": "NULL",
                                    "foglalások száma": "1"
                                },
                                {
                                    "SZOBA_ID": "253",
                                    "METTOL": "NULL",
                                    "foglalások száma": "1"
                                },
                                {
                                    "SZOBA_ID": "254",
                                    "METTOL": "NULL",
                                    "foglalások száma": "1"
                                },
                                {
                                    "SZOBA_ID": "254",
                                    "METTOL": "NULL",
                                    "foglalások száma": "1"
                                },
                                {
                                    "SZOBA_ID": "255",
                                    "METTOL": "NULL",
                                    "foglalások száma": "1"
                                },
                                {
                                    "SZOBA_ID": "255",
                                    "METTOL": "NULL",
                                    "foglalások száma": "1"
                                },
                                {
                                    "SZOBA_ID": "256",
                                    "METTOL": "NULL",
                                    "foglalások száma": "1"
                                },
                                {
                                    "SZOBA_ID": "256",
                                    "METTOL": "NULL",
                                    "foglalások száma": "1"
                                },
                                {
                                    "SZOBA_ID": "257",
                                    "METTOL": "NULL",
                                    "foglalások száma": "1"
                                },
                                {
                                    "SZOBA_ID": "257",
                                    "METTOL": "NULL",
                                    "foglalások száma": "1"
                                },
                                {
                                    "SZOBA_ID": "258",
                                    "METTOL": "NULL",
                                    "foglalások száma": "1"
                                },
                                {
                                    "SZOBA_ID": "258",
                                    "METTOL": "NULL",
                                    "foglalások száma": "1"
                                },
                                {
                                    "SZOBA_ID": "259",
                                    "METTOL": "NULL",
                                    "foglalások száma": "1"
                                },
                                {
                                    "SZOBA_ID": "259",
                                    "METTOL": "NULL",
                                    "foglalások száma": "1"
                                },
                                {
                                    "SZOBA_ID": "260",
                                    "METTOL": "NULL",
                                    "foglalások száma": "1"
                                },
                                {
                                    "SZOBA_ID": "260",
                                    "METTOL": "NULL",
                                    "foglalások száma": "1"
                                },
                                {
                                    "SZOBA_ID": "261",
                                    "METTOL": "NULL",
                                    "foglalások száma": "1"
                                },
                                {
                                    "SZOBA_ID": "261",
                                    "METTOL": "NULL",
                                    "foglalások száma": "1"
                                },
                                {
                                    "SZOBA_ID": "262",
                                    "METTOL": "NULL",
                                    "foglalások száma": "1"
                                },
                                {
                                    "SZOBA_ID": "262",
                                    "METTOL": "NULL",
                                    "foglalások száma": "1"
                                },
                                {
                                    "SZOBA_ID": "263",
                                    "METTOL": "NULL",
                                    "foglalások száma": "1"
                                },
                                {
                                    "SZOBA_ID": "263",
                                    "METTOL": "NULL",
                                    "foglalások száma": "1"
                                },
                                {
                                    "SZOBA_ID": "264",
                                    "METTOL": "NULL",
                                    "foglalások száma": "1"
                                },
                                {
                                    "SZOBA_ID": "264",
                                    "METTOL": "NULL",
                                    "foglalások száma": "1"
                                },
                                {
                                    "SZOBA_ID": "265",
                                    "METTOL": "NULL",
                                    "foglalások száma": "1"
                                },
                                {
                                    "SZOBA_ID": "265",
                                    "METTOL": "NULL",
                                    "foglalások száma": "1"
                                },
                                {
                                    "SZOBA_ID": "266",
                                    "METTOL": "NULL",
                                    "foglalások száma": "1"
                                },
                                {
                                    "SZOBA_ID": "266",
                                    "METTOL": "NULL",
                                    "foglalások száma": "1"
                                },
                                {
                                    "SZOBA_ID": "267",
                                    "METTOL": "NULL",
                                    "foglalások száma": "1"
                                },
                                {
                                    "SZOBA_ID": "267",
                                    "METTOL": "NULL",
                                    "foglalások száma": "1"
                                },
                                {
                                    "SZOBA_ID": "268",
                                    "METTOL": "NULL",
                                    "foglalások száma": "1"
                                },
                                {
                                    "SZOBA_ID": "268",
                                    "METTOL": "NULL",
                                    "foglalások száma": "1"
                                },
                                {
                                    "SZOBA_ID": "269",
                                    "METTOL": "NULL",
                                    "foglalások száma": "1"
                                },
                                {
                                    "SZOBA_ID": "269",
                                    "METTOL": "NULL",
                                    "foglalások száma": "1"
                                },
                                {
                                    "SZOBA_ID": "270",
                                    "METTOL": "NULL",
                                    "foglalások száma": "1"
                                },
                                {
                                    "SZOBA_ID": "270",
                                    "METTOL": "NULL",
                                    "foglalások száma": "1"
                                },
                                {
                                    "SZOBA_ID": "271",
                                    "METTOL": "NULL",
                                    "foglalások száma": "1"
                                },
                                {
                                    "SZOBA_ID": "271",
                                    "METTOL": "NULL",
                                    "foglalások száma": "1"
                                },
                                {
                                    "SZOBA_ID": "272",
                                    "METTOL": "NULL",
                                    "foglalások száma": "1"
                                },
                                {
                                    "SZOBA_ID": "272",
                                    "METTOL": "NULL",
                                    "foglalások száma": "1"
                                },
                                {
                                    "SZOBA_ID": "273",
                                    "METTOL": "NULL",
                                    "foglalások száma": "1"
                                },
                                {
                                    "SZOBA_ID": "273",
                                    "METTOL": "NULL",
                                    "foglalások száma": "1"
                                },
                                {
                                    "SZOBA_ID": "274",
                                    "METTOL": "NULL",
                                    "foglalások száma": "1"
                                },
                                {
                                    "SZOBA_ID": "274",
                                    "METTOL": "NULL",
                                    "foglalások száma": "1"
                                },
                                {
                                    "SZOBA_ID": "275",
                                    "METTOL": "NULL",
                                    "foglalások száma": "1"
                                },
                                {
                                    "SZOBA_ID": "275",
                                    "METTOL": "NULL",
                                    "foglalások száma": "1"
                                },
                                {
                                    "SZOBA_ID": "276",
                                    "METTOL": "NULL",
                                    "foglalások száma": "1"
                                },
                                {
                                    "SZOBA_ID": "276",
                                    "METTOL": "NULL",
                                    "foglalások száma": "1"
                                },
                                {
                                    "SZOBA_ID": "277",
                                    "METTOL": "NULL",
                                    "foglalások száma": "1"
                                },
                                {
                                    "SZOBA_ID": "277",
                                    "METTOL": "NULL",
                                    "foglalások száma": "1"
                                },
                                {
                                    "SZOBA_ID": "278",
                                    "METTOL": "NULL",
                                    "foglalások száma": "1"
                                },
                                {
                                    "SZOBA_ID": "278",
                                    "METTOL": "NULL",
                                    "foglalások száma": "1"
                                },
                                {
                                    "SZOBA_ID": "279",
                                    "METTOL": "NULL",
                                    "foglalások száma": "1"
                                },
                                {
                                    "SZOBA_ID": "279",
                                    "METTOL": "NULL",
                                    "foglalások száma": "1"
                                },
                                {
                                    "SZOBA_ID": "280",
                                    "METTOL": "NULL",
                                    "foglalások száma": "1"
                                },
                                {
                                    "SZOBA_ID": "280",
                                    "METTOL": "NULL",
                                    "foglalások száma": "1"
                                },
                                {
                                    "SZOBA_ID": "281",
                                    "METTOL": "NULL",
                                    "foglalások száma": "1"
                                },
                                {
                                    "SZOBA_ID": "281",
                                    "METTOL": "NULL",
                                    "foglalások száma": "1"
                                },
                                {
                                    "SZOBA_ID": "282",
                                    "METTOL": "NULL",
                                    "foglalások száma": "1"
                                },
                                {
                                    "SZOBA_ID": "282",
                                    "METTOL": "NULL",
                                    "foglalások száma": "1"
                                },
                                {
                                    "SZOBA_ID": "283",
                                    "METTOL": "NULL",
                                    "foglalások száma": "1"
                                },
                                {
                                    "SZOBA_ID": "283",
                                    "METTOL": "NULL",
                                    "foglalások száma": "1"
                                },
                                {
                                    "SZOBA_ID": "284",
                                    "METTOL": "NULL",
                                    "foglalások száma": "1"
                                },
                                {
                                    "SZOBA_ID": "284",
                                    "METTOL": "NULL",
                                    "foglalások száma": "1"
                                },
                                {
                                    "SZOBA_ID": "285",
                                    "METTOL": "NULL",
                                    "foglalások száma": "1"
                                },
                                {
                                    "SZOBA_ID": "285",
                                    "METTOL": "NULL",
                                    "foglalások száma": "1"
                                },
                                {
                                    "SZOBA_ID": "286",
                                    "METTOL": "NULL",
                                    "foglalások száma": "1"
                                },
                                {
                                    "SZOBA_ID": "286",
                                    "METTOL": "NULL",
                                    "foglalások száma": "1"
                                },
                                {
                                    "SZOBA_ID": "287",
                                    "METTOL": "NULL",
                                    "foglalások száma": "1"
                                },
                                {
                                    "SZOBA_ID": "287",
                                    "METTOL": "NULL",
                                    "foglalások száma": "1"
                                },
                                {
                                    "SZOBA_ID": "288",
                                    "METTOL": "NULL",
                                    "foglalások száma": "1"
                                },
                                {
                                    "SZOBA_ID": "288",
                                    "METTOL": "NULL",
                                    "foglalások száma": "1"
                                },
                                {
                                    "SZOBA_ID": "289",
                                    "METTOL": "NULL",
                                    "foglalások száma": "1"
                                },
                                {
                                    "SZOBA_ID": "289",
                                    "METTOL": "NULL",
                                    "foglalások száma": "1"
                                },
                                {
                                    "SZOBA_ID": "290",
                                    "METTOL": "NULL",
                                    "foglalások száma": "1"
                                },
                                {
                                    "SZOBA_ID": "290",
                                    "METTOL": "NULL",
                                    "foglalások száma": "1"
                                },
                                {
                                    "SZOBA_ID": "291",
                                    "METTOL": "NULL",
                                    "foglalások száma": "1"
                                },
                                {
                                    "SZOBA_ID": "291",
                                    "METTOL": "NULL",
                                    "foglalások száma": "1"
                                },
                                {
                                    "SZOBA_ID": "292",
                                    "METTOL": "NULL",
                                    "foglalások száma": "1"
                                },
                                {
                                    "SZOBA_ID": "292",
                                    "METTOL": "NULL",
                                    "foglalások száma": "1"
                                },
                                {
                                    "SZOBA_ID": "293",
                                    "METTOL": "NULL",
                                    "foglalások száma": "1"
                                },
                                {
                                    "SZOBA_ID": "293",
                                    "METTOL": "NULL",
                                    "foglalások száma": "1"
                                },
                                {
                                    "SZOBA_ID": "294",
                                    "METTOL": "NULL",
                                    "foglalások száma": "1"
                                },
                                {
                                    "SZOBA_ID": "294",
                                    "METTOL": "NULL",
                                    "foglalások száma": "1"
                                },
                                {
                                    "SZOBA_ID": "NULL",
                                    "METTOL": "NULL",
                                    "foglalások száma": "1124"
                                }
                            ]
                        },
                        "text/html": [
                            "<table>",
                            "<tr><th>SZOBA_ID</th><th>METTOL</th><th>foglalások száma</th></tr>",
                            "<tr><td>1</td><td>2016-05-05</td><td>1</td></tr>",
                            "<tr><td>1</td><td>2016-06-10</td><td>1</td></tr>",
                            "<tr><td>1</td><td>2016-07-30</td><td>1</td></tr>",
                            "<tr><td>1</td><td>2016-08-20</td><td>1</td></tr>",
                            "<tr><td>1</td><td>2016-10-09</td><td>1</td></tr>",
                            "<tr><td>1</td><td>2016-10-15</td><td>1</td></tr>",
                            "<tr><td>1</td><td>2016-11-11</td><td>1</td></tr>",
                            "<tr><td>1</td><td>2016-12-01</td><td>1</td></tr>",
                            "<tr><td>1</td><td>NULL</td><td>8</td></tr>",
                            "<tr><td>2</td><td>2016-08-27</td><td>1</td></tr>",
                            "<tr><td>2</td><td>2016-09-14</td><td>1</td></tr>",
                            "<tr><td>2</td><td>2016-09-19</td><td>1</td></tr>",
                            "<tr><td>2</td><td>2016-11-23</td><td>1</td></tr>",
                            "<tr><td>2</td><td>NULL</td><td>4</td></tr>",
                            "<tr><td>3</td><td>2016-05-09</td><td>1</td></tr>",
                            "<tr><td>3</td><td>2016-07-13</td><td>1</td></tr>",
                            "<tr><td>3</td><td>2016-08-16</td><td>1</td></tr>",
                            "<tr><td>3</td><td>2016-09-08</td><td>1</td></tr>",
                            "<tr><td>3</td><td>2016-10-01</td><td>1</td></tr>",
                            "<tr><td>3</td><td>2016-10-14</td><td>1</td></tr>",
                            "<tr><td>3</td><td>2017-01-12</td><td>1</td></tr>",
                            "<tr><td>3</td><td>2017-02-16</td><td>1</td></tr>",
                            "<tr><td>3</td><td>NULL</td><td>8</td></tr>",
                            "<tr><td>4</td><td>2016-05-17</td><td>1</td></tr>",
                            "<tr><td>4</td><td>2016-06-10</td><td>1</td></tr>",
                            "<tr><td>4</td><td>2016-07-02</td><td>1</td></tr>",
                            "<tr><td>4</td><td>2016-10-07</td><td>1</td></tr>",
                            "<tr><td>4</td><td>2016-10-08</td><td>1</td></tr>",
                            "<tr><td>4</td><td>2017-02-03</td><td>1</td></tr>",
                            "<tr><td>4</td><td>NULL</td><td>6</td></tr>",
                            "<tr><td>5</td><td>2016-04-08</td><td>1</td></tr>",
                            "<tr><td>5</td><td>2016-06-16</td><td>1</td></tr>",
                            "<tr><td>5</td><td>2016-09-21</td><td>1</td></tr>",
                            "<tr><td>5</td><td>2016-11-07</td><td>1</td></tr>",
                            "<tr><td>5</td><td>NULL</td><td>4</td></tr>",
                            "<tr><td>6</td><td>2016-04-06</td><td>1</td></tr>",
                            "<tr><td>6</td><td>2016-05-29</td><td>1</td></tr>",
                            "<tr><td>6</td><td>2016-06-27</td><td>1</td></tr>",
                            "<tr><td>6</td><td>2016-08-12</td><td>1</td></tr>",
                            "<tr><td>6</td><td>2016-09-05</td><td>1</td></tr>",
                            "<tr><td>6</td><td>2016-10-01</td><td>1</td></tr>",
                            "<tr><td>6</td><td>NULL</td><td>6</td></tr>",
                            "<tr><td>7</td><td>2016-04-06</td><td>1</td></tr>",
                            "<tr><td>7</td><td>2016-08-06</td><td>1</td></tr>",
                            "<tr><td>7</td><td>2016-10-08</td><td>1</td></tr>",
                            "<tr><td>7</td><td>2016-10-21</td><td>1</td></tr>",
                            "<tr><td>7</td><td>2016-10-23</td><td>1</td></tr>",
                            "<tr><td>7</td><td>2016-11-05</td><td>1</td></tr>",
                            "<tr><td>7</td><td>NULL</td><td>6</td></tr>",
                            "<tr><td>8</td><td>2016-05-30</td><td>1</td></tr>",
                            "<tr><td>8</td><td>2016-06-10</td><td>1</td></tr>",
                            "<tr><td>8</td><td>2016-07-20</td><td>1</td></tr>",
                            "<tr><td>8</td><td>2016-08-24</td><td>1</td></tr>",
                            "<tr><td>8</td><td>2016-08-28</td><td>1</td></tr>",
                            "<tr><td>8</td><td>NULL</td><td>5</td></tr>",
                            "<tr><td>9</td><td>2016-04-29</td><td>1</td></tr>",
                            "<tr><td>9</td><td>2016-10-15</td><td>1</td></tr>",
                            "<tr><td>9</td><td>2016-10-30</td><td>1</td></tr>",
                            "<tr><td>9</td><td>2016-11-07</td><td>1</td></tr>",
                            "<tr><td>9</td><td>2017-01-06</td><td>1</td></tr>",
                            "<tr><td>9</td><td>2017-02-16</td><td>1</td></tr>",
                            "<tr><td>9</td><td>NULL</td><td>6</td></tr>",
                            "<tr><td>10</td><td>2016-04-10</td><td>1</td></tr>",
                            "<tr><td>10</td><td>2016-08-16</td><td>1</td></tr>",
                            "<tr><td>10</td><td>2016-08-17</td><td>1</td></tr>",
                            "<tr><td>10</td><td>2016-11-25</td><td>1</td></tr>",
                            "<tr><td>10</td><td>NULL</td><td>4</td></tr>",
                            "<tr><td>11</td><td>2016-06-06</td><td>1</td></tr>",
                            "<tr><td>11</td><td>2016-10-05</td><td>1</td></tr>",
                            "<tr><td>11</td><td>2016-11-01</td><td>1</td></tr>",
                            "<tr><td>11</td><td>2017-02-12</td><td>1</td></tr>",
                            "<tr><td>11</td><td>NULL</td><td>4</td></tr>",
                            "<tr><td>12</td><td>2016-05-30</td><td>1</td></tr>",
                            "<tr><td>12</td><td>2016-06-11</td><td>1</td></tr>",
                            "<tr><td>12</td><td>2016-06-17</td><td>1</td></tr>",
                            "<tr><td>12</td><td>2016-07-09</td><td>1</td></tr>",
                            "<tr><td>12</td><td>2016-07-20</td><td>1</td></tr>",
                            "<tr><td>12</td><td>2016-08-13</td><td>1</td></tr>",
                            "<tr><td>12</td><td>2016-10-09</td><td>1</td></tr>",
                            "<tr><td>12</td><td>2016-10-18</td><td>1</td></tr>",
                            "<tr><td>12</td><td>2017-01-09</td><td>1</td></tr>",
                            "<tr><td>12</td><td>NULL</td><td>9</td></tr>",
                            "<tr><td>13</td><td>2016-08-08</td><td>1</td></tr>",
                            "<tr><td>13</td><td>2016-09-12</td><td>1</td></tr>",
                            "<tr><td>13</td><td>2016-12-06</td><td>1</td></tr>",
                            "<tr><td>13</td><td>2017-01-23</td><td>1</td></tr>",
                            "<tr><td>13</td><td>NULL</td><td>4</td></tr>",
                            "<tr><td>14</td><td>2016-05-22</td><td>1</td></tr>",
                            "<tr><td>14</td><td>2016-08-24</td><td>1</td></tr>",
                            "<tr><td>14</td><td>2017-02-16</td><td>1</td></tr>",
                            "<tr><td>14</td><td>NULL</td><td>3</td></tr>",
                            "<tr><td>15</td><td>2016-07-13</td><td>1</td></tr>",
                            "<tr><td>15</td><td>2016-08-16</td><td>1</td></tr>",
                            "<tr><td>15</td><td>2016-10-08</td><td>1</td></tr>",
                            "<tr><td>15</td><td>2016-11-03</td><td>1</td></tr>",
                            "<tr><td>15</td><td>2017-01-04</td><td>1</td></tr>",
                            "<tr><td>15</td><td>2017-01-16</td><td>1</td></tr>",
                            "<tr><td>15</td><td>NULL</td><td>6</td></tr>",
                            "<tr><td>16</td><td>2016-05-24</td><td>1</td></tr>",
                            "<tr><td>16</td><td>2016-06-03</td><td>1</td></tr>",
                            "<tr><td>16</td><td>2016-06-20</td><td>1</td></tr>",
                            "<tr><td>16</td><td>2016-07-18</td><td>1</td></tr>",
                            "<tr><td>16</td><td>2017-02-04</td><td>1</td></tr>",
                            "<tr><td>16</td><td>NULL</td><td>5</td></tr>",
                            "<tr><td>17</td><td>2016-04-26</td><td>1</td></tr>",
                            "<tr><td>17</td><td>2016-06-06</td><td>1</td></tr>",
                            "<tr><td>17</td><td>2016-07-24</td><td>1</td></tr>",
                            "<tr><td>17</td><td>2016-08-01</td><td>1</td></tr>",
                            "<tr><td>17</td><td>2016-11-25</td><td>1</td></tr>",
                            "<tr><td>17</td><td>2017-02-18</td><td>1</td></tr>",
                            "<tr><td>17</td><td>NULL</td><td>6</td></tr>",
                            "<tr><td>18</td><td>2016-05-08</td><td>1</td></tr>",
                            "<tr><td>18</td><td>2016-08-11</td><td>1</td></tr>",
                            "<tr><td>18</td><td>2016-09-07</td><td>1</td></tr>",
                            "<tr><td>18</td><td>2016-10-21</td><td>1</td></tr>",
                            "<tr><td>18</td><td>2016-10-26</td><td>1</td></tr>",
                            "<tr><td>18</td><td>2017-02-06</td><td>1</td></tr>",
                            "<tr><td>18</td><td>NULL</td><td>6</td></tr>",
                            "<tr><td>19</td><td>2016-06-10</td><td>1</td></tr>",
                            "<tr><td>19</td><td>2016-07-20</td><td>1</td></tr>",
                            "<tr><td>19</td><td>2016-08-14</td><td>1</td></tr>",
                            "<tr><td>19</td><td>2016-10-09</td><td>1</td></tr>",
                            "<tr><td>19</td><td>2016-11-02</td><td>1</td></tr>",
                            "<tr><td>19</td><td>2017-02-14</td><td>1</td></tr>",
                            "<tr><td>19</td><td>NULL</td><td>6</td></tr>",
                            "<tr><td>20</td><td>2016-08-04</td><td>1</td></tr>",
                            "<tr><td>20</td><td>2016-08-24</td><td>1</td></tr>",
                            "<tr><td>20</td><td>2016-09-19</td><td>1</td></tr>",
                            "<tr><td>20</td><td>2016-10-01</td><td>2</td></tr>",
                            "<tr><td>20</td><td>NULL</td><td>5</td></tr>",
                            "<tr><td>21</td><td>2016-04-09</td><td>1</td></tr>",
                            "<tr><td>21</td><td>2016-05-21</td><td>1</td></tr>",
                            "<tr><td>21</td><td>2016-08-21</td><td>1</td></tr>",
                            "<tr><td>21</td><td>2016-10-28</td><td>1</td></tr>",
                            "<tr><td>21</td><td>NULL</td><td>4</td></tr>",
                            "<tr><td>22</td><td>2016-06-04</td><td>1</td></tr>",
                            "<tr><td>22</td><td>2016-07-03</td><td>1</td></tr>",
                            "<tr><td>22</td><td>2016-10-08</td><td>1</td></tr>",
                            "<tr><td>22</td><td>2016-10-26</td><td>1</td></tr>",
                            "<tr><td>22</td><td>2016-10-27</td><td>1</td></tr>",
                            "<tr><td>22</td><td>2016-11-17</td><td>1</td></tr>",
                            "<tr><td>22</td><td>NULL</td><td>6</td></tr>",
                            "<tr><td>23</td><td>2016-06-08</td><td>1</td></tr>",
                            "<tr><td>23</td><td>2016-06-10</td><td>1</td></tr>",
                            "<tr><td>23</td><td>2016-09-04</td><td>1</td></tr>",
                            "<tr><td>23</td><td>NULL</td><td>3</td></tr>",
                            "<tr><td>24</td><td>2016-05-23</td><td>1</td></tr>",
                            "<tr><td>24</td><td>2016-10-19</td><td>1</td></tr>",
                            "<tr><td>24</td><td>2017-01-03</td><td>1</td></tr>",
                            "<tr><td>24</td><td>NULL</td><td>3</td></tr>",
                            "<tr><td>25</td><td>2016-09-14</td><td>1</td></tr>",
                            "<tr><td>25</td><td>2016-12-14</td><td>1</td></tr>",
                            "<tr><td>25</td><td>NULL</td><td>2</td></tr>",
                            "<tr><td>26</td><td>2016-10-16</td><td>1</td></tr>",
                            "<tr><td>26</td><td>2016-12-24</td><td>1</td></tr>",
                            "<tr><td>26</td><td>NULL</td><td>2</td></tr>",
                            "<tr><td>27</td><td>2016-08-05</td><td>1</td></tr>",
                            "<tr><td>27</td><td>2016-08-22</td><td>1</td></tr>",
                            "<tr><td>27</td><td>2016-09-05</td><td>1</td></tr>",
                            "<tr><td>27</td><td>2016-09-26</td><td>1</td></tr>",
                            "<tr><td>27</td><td>2016-11-11</td><td>1</td></tr>",
                            "<tr><td>27</td><td>2016-12-18</td><td>1</td></tr>",
                            "<tr><td>27</td><td>2017-01-27</td><td>1</td></tr>",
                            "<tr><td>27</td><td>NULL</td><td>7</td></tr>",
                            "<tr><td>28</td><td>2016-05-29</td><td>1</td></tr>",
                            "<tr><td>28</td><td>2016-06-01</td><td>1</td></tr>",
                            "<tr><td>28</td><td>2016-06-04</td><td>1</td></tr>",
                            "<tr><td>28</td><td>2016-07-27</td><td>1</td></tr>",
                            "<tr><td>28</td><td>2016-10-13</td><td>1</td></tr>",
                            "<tr><td>28</td><td>2017-01-20</td><td>1</td></tr>",
                            "<tr><td>28</td><td>NULL</td><td>6</td></tr>",
                            "<tr><td>29</td><td>2016-05-01</td><td>1</td></tr>",
                            "<tr><td>29</td><td>2016-06-03</td><td>1</td></tr>",
                            "<tr><td>29</td><td>2016-09-23</td><td>1</td></tr>",
                            "<tr><td>29</td><td>2016-10-23</td><td>1</td></tr>",
                            "<tr><td>29</td><td>2016-11-01</td><td>1</td></tr>",
                            "<tr><td>29</td><td>2017-02-24</td><td>1</td></tr>",
                            "<tr><td>29</td><td>NULL</td><td>6</td></tr>",
                            "<tr><td>30</td><td>2016-04-27</td><td>1</td></tr>",
                            "<tr><td>30</td><td>2016-07-10</td><td>1</td></tr>",
                            "<tr><td>30</td><td>2016-10-09</td><td>1</td></tr>",
                            "<tr><td>30</td><td>NULL</td><td>3</td></tr>",
                            "<tr><td>31</td><td>2016-04-24</td><td>1</td></tr>",
                            "<tr><td>31</td><td>2016-04-27</td><td>1</td></tr>",
                            "<tr><td>31</td><td>2016-07-27</td><td>1</td></tr>",
                            "<tr><td>31</td><td>NULL</td><td>3</td></tr>",
                            "<tr><td>32</td><td>2016-06-06</td><td>1</td></tr>",
                            "<tr><td>32</td><td>NULL</td><td>1</td></tr>",
                            "<tr><td>33</td><td>2016-05-08</td><td>1</td></tr>",
                            "<tr><td>33</td><td>2016-07-05</td><td>1</td></tr>",
                            "<tr><td>33</td><td>2016-09-15</td><td>1</td></tr>",
                            "<tr><td>33</td><td>2016-11-25</td><td>1</td></tr>",
                            "<tr><td>33</td><td>2016-12-05</td><td>1</td></tr>",
                            "<tr><td>33</td><td>2016-12-21</td><td>1</td></tr>",
                            "<tr><td>33</td><td>NULL</td><td>6</td></tr>",
                            "<tr><td>34</td><td>2016-05-28</td><td>1</td></tr>",
                            "<tr><td>34</td><td>2016-06-04</td><td>1</td></tr>",
                            "<tr><td>34</td><td>2016-08-14</td><td>1</td></tr>",
                            "<tr><td>34</td><td>2016-08-24</td><td>1</td></tr>",
                            "<tr><td>34</td><td>NULL</td><td>4</td></tr>",
                            "<tr><td>35</td><td>2016-06-18</td><td>1</td></tr>",
                            "<tr><td>35</td><td>2016-06-22</td><td>1</td></tr>",
                            "<tr><td>35</td><td>2016-07-18</td><td>1</td></tr>",
                            "<tr><td>35</td><td>2016-07-23</td><td>1</td></tr>",
                            "<tr><td>35</td><td>2016-08-28</td><td>1</td></tr>",
                            "<tr><td>35</td><td>2016-12-29</td><td>1</td></tr>",
                            "<tr><td>35</td><td>2017-01-01</td><td>1</td></tr>",
                            "<tr><td>35</td><td>2017-01-13</td><td>1</td></tr>",
                            "<tr><td>35</td><td>2017-02-13</td><td>1</td></tr>",
                            "<tr><td>35</td><td>NULL</td><td>9</td></tr>",
                            "<tr><td>36</td><td>2016-06-03</td><td>1</td></tr>",
                            "<tr><td>36</td><td>2016-06-06</td><td>1</td></tr>",
                            "<tr><td>36</td><td>2016-06-24</td><td>1</td></tr>",
                            "<tr><td>36</td><td>2016-07-03</td><td>1</td></tr>",
                            "<tr><td>36</td><td>2016-08-02</td><td>1</td></tr>",
                            "<tr><td>36</td><td>2016-08-03</td><td>1</td></tr>",
                            "<tr><td>36</td><td>NULL</td><td>6</td></tr>",
                            "<tr><td>37</td><td>2016-07-19</td><td>1</td></tr>",
                            "<tr><td>37</td><td>2016-07-22</td><td>1</td></tr>",
                            "<tr><td>37</td><td>2016-12-01</td><td>1</td></tr>",
                            "<tr><td>37</td><td>NULL</td><td>3</td></tr>",
                            "<tr><td>38</td><td>2016-05-08</td><td>1</td></tr>",
                            "<tr><td>38</td><td>2016-09-05</td><td>1</td></tr>",
                            "<tr><td>38</td><td>2016-09-17</td><td>1</td></tr>",
                            "<tr><td>38</td><td>2016-09-23</td><td>1</td></tr>",
                            "<tr><td>38</td><td>2016-12-06</td><td>1</td></tr>",
                            "<tr><td>38</td><td>2017-01-03</td><td>1</td></tr>",
                            "<tr><td>38</td><td>2017-01-28</td><td>1</td></tr>",
                            "<tr><td>38</td><td>2017-02-21</td><td>1</td></tr>",
                            "<tr><td>38</td><td>NULL</td><td>8</td></tr>",
                            "<tr><td>39</td><td>2016-04-25</td><td>1</td></tr>",
                            "<tr><td>39</td><td>2016-06-03</td><td>1</td></tr>",
                            "<tr><td>39</td><td>2016-10-29</td><td>1</td></tr>",
                            "<tr><td>39</td><td>2016-12-20</td><td>1</td></tr>",
                            "<tr><td>39</td><td>2017-01-12</td><td>1</td></tr>",
                            "<tr><td>39</td><td>2017-01-18</td><td>1</td></tr>",
                            "<tr><td>39</td><td>2017-02-16</td><td>1</td></tr>",
                            "<tr><td>39</td><td>NULL</td><td>7</td></tr>",
                            "<tr><td>40</td><td>2016-06-07</td><td>2</td></tr>",
                            "<tr><td>40</td><td>2016-07-08</td><td>1</td></tr>",
                            "<tr><td>40</td><td>2016-10-03</td><td>1</td></tr>",
                            "<tr><td>40</td><td>NULL</td><td>4</td></tr>",
                            "<tr><td>41</td><td>2016-06-15</td><td>1</td></tr>",
                            "<tr><td>41</td><td>2016-10-09</td><td>1</td></tr>",
                            "<tr><td>41</td><td>NULL</td><td>2</td></tr>",
                            "<tr><td>42</td><td>2016-04-06</td><td>1</td></tr>",
                            "<tr><td>42</td><td>2016-04-19</td><td>1</td></tr>",
                            "<tr><td>42</td><td>2016-05-22</td><td>1</td></tr>",
                            "<tr><td>42</td><td>2016-08-12</td><td>1</td></tr>",
                            "<tr><td>42</td><td>2016-11-23</td><td>1</td></tr>",
                            "<tr><td>42</td><td>2017-01-16</td><td>1</td></tr>",
                            "<tr><td>42</td><td>NULL</td><td>6</td></tr>",
                            "<tr><td>43</td><td>2016-07-08</td><td>1</td></tr>",
                            "<tr><td>43</td><td>2016-07-14</td><td>1</td></tr>",
                            "<tr><td>43</td><td>2016-09-29</td><td>1</td></tr>",
                            "<tr><td>43</td><td>2016-10-27</td><td>1</td></tr>",
                            "<tr><td>43</td><td>2016-10-30</td><td>1</td></tr>",
                            "<tr><td>43</td><td>2016-11-10</td><td>1</td></tr>",
                            "<tr><td>43</td><td>2017-02-12</td><td>1</td></tr>",
                            "<tr><td>43</td><td>2017-02-20</td><td>1</td></tr>",
                            "<tr><td>43</td><td>NULL</td><td>8</td></tr>",
                            "<tr><td>44</td><td>2016-04-19</td><td>1</td></tr>",
                            "<tr><td>44</td><td>2016-05-21</td><td>1</td></tr>",
                            "<tr><td>44</td><td>2016-08-25</td><td>1</td></tr>",
                            "<tr><td>44</td><td>2016-11-19</td><td>1</td></tr>",
                            "<tr><td>44</td><td>2017-01-08</td><td>1</td></tr>",
                            "<tr><td>44</td><td>2017-02-20</td><td>1</td></tr>",
                            "<tr><td>44</td><td>NULL</td><td>6</td></tr>",
                            "<tr><td>45</td><td>2016-08-20</td><td>2</td></tr>",
                            "<tr><td>45</td><td>2016-09-02</td><td>1</td></tr>",
                            "<tr><td>45</td><td>2016-10-09</td><td>1</td></tr>",
                            "<tr><td>45</td><td>2016-11-22</td><td>1</td></tr>",
                            "<tr><td>45</td><td>NULL</td><td>5</td></tr>",
                            "<tr><td>46</td><td>2016-08-03</td><td>1</td></tr>",
                            "<tr><td>46</td><td>2016-10-23</td><td>1</td></tr>",
                            "<tr><td>46</td><td>2016-11-19</td><td>1</td></tr>",
                            "<tr><td>46</td><td>2017-02-10</td><td>1</td></tr>",
                            "<tr><td>46</td><td>NULL</td><td>4</td></tr>",
                            "<tr><td>47</td><td>2016-06-13</td><td>1</td></tr>",
                            "<tr><td>47</td><td>2016-09-16</td><td>1</td></tr>",
                            "<tr><td>47</td><td>NULL</td><td>2</td></tr>",
                            "<tr><td>48</td><td>2016-04-26</td><td>1</td></tr>",
                            "<tr><td>48</td><td>2016-05-09</td><td>1</td></tr>",
                            "<tr><td>48</td><td>2016-06-06</td><td>1</td></tr>",
                            "<tr><td>48</td><td>2016-06-25</td><td>1</td></tr>",
                            "<tr><td>48</td><td>2016-08-25</td><td>1</td></tr>",
                            "<tr><td>48</td><td>2016-11-03</td><td>1</td></tr>",
                            "<tr><td>48</td><td>2017-02-17</td><td>1</td></tr>",
                            "<tr><td>48</td><td>2017-02-18</td><td>1</td></tr>",
                            "<tr><td>48</td><td>2017-03-01</td><td>1</td></tr>",
                            "<tr><td>48</td><td>NULL</td><td>9</td></tr>",
                            "<tr><td>49</td><td>2016-06-02</td><td>1</td></tr>",
                            "<tr><td>49</td><td>2016-08-17</td><td>1</td></tr>",
                            "<tr><td>49</td><td>2016-08-26</td><td>1</td></tr>",
                            "<tr><td>49</td><td>2016-09-18</td><td>1</td></tr>",
                            "<tr><td>49</td><td>2016-10-26</td><td>1</td></tr>",
                            "<tr><td>49</td><td>2016-10-30</td><td>1</td></tr>",
                            "<tr><td>49</td><td>2017-02-16</td><td>1</td></tr>",
                            "<tr><td>49</td><td>NULL</td><td>7</td></tr>",
                            "<tr><td>50</td><td>2016-08-16</td><td>1</td></tr>",
                            "<tr><td>50</td><td>2016-09-18</td><td>1</td></tr>",
                            "<tr><td>50</td><td>2016-10-30</td><td>1</td></tr>",
                            "<tr><td>50</td><td>2016-11-10</td><td>1</td></tr>",
                            "<tr><td>50</td><td>NULL</td><td>4</td></tr>",
                            "<tr><td>51</td><td>2016-05-28</td><td>1</td></tr>",
                            "<tr><td>51</td><td>2016-08-23</td><td>1</td></tr>",
                            "<tr><td>51</td><td>2016-10-19</td><td>1</td></tr>",
                            "<tr><td>51</td><td>2017-01-28</td><td>1</td></tr>",
                            "<tr><td>51</td><td>2017-02-18</td><td>1</td></tr>",
                            "<tr><td>51</td><td>NULL</td><td>5</td></tr>",
                            "<tr><td>52</td><td>2016-08-24</td><td>1</td></tr>",
                            "<tr><td>52</td><td>2016-10-26</td><td>1</td></tr>",
                            "<tr><td>52</td><td>2016-11-07</td><td>1</td></tr>",
                            "<tr><td>52</td><td>2017-01-10</td><td>1</td></tr>",
                            "<tr><td>52</td><td>2017-02-14</td><td>1</td></tr>",
                            "<tr><td>52</td><td>NULL</td><td>5</td></tr>",
                            "<tr><td>53</td><td>2016-05-24</td><td>1</td></tr>",
                            "<tr><td>53</td><td>2016-06-26</td><td>1</td></tr>",
                            "<tr><td>53</td><td>NULL</td><td>2</td></tr>",
                            "<tr><td>54</td><td>2016-05-07</td><td>1</td></tr>",
                            "<tr><td>54</td><td>2016-05-13</td><td>1</td></tr>",
                            "<tr><td>54</td><td>2016-06-02</td><td>1</td></tr>",
                            "<tr><td>54</td><td>2016-07-14</td><td>1</td></tr>",
                            "<tr><td>54</td><td>2016-09-30</td><td>1</td></tr>",
                            "<tr><td>54</td><td>2016-11-28</td><td>1</td></tr>",
                            "<tr><td>54</td><td>NULL</td><td>6</td></tr>",
                            "<tr><td>55</td><td>2016-07-28</td><td>1</td></tr>",
                            "<tr><td>55</td><td>2016-09-28</td><td>1</td></tr>",
                            "<tr><td>55</td><td>2016-10-17</td><td>1</td></tr>",
                            "<tr><td>55</td><td>2016-10-30</td><td>1</td></tr>",
                            "<tr><td>55</td><td>2016-11-28</td><td>1</td></tr>",
                            "<tr><td>55</td><td>2016-12-24</td><td>1</td></tr>",
                            "<tr><td>55</td><td>2017-02-08</td><td>1</td></tr>",
                            "<tr><td>55</td><td>2017-02-12</td><td>1</td></tr>",
                            "<tr><td>55</td><td>NULL</td><td>8</td></tr>",
                            "<tr><td>56</td><td>2016-06-08</td><td>1</td></tr>",
                            "<tr><td>56</td><td>2016-08-29</td><td>1</td></tr>",
                            "<tr><td>56</td><td>NULL</td><td>2</td></tr>",
                            "<tr><td>57</td><td>2016-12-06</td><td>1</td></tr>",
                            "<tr><td>57</td><td>2016-12-25</td><td>1</td></tr>",
                            "<tr><td>57</td><td>2017-01-22</td><td>1</td></tr>",
                            "<tr><td>57</td><td>2017-02-06</td><td>1</td></tr>",
                            "<tr><td>57</td><td>NULL</td><td>4</td></tr>",
                            "<tr><td>58</td><td>2016-05-30</td><td>1</td></tr>",
                            "<tr><td>58</td><td>2016-07-27</td><td>1</td></tr>",
                            "<tr><td>58</td><td>2016-08-12</td><td>1</td></tr>",
                            "<tr><td>58</td><td>2016-10-01</td><td>1</td></tr>",
                            "<tr><td>58</td><td>2016-10-23</td><td>1</td></tr>",
                            "<tr><td>58</td><td>2016-10-28</td><td>1</td></tr>",
                            "<tr><td>58</td><td>2016-11-06</td><td>1</td></tr>",
                            "<tr><td>58</td><td>2016-11-07</td><td>1</td></tr>",
                            "<tr><td>58</td><td>2016-11-16</td><td>1</td></tr>",
                            "<tr><td>58</td><td>2016-11-19</td><td>1</td></tr>",
                            "<tr><td>58</td><td>2016-11-23</td><td>1</td></tr>",
                            "<tr><td>58</td><td>2016-11-26</td><td>1</td></tr>",
                            "<tr><td>58</td><td>2017-01-17</td><td>1</td></tr>",
                            "<tr><td>58</td><td>NULL</td><td>13</td></tr>",
                            "<tr><td>59</td><td>2016-09-25</td><td>1</td></tr>",
                            "<tr><td>59</td><td>2016-09-28</td><td>1</td></tr>",
                            "<tr><td>59</td><td>2016-10-20</td><td>1</td></tr>",
                            "<tr><td>59</td><td>2016-10-25</td><td>1</td></tr>",
                            "<tr><td>59</td><td>2016-11-03</td><td>1</td></tr>",
                            "<tr><td>59</td><td>2016-11-17</td><td>1</td></tr>",
                            "<tr><td>59</td><td>2017-02-26</td><td>1</td></tr>",
                            "<tr><td>59</td><td>NULL</td><td>7</td></tr>",
                            "<tr><td>60</td><td>2016-07-16</td><td>1</td></tr>",
                            "<tr><td>60</td><td>NULL</td><td>1</td></tr>",
                            "<tr><td>61</td><td>2016-07-21</td><td>1</td></tr>",
                            "<tr><td>61</td><td>2016-08-05</td><td>1</td></tr>",
                            "<tr><td>61</td><td>2016-10-11</td><td>1</td></tr>",
                            "<tr><td>61</td><td>2016-10-29</td><td>1</td></tr>",
                            "<tr><td>61</td><td>2017-02-04</td><td>1</td></tr>",
                            "<tr><td>61</td><td>NULL</td><td>5</td></tr>",
                            "<tr><td>62</td><td>2016-06-08</td><td>1</td></tr>",
                            "<tr><td>62</td><td>2016-06-09</td><td>1</td></tr>",
                            "<tr><td>62</td><td>2016-07-21</td><td>1</td></tr>",
                            "<tr><td>62</td><td>2016-09-26</td><td>1</td></tr>",
                            "<tr><td>62</td><td>2017-01-09</td><td>1</td></tr>",
                            "<tr><td>62</td><td>NULL</td><td>5</td></tr>",
                            "<tr><td>63</td><td>2016-05-08</td><td>1</td></tr>",
                            "<tr><td>63</td><td>2016-06-02</td><td>1</td></tr>",
                            "<tr><td>63</td><td>2016-08-12</td><td>1</td></tr>",
                            "<tr><td>63</td><td>2016-09-02</td><td>1</td></tr>",
                            "<tr><td>63</td><td>NULL</td><td>4</td></tr>",
                            "<tr><td>64</td><td>2016-05-30</td><td>1</td></tr>",
                            "<tr><td>64</td><td>2016-10-05</td><td>1</td></tr>",
                            "<tr><td>64</td><td>2016-10-31</td><td>1</td></tr>",
                            "<tr><td>64</td><td>2017-01-16</td><td>1</td></tr>",
                            "<tr><td>64</td><td>2017-01-22</td><td>1</td></tr>",
                            "<tr><td>64</td><td>2017-03-02</td><td>1</td></tr>",
                            "<tr><td>64</td><td>NULL</td><td>6</td></tr>",
                            "<tr><td>65</td><td>2016-05-17</td><td>1</td></tr>",
                            "<tr><td>65</td><td>NULL</td><td>1</td></tr>",
                            "<tr><td>66</td><td>2016-06-10</td><td>1</td></tr>",
                            "<tr><td>66</td><td>2016-07-29</td><td>1</td></tr>",
                            "<tr><td>66</td><td>2016-11-01</td><td>1</td></tr>",
                            "<tr><td>66</td><td>2016-11-08</td><td>1</td></tr>",
                            "<tr><td>66</td><td>NULL</td><td>4</td></tr>",
                            "<tr><td>67</td><td>2016-05-12</td><td>1</td></tr>",
                            "<tr><td>67</td><td>2016-05-14</td><td>1</td></tr>",
                            "<tr><td>67</td><td>2016-05-30</td><td>1</td></tr>",
                            "<tr><td>67</td><td>2016-12-22</td><td>1</td></tr>",
                            "<tr><td>67</td><td>2017-03-01</td><td>1</td></tr>",
                            "<tr><td>67</td><td>2017-03-03</td><td>1</td></tr>",
                            "<tr><td>67</td><td>NULL</td><td>6</td></tr>",
                            "<tr><td>68</td><td>2016-04-07</td><td>1</td></tr>",
                            "<tr><td>68</td><td>2016-07-12</td><td>1</td></tr>",
                            "<tr><td>68</td><td>2016-11-27</td><td>1</td></tr>",
                            "<tr><td>68</td><td>NULL</td><td>3</td></tr>",
                            "<tr><td>69</td><td>2016-05-31</td><td>1</td></tr>",
                            "<tr><td>69</td><td>2016-09-15</td><td>1</td></tr>",
                            "<tr><td>69</td><td>2016-10-30</td><td>1</td></tr>",
                            "<tr><td>69</td><td>2016-11-05</td><td>1</td></tr>",
                            "<tr><td>69</td><td>NULL</td><td>4</td></tr>",
                            "<tr><td>70</td><td>2016-04-17</td><td>1</td></tr>",
                            "<tr><td>70</td><td>2016-05-27</td><td>1</td></tr>",
                            "<tr><td>70</td><td>2016-07-03</td><td>1</td></tr>",
                            "<tr><td>70</td><td>2016-07-22</td><td>1</td></tr>",
                            "<tr><td>70</td><td>2016-08-24</td><td>1</td></tr>",
                            "<tr><td>70</td><td>2016-09-30</td><td>1</td></tr>",
                            "<tr><td>70</td><td>2016-10-07</td><td>1</td></tr>",
                            "<tr><td>70</td><td>2016-11-27</td><td>1</td></tr>",
                            "<tr><td>70</td><td>2016-11-30</td><td>1</td></tr>",
                            "<tr><td>70</td><td>2016-12-15</td><td>1</td></tr>",
                            "<tr><td>70</td><td>2017-01-19</td><td>1</td></tr>",
                            "<tr><td>70</td><td>NULL</td><td>11</td></tr>",
                            "<tr><td>71</td><td>2016-07-04</td><td>1</td></tr>",
                            "<tr><td>71</td><td>2016-07-18</td><td>1</td></tr>",
                            "<tr><td>71</td><td>2016-07-24</td><td>1</td></tr>",
                            "<tr><td>71</td><td>NULL</td><td>3</td></tr>",
                            "<tr><td>72</td><td>2016-06-04</td><td>1</td></tr>",
                            "<tr><td>72</td><td>2016-06-16</td><td>1</td></tr>",
                            "<tr><td>72</td><td>2016-11-25</td><td>1</td></tr>",
                            "<tr><td>72</td><td>2016-12-25</td><td>1</td></tr>",
                            "<tr><td>72</td><td>NULL</td><td>4</td></tr>",
                            "<tr><td>73</td><td>2016-07-01</td><td>1</td></tr>",
                            "<tr><td>73</td><td>2016-07-25</td><td>1</td></tr>",
                            "<tr><td>73</td><td>2016-10-16</td><td>1</td></tr>",
                            "<tr><td>73</td><td>2016-11-29</td><td>1</td></tr>",
                            "<tr><td>73</td><td>NULL</td><td>4</td></tr>",
                            "<tr><td>74</td><td>2016-04-22</td><td>1</td></tr>",
                            "<tr><td>74</td><td>2016-05-30</td><td>1</td></tr>",
                            "<tr><td>74</td><td>2016-06-09</td><td>1</td></tr>",
                            "<tr><td>74</td><td>2016-06-16</td><td>1</td></tr>",
                            "<tr><td>74</td><td>2016-08-18</td><td>1</td></tr>",
                            "<tr><td>74</td><td>2016-08-28</td><td>1</td></tr>",
                            "<tr><td>74</td><td>2016-09-03</td><td>1</td></tr>",
                            "<tr><td>74</td><td>2016-09-30</td><td>1</td></tr>",
                            "<tr><td>74</td><td>2016-10-22</td><td>1</td></tr>",
                            "<tr><td>74</td><td>NULL</td><td>9</td></tr>",
                            "<tr><td>75</td><td>2016-07-06</td><td>1</td></tr>",
                            "<tr><td>75</td><td>2017-01-01</td><td>1</td></tr>",
                            "<tr><td>75</td><td>2017-01-19</td><td>1</td></tr>",
                            "<tr><td>75</td><td>NULL</td><td>3</td></tr>",
                            "<tr><td>76</td><td>2016-06-22</td><td>1</td></tr>",
                            "<tr><td>76</td><td>2016-07-18</td><td>1</td></tr>",
                            "<tr><td>76</td><td>2017-02-21</td><td>1</td></tr>",
                            "<tr><td>76</td><td>NULL</td><td>3</td></tr>",
                            "<tr><td>77</td><td>2016-04-21</td><td>1</td></tr>",
                            "<tr><td>77</td><td>2016-06-23</td><td>1</td></tr>",
                            "<tr><td>77</td><td>2016-07-20</td><td>1</td></tr>",
                            "<tr><td>77</td><td>2016-10-01</td><td>1</td></tr>",
                            "<tr><td>77</td><td>2017-01-15</td><td>1</td></tr>",
                            "<tr><td>77</td><td>2017-01-22</td><td>1</td></tr>",
                            "<tr><td>77</td><td>NULL</td><td>6</td></tr>",
                            "<tr><td>78</td><td>2016-04-10</td><td>1</td></tr>",
                            "<tr><td>78</td><td>2016-05-14</td><td>1</td></tr>",
                            "<tr><td>78</td><td>2016-07-20</td><td>1</td></tr>",
                            "<tr><td>78</td><td>2016-11-09</td><td>1</td></tr>",
                            "<tr><td>78</td><td>2016-11-15</td><td>1</td></tr>",
                            "<tr><td>78</td><td>2017-02-27</td><td>1</td></tr>",
                            "<tr><td>78</td><td>NULL</td><td>6</td></tr>",
                            "<tr><td>79</td><td>2016-04-16</td><td>1</td></tr>",
                            "<tr><td>79</td><td>2016-09-15</td><td>1</td></tr>",
                            "<tr><td>79</td><td>2016-10-30</td><td>1</td></tr>",
                            "<tr><td>79</td><td>2016-12-05</td><td>1</td></tr>",
                            "<tr><td>79</td><td>2017-01-16</td><td>1</td></tr>",
                            "<tr><td>79</td><td>NULL</td><td>5</td></tr>",
                            "<tr><td>80</td><td>2016-06-01</td><td>1</td></tr>",
                            "<tr><td>80</td><td>2016-06-07</td><td>1</td></tr>",
                            "<tr><td>80</td><td>2016-06-23</td><td>1</td></tr>",
                            "<tr><td>80</td><td>2016-07-13</td><td>1</td></tr>",
                            "<tr><td>80</td><td>2016-09-20</td><td>1</td></tr>",
                            "<tr><td>80</td><td>2016-11-14</td><td>1</td></tr>",
                            "<tr><td>80</td><td>2016-12-17</td><td>1</td></tr>",
                            "<tr><td>80</td><td>NULL</td><td>7</td></tr>",
                            "<tr><td>81</td><td>2016-12-16</td><td>1</td></tr>",
                            "<tr><td>81</td><td>2017-01-16</td><td>1</td></tr>",
                            "<tr><td>81</td><td>2017-01-22</td><td>1</td></tr>",
                            "<tr><td>81</td><td>2017-02-06</td><td>1</td></tr>",
                            "<tr><td>81</td><td>2017-02-23</td><td>1</td></tr>",
                            "<tr><td>81</td><td>NULL</td><td>5</td></tr>",
                            "<tr><td>82</td><td>2016-05-27</td><td>1</td></tr>",
                            "<tr><td>82</td><td>2016-05-29</td><td>1</td></tr>",
                            "<tr><td>82</td><td>2016-07-01</td><td>1</td></tr>",
                            "<tr><td>82</td><td>2016-11-12</td><td>1</td></tr>",
                            "<tr><td>82</td><td>2016-12-04</td><td>1</td></tr>",
                            "<tr><td>82</td><td>2016-12-29</td><td>1</td></tr>",
                            "<tr><td>82</td><td>NULL</td><td>6</td></tr>",
                            "<tr><td>83</td><td>2016-04-10</td><td>1</td></tr>",
                            "<tr><td>83</td><td>2016-05-28</td><td>1</td></tr>",
                            "<tr><td>83</td><td>2016-05-30</td><td>1</td></tr>",
                            "<tr><td>83</td><td>2016-06-30</td><td>1</td></tr>",
                            "<tr><td>83</td><td>2016-07-15</td><td>1</td></tr>",
                            "<tr><td>83</td><td>2016-08-18</td><td>1</td></tr>",
                            "<tr><td>83</td><td>2016-10-04</td><td>1</td></tr>",
                            "<tr><td>83</td><td>2016-12-19</td><td>1</td></tr>",
                            "<tr><td>83</td><td>NULL</td><td>8</td></tr>",
                            "<tr><td>84</td><td>2016-06-13</td><td>1</td></tr>",
                            "<tr><td>84</td><td>2016-08-24</td><td>1</td></tr>",
                            "<tr><td>84</td><td>2016-12-17</td><td>1</td></tr>",
                            "<tr><td>84</td><td>2016-12-22</td><td>1</td></tr>",
                            "<tr><td>84</td><td>NULL</td><td>4</td></tr>",
                            "<tr><td>85</td><td>2016-05-15</td><td>1</td></tr>",
                            "<tr><td>85</td><td>2016-09-17</td><td>1</td></tr>",
                            "<tr><td>85</td><td>2016-11-25</td><td>1</td></tr>",
                            "<tr><td>85</td><td>2017-02-09</td><td>1</td></tr>",
                            "<tr><td>85</td><td>NULL</td><td>4</td></tr>",
                            "<tr><td>86</td><td>2016-05-26</td><td>1</td></tr>",
                            "<tr><td>86</td><td>2016-09-16</td><td>1</td></tr>",
                            "<tr><td>86</td><td>2016-09-24</td><td>1</td></tr>",
                            "<tr><td>86</td><td>2016-10-01</td><td>1</td></tr>",
                            "<tr><td>86</td><td>2017-01-17</td><td>1</td></tr>",
                            "<tr><td>86</td><td>NULL</td><td>5</td></tr>",
                            "<tr><td>87</td><td>2016-04-06</td><td>1</td></tr>",
                            "<tr><td>87</td><td>2016-09-02</td><td>1</td></tr>",
                            "<tr><td>87</td><td>2016-10-01</td><td>1</td></tr>",
                            "<tr><td>87</td><td>2016-12-06</td><td>1</td></tr>",
                            "<tr><td>87</td><td>2017-01-19</td><td>1</td></tr>",
                            "<tr><td>87</td><td>NULL</td><td>5</td></tr>",
                            "<tr><td>88</td><td>2016-05-28</td><td>1</td></tr>",
                            "<tr><td>88</td><td>2016-08-05</td><td>1</td></tr>",
                            "<tr><td>88</td><td>2016-10-26</td><td>1</td></tr>",
                            "<tr><td>88</td><td>2016-11-10</td><td>1</td></tr>",
                            "<tr><td>88</td><td>2016-11-21</td><td>1</td></tr>",
                            "<tr><td>88</td><td>2016-12-12</td><td>1</td></tr>",
                            "<tr><td>88</td><td>2017-02-18</td><td>1</td></tr>",
                            "<tr><td>88</td><td>2017-02-26</td><td>1</td></tr>",
                            "<tr><td>88</td><td>NULL</td><td>8</td></tr>",
                            "<tr><td>89</td><td>2016-08-24</td><td>1</td></tr>",
                            "<tr><td>89</td><td>2016-09-08</td><td>1</td></tr>",
                            "<tr><td>89</td><td>2016-10-01</td><td>1</td></tr>",
                            "<tr><td>89</td><td>2016-10-24</td><td>1</td></tr>",
                            "<tr><td>89</td><td>2016-11-05</td><td>1</td></tr>",
                            "<tr><td>89</td><td>2016-11-09</td><td>1</td></tr>",
                            "<tr><td>89</td><td>2016-12-26</td><td>1</td></tr>",
                            "<tr><td>89</td><td>2017-02-12</td><td>1</td></tr>",
                            "<tr><td>89</td><td>NULL</td><td>8</td></tr>",
                            "<tr><td>90</td><td>2016-07-28</td><td>1</td></tr>",
                            "<tr><td>90</td><td>2016-10-21</td><td>1</td></tr>",
                            "<tr><td>90</td><td>2016-11-21</td><td>1</td></tr>",
                            "<tr><td>90</td><td>2016-12-29</td><td>1</td></tr>",
                            "<tr><td>90</td><td>NULL</td><td>4</td></tr>",
                            "<tr><td>91</td><td>2016-05-10</td><td>1</td></tr>",
                            "<tr><td>91</td><td>2016-07-28</td><td>1</td></tr>",
                            "<tr><td>91</td><td>2016-10-28</td><td>1</td></tr>",
                            "<tr><td>91</td><td>2016-12-25</td><td>1</td></tr>",
                            "<tr><td>91</td><td>NULL</td><td>4</td></tr>",
                            "<tr><td>92</td><td>2016-06-10</td><td>1</td></tr>",
                            "<tr><td>92</td><td>2016-07-07</td><td>1</td></tr>",
                            "<tr><td>92</td><td>2016-08-23</td><td>1</td></tr>",
                            "<tr><td>92</td><td>2016-08-31</td><td>1</td></tr>",
                            "<tr><td>92</td><td>2017-02-13</td><td>1</td></tr>",
                            "<tr><td>92</td><td>2017-02-20</td><td>1</td></tr>",
                            "<tr><td>92</td><td>NULL</td><td>6</td></tr>",
                            "<tr><td>93</td><td>2016-07-30</td><td>1</td></tr>",
                            "<tr><td>93</td><td>2016-10-20</td><td>1</td></tr>",
                            "<tr><td>93</td><td>2016-10-29</td><td>1</td></tr>",
                            "<tr><td>93</td><td>2016-12-08</td><td>1</td></tr>",
                            "<tr><td>93</td><td>2016-12-25</td><td>1</td></tr>",
                            "<tr><td>93</td><td>NULL</td><td>5</td></tr>",
                            "<tr><td>94</td><td>2016-05-02</td><td>1</td></tr>",
                            "<tr><td>94</td><td>2016-06-21</td><td>1</td></tr>",
                            "<tr><td>94</td><td>2016-07-13</td><td>1</td></tr>",
                            "<tr><td>94</td><td>2016-07-27</td><td>1</td></tr>",
                            "<tr><td>94</td><td>2016-11-03</td><td>1</td></tr>",
                            "<tr><td>94</td><td>2016-11-22</td><td>1</td></tr>",
                            "<tr><td>94</td><td>2016-11-23</td><td>1</td></tr>",
                            "<tr><td>94</td><td>2016-12-17</td><td>1</td></tr>",
                            "<tr><td>94</td><td>2017-02-12</td><td>1</td></tr>",
                            "<tr><td>94</td><td>2017-02-23</td><td>1</td></tr>",
                            "<tr><td>94</td><td>NULL</td><td>10</td></tr>",
                            "<tr><td>95</td><td>2016-05-19</td><td>1</td></tr>",
                            "<tr><td>95</td><td>2016-09-13</td><td>1</td></tr>",
                            "<tr><td>95</td><td>2016-10-01</td><td>1</td></tr>",
                            "<tr><td>95</td><td>2017-02-16</td><td>1</td></tr>",
                            "<tr><td>95</td><td>NULL</td><td>4</td></tr>",
                            "<tr><td>96</td><td>2016-04-28</td><td>1</td></tr>",
                            "<tr><td>96</td><td>2016-05-08</td><td>1</td></tr>",
                            "<tr><td>96</td><td>2016-07-14</td><td>1</td></tr>",
                            "<tr><td>96</td><td>2016-08-15</td><td>1</td></tr>",
                            "<tr><td>96</td><td>2016-12-18</td><td>1</td></tr>",
                            "<tr><td>96</td><td>2017-01-14</td><td>1</td></tr>",
                            "<tr><td>96</td><td>2017-02-24</td><td>1</td></tr>",
                            "<tr><td>96</td><td>NULL</td><td>7</td></tr>",
                            "<tr><td>97</td><td>2016-05-10</td><td>1</td></tr>",
                            "<tr><td>97</td><td>2016-07-27</td><td>2</td></tr>",
                            "<tr><td>97</td><td>2016-08-29</td><td>1</td></tr>",
                            "<tr><td>97</td><td>2016-12-25</td><td>1</td></tr>",
                            "<tr><td>97</td><td>2017-01-03</td><td>1</td></tr>",
                            "<tr><td>97</td><td>2017-02-13</td><td>1</td></tr>",
                            "<tr><td>97</td><td>NULL</td><td>7</td></tr>",
                            "<tr><td>98</td><td>2016-05-09</td><td>1</td></tr>",
                            "<tr><td>98</td><td>2016-05-30</td><td>1</td></tr>",
                            "<tr><td>98</td><td>2016-09-13</td><td>1</td></tr>",
                            "<tr><td>98</td><td>2016-12-28</td><td>1</td></tr>",
                            "<tr><td>98</td><td>NULL</td><td>4</td></tr>",
                            "<tr><td>99</td><td>2016-05-09</td><td>1</td></tr>",
                            "<tr><td>99</td><td>2016-07-20</td><td>1</td></tr>",
                            "<tr><td>99</td><td>2016-09-20</td><td>1</td></tr>",
                            "<tr><td>99</td><td>2016-12-31</td><td>1</td></tr>",
                            "<tr><td>99</td><td>2017-01-31</td><td>1</td></tr>",
                            "<tr><td>99</td><td>NULL</td><td>5</td></tr>",
                            "<tr><td>100</td><td>2016-04-23</td><td>1</td></tr>",
                            "<tr><td>100</td><td>2016-05-11</td><td>1</td></tr>",
                            "<tr><td>100</td><td>2016-11-24</td><td>1</td></tr>",
                            "<tr><td>100</td><td>2017-01-29</td><td>1</td></tr>",
                            "<tr><td>100</td><td>NULL</td><td>4</td></tr>",
                            "<tr><td>101</td><td>2016-07-25</td><td>1</td></tr>",
                            "<tr><td>101</td><td>2016-11-29</td><td>1</td></tr>",
                            "<tr><td>101</td><td>2017-02-10</td><td>1</td></tr>",
                            "<tr><td>101</td><td>NULL</td><td>3</td></tr>",
                            "<tr><td>102</td><td>2016-07-19</td><td>1</td></tr>",
                            "<tr><td>102</td><td>2016-12-05</td><td>1</td></tr>",
                            "<tr><td>102</td><td>NULL</td><td>2</td></tr>",
                            "<tr><td>103</td><td>2016-06-19</td><td>1</td></tr>",
                            "<tr><td>103</td><td>2016-06-29</td><td>1</td></tr>",
                            "<tr><td>103</td><td>2016-12-26</td><td>1</td></tr>",
                            "<tr><td>103</td><td>2017-01-30</td><td>1</td></tr>",
                            "<tr><td>103</td><td>NULL</td><td>4</td></tr>",
                            "<tr><td>104</td><td>2016-08-29</td><td>1</td></tr>",
                            "<tr><td>104</td><td>2016-10-22</td><td>1</td></tr>",
                            "<tr><td>104</td><td>2017-02-12</td><td>1</td></tr>",
                            "<tr><td>104</td><td>2017-02-14</td><td>1</td></tr>",
                            "<tr><td>104</td><td>NULL</td><td>4</td></tr>",
                            "<tr><td>105</td><td>2016-05-03</td><td>1</td></tr>",
                            "<tr><td>105</td><td>2017-02-12</td><td>1</td></tr>",
                            "<tr><td>105</td><td>NULL</td><td>2</td></tr>",
                            "<tr><td>106</td><td>2016-04-30</td><td>1</td></tr>",
                            "<tr><td>106</td><td>2016-07-23</td><td>1</td></tr>",
                            "<tr><td>106</td><td>2016-10-30</td><td>1</td></tr>",
                            "<tr><td>106</td><td>2016-11-10</td><td>1</td></tr>",
                            "<tr><td>106</td><td>2016-12-17</td><td>1</td></tr>",
                            "<tr><td>106</td><td>2017-02-08</td><td>1</td></tr>",
                            "<tr><td>106</td><td>NULL</td><td>6</td></tr>",
                            "<tr><td>107</td><td>2016-04-18</td><td>1</td></tr>",
                            "<tr><td>107</td><td>2016-11-05</td><td>1</td></tr>",
                            "<tr><td>107</td><td>2016-12-07</td><td>1</td></tr>",
                            "<tr><td>107</td><td>2017-01-17</td><td>1</td></tr>",
                            "<tr><td>107</td><td>2017-02-04</td><td>1</td></tr>",
                            "<tr><td>107</td><td>NULL</td><td>5</td></tr>",
                            "<tr><td>108</td><td>2016-10-01</td><td>1</td></tr>",
                            "<tr><td>108</td><td>2016-12-25</td><td>1</td></tr>",
                            "<tr><td>108</td><td>NULL</td><td>2</td></tr>",
                            "<tr><td>109</td><td>2016-05-01</td><td>1</td></tr>",
                            "<tr><td>109</td><td>2016-05-06</td><td>1</td></tr>",
                            "<tr><td>109</td><td>2016-05-18</td><td>1</td></tr>",
                            "<tr><td>109</td><td>2016-08-23</td><td>1</td></tr>",
                            "<tr><td>109</td><td>2016-09-27</td><td>1</td></tr>",
                            "<tr><td>109</td><td>2016-11-20</td><td>1</td></tr>",
                            "<tr><td>109</td><td>2017-02-23</td><td>1</td></tr>",
                            "<tr><td>109</td><td>NULL</td><td>7</td></tr>",
                            "<tr><td>110</td><td>2016-06-07</td><td>1</td></tr>",
                            "<tr><td>110</td><td>2016-06-16</td><td>1</td></tr>",
                            "<tr><td>110</td><td>2016-07-18</td><td>1</td></tr>",
                            "<tr><td>110</td><td>2016-09-10</td><td>1</td></tr>",
                            "<tr><td>110</td><td>2016-10-01</td><td>1</td></tr>",
                            "<tr><td>110</td><td>2016-10-17</td><td>1</td></tr>",
                            "<tr><td>110</td><td>2017-01-07</td><td>1</td></tr>",
                            "<tr><td>110</td><td>2017-02-02</td><td>1</td></tr>",
                            "<tr><td>110</td><td>NULL</td><td>8</td></tr>",
                            "<tr><td>111</td><td>2016-04-27</td><td>1</td></tr>",
                            "<tr><td>111</td><td>2016-06-14</td><td>1</td></tr>",
                            "<tr><td>111</td><td>2016-08-16</td><td>1</td></tr>",
                            "<tr><td>111</td><td>2016-11-19</td><td>1</td></tr>",
                            "<tr><td>111</td><td>2016-12-07</td><td>1</td></tr>",
                            "<tr><td>111</td><td>NULL</td><td>5</td></tr>",
                            "<tr><td>112</td><td>2016-06-06</td><td>1</td></tr>",
                            "<tr><td>112</td><td>2016-08-14</td><td>1</td></tr>",
                            "<tr><td>112</td><td>2016-08-20</td><td>1</td></tr>",
                            "<tr><td>112</td><td>2016-10-06</td><td>1</td></tr>",
                            "<tr><td>112</td><td>2017-02-13</td><td>1</td></tr>",
                            "<tr><td>112</td><td>NULL</td><td>5</td></tr>",
                            "<tr><td>113</td><td>2016-09-05</td><td>1</td></tr>",
                            "<tr><td>113</td><td>2016-09-28</td><td>1</td></tr>",
                            "<tr><td>113</td><td>2016-11-08</td><td>1</td></tr>",
                            "<tr><td>113</td><td>2017-02-04</td><td>1</td></tr>",
                            "<tr><td>113</td><td>2017-02-05</td><td>1</td></tr>",
                            "<tr><td>113</td><td>NULL</td><td>5</td></tr>",
                            "<tr><td>114</td><td>2016-06-16</td><td>1</td></tr>",
                            "<tr><td>114</td><td>2016-07-29</td><td>1</td></tr>",
                            "<tr><td>114</td><td>2016-08-26</td><td>1</td></tr>",
                            "<tr><td>114</td><td>2017-02-16</td><td>1</td></tr>",
                            "<tr><td>114</td><td>NULL</td><td>4</td></tr>",
                            "<tr><td>115</td><td>2016-04-23</td><td>1</td></tr>",
                            "<tr><td>115</td><td>2016-06-10</td><td>1</td></tr>",
                            "<tr><td>115</td><td>2016-10-04</td><td>1</td></tr>",
                            "<tr><td>115</td><td>2016-10-15</td><td>1</td></tr>",
                            "<tr><td>115</td><td>2016-12-07</td><td>1</td></tr>",
                            "<tr><td>115</td><td>2017-02-20</td><td>1</td></tr>",
                            "<tr><td>115</td><td>2017-02-24</td><td>1</td></tr>",
                            "<tr><td>115</td><td>NULL</td><td>7</td></tr>",
                            "<tr><td>116</td><td>2017-01-18</td><td>1</td></tr>",
                            "<tr><td>116</td><td>2017-02-05</td><td>1</td></tr>",
                            "<tr><td>116</td><td>NULL</td><td>2</td></tr>",
                            "<tr><td>117</td><td>2016-05-01</td><td>1</td></tr>",
                            "<tr><td>117</td><td>2016-05-02</td><td>1</td></tr>",
                            "<tr><td>117</td><td>2016-06-12</td><td>1</td></tr>",
                            "<tr><td>117</td><td>2016-06-16</td><td>1</td></tr>",
                            "<tr><td>117</td><td>2016-07-03</td><td>1</td></tr>",
                            "<tr><td>117</td><td>2016-10-26</td><td>1</td></tr>",
                            "<tr><td>117</td><td>2016-11-05</td><td>1</td></tr>",
                            "<tr><td>117</td><td>2017-01-23</td><td>1</td></tr>",
                            "<tr><td>117</td><td>NULL</td><td>8</td></tr>",
                            "<tr><td>118</td><td>2016-05-28</td><td>1</td></tr>",
                            "<tr><td>118</td><td>2016-06-30</td><td>1</td></tr>",
                            "<tr><td>118</td><td>2016-07-01</td><td>1</td></tr>",
                            "<tr><td>118</td><td>2016-07-26</td><td>1</td></tr>",
                            "<tr><td>118</td><td>2016-12-17</td><td>1</td></tr>",
                            "<tr><td>118</td><td>2017-01-24</td><td>1</td></tr>",
                            "<tr><td>118</td><td>2017-01-29</td><td>1</td></tr>",
                            "<tr><td>118</td><td>NULL</td><td>7</td></tr>",
                            "<tr><td>119</td><td>2016-07-12</td><td>1</td></tr>",
                            "<tr><td>119</td><td>2016-07-22</td><td>1</td></tr>",
                            "<tr><td>119</td><td>2016-07-27</td><td>1</td></tr>",
                            "<tr><td>119</td><td>2017-01-02</td><td>1</td></tr>",
                            "<tr><td>119</td><td>2017-02-01</td><td>1</td></tr>",
                            "<tr><td>119</td><td>NULL</td><td>5</td></tr>",
                            "<tr><td>120</td><td>2016-07-01</td><td>1</td></tr>",
                            "<tr><td>120</td><td>2016-08-07</td><td>1</td></tr>",
                            "<tr><td>120</td><td>2016-09-30</td><td>1</td></tr>",
                            "<tr><td>120</td><td>2016-12-03</td><td>1</td></tr>",
                            "<tr><td>120</td><td>2017-01-30</td><td>1</td></tr>",
                            "<tr><td>120</td><td>2017-02-04</td><td>1</td></tr>",
                            "<tr><td>120</td><td>NULL</td><td>6</td></tr>",
                            "<tr><td>121</td><td>2016-05-25</td><td>1</td></tr>",
                            "<tr><td>121</td><td>2016-07-28</td><td>1</td></tr>",
                            "<tr><td>121</td><td>2016-07-30</td><td>1</td></tr>",
                            "<tr><td>121</td><td>2016-09-13</td><td>1</td></tr>",
                            "<tr><td>121</td><td>2016-10-08</td><td>1</td></tr>",
                            "<tr><td>121</td><td>2016-10-29</td><td>1</td></tr>",
                            "<tr><td>121</td><td>2016-12-17</td><td>1</td></tr>",
                            "<tr><td>121</td><td>2016-12-25</td><td>1</td></tr>",
                            "<tr><td>121</td><td>NULL</td><td>8</td></tr>",
                            "<tr><td>122</td><td>2016-07-04</td><td>1</td></tr>",
                            "<tr><td>122</td><td>2016-09-08</td><td>1</td></tr>",
                            "<tr><td>122</td><td>2016-09-17</td><td>1</td></tr>",
                            "<tr><td>122</td><td>2016-10-19</td><td>1</td></tr>",
                            "<tr><td>122</td><td>2016-10-28</td><td>1</td></tr>",
                            "<tr><td>122</td><td>2016-11-04</td><td>1</td></tr>",
                            "<tr><td>122</td><td>2016-12-02</td><td>1</td></tr>",
                            "<tr><td>122</td><td>2016-12-23</td><td>1</td></tr>",
                            "<tr><td>122</td><td>2017-01-15</td><td>1</td></tr>",
                            "<tr><td>122</td><td>NULL</td><td>9</td></tr>",
                            "<tr><td>123</td><td>2016-04-19</td><td>1</td></tr>",
                            "<tr><td>123</td><td>2016-06-07</td><td>1</td></tr>",
                            "<tr><td>123</td><td>2016-06-16</td><td>1</td></tr>",
                            "<tr><td>123</td><td>2016-10-30</td><td>1</td></tr>",
                            "<tr><td>123</td><td>2016-11-15</td><td>1</td></tr>",
                            "<tr><td>123</td><td>NULL</td><td>5</td></tr>",
                            "<tr><td>124</td><td>2016-05-27</td><td>1</td></tr>",
                            "<tr><td>124</td><td>2016-10-28</td><td>1</td></tr>",
                            "<tr><td>124</td><td>2016-11-29</td><td>1</td></tr>",
                            "<tr><td>124</td><td>2016-12-29</td><td>1</td></tr>",
                            "<tr><td>124</td><td>2017-01-05</td><td>1</td></tr>",
                            "<tr><td>124</td><td>2017-02-13</td><td>1</td></tr>",
                            "<tr><td>124</td><td>NULL</td><td>6</td></tr>",
                            "<tr><td>125</td><td>2016-04-11</td><td>1</td></tr>",
                            "<tr><td>125</td><td>NULL</td><td>1</td></tr>",
                            "<tr><td>126</td><td>2016-08-04</td><td>1</td></tr>",
                            "<tr><td>126</td><td>2016-08-21</td><td>1</td></tr>",
                            "<tr><td>126</td><td>2016-10-08</td><td>1</td></tr>",
                            "<tr><td>126</td><td>2016-12-15</td><td>1</td></tr>",
                            "<tr><td>126</td><td>2017-01-09</td><td>1</td></tr>",
                            "<tr><td>126</td><td>2017-02-05</td><td>1</td></tr>",
                            "<tr><td>126</td><td>NULL</td><td>6</td></tr>",
                            "<tr><td>127</td><td>2016-05-14</td><td>1</td></tr>",
                            "<tr><td>127</td><td>2016-05-24</td><td>1</td></tr>",
                            "<tr><td>127</td><td>2016-05-30</td><td>1</td></tr>",
                            "<tr><td>127</td><td>2016-09-06</td><td>1</td></tr>",
                            "<tr><td>127</td><td>2016-10-30</td><td>1</td></tr>",
                            "<tr><td>127</td><td>2016-11-16</td><td>1</td></tr>",
                            "<tr><td>127</td><td>2017-02-28</td><td>1</td></tr>",
                            "<tr><td>127</td><td>NULL</td><td>7</td></tr>",
                            "<tr><td>128</td><td>2016-07-26</td><td>1</td></tr>",
                            "<tr><td>128</td><td>2016-08-24</td><td>1</td></tr>",
                            "<tr><td>128</td><td>2016-11-19</td><td>1</td></tr>",
                            "<tr><td>128</td><td>2017-02-26</td><td>1</td></tr>",
                            "<tr><td>128</td><td>2017-03-03</td><td>1</td></tr>",
                            "<tr><td>128</td><td>NULL</td><td>5</td></tr>",
                            "<tr><td>129</td><td>2016-07-27</td><td>1</td></tr>",
                            "<tr><td>129</td><td>2016-12-13</td><td>1</td></tr>",
                            "<tr><td>129</td><td>2017-01-16</td><td>1</td></tr>",
                            "<tr><td>129</td><td>2017-02-08</td><td>1</td></tr>",
                            "<tr><td>129</td><td>NULL</td><td>4</td></tr>",
                            "<tr><td>130</td><td>2016-04-14</td><td>1</td></tr>",
                            "<tr><td>130</td><td>2016-05-01</td><td>1</td></tr>",
                            "<tr><td>130</td><td>2016-06-06</td><td>1</td></tr>",
                            "<tr><td>130</td><td>2016-08-15</td><td>1</td></tr>",
                            "<tr><td>130</td><td>2016-09-09</td><td>1</td></tr>",
                            "<tr><td>130</td><td>2017-01-26</td><td>1</td></tr>",
                            "<tr><td>130</td><td>NULL</td><td>6</td></tr>",
                            "<tr><td>131</td><td>2016-04-06</td><td>1</td></tr>",
                            "<tr><td>131</td><td>2016-05-18</td><td>1</td></tr>",
                            "<tr><td>131</td><td>2016-05-30</td><td>1</td></tr>",
                            "<tr><td>131</td><td>2016-08-06</td><td>1</td></tr>",
                            "<tr><td>131</td><td>2017-01-25</td><td>1</td></tr>",
                            "<tr><td>131</td><td>NULL</td><td>5</td></tr>",
                            "<tr><td>132</td><td>2016-05-04</td><td>1</td></tr>",
                            "<tr><td>132</td><td>2016-07-01</td><td>1</td></tr>",
                            "<tr><td>132</td><td>2016-09-30</td><td>1</td></tr>",
                            "<tr><td>132</td><td>2016-10-01</td><td>1</td></tr>",
                            "<tr><td>132</td><td>2016-11-22</td><td>1</td></tr>",
                            "<tr><td>132</td><td>2017-02-12</td><td>1</td></tr>",
                            "<tr><td>132</td><td>NULL</td><td>6</td></tr>",
                            "<tr><td>133</td><td>2016-06-06</td><td>1</td></tr>",
                            "<tr><td>133</td><td>2016-06-27</td><td>1</td></tr>",
                            "<tr><td>133</td><td>2016-10-12</td><td>1</td></tr>",
                            "<tr><td>133</td><td>2016-11-22</td><td>1</td></tr>",
                            "<tr><td>133</td><td>2016-12-15</td><td>1</td></tr>",
                            "<tr><td>133</td><td>2017-01-01</td><td>1</td></tr>",
                            "<tr><td>133</td><td>NULL</td><td>6</td></tr>",
                            "<tr><td>134</td><td>2016-07-03</td><td>1</td></tr>",
                            "<tr><td>134</td><td>2016-07-11</td><td>1</td></tr>",
                            "<tr><td>134</td><td>2016-09-12</td><td>1</td></tr>",
                            "<tr><td>134</td><td>2016-10-22</td><td>1</td></tr>",
                            "<tr><td>134</td><td>2016-10-30</td><td>1</td></tr>",
                            "<tr><td>134</td><td>2017-02-15</td><td>1</td></tr>",
                            "<tr><td>134</td><td>NULL</td><td>6</td></tr>",
                            "<tr><td>135</td><td>2016-07-27</td><td>1</td></tr>",
                            "<tr><td>135</td><td>2016-09-05</td><td>1</td></tr>",
                            "<tr><td>135</td><td>2016-11-18</td><td>1</td></tr>",
                            "<tr><td>135</td><td>NULL</td><td>3</td></tr>",
                            "<tr><td>136</td><td>2016-04-17</td><td>1</td></tr>",
                            "<tr><td>136</td><td>2016-05-21</td><td>1</td></tr>",
                            "<tr><td>136</td><td>2016-09-12</td><td>1</td></tr>",
                            "<tr><td>136</td><td>NULL</td><td>3</td></tr>",
                            "<tr><td>137</td><td>2016-04-16</td><td>1</td></tr>",
                            "<tr><td>137</td><td>2016-05-17</td><td>1</td></tr>",
                            "<tr><td>137</td><td>2016-05-20</td><td>1</td></tr>",
                            "<tr><td>137</td><td>2016-07-06</td><td>1</td></tr>",
                            "<tr><td>137</td><td>2016-10-26</td><td>1</td></tr>",
                            "<tr><td>137</td><td>2016-11-15</td><td>1</td></tr>",
                            "<tr><td>137</td><td>NULL</td><td>6</td></tr>",
                            "<tr><td>138</td><td>2016-08-12</td><td>1</td></tr>",
                            "<tr><td>138</td><td>2016-08-17</td><td>1</td></tr>",
                            "<tr><td>138</td><td>2016-11-06</td><td>1</td></tr>",
                            "<tr><td>138</td><td>2016-11-16</td><td>1</td></tr>",
                            "<tr><td>138</td><td>2016-11-19</td><td>1</td></tr>",
                            "<tr><td>138</td><td>2016-12-11</td><td>1</td></tr>",
                            "<tr><td>138</td><td>2016-12-17</td><td>1</td></tr>",
                            "<tr><td>138</td><td>NULL</td><td>7</td></tr>",
                            "<tr><td>139</td><td>2016-04-14</td><td>1</td></tr>",
                            "<tr><td>139</td><td>2016-08-01</td><td>1</td></tr>",
                            "<tr><td>139</td><td>2016-08-03</td><td>1</td></tr>",
                            "<tr><td>139</td><td>2016-09-10</td><td>1</td></tr>",
                            "<tr><td>139</td><td>2016-09-18</td><td>1</td></tr>",
                            "<tr><td>139</td><td>2017-01-11</td><td>1</td></tr>",
                            "<tr><td>139</td><td>2017-01-17</td><td>1</td></tr>",
                            "<tr><td>139</td><td>NULL</td><td>7</td></tr>",
                            "<tr><td>140</td><td>2016-06-06</td><td>1</td></tr>",
                            "<tr><td>140</td><td>2016-07-28</td><td>1</td></tr>",
                            "<tr><td>140</td><td>2016-10-01</td><td>1</td></tr>",
                            "<tr><td>140</td><td>2016-10-15</td><td>1</td></tr>",
                            "<tr><td>140</td><td>2016-11-07</td><td>1</td></tr>",
                            "<tr><td>140</td><td>2016-12-10</td><td>1</td></tr>",
                            "<tr><td>140</td><td>2016-12-14</td><td>1</td></tr>",
                            "<tr><td>140</td><td>2016-12-17</td><td>1</td></tr>",
                            "<tr><td>140</td><td>NULL</td><td>8</td></tr>",
                            "<tr><td>141</td><td>2016-04-08</td><td>1</td></tr>",
                            "<tr><td>141</td><td>2016-06-05</td><td>1</td></tr>",
                            "<tr><td>141</td><td>2016-08-06</td><td>1</td></tr>",
                            "<tr><td>141</td><td>2016-08-16</td><td>1</td></tr>",
                            "<tr><td>141</td><td>2016-11-06</td><td>1</td></tr>",
                            "<tr><td>141</td><td>2016-12-27</td><td>1</td></tr>",
                            "<tr><td>141</td><td>NULL</td><td>6</td></tr>",
                            "<tr><td>142</td><td>2016-12-17</td><td>1</td></tr>",
                            "<tr><td>142</td><td>2017-02-17</td><td>1</td></tr>",
                            "<tr><td>142</td><td>NULL</td><td>2</td></tr>",
                            "<tr><td>143</td><td>2016-06-23</td><td>1</td></tr>",
                            "<tr><td>143</td><td>2016-10-15</td><td>1</td></tr>",
                            "<tr><td>143</td><td>2016-10-26</td><td>1</td></tr>",
                            "<tr><td>143</td><td>2016-10-30</td><td>1</td></tr>",
                            "<tr><td>143</td><td>2016-11-23</td><td>1</td></tr>",
                            "<tr><td>143</td><td>2016-12-25</td><td>1</td></tr>",
                            "<tr><td>143</td><td>2017-01-16</td><td>1</td></tr>",
                            "<tr><td>143</td><td>NULL</td><td>7</td></tr>",
                            "<tr><td>144</td><td>2016-04-15</td><td>1</td></tr>",
                            "<tr><td>144</td><td>2016-09-29</td><td>1</td></tr>",
                            "<tr><td>144</td><td>2016-10-26</td><td>1</td></tr>",
                            "<tr><td>144</td><td>2016-11-19</td><td>1</td></tr>",
                            "<tr><td>144</td><td>2017-02-25</td><td>1</td></tr>",
                            "<tr><td>144</td><td>NULL</td><td>5</td></tr>",
                            "<tr><td>145</td><td>2016-07-22</td><td>1</td></tr>",
                            "<tr><td>145</td><td>2016-09-23</td><td>1</td></tr>",
                            "<tr><td>145</td><td>2016-10-04</td><td>1</td></tr>",
                            "<tr><td>145</td><td>2016-10-09</td><td>1</td></tr>",
                            "<tr><td>145</td><td>2016-12-02</td><td>1</td></tr>",
                            "<tr><td>145</td><td>2017-01-23</td><td>1</td></tr>",
                            "<tr><td>145</td><td>NULL</td><td>6</td></tr>",
                            "<tr><td>146</td><td>2016-06-02</td><td>1</td></tr>",
                            "<tr><td>146</td><td>2016-07-13</td><td>1</td></tr>",
                            "<tr><td>146</td><td>2016-08-16</td><td>1</td></tr>",
                            "<tr><td>146</td><td>2016-08-20</td><td>1</td></tr>",
                            "<tr><td>146</td><td>2016-09-05</td><td>1</td></tr>",
                            "<tr><td>146</td><td>2017-01-28</td><td>1</td></tr>",
                            "<tr><td>146</td><td>NULL</td><td>6</td></tr>",
                            "<tr><td>147</td><td>2016-08-12</td><td>1</td></tr>",
                            "<tr><td>147</td><td>NULL</td><td>1</td></tr>",
                            "<tr><td>148</td><td>2016-07-17</td><td>1</td></tr>",
                            "<tr><td>148</td><td>2016-08-09</td><td>1</td></tr>",
                            "<tr><td>148</td><td>2016-08-16</td><td>1</td></tr>",
                            "<tr><td>148</td><td>2016-08-23</td><td>2</td></tr>",
                            "<tr><td>148</td><td>2017-02-27</td><td>1</td></tr>",
                            "<tr><td>148</td><td>NULL</td><td>6</td></tr>",
                            "<tr><td>149</td><td>2016-04-20</td><td>1</td></tr>",
                            "<tr><td>149</td><td>2016-05-18</td><td>1</td></tr>",
                            "<tr><td>149</td><td>2016-08-28</td><td>1</td></tr>",
                            "<tr><td>149</td><td>2016-08-29</td><td>1</td></tr>",
                            "<tr><td>149</td><td>2016-09-01</td><td>1</td></tr>",
                            "<tr><td>149</td><td>2016-10-10</td><td>1</td></tr>",
                            "<tr><td>149</td><td>2017-02-09</td><td>1</td></tr>",
                            "<tr><td>149</td><td>NULL</td><td>7</td></tr>",
                            "<tr><td>150</td><td>2016-05-13</td><td>1</td></tr>",
                            "<tr><td>150</td><td>2016-10-01</td><td>2</td></tr>",
                            "<tr><td>150</td><td>2016-10-22</td><td>1</td></tr>",
                            "<tr><td>150</td><td>2016-10-26</td><td>1</td></tr>",
                            "<tr><td>150</td><td>2017-01-10</td><td>1</td></tr>",
                            "<tr><td>150</td><td>NULL</td><td>6</td></tr>",
                            "<tr><td>151</td><td>2016-06-03</td><td>1</td></tr>",
                            "<tr><td>151</td><td>2016-09-16</td><td>1</td></tr>",
                            "<tr><td>151</td><td>2016-10-02</td><td>1</td></tr>",
                            "<tr><td>151</td><td>NULL</td><td>3</td></tr>",
                            "<tr><td>152</td><td>2016-07-28</td><td>1</td></tr>",
                            "<tr><td>152</td><td>2016-10-16</td><td>1</td></tr>",
                            "<tr><td>152</td><td>2016-10-26</td><td>1</td></tr>",
                            "<tr><td>152</td><td>2017-02-21</td><td>1</td></tr>",
                            "<tr><td>152</td><td>NULL</td><td>4</td></tr>",
                            "<tr><td>153</td><td>2016-04-22</td><td>1</td></tr>",
                            "<tr><td>153</td><td>2016-06-17</td><td>1</td></tr>",
                            "<tr><td>153</td><td>2017-01-21</td><td>1</td></tr>",
                            "<tr><td>153</td><td>2017-01-23</td><td>1</td></tr>",
                            "<tr><td>153</td><td>2017-02-07</td><td>1</td></tr>",
                            "<tr><td>153</td><td>NULL</td><td>5</td></tr>",
                            "<tr><td>154</td><td>2016-06-16</td><td>1</td></tr>",
                            "<tr><td>154</td><td>2016-09-17</td><td>1</td></tr>",
                            "<tr><td>154</td><td>2016-10-19</td><td>1</td></tr>",
                            "<tr><td>154</td><td>2016-11-07</td><td>1</td></tr>",
                            "<tr><td>154</td><td>2017-02-16</td><td>1</td></tr>",
                            "<tr><td>154</td><td>NULL</td><td>5</td></tr>",
                            "<tr><td>155</td><td>2016-04-10</td><td>1</td></tr>",
                            "<tr><td>155</td><td>2016-04-12</td><td>1</td></tr>",
                            "<tr><td>155</td><td>2016-10-01</td><td>1</td></tr>",
                            "<tr><td>155</td><td>2016-11-23</td><td>1</td></tr>",
                            "<tr><td>155</td><td>2017-02-16</td><td>1</td></tr>",
                            "<tr><td>155</td><td>NULL</td><td>5</td></tr>",
                            "<tr><td>156</td><td>2016-04-19</td><td>1</td></tr>",
                            "<tr><td>156</td><td>2016-06-05</td><td>1</td></tr>",
                            "<tr><td>156</td><td>2016-06-13</td><td>1</td></tr>",
                            "<tr><td>156</td><td>2016-07-20</td><td>1</td></tr>",
                            "<tr><td>156</td><td>2017-01-22</td><td>1</td></tr>",
                            "<tr><td>156</td><td>2017-02-03</td><td>1</td></tr>",
                            "<tr><td>156</td><td>2017-02-23</td><td>1</td></tr>",
                            "<tr><td>156</td><td>NULL</td><td>7</td></tr>",
                            "<tr><td>157</td><td>2016-05-16</td><td>1</td></tr>",
                            "<tr><td>157</td><td>2016-07-12</td><td>1</td></tr>",
                            "<tr><td>157</td><td>2016-09-13</td><td>1</td></tr>",
                            "<tr><td>157</td><td>2016-11-03</td><td>1</td></tr>",
                            "<tr><td>157</td><td>2017-02-19</td><td>1</td></tr>",
                            "<tr><td>157</td><td>NULL</td><td>5</td></tr>",
                            "<tr><td>158</td><td>2016-08-25</td><td>1</td></tr>",
                            "<tr><td>158</td><td>2016-08-30</td><td>1</td></tr>",
                            "<tr><td>158</td><td>2016-10-03</td><td>1</td></tr>",
                            "<tr><td>158</td><td>NULL</td><td>3</td></tr>",
                            "<tr><td>159</td><td>NULL</td><td>1</td></tr>",
                            "<tr><td>159</td><td>NULL</td><td>1</td></tr>",
                            "<tr><td>160</td><td>2016-06-06</td><td>1</td></tr>",
                            "<tr><td>160</td><td>2016-06-07</td><td>2</td></tr>",
                            "<tr><td>160</td><td>2016-07-27</td><td>1</td></tr>",
                            "<tr><td>160</td><td>2017-02-23</td><td>1</td></tr>",
                            "<tr><td>160</td><td>NULL</td><td>5</td></tr>",
                            "<tr><td>161</td><td>2016-05-12</td><td>1</td></tr>",
                            "<tr><td>161</td><td>2016-05-18</td><td>1</td></tr>",
                            "<tr><td>161</td><td>2016-06-06</td><td>1</td></tr>",
                            "<tr><td>161</td><td>2016-09-19</td><td>1</td></tr>",
                            "<tr><td>161</td><td>2016-10-24</td><td>1</td></tr>",
                            "<tr><td>161</td><td>2017-02-25</td><td>1</td></tr>",
                            "<tr><td>161</td><td>NULL</td><td>6</td></tr>",
                            "<tr><td>162</td><td>2016-04-24</td><td>1</td></tr>",
                            "<tr><td>162</td><td>2016-10-27</td><td>1</td></tr>",
                            "<tr><td>162</td><td>2016-12-26</td><td>1</td></tr>",
                            "<tr><td>162</td><td>NULL</td><td>3</td></tr>",
                            "<tr><td>163</td><td>2016-05-09</td><td>1</td></tr>",
                            "<tr><td>163</td><td>2016-06-10</td><td>1</td></tr>",
                            "<tr><td>163</td><td>2016-08-16</td><td>1</td></tr>",
                            "<tr><td>163</td><td>2016-09-23</td><td>1</td></tr>",
                            "<tr><td>163</td><td>2016-10-01</td><td>1</td></tr>",
                            "<tr><td>163</td><td>2016-11-08</td><td>1</td></tr>",
                            "<tr><td>163</td><td>2017-02-01</td><td>1</td></tr>",
                            "<tr><td>163</td><td>NULL</td><td>7</td></tr>",
                            "<tr><td>164</td><td>2016-04-10</td><td>1</td></tr>",
                            "<tr><td>164</td><td>2016-07-04</td><td>1</td></tr>",
                            "<tr><td>164</td><td>2016-07-31</td><td>1</td></tr>",
                            "<tr><td>164</td><td>2016-11-16</td><td>1</td></tr>",
                            "<tr><td>164</td><td>2016-11-19</td><td>1</td></tr>",
                            "<tr><td>164</td><td>NULL</td><td>5</td></tr>",
                            "<tr><td>165</td><td>2016-05-12</td><td>1</td></tr>",
                            "<tr><td>165</td><td>2016-05-25</td><td>1</td></tr>",
                            "<tr><td>165</td><td>2016-06-03</td><td>3</td></tr>",
                            "<tr><td>165</td><td>2016-10-09</td><td>1</td></tr>",
                            "<tr><td>165</td><td>2016-12-17</td><td>1</td></tr>",
                            "<tr><td>165</td><td>NULL</td><td>7</td></tr>",
                            "<tr><td>166</td><td>2016-05-14</td><td>1</td></tr>",
                            "<tr><td>166</td><td>2016-08-16</td><td>1</td></tr>",
                            "<tr><td>166</td><td>2017-02-12</td><td>1</td></tr>",
                            "<tr><td>166</td><td>NULL</td><td>3</td></tr>",
                            "<tr><td>167</td><td>2016-05-24</td><td>1</td></tr>",
                            "<tr><td>167</td><td>2017-01-02</td><td>1</td></tr>",
                            "<tr><td>167</td><td>NULL</td><td>2</td></tr>",
                            "<tr><td>168</td><td>2016-06-07</td><td>1</td></tr>",
                            "<tr><td>168</td><td>2016-08-16</td><td>1</td></tr>",
                            "<tr><td>168</td><td>2016-08-17</td><td>1</td></tr>",
                            "<tr><td>168</td><td>2016-11-05</td><td>1</td></tr>",
                            "<tr><td>168</td><td>2016-11-08</td><td>1</td></tr>",
                            "<tr><td>168</td><td>NULL</td><td>5</td></tr>",
                            "<tr><td>169</td><td>2016-04-10</td><td>1</td></tr>",
                            "<tr><td>169</td><td>2016-05-21</td><td>1</td></tr>",
                            "<tr><td>169</td><td>2016-06-20</td><td>1</td></tr>",
                            "<tr><td>169</td><td>2016-08-01</td><td>1</td></tr>",
                            "<tr><td>169</td><td>2016-12-09</td><td>1</td></tr>",
                            "<tr><td>169</td><td>2017-01-09</td><td>1</td></tr>",
                            "<tr><td>169</td><td>NULL</td><td>6</td></tr>",
                            "<tr><td>170</td><td>2016-04-10</td><td>1</td></tr>",
                            "<tr><td>170</td><td>2016-06-10</td><td>1</td></tr>",
                            "<tr><td>170</td><td>2016-10-26</td><td>1</td></tr>",
                            "<tr><td>170</td><td>2016-11-09</td><td>1</td></tr>",
                            "<tr><td>170</td><td>2016-12-04</td><td>1</td></tr>",
                            "<tr><td>170</td><td>NULL</td><td>5</td></tr>",
                            "<tr><td>171</td><td>2016-04-10</td><td>1</td></tr>",
                            "<tr><td>171</td><td>2016-06-23</td><td>1</td></tr>",
                            "<tr><td>171</td><td>2016-10-23</td><td>1</td></tr>",
                            "<tr><td>171</td><td>2016-11-29</td><td>1</td></tr>",
                            "<tr><td>171</td><td>2017-02-24</td><td>1</td></tr>",
                            "<tr><td>171</td><td>NULL</td><td>5</td></tr>",
                            "<tr><td>172</td><td>2016-06-24</td><td>1</td></tr>",
                            "<tr><td>172</td><td>2016-07-24</td><td>1</td></tr>",
                            "<tr><td>172</td><td>2016-08-02</td><td>1</td></tr>",
                            "<tr><td>172</td><td>2016-08-29</td><td>1</td></tr>",
                            "<tr><td>172</td><td>2016-10-09</td><td>1</td></tr>",
                            "<tr><td>172</td><td>2016-10-20</td><td>1</td></tr>",
                            "<tr><td>172</td><td>2016-12-02</td><td>1</td></tr>",
                            "<tr><td>172</td><td>2017-01-05</td><td>1</td></tr>",
                            "<tr><td>172</td><td>2017-02-03</td><td>1</td></tr>",
                            "<tr><td>172</td><td>NULL</td><td>9</td></tr>",
                            "<tr><td>173</td><td>2016-06-06</td><td>1</td></tr>",
                            "<tr><td>173</td><td>2016-07-14</td><td>1</td></tr>",
                            "<tr><td>173</td><td>2016-12-06</td><td>1</td></tr>",
                            "<tr><td>173</td><td>2017-01-09</td><td>1</td></tr>",
                            "<tr><td>173</td><td>NULL</td><td>4</td></tr>",
                            "<tr><td>174</td><td>2016-06-06</td><td>1</td></tr>",
                            "<tr><td>174</td><td>2016-07-06</td><td>1</td></tr>",
                            "<tr><td>174</td><td>2016-07-18</td><td>1</td></tr>",
                            "<tr><td>174</td><td>2016-11-12</td><td>1</td></tr>",
                            "<tr><td>174</td><td>NULL</td><td>4</td></tr>",
                            "<tr><td>175</td><td>2016-05-28</td><td>1</td></tr>",
                            "<tr><td>175</td><td>2016-08-19</td><td>1</td></tr>",
                            "<tr><td>175</td><td>2016-09-30</td><td>1</td></tr>",
                            "<tr><td>175</td><td>2016-10-08</td><td>1</td></tr>",
                            "<tr><td>175</td><td>2016-12-30</td><td>1</td></tr>",
                            "<tr><td>175</td><td>NULL</td><td>5</td></tr>",
                            "<tr><td>176</td><td>2016-04-21</td><td>1</td></tr>",
                            "<tr><td>176</td><td>2016-10-09</td><td>1</td></tr>",
                            "<tr><td>176</td><td>2016-11-13</td><td>1</td></tr>",
                            "<tr><td>176</td><td>2016-12-22</td><td>1</td></tr>",
                            "<tr><td>176</td><td>2017-02-08</td><td>1</td></tr>",
                            "<tr><td>176</td><td>2017-02-24</td><td>1</td></tr>",
                            "<tr><td>176</td><td>NULL</td><td>6</td></tr>",
                            "<tr><td>177</td><td>2016-08-16</td><td>1</td></tr>",
                            "<tr><td>177</td><td>2016-08-28</td><td>1</td></tr>",
                            "<tr><td>177</td><td>2016-10-21</td><td>1</td></tr>",
                            "<tr><td>177</td><td>2017-02-05</td><td>1</td></tr>",
                            "<tr><td>177</td><td>NULL</td><td>4</td></tr>",
                            "<tr><td>178</td><td>2016-06-28</td><td>1</td></tr>",
                            "<tr><td>178</td><td>2016-08-24</td><td>1</td></tr>",
                            "<tr><td>178</td><td>2016-10-28</td><td>1</td></tr>",
                            "<tr><td>178</td><td>2016-11-03</td><td>1</td></tr>",
                            "<tr><td>178</td><td>NULL</td><td>4</td></tr>",
                            "<tr><td>179</td><td>2016-05-21</td><td>1</td></tr>",
                            "<tr><td>179</td><td>2016-07-09</td><td>1</td></tr>",
                            "<tr><td>179</td><td>2017-02-04</td><td>1</td></tr>",
                            "<tr><td>179</td><td>NULL</td><td>3</td></tr>",
                            "<tr><td>180</td><td>2016-06-04</td><td>1</td></tr>",
                            "<tr><td>180</td><td>2017-02-22</td><td>1</td></tr>",
                            "<tr><td>180</td><td>2017-02-23</td><td>1</td></tr>",
                            "<tr><td>180</td><td>NULL</td><td>3</td></tr>",
                            "<tr><td>181</td><td>2016-06-08</td><td>1</td></tr>",
                            "<tr><td>181</td><td>2016-06-13</td><td>1</td></tr>",
                            "<tr><td>181</td><td>2016-07-10</td><td>1</td></tr>",
                            "<tr><td>181</td><td>2016-07-16</td><td>1</td></tr>",
                            "<tr><td>181</td><td>2016-07-28</td><td>1</td></tr>",
                            "<tr><td>181</td><td>2016-12-05</td><td>1</td></tr>",
                            "<tr><td>181</td><td>NULL</td><td>6</td></tr>",
                            "<tr><td>182</td><td>2016-04-10</td><td>1</td></tr>",
                            "<tr><td>182</td><td>2016-06-07</td><td>1</td></tr>",
                            "<tr><td>182</td><td>2016-07-04</td><td>1</td></tr>",
                            "<tr><td>182</td><td>2016-07-30</td><td>1</td></tr>",
                            "<tr><td>182</td><td>2016-10-24</td><td>1</td></tr>",
                            "<tr><td>182</td><td>2016-10-30</td><td>2</td></tr>",
                            "<tr><td>182</td><td>2016-11-23</td><td>1</td></tr>",
                            "<tr><td>182</td><td>2016-11-25</td><td>1</td></tr>",
                            "<tr><td>182</td><td>2016-11-28</td><td>1</td></tr>",
                            "<tr><td>182</td><td>2017-01-01</td><td>1</td></tr>",
                            "<tr><td>182</td><td>2017-01-06</td><td>1</td></tr>",
                            "<tr><td>182</td><td>NULL</td><td>12</td></tr>",
                            "<tr><td>183</td><td>2016-06-09</td><td>1</td></tr>",
                            "<tr><td>183</td><td>2016-09-19</td><td>1</td></tr>",
                            "<tr><td>183</td><td>2016-10-10</td><td>1</td></tr>",
                            "<tr><td>183</td><td>2017-01-13</td><td>1</td></tr>",
                            "<tr><td>183</td><td>NULL</td><td>4</td></tr>",
                            "<tr><td>184</td><td>2016-04-28</td><td>1</td></tr>",
                            "<tr><td>184</td><td>2016-05-30</td><td>1</td></tr>",
                            "<tr><td>184</td><td>2016-07-18</td><td>1</td></tr>",
                            "<tr><td>184</td><td>2016-11-05</td><td>1</td></tr>",
                            "<tr><td>184</td><td>NULL</td><td>4</td></tr>",
                            "<tr><td>185</td><td>2016-04-13</td><td>1</td></tr>",
                            "<tr><td>185</td><td>2016-05-28</td><td>1</td></tr>",
                            "<tr><td>185</td><td>2016-06-03</td><td>1</td></tr>",
                            "<tr><td>185</td><td>2016-06-07</td><td>1</td></tr>",
                            "<tr><td>185</td><td>2016-07-14</td><td>1</td></tr>",
                            "<tr><td>185</td><td>2016-07-17</td><td>1</td></tr>",
                            "<tr><td>185</td><td>2016-07-20</td><td>1</td></tr>",
                            "<tr><td>185</td><td>2016-07-24</td><td>1</td></tr>",
                            "<tr><td>185</td><td>2016-10-06</td><td>1</td></tr>",
                            "<tr><td>185</td><td>2016-10-23</td><td>1</td></tr>",
                            "<tr><td>185</td><td>2017-01-16</td><td>1</td></tr>",
                            "<tr><td>185</td><td>2017-01-22</td><td>1</td></tr>",
                            "<tr><td>185</td><td>NULL</td><td>12</td></tr>",
                            "<tr><td>186</td><td>2016-05-01</td><td>1</td></tr>",
                            "<tr><td>186</td><td>2016-10-15</td><td>1</td></tr>",
                            "<tr><td>186</td><td>2016-11-05</td><td>1</td></tr>",
                            "<tr><td>186</td><td>2017-01-22</td><td>1</td></tr>",
                            "<tr><td>186</td><td>NULL</td><td>4</td></tr>",
                            "<tr><td>187</td><td>2016-05-09</td><td>1</td></tr>",
                            "<tr><td>187</td><td>2016-05-28</td><td>1</td></tr>",
                            "<tr><td>187</td><td>2016-06-13</td><td>1</td></tr>",
                            "<tr><td>187</td><td>2016-07-20</td><td>1</td></tr>",
                            "<tr><td>187</td><td>2016-07-31</td><td>1</td></tr>",
                            "<tr><td>187</td><td>2016-08-10</td><td>1</td></tr>",
                            "<tr><td>187</td><td>2016-12-29</td><td>1</td></tr>",
                            "<tr><td>187</td><td>NULL</td><td>7</td></tr>",
                            "<tr><td>188</td><td>2016-06-06</td><td>1</td></tr>",
                            "<tr><td>188</td><td>2016-07-19</td><td>1</td></tr>",
                            "<tr><td>188</td><td>2016-07-24</td><td>1</td></tr>",
                            "<tr><td>188</td><td>2016-08-01</td><td>1</td></tr>",
                            "<tr><td>188</td><td>2016-09-05</td><td>1</td></tr>",
                            "<tr><td>188</td><td>2016-12-25</td><td>1</td></tr>",
                            "<tr><td>188</td><td>NULL</td><td>6</td></tr>",
                            "<tr><td>189</td><td>2016-07-20</td><td>1</td></tr>",
                            "<tr><td>189</td><td>2016-08-03</td><td>1</td></tr>",
                            "<tr><td>189</td><td>2016-10-27</td><td>1</td></tr>",
                            "<tr><td>189</td><td>2017-01-17</td><td>1</td></tr>",
                            "<tr><td>189</td><td>2017-02-26</td><td>1</td></tr>",
                            "<tr><td>189</td><td>NULL</td><td>5</td></tr>",
                            "<tr><td>190</td><td>2016-04-24</td><td>1</td></tr>",
                            "<tr><td>190</td><td>2016-06-27</td><td>1</td></tr>",
                            "<tr><td>190</td><td>2016-07-08</td><td>1</td></tr>",
                            "<tr><td>190</td><td>2016-08-13</td><td>1</td></tr>",
                            "<tr><td>190</td><td>2017-02-11</td><td>1</td></tr>",
                            "<tr><td>190</td><td>NULL</td><td>5</td></tr>",
                            "<tr><td>191</td><td>2016-09-09</td><td>1</td></tr>",
                            "<tr><td>191</td><td>2016-11-22</td><td>1</td></tr>",
                            "<tr><td>191</td><td>2016-11-27</td><td>1</td></tr>",
                            "<tr><td>191</td><td>2017-02-05</td><td>1</td></tr>",
                            "<tr><td>191</td><td>2017-02-08</td><td>1</td></tr>",
                            "<tr><td>191</td><td>NULL</td><td>5</td></tr>",
                            "<tr><td>192</td><td>2016-06-04</td><td>1</td></tr>",
                            "<tr><td>192</td><td>2016-07-17</td><td>1</td></tr>",
                            "<tr><td>192</td><td>NULL</td><td>2</td></tr>",
                            "<tr><td>193</td><td>2016-05-09</td><td>1</td></tr>",
                            "<tr><td>193</td><td>2016-06-07</td><td>1</td></tr>",
                            "<tr><td>193</td><td>2016-06-22</td><td>1</td></tr>",
                            "<tr><td>193</td><td>2016-07-15</td><td>1</td></tr>",
                            "<tr><td>193</td><td>2016-08-29</td><td>1</td></tr>",
                            "<tr><td>193</td><td>2016-09-11</td><td>1</td></tr>",
                            "<tr><td>193</td><td>2016-11-03</td><td>1</td></tr>",
                            "<tr><td>193</td><td>NULL</td><td>7</td></tr>",
                            "<tr><td>194</td><td>2016-09-30</td><td>1</td></tr>",
                            "<tr><td>194</td><td>NULL</td><td>1</td></tr>",
                            "<tr><td>195</td><td>2016-07-27</td><td>1</td></tr>",
                            "<tr><td>195</td><td>2016-08-31</td><td>1</td></tr>",
                            "<tr><td>195</td><td>2016-09-22</td><td>1</td></tr>",
                            "<tr><td>195</td><td>2016-10-23</td><td>1</td></tr>",
                            "<tr><td>195</td><td>2017-01-24</td><td>1</td></tr>",
                            "<tr><td>195</td><td>2017-01-30</td><td>1</td></tr>",
                            "<tr><td>195</td><td>NULL</td><td>6</td></tr>",
                            "<tr><td>196</td><td>2016-06-11</td><td>1</td></tr>",
                            "<tr><td>196</td><td>2016-07-14</td><td>1</td></tr>",
                            "<tr><td>196</td><td>2016-11-23</td><td>1</td></tr>",
                            "<tr><td>196</td><td>2016-12-04</td><td>1</td></tr>",
                            "<tr><td>196</td><td>NULL</td><td>4</td></tr>",
                            "<tr><td>197</td><td>2016-06-30</td><td>1</td></tr>",
                            "<tr><td>197</td><td>2016-08-09</td><td>1</td></tr>",
                            "<tr><td>197</td><td>2016-09-30</td><td>1</td></tr>",
                            "<tr><td>197</td><td>2016-10-20</td><td>1</td></tr>",
                            "<tr><td>197</td><td>2016-11-22</td><td>1</td></tr>",
                            "<tr><td>197</td><td>2016-12-24</td><td>1</td></tr>",
                            "<tr><td>197</td><td>NULL</td><td>6</td></tr>",
                            "<tr><td>198</td><td>2016-06-22</td><td>1</td></tr>",
                            "<tr><td>198</td><td>2016-07-04</td><td>1</td></tr>",
                            "<tr><td>198</td><td>2016-09-18</td><td>1</td></tr>",
                            "<tr><td>198</td><td>2016-10-03</td><td>1</td></tr>",
                            "<tr><td>198</td><td>2016-10-09</td><td>1</td></tr>",
                            "<tr><td>198</td><td>2016-10-17</td><td>1</td></tr>",
                            "<tr><td>198</td><td>2016-10-29</td><td>1</td></tr>",
                            "<tr><td>198</td><td>2017-01-05</td><td>1</td></tr>",
                            "<tr><td>198</td><td>NULL</td><td>8</td></tr>",
                            "<tr><td>199</td><td>NULL</td><td>1</td></tr>",
                            "<tr><td>199</td><td>NULL</td><td>1</td></tr>",
                            "<tr><td>200</td><td>NULL</td><td>1</td></tr>",
                            "<tr><td>200</td><td>NULL</td><td>1</td></tr>",
                            "<tr><td>201</td><td>NULL</td><td>1</td></tr>",
                            "<tr><td>201</td><td>NULL</td><td>1</td></tr>",
                            "<tr><td>202</td><td>NULL</td><td>1</td></tr>",
                            "<tr><td>202</td><td>NULL</td><td>1</td></tr>",
                            "<tr><td>203</td><td>NULL</td><td>1</td></tr>",
                            "<tr><td>203</td><td>NULL</td><td>1</td></tr>",
                            "<tr><td>204</td><td>NULL</td><td>1</td></tr>",
                            "<tr><td>204</td><td>NULL</td><td>1</td></tr>",
                            "<tr><td>205</td><td>NULL</td><td>1</td></tr>",
                            "<tr><td>205</td><td>NULL</td><td>1</td></tr>",
                            "<tr><td>206</td><td>NULL</td><td>1</td></tr>",
                            "<tr><td>206</td><td>NULL</td><td>1</td></tr>",
                            "<tr><td>207</td><td>NULL</td><td>1</td></tr>",
                            "<tr><td>207</td><td>NULL</td><td>1</td></tr>",
                            "<tr><td>208</td><td>NULL</td><td>1</td></tr>",
                            "<tr><td>208</td><td>NULL</td><td>1</td></tr>",
                            "<tr><td>209</td><td>NULL</td><td>1</td></tr>",
                            "<tr><td>209</td><td>NULL</td><td>1</td></tr>",
                            "<tr><td>210</td><td>NULL</td><td>1</td></tr>",
                            "<tr><td>210</td><td>NULL</td><td>1</td></tr>",
                            "<tr><td>211</td><td>NULL</td><td>1</td></tr>",
                            "<tr><td>211</td><td>NULL</td><td>1</td></tr>",
                            "<tr><td>212</td><td>NULL</td><td>1</td></tr>",
                            "<tr><td>212</td><td>NULL</td><td>1</td></tr>",
                            "<tr><td>213</td><td>NULL</td><td>1</td></tr>",
                            "<tr><td>213</td><td>NULL</td><td>1</td></tr>",
                            "<tr><td>214</td><td>NULL</td><td>1</td></tr>",
                            "<tr><td>214</td><td>NULL</td><td>1</td></tr>",
                            "<tr><td>215</td><td>NULL</td><td>1</td></tr>",
                            "<tr><td>215</td><td>NULL</td><td>1</td></tr>",
                            "<tr><td>216</td><td>NULL</td><td>1</td></tr>",
                            "<tr><td>216</td><td>NULL</td><td>1</td></tr>",
                            "<tr><td>217</td><td>NULL</td><td>1</td></tr>",
                            "<tr><td>217</td><td>NULL</td><td>1</td></tr>",
                            "<tr><td>218</td><td>NULL</td><td>1</td></tr>",
                            "<tr><td>218</td><td>NULL</td><td>1</td></tr>",
                            "<tr><td>219</td><td>NULL</td><td>1</td></tr>",
                            "<tr><td>219</td><td>NULL</td><td>1</td></tr>",
                            "<tr><td>220</td><td>NULL</td><td>1</td></tr>",
                            "<tr><td>220</td><td>NULL</td><td>1</td></tr>",
                            "<tr><td>221</td><td>NULL</td><td>1</td></tr>",
                            "<tr><td>221</td><td>NULL</td><td>1</td></tr>",
                            "<tr><td>222</td><td>NULL</td><td>1</td></tr>",
                            "<tr><td>222</td><td>NULL</td><td>1</td></tr>",
                            "<tr><td>223</td><td>NULL</td><td>1</td></tr>",
                            "<tr><td>223</td><td>NULL</td><td>1</td></tr>",
                            "<tr><td>224</td><td>NULL</td><td>1</td></tr>",
                            "<tr><td>224</td><td>NULL</td><td>1</td></tr>",
                            "<tr><td>225</td><td>NULL</td><td>1</td></tr>",
                            "<tr><td>225</td><td>NULL</td><td>1</td></tr>",
                            "<tr><td>226</td><td>NULL</td><td>1</td></tr>",
                            "<tr><td>226</td><td>NULL</td><td>1</td></tr>",
                            "<tr><td>227</td><td>NULL</td><td>1</td></tr>",
                            "<tr><td>227</td><td>NULL</td><td>1</td></tr>",
                            "<tr><td>228</td><td>NULL</td><td>1</td></tr>",
                            "<tr><td>228</td><td>NULL</td><td>1</td></tr>",
                            "<tr><td>229</td><td>NULL</td><td>1</td></tr>",
                            "<tr><td>229</td><td>NULL</td><td>1</td></tr>",
                            "<tr><td>230</td><td>NULL</td><td>1</td></tr>",
                            "<tr><td>230</td><td>NULL</td><td>1</td></tr>",
                            "<tr><td>231</td><td>NULL</td><td>1</td></tr>",
                            "<tr><td>231</td><td>NULL</td><td>1</td></tr>",
                            "<tr><td>232</td><td>NULL</td><td>1</td></tr>",
                            "<tr><td>232</td><td>NULL</td><td>1</td></tr>",
                            "<tr><td>233</td><td>NULL</td><td>1</td></tr>",
                            "<tr><td>233</td><td>NULL</td><td>1</td></tr>",
                            "<tr><td>234</td><td>NULL</td><td>1</td></tr>",
                            "<tr><td>234</td><td>NULL</td><td>1</td></tr>",
                            "<tr><td>235</td><td>NULL</td><td>1</td></tr>",
                            "<tr><td>235</td><td>NULL</td><td>1</td></tr>",
                            "<tr><td>236</td><td>NULL</td><td>1</td></tr>",
                            "<tr><td>236</td><td>NULL</td><td>1</td></tr>",
                            "<tr><td>237</td><td>NULL</td><td>1</td></tr>",
                            "<tr><td>237</td><td>NULL</td><td>1</td></tr>",
                            "<tr><td>238</td><td>NULL</td><td>1</td></tr>",
                            "<tr><td>238</td><td>NULL</td><td>1</td></tr>",
                            "<tr><td>239</td><td>NULL</td><td>1</td></tr>",
                            "<tr><td>239</td><td>NULL</td><td>1</td></tr>",
                            "<tr><td>240</td><td>NULL</td><td>1</td></tr>",
                            "<tr><td>240</td><td>NULL</td><td>1</td></tr>",
                            "<tr><td>241</td><td>NULL</td><td>1</td></tr>",
                            "<tr><td>241</td><td>NULL</td><td>1</td></tr>",
                            "<tr><td>242</td><td>NULL</td><td>1</td></tr>",
                            "<tr><td>242</td><td>NULL</td><td>1</td></tr>",
                            "<tr><td>243</td><td>NULL</td><td>1</td></tr>",
                            "<tr><td>243</td><td>NULL</td><td>1</td></tr>",
                            "<tr><td>244</td><td>NULL</td><td>1</td></tr>",
                            "<tr><td>244</td><td>NULL</td><td>1</td></tr>",
                            "<tr><td>245</td><td>NULL</td><td>1</td></tr>",
                            "<tr><td>245</td><td>NULL</td><td>1</td></tr>",
                            "<tr><td>246</td><td>NULL</td><td>1</td></tr>",
                            "<tr><td>246</td><td>NULL</td><td>1</td></tr>",
                            "<tr><td>247</td><td>NULL</td><td>1</td></tr>",
                            "<tr><td>247</td><td>NULL</td><td>1</td></tr>",
                            "<tr><td>248</td><td>NULL</td><td>1</td></tr>",
                            "<tr><td>248</td><td>NULL</td><td>1</td></tr>",
                            "<tr><td>249</td><td>NULL</td><td>1</td></tr>",
                            "<tr><td>249</td><td>NULL</td><td>1</td></tr>",
                            "<tr><td>250</td><td>NULL</td><td>1</td></tr>",
                            "<tr><td>250</td><td>NULL</td><td>1</td></tr>",
                            "<tr><td>251</td><td>NULL</td><td>1</td></tr>",
                            "<tr><td>251</td><td>NULL</td><td>1</td></tr>",
                            "<tr><td>252</td><td>NULL</td><td>1</td></tr>",
                            "<tr><td>252</td><td>NULL</td><td>1</td></tr>",
                            "<tr><td>253</td><td>NULL</td><td>1</td></tr>",
                            "<tr><td>253</td><td>NULL</td><td>1</td></tr>",
                            "<tr><td>254</td><td>NULL</td><td>1</td></tr>",
                            "<tr><td>254</td><td>NULL</td><td>1</td></tr>",
                            "<tr><td>255</td><td>NULL</td><td>1</td></tr>",
                            "<tr><td>255</td><td>NULL</td><td>1</td></tr>",
                            "<tr><td>256</td><td>NULL</td><td>1</td></tr>",
                            "<tr><td>256</td><td>NULL</td><td>1</td></tr>",
                            "<tr><td>257</td><td>NULL</td><td>1</td></tr>",
                            "<tr><td>257</td><td>NULL</td><td>1</td></tr>",
                            "<tr><td>258</td><td>NULL</td><td>1</td></tr>",
                            "<tr><td>258</td><td>NULL</td><td>1</td></tr>",
                            "<tr><td>259</td><td>NULL</td><td>1</td></tr>",
                            "<tr><td>259</td><td>NULL</td><td>1</td></tr>",
                            "<tr><td>260</td><td>NULL</td><td>1</td></tr>",
                            "<tr><td>260</td><td>NULL</td><td>1</td></tr>",
                            "<tr><td>261</td><td>NULL</td><td>1</td></tr>",
                            "<tr><td>261</td><td>NULL</td><td>1</td></tr>",
                            "<tr><td>262</td><td>NULL</td><td>1</td></tr>",
                            "<tr><td>262</td><td>NULL</td><td>1</td></tr>",
                            "<tr><td>263</td><td>NULL</td><td>1</td></tr>",
                            "<tr><td>263</td><td>NULL</td><td>1</td></tr>",
                            "<tr><td>264</td><td>NULL</td><td>1</td></tr>",
                            "<tr><td>264</td><td>NULL</td><td>1</td></tr>",
                            "<tr><td>265</td><td>NULL</td><td>1</td></tr>",
                            "<tr><td>265</td><td>NULL</td><td>1</td></tr>",
                            "<tr><td>266</td><td>NULL</td><td>1</td></tr>",
                            "<tr><td>266</td><td>NULL</td><td>1</td></tr>",
                            "<tr><td>267</td><td>NULL</td><td>1</td></tr>",
                            "<tr><td>267</td><td>NULL</td><td>1</td></tr>",
                            "<tr><td>268</td><td>NULL</td><td>1</td></tr>",
                            "<tr><td>268</td><td>NULL</td><td>1</td></tr>",
                            "<tr><td>269</td><td>NULL</td><td>1</td></tr>",
                            "<tr><td>269</td><td>NULL</td><td>1</td></tr>",
                            "<tr><td>270</td><td>NULL</td><td>1</td></tr>",
                            "<tr><td>270</td><td>NULL</td><td>1</td></tr>",
                            "<tr><td>271</td><td>NULL</td><td>1</td></tr>",
                            "<tr><td>271</td><td>NULL</td><td>1</td></tr>",
                            "<tr><td>272</td><td>NULL</td><td>1</td></tr>",
                            "<tr><td>272</td><td>NULL</td><td>1</td></tr>",
                            "<tr><td>273</td><td>NULL</td><td>1</td></tr>",
                            "<tr><td>273</td><td>NULL</td><td>1</td></tr>",
                            "<tr><td>274</td><td>NULL</td><td>1</td></tr>",
                            "<tr><td>274</td><td>NULL</td><td>1</td></tr>",
                            "<tr><td>275</td><td>NULL</td><td>1</td></tr>",
                            "<tr><td>275</td><td>NULL</td><td>1</td></tr>",
                            "<tr><td>276</td><td>NULL</td><td>1</td></tr>",
                            "<tr><td>276</td><td>NULL</td><td>1</td></tr>",
                            "<tr><td>277</td><td>NULL</td><td>1</td></tr>",
                            "<tr><td>277</td><td>NULL</td><td>1</td></tr>",
                            "<tr><td>278</td><td>NULL</td><td>1</td></tr>",
                            "<tr><td>278</td><td>NULL</td><td>1</td></tr>",
                            "<tr><td>279</td><td>NULL</td><td>1</td></tr>",
                            "<tr><td>279</td><td>NULL</td><td>1</td></tr>",
                            "<tr><td>280</td><td>NULL</td><td>1</td></tr>",
                            "<tr><td>280</td><td>NULL</td><td>1</td></tr>",
                            "<tr><td>281</td><td>NULL</td><td>1</td></tr>",
                            "<tr><td>281</td><td>NULL</td><td>1</td></tr>",
                            "<tr><td>282</td><td>NULL</td><td>1</td></tr>",
                            "<tr><td>282</td><td>NULL</td><td>1</td></tr>",
                            "<tr><td>283</td><td>NULL</td><td>1</td></tr>",
                            "<tr><td>283</td><td>NULL</td><td>1</td></tr>",
                            "<tr><td>284</td><td>NULL</td><td>1</td></tr>",
                            "<tr><td>284</td><td>NULL</td><td>1</td></tr>",
                            "<tr><td>285</td><td>NULL</td><td>1</td></tr>",
                            "<tr><td>285</td><td>NULL</td><td>1</td></tr>",
                            "<tr><td>286</td><td>NULL</td><td>1</td></tr>",
                            "<tr><td>286</td><td>NULL</td><td>1</td></tr>",
                            "<tr><td>287</td><td>NULL</td><td>1</td></tr>",
                            "<tr><td>287</td><td>NULL</td><td>1</td></tr>",
                            "<tr><td>288</td><td>NULL</td><td>1</td></tr>",
                            "<tr><td>288</td><td>NULL</td><td>1</td></tr>",
                            "<tr><td>289</td><td>NULL</td><td>1</td></tr>",
                            "<tr><td>289</td><td>NULL</td><td>1</td></tr>",
                            "<tr><td>290</td><td>NULL</td><td>1</td></tr>",
                            "<tr><td>290</td><td>NULL</td><td>1</td></tr>",
                            "<tr><td>291</td><td>NULL</td><td>1</td></tr>",
                            "<tr><td>291</td><td>NULL</td><td>1</td></tr>",
                            "<tr><td>292</td><td>NULL</td><td>1</td></tr>",
                            "<tr><td>292</td><td>NULL</td><td>1</td></tr>",
                            "<tr><td>293</td><td>NULL</td><td>1</td></tr>",
                            "<tr><td>293</td><td>NULL</td><td>1</td></tr>",
                            "<tr><td>294</td><td>NULL</td><td>1</td></tr>",
                            "<tr><td>294</td><td>NULL</td><td>1</td></tr>",
                            "<tr><td>NULL</td><td>NULL</td><td>1124</td></tr>",
                            "</table>"
                        ]
                    }
                }
            ],
            "execution_count": 10
        },
        {
            "cell_type": "markdown",
            "source": [
                "Készítsünk ideiglenes táblát #MASKED\\_GUEST néven, ahol \n",
                "\n",
                "- a tábla felépítése megegyezik a vendég tábláéval, DE\n",
                "- a vendégek nevének csak az első 2, és az utolsó 3 karaktere jelenjen meg, közötte X-ek legyenek!"
            ],
            "metadata": {
                "language": "sql",
                "azdata_cell_guid": "391aab6e-1d13-4e73-804e-3566fdb1da4d"
            },
            "attachments": {}
        },
        {
            "cell_type": "code",
            "source": [
                "CREATE TABLE #MASKED_GUEST(\r\n",
                "\t[USERNEV] [nvarchar](20) PRIMARY KEY,\r\n",
                "\t[NEV] [nvarchar](50) MASKED WITH (FUNCTION = 'partial(2, \"XXXX\", 3)'),\r\n",
                "\t[EMAIL] [nvarchar](60),\r\n",
                "\t[SZAML_CIM] [nvarchar](100),\r\n",
                "\t[SZUL_DAT] [date] \r\n",
                ")"
            ],
            "metadata": {
                "azdata_cell_guid": "f1c64eaf-582f-4221-aa62-00ed56eee822",
                "language": "sql"
            },
            "outputs": [
                {
                    "output_type": "error",
                    "ename": "",
                    "evalue": "Msg 2714, Level 16, State 6, Line 1\r\nThere is already an object named '#MASKED_GUEST' in the database.",
                    "traceback": []
                },
                {
                    "output_type": "display_data",
                    "data": {
                        "text/html": "Total execution time: 00:00:00.068"
                    },
                    "metadata": {}
                }
            ],
            "execution_count": 21
        },
        {
            "cell_type": "markdown",
            "source": [
                "Valósítsa meg REDIS-ben a következő táblákat:\n",
                "\n",
                "- <span style=\"box-sizing: border-box; font-size: 0.9375rem;\">IRO(ID, nev, nemzetiseg)</span>\n",
                "- KONYV(ID, cim, mufaj, IRO\\_ID)\n",
                "\n",
                "Vigyen fel táblánként legalább 2-2 sornyi adatot!"
            ],
            "metadata": {
                "language": "sql",
                "azdata_cell_guid": "eef9b15a-9a81-4061-bc27-f43624902663"
            },
            "attachments": {}
        },
        {
            "cell_type": "code",
            "source": [
                "hset IRO:1 ID 1 nev \"Petofi Sandor\" nemzetiseg \"Magyar\"\r\n",
                "hset IRO:2 ID 2 nev \"Jozsef Attila\" nemzetiseg \"Magyar\"\r\n",
                "hset KONYV:1 ID 1 cim \"Harry Potter\" mufaj \"scifi\" IRO_ID 1\r\n",
                "hset KONYV:2 ID 2 cim \"Vezetes es szervezes\" mufaj \"oktato\" IRO_ID 2"
            ],
            "metadata": {
                "language": "sql",
                "azdata_cell_guid": "81533c83-6962-4b39-b1c7-de9c3aed98df",
                "tags": []
            },
            "outputs": [],
            "execution_count": null
        },
        {
            "cell_type": "markdown",
            "source": [
                "Cassandra CQL Shellben hozza létre a következő táblát:\n",
                "\n",
                "STUDENT(ID, Nev, Teljesitett\\_felevek, Eredmenyek, Nyelvtudas)\n",
                "\n",
                "- Az ID legyen az elsődleges kulcs\n",
                "- A Teljesitett félévek legyen LIST, tartalma egész számok, pl: 1, 2, 3\n",
                "- Az Eredmenyek legyen MAP, tartalma, hogy melyik félévben mennyi volt az átlag, pl: 1: 3,00, 2: 4.55, 3: 4,10\n",
                "- A Nyelvtudas legyen SET, tartalma a nyelvek megnevezése\n",
                "\n",
                "Vigyen fel legalább 2 rekordot!"
            ],
            "metadata": {
                "language": "sql",
                "azdata_cell_guid": "320ddefe-1973-410b-9c01-d1f55b7945a2"
            },
            "attachments": {}
        },
        {
            "cell_type": "code",
            "source": [
                "Create table Student (\r\n",
                "       ... id int PRIMARY KEY,\r\n",
                "       ... Nev text,\r\n",
                "       ... Teljesitett_felevek list<int>,\r\n",
                "       ... Eredmenyek map<int, float>,\r\n",
                "       ... Nyelvtudas set<text>)\r\n",
                "       ... ;\r\n",
                "INSERT INTO STUDENT (id, Nev, Teljesitett_felevek, Eredmenyek, Nyelvtudas)  VALUES (1, 'Kovacs Bela', [1, 2, 3, 4],      {1: 4.00, 2: 2.15, 3: 5.00},      {'angol', 'spanyol'});\r\n",
                "INSERT INTO STUDENT (id, Nev, Teljesitett_felevek, Eredmenyek, Nyelvtudas)  VALUES (2, 'Szabo Benedek', [1, 2, 3],      {1: 5.00, 2: 3.16, 3: 4.50},      {'észt', 'latin'});\r\n",
                ""
            ],
            "metadata": {
                "language": "sql",
                "azdata_cell_guid": "708fe89f-de02-437c-a90c-6c18e64e38eb"
            },
            "outputs": [],
            "execution_count": null
        },
        {
            "cell_type": "markdown",
            "source": [
                "A Neo4j Sandbox-ban vagy a Desktopban jelenítsük meg azon személyeket, akik egy filmben szerepeltek Tom Hanks-sel.\n",
                "\n",
                "- Egy szereplő neve csak egyszer jelenjen meg\n",
                "- Tom Hanks ne legyen benne a listában"
            ],
            "metadata": {
                "language": "sql",
                "azdata_cell_guid": "163a202a-bcd9-4fda-907c-dcd39487e2c8"
            },
            "attachments": {}
        },
        {
            "cell_type": "code",
            "source": [
                "MATCH (p:Person)-[:ACTED_IN]->(m:Movie)<-[:ACTED_IN]-(coactor:Person)\r\n",
                "where p.name = 'Tom Hanks' and coactor.name <> 'Tom Hanks'\r\n",
                "return distinct coactor.name as `Coactors`\r\n",
                "order by coactor.name"
            ],
            "metadata": {
                "language": "sql",
                "azdata_cell_guid": "121f162f-0d04-496b-a5c1-edd3e161e8bc"
            },
            "outputs": [],
            "execution_count": null
        }
    ]
}