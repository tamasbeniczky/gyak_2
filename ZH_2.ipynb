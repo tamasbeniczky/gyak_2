{
    "metadata": {
        "kernelspec": {
            "name": "SQL",
            "display_name": "SQL",
            "language": "sql"
        },
        "language_info": {
            "name": "sql",
            "version": ""
        }
    },
    "nbformat_minor": 2,
    "nbformat": 4,
    "cells": [
        {
            "cell_type": "markdown",
            "source": [
                "- Készítsen lekérdezést, amely megjeleníti, hogy szobánként (SZOBA\\_FK) hány olyan foglalás történt, ahol a felnőttek száma nagyobb volt a gyermekek számánál!\n",
                "\n",
                "a. A lekérdezés jelenítse meg a végösszeget is megfelelően jelölve!"
            ],
            "metadata": {
                "azdata_cell_guid": "6bb02045-7971-495d-991b-eb2e70585213"
            },
            "attachments": {}
        },
        {
            "cell_type": "code",
            "source": [
                "SELECT\r\n",
                "    iif(SZOBA_FK is null, 'végösszeg', cast(szoba_fk as nvarchar(5))),\r\n",
                "    COUNT(*) AS 'FoglalásokSzama'\r\n",
                "from foglalas\r\n",
                "WHERE\r\n",
                "    FELNOTT_SZAM > GYERMEK_SZAM\r\n",
                "GROUP BY rollup(SZOBA_FK)"
            ],
            "metadata": {
                "azdata_cell_guid": "c3cb14b3-24a9-4dbe-910d-ed2a79b296e2",
                "language": "sql"
            },
            "outputs": [
                {
                    "output_type": "display_data",
                    "data": {
                        "text/html": "(190 rows affected)"
                    },
                    "metadata": {}
                },
                {
                    "output_type": "display_data",
                    "data": {
                        "text/html": "Total execution time: 00:00:00.033"
                    },
                    "metadata": {}
                },
                {
                    "output_type": "execute_result",
                    "metadata": {},
                    "execution_count": 11,
                    "data": {
                        "application/vnd.dataresource+json": {
                            "schema": {
                                "fields": [
                                    {
                                        "name": "(No column name)"
                                    },
                                    {
                                        "name": "FoglalásokSzama"
                                    }
                                ]
                            },
                            "data": [
                                {
                                    "(No column name)": "1",
                                    "FoglalásokSzama": "7"
                                },
                                {
                                    "(No column name)": "2",
                                    "FoglalásokSzama": "2"
                                },
                                {
                                    "(No column name)": "3",
                                    "FoglalásokSzama": "3"
                                },
                                {
                                    "(No column name)": "4",
                                    "FoglalásokSzama": "5"
                                },
                                {
                                    "(No column name)": "5",
                                    "FoglalásokSzama": "2"
                                },
                                {
                                    "(No column name)": "6",
                                    "FoglalásokSzama": "5"
                                },
                                {
                                    "(No column name)": "7",
                                    "FoglalásokSzama": "6"
                                },
                                {
                                    "(No column name)": "8",
                                    "FoglalásokSzama": "5"
                                },
                                {
                                    "(No column name)": "9",
                                    "FoglalásokSzama": "4"
                                },
                                {
                                    "(No column name)": "10",
                                    "FoglalásokSzama": "4"
                                },
                                {
                                    "(No column name)": "11",
                                    "FoglalásokSzama": "4"
                                },
                                {
                                    "(No column name)": "12",
                                    "FoglalásokSzama": "7"
                                },
                                {
                                    "(No column name)": "13",
                                    "FoglalásokSzama": "4"
                                },
                                {
                                    "(No column name)": "14",
                                    "FoglalásokSzama": "3"
                                },
                                {
                                    "(No column name)": "15",
                                    "FoglalásokSzama": "4"
                                },
                                {
                                    "(No column name)": "16",
                                    "FoglalásokSzama": "1"
                                },
                                {
                                    "(No column name)": "17",
                                    "FoglalásokSzama": "2"
                                },
                                {
                                    "(No column name)": "18",
                                    "FoglalásokSzama": "3"
                                },
                                {
                                    "(No column name)": "19",
                                    "FoglalásokSzama": "4"
                                },
                                {
                                    "(No column name)": "20",
                                    "FoglalásokSzama": "5"
                                },
                                {
                                    "(No column name)": "21",
                                    "FoglalásokSzama": "1"
                                },
                                {
                                    "(No column name)": "22",
                                    "FoglalásokSzama": "2"
                                },
                                {
                                    "(No column name)": "23",
                                    "FoglalásokSzama": "3"
                                },
                                {
                                    "(No column name)": "24",
                                    "FoglalásokSzama": "3"
                                },
                                {
                                    "(No column name)": "25",
                                    "FoglalásokSzama": "1"
                                },
                                {
                                    "(No column name)": "27",
                                    "FoglalásokSzama": "5"
                                },
                                {
                                    "(No column name)": "28",
                                    "FoglalásokSzama": "5"
                                },
                                {
                                    "(No column name)": "29",
                                    "FoglalásokSzama": "3"
                                },
                                {
                                    "(No column name)": "30",
                                    "FoglalásokSzama": "2"
                                },
                                {
                                    "(No column name)": "31",
                                    "FoglalásokSzama": "1"
                                },
                                {
                                    "(No column name)": "32",
                                    "FoglalásokSzama": "1"
                                },
                                {
                                    "(No column name)": "33",
                                    "FoglalásokSzama": "3"
                                },
                                {
                                    "(No column name)": "34",
                                    "FoglalásokSzama": "3"
                                },
                                {
                                    "(No column name)": "35",
                                    "FoglalásokSzama": "6"
                                },
                                {
                                    "(No column name)": "36",
                                    "FoglalásokSzama": "4"
                                },
                                {
                                    "(No column name)": "37",
                                    "FoglalásokSzama": "2"
                                },
                                {
                                    "(No column name)": "38",
                                    "FoglalásokSzama": "5"
                                },
                                {
                                    "(No column name)": "39",
                                    "FoglalásokSzama": "4"
                                },
                                {
                                    "(No column name)": "40",
                                    "FoglalásokSzama": "3"
                                },
                                {
                                    "(No column name)": "41",
                                    "FoglalásokSzama": "1"
                                },
                                {
                                    "(No column name)": "42",
                                    "FoglalásokSzama": "5"
                                },
                                {
                                    "(No column name)": "43",
                                    "FoglalásokSzama": "4"
                                },
                                {
                                    "(No column name)": "44",
                                    "FoglalásokSzama": "6"
                                },
                                {
                                    "(No column name)": "45",
                                    "FoglalásokSzama": "4"
                                },
                                {
                                    "(No column name)": "46",
                                    "FoglalásokSzama": "3"
                                },
                                {
                                    "(No column name)": "47",
                                    "FoglalásokSzama": "2"
                                },
                                {
                                    "(No column name)": "48",
                                    "FoglalásokSzama": "6"
                                },
                                {
                                    "(No column name)": "49",
                                    "FoglalásokSzama": "5"
                                },
                                {
                                    "(No column name)": "50",
                                    "FoglalásokSzama": "3"
                                },
                                {
                                    "(No column name)": "51",
                                    "FoglalásokSzama": "3"
                                },
                                {
                                    "(No column name)": "52",
                                    "FoglalásokSzama": "5"
                                },
                                {
                                    "(No column name)": "54",
                                    "FoglalásokSzama": "4"
                                },
                                {
                                    "(No column name)": "55",
                                    "FoglalásokSzama": "3"
                                },
                                {
                                    "(No column name)": "56",
                                    "FoglalásokSzama": "1"
                                },
                                {
                                    "(No column name)": "57",
                                    "FoglalásokSzama": "3"
                                },
                                {
                                    "(No column name)": "58",
                                    "FoglalásokSzama": "8"
                                },
                                {
                                    "(No column name)": "59",
                                    "FoglalásokSzama": "4"
                                },
                                {
                                    "(No column name)": "60",
                                    "FoglalásokSzama": "1"
                                },
                                {
                                    "(No column name)": "61",
                                    "FoglalásokSzama": "4"
                                },
                                {
                                    "(No column name)": "62",
                                    "FoglalásokSzama": "3"
                                },
                                {
                                    "(No column name)": "63",
                                    "FoglalásokSzama": "3"
                                },
                                {
                                    "(No column name)": "64",
                                    "FoglalásokSzama": "5"
                                },
                                {
                                    "(No column name)": "66",
                                    "FoglalásokSzama": "3"
                                },
                                {
                                    "(No column name)": "67",
                                    "FoglalásokSzama": "2"
                                },
                                {
                                    "(No column name)": "69",
                                    "FoglalásokSzama": "2"
                                },
                                {
                                    "(No column name)": "70",
                                    "FoglalásokSzama": "8"
                                },
                                {
                                    "(No column name)": "71",
                                    "FoglalásokSzama": "2"
                                },
                                {
                                    "(No column name)": "72",
                                    "FoglalásokSzama": "2"
                                },
                                {
                                    "(No column name)": "73",
                                    "FoglalásokSzama": "4"
                                },
                                {
                                    "(No column name)": "74",
                                    "FoglalásokSzama": "8"
                                },
                                {
                                    "(No column name)": "75",
                                    "FoglalásokSzama": "2"
                                },
                                {
                                    "(No column name)": "76",
                                    "FoglalásokSzama": "2"
                                },
                                {
                                    "(No column name)": "77",
                                    "FoglalásokSzama": "3"
                                },
                                {
                                    "(No column name)": "78",
                                    "FoglalásokSzama": "3"
                                },
                                {
                                    "(No column name)": "79",
                                    "FoglalásokSzama": "4"
                                },
                                {
                                    "(No column name)": "80",
                                    "FoglalásokSzama": "5"
                                },
                                {
                                    "(No column name)": "81",
                                    "FoglalásokSzama": "3"
                                },
                                {
                                    "(No column name)": "82",
                                    "FoglalásokSzama": "5"
                                },
                                {
                                    "(No column name)": "83",
                                    "FoglalásokSzama": "5"
                                },
                                {
                                    "(No column name)": "84",
                                    "FoglalásokSzama": "3"
                                },
                                {
                                    "(No column name)": "85",
                                    "FoglalásokSzama": "2"
                                },
                                {
                                    "(No column name)": "86",
                                    "FoglalásokSzama": "4"
                                },
                                {
                                    "(No column name)": "87",
                                    "FoglalásokSzama": "5"
                                },
                                {
                                    "(No column name)": "88",
                                    "FoglalásokSzama": "5"
                                },
                                {
                                    "(No column name)": "89",
                                    "FoglalásokSzama": "8"
                                },
                                {
                                    "(No column name)": "90",
                                    "FoglalásokSzama": "3"
                                },
                                {
                                    "(No column name)": "91",
                                    "FoglalásokSzama": "2"
                                },
                                {
                                    "(No column name)": "92",
                                    "FoglalásokSzama": "5"
                                },
                                {
                                    "(No column name)": "93",
                                    "FoglalásokSzama": "3"
                                },
                                {
                                    "(No column name)": "94",
                                    "FoglalásokSzama": "6"
                                },
                                {
                                    "(No column name)": "95",
                                    "FoglalásokSzama": "3"
                                },
                                {
                                    "(No column name)": "96",
                                    "FoglalásokSzama": "6"
                                },
                                {
                                    "(No column name)": "97",
                                    "FoglalásokSzama": "5"
                                },
                                {
                                    "(No column name)": "98",
                                    "FoglalásokSzama": "4"
                                },
                                {
                                    "(No column name)": "99",
                                    "FoglalásokSzama": "4"
                                },
                                {
                                    "(No column name)": "100",
                                    "FoglalásokSzama": "2"
                                },
                                {
                                    "(No column name)": "101",
                                    "FoglalásokSzama": "1"
                                },
                                {
                                    "(No column name)": "102",
                                    "FoglalásokSzama": "1"
                                },
                                {
                                    "(No column name)": "103",
                                    "FoglalásokSzama": "1"
                                },
                                {
                                    "(No column name)": "104",
                                    "FoglalásokSzama": "3"
                                },
                                {
                                    "(No column name)": "106",
                                    "FoglalásokSzama": "4"
                                },
                                {
                                    "(No column name)": "107",
                                    "FoglalásokSzama": "4"
                                },
                                {
                                    "(No column name)": "108",
                                    "FoglalásokSzama": "1"
                                },
                                {
                                    "(No column name)": "109",
                                    "FoglalásokSzama": "2"
                                },
                                {
                                    "(No column name)": "110",
                                    "FoglalásokSzama": "5"
                                },
                                {
                                    "(No column name)": "111",
                                    "FoglalásokSzama": "1"
                                },
                                {
                                    "(No column name)": "112",
                                    "FoglalásokSzama": "4"
                                },
                                {
                                    "(No column name)": "113",
                                    "FoglalásokSzama": "2"
                                },
                                {
                                    "(No column name)": "114",
                                    "FoglalásokSzama": "1"
                                },
                                {
                                    "(No column name)": "115",
                                    "FoglalásokSzama": "5"
                                },
                                {
                                    "(No column name)": "117",
                                    "FoglalásokSzama": "4"
                                },
                                {
                                    "(No column name)": "118",
                                    "FoglalásokSzama": "2"
                                },
                                {
                                    "(No column name)": "119",
                                    "FoglalásokSzama": "4"
                                },
                                {
                                    "(No column name)": "120",
                                    "FoglalásokSzama": "2"
                                },
                                {
                                    "(No column name)": "121",
                                    "FoglalásokSzama": "5"
                                },
                                {
                                    "(No column name)": "122",
                                    "FoglalásokSzama": "3"
                                },
                                {
                                    "(No column name)": "123",
                                    "FoglalásokSzama": "5"
                                },
                                {
                                    "(No column name)": "124",
                                    "FoglalásokSzama": "4"
                                },
                                {
                                    "(No column name)": "126",
                                    "FoglalásokSzama": "4"
                                },
                                {
                                    "(No column name)": "127",
                                    "FoglalásokSzama": "5"
                                },
                                {
                                    "(No column name)": "129",
                                    "FoglalásokSzama": "3"
                                },
                                {
                                    "(No column name)": "130",
                                    "FoglalásokSzama": "5"
                                },
                                {
                                    "(No column name)": "131",
                                    "FoglalásokSzama": "4"
                                },
                                {
                                    "(No column name)": "132",
                                    "FoglalásokSzama": "4"
                                },
                                {
                                    "(No column name)": "133",
                                    "FoglalásokSzama": "4"
                                },
                                {
                                    "(No column name)": "134",
                                    "FoglalásokSzama": "4"
                                },
                                {
                                    "(No column name)": "135",
                                    "FoglalásokSzama": "3"
                                },
                                {
                                    "(No column name)": "136",
                                    "FoglalásokSzama": "2"
                                },
                                {
                                    "(No column name)": "137",
                                    "FoglalásokSzama": "2"
                                },
                                {
                                    "(No column name)": "138",
                                    "FoglalásokSzama": "5"
                                },
                                {
                                    "(No column name)": "139",
                                    "FoglalásokSzama": "6"
                                },
                                {
                                    "(No column name)": "140",
                                    "FoglalásokSzama": "5"
                                },
                                {
                                    "(No column name)": "141",
                                    "FoglalásokSzama": "4"
                                },
                                {
                                    "(No column name)": "142",
                                    "FoglalásokSzama": "1"
                                },
                                {
                                    "(No column name)": "143",
                                    "FoglalásokSzama": "5"
                                },
                                {
                                    "(No column name)": "144",
                                    "FoglalásokSzama": "2"
                                },
                                {
                                    "(No column name)": "145",
                                    "FoglalásokSzama": "2"
                                },
                                {
                                    "(No column name)": "146",
                                    "FoglalásokSzama": "3"
                                },
                                {
                                    "(No column name)": "147",
                                    "FoglalásokSzama": "1"
                                },
                                {
                                    "(No column name)": "148",
                                    "FoglalásokSzama": "5"
                                },
                                {
                                    "(No column name)": "149",
                                    "FoglalásokSzama": "5"
                                },
                                {
                                    "(No column name)": "150",
                                    "FoglalásokSzama": "6"
                                },
                                {
                                    "(No column name)": "151",
                                    "FoglalásokSzama": "2"
                                },
                                {
                                    "(No column name)": "152",
                                    "FoglalásokSzama": "3"
                                },
                                {
                                    "(No column name)": "153",
                                    "FoglalásokSzama": "4"
                                },
                                {
                                    "(No column name)": "154",
                                    "FoglalásokSzama": "3"
                                },
                                {
                                    "(No column name)": "155",
                                    "FoglalásokSzama": "3"
                                },
                                {
                                    "(No column name)": "156",
                                    "FoglalásokSzama": "2"
                                },
                                {
                                    "(No column name)": "157",
                                    "FoglalásokSzama": "2"
                                },
                                {
                                    "(No column name)": "158",
                                    "FoglalásokSzama": "3"
                                },
                                {
                                    "(No column name)": "160",
                                    "FoglalásokSzama": "2"
                                },
                                {
                                    "(No column name)": "161",
                                    "FoglalásokSzama": "3"
                                },
                                {
                                    "(No column name)": "162",
                                    "FoglalásokSzama": "2"
                                },
                                {
                                    "(No column name)": "163",
                                    "FoglalásokSzama": "5"
                                },
                                {
                                    "(No column name)": "164",
                                    "FoglalásokSzama": "4"
                                },
                                {
                                    "(No column name)": "165",
                                    "FoglalásokSzama": "5"
                                },
                                {
                                    "(No column name)": "166",
                                    "FoglalásokSzama": "3"
                                },
                                {
                                    "(No column name)": "167",
                                    "FoglalásokSzama": "2"
                                },
                                {
                                    "(No column name)": "168",
                                    "FoglalásokSzama": "1"
                                },
                                {
                                    "(No column name)": "169",
                                    "FoglalásokSzama": "3"
                                },
                                {
                                    "(No column name)": "170",
                                    "FoglalásokSzama": "3"
                                },
                                {
                                    "(No column name)": "171",
                                    "FoglalásokSzama": "5"
                                },
                                {
                                    "(No column name)": "172",
                                    "FoglalásokSzama": "6"
                                },
                                {
                                    "(No column name)": "173",
                                    "FoglalásokSzama": "3"
                                },
                                {
                                    "(No column name)": "174",
                                    "FoglalásokSzama": "4"
                                },
                                {
                                    "(No column name)": "175",
                                    "FoglalásokSzama": "3"
                                },
                                {
                                    "(No column name)": "176",
                                    "FoglalásokSzama": "2"
                                },
                                {
                                    "(No column name)": "177",
                                    "FoglalásokSzama": "1"
                                },
                                {
                                    "(No column name)": "178",
                                    "FoglalásokSzama": "1"
                                },
                                {
                                    "(No column name)": "179",
                                    "FoglalásokSzama": "2"
                                },
                                {
                                    "(No column name)": "180",
                                    "FoglalásokSzama": "1"
                                },
                                {
                                    "(No column name)": "181",
                                    "FoglalásokSzama": "5"
                                },
                                {
                                    "(No column name)": "182",
                                    "FoglalásokSzama": "11"
                                },
                                {
                                    "(No column name)": "183",
                                    "FoglalásokSzama": "3"
                                },
                                {
                                    "(No column name)": "184",
                                    "FoglalásokSzama": "4"
                                },
                                {
                                    "(No column name)": "185",
                                    "FoglalásokSzama": "10"
                                },
                                {
                                    "(No column name)": "186",
                                    "FoglalásokSzama": "1"
                                },
                                {
                                    "(No column name)": "187",
                                    "FoglalásokSzama": "6"
                                },
                                {
                                    "(No column name)": "188",
                                    "FoglalásokSzama": "2"
                                },
                                {
                                    "(No column name)": "189",
                                    "FoglalásokSzama": "1"
                                },
                                {
                                    "(No column name)": "190",
                                    "FoglalásokSzama": "5"
                                },
                                {
                                    "(No column name)": "191",
                                    "FoglalásokSzama": "3"
                                },
                                {
                                    "(No column name)": "192",
                                    "FoglalásokSzama": "1"
                                },
                                {
                                    "(No column name)": "193",
                                    "FoglalásokSzama": "2"
                                },
                                {
                                    "(No column name)": "194",
                                    "FoglalásokSzama": "1"
                                },
                                {
                                    "(No column name)": "195",
                                    "FoglalásokSzama": "5"
                                },
                                {
                                    "(No column name)": "196",
                                    "FoglalásokSzama": "2"
                                },
                                {
                                    "(No column name)": "197",
                                    "FoglalásokSzama": "6"
                                },
                                {
                                    "(No column name)": "198",
                                    "FoglalásokSzama": "7"
                                },
                                {
                                    "(No column name)": "végösszeg",
                                    "FoglalásokSzama": "668"
                                }
                            ]
                        },
                        "text/html": [
                            "<table>",
                            "<tr><th>(No column name)</th><th>FoglalásokSzama</th></tr>",
                            "<tr><td>1</td><td>7</td></tr>",
                            "<tr><td>2</td><td>2</td></tr>",
                            "<tr><td>3</td><td>3</td></tr>",
                            "<tr><td>4</td><td>5</td></tr>",
                            "<tr><td>5</td><td>2</td></tr>",
                            "<tr><td>6</td><td>5</td></tr>",
                            "<tr><td>7</td><td>6</td></tr>",
                            "<tr><td>8</td><td>5</td></tr>",
                            "<tr><td>9</td><td>4</td></tr>",
                            "<tr><td>10</td><td>4</td></tr>",
                            "<tr><td>11</td><td>4</td></tr>",
                            "<tr><td>12</td><td>7</td></tr>",
                            "<tr><td>13</td><td>4</td></tr>",
                            "<tr><td>14</td><td>3</td></tr>",
                            "<tr><td>15</td><td>4</td></tr>",
                            "<tr><td>16</td><td>1</td></tr>",
                            "<tr><td>17</td><td>2</td></tr>",
                            "<tr><td>18</td><td>3</td></tr>",
                            "<tr><td>19</td><td>4</td></tr>",
                            "<tr><td>20</td><td>5</td></tr>",
                            "<tr><td>21</td><td>1</td></tr>",
                            "<tr><td>22</td><td>2</td></tr>",
                            "<tr><td>23</td><td>3</td></tr>",
                            "<tr><td>24</td><td>3</td></tr>",
                            "<tr><td>25</td><td>1</td></tr>",
                            "<tr><td>27</td><td>5</td></tr>",
                            "<tr><td>28</td><td>5</td></tr>",
                            "<tr><td>29</td><td>3</td></tr>",
                            "<tr><td>30</td><td>2</td></tr>",
                            "<tr><td>31</td><td>1</td></tr>",
                            "<tr><td>32</td><td>1</td></tr>",
                            "<tr><td>33</td><td>3</td></tr>",
                            "<tr><td>34</td><td>3</td></tr>",
                            "<tr><td>35</td><td>6</td></tr>",
                            "<tr><td>36</td><td>4</td></tr>",
                            "<tr><td>37</td><td>2</td></tr>",
                            "<tr><td>38</td><td>5</td></tr>",
                            "<tr><td>39</td><td>4</td></tr>",
                            "<tr><td>40</td><td>3</td></tr>",
                            "<tr><td>41</td><td>1</td></tr>",
                            "<tr><td>42</td><td>5</td></tr>",
                            "<tr><td>43</td><td>4</td></tr>",
                            "<tr><td>44</td><td>6</td></tr>",
                            "<tr><td>45</td><td>4</td></tr>",
                            "<tr><td>46</td><td>3</td></tr>",
                            "<tr><td>47</td><td>2</td></tr>",
                            "<tr><td>48</td><td>6</td></tr>",
                            "<tr><td>49</td><td>5</td></tr>",
                            "<tr><td>50</td><td>3</td></tr>",
                            "<tr><td>51</td><td>3</td></tr>",
                            "<tr><td>52</td><td>5</td></tr>",
                            "<tr><td>54</td><td>4</td></tr>",
                            "<tr><td>55</td><td>3</td></tr>",
                            "<tr><td>56</td><td>1</td></tr>",
                            "<tr><td>57</td><td>3</td></tr>",
                            "<tr><td>58</td><td>8</td></tr>",
                            "<tr><td>59</td><td>4</td></tr>",
                            "<tr><td>60</td><td>1</td></tr>",
                            "<tr><td>61</td><td>4</td></tr>",
                            "<tr><td>62</td><td>3</td></tr>",
                            "<tr><td>63</td><td>3</td></tr>",
                            "<tr><td>64</td><td>5</td></tr>",
                            "<tr><td>66</td><td>3</td></tr>",
                            "<tr><td>67</td><td>2</td></tr>",
                            "<tr><td>69</td><td>2</td></tr>",
                            "<tr><td>70</td><td>8</td></tr>",
                            "<tr><td>71</td><td>2</td></tr>",
                            "<tr><td>72</td><td>2</td></tr>",
                            "<tr><td>73</td><td>4</td></tr>",
                            "<tr><td>74</td><td>8</td></tr>",
                            "<tr><td>75</td><td>2</td></tr>",
                            "<tr><td>76</td><td>2</td></tr>",
                            "<tr><td>77</td><td>3</td></tr>",
                            "<tr><td>78</td><td>3</td></tr>",
                            "<tr><td>79</td><td>4</td></tr>",
                            "<tr><td>80</td><td>5</td></tr>",
                            "<tr><td>81</td><td>3</td></tr>",
                            "<tr><td>82</td><td>5</td></tr>",
                            "<tr><td>83</td><td>5</td></tr>",
                            "<tr><td>84</td><td>3</td></tr>",
                            "<tr><td>85</td><td>2</td></tr>",
                            "<tr><td>86</td><td>4</td></tr>",
                            "<tr><td>87</td><td>5</td></tr>",
                            "<tr><td>88</td><td>5</td></tr>",
                            "<tr><td>89</td><td>8</td></tr>",
                            "<tr><td>90</td><td>3</td></tr>",
                            "<tr><td>91</td><td>2</td></tr>",
                            "<tr><td>92</td><td>5</td></tr>",
                            "<tr><td>93</td><td>3</td></tr>",
                            "<tr><td>94</td><td>6</td></tr>",
                            "<tr><td>95</td><td>3</td></tr>",
                            "<tr><td>96</td><td>6</td></tr>",
                            "<tr><td>97</td><td>5</td></tr>",
                            "<tr><td>98</td><td>4</td></tr>",
                            "<tr><td>99</td><td>4</td></tr>",
                            "<tr><td>100</td><td>2</td></tr>",
                            "<tr><td>101</td><td>1</td></tr>",
                            "<tr><td>102</td><td>1</td></tr>",
                            "<tr><td>103</td><td>1</td></tr>",
                            "<tr><td>104</td><td>3</td></tr>",
                            "<tr><td>106</td><td>4</td></tr>",
                            "<tr><td>107</td><td>4</td></tr>",
                            "<tr><td>108</td><td>1</td></tr>",
                            "<tr><td>109</td><td>2</td></tr>",
                            "<tr><td>110</td><td>5</td></tr>",
                            "<tr><td>111</td><td>1</td></tr>",
                            "<tr><td>112</td><td>4</td></tr>",
                            "<tr><td>113</td><td>2</td></tr>",
                            "<tr><td>114</td><td>1</td></tr>",
                            "<tr><td>115</td><td>5</td></tr>",
                            "<tr><td>117</td><td>4</td></tr>",
                            "<tr><td>118</td><td>2</td></tr>",
                            "<tr><td>119</td><td>4</td></tr>",
                            "<tr><td>120</td><td>2</td></tr>",
                            "<tr><td>121</td><td>5</td></tr>",
                            "<tr><td>122</td><td>3</td></tr>",
                            "<tr><td>123</td><td>5</td></tr>",
                            "<tr><td>124</td><td>4</td></tr>",
                            "<tr><td>126</td><td>4</td></tr>",
                            "<tr><td>127</td><td>5</td></tr>",
                            "<tr><td>129</td><td>3</td></tr>",
                            "<tr><td>130</td><td>5</td></tr>",
                            "<tr><td>131</td><td>4</td></tr>",
                            "<tr><td>132</td><td>4</td></tr>",
                            "<tr><td>133</td><td>4</td></tr>",
                            "<tr><td>134</td><td>4</td></tr>",
                            "<tr><td>135</td><td>3</td></tr>",
                            "<tr><td>136</td><td>2</td></tr>",
                            "<tr><td>137</td><td>2</td></tr>",
                            "<tr><td>138</td><td>5</td></tr>",
                            "<tr><td>139</td><td>6</td></tr>",
                            "<tr><td>140</td><td>5</td></tr>",
                            "<tr><td>141</td><td>4</td></tr>",
                            "<tr><td>142</td><td>1</td></tr>",
                            "<tr><td>143</td><td>5</td></tr>",
                            "<tr><td>144</td><td>2</td></tr>",
                            "<tr><td>145</td><td>2</td></tr>",
                            "<tr><td>146</td><td>3</td></tr>",
                            "<tr><td>147</td><td>1</td></tr>",
                            "<tr><td>148</td><td>5</td></tr>",
                            "<tr><td>149</td><td>5</td></tr>",
                            "<tr><td>150</td><td>6</td></tr>",
                            "<tr><td>151</td><td>2</td></tr>",
                            "<tr><td>152</td><td>3</td></tr>",
                            "<tr><td>153</td><td>4</td></tr>",
                            "<tr><td>154</td><td>3</td></tr>",
                            "<tr><td>155</td><td>3</td></tr>",
                            "<tr><td>156</td><td>2</td></tr>",
                            "<tr><td>157</td><td>2</td></tr>",
                            "<tr><td>158</td><td>3</td></tr>",
                            "<tr><td>160</td><td>2</td></tr>",
                            "<tr><td>161</td><td>3</td></tr>",
                            "<tr><td>162</td><td>2</td></tr>",
                            "<tr><td>163</td><td>5</td></tr>",
                            "<tr><td>164</td><td>4</td></tr>",
                            "<tr><td>165</td><td>5</td></tr>",
                            "<tr><td>166</td><td>3</td></tr>",
                            "<tr><td>167</td><td>2</td></tr>",
                            "<tr><td>168</td><td>1</td></tr>",
                            "<tr><td>169</td><td>3</td></tr>",
                            "<tr><td>170</td><td>3</td></tr>",
                            "<tr><td>171</td><td>5</td></tr>",
                            "<tr><td>172</td><td>6</td></tr>",
                            "<tr><td>173</td><td>3</td></tr>",
                            "<tr><td>174</td><td>4</td></tr>",
                            "<tr><td>175</td><td>3</td></tr>",
                            "<tr><td>176</td><td>2</td></tr>",
                            "<tr><td>177</td><td>1</td></tr>",
                            "<tr><td>178</td><td>1</td></tr>",
                            "<tr><td>179</td><td>2</td></tr>",
                            "<tr><td>180</td><td>1</td></tr>",
                            "<tr><td>181</td><td>5</td></tr>",
                            "<tr><td>182</td><td>11</td></tr>",
                            "<tr><td>183</td><td>3</td></tr>",
                            "<tr><td>184</td><td>4</td></tr>",
                            "<tr><td>185</td><td>10</td></tr>",
                            "<tr><td>186</td><td>1</td></tr>",
                            "<tr><td>187</td><td>6</td></tr>",
                            "<tr><td>188</td><td>2</td></tr>",
                            "<tr><td>189</td><td>1</td></tr>",
                            "<tr><td>190</td><td>5</td></tr>",
                            "<tr><td>191</td><td>3</td></tr>",
                            "<tr><td>192</td><td>1</td></tr>",
                            "<tr><td>193</td><td>2</td></tr>",
                            "<tr><td>194</td><td>1</td></tr>",
                            "<tr><td>195</td><td>5</td></tr>",
                            "<tr><td>196</td><td>2</td></tr>",
                            "<tr><td>197</td><td>6</td></tr>",
                            "<tr><td>198</td><td>7</td></tr>",
                            "<tr><td>végösszeg</td><td>668</td></tr>",
                            "</table>"
                        ]
                    }
                }
            ],
            "execution_count": 11
        },
        {
            "cell_type": "markdown",
            "source": [
                "Rangsoroljuk az egyes szobákat a foglalások száma, azon belül férőhely szerint!\n",
                "\n",
                "- Holtverseny esetén a sorszámok sűrűn kövessék egymást\n",
                "- Az 1-es számot a legtöbbet foglalt, azon belül legkevesebb férőhelyű szoba kapja\n",
                "- Csak a szoba azonosítója, a férőhely és a helyezés jelenjen meg"
            ],
            "metadata": {
                "language": "sql",
                "azdata_cell_guid": "0e8c67c7-6532-4bc2-a870-bce480ff6f08"
            },
            "attachments": {}
        },
        {
            "cell_type": "code",
            "source": [
                "select f.szoba_fk,\r\n",
                "      sz.ferohely,\r\n",
                "        dense_rank() over(order by count(f.foglalas_pk) desc, sz.ferohely) as \"rangsor\"\r\n",
                "from Szoba sz join foglalas f on sz.SZOBA_ID = f.SZOBA_FK\r\n",
                "group by f.szoba_fk, sz.FEROHELY"
            ],
            "metadata": {
                "language": "sql",
                "azdata_cell_guid": "2cc0fae4-96f7-469f-a6f2-ace37cc83bc4"
            },
            "outputs": [
                {
                    "output_type": "display_data",
                    "data": {
                        "text/html": "(197 rows affected)"
                    },
                    "metadata": {}
                },
                {
                    "output_type": "display_data",
                    "data": {
                        "text/html": "Total execution time: 00:00:00.014"
                    },
                    "metadata": {}
                },
                {
                    "output_type": "execute_result",
                    "metadata": {},
                    "execution_count": 29,
                    "data": {
                        "application/vnd.dataresource+json": {
                            "schema": {
                                "fields": [
                                    {
                                        "name": "szoba_fk"
                                    },
                                    {
                                        "name": "ferohely"
                                    },
                                    {
                                        "name": "rangsor"
                                    }
                                ]
                            },
                            "data": [
                                {
                                    "szoba_fk": "58",
                                    "ferohely": "2",
                                    "rangsor": "1"
                                },
                                {
                                    "szoba_fk": "182",
                                    "ferohely": "2",
                                    "rangsor": "2"
                                },
                                {
                                    "szoba_fk": "185",
                                    "ferohely": "3",
                                    "rangsor": "3"
                                },
                                {
                                    "szoba_fk": "70",
                                    "ferohely": "2",
                                    "rangsor": "4"
                                },
                                {
                                    "szoba_fk": "94",
                                    "ferohely": "2",
                                    "rangsor": "5"
                                },
                                {
                                    "szoba_fk": "12",
                                    "ferohely": "2",
                                    "rangsor": "6"
                                },
                                {
                                    "szoba_fk": "172",
                                    "ferohely": "2",
                                    "rangsor": "6"
                                },
                                {
                                    "szoba_fk": "35",
                                    "ferohely": "3",
                                    "rangsor": "7"
                                },
                                {
                                    "szoba_fk": "48",
                                    "ferohely": "3",
                                    "rangsor": "7"
                                },
                                {
                                    "szoba_fk": "74",
                                    "ferohely": "3",
                                    "rangsor": "7"
                                },
                                {
                                    "szoba_fk": "122",
                                    "ferohely": "3",
                                    "rangsor": "7"
                                },
                                {
                                    "szoba_fk": "121",
                                    "ferohely": "2",
                                    "rangsor": "8"
                                },
                                {
                                    "szoba_fk": "140",
                                    "ferohely": "2",
                                    "rangsor": "8"
                                },
                                {
                                    "szoba_fk": "110",
                                    "ferohely": "2",
                                    "rangsor": "8"
                                },
                                {
                                    "szoba_fk": "55",
                                    "ferohely": "2",
                                    "rangsor": "8"
                                },
                                {
                                    "szoba_fk": "38",
                                    "ferohely": "2",
                                    "rangsor": "8"
                                },
                                {
                                    "szoba_fk": "1",
                                    "ferohely": "3",
                                    "rangsor": "9"
                                },
                                {
                                    "szoba_fk": "3",
                                    "ferohely": "3",
                                    "rangsor": "9"
                                },
                                {
                                    "szoba_fk": "43",
                                    "ferohely": "3",
                                    "rangsor": "9"
                                },
                                {
                                    "szoba_fk": "83",
                                    "ferohely": "3",
                                    "rangsor": "9"
                                },
                                {
                                    "szoba_fk": "88",
                                    "ferohely": "3",
                                    "rangsor": "9"
                                },
                                {
                                    "szoba_fk": "89",
                                    "ferohely": "3",
                                    "rangsor": "9"
                                },
                                {
                                    "szoba_fk": "117",
                                    "ferohely": "3",
                                    "rangsor": "9"
                                },
                                {
                                    "szoba_fk": "198",
                                    "ferohely": "3",
                                    "rangsor": "9"
                                },
                                {
                                    "szoba_fk": "149",
                                    "ferohely": "2",
                                    "rangsor": "10"
                                },
                                {
                                    "szoba_fk": "156",
                                    "ferohely": "2",
                                    "rangsor": "10"
                                },
                                {
                                    "szoba_fk": "163",
                                    "ferohely": "2",
                                    "rangsor": "10"
                                },
                                {
                                    "szoba_fk": "165",
                                    "ferohely": "2",
                                    "rangsor": "10"
                                },
                                {
                                    "szoba_fk": "118",
                                    "ferohely": "2",
                                    "rangsor": "10"
                                },
                                {
                                    "szoba_fk": "109",
                                    "ferohely": "2",
                                    "rangsor": "10"
                                },
                                {
                                    "szoba_fk": "127",
                                    "ferohely": "2",
                                    "rangsor": "10"
                                },
                                {
                                    "szoba_fk": "139",
                                    "ferohely": "2",
                                    "rangsor": "10"
                                },
                                {
                                    "szoba_fk": "80",
                                    "ferohely": "2",
                                    "rangsor": "10"
                                },
                                {
                                    "szoba_fk": "59",
                                    "ferohely": "2",
                                    "rangsor": "10"
                                },
                                {
                                    "szoba_fk": "39",
                                    "ferohely": "2",
                                    "rangsor": "10"
                                },
                                {
                                    "szoba_fk": "27",
                                    "ferohely": "3",
                                    "rangsor": "11"
                                },
                                {
                                    "szoba_fk": "49",
                                    "ferohely": "3",
                                    "rangsor": "11"
                                },
                                {
                                    "szoba_fk": "96",
                                    "ferohely": "3",
                                    "rangsor": "11"
                                },
                                {
                                    "szoba_fk": "97",
                                    "ferohely": "3",
                                    "rangsor": "11"
                                },
                                {
                                    "szoba_fk": "138",
                                    "ferohely": "3",
                                    "rangsor": "11"
                                },
                                {
                                    "szoba_fk": "143",
                                    "ferohely": "3",
                                    "rangsor": "11"
                                },
                                {
                                    "szoba_fk": "115",
                                    "ferohely": "3",
                                    "rangsor": "11"
                                },
                                {
                                    "szoba_fk": "187",
                                    "ferohely": "3",
                                    "rangsor": "11"
                                },
                                {
                                    "szoba_fk": "193",
                                    "ferohely": "3",
                                    "rangsor": "11"
                                },
                                {
                                    "szoba_fk": "195",
                                    "ferohely": "2",
                                    "rangsor": "12"
                                },
                                {
                                    "szoba_fk": "161",
                                    "ferohely": "2",
                                    "rangsor": "12"
                                },
                                {
                                    "szoba_fk": "150",
                                    "ferohely": "2",
                                    "rangsor": "12"
                                },
                                {
                                    "szoba_fk": "148",
                                    "ferohely": "2",
                                    "rangsor": "12"
                                },
                                {
                                    "szoba_fk": "169",
                                    "ferohely": "2",
                                    "rangsor": "12"
                                },
                                {
                                    "szoba_fk": "106",
                                    "ferohely": "2",
                                    "rangsor": "12"
                                },
                                {
                                    "szoba_fk": "126",
                                    "ferohely": "2",
                                    "rangsor": "12"
                                },
                                {
                                    "szoba_fk": "145",
                                    "ferohely": "2",
                                    "rangsor": "12"
                                },
                                {
                                    "szoba_fk": "141",
                                    "ferohely": "2",
                                    "rangsor": "12"
                                },
                                {
                                    "szoba_fk": "130",
                                    "ferohely": "2",
                                    "rangsor": "12"
                                },
                                {
                                    "szoba_fk": "137",
                                    "ferohely": "2",
                                    "rangsor": "12"
                                },
                                {
                                    "szoba_fk": "78",
                                    "ferohely": "2",
                                    "rangsor": "12"
                                },
                                {
                                    "szoba_fk": "42",
                                    "ferohely": "2",
                                    "rangsor": "12"
                                },
                                {
                                    "szoba_fk": "64",
                                    "ferohely": "2",
                                    "rangsor": "12"
                                },
                                {
                                    "szoba_fk": "67",
                                    "ferohely": "2",
                                    "rangsor": "12"
                                },
                                {
                                    "szoba_fk": "28",
                                    "ferohely": "2",
                                    "rangsor": "12"
                                },
                                {
                                    "szoba_fk": "29",
                                    "ferohely": "2",
                                    "rangsor": "12"
                                },
                                {
                                    "szoba_fk": "19",
                                    "ferohely": "2",
                                    "rangsor": "12"
                                },
                                {
                                    "szoba_fk": "33",
                                    "ferohely": "2",
                                    "rangsor": "12"
                                },
                                {
                                    "szoba_fk": "4",
                                    "ferohely": "2",
                                    "rangsor": "12"
                                },
                                {
                                    "szoba_fk": "7",
                                    "ferohely": "2",
                                    "rangsor": "12"
                                },
                                {
                                    "szoba_fk": "15",
                                    "ferohely": "2",
                                    "rangsor": "12"
                                },
                                {
                                    "szoba_fk": "17",
                                    "ferohely": "3",
                                    "rangsor": "13"
                                },
                                {
                                    "szoba_fk": "18",
                                    "ferohely": "3",
                                    "rangsor": "13"
                                },
                                {
                                    "szoba_fk": "6",
                                    "ferohely": "3",
                                    "rangsor": "13"
                                },
                                {
                                    "szoba_fk": "9",
                                    "ferohely": "3",
                                    "rangsor": "13"
                                },
                                {
                                    "szoba_fk": "22",
                                    "ferohely": "3",
                                    "rangsor": "13"
                                },
                                {
                                    "szoba_fk": "36",
                                    "ferohely": "3",
                                    "rangsor": "13"
                                },
                                {
                                    "szoba_fk": "44",
                                    "ferohely": "3",
                                    "rangsor": "13"
                                },
                                {
                                    "szoba_fk": "54",
                                    "ferohely": "3",
                                    "rangsor": "13"
                                },
                                {
                                    "szoba_fk": "77",
                                    "ferohely": "3",
                                    "rangsor": "13"
                                },
                                {
                                    "szoba_fk": "82",
                                    "ferohely": "3",
                                    "rangsor": "13"
                                },
                                {
                                    "szoba_fk": "92",
                                    "ferohely": "3",
                                    "rangsor": "13"
                                },
                                {
                                    "szoba_fk": "132",
                                    "ferohely": "3",
                                    "rangsor": "13"
                                },
                                {
                                    "szoba_fk": "133",
                                    "ferohely": "3",
                                    "rangsor": "13"
                                },
                                {
                                    "szoba_fk": "134",
                                    "ferohely": "3",
                                    "rangsor": "13"
                                },
                                {
                                    "szoba_fk": "146",
                                    "ferohely": "3",
                                    "rangsor": "13"
                                },
                                {
                                    "szoba_fk": "124",
                                    "ferohely": "3",
                                    "rangsor": "13"
                                },
                                {
                                    "szoba_fk": "120",
                                    "ferohely": "3",
                                    "rangsor": "13"
                                },
                                {
                                    "szoba_fk": "176",
                                    "ferohely": "3",
                                    "rangsor": "13"
                                },
                                {
                                    "szoba_fk": "181",
                                    "ferohely": "3",
                                    "rangsor": "13"
                                },
                                {
                                    "szoba_fk": "188",
                                    "ferohely": "3",
                                    "rangsor": "13"
                                },
                                {
                                    "szoba_fk": "197",
                                    "ferohely": "3",
                                    "rangsor": "13"
                                },
                                {
                                    "szoba_fk": "189",
                                    "ferohely": "2",
                                    "rangsor": "14"
                                },
                                {
                                    "szoba_fk": "190",
                                    "ferohely": "2",
                                    "rangsor": "14"
                                },
                                {
                                    "szoba_fk": "191",
                                    "ferohely": "2",
                                    "rangsor": "14"
                                },
                                {
                                    "szoba_fk": "168",
                                    "ferohely": "2",
                                    "rangsor": "14"
                                },
                                {
                                    "szoba_fk": "175",
                                    "ferohely": "2",
                                    "rangsor": "14"
                                },
                                {
                                    "szoba_fk": "170",
                                    "ferohely": "2",
                                    "rangsor": "14"
                                },
                                {
                                    "szoba_fk": "171",
                                    "ferohely": "2",
                                    "rangsor": "14"
                                },
                                {
                                    "szoba_fk": "157",
                                    "ferohely": "2",
                                    "rangsor": "14"
                                },
                                {
                                    "szoba_fk": "154",
                                    "ferohely": "2",
                                    "rangsor": "14"
                                },
                                {
                                    "szoba_fk": "164",
                                    "ferohely": "2",
                                    "rangsor": "14"
                                },
                                {
                                    "szoba_fk": "119",
                                    "ferohely": "2",
                                    "rangsor": "14"
                                },
                                {
                                    "szoba_fk": "107",
                                    "ferohely": "2",
                                    "rangsor": "14"
                                },
                                {
                                    "szoba_fk": "128",
                                    "ferohely": "2",
                                    "rangsor": "14"
                                },
                                {
                                    "szoba_fk": "131",
                                    "ferohely": "2",
                                    "rangsor": "14"
                                },
                                {
                                    "szoba_fk": "99",
                                    "ferohely": "2",
                                    "rangsor": "14"
                                },
                                {
                                    "szoba_fk": "111",
                                    "ferohely": "2",
                                    "rangsor": "14"
                                },
                                {
                                    "szoba_fk": "81",
                                    "ferohely": "2",
                                    "rangsor": "14"
                                },
                                {
                                    "szoba_fk": "86",
                                    "ferohely": "2",
                                    "rangsor": "14"
                                },
                                {
                                    "szoba_fk": "52",
                                    "ferohely": "2",
                                    "rangsor": "14"
                                },
                                {
                                    "szoba_fk": "45",
                                    "ferohely": "2",
                                    "rangsor": "14"
                                },
                                {
                                    "szoba_fk": "62",
                                    "ferohely": "2",
                                    "rangsor": "14"
                                },
                                {
                                    "szoba_fk": "61",
                                    "ferohely": "3",
                                    "rangsor": "15"
                                },
                                {
                                    "szoba_fk": "51",
                                    "ferohely": "3",
                                    "rangsor": "15"
                                },
                                {
                                    "szoba_fk": "20",
                                    "ferohely": "3",
                                    "rangsor": "15"
                                },
                                {
                                    "szoba_fk": "8",
                                    "ferohely": "3",
                                    "rangsor": "15"
                                },
                                {
                                    "szoba_fk": "16",
                                    "ferohely": "3",
                                    "rangsor": "15"
                                },
                                {
                                    "szoba_fk": "87",
                                    "ferohely": "3",
                                    "rangsor": "15"
                                },
                                {
                                    "szoba_fk": "79",
                                    "ferohely": "3",
                                    "rangsor": "15"
                                },
                                {
                                    "szoba_fk": "112",
                                    "ferohely": "3",
                                    "rangsor": "15"
                                },
                                {
                                    "szoba_fk": "113",
                                    "ferohely": "3",
                                    "rangsor": "15"
                                },
                                {
                                    "szoba_fk": "93",
                                    "ferohely": "3",
                                    "rangsor": "15"
                                },
                                {
                                    "szoba_fk": "144",
                                    "ferohely": "3",
                                    "rangsor": "15"
                                },
                                {
                                    "szoba_fk": "123",
                                    "ferohely": "3",
                                    "rangsor": "15"
                                },
                                {
                                    "szoba_fk": "153",
                                    "ferohely": "3",
                                    "rangsor": "15"
                                },
                                {
                                    "szoba_fk": "160",
                                    "ferohely": "3",
                                    "rangsor": "15"
                                },
                                {
                                    "szoba_fk": "155",
                                    "ferohely": "3",
                                    "rangsor": "15"
                                },
                                {
                                    "szoba_fk": "152",
                                    "ferohely": "2",
                                    "rangsor": "16"
                                },
                                {
                                    "szoba_fk": "173",
                                    "ferohely": "2",
                                    "rangsor": "16"
                                },
                                {
                                    "szoba_fk": "174",
                                    "ferohely": "2",
                                    "rangsor": "16"
                                },
                                {
                                    "szoba_fk": "186",
                                    "ferohely": "2",
                                    "rangsor": "16"
                                },
                                {
                                    "szoba_fk": "196",
                                    "ferohely": "2",
                                    "rangsor": "16"
                                },
                                {
                                    "szoba_fk": "184",
                                    "ferohely": "2",
                                    "rangsor": "16"
                                },
                                {
                                    "szoba_fk": "129",
                                    "ferohely": "2",
                                    "rangsor": "16"
                                },
                                {
                                    "szoba_fk": "100",
                                    "ferohely": "2",
                                    "rangsor": "16"
                                },
                                {
                                    "szoba_fk": "114",
                                    "ferohely": "2",
                                    "rangsor": "16"
                                },
                                {
                                    "szoba_fk": "98",
                                    "ferohely": "2",
                                    "rangsor": "16"
                                },
                                {
                                    "szoba_fk": "103",
                                    "ferohely": "2",
                                    "rangsor": "16"
                                },
                                {
                                    "szoba_fk": "85",
                                    "ferohely": "2",
                                    "rangsor": "16"
                                },
                                {
                                    "szoba_fk": "91",
                                    "ferohely": "2",
                                    "rangsor": "16"
                                },
                                {
                                    "szoba_fk": "11",
                                    "ferohely": "2",
                                    "rangsor": "16"
                                },
                                {
                                    "szoba_fk": "5",
                                    "ferohely": "2",
                                    "rangsor": "16"
                                },
                                {
                                    "szoba_fk": "21",
                                    "ferohely": "2",
                                    "rangsor": "16"
                                },
                                {
                                    "szoba_fk": "50",
                                    "ferohely": "2",
                                    "rangsor": "16"
                                },
                                {
                                    "szoba_fk": "57",
                                    "ferohely": "2",
                                    "rangsor": "16"
                                },
                                {
                                    "szoba_fk": "63",
                                    "ferohely": "2",
                                    "rangsor": "16"
                                },
                                {
                                    "szoba_fk": "72",
                                    "ferohely": "2",
                                    "rangsor": "16"
                                },
                                {
                                    "szoba_fk": "73",
                                    "ferohely": "2",
                                    "rangsor": "16"
                                },
                                {
                                    "szoba_fk": "66",
                                    "ferohely": "3",
                                    "rangsor": "17"
                                },
                                {
                                    "szoba_fk": "69",
                                    "ferohely": "3",
                                    "rangsor": "17"
                                },
                                {
                                    "szoba_fk": "46",
                                    "ferohely": "3",
                                    "rangsor": "17"
                                },
                                {
                                    "szoba_fk": "34",
                                    "ferohely": "3",
                                    "rangsor": "17"
                                },
                                {
                                    "szoba_fk": "40",
                                    "ferohely": "3",
                                    "rangsor": "17"
                                },
                                {
                                    "szoba_fk": "2",
                                    "ferohely": "3",
                                    "rangsor": "17"
                                },
                                {
                                    "szoba_fk": "10",
                                    "ferohely": "3",
                                    "rangsor": "17"
                                },
                                {
                                    "szoba_fk": "13",
                                    "ferohely": "3",
                                    "rangsor": "17"
                                },
                                {
                                    "szoba_fk": "90",
                                    "ferohely": "3",
                                    "rangsor": "17"
                                },
                                {
                                    "szoba_fk": "84",
                                    "ferohely": "3",
                                    "rangsor": "17"
                                },
                                {
                                    "szoba_fk": "104",
                                    "ferohely": "3",
                                    "rangsor": "17"
                                },
                                {
                                    "szoba_fk": "95",
                                    "ferohely": "3",
                                    "rangsor": "17"
                                },
                                {
                                    "szoba_fk": "183",
                                    "ferohely": "3",
                                    "rangsor": "17"
                                },
                                {
                                    "szoba_fk": "177",
                                    "ferohely": "3",
                                    "rangsor": "17"
                                },
                                {
                                    "szoba_fk": "178",
                                    "ferohely": "3",
                                    "rangsor": "17"
                                },
                                {
                                    "szoba_fk": "180",
                                    "ferohely": "2",
                                    "rangsor": "18"
                                },
                                {
                                    "szoba_fk": "151",
                                    "ferohely": "2",
                                    "rangsor": "18"
                                },
                                {
                                    "szoba_fk": "158",
                                    "ferohely": "2",
                                    "rangsor": "18"
                                },
                                {
                                    "szoba_fk": "166",
                                    "ferohely": "2",
                                    "rangsor": "18"
                                },
                                {
                                    "szoba_fk": "101",
                                    "ferohely": "2",
                                    "rangsor": "18"
                                },
                                {
                                    "szoba_fk": "75",
                                    "ferohely": "2",
                                    "rangsor": "18"
                                },
                                {
                                    "szoba_fk": "76",
                                    "ferohely": "2",
                                    "rangsor": "18"
                                },
                                {
                                    "szoba_fk": "136",
                                    "ferohely": "2",
                                    "rangsor": "18"
                                },
                                {
                                    "szoba_fk": "23",
                                    "ferohely": "2",
                                    "rangsor": "18"
                                },
                                {
                                    "szoba_fk": "37",
                                    "ferohely": "2",
                                    "rangsor": "18"
                                },
                                {
                                    "szoba_fk": "68",
                                    "ferohely": "2",
                                    "rangsor": "18"
                                },
                                {
                                    "szoba_fk": "71",
                                    "ferohely": "3",
                                    "rangsor": "19"
                                },
                                {
                                    "szoba_fk": "30",
                                    "ferohely": "3",
                                    "rangsor": "19"
                                },
                                {
                                    "szoba_fk": "31",
                                    "ferohely": "3",
                                    "rangsor": "19"
                                },
                                {
                                    "szoba_fk": "14",
                                    "ferohely": "3",
                                    "rangsor": "19"
                                },
                                {
                                    "szoba_fk": "135",
                                    "ferohely": "3",
                                    "rangsor": "19"
                                },
                                {
                                    "szoba_fk": "162",
                                    "ferohely": "3",
                                    "rangsor": "19"
                                },
                                {
                                    "szoba_fk": "179",
                                    "ferohely": "3",
                                    "rangsor": "19"
                                },
                                {
                                    "szoba_fk": "24",
                                    "ferohely": "4",
                                    "rangsor": "20"
                                },
                                {
                                    "szoba_fk": "26",
                                    "ferohely": "2",
                                    "rangsor": "21"
                                },
                                {
                                    "szoba_fk": "47",
                                    "ferohely": "2",
                                    "rangsor": "21"
                                },
                                {
                                    "szoba_fk": "53",
                                    "ferohely": "2",
                                    "rangsor": "21"
                                },
                                {
                                    "szoba_fk": "56",
                                    "ferohely": "2",
                                    "rangsor": "21"
                                },
                                {
                                    "szoba_fk": "108",
                                    "ferohely": "2",
                                    "rangsor": "21"
                                },
                                {
                                    "szoba_fk": "102",
                                    "ferohely": "2",
                                    "rangsor": "21"
                                },
                                {
                                    "szoba_fk": "105",
                                    "ferohely": "2",
                                    "rangsor": "21"
                                },
                                {
                                    "szoba_fk": "192",
                                    "ferohely": "2",
                                    "rangsor": "21"
                                },
                                {
                                    "szoba_fk": "167",
                                    "ferohely": "3",
                                    "rangsor": "22"
                                },
                                {
                                    "szoba_fk": "116",
                                    "ferohely": "3",
                                    "rangsor": "22"
                                },
                                {
                                    "szoba_fk": "142",
                                    "ferohely": "3",
                                    "rangsor": "22"
                                },
                                {
                                    "szoba_fk": "25",
                                    "ferohely": "3",
                                    "rangsor": "22"
                                },
                                {
                                    "szoba_fk": "41",
                                    "ferohely": "3",
                                    "rangsor": "22"
                                },
                                {
                                    "szoba_fk": "32",
                                    "ferohely": "2",
                                    "rangsor": "23"
                                },
                                {
                                    "szoba_fk": "65",
                                    "ferohely": "2",
                                    "rangsor": "23"
                                },
                                {
                                    "szoba_fk": "147",
                                    "ferohely": "2",
                                    "rangsor": "23"
                                },
                                {
                                    "szoba_fk": "125",
                                    "ferohely": "2",
                                    "rangsor": "23"
                                },
                                {
                                    "szoba_fk": "194",
                                    "ferohely": "2",
                                    "rangsor": "23"
                                },
                                {
                                    "szoba_fk": "60",
                                    "ferohely": "3",
                                    "rangsor": "24"
                                }
                            ]
                        },
                        "text/html": [
                            "<table>",
                            "<tr><th>szoba_fk</th><th>ferohely</th><th>rangsor</th></tr>",
                            "<tr><td>58</td><td>2</td><td>1</td></tr>",
                            "<tr><td>182</td><td>2</td><td>2</td></tr>",
                            "<tr><td>185</td><td>3</td><td>3</td></tr>",
                            "<tr><td>70</td><td>2</td><td>4</td></tr>",
                            "<tr><td>94</td><td>2</td><td>5</td></tr>",
                            "<tr><td>12</td><td>2</td><td>6</td></tr>",
                            "<tr><td>172</td><td>2</td><td>6</td></tr>",
                            "<tr><td>35</td><td>3</td><td>7</td></tr>",
                            "<tr><td>48</td><td>3</td><td>7</td></tr>",
                            "<tr><td>74</td><td>3</td><td>7</td></tr>",
                            "<tr><td>122</td><td>3</td><td>7</td></tr>",
                            "<tr><td>121</td><td>2</td><td>8</td></tr>",
                            "<tr><td>140</td><td>2</td><td>8</td></tr>",
                            "<tr><td>110</td><td>2</td><td>8</td></tr>",
                            "<tr><td>55</td><td>2</td><td>8</td></tr>",
                            "<tr><td>38</td><td>2</td><td>8</td></tr>",
                            "<tr><td>1</td><td>3</td><td>9</td></tr>",
                            "<tr><td>3</td><td>3</td><td>9</td></tr>",
                            "<tr><td>43</td><td>3</td><td>9</td></tr>",
                            "<tr><td>83</td><td>3</td><td>9</td></tr>",
                            "<tr><td>88</td><td>3</td><td>9</td></tr>",
                            "<tr><td>89</td><td>3</td><td>9</td></tr>",
                            "<tr><td>117</td><td>3</td><td>9</td></tr>",
                            "<tr><td>198</td><td>3</td><td>9</td></tr>",
                            "<tr><td>149</td><td>2</td><td>10</td></tr>",
                            "<tr><td>156</td><td>2</td><td>10</td></tr>",
                            "<tr><td>163</td><td>2</td><td>10</td></tr>",
                            "<tr><td>165</td><td>2</td><td>10</td></tr>",
                            "<tr><td>118</td><td>2</td><td>10</td></tr>",
                            "<tr><td>109</td><td>2</td><td>10</td></tr>",
                            "<tr><td>127</td><td>2</td><td>10</td></tr>",
                            "<tr><td>139</td><td>2</td><td>10</td></tr>",
                            "<tr><td>80</td><td>2</td><td>10</td></tr>",
                            "<tr><td>59</td><td>2</td><td>10</td></tr>",
                            "<tr><td>39</td><td>2</td><td>10</td></tr>",
                            "<tr><td>27</td><td>3</td><td>11</td></tr>",
                            "<tr><td>49</td><td>3</td><td>11</td></tr>",
                            "<tr><td>96</td><td>3</td><td>11</td></tr>",
                            "<tr><td>97</td><td>3</td><td>11</td></tr>",
                            "<tr><td>138</td><td>3</td><td>11</td></tr>",
                            "<tr><td>143</td><td>3</td><td>11</td></tr>",
                            "<tr><td>115</td><td>3</td><td>11</td></tr>",
                            "<tr><td>187</td><td>3</td><td>11</td></tr>",
                            "<tr><td>193</td><td>3</td><td>11</td></tr>",
                            "<tr><td>195</td><td>2</td><td>12</td></tr>",
                            "<tr><td>161</td><td>2</td><td>12</td></tr>",
                            "<tr><td>150</td><td>2</td><td>12</td></tr>",
                            "<tr><td>148</td><td>2</td><td>12</td></tr>",
                            "<tr><td>169</td><td>2</td><td>12</td></tr>",
                            "<tr><td>106</td><td>2</td><td>12</td></tr>",
                            "<tr><td>126</td><td>2</td><td>12</td></tr>",
                            "<tr><td>145</td><td>2</td><td>12</td></tr>",
                            "<tr><td>141</td><td>2</td><td>12</td></tr>",
                            "<tr><td>130</td><td>2</td><td>12</td></tr>",
                            "<tr><td>137</td><td>2</td><td>12</td></tr>",
                            "<tr><td>78</td><td>2</td><td>12</td></tr>",
                            "<tr><td>42</td><td>2</td><td>12</td></tr>",
                            "<tr><td>64</td><td>2</td><td>12</td></tr>",
                            "<tr><td>67</td><td>2</td><td>12</td></tr>",
                            "<tr><td>28</td><td>2</td><td>12</td></tr>",
                            "<tr><td>29</td><td>2</td><td>12</td></tr>",
                            "<tr><td>19</td><td>2</td><td>12</td></tr>",
                            "<tr><td>33</td><td>2</td><td>12</td></tr>",
                            "<tr><td>4</td><td>2</td><td>12</td></tr>",
                            "<tr><td>7</td><td>2</td><td>12</td></tr>",
                            "<tr><td>15</td><td>2</td><td>12</td></tr>",
                            "<tr><td>17</td><td>3</td><td>13</td></tr>",
                            "<tr><td>18</td><td>3</td><td>13</td></tr>",
                            "<tr><td>6</td><td>3</td><td>13</td></tr>",
                            "<tr><td>9</td><td>3</td><td>13</td></tr>",
                            "<tr><td>22</td><td>3</td><td>13</td></tr>",
                            "<tr><td>36</td><td>3</td><td>13</td></tr>",
                            "<tr><td>44</td><td>3</td><td>13</td></tr>",
                            "<tr><td>54</td><td>3</td><td>13</td></tr>",
                            "<tr><td>77</td><td>3</td><td>13</td></tr>",
                            "<tr><td>82</td><td>3</td><td>13</td></tr>",
                            "<tr><td>92</td><td>3</td><td>13</td></tr>",
                            "<tr><td>132</td><td>3</td><td>13</td></tr>",
                            "<tr><td>133</td><td>3</td><td>13</td></tr>",
                            "<tr><td>134</td><td>3</td><td>13</td></tr>",
                            "<tr><td>146</td><td>3</td><td>13</td></tr>",
                            "<tr><td>124</td><td>3</td><td>13</td></tr>",
                            "<tr><td>120</td><td>3</td><td>13</td></tr>",
                            "<tr><td>176</td><td>3</td><td>13</td></tr>",
                            "<tr><td>181</td><td>3</td><td>13</td></tr>",
                            "<tr><td>188</td><td>3</td><td>13</td></tr>",
                            "<tr><td>197</td><td>3</td><td>13</td></tr>",
                            "<tr><td>189</td><td>2</td><td>14</td></tr>",
                            "<tr><td>190</td><td>2</td><td>14</td></tr>",
                            "<tr><td>191</td><td>2</td><td>14</td></tr>",
                            "<tr><td>168</td><td>2</td><td>14</td></tr>",
                            "<tr><td>175</td><td>2</td><td>14</td></tr>",
                            "<tr><td>170</td><td>2</td><td>14</td></tr>",
                            "<tr><td>171</td><td>2</td><td>14</td></tr>",
                            "<tr><td>157</td><td>2</td><td>14</td></tr>",
                            "<tr><td>154</td><td>2</td><td>14</td></tr>",
                            "<tr><td>164</td><td>2</td><td>14</td></tr>",
                            "<tr><td>119</td><td>2</td><td>14</td></tr>",
                            "<tr><td>107</td><td>2</td><td>14</td></tr>",
                            "<tr><td>128</td><td>2</td><td>14</td></tr>",
                            "<tr><td>131</td><td>2</td><td>14</td></tr>",
                            "<tr><td>99</td><td>2</td><td>14</td></tr>",
                            "<tr><td>111</td><td>2</td><td>14</td></tr>",
                            "<tr><td>81</td><td>2</td><td>14</td></tr>",
                            "<tr><td>86</td><td>2</td><td>14</td></tr>",
                            "<tr><td>52</td><td>2</td><td>14</td></tr>",
                            "<tr><td>45</td><td>2</td><td>14</td></tr>",
                            "<tr><td>62</td><td>2</td><td>14</td></tr>",
                            "<tr><td>61</td><td>3</td><td>15</td></tr>",
                            "<tr><td>51</td><td>3</td><td>15</td></tr>",
                            "<tr><td>20</td><td>3</td><td>15</td></tr>",
                            "<tr><td>8</td><td>3</td><td>15</td></tr>",
                            "<tr><td>16</td><td>3</td><td>15</td></tr>",
                            "<tr><td>87</td><td>3</td><td>15</td></tr>",
                            "<tr><td>79</td><td>3</td><td>15</td></tr>",
                            "<tr><td>112</td><td>3</td><td>15</td></tr>",
                            "<tr><td>113</td><td>3</td><td>15</td></tr>",
                            "<tr><td>93</td><td>3</td><td>15</td></tr>",
                            "<tr><td>144</td><td>3</td><td>15</td></tr>",
                            "<tr><td>123</td><td>3</td><td>15</td></tr>",
                            "<tr><td>153</td><td>3</td><td>15</td></tr>",
                            "<tr><td>160</td><td>3</td><td>15</td></tr>",
                            "<tr><td>155</td><td>3</td><td>15</td></tr>",
                            "<tr><td>152</td><td>2</td><td>16</td></tr>",
                            "<tr><td>173</td><td>2</td><td>16</td></tr>",
                            "<tr><td>174</td><td>2</td><td>16</td></tr>",
                            "<tr><td>186</td><td>2</td><td>16</td></tr>",
                            "<tr><td>196</td><td>2</td><td>16</td></tr>",
                            "<tr><td>184</td><td>2</td><td>16</td></tr>",
                            "<tr><td>129</td><td>2</td><td>16</td></tr>",
                            "<tr><td>100</td><td>2</td><td>16</td></tr>",
                            "<tr><td>114</td><td>2</td><td>16</td></tr>",
                            "<tr><td>98</td><td>2</td><td>16</td></tr>",
                            "<tr><td>103</td><td>2</td><td>16</td></tr>",
                            "<tr><td>85</td><td>2</td><td>16</td></tr>",
                            "<tr><td>91</td><td>2</td><td>16</td></tr>",
                            "<tr><td>11</td><td>2</td><td>16</td></tr>",
                            "<tr><td>5</td><td>2</td><td>16</td></tr>",
                            "<tr><td>21</td><td>2</td><td>16</td></tr>",
                            "<tr><td>50</td><td>2</td><td>16</td></tr>",
                            "<tr><td>57</td><td>2</td><td>16</td></tr>",
                            "<tr><td>63</td><td>2</td><td>16</td></tr>",
                            "<tr><td>72</td><td>2</td><td>16</td></tr>",
                            "<tr><td>73</td><td>2</td><td>16</td></tr>",
                            "<tr><td>66</td><td>3</td><td>17</td></tr>",
                            "<tr><td>69</td><td>3</td><td>17</td></tr>",
                            "<tr><td>46</td><td>3</td><td>17</td></tr>",
                            "<tr><td>34</td><td>3</td><td>17</td></tr>",
                            "<tr><td>40</td><td>3</td><td>17</td></tr>",
                            "<tr><td>2</td><td>3</td><td>17</td></tr>",
                            "<tr><td>10</td><td>3</td><td>17</td></tr>",
                            "<tr><td>13</td><td>3</td><td>17</td></tr>",
                            "<tr><td>90</td><td>3</td><td>17</td></tr>",
                            "<tr><td>84</td><td>3</td><td>17</td></tr>",
                            "<tr><td>104</td><td>3</td><td>17</td></tr>",
                            "<tr><td>95</td><td>3</td><td>17</td></tr>",
                            "<tr><td>183</td><td>3</td><td>17</td></tr>",
                            "<tr><td>177</td><td>3</td><td>17</td></tr>",
                            "<tr><td>178</td><td>3</td><td>17</td></tr>",
                            "<tr><td>180</td><td>2</td><td>18</td></tr>",
                            "<tr><td>151</td><td>2</td><td>18</td></tr>",
                            "<tr><td>158</td><td>2</td><td>18</td></tr>",
                            "<tr><td>166</td><td>2</td><td>18</td></tr>",
                            "<tr><td>101</td><td>2</td><td>18</td></tr>",
                            "<tr><td>75</td><td>2</td><td>18</td></tr>",
                            "<tr><td>76</td><td>2</td><td>18</td></tr>",
                            "<tr><td>136</td><td>2</td><td>18</td></tr>",
                            "<tr><td>23</td><td>2</td><td>18</td></tr>",
                            "<tr><td>37</td><td>2</td><td>18</td></tr>",
                            "<tr><td>68</td><td>2</td><td>18</td></tr>",
                            "<tr><td>71</td><td>3</td><td>19</td></tr>",
                            "<tr><td>30</td><td>3</td><td>19</td></tr>",
                            "<tr><td>31</td><td>3</td><td>19</td></tr>",
                            "<tr><td>14</td><td>3</td><td>19</td></tr>",
                            "<tr><td>135</td><td>3</td><td>19</td></tr>",
                            "<tr><td>162</td><td>3</td><td>19</td></tr>",
                            "<tr><td>179</td><td>3</td><td>19</td></tr>",
                            "<tr><td>24</td><td>4</td><td>20</td></tr>",
                            "<tr><td>26</td><td>2</td><td>21</td></tr>",
                            "<tr><td>47</td><td>2</td><td>21</td></tr>",
                            "<tr><td>53</td><td>2</td><td>21</td></tr>",
                            "<tr><td>56</td><td>2</td><td>21</td></tr>",
                            "<tr><td>108</td><td>2</td><td>21</td></tr>",
                            "<tr><td>102</td><td>2</td><td>21</td></tr>",
                            "<tr><td>105</td><td>2</td><td>21</td></tr>",
                            "<tr><td>192</td><td>2</td><td>21</td></tr>",
                            "<tr><td>167</td><td>3</td><td>22</td></tr>",
                            "<tr><td>116</td><td>3</td><td>22</td></tr>",
                            "<tr><td>142</td><td>3</td><td>22</td></tr>",
                            "<tr><td>25</td><td>3</td><td>22</td></tr>",
                            "<tr><td>41</td><td>3</td><td>22</td></tr>",
                            "<tr><td>32</td><td>2</td><td>23</td></tr>",
                            "<tr><td>65</td><td>2</td><td>23</td></tr>",
                            "<tr><td>147</td><td>2</td><td>23</td></tr>",
                            "<tr><td>125</td><td>2</td><td>23</td></tr>",
                            "<tr><td>194</td><td>2</td><td>23</td></tr>",
                            "<tr><td>60</td><td>3</td><td>24</td></tr>",
                            "</table>"
                        ]
                    }
                }
            ],
            "execution_count": 29
        },
        {
            "cell_type": "markdown",
            "source": [
                "![](data:image/jpeg;base64,/9j/4AAQSkZJRgABAQEAYABgAAD/4RDmRXhpZgAATU0AKgAAAAgABAE7AAIAAAAKAAAISodpAAQAAAABAAAIVJydAAEAAAASAAAQzOocAAcAAAgMAAAAPgAAAAAc6gAAAAgAAAAAAAAAAAAAAAAAAAAAAAAAAAAAAAAAAAAAAAAAAAAAAAAAAAAAAAAAAAAAAAAAAAAAAAAAAAAAAAAAAAAAAAAAAAAAAAAAAAAAAAAAAAAAAAAAAAAAAAAAAAAAAAAAAAAAAAAAAAAAAAAAAAAAAAAAAAAAAAAAAAAAAAAAAAAAAAAAAAAAAAAAAAAAAAAAAAAAAAAAAAAAAAAAAAAAAAAAAAAAAAAAAAAAAAAAAAAAAAAAAAAAAAAAAAAAAAAAAAAAAAAAAAAAAAAAAAAAAAAAAAAAAAAAAAAAAAAAAAAAAAAAAAAAAAAAAAAAAAAAAAAAAAAAAAAAAAAAAAAAAAAAAAAAAAAAAAAAAAAAAAAAAAAAAAAAAAAAAAAAAAAAAAAAAAAAAAAAAAAAAAAAAAAAAAAAAAAAAAAAAAAAAAAAAAAAAAAAAAAAAAAAAAAAAAAAAAAAAAAAAAAAAAAAAAAAAAAAAAAAAAAAAAAAAAAAAAAAAAAAAAAAAAAAAAAAAAAAAAAAAAAAAAAAAAAAAAAAAAAAAAAAAAAAAAAAAAAAAAAAAAAAAAAAAAAAAAAAAAAAAAAAAAAAAAAAAAAAAAAAAAAAAAAAAAAAAAAAAAAAAAAAAAAAAAAAAAAAAAAAAAAAAAAAAAAAAAAAAAAAAAAAAAAAAAAAAAAAAAAAAAAAAAAAAAAAAAAAAAAAAAAAAAAAAAAAAAAAAAAAAAAAAAAAAAAAAAAAAAAAAAAAAAAAAAAAAAAAAAAAAAAAAAAAAAAAAAAAAAAAAAAAAAAAAAAAAAAAAAAAAAAAAAAAAAAAAAAAAAAAAAAAAAAAAAAAAAAAAAAAAAAAAAAAAAAAAAAAAAAAAAAAAAAAAAAAAAAAAAAAAAAAAAAAAAAAAAAAAAAAAAAAAAAAAAAAAAAAAAAAAAAAAAAAAAAAAAAAAAAAAAAAAAAAAAAAAAAAAAAAAAAAAAAAAAAAAAAAAAAAAAAAAAAAAAAAAAAAAAAAAAAAAAAAAAAAAAAAAAAAAAAAAAAAAAAAAAAAAAAAAAAAAAAAAAAAAAAAAAAAAAAAAAAAAAAAAAAAAAAAAAAAAAAAAAAAAAAAAAAAAAAAAAAAAAAAAAAAAAAAAAAAAAAAAAAAAAAAAAAAAAAAAAAAAAAAAAAAAAAAAAAAAAAAAAAAAAAAAAAAAAAAAAAAAAAAAAAAAAAAAAAAAAAAAAAAAAAAAAAAAAAAAAAAAAAAAAAAAAAAAAAAAAAAAAAAAAAAAAAAAAAAAAAAAAAAAAAAAAAAAAAAAAAAAAAAAAAAAAAAAAAAAAAAAAAAAAAAAAAAAAAAAAAAAAAAAAAAAAAAAAAAAAAAAAAAAAAAAAAAAAAAAAAAAAAAAAAAAAAAAAAAAAAAAAAAAAAAAAAAAAAAAAAAAAAAAAAAAAAAAAAAAAAAAAAAAAAAAAAAAAAAAAAAAAAAAAAAAAAAAAAAAAAAAAAAAAAAAAAAAAAAAAAAAAAAAAAAAAAAAAAAAAAAAAAAAAAAAAAAAAAAAAAAAAAAAAAAAAAAAAAAAAAAAAAAAAAAAAAAAAAAAAAAAAAAAAAAAAAAAAAAAAAAAAAAAAAAAAAAAAAAAAAAAAAAAAAAAAAAAAAAAAAAAAAAAAAAAAAAAAAAAAAAAAAAAAAAAAAAAAAAAAAAAAAAAAAAAAAAAAAAAAAAAAAAAAAAAAAAAAAAAAAAAAAAAAAAAAAAAAAAAAAAAAAAAAAAAAAAAAAAAAAAAAAAAAAAAAAAAAAAAAAAAAAAAAAAAAAAAAAAAAAAAAAAAAAAAAAAAAAAAAAAAAAAAAAAAAAAAAAAAAAAAAAAAAAAAAAAAAAAAAAAAAAAAAAAAAAAAAAAAAAAAAAAAAAAAAAAAAAAAAAAAAAAAAAAAAAAAAAAAAAAAAAAAAAAAAAAAAAAAAAAAAAAAAAAAAAAAAAAAAAAAAAAAAAAAAAAAAAAAAAAAAAAAAAAAAAAAAAAAAAAAAAAAAAAAAAAAAAAAAAAAAAAAAAAAAAAAAAAAAAAAAAAAAAAAAAAAAAAAAAAAAAAAAAAAAAAAAAAAAAAAAAAAAAAAAAAAAAAAAAAAAAAAAAAAAAAAAAAAAAAAAAAAAAAAAAAAAAAAAAAAAAAAAAAAAAAAAAAAAAAAAAAAAAAAAAAAAAAAAAAAAAAAAAAAAAAAAAAAAAAAAAAAAAAAAAAAAAAAAAAAAAAAAAAAAAAAAAAAAAAAAAAAAAAAAAAAAAAAAAAAAAAAAAAAAAAAAAAAAAAAAAAAAAAAAAAAAAAAAAAAAAAAAAAAAAAAAAAAAAAAAAAAAAAAAAAAAAAAAAAAAAAAAAAAAAAAAAAAAAAAAAAAAAAAAAAAAAAAAAAAAAAAAAAAAAAAAAAAAAAAAAAAAAAAAAAAAAAAAAAAAAAAAAAAAAAAAAAAAAAAAAAAAAAAAAAAAAAAAAAAAAAAAAAAAAAAAAAAAAAAAAAAAAAAAAAAAAAAAAAAAAAAAAAAAAAAAAAAAAAAAAAAAAAAAAAAAAAAAAAAAAAAAAAAAAAAAAAAAAAAAAAAAAAAAAAAAAAAAAAAAAAAAAAAAAAAAAAAAAAAAAAAAAAAAAAAAAAAAAAAAAAAAAAAAAAAAAAAAAAAAAAAAAAAAAAAAAAAAAAAAAAAAAAAAAAAAAAAAAAAAAAAAAAAAAAAAAAAAAAAAAAAAAAAAAAAAAAAAAAAAAAAAAAAAAAAAAAAAAAAAAAAAAAAEhhc2vDs19CdAAABZADAAIAAAAUAAAQopAEAAIAAAAUAAAQtpKRAAIAAAADNTIAAJKSAAIAAAADNTIAAOocAAcAAAgMAAAIlgAAAAAc6gAAAAgAAAAAAAAAAAAAAAAAAAAAAAAAAAAAAAAAAAAAAAAAAAAAAAAAAAAAAAAAAAAAAAAAAAAAAAAAAAAAAAAAAAAAAAAAAAAAAAAAAAAAAAAAAAAAAAAAAAAAAAAAAAAAAAAAAAAAAAAAAAAAAAAAAAAAAAAAAAAAAAAAAAAAAAAAAAAAAAAAAAAAAAAAAAAAAAAAAAAAAAAAAAAAAAAAAAAAAAAAAAAAAAAAAAAAAAAAAAAAAAAAAAAAAAAAAAAAAAAAAAAAAAAAAAAAAAAAAAAAAAAAAAAAAAAAAAAAAAAAAAAAAAAAAAAAAAAAAAAAAAAAAAAAAAAAAAAAAAAAAAAAAAAAAAAAAAAAAAAAAAAAAAAAAAAAAAAAAAAAAAAAAAAAAAAAAAAAAAAAAAAAAAAAAAAAAAAAAAAAAAAAAAAAAAAAAAAAAAAAAAAAAAAAAAAAAAAAAAAAAAAAAAAAAAAAAAAAAAAAAAAAAAAAAAAAAAAAAAAAAAAAAAAAAAAAAAAAAAAAAAAAAAAAAAAAAAAAAAAAAAAAAAAAAAAAAAAAAAAAAAAAAAAAAAAAAAAAAAAAAAAAAAAAAAAAAAAAAAAAAAAAAAAAAAAAAAAAAAAAAAAAAAAAAAAAAAAAAAAAAAAAAAAAAAAAAAAAAAAAAAAAAAAAAAAAAAAAAAAAAAAAAAAAAAAAAAAAAAAAAAAAAAAAAAAAAAAAAAAAAAAAAAAAAAAAAAAAAAAAAAAAAAAAAAAAAAAAAAAAAAAAAAAAAAAAAAAAAAAAAAAAAAAAAAAAAAAAAAAAAAAAAAAAAAAAAAAAAAAAAAAAAAAAAAAAAAAAAAAAAAAAAAAAAAAAAAAAAAAAAAAAAAAAAAAAAAAAAAAAAAAAAAAAAAAAAAAAAAAAAAAAAAAAAAAAAAAAAAAAAAAAAAAAAAAAAAAAAAAAAAAAAAAAAAAAAAAAAAAAAAAAAAAAAAAAAAAAAAAAAAAAAAAAAAAAAAAAAAAAAAAAAAAAAAAAAAAAAAAAAAAAAAAAAAAAAAAAAAAAAAAAAAAAAAAAAAAAAAAAAAAAAAAAAAAAAAAAAAAAAAAAAAAAAAAAAAAAAAAAAAAAAAAAAAAAAAAAAAAAAAAAAAAAAAAAAAAAAAAAAAAAAAAAAAAAAAAAAAAAAAAAAAAAAAAAAAAAAAAAAAAAAAAAAAAAAAAAAAAAAAAAAAAAAAAAAAAAAAAAAAAAAAAAAAAAAAAAAAAAAAAAAAAAAAAAAAAAAAAAAAAAAAAAAAAAAAAAAAAAAAAAAAAAAAAAAAAAAAAAAAAAAAAAAAAAAAAAAAAAAAAAAAAAAAAAAAAAAAAAAAAAAAAAAAAAAAAAAAAAAAAAAAAAAAAAAAAAAAAAAAAAAAAAAAAAAAAAAAAAAAAAAAAAAAAAAAAAAAAAAAAAAAAAAAAAAAAAAAAAAAAAAAAAAAAAAAAAAAAAAAAAAAAAAAAAAAAAAAAAAAAAAAAAAAAAAAAAAAAAAAAAAAAAAAAAAAAAAAAAAAAAAAAAAAAAAAAAAAAAAAAAAAAAAAAAAAAAAAAAAAAAAAAAAAAAAAAAAAAAAAAAAAAAAAAAAAAAAAAAAAAAAAAAAAAAAAAAAAAAAAAAAAAAAAAAAAAAAAAAAAAAAAAAAAAAAAAAAAAAAAAAAAAAAAAAAAAAAAAAAAAAAAAAAAAAAAAAAAAAAAAAAAAAAAAAAAAAAAAAAAAAAAAAAAAAAAAAAAAAAAAAAAAAAAAAAAAAAAAAAAAAAAAAAAAAAAAAAAAAAAAAAAAAAAAAAAAAAAAAAAAAAAAAAAAAAAAAAAAAAAAAAAAAAAAAAAAAAAAAAAAAAAAAAAAAAAAAAAAAAAAAAAAAAAAAAAAAAAAAAAAAAAAAAAAAAAAAAAAAAAAAAAAAAAAAAAAAAAAAAAAAAAAAAAAAAAAAAAAAAAAAAAAAAAAAAAAAAAAAAAAAAAAAAAAAAAAAAAAAAAAAAAAAAAAAAAAAAAAAAAAAAAAAAAAAAAAAAAAAAAAAAAAAAAAAAAAAAAAAAAAAAAAAAAAAAAAAAAAAAAAAAAAAAAAAAAAAAAAAAAAAAAAAAAAAAAAAAAAAAAAAAAAAAAAAAAAAAAAAAAAAAAAAAAAAAAAAAAAAAAAAAAAAAAAAAAAAAAAAAAAAAAAAAAAAAAAAAAAAAAAAAAAAAAAAAAAAAAAAAAAAAAAAAAAAAAAAAAAAAAAAAAAAAAAAAAAAAAAAAAAAAAAAAAAAAAAAAAAAAAAAAAAAAAAAAAAAAAAAAAAAAAAAAAAAAAAAAAAAAAAAAAAAAAAAAAAAAAAAAAAAAAAAAAAAAAAAAAAAAAAAAAAAAAAAAAAAAAAAAAAAAAAAAAAAAAAAAAAAAAAAAAAAAAAAAAAAAAAAAAAAAAAAAAAAAAAAAAAAAAAAAAAAAAAAAAAAAAAAAAAAAAAAAAAAAAAAAAAAAAAAAAAAAAAAAAAAAAAAAAAAAAAAAAAAAAAAAAAAAAAAAAAAAAAAAAAAAAAAAAAAAAAAAAAAAAAAAAAAAAAAAAAAAAAAAAAAAAAAAAAAAAAAAAAAAAAAAAAAAAAAAAAAAAAAAAAAAAAAAAAAAAAAAAAAAAAAAAAAAAAAAAAAAAAAAAAAAAAAAAAAAAAAAAAAAAAAAAAAAAAAAAAAAAAAAAAAAAAAAAAAAAAAAAAAAAAAAAAAAAAAAAAAAAAAAAAAAAAAAAAAAAAAAAAAAAAAAAAAADIwMjA6MDQ6MTMgMTM6MzI6MzkAMjAyMDowNDoxMyAxMzozMjozOQAAAEgAYQBzAGsA8wBfAEIAdAAAAP/hCxxodHRwOi8vbnMuYWRvYmUuY29tL3hhcC8xLjAvADw/eHBhY2tldCBiZWdpbj0n77u/JyBpZD0nVzVNME1wQ2VoaUh6cmVTek5UY3prYzlkJz8+DQo8eDp4bXBtZXRhIHhtbG5zOng9ImFkb2JlOm5zOm1ldGEvIj48cmRmOlJERiB4bWxuczpyZGY9Imh0dHA6Ly93d3cudzMub3JnLzE5OTkvMDIvMjItcmRmLXN5bnRheC1ucyMiPjxyZGY6RGVzY3JpcHRpb24gcmRmOmFib3V0PSJ1dWlkOmZhZjViZGQ1LWJhM2QtMTFkYS1hZDMxLWQzM2Q3NTE4MmYxYiIgeG1sbnM6ZGM9Imh0dHA6Ly9wdXJsLm9yZy9kYy9lbGVtZW50cy8xLjEvIi8+PHJkZjpEZXNjcmlwdGlvbiByZGY6YWJvdXQ9InV1aWQ6ZmFmNWJkZDUtYmEzZC0xMWRhLWFkMzEtZDMzZDc1MTgyZjFiIiB4bWxuczp4bXA9Imh0dHA6Ly9ucy5hZG9iZS5jb20veGFwLzEuMC8iPjx4bXA6Q3JlYXRlRGF0ZT4yMDIwLTA0LTEzVDEzOjMyOjM5LjUxNjwveG1wOkNyZWF0ZURhdGU+PC9yZGY6RGVzY3JpcHRpb24+PHJkZjpEZXNjcmlwdGlvbiByZGY6YWJvdXQ9InV1aWQ6ZmFmNWJkZDUtYmEzZC0xMWRhLWFkMzEtZDMzZDc1MTgyZjFiIiB4bWxuczpkYz0iaHR0cDovL3B1cmwub3JnL2RjL2VsZW1lbnRzLzEuMS8iPjxkYzpjcmVhdG9yPjxyZGY6U2VxIHhtbG5zOnJkZj0iaHR0cDovL3d3dy53My5vcmcvMTk5OS8wMi8yMi1yZGYtc3ludGF4LW5zIyI+PHJkZjpsaT5IYXNrw7NfQnQ8L3JkZjpsaT48L3JkZjpTZXE+DQoJCQk8L2RjOmNyZWF0b3I+PC9yZGY6RGVzY3JpcHRpb24+PC9yZGY6UkRGPjwveDp4bXBtZXRhPg0KICAgICAgICAgICAgICAgICAgICAgICAgICAgICAgICAgICAgICAgICAgICAgICAgICAgICAgICAgICAgICAgICAgICAgICAgICAgICAgICAgICAgICAgICAgICAgICAgICAgIAogICAgICAgICAgICAgICAgICAgICAgICAgICAgICAgICAgICAgICAgICAgICAgICAgICAgICAgICAgICAgICAgICAgICAgICAgICAgICAgICAgICAgICAgICAgICAgICAgICAgCiAgICAgICAgICAgICAgICAgICAgICAgICAgICAgICAgICAgICAgICAgICAgICAgICAgICAgICAgICAgICAgICAgICAgICAgICAgICAgICAgICAgICAgICAgICAgICAgICAgICAKICAgICAgICAgICAgICAgICAgICAgICAgICAgICAgICAgICAgICAgICAgICAgICAgICAgICAgICAgICAgICAgICAgICAgICAgICAgICAgICAgICAgICAgICAgICAgICAgICAgIAogICAgICAgICAgICAgICAgICAgICAgICAgICAgICAgICAgICAgICAgICAgICAgICAgICAgICAgICAgICAgICAgICAgICAgICAgICAgICAgICAgICAgICAgICAgICAgICAgICAgCiAgICAgICAgICAgICAgICAgICAgICAgICAgICAgICAgICAgICAgICAgICAgICAgICAgICAgICAgICAgICAgICAgICAgICAgICAgICAgICAgICAgICAgICAgICAgICAgICAgICAKICAgICAgICAgICAgICAgICAgICAgICAgICAgICAgICAgICAgICAgICAgICAgICAgICAgICAgICAgICAgICAgICAgICAgICAgICAgICAgICAgICAgICAgICAgICAgICAgICAgIAogICAgICAgICAgICAgICAgICAgICAgICAgICAgICAgICAgICAgICAgICAgICAgICAgICAgICAgICAgICAgICAgICAgICAgICAgICAgICAgICAgICAgICAgICAgICAgICAgICAgCiAgICAgICAgICAgICAgICAgICAgICAgICAgICAgICAgICAgICAgICAgICAgICAgICAgICAgICAgICAgICAgICAgICAgICAgICAgICAgICAgICAgICAgICAgICAgICAgICAgICAKICAgICAgICAgICAgICAgICAgICAgICAgICAgICAgICAgICAgICAgICAgICAgICAgICAgICAgICAgICAgICAgICAgICAgICAgICAgICAgICAgICAgICAgICAgICAgICAgICAgIAogICAgICAgICAgICAgICAgICAgICAgICAgICAgICAgICAgICAgICAgICAgICAgICAgICAgICAgICAgICAgICAgICAgICAgICAgICAgICAgICAgICAgICAgICAgICAgICAgICAgCiAgICAgICAgICAgICAgICAgICAgICAgICAgICAgICAgICAgICAgICAgICAgICAgICAgICAgICAgICAgICAgICAgICAgICAgICAgICAgICAgICAgICAgICAgICAgICAgICAgICAKICAgICAgICAgICAgICAgICAgICAgICAgICAgICAgICAgICAgICAgICAgICAgICAgICAgICAgICAgICAgICAgICAgICAgICAgICAgICAgICAgICAgICAgICAgICAgICAgICAgIAogICAgICAgICAgICAgICAgICAgICAgICAgICAgICAgICAgICAgICAgICAgICAgICAgICAgICAgICAgICAgICAgICAgICAgICAgICAgICAgICAgICAgICAgICAgICAgICAgICAgCiAgICAgICAgICAgICAgICAgICAgICAgICAgICAgICAgICAgICAgICAgICAgICAgICAgICAgICAgICAgICAgICAgICAgICAgICAgICAgICAgICAgICAgICAgICAgICAgICAgICAKICAgICAgICAgICAgICAgICAgICAgICAgICAgICAgICAgICAgICAgICAgICAgICAgICAgICAgICAgICAgICAgICAgICAgICAgICAgICAgICAgICAgICAgICAgICAgICAgICAgIAogICAgICAgICAgICAgICAgICAgICAgICAgICAgICAgICAgICAgICAgICAgICAgICAgICAgICAgICAgICAgICAgICAgICAgICAgICAgICAgICAgICAgICAgICAgICAgICAgICAgCiAgICAgICAgICAgICAgICAgICAgICAgICAgICAgICAgICAgICAgICAgICAgICAgICAgICAgICAgICAgICAgICAgICAgICAgICAgICAgICAgICAgICAgICAgICAgICAgICAgICAKICAgICAgICAgICAgICAgICAgICAgICAgICAgICAgICAgICAgICAgICAgICAgICAgICAgICAgICAgICAgICAgICAgICAgICAgICAgICAgICAgICAgICAgICAgICAgICAgICAgIAogICAgICAgICAgICAgICAgICAgICAgICAgICAgICAgICAgICAgICAgICAgICAgICAgICAgICAgICAgICAgICAgICAgICAgICAgICAgICAgICAgICAgICAgICAgICAgICAgICAgCiAgICAgICAgICAgICAgICAgICAgICAgICAgICA8P3hwYWNrZXQgZW5kPSd3Jz8+/9sAQwAHBQUGBQQHBgUGCAcHCAoRCwoJCQoVDxAMERgVGhkYFRgXGx4nIRsdJR0XGCIuIiUoKSssKxogLzMvKjInKisq/9sAQwEHCAgKCQoUCwsUKhwYHCoqKioqKioqKioqKioqKioqKioqKioqKioqKioqKioqKioqKioqKioqKioqKioqKioq/8AAEQgBxwNSAwEiAAIRAQMRAf/EAB8AAAEFAQEBAQEBAAAAAAAAAAABAgMEBQYHCAkKC//EALUQAAIBAwMCBAMFBQQEAAABfQECAwAEEQUSITFBBhNRYQcicRQygZGhCCNCscEVUtHwJDNicoIJChYXGBkaJSYnKCkqNDU2Nzg5OkNERUZHSElKU1RVVldYWVpjZGVmZ2hpanN0dXZ3eHl6g4SFhoeIiYqSk5SVlpeYmZqio6Slpqeoqaqys7S1tre4ubrCw8TFxsfIycrS09TV1tfY2drh4uPk5ebn6Onq8fLz9PX29/j5+v/EAB8BAAMBAQEBAQEBAQEAAAAAAAABAgMEBQYHCAkKC//EALURAAIBAgQEAwQHBQQEAAECdwABAgMRBAUhMQYSQVEHYXETIjKBCBRCkaGxwQkjM1LwFWJy0QoWJDThJfEXGBkaJicoKSo1Njc4OTpDREVGR0hJSlNUVVZXWFlaY2RlZmdoaWpzdHV2d3h5eoKDhIWGh4iJipKTlJWWl5iZmqKjpKWmp6ipqrKztLW2t7i5usLDxMXGx8jJytLT1NXW19jZ2uLj5OXm5+jp6vLz9PX29/j5+v/aAAwDAQACEQMRAD8A9h8KeFPDtz4M0We40DS5ZZNPgd5Hs42Z2Makkkjkk961/wDhDfDH/QuaT/4Axf8AxNHg3/kRdB/7Btv/AOilrZrGnThyLQ9LFYrELETSm931fcxv+EN8Mf8AQuaT/wCAMX/xNH/CG+GP+hc0n/wBi/8Aia2aKv2cOxzfW8R/z8l97Mb/AIQ3wx/0Lmk/+AMX/wATR/whvhj/AKFzSf8AwBi/+JrZoo9nDsH1vEf8/JfezG/4Q3wx/wBC5pP/AIAxf/E0f8Ib4Y/6FzSf/AGL/wCJrZoo9nDsH1vEf8/JfezG/wCEN8Mf9C5pP/gDF/8AE0f8Ib4Y/wChc0n/AMAYv/ia2aKPZw7B9bxH/PyX3sxv+EN8Mf8AQuaT/wCAMX/xNH/CG+GP+hc0n/wBi/8Aia2aKPZw7B9bxH/PyX3sxv8AhDfDH/QuaT/4Axf/ABNH/CG+GP8AoXNJ/wDAGL/4mtmij2cOwfW8R/z8l97Mb/hDfDH/AELmk/8AgDF/8TR/whvhj/oXNJ/8AYv/AImtmij2cOwfW8R/z8l97Mb/AIQ3wx/0Lmk/+AMX/wATR/whvhj/AKFzSf8AwBi/+JrZoo9nDsH1vEf8/JfezG/4Q3wx/wBC5pP/AIAxf/E0f8Ib4Y/6FzSf/AGL/wCJrZoo9nDsH1vEf8/JfezG/wCEN8Mf9C5pP/gDF/8AE0f8Ib4Y/wChc0n/AMAYv/ia2aKPZw7B9bxH/PyX3sxv+EN8Mf8AQuaT/wCAMX/xNH/CG+GP+hc0n/wBi/8Aia2aKPZw7B9bxH/PyX3sxv8AhDfDH/QuaT/4Axf/ABNH/CG+GP8AoXNJ/wDAGL/4mtmij2cOwfW8R/z8l97Mb/hDfDH/AELmk/8AgDF/8TR/whvhj/oXNJ/8AYv/AImtmij2cOwfW8R/z8l97Mb/AIQ3wx/0Lmk/+AMX/wATR/whvhj/AKFzSf8AwBi/+JrZoo9nDsH1vEf8/JfezG/4Q3wx/wBC5pP/AIAxf/E0f8Ib4Y/6FzSf/AGL/wCJrZoo9nDsH1vEf8/JfezG/wCEN8Mf9C5pP/gDF/8AE0f8Ib4Y/wChc0n/AMAYv/ia2aKPZw7B9bxH/PyX3sxv+EN8Mf8AQuaT/wCAMX/xNH/CG+GP+hc0n/wBi/8Aia2aKPZw7B9bxH/PyX3sxv8AhDfDH/QuaT/4Axf/ABNH/CG+GP8AoXNJ/wDAGL/4mtmij2cOwfW8R/z8l97Mb/hDfDH/AELmk/8AgDF/8TR/whvhj/oXNJ/8AYv/AImtmij2cOwfW8R/z8l97Mb/AIQ3wx/0Lmk/+AMX/wATR/whvhj/AKFzSf8AwBi/+JrZoo9nDsH1vEf8/JfezG/4Q3wx/wBC5pP/AIAxf/E0f8Ib4Y/6FzSf/AGL/wCJrZoo9nDsH1vEf8/JfezG/wCEN8Mf9C5pP/gDF/8AE0f8Ib4Y/wChc0n/AMAYv/ia2aKPZw7B9bxH/PyX3sxv+EN8Mf8AQuaT/wCAMX/xNH/CG+GP+hc0n/wBi/8Aia2aKPZw7B9bxH/PyX3sxv8AhDfDH/QuaT/4Axf/ABNH/CG+GP8AoXNJ/wDAGL/4mtmij2cOwfW8R/z8l97Mb/hDfDH/AELmk/8AgDF/8TR/whvhj/oXNJ/8AYv/AImtmij2cOwfW8R/z8l97Mb/AIQ3wx/0Lmk/+AMX/wATR/whvhj/AKFzSf8AwBi/+JrZoo9nDsH1vEf8/JfezG/4Q3wx/wBC5pP/AIAxf/E0f8Ib4Y/6FzSf/AGL/wCJrZoo9nDsH1vEf8/JfezG/wCEN8Mf9C5pP/gDF/8AE0f8Ib4Y/wChc0n/AMAYv/ia2aKPZw7B9bxH/PyX3sxv+EN8Mf8AQuaT/wCAMX/xNH/CG+GP+hc0n/wBi/8Aia2aKPZw7B9bxH/PyX3sxv8AhDfDH/QuaT/4Axf/ABNH/CG+GP8AoXNJ/wDAGL/4mtmij2cOwfW8R/z8l97Mb/hDfDH/AELmk/8AgDF/8TR/whvhj/oXNJ/8AYv/AImtmij2cOwfW8R/z8l97Mb/AIQ3wx/0Lmk/+AMX/wATR/whvhj/AKFzSf8AwBi/+JrZoo9nDsH1vEf8/JfezG/4Q3wx/wBC5pP/AIAxf/E0f8Ib4Y/6FzSf/AGL/wCJrZoo9nDsH1vEf8/JfezG/wCEN8Mf9C5pP/gDF/8AE0f8Ib4Y/wChc0n/AMAYv/ia2aKPZw7B9bxH/PyX3sxv+EN8Mf8AQuaT/wCAMX/xNH/CG+GP+hc0n/wBi/8Aia2aKPZw7B9bxH/PyX3sxv8AhDfDH/QuaT/4Axf/ABNH/CG+GP8AoXNJ/wDAGL/4mtmij2cOwfW8R/z8l97Mb/hDfDH/AELmk/8AgDF/8TR/whvhj/oXNJ/8AYv/AImtmij2cOwfW8R/z8l97Mb/AIQ3wx/0Lmk/+AMX/wATR/whvhj/AKFzSf8AwBi/+JrZoo9nDsH1vEf8/JfezG/4Q3wx/wBC5pP/AIAxf/E0f8Ib4Y/6FzSf/AGL/wCJrZoo9nDsH1vEf8/JfezG/wCEN8Mf9C5pP/gDF/8AE0f8Ib4Y/wChc0n/AMAYv/ia2aKPZw7B9bxH/PyX3sxv+EN8Mf8AQuaT/wCAMX/xNH/CG+GP+hc0n/wBi/8Aia2aKPZw7B9bxH/PyX3sxv8AhDfDH/QuaT/4Axf/ABNH/CG+GP8AoXNJ/wDAGL/4mtmij2cOwfW8R/z8l97Mb/hDfDH/AELmk/8AgDF/8TR/whvhj/oXNJ/8AYv/AImtmij2cOwfW8R/z8l97Mb/AIQ3wx/0Lmk/+AMX/wATR/whvhj/AKFzSf8AwBi/+JrZoo9nDsH1vEf8/JfezG/4Q3wx/wBC5pP/AIAxf/E0f8Ib4Y/6FzSf/AGL/wCJrZoo9nDsH1vEf8/JfezG/wCEN8Mf9C5pP/gDF/8AE0f8Ib4Y/wChc0n/AMAYv/ia2aKPZw7B9bxH/PyX3sxv+EN8Mf8AQuaT/wCAMX/xNH/CG+GP+hc0n/wBi/8Aia2aKPZw7B9bxH/PyX3sxv8AhDfDH/QuaT/4Axf/ABNH/CG+GP8AoXNJ/wDAGL/4mtmij2cOwfW8R/z8l97Mb/hDfDH/AELmk/8AgDF/8TR/whvhj/oXNJ/8AYv/AImtmij2cOwfW8R/z8l97Mb/AIQ3wx/0Lmk/+AMX/wATR/whvhj/AKFzSf8AwBi/+JrZoo9nDsH1vEf8/JfezG/4Q3wx/wBC5pP/AIAxf/E0f8Ib4Y/6FzSf/AGL/wCJrZoo9nDsH1vEf8/JfezG/wCEN8Mf9C5pP/gDF/8AE0f8Ib4Y/wChc0n/AMAYv/ia2aKPZw7B9bxH/PyX3s+SfFcMVt4z1qC3jSKKPUJ0SNFCqiiRgAAOgA7UU/xl/wAj1r3/AGErj/0a1FfKT+Nn9AYVt4em32X5H014N/5EXQf+wbb/APopa2axvBv/ACIug/8AYNt//RS1s19XT+Beh/P+L/3ip6v8woooqzmCiiigAooooAKKKKACiiigAooooAKKKKACiiigAooooAKKKKACiiigAooooAKKKKAMrVfFPh/Qpki1zXdN02SQZRLy8jhZh6gMRmtG3uIbu3Se1mjnhkGUkjYMrD1BHBr598Jy+ENN+IfinS/i9YWZ1++1J5rW81q3WSGW2P8AqxG7gqo4PoOgzkYHr0tm3grwaIfh74aj1IJJvh06K9WBSHbczCR8gDknHTsKE/dUn1G/icV0OopksscELyzusccalndzgKByST2FebeHfij4g1L4kQ+D9e8EDR7prVrqWRNXjuvJjA4LBEwMnAwSDyDVzxvq2t6o1/4c034e3uv2G1Uup5dTTT4ZQVD7UfO5x0U4wM5B4zQ720Bb2Z1+ha/pvibR4tV0SdrmymLCOYxPGHwSCQGAJGQeeh7VkaD4+0vxD4NvfEtlBeJZWRnEkcqKJD5Wd2AGI5xxyPwqD4f+MLXxPpl5ZR6RJol7os32K70xypFuQPlCsvBXA4Ix09ME8J8MP+TefEf+/qX8mqJuylbpG6/AKfvct+9vz/yPVvDPiC18VeGbHXNPjmjtr6ISxpOoDgZ7gEjPHqa1K8w8A63eaF8CPCs2maHe65dzQJDFa2hVcE7jud2ICJxjce5HrVuw+JesWvijS9G8ceDZvDp1dzFZXKahHeRvKADsYoBtPOPr7ZI2kkpuK72M4t8ik+x6JVXU7+LStJu9QuFdorSB53VACxVVLEDOOcCuT8S+P77TvFi+GPC3hubxBq62ovJ0+1paxQRFtoJkYHknsBU9/q15rPwt1251TRrnRbtbG6jmtLhlcqwjPKuvDqezDrWM5NQcl0TNYpOaizb8M+ILXxV4Zsdc0+OaO2vohLGk6gOBnuASM8eprUrwj4ffEbXNN+E2jjw54F1DXLDTbTbe3v2lLdQVJLCJWBaXHOdo6jFemQfEbQJfhqvjh5pItJMHmkMoMgOdvl4B5bd8uM4z3xzWs7Ju2y/pGcLtK+7OrrB8XeL7DwXpltfapDcyxXN3HaILZVZg7kgE7mHHHP8AKuNuPiv4i0zT11zXfh3qFh4cO1nvvt0Uk8MbEAO9uBuXryM5GOai+OdzDeeAdBubWQSQza3ZSRuvRlJJB/I1NndeqX3sd1Z+jf3I9Vorkrzxz/Z3xSsPCF9p/lRalZvcWeoedkSyKfmi2beCACc7vTjmna942Ok+PfD/AIWs9ON9dasJJZnE2wWkKDmQjac55AHHI60LW1uv9foN6Xv0OroqvqF3/Z+m3N59nnuvs8TS+RbJvll2gnai92OMAdzXnOp/FDxVoNi+sa98Nryz0KIqZroapDJNFGSBuMAGe/Tdx3xQOzPTqwfGfi+w8DeF59d1aG5mtYHRGS1VWcl2CjAZgOp9areK/H2keE/CEXiC6826huvLWzgt1zJdPIMoqg9yOfoPwryD4yeN/EOofC670/xV4GvfD5vJoDa3Au47qJiJAxV2XBjbAOARzg0L4lHzS/EI2evkfQqtvQMOhGaWsPxBrd5oWjW82maHe65dzSLDFa2hVcEqTud2ICJxjce5HrXL2HxL1i18UaXo3jjwbN4dOruYrK5TUI7yN5QAdjFANp5x9fbJD3dkQn7qkz0SsHxd4vsPBemW19qkNzLFc3cdogtlVmDuSATuYccc/wAq8z8eeLPG2n/G/wAM2OlaJNJbYuhb2iawIotVHl5LOMYTZ1AYHPapvjXqd4fhRouo+IdOGlXKa1bSXFqk4uPKCs/8agBuBngd8VPSMuja/O39di2rNx62v+B7JRXluo/GHVdEWLVtd8A6pp/haWRUGqSXEZljVuFd7YfMgz6n07kCut8S+J9S022sv+EZ8NXniS4vkaSIQTJDCigA5eVzhc7hgYOcH0p62F1NGw8SaTqmtahpOn3f2i80wqLtEjbbEzDIUvjaW9gcjvWpXmfgHxJFpHiL/hCtT8HS+Fb+6SS/gX7cL1bzLHzHM33i/GfmycDtxmfxh8QPGPhWTU7qP4fLeaLYKZP7SfXYIQ6AZLeWVLDnjHJPbrSbSSb/AK7grttI7+7vLawtXur+4itreMZeWZwiL25J4FSRyJNEskTq8bgMrKchgehBrzTxJ4psvEH7Pk/ibxN4Y86zubVLiTSHvGXcpkGw+aqgjI2sCBV/VPHSeG7Hw1o3hvw7Lqep6raBrHTIbhYkiiSME7pW4AAOM45xT1Tae6/4P+QrppNf1t/md9RWD4W1zVtZt7hdf8OXGg3tu4VopJ0njkBGQ0ci8MPXgEUvjLxZZeCfC1zreoxTTRwlUSGAZeV2YKqj6k0PQa1N2iuQ8OeKvE+oauln4l8D3OhxTIzw3SX0V1GCOdsm3BQ46dQTxmsnxh8QPGPhWTU7qP4fLeaLYKZP7SfXYIQ6AZLeWVLDnjHJPbrSbS3Ba7HotFcIvxRtrX4Yab4v1vS7m0l1PatrpcDefNM7k+WicLuLAbug4qi3xR1vRbyybx14HuPD+l3s628eoLqMV0I3YnaJUQAoDjrzjNVZ35fl8xXXLzHpNZHirxLZ+EPC97r2pRzy2tkgeRLdQzkFgOASB1PrXP8AxD+JVv8AD260VLvTZr6LVJZIs27fvEZVBUKmDvLEhQMjr1rlviHrniDW/gZ4sk8SeFpPDrJFF5CPex3BmQyLydgG0jup9azlJ8jkuhpFe9FPqes2V2l/p9veQhljuIllQMOQGGRn35qevPJ/H/8AYtr4b8OaDpb67r95ZQP9ijm8pbeHYoMssm1ti+nHP5Vt+MvHFv4RjsLcWFxqmr6pIYbHTbTG+ZgMsSxwFQcZY9M5x1raatJ272MoNuKv2udRRXn+mfEnVIfE2n6J458JTeGptUJSwnW+ju4ZpAATGWQDY3PAPWovGHxA8Y+FZNTuo/h8t5otgpk/tJ9dghDoBkt5ZUsOeMck9utQ3bVlLV2R6LRXH6f8QrU/CuHxv4is30i2ktvtDW+/zWCk4QKcLuLfLjgfeH1rn7j4r+ItM09dc134d6hYeHDtZ777dFJPDGxADvbgbl68jORjmm1ZtPoC1V0eoUV4x8YPF/iez1TwgfDNjM2m3WqWrwXdtqnkjUC2SLZkxkIwx8zZX2rvR4xudG8FXviHx5pC+HxZklreO7W7LrwFwygDczHAH60ujb6f8D/MN2kup1VFeX3HxX8RaZp665rvw71Cw8OHaz3326KSeGNiAHe3A3L15GcjHNel21zDeWkNzayCSGZFkjdejKRkH8jTsxXRLRRRSGFFFFABRRRQAUUUUAFFFFABRRRQAUUUUAFFFFABRRRQAUUUUAFFFFABRRRQAUUUUAFFFFABRRRQB8meMv8Akete/wCwlcf+jWoo8Zf8j1r3/YSuP/RrUV8jU+Nn9EYT/d6f+FfkfTXg3/kRdB/7Btv/AOilrZrG8G/8iLoP/YNt/wD0UtbNfV0/gXofgGL/AN4qer/MKKKKs5gooooAKKKKACiiigAooooAKKKKACiiigAooooAKKKKACiiigAooooAKKKKACgnA5oooA891bxp8KPGPh9013W9BvrMAt5V7KqSocdVRsOrfQA1xPw38WnwF8Edc1/UTdS6NDqEw0CG5zvliOBEoJ5Cls/TDGvXbrwV4Wvb43t74a0e4uy243EthE8hPruK5zV/UdH0zWLH7Fq+nWl/aZB8i6gWWPI6HawI4pW0duv9ff2HdXV+n9f8OecfCS48P2dvLc33inRdT8X+IZftV+Le/ikk3YJWFFVidqLxge/bFZF94im8R/EvxNonijx3N4O0/RmjW0tbS4itJLhSu4ymWQEsOnA4wR9T6dYeCPCmlX0d7pnhjRrK6iJMc9vp8UbpkY4YKCOCRVnVPDWha3cRT61ounajNCMRSXdokrJzngsDjn0pvVpr+u33CV7O/wDXc8m+A8lnL4u8fPpmp3mrWhurfyr69ffLONr/ADM2BnPY4HGKd8MP+TefEf8Av6l/Jq9ftNK06wubi4sbC1tprnb58sMKo0u0YXcQMtgcDPQU210XS7HTpLCy02zt7KXd5ltFAqRvu+9lQMHPf1qZrmTX9235f5Di7Sv/AHr/AJ/5nh8firVfDXwL+HkOmajHo1vqksdpeas8Qf7HGSTkBvlBODyegB+ozfE8eiW3xE8DW+lePtV8VXX9tQvLFc6gl1DApPDDYoCsewznGeK+gv7F0r+x/wCyP7Ms/wCzQnl/Yvs6+Tt/u7Mbce2Kq23hLw3ZxQxWfh/S4I7eYXEKRWUaiOUdJFAHDDPUc1pf95z+d/y0/ruRy/u+Xyt/wTiPHFj4L1XxY9y/jJfCvivTIFT7XHeLA/lkb1V0fCypzkgfQntVTwj4r1jxZ8G/FU+uTQ3r2S3tpBqUEXlpfRpGcShRxySenH5V6Nq3hrQteaNtc0XTtSaMYQ3lokxT6bgcVcFlaiwNkLaH7IY/KNv5Y8vZjG3b0xjjFZuN4Sj3X9M0UrTUuxxXwkAPwO8PgjIOn8g/8CryODSL3Vv2OYl02OSR7S8e6kji+8Y0uGLY+g+b8K+kbSxtNPsY7KwtYbW1iXZHBDGEjRfQKOAKZp+mWGkWS2ek2VvY2qElYLaJY0Uk5OFUAck5q5vmlKS62/B3Jh7sYx7f5WPFJNN8Ba34VM9/8Ztfk066hxLb3GvQBiCMlGjMe7OP4cZ9q0/i1Y2emfCbwpY6XI8tlbapp8VvJIcs0YBCk8DnGOwr0hfBvhhNSOop4c0lb4tvN0LGISlvXftzn3rQv9LsNVhSHVLG2vYo5BKiXMKyKrjowDA4I7Gi+q9U/udxW0t5Nfejz7436ZcJ4Vs/FmlIG1Lwvdpfxf7UWQJV+hGCfZapfC25Xxz478SfEIqxsn2aXpBdcFYUG6Q4/wBpiDz7iu38ex6vP4B1i28N2QvtTubZoIIWdFBL/KSS5C8Ak8ntSeAfDEfg7wHpOhooD2tuomIOd0p+aQ/ixNKGnN+Hq9/wX4jlql+PotV+L/Af471m+8O+AtZ1fSYFnvLK0eaJGUkZA6kDqAMn8K8H8WXul6j8IJdY1X4q6pqesX9iGOl2t7EkLyEAmM26JuCryGzjpzivpesWLwZ4Xge5eHw3pEbXSMlwyWMQMyt1DfL8wPcHrUuN7+f/AAfz/QpO1vI8i8c7tP8Ahz8LfEU8bvpujXNjPfFV3eXGY0+cj2Ix9SKk+PHxA8L618L7jStC1i21W7unhlCWLiYRRrIpLSFchB0HzYOSOOte2LZWi2AsVtoRaLGIhbiMeWEAxt29MY4xWZB4N8MWun3FjbeHNIhs7kgz28djEscuDkblC4bBAPPpWjlebf8Aev8Al/kRBcqXkrf195yHxb8Var4a0jw9Dpmox6Nb6pqEdpeas8Qf7HGRnIDfKCcHk9AD9R5z4nj0S2+Inga30rx9qviq6/tqF5YrnUEuoYFJ4YbFAVj2Gc4zxX0ReWNpqFlJZ39rDdWsq7ZIJow6OPQqeCKz7bwl4bs4oYrPw/pcEdvMLiFIrKNRHKOkigDhhnqOamOkubzT/LT+u4re5y+Vv+Ced/ErULXRPjd8O9V1aeOz0+MXscl1MwSNGaMAbmPA5I60345atZ6h8NdH1LSZl1O2Ot2rRvZMJfO2s2QmDhjkEcd69R1PSNN1uz+yazp9rqFtuDeTdwLKmR0O1gRmmHQtINhbWJ0qyNpaOslvb/Z08uFl5VkXGFI7EdKWtkuzv+Ny3q2+6t+Fjyr4qfEzwlr3wkvbLQtVt9Vv9ZRLe0sLdt85kZhjdGPmUj3A5wOc03xTrOseHbvwJ4MuvEA8M6dd6fsv9WAUOXijA8pZHBVMnHzdeR9D6lD4Y0C31dtVt9D02LUXJLXiWkazMT1JcDd+tWdS0nTtaszaaxYWuoWxIYw3UKyoSOh2sCKem6/q17fncX/B/G3+R4PpS6RF+0d4Yt9F8Yan4qEVrdCae9vFuVhby2+RHVQvTkgZxxmtnx14m0Txj8S4vB2sa3p+meHNEdbrVvtl2kH26ccpbjcRuUdWx9OCBXq9r4a0KxktXsdF0+2ezDC2aG1RDAG4YIQPlz3x1qpeeBfCWo3kt3qHhbRbq5mbdJNPp8Tu59SxXJNH8vlf773X3B/N52/4Jynxe1HTtV+Amv3ejXlre2bQKsc1pKskZxKoIDKSOMYqr4hsfBetaX4as/EXiH/hH9dtNPiuNPvYrwWs0asoU7Xb5WBK8rycemc16Cnh3RI9EbRo9H09NLbObFbVBAcnJ/d429eenWl1Hw9our2cVpq2kWF9bQ4EUNzbJIkeOBhWBA/ClbV+dvwv/mHRfP8AG3+Rwfwl8V6xreq+I9H1HV4PEdjo80SWmuQRKi3IZSSp2/KxXjkfjnNdR4+XwtP4VksPHU8MGlX0iwF53MaiT7ynePuEFc5JA4rdsdPs9Ls0tNMtILO2jGEht4hGi/RQABT7q0t761ktr23iuYJBteKZA6uPQg8GnLVWCOjueOeGdfvfDvxR0bwnoPjEeM9Dv4ZWkSWRLifTQi5VmmTqCcABvoOopvjrxNonjH4lxeDtY1vT9M8OaI63WrfbLtIPt045S3G4jco6tj6cECvWdJ8PaLoCyLoWj2GmrIcuLO1SEP8AXaBmqV54F8JajeS3eoeFtFurmZt0k0+nxO7n1LFck0+qfb+l9wdH5/0/vPNPje1prPhrwt4i0jU2k0PTdWR7q+0eZXa3jJ2mVGXcMqRjocE1W1Xw18PtZ0uKDWPjBrWp2VzImy1k12CUTNuG0eWIyTzjtx7V7PYaTp2laeLDTLC1s7Nc4treFY4xk5PygAc5qlYeD/DWl332zTPDulWd1knz7exjjfP+8FBpR0d/O/5f5A72/D8/8zhfiauz4lfDNR0Gpyj/AMcWtT44/wDJFPEf/XBP/Ri12l1pdhfXVtc3tjbXE9o5e2lmhV2hY9ShIyp9xTr6ws9UspLPUrSC8tZRiSC4jEiOM5wVOQeaiUbwce7f6f5FRajNS7W/Bv8AzPEPDb/8Kc8TWt7qzG48NeLIoM6pPlpbG5EYxHJIeTGRnGTwB7Em38ZrBYPiV4N13U9V1DR9F2zWU2p6fL5b2sjglSWIIAbOCcdAa9gvNI03UdMOm6hp9rdWJCqbWeFXiwuMDYRjjAxxxipZLK1lsTZS20L2pTyzA0YKFcY27emPatJO7T7PT07ERVlbutfXueQx+GPAt94k0I3fxS1bX7uC9juLCym1qC5V5VOVOxUzjg88d+ai8deJtE8Y/EuLwdrGt6fpnhzRHW61b7ZdpB9unHKW43EblHVsfTggV6rpXhbw/oUzS6JoWm6dIwwz2dnHESPQlQKrXngXwlqN5Ld6h4W0W6uZm3STT6fE7ufUsVyTS6ry1+f9foPo/u/r+u5xHxriTxZ8Eru58K3MWo21vNHcb9PlWRXjjb59rLkfL19ttc/JpvgLW/Cpnv8A4za/Jp11DiW3uNegDEEZKNGY92cfw4z7V7Xp2mWGj2KWWk2NtY2qElILaFY0XJycKoAGTzWevg3wwmpHUU8OaSt8W3m6FjEJS3rv25z70rK78x32fY8x+KkGn+HfCXw4e1lc6NpOt2P+kynO2FUOGY4HYdcCtD40yQeNPgvqNx4SvodWisrmOaVtPnWXKoQXAZSRkAhvwr1G9sbTUrKWz1G1hu7WYbZIJ4w6OPQqeDUem6Tp2jWQs9HsLWwtVJYQWsKxICep2qAKcryT9b/PTf7hR0t6W/P/ADPFZNN8Ba34VM9/8Ztfk066hxLb3GvQBiCMlGjMe7OP4cZ9q9k8O2NnpnhnTLHS5Hlsra0iit5JDlmjCgKTwOcY7Cqy+DfDCakdRTw5pK3xbeboWMQlLeu/bnPvW1TvoxW2CiiikMKKKKACiiigAooooAKKKKACiiigAooooAKKKKACiiigAooooAKKKKACiiigAooooAKKKKACiiigD5M8Zf8AI9a9/wBhK4/9GtRR4y/5HrXv+wlcf+jWor5Gp8bP6Iwn+70/8K/I+mvBv/Ii6D/2Dbf/ANFLWzWN4N/5EXQf+wbb/wDopa2a+rp/AvQ/AMX/ALxU9X+YUUUVZzBRRRQAUUUUAFFFFABRRRQAUUUUAFFFFABRRRQAUUUUAFFFFABRRRQAUUUUAFFFFABRRRQAUUUUAFFFFABRRRQAUUUUAFFFFABRRRQAUUUUAFFFFABRRRQAUUUUAFFFFABRRRQAUUUUAFFFFABRRRQAUUUUAFFFFABRRRQAUUUUAFFFFABRRRQAUUUUAFFFFABRRRQAUUUUAFFFFABRRRQAUUUUAFFFFABRRRQAUUUUAFFFFABRRRQAUUUUAFFFFABRRRQAUUUUAFFFFAHyZ4y/5HrXv+wlcf8Ao1qKPGX/ACPWvf8AYSuP/RrUV8jU+Nn9EYT/AHen/hX5H014N/5EXQf+wbb/APopab4x8V2PgjwneeIdViuJrSz2eYlsqtId7qgwGIHVh36U7wb/AMiLoP8A2Dbf/wBFLXH/ALQf/JCfEP8A27f+lMVfV0/gXofgGL/3ip6v8zm/+Gq/BH/QK8Qf+A8H/wAeo/4ar8Ef9ArxB/4Dwf8Ax6rPgr/kQfD/AP2DLb/0UtbdWcxzf/DVfgj/AKBXiD/wHg/+PUf8NV+CP+gV4g/8B4P/AI9XSUUAc3/w1X4I/wCgV4g/8B4P/j1H/DVfgj/oFeIP/AeD/wCPV0lFAHN/8NV+CP8AoFeIP/AeD/49R/w1X4I/6BXiD/wHg/8Aj1dJRQBzf/DVfgj/AKBXiD/wHg/+PUf8NV+CP+gV4g/8B4P/AI9XSUUAc3/w1X4I/wCgV4g/8B4P/j1H/DVfgj/oFeIP/AeD/wCPV0lFAHN/8NV+CP8AoFeIP/AeD/49R/w1X4I/6BXiD/wHg/8Aj1dJRQBzf/DVfgj/AKBXiD/wHg/+PUf8NV+CP+gV4g/8B4P/AI9XSUUAc3/w1X4I/wCgV4g/8B4P/j1H/DVfgj/oFeIP/AeD/wCPV0lc1qfiyW28Wx+HtOsYbm8Nr9qYXF2IN65xtj+Vt78McHaBjr6HWweYv/DVfgj/AKBXiD/wHg/+PUf8NV+CP+gV4g/8B4P/AI9UXiDxRquh6lZWyaRZ3Yv7lbe2RL9xM/GWYp5JACjJPzGm6n44TTvGVvov2Ey27yRQXF6JsCCWUMY0K45ztHcY3ChahsT/APDVfgj/AKBXiD/wHg/+PUf8NV+CP+gV4g/8B4P/AI9VzTtf+3+JNZ0n7N5f9l+T+98zPm+Ym7pjjHTqc1H4e8Txa14Pi8QXMIsoWjkkkQybhGqMwJ3YHZc9KOlx21sV/wDhqvwR/wBArxB/4Dwf/HqP+Gq/BH/QK8Qf+A8H/wAeqjovxBTUdD1fUNR0uWwfS4VuXtlkEjvC8fmIw4GCRkY7Y60r+OLqDwPL4kn0u2eDZDJCttf+asgdwpUtsG1lJ5GCO2euHZ3t6fiIu/8ADVfgj/oFeIP/AAHg/wDj1H/DVfgj/oFeIP8AwHg/+PUms+L/AOyNYubH7D53kaRLqe/ztu7YceXjacZ9f0qpceMdUsfBreI77RrNbZoYZYoodQZ3bzGUANmEBcBs8E9Me9Ja/wBfL9A/r8v8y5/w1X4I/wCgV4g/8B4P/j1H/DVfgj/oFeIP/AeD/wCPVNrPiddC1nTbfULcR2F/vQXxl4ilA3BGXHQgHBz1GMVP4Y1uXxFoceqSWRs4rhmNujSbmeLOFc8DbuHOOeMc0LUCl/w1X4I/6BXiD/wHg/8Aj1H/AA1X4I/6BXiD/wAB4P8A49XSUUAc3/w1X4I/6BXiD/wHg/8Aj1H/AA1X4I/6BXiD/wAB4P8A49XSUUAc3/w1X4I/6BXiD/wHg/8Aj1H/AA1X4I/6BXiD/wAB4P8A49XSUUAc3/w1X4I/6BXiD/wHg/8Aj1H/AA1X4I/6BXiD/wAB4P8A49XSUUAc3/w1X4I/6BXiD/wHg/8Aj1H/AA1X4I/6BXiD/wAB4P8A49XSUUAc3/w1X4I/6BXiD/wHg/8Aj1H/AA1X4I/6BXiD/wAB4P8A49XSUUAc3/w1X4I/6BXiD/wHg/8Aj1H/AA1X4I/6BXiD/wAB4P8A49XSUUAc3/w1X4I/6BXiD/wHg/8Aj1H/AA1X4I/6BXiD/wAB4P8A49XSUUAS/D/41+HPiPr8+kaHZapBcQ2rXTNeRRqhUMqkArIxzlx29a9Erxvwp/yclJ/2KR/9K1r2SgAooooAKKKKACiiigAooooAKKKKACiiigAooooAK5b4gfEDSvhxoEGr65b3k9vNdLaqtmis4YqzAkMyjGEPf0rqa8t+O3/IK8G/9jbY/wDoMlAGJ/w1X4I/6BXiD/wHg/8Aj1H/AA1X4I/6BXiD/wAB4P8A49XSUUAc3/w1X4I/6BXiD/wHg/8Aj1H/AA1X4I/6BXiD/wAB4P8A49XSUUAc3/w1X4I/6BXiD/wHg/8Aj1H/AA1X4I/6BXiD/wAB4P8A49XSUUAc3/w1X4I/6BXiD/wHg/8Aj1H/AA1X4I/6BXiD/wAB4P8A49XSUUAc3/w1X4I/6BXiD/wHg/8Aj1H/AA1X4I/6BXiD/wAB4P8A49XSUUAc3/w1X4I/6BXiD/wHg/8Aj1H/AA1X4I/6BXiD/wAB4P8A49XSUUAc3/w1X4I/6BXiD/wHg/8Aj1H/AA1X4I/6BXiD/wAB4P8A49XSUUAc3/w1X4I/6BXiD/wHg/8Aj1H/AA1X4I/6BXiD/wAB4P8A49XSU13EcbO2cKCTgUPTUDnf+Gq/BH/QK8Qf+A8H/wAeo/4ar8Ef9ArxB/4Dwf8Ax6ovDXiy98U6W+o6bptr9mcP9nLX+WDK2AkyiM+WSDnjfjv2zSHxCktDrb6xpccdto+yOSayumnEszEAQqGjTLDIz6ZFHWwGl/w1X4I/6BXiD/wHg/8Aj1H/AA1X4I/6BXiD/wAB4P8A49UaeKr+z1rTNP8AEWkRWP8AaisLeWC888LIBu8twUXBx3G4Zqj4e+IE+s3mjx3ekJaw6yk7Wzw3ZmZTEfm3qY12g84IJ7U9wNL/AIar8Ef9ArxB/wCA8H/x6j/hqvwR/wBArxB/4Dwf/HqgtfHCXPjh9B+wlbYvLBDf+dkSzRqrPHtxxgMec9VPFdXS6XDrY5v/AIar8Ef9ArxB/wCA8H/x6j/hqvwR/wBArxB/4Dwf/Hq6SigDm/8AhqvwR/0CvEH/AIDwf/HqP+Gq/BH/AECvEH/gPB/8erpKKAOb/wCGq/BH/QK8Qf8AgPB/8eo/4ar8Ef8AQK8Qf+A8H/x6ukooA5v/AIar8Ef9ArxB/wCA8H/x6j/hqvwR/wBArxB/4Dwf/Hq6SigDm/8AhqvwR/0CvEH/AIDwf/HqP+Gq/BH/AECvEH/gPB/8erpKKAOb/wCGq/BH/QK8Qf8AgPB/8eo/4ar8Ef8AQK8Qf+A8H/x6ukooA5v/AIar8Ef9ArxB/wCA8H/x6j/hqvwR/wBArxB/4Dwf/Hq6SigDm/8AhqvwR/0CvEH/AIDwf/Hq9b8O69Y+KPDdhrelSb7S+hWaPLKWXPVG2kgMpypGTggjtXlvjX/kQfEH/YMuf/RTVt/s+f8AJCfD3/bz/wClMtAHpNFFFABRRRQB8meMv+R617/sJXH/AKNaijxl/wAj1r3/AGErj/0a1FfI1PjZ/RGE/wB3p/4V+R9NeDf+RF0H/sG2/wD6KWuP/aD/AOSE+If+3b/0pirsPBv/ACIug/8AYNt//RS1x/7Qf/JCfEP/AG7f+lMVfV0/gXofgGL/AN4qer/MxPBX/Ig+H/8AsGW3/opa26zPCnhvwNa+AvCTa9q09jeajpdq8UU3iS5t/OcxJkRp5wHVgMKMDIAFalzovwxstSbTrzxJ9nvlcRtay+LblZQx6KVNxnPI4qzmEorTfwF4Nj1KPT3u9QW9ljMsdsfEd6JHQHBYL5+SAe9A8A+DjbT3AutRMFuXE0v/AAkd7tiKfeDHz8DGDnPSgDMoraT4aeGJI1eM6s6MAVZdfviCPUfvqpR+DfAkulzalFqd29hBu826XxNeGKPbw25/PwMYOcnijYNylRWjpvgbwVrNkt5o99fX9qxIWe18SXkqEjggMs5HFSy/DzwjDcQ280+pxzXG7yY38RXoaTaMnaPOycDk4oAyaKl07w98N9Xv2sdJ1+S+u1BLW9t4rupJAB1O1bgnitf/AIVj4a9NY/8AB9ff/HqAMOitz/hWPhr01j/wfX3/AMeo/wCFY+GvTWP/AAfX3/x6gDDorc/4Vj4a9NY/8H19/wDHqP8AhWPhr01j/wAH19/8eoAw6K3P+FY+GvTWP/B9ff8Ax6j/AIVj4a9NY/8AB9ff/HqAMOuQ8ceF7zxTaPZJY6VLGyAQ3tw7pPZtkbmQBTu6A43JnGDkV1/jXwFomkeAfEGpafJrEN3Z6ZczwSf25etsdImZTgzEHBA4IxWk/gPwZFqUWnSXmoJfTIZI7VvEl6JXQdWCefkgetK1x3seb23h/wAR2ni6TV5otP1MRWyWlk89/JE0UYA3sVELAu5GSc+1ULv4c6pqWi6ybvWWh1HUrprsRQ7Gt1dT+5BdovM+UKo4I+nr6v8A8IJ4L37Ptl/u8/7Pt/4SS8z5uM+X/r/vY529cUy88FeB9PjuXv8AUb21S1RZLhpvEt4ghViQrNmf5QSCAT1wafn/AF3/AOCJdv67f8A4DSdG8R6b4n1LUpINMuE1RbbzsXkiNEY4wrlR5RDc5I5Hbp2ybfwh4oT4fJ4RYaXFA58ua9jvZC/lNJucLGYQMlSRy1er3vgbwVpth9u1G+vrS0+X/SJ/El4kfzHC/MZ8ckjHrmqmq+G/hzoM6Q65rsumyyLvSO88VXULMucZAacZHvQ/P+rAvI4SPwfq+leKo9W0nU1vVexa0nTUQi8LzFtEUaggHIOeQD36VkXfw1vruz1/7LDpmk/2pHbxpp9rK7W4McisZGPlrhiARgJj8zXqEugfDaDUotPm8QPHezbPKtn8WXQkk342bV+0ZO7IxjrnitFPh74RkuJ4I7jUmmtwpmjXxFelogwyNw87IyAcZo8w9P67HmOofD5BrF9caFa6bp9vdaJPp/lxR+VmZzkMQq4xgdevtVN/Auov4EudCttI0HTrqSCBDd207ZuGjdSTJiBTzhjnLcn8a9KtPDvw51CxvLzTtcnvbaxQyXUtr4ou5VhUAnLbZzjgH8qkTwr8P31O303+1btdQuYxLFZP4lvFndSN2REZw3QE9Ox9KFdf16v/ADD+vy/4BxPirQdX8W+Bb7Sbm2060vZWTycXLzRgKynJYxKQcAjgH611UMawwpGiqqooUKowAAOgrWsvAPhHUVma0fWXEEzwSA65qClXU4IwZQfx6EEEZBBqz/wrHw16ax/4Pr7/AOPUdA8uxh0Vuf8ACsfDXprH/g+vv/j1H/CsfDXprH/g+vv/AI9QBh0Vuf8ACsfDXprH/g+vv/j1c1oPhTwsPD0t94h1HULcf2vfWcctx4iu4lIS8miiQHzgCdqKB3OO5oAs0Vrn4d+Exdi1M2qfaChkEP8AwkN7vKA4LbfOzjJAz71n2vhr4dX2rSaXY65Nc6hEWElpD4qunlQr97KCfIx344oAgoqODTvhVdXcdra+Ko5riVxHHDH4wuWd2JwFAFxkknjFaz+A/BkWpRadJeagl9MhkjtW8SXoldB1YJ5+SB60AZtFaX/CCeC9+z7Zf7vP+z7f+EkvM+bjPl/6/wC9jnb1xRN4E8F27ypcXt/E0IQyq/iS8UxhztTOZ+NxBAz1PSgDNorXf4d+E47mK3km1RZ5gxjibxDehnC43EDzsnGRn0yKl/4Vj4a9NY/8H19/8eoAw6K3P+FY+GvTWP8AwfX3/wAeo/4Vj4a9NY/8H19/8eoAw6K3P+FY+GvTWP8AwfX3/wAeo/4Vj4a9NY/8H19/8eoA4jwp/wAnJSf9ikf/AErWvZK8p0jR7PQ/2llstOEwhXwcW/f3Ek7km+5y8jMx/E16tQAUUUUAFFFFABRRRQAUUUUAFFFFABRRRQAUUUUAFeW/Hb/kFeDf+xtsf/QZK9SrzH432sV7ZeCbS43+VP4vsI38uRo22sJAcMpBU4PUEEdqAJaKtL4U+H7atNpa6xcHULdC81oPFF35sagAksnn5AwQckd6g0zQvhprV4LPRvELahclSwgtfFl1K5A6natwTijcBlFT2nhr4dX+rSaXY65Nc6hGWD2kPiq6eZCv3gUE+RjvxxSReG/hzPrR0eHXZZNTDMhsk8VXRmDAZI8vz92QASRjtQBDRWm/gLwbHqUenvd6gt7LGZY7Y+I70SOgOCwXz8kA96s/8Kx8Nemsf+D6+/8Aj1AGHRUt/wCHfhxpS7tU16SyXzWhzceK7qMeYuCyfNcD5hkZHUZFaFp8PfCOoWcV3YXGpXVtMoeKaHxFeujqehDCbBH0oAyqK3P+FY+GvTWP/B9ff/HqP+FY+GvTWP8AwfX3/wAeoAw6K3P+FY+GvTWP/B9ff/HqP+FY+GvTWP8AwfX3/wAeoAw6K3P+FY+GvTWP/B9ff/HqP+FY+GvTWP8AwfX3/wAeoAw6R9xRthAbHykjIB+lV9B8KeFh4elvvEOo6hbj+176zjluPEV3EpCXk0USA+cATtRQO5x3Nbk/gHwdbSOlzdajC6QtOyyeI71Ssa/ecgz8KO56CkB5afB+tr4huNe0630fSNQNlJABazSNHdyuc+ZKPLXGDzwGJPU8UReB9SuPAUnhi6js7LgTLfQ3j3DyXAcOXdWiTgsDnk+leqN8PvCCNbq1xqSm5OIAfEV7+9O0t8v775vlBPHYZqOy8C+CtSszd6de393bAspng8SXjoCpww3CfHHf0p7af1vf8w31/r+rHBPoWta3rukX3iAWFrFpRaVYrOZ5jPKV25JZE2AdQPmPPWuf8PfDzV9GfSZFg0m0uNNMzyXdpO/mX27O2OT90uFyRkkt93gV6nL4a+HUGjR6vNrk0emSttjvX8VXQhc8jAfz9pPB79jVeTSPhfFp8N9L4mCWc7skVw3i65EcjL94K32jBIyMgdM0dwPOE+HGr22gaabfWzLq1leLfmOXYtu0xbMnzCLzMEFhyT9PT0gdOa0YvAvgqZbQw3t/IL5d9qU8SXh+0Lt3ZT9/8wxzkZ45qAeFPh+dbOjDWLg6oOtiPFF35443f6vz93Tnp05p+QvMq0U6bQvhta6Za6jfa5cWVpeAm2mu/E15AswHdd84yO/HYg96uweB/Bl1eraW8+rSytbrdJs12/KvExIDK3nbWHHYnGR6jKGUKK3P+FY+GvTWP/B9ff8Ax6j/AIVj4a9NY/8AB9ff/HqAMOitz/hWPhr01j/wfX3/AMerD8a+AtE0jwD4g1LT5NYhu7PTLmeCT+3L1tjpEzKcGYg4IHBGKACitJ/AfgyLUotOkvNQS+mQyR2reJL0Sug6sE8/JA9aiuvBvgSxs7i8vdTu7a2tZPKnnm8TXiJC/Hysxnwp+YcH1HrQBSop7aD8NU0hNVfxCy6c8nlLeHxZdCFn/uh/tG0ng8ZzxU2keFfh94g83+wdYuNT8nHm/YvFN3N5ec43bZzjOD19DQBWorQg8D+Cbl7tLa+vpmsm2XSx+JbxjA2M4fE/ynHODin2/gPwZdo72l3qE6xqrO0XiO9YKGUMpOJ+AVII9Qc0AZlFacfgLwbN9m8m71CT7XGZbfb4jvT5yAAlk/f/ADDBByPUVJH8O/Cc000MM2qSSwECVF8Q3paMkZAYedxkEHntQBxvjX/kQfEH/YMuf/RTVufs/KV+BXh4MCDi4PI7G5lIqPx58O/D9l8OfEl3bjVfNg0m6kTzNbvJF3LCxGVaUhhkdCCD3ro/hj/ySfwr/wBgm2/9FLQB1NFFFABRRRQB8meMv+R617/sJXH/AKNaijxl/wAj1r3/AGErj/0a1FfI1PjZ/RGE/wB3p/4V+R9NeDf+RF0H/sG2/wD6KWuP/aD/AOSE+If+3b/0pirsPBv/ACIug/8AYNt//RS1x/7Qf/JCfEP/AG7f+lMVfV0/gXofgGL/AN4qer/M5u0vrDQ/Bvh7VbTWNOj1aTwrY28+h6lDvGqxCIFI4hwxclnXKhxlgCh4rptS8XeH9a8ZxaTrWtabptnpDRTT2d5eRxSXN2QGjTaxBKx5DHjBfb/dNP8AAPiPVIPht4aii8F65cpHpNqqzRTWISQCFQGXdchsHqMgH1AroP8AhKNX/wChE8Qf9/8AT/8A5Kq1p/X9f8Ocz1PPNU1i+n1e+8cW2g6hPb6dqSC31KIweT9gg3xz/KZPMIPmTtwhzhD2zWnB4m0I+DfGOlf21p/9ozT6o0dn9qTznB3sCEzuPHPTpXYf8JRq/wD0IniD/v8A6f8A/JVH/CUav/0IniD/AL/6f/8AJVS43i4+Vvvt/l+LKUrSUvO/3X/z/Iw77x5po+G7nwpqljqurC2htLe3srmOZxcSgJGCA3HOTyQPlPPFcrHb6fpMWo+FtfgvvCWlXlvbXmn3N6YGEVxbmNHclHkjC5WBiHIBy2eua9G/4SjV/wDoRPEH/f8A0/8A+SqP+Eo1f/oRPEH/AH/0/wD+Sqtu8nLv/X56kRVkl2/r+vmQeBNal1q11J5X0+9EN35a6rpsZSDUPkX94oJblfuHDMMpweMBviT/AJKJ4N/373/0RVbV9U8RakIvseg+MNI8vO42Umjt5mcfe86V+mO2OvOadpOr+IdOikS88PeLtWZ2yr3kmkKUHoPKmQY+oNJ+8gtY4vSdT0rWfhr4a0bR7y1vfEdrf28kMFtIsk1ntuQZJHC5MaiPeCWwCG287gD7RXN/8JRq/wD0IniD/v8A6f8A/JVH/CUav/0IniD/AL/6f/8AJVHS39dP8h9TpKK5v/hKNX/6ETxB/wB/9P8A/kqj/hKNX/6ETxB/3/0//wCSqAOkorm/+Eo1f/oRPEH/AH/0/wD+SqP+Eo1f/oRPEH/f/T//AJKoA6Siub/4SjV/+hE8Qf8Af/T/AP5Ko/4SjV/+hE8Qf9/9P/8AkqgA+I//ACSzxX/2Bbz/ANEPXP8Ai3Q59Z+ISyaY6Q6tp+krd6fM+cLKsx+VsfwupZG9mNHj7xHqk/w28SxS+C9ctkk0m6VppZrEpGDCwLNtuS2B1OAT6A10H/CUav8A9CJ4g/7/AOn/APyVStqn2/ya/UOjXf8AzucDpWuR3+i/8JFPBLZ2sPi7zr0TKQbMeQI38z0CO2C3QYz05q1r93ZeIE8Valp0sOoaVN/ZVot1Ewkhmdbgl1VhkMAJFBxxkkdQa7T/AISjV/8AoRPEH/f/AE//AOSqP+Eo1f8A6ETxB/3/ANP/APkqnpbl9PyS/QXW/wDW7f6nmeuR3dz4X1fwxdK/2fwdaXDM+CFm3KVs+T97ELMT6MoNdP4k1r+xvidvPibQtA8zRohv1mPesuJpOE/fRYI78nr2rpf+Eo1f/oRPEH/f/T//AJKo/wCEo1f/AKETxB/3/wBP/wDkqjW6fb8dGv1H3/q2qf8AXqcD4kF7c6h45uYLq2k0MGxk1GOKAtO9v5SM8kMm4qpVMsAUbOOCDgiz4jV7vUfGjW0bXVpv0iW7jiUuZrQNumAUcsDGGyO4yOc4rtf+Eo1f/oRPEH/f/T//AJKo/wCEo1f/AKETxB/3/wBP/wDkqlstA6pnN+NPEXhvXvBOonw9qFhqDIttFczWTrJ5Vs9xGHRnXhcruO0nPBOOKb4y1SyPizTbC21LTppodXtJJdEgi8u+ml4Am37iWjVCrHEYyIyN4GRW3qmrX2saTd6bfeAvEL213C0MoFxp4O1hg4P2rg89ang8SavDbxxHwR4ikKKF3vPp+5sDqcXWM1S0afZ3/r+t9RdGu4vhzCeMvFscX+q+1W7kDoJDbpu/QIfxrp64rSb6+0dr5rbwN4kkkv7t7ueSW404sztgY4uRwFVVA9FHU81o/wDCUav/ANCJ4g/7/wCn/wDyVS6IfU6Siub/AOEo1f8A6ETxB/3/ANP/APkqj/hKNX/6ETxB/wB/9P8A/kqgDpK8rutOtdX8F2OnahCs1rdeML+KaNujK19dgiuw/wCEo1f/AKETxB/3/wBP/wDkquf8F+I9Uh0G5WPwXrk4OrakxeOaxABN9OSvzXIOVJKntkHBIwSmr29U/udx33t5mAZtek1rW/DrGaXXtL8M3Vvb3K5DXiM6eRKCf4mA2n0dW7YrUv8AVvDWr+GdB0TwhNazanaXtk1rY22DPp4jlTzWkQYaIKm9W3Beu08tg9X/AMJRq/8A0IniD/v/AKf/APJVH/CUav8A9CJ4g/7/AOn/APyVVJ2tfpb8G3+v+RNld2/rRL9CtYf8li1v/sDWX/o24rI8W6HPrPxCWTTHSHVtP0lbvT5nzhZVmPytj+F1LI3sxroP+Eo1f/oRPEH/AH/0/wD+SqP+Eo1f/oRPEH/f/T//AJKqeqfa/wCN/wDMpu9/O34W/OxwOla5Hf6L/wAJFPBLZ2sPi7zr0TKQbMeQI38z0CO2C3QYz05qz4h1Sx1KLxXrthdwXGkAaVCL+OVWgZo7gvJtcHBCiRckHAOR1Brtf+Eo1f8A6ETxB/3/ANP/APkqj/hKNX/6ETxB/wB/9P8A/kqn0svL8El+hNtb/wBbt/qYWreNPC7+M/Dupp4k0hrBIr2F7sX8RiVysRCF92A2OcZzXeWt3b31pFdWU8VzbzKHimhcOjqehDDgj3FYH/CUav8A9CJ4g/7/AOn/APyVR/wlGr/9CJ4g/wC/+n//ACVQM6Siub/4SjV/+hE8Qf8Af/T/AP5Ko/4SjV/+hE8Qf9/9P/8AkqgDlPHPwmv/ABb4pl1a28QfYY5I0QQ+UzY2jGchhXO/8KA1b/obf/ID/wDxdem/8JRq/wD0IniD/v8A6f8A/JVH/CUav/0IniD/AL/6f/8AJVc8sPTk7tHr0s5xtKCpwlotFov8jw7/AIVTf/8AC0/+ET/t/wD0j+xf7T+2+U33fP8AL8vG7PXnOfwrpP8AhQGrf9Db/wCQH/8Ai639Pupr39piO4ubC40+V/Bh3W1y0bSJi+I5MbMvOM8MeD2PFepUvqtLsaf29mH86/8AAY/5Hh3/AAoDVv8Aobf/ACA//wAXR/woDVv+ht/8gP8A/F17jRR9Vpdg/t7MP51/4DH/ACPDv+FAat/0Nv8A5Af/AOLo/wCFAat/0Nv/AJAf/wCLr3Gij6rS7B/b2Yfzr/wGP+R4d/woDVv+ht/8gP8A/F1leJ/g7qnhrwze6w/iY3C2ke8xCJlLcgdd3HWvoauR+Kn/ACS7XP8Ar3H/AKGtRPDUlBtI6cLneOqYiEJSVm0tl39Ch8F7y4vfhjZPdzyTOksqK0jZIUOcDPtXe1558Dv+SW2n/Xeb/wBDNeh1vR/hx9Dy8ySWNqpfzP8AMKKKK1PPCiiigAooooAK82+Mn/Mhf9jnp3/tSvSa8y+NsrwWvgiWKCS5ePxhYMsMRUPIQJCFXcQuT0GSB6kUAN0zVdO0Pxgmn6Nq2n6vZXOo3NzPpzxf6bpEjK7SzEjlY925fnVSPMADkYU1YfENh4003X9W0bXLC4167064t9E06C8ja4t4QpOdgORJIQGPGQAgONprtf8AhKNX/wChE8Qf9/8AT/8A5Ko/4SjV/wDoRPEH/f8A0/8A+SqVtLPtb+v67lc1pcy73/U5S/1bw1q/hnQdE8ITWs2p2l7ZNa2Ntgz6eI5U81pEGGiCpvVtwXrtPLYPNnUwNZubT+2NKuXt/GJnj0GNMX8jecBvD+YSFUMXP7sZVCCwBJr0/wD4SjV/+hE8Qf8Af/T/AP5Ko/4SjV/+hE8Qf9/9P/8Akqqv7/N53/GL/wDbSLe5yf1s1+p55qmsX0+r33ji20HUJ7fTtSQW+pRGDyfsEG+Of5TJ5hB8yduEOcIe2a9ljkSWNZI2DI4DKwPBB6Gud/4SjV/+hE8Qf9/9P/8AkqudR/FiTK7R+PXUMCY2OgbWGehwQcfQ5pLa39f1/wAEb1d/6/r/AIBgWeradovxFjvNZv7XT7Ya5qyme6mWJATFBgbmIGa7TwCkb3fiS902Py9FvdS86w2ptSUGGMSSoO6NIGIYcNyw65N3/hKNX/6ETxB/3/0//wCSqP8AhKNX/wChE8Qf9/8AT/8A5Koj7qS7K35f5B39W/z/AMzpKK5v/hKNX/6ETxB/3/0//wCSqP8AhKNX/wChE8Qf9/8AT/8A5KoA6Siub/4SjV/+hE8Qf9/9P/8Akqj/AISjV/8AoRPEH/f/AE//AOSqAOkorm/+Eo1f/oRPEH/f/T//AJKo/wCEo1f/AKETxB/3/wBP/wDkqgDj7rTrXV/Bdjp2oQrNa3XjC/imjboytfXYIqnE2q3Ov614Z1FZbrVdO8M3VrHNtOb2NmXyZQT1Zh8rD++rdsVueC/EeqQ6DcrH4L1ycHVtSYvHNYgAm+nJX5rkHKklT2yDgkYJ6D/hKNX/AOhE8Qf9/wDT/wD5KqeXRrvf8Y2/Ad9U+1vwd/xOeste0zxHrHgy30O8ivZ7APPexROC9motmjxKvWNt7hdrYOc8cHHJ+Ho7qw0Ww8OWKskHjK2jZJIgR5LJ8t22RwpMAUqf72etem/8JRq//QieIP8Av/p//wAlUf8ACUav/wBCJ4g/7/6f/wDJVW3eXM/n/XYmK5Y2Rwk1wmlfD/w/LFf2OkpB4muQt1fJmCEedcgbhvTjt94dq0tQv9Q1rxH4Qn0DxDoWoXuy/H2+3tWltWIVPlCLOSDjA/1h55x2rqf+Eo1f/oRPEH/f/T//AJKo/wCEo1f/AKETxB/3/wBP/wDkqp6Pzd/wS/QfVW/rV/5nFaCVMngSK03R3UMupxXEcpB8q6CP5q8ADaJN2MAfLim2XiHRLP4PvohubVfFFrp83m6dJhrpb5Y2Z5TH9/Jfc/mdCDuzg5rt/wDhKNX/AOhE8Qf9/wDT/wD5KpG8Taq6FX8B6+ysMEGfT+R/4FUprmUl3/r+vkOL5Wn2f9f16nOarN4csdD8Nyz+Lm8NXdlpWbCRGgHnRtGgICzIwkPyr8q/NyPUVd0+71C917wRfatbi11W60u5N7CFK7QVhZgVPIw+3g9M4q1o+qajomj2umWngfxI9vaRiKIy3OnswQcKM/aucDA/CozfXzeJRrj+BvEj3S2n2SNWuNO2RoX3MQPtOcsQuTn+BenOdJO8m+7/AM/zvqRFWil2/wCAdrRXN/8ACUav/wBCJ4g/7/6f/wDJVH/CUav/ANCJ4g/7/wCn/wDyVUlHSVzfxH/5JZ4r/wCwLef+iHo/4SjV/wDoRPEH/f8A0/8A+Sq5/wAfeI9Un+G3iWKXwXrlskmk3StNLNYlIwYWBZttyWwOpwCfQGgA8W6HPrPxCWTTHSHVtP0lbvT5nzhZVmPytj+F1LI3sxrmPDuv2V14it/Euuxmw0ddUvvMa9G2OxvTFbqvmMRhSMTIGOBk4B+YZ9H/AOEo1f8A6ETxB/3/ANP/APkqj/hKNX/6ETxB/wB/9P8A/kqiHu/j+Lv/AF6JhL3nf+trf18zL0G4tNU8aeI9X0B459IuLC3je7g5hurlTLuZHHyuVQxqWGegGcrgX/hl/wAks8Nf9g2H/wBAFS/8JRq//QieIP8Av/p//wAlUf8ACUav/wBCJ4g/7/6f/wDJVNaK3p+F/wDMHq7/ANdP8jgb2GXQI/E3i2xjZ4hf3lnq8KAkyW5+7KAOrRMxP+4z+1WPDXiDS/DWl6jHrt5FYPe6XZTWaTsFa7As0QiIH/WMGUjauTkrxyM9t/wlGr/9CJ4g/wC/+n//ACVR/wAJRq//AEIniD/v/p//AMlVHL7nJ5Jfcv6Y7+/z+r+9r/KxzEd5aeFJPh8PE15baSLfSJoJWvZ1iVJBFCNpZiBnIPHtV7QvFnhyHxz4hjm1/S43v57R7NXvYwblWt0CmMZ+cE8DGc1s/wDCUav/ANCJ4g/7/wCn/wDyVR/wlGr/APQieIP+/wDp/wD8lVbd5OTJiuWKSD4j/wDJLPFf/YFvP/RD1Q8DQXF18D9Ct7GXybmXQYUhk3FdjmABTkcjBwcis7x94j1Sf4beJYpfBeuWySaTdK00s1iUjBhYFm23JbA6nAJ9Aa3Phl/ySjwr/wBgi1/9FLUvUuL5XdHm3/Csfit/0O//AJVrr/4ij/hWPxW/6Hf/AMq11/8AEV7jRXP9Wh3f3ns/23if5Y/+Ao+cvFvh34keDND/ALV1TxlcSweasW231S4ZsnOOGAGOPWvbvAt9c6n4D0a8vpWmuJrRGkkbq5x1PvXKfHn/AJJof+vyL/2auj+G/wDyTTQf+vNKinHkrOK2sdGNrPE5dCtNJS5mtFbSx85+Mv8Akete/wCwlcf+jWoo8Zf8j1r3/YSuP/RrUV87U+Nn7LhP93p/4V+R9NeDf+RF0H/sG2//AKKWuP8A2g/+SE+If+3b/wBKYq7Dwb/yIug/9g23/wDRS1x/7Qf/ACQnxD/27f8ApTFX1dP4F6H4Bi/94qer/Mz/AA54q1PTfD3gvR4LvStKgm8O2UlvPqsMjJfzGNVMCSB1WNgAvXeTvBCnBz1HiHUvFNh4gsLLSdQ0eZtQuAIrKXTJTJHAuDLI0ouAMKD12csyrjnNY+geHNW8Q/CTw9p8WsWsGlX3h+zgubefThPIAYFDGJ96hSQf41fBGcdq2YfCviCx8S3eqafrumlLhIoY0vNKkmkggQcRq63CDBO5iduSW5zgAXHpf+v6/Ls9+aXl/X9fn+Db7xld2vj+LTUit20VJYrK6uSCZI7uVXeNQc4C4EYORnMq8jFWo/E14/hLxFqhig8/S5r1IV2nawhLbdwzk5wM4I/Csm4+FNnd6TqC3Or6idWvbl7w3sd3OkST790b/ZhJ5Z2bUABByEHNWo/B2ux2Orab/b2nnTtUe5eRf7KfzkMwbOH8/bwWz9zoMe9Q+bldt7P79P8Ag/KxStzJ9L/hr+en4nSHVorXw1/a+ousUMdp9pnboFATc3WuJg8eeIF8FatdX+m26a5p5gkkghhkdIreYKyylAS7hFZ9wUgkxNjGeNW68Ia1rHhltB17XbOWxcwpJ9g06S3d4UILxljO+N4AG4YI59eE/wCEBl0zXDq3hXXLqxuJLbyJ11GSbUVnCuGTJll3AL+8GFYZ39RjnSVuZ22/p/jt95EbqKvv/X/B/A2fC2pTatoou5dU0vVkdz5V7pQKxSrx/CXfawOQRuPTPGcDI8deK9U8MXWknS7OG8gkaWW+jZWMvkRqGcxYIG8KScHOcY706xSHwU15da1NdX99rFybid9K0W4eIMqKgxHEJCnygcuxLHPPYW7drXxPrWn6vZtfQLpZlVor3TZ7Yy+YgHHmqhwMdQD+FKWvw+Q1puc94h+IVxZX8kdhqOj2dg01ksepXyF4Ujnjlcu2JEBH7tcfMOvetKy8UXqah4f8/VdH1nTNYee3F/pkLInnqN0YU+bIMEJKDz94Dp0rOt/hbPpd5cz6Frcdup1CK8soLmxMsdqqLKPJwsiFlzMxHI2jA5AroNW8PaprvhR9P1HVraPU1lSe3v7OyaNYJEcMjCNpWJwRz8/IJ6ULS78/wsvx3+Ydl/V7v/gFjw5rVzrj6pO8UcdlBfSWtmyg7pVjwruSeP8AWBwMdlHXNbdUND0mLQtBstLt3aSO0hWPzH+85A5Y+5OSfc1fpvTQAooopAFFFFAHN/Ef/klniv8A7At5/wCiHrO8TeM77w741sbV7e3bQ/s6y6hOQfNt98hjWQHONgbbu4yASc8Vo/Ef/klniv8A7At5/wCiHq5deHYL3xBPqF4yTW9xpxsJbR48q6lyxJOeQQcYxS15k/62f62Do/66r9DBuPGWo20klzJFa/2fa+IF0y5bY25YXVFSQHdgESyIDxjae3WpdV8ZXVlL4le3t4Xt9Iiht7cvnNxfSDIiznGPnhHHOWPPFJonw9j0rwTq3hu71Sa/h1CSUrcSJtkiRkVEBOfmZQq/NwSRmox8ORcaHpemaprNzdJb3r6hfyxbreS+nO4q29HDRhWYEAEn5VGeKfS3p+ST+7V+rQa7+v5tr79F6EF5431Kz+Geo6vP9gg1nS7j7JeB0b7PHIJlQvt3g7SjBx83RhzUdl4/vE0rVbh5tN19YLi2t7C+0xWgtruWdggj3F5BlHI3MrNgN0yMGzN8NIVg1m10/VbqK01Y20skd08l26TROCZPMkkLHcqouCeNoI9Kvan4Gh1G61llvpLaHVPs84SKMbre7hOVuFY8ZwsQKkYPlj1NHXX+u/62+VwX9f1+fzsVdd1rxP4T8L3+q6xd6LdrAISkkVrLbrFulVXDBpX3DaxO7cuMcg1Pp/jvTta8dR6RoWqaXqVkNOkupprS4WZo3WRFAJViACGJwRnii/8AC+va5ol1p+v+ILSYTeV5Zs9MMKqUkVyzBpXLE7ccMoGTwan8ReEp9b1Ke9tNVNhLLpU2mhlg3lBI6sZAdw5AUgD1Oe2Ca3+/8nb8bB0+781f8LmHp3xA1G6sdeuLi3tEEdhNqejFVbFxbI0igv8ANycqjHGOJV+tM8N/EK6u4Lu7vtR0jWbG20k6hNdaPA0aWkijJgkJlkUsQcjlSNpyOQasXvwo04Q2w0PUb+xeC1msj9pu57xDbyRFDGEkkITB2N8uPuAdOl6+8CC4gkSC+8sXGhvo92vlcXI24jkJz8pTMnrkSEdqmV0pW7f/ACX/ANr8/Ias2r/1qv8Ag/LzMWbxd4i0yPSP7WvbewtZtNhurvULjQ7i6iEzsdyGSJ0SFVGOX7ck1p+IvFGuw6tq9v4dXTxDoenJfXP2yJ5Gui+8iJCrr5fyxn5yH5YfLwcxxaF4i8SeD7axvdUj02xvbCO2v7KXTibmM7Nkqxy+YFUNg4JR+uQSMYua14Invby8k0fVU02DUrFNPv4ntfOLxJuCmI71Eb7ZGGWDj7vy8c3PdqPd2/G36Ch0cvK/4f8AB/ra1ouuT3nii6tJnZra4sLbUbMEAeWr7ldOACcFVbnJ+f0wB0lcvpNhKvj7UJ1tJILCw0630+1d1IEpyzvtz1UAxjPruHY11FDt0/rXT8LCV+vl+Sv+NwrzUa5rGheAzL4btrW6v7jxNqNvHDdbtr5v7k7cgjBO3APQZ5Br0quI8O6P/bHh2H9/5P2LxPqN39zdv2X9z8vUYznrz9Kl3uvVfdfX8Cuj9H+Q4/ES2ZRqMKh9JGhTaq/ynzlaN1UxnnAIywIxww60k+ueLNFs7HWNe/sh7C4uIYrmyt4JEltBM4RSJmkKy7WdQ3yJkZIxjBf/AMK2sT4n1u/e6c6drVlJbT6cEACPKV82RXB43bQSMfey2eTUqeEtZu47Ox17xDFe6XZTRTJFDYeRPOYmDRiaTzGVgCoJCImSB0GVNK2l/wCtXf8AC3/AJe7/AK6K343/AOCivYaj4wl8eXOiXWqaG1vZ20F3I8ekTK8iyPIpQZuSFIEf3sHr045XxN4zvvDvjWxtXt7dtD+zrLqE5B8233yGNZAc42Btu7jIBJzxW9b6F5HjG9137Ru+1WUNr5GzGzy3kbduzznzMYxxj3pLrw7Be+IJ9QvGSa3uNONhLaPHlXUuWJJzyCDjGKnW8fnf7nb9CnbX5fpf9TGHi6+N8IfKtth8QnS87Wz5Xk+Zu+997PfpjtRrvi6/0vUNagt4rdlsI7Boi6sSTPM0b5wR0CjGMc9c1V0v4bS6T4a/s6DXZpbqDUxqNleTQBjGVUIiSLu/eDYNrHKlsk5B5qzc+CL6/wBN1Zr/AFmB9X1N7cm6jsmWCJYHDRosJlJxncTl8kseQAAHtH7vyX63J1v/AF3f6WNq/wBXntfFukaXGkZgvobiSRmB3AxhNuDnH8Rzwe1bFcjdeHPFF1qGn6k+v6Qt/Y+ciMNGl8pkkCZBT7TncCnXdjnp3rqbVbhLSJb2WKa4CgSyQxGNGbuQpZio9ix+tAyWiiigAooooA82/wCbpv8AuTP/AG9r0mvNv+bpv+5M/wDb2vSaACiiigAooooAK5H4qf8AJLtc/wCvcf8Aoa111Z2v6Nb+ItAvNJvGdYbuIxsyHDL6EfQ4NRNOUWkdGGqRp14Tlsmn9zOD+Cup2Fr8M7WK5vraGQTykpJMqkfN6E13/wDbelf9BOz/APAhP8a8q/4Z10r/AKDt5/36Sj/hnXSv+g7ef9+krmg60IqPLt5nt4mGWYitOq67XM2/hfU9V/tvSv8AoJ2f/gQn+NH9t6V/0E7P/wACE/xryr/hnXSv+g7ef9+ko/4Z10r/AKDt5/36Sr56/wDJ+Jz/AFXK/wDoIf8A4Cz1X+29K/6Cdn/4EJ/jR/belf8AQTs//AhP8a8q/wCGddK/6Dt5/wB+ko/4Z10r/oO3n/fpKOev/J+IfVcr/wCgh/8AgLPVf7b0r/oJ2f8A4EJ/jXLeMPit4d8KWxVLmPUr9h+7tbWQN/32wyFH6+1cn/wzrpX/AEHbz/v0lYHiX9n/AFKxtjceGr9dS2jLW0yiOQ/7pzg/Q4/GonUxCjpE6cLhMolVSnXbXZpr8TNi1XVfijrS3PibxTp+g6VBIGWFr1IiuDn5IywJb/bb8PSu2+JfiPRNbfwLBouq2t/JD4w05nWGUOyr84yce/evG9M0vSLbV207xp/aekSK2GkSIN5Z/wBpCAce4z9K7zXPhvp3gnUfBOs6VqkuoJf+JNPt13qoUo7bw4I6/cH51jh51G9FfvrqennWHwkYpSk4pJ8iUfd+/rf1PT9C8Vatq/izUNNnvdIs5bWeaP8AsiaCRbtIl4juAxfEqN8p+VAMPjfleZ9G1TxLL40uNNvtQ0i/0+xg3Xs9rp0lsYpmwUjDNPICduWbgYBX+9xNceFdX1DWrK61TXLaeDTZ5LiyVNOCTK5VlXzJPMIZQHOQqJuwMnqDn2HgrxNZ+GrrRG8T6d5V3HKJruLSJEuXkkzulLm4ZdxJJ+7jpjAAFeir287f1/Xp6L4l2v8AP+v6/p19O+IGo3Vjr1xcW9ogjsJtT0YqrYuLZGkUF/m5OVRjjHEq/Wui1vXrrTfBkWrwRwtcP9myrqSn7yRFbgHPRjjn0rCvfhRpwhthoeo39i8FrNZH7Tdz3iG3kiKGMJJIQmDsb5cfcA6dL8/hfX7/AMKzaNqWuaa5Ag+zTW+lSR+WYnVsupuG3g7QMAr3p9/l+v6W+Yuq+f6f8H5Gh4v1m90jSIl0VbeTVr65jtbKO5BMZdjliwBBIVA7HBH3a5rUfiDdnSfDt7Bc6fotrqkb/a9R1O3eWC1nQAGBgroEYtvAZnA/dkckitK58E6hrur2V54t1tblLBZPs0OkRT6dtkfA3l1uGckKGXAIGGOajsvBGr6FDe2nhrxDDFp11PJKtpqli975fmAF/nMyuxL72yxP3yCDjNLp/X3fr93oPr/X9f0zr7R5pLKB7ryvPaNTJ5LFk3Y52k4JGelcZeeL7lfiDdaGfEfh3SUge3WG1v4C1zd+YMkIfPTnPAwjcnv0q9Y6ppHgrTLTw6ItbuF0+BIVli0W7nVgFGDvihKH6LwOnGMVo6JZRtqWoa5BLMY9WELLDPavA8QRNvKvhgT1wVGKp/FdbErazMHT/Gt/rXiS80HSUs2vbHUHW8kcMUtrVWAUsA2TK/IUZAGCx4ADdxXJL4G8jU/7UsdR+z6muoS3S3HkZDQylfMt3Xd8ynaCDkEMFI6EHraUfgV9+vrb+vncb+J9v+D/AF8rBRRRQAUUUUAeajXNY0LwGZfDdta3V/ceJtRt44brdtfN/cnbkEYJ24B6DPINac/j5rm3e80dIXtW8P3GqR+cp3rLGwHluAeMEkMOuR1o8O6P/bHh2H9/5P2LxPqN39zdv2X9z8vUYznrz9Kmj+HdpH4s1nVBeSCx1ezkt5dPWMARvIV82RXzxu2gkY+9ls8mo1s/n/6Tp+I9Lr5fnr+BoXOv3UN14YjWOEjV5GWfKn5QLd5fl54+ZR1zx+dc54b+I95eeDdU1HXba2XUrJElht7QEC4SUfuMBiTlnzH15ZTitnS/Cepw6hpc2ua3FqEGjxstjHFZGByxTy98reYwdgmR8qoMsTjoBTtfhrBb3nh2d9RZxo8XlXEawhRfbW3xbuSV8tyWHXk1pKzlps/w/wCD/mTG6jruvxKM3jnV7fwHpOpahe6Lpl5dapJYXV5cwv8AZYQjyrv2mVSM+WOr96bqvjm80+PQAvi7woLfVGuS+svbH7LiMLtVR9qxnJIJ8w9OlbMvgu7j0Gws9N1WCG6sdUl1GOe4szKjF3lbYUEinjzcZ3dvwq2vhzULvV9J1LW9RtLmfT1uEZbayaGOVZVUYw0rkY2+pzntU6u/r+Fl+o9rf11f6WMzTfGWpTjwr9vtYYP7WF19qJjdeIUJWSMMcqr4DANk7WH1os/EniC58Or4vlbS4dCe2a9Fg0Mn2hbfYWVjOH27yMNt8vAzt3cbjZ07wL9gk0NW1HzrbRZLoW8LQdYJQVSInd0RSFzjkKOBVQ+BtYj8Nz+GoPEMP9gtbS20MDWGblImQqsRm8zaVXIGfLDbQBnPzUp3tJr5f1/XXyHC10pf1/X+XmR6r4k1jRfAOl6pe61oun3ctp5076nCzefMU3rBFGjpkn5hwWPyj5WJJGta63qB8S6NHfRPbQ6vpjSm0cLm2uI9jMucZJKyEHnH7voOcwW1n4j1TwfpK2l9b6RcGxEF7bX+nG4G/aFJAEiEEENjkqQeh4NQ6doEmmeJ/DelWkVw+m+H9IkT7XMP9Y7bI0XOME7UkJA6ZXgZFau3O7d9Puf/AALfLzvCvyq/bX8Ds6KKKgoK5v4j/wDJLPFf/YFvP/RD10lc38R/+SWeK/8AsC3n/oh6AOkooooAKKKKACiiigAooooA5v4j/wDJLPFf/YFvP/RD1H8Mv+SUeFf+wRa/+ilqT4j/APJLPFf/AGBbz/0Q9R/DL/klHhX/ALBFr/6KWgfQ6iiiigR5r8ef+SaH/r8i/wDZq6P4b/8AJNNB/wCvNK5z48/8k0P/AF+Rf+zV0fw3/wCSaaD/ANeaVzL/AHh+h7dT/kUQ/wAb/I+c/GX/ACPWvf8AYSuP/RrUUeMv+R617/sJXH/o1qK+aqfGz9twn+70/wDCvyPprwb/AMiLoP8A2Dbf/wBFLXH/ALQf/JCfEP8A27f+lMVdh4N/5EXQf+wbb/8Aopa4/wDaD/5IT4h/7dv/AEpir6un8C9D8Axf+8VPV/mQ+APCvgO98H+G7O78M6HcarLoNpezebpcbO6tGoLs5Tkls55z3q1NZfCmG3tJl8KaVcLePMkC2nhs3DuYm2yfJHCzAA8ZIxWT4M0PUtR/4Ra5tNS1PSbdfBtjGbqzhhZZG4OwmWJ1yBzgYNVrLTtS0rTPCxvJvEOnm2k1RZruw0s3M43z5TfGIJAA45zsA9MCqv7qfr+bRzv4rf1tc6+x8K/DnUblba38IaKtw1utz5M+hLC6xsxUEq8YIOVPBwfaoJNE+FsVrfXEnhrw+qafdCzuQdGj3JMSoVNvl7mJ3rjAOcjGabHrEemeMotRu4ddurW40WGFLr+xbl5HdZZCfMSOH5GwQcFV68CrOpeHEvfirpWo+Tc/Y2tHubgKmIXuISqwF+PvBZpSBkZ2g/wU1rb5/g3+i+9ifX5fkv1Zo/8ACuPBH/Qm+H//AAVwf/E0f8K48Ef9Cb4f/wDBXB/8TXSUUAc3/wAK48Ef9Cb4f/8ABXB/8TR/wrjwR/0Jvh//AMFcH/xNdJRQBzf/AArjwR/0Jvh//wAFcH/xNH/CuPBH/Qm+H/8AwVwf/E10lFAHN/8ACuPBH/Qm+H//AAVwf/E0f8K48Ef9Cb4f/wDBXB/8TXSUUAc3/wAK48Ef9Cb4f/8ABXB/8TR/wrjwR/0Jvh//AMFcH/xNdJRQBzf/AArjwR/0Jvh//wAFcH/xNH/CuPBH/Qm+H/8AwVwf/E10lFAHnfj7wD4Ps/ht4lurPwnocFxDpN1JFLFpsKvGwhYhlIXIIIyCKuXPh34Y2fiSz0G58M+Ho9TvY2lt4DpEf7xVznDbNueCcZzweOK1PiP/AMks8V/9gW8/9EPWV4n8MTeIfGMoQSWzR6Uj2d+I8rb3ST70IPQkd17qSOhpX95L+tmx9H/XVIQ6B8MBex2h8MaAJpL1rBQdGjwZ1j8wpu8vAO3kEnB6DJ4qW58L/DSzuL2C58MeHUk0+1F5dD+yYiIYTuwxITH8DcdeDxWFpena3rfgDXrq+0qfTtcj1c6hbW8ilc3EKxEbD/EjNGyhh1VqjurPXdY0CSa10SdNQ8V6mr3MF7uhW3sYR8sczbGMe5I8Y2k5lbjrT6fd+KX63+SFf9fwb/S3zZsNovwtXwoPEn/CMaCdKZQwmXRELcttA8sR787uMYzntRY6N8Lb+yvrpPDGhW0Wn83f2/Q1tGgG3cGZZY1YKRyGxg4PPBrC1DTfEY8L+K9Cu9Jkt3uLuC/sf7NZ7qJVlmUyKjtGuWV1dypTgODyKtap4e1mNvEFs8V7rV2txp2oRXkyKDfW8Moc23yhYhIpSTACrkSLnkk0df6+f3a/cC/r9Pv/AFLcdl8KXtZ7iTwppVtHAEZxd+GzbsVdgisqyQqWG4gZUEDIzitdvBnw7XWY9Kbwn4fF7JA1wsX9kxcxqwUtnZjqwGM55rP8Yaq3i3wNqVlomm60sv8Ao7b5tLlgYHz0OFWVAWIALEhWUY5NVtQsdb8N+MptXW41nxIYtAuFhMtrEf33mx7Il8mJBk9ecnAJ6A0ddfP8mw6fd+aLdvo3wsu01d7fw34eddFZlvyNHj/clQS3/LP5sbWGVzypHUYpmjaR8LtelkisPCejpIkAuNl34e+yloj0dRLEu5fdcgZGeormn0DxZoGnrHd6LDKl9olzpt3JplzJdvNcFHlSWRPJTblzKMgtzKBVx9C1rTtLu47h9Q1Oe78Jyw2V1PEFNjIqDfAwjRVG4mMqWXcfLYEnAqZOyb7L8fe/yT9H3GldpLr+V1/m/u7F+K3+FsqWOPBdi0l9bLdQxQ+GDOwhYkK7eVEwQHGRuIq1rek/Czw9drbat4Y0KKUxec4j0JZRDFnHmSFIyI0zn5nwODzwaytX+w3fh+ym0Cy8Qx+If7It49KudOS6S3fKhog7p+4KKx+YS9s8YIzc8QxX+n6x4k8/Tby+k13RYbW0eytJJUadRKrRsygiIZkU7nKrhjzwauacbpa2b+e9vn3Jg+az72+W1/z0Naz8IfD+91S9sIvBmhLNZiNm3aXb4kSRcq64B+XhhzjlT2wTf/4Vx4I/6E3w/wD+CuD/AOJqjokDWvxBNoXDy2nh61iumBzlvMk2f+gyH8a7Kh26ef4Nr/ggm+vl+KT/AFOb/wCFceCP+hN8P/8Agrg/+Jrn/BfgHwfdaDcyXXhPQ5nXVtSjDSabCxCpfTqq5K9AqgAdgAO1eiVzfgP/AJF26/7DWq/+nC4pDD/hXHgj/oTfD/8A4K4P/iaP+FceCP8AoTfD/wD4K4P/AImukooA5v8A4Vx4I/6E3w//AOCuD/4mj/hXHgj/AKE3w/8A+CuD/wCJrpKKAOb/AOFceCP+hN8P/wDgrg/+Jo/4Vx4I/wChN8P/APgrg/8Aia6SigDm/wDhXHgj/oTfD/8A4K4P/iaP+FceCP8AoTfD/wD4K4P/AImukooA5v8A4Vx4I/6E3w//AOCuD/4mj/hXHgj/AKE3w/8A+CuD/wCJrpKKAOb/AOFceCP+hN8P/wDgrg/+Jo/4Vx4I/wChN8P/APgrg/8Aia6SigDy3T9NsdI/aYjsdKs7extIvBh8u3toljjTN8ScKoAGSSfqa9Srzb/m6b/uTP8A29r0mgAooooAKKKKACiiigAooooAKKKKACiiigAooooAytc8MaJ4lhSPXNNgvBGfkaRfmX6MOQPbNcJ8Z7C0k03wJp8lrC9k3i7T4Gt3jBjaPEi7Cp4K44x0xXqFebfGT/mQv+xz07/2pSsr3LdSbioN6LoWbfSfhbdarLp9t4V0aWaN3iLp4fzC0iAlo1l8rY7gA5VWLfKeODUdjp/wt1DVo9Nj8HafBdyRPMiXvhZ7UMiY3MGlhUYG4d+4pLKSfS/GAXwzBr0VrcXc0uq6beae/wBlhGGLTQysuNzOFISN3Vt5O0ckUrWSXxZoniIvaata+I9csZoLeO80q6gjs4gjeXD5rxhAcncxDcsxxkBaL6X8v6+X6X6isua3n/X9foXLK0+E2oXtvbW3hnRv9Lcx2s8nh7y7e5YZOIpmiEcmQCRtY5AyM0R2fwol1n+zF8LaQs5umshI/hwrAZxnMYmMIjLcHA3cngVJqV+/ifQdN0HTdE1S0vY7uzkmFzp8kEVksMyO5Err5b4CFVEbNnII4yRzX2LU11q6ihXXprpfFJu4NMl0thYPH5wzM0/lDohZx+9xuVflPSqS9/l/reP+b+71I+xzdf8AgP8AyX9WOwl8NfDODxJBoEvhjw8up3EJnjg/siL5kGed2zaPutwTk7Tjoa0/+FceCP8AoTfD/wD4K4P/AImuG1Gz8X3cuo+KbbQImaHVEvLQSXMiXv2a3zH5S2/kkEyIZiAXBPm/hXrcbiSNXAYBgCAykEfUHpSWsb/1/XT5Dejt/X9dfmeeGx+FRvZ7WPwnpU0kDvGzQeGmljd0GWjR1hKyOMHKKS3ytxwcTaPovwy1zUZ7Cx8H6Yl1bxLNLDd+GjasqMSFb97CuQSp6ehrOn1G58Na5cXXhXTvEk8DTz3Gp6LLpsjQA7WJkglK43vIFwsbup3k7RyQ1L+9bwTqkOjWmq3HivWmUXFxPpN1axxySkJkPLEAI4lPHU4XOMk5Su1df0/8huyf9bf5l1LT4SS+FbnxHF4f8PvpVq5SW4XRFJU5A+55e453LjA5BBHBzVnVND+FujeH49c1Dw34dTTZQhjnTR45N4cZUgLGSRjnpwMk8CubvNG8Q6W9/pj+H44bHUYrGSCPS5pLyOOS3miRtxMSbS0WztgiInNR6r4b1qfSNc0OTT7qWw8PWt1/ZTLCSLozg+UIwPvGKMvH/wACFUrN2/rTf7+gul/612+7r+h1uueG/hl4bs4brWvDHh61gnmWCNzpETbnbJAwqEjgEk9AAScCtP8A4Vx4I/6E3w//AOCuD/4msHxZpuueJPFQsrPRre70uy06SOQ6hcvaxyTXClCY2WKTeUjDA8ADzOua6PwTc6nP4PsU1+CWDU7ZTa3XmqR5kkZKGRSfvK23cG7hqS1X9f1/w6F2/r+v+ARf8K48Ef8AQm+H/wDwVwf/ABNH/CuPBH/Qm+H/APwVwf8AxNdJRQM8n0rRfhzoPg+fVPFHh/QooP7b1C2E8ulRybcX06ovCEhQqgeihewFb+qeHfhlo3n/ANo+FtBjNvZvfSBdFR9sCEBn+WM5xkcDms6DTm1PwrY2/wBka7h/4S6/M8YjLr5f2+6DFh/d55zxzR4Z0XVLLx5PomrWdxcaVYaRJa2d/IhMdxbvIhSJm6eYgDIR1IUN3pK7uvX8I3/MJWWvp+Lt+Rs3Hg/4c2r2KT+FvDobUJfKtQNKhbzW2F+MJ02qTnpgVDpfhr4Z61d6hbaZ4Y8PTzabMYLpRpES+W/IxkoN3IIyMjII6g1g6RFremxzy3mkX9w3g6wmsdLzEzNfys21JEGPm/dJEC3QF39DU3hfRvE/hfxFobanpVt9nubNrC/uNPu5LkvNlplnlUwoEG8yjOWGZQKenT+u35fivMWqWu/9X/ryZa0ex+FOu3sNrp3hXSDJcK7QNP4cMEc4T73lvJCquR1wpJxk9BTZ7b4S2886S+GdF8uAusl0vh7dbhkBLKJxF5ZYYI2hicgrjPFZvhHw9rOmW/hObUTqV1AyXMK200AX+yZnV9kuERTsKh0Jk3YLrgjJq3ZX89j8K28Iy6HrH9sW2lSWLxxadKYXZYmXzFm2+WytjcAG3HdjG7ipk2otrdf1/l95aScrP+v6/T0No+FfhuJNNQ+FfD+7Vc/Yx/ZEX73CFz/Bx8oJ5x+dMl8NfDODxJBoEvhjw8up3EJnjg/siL5kGed2zaPutwTk7TjoazLLw3rFlrXgW4udT1fUooA/nQ3NvAEtM2rAZMcKMOfl+Yn86zNRs/F93LqPim20CJmh1RLy0ElzIl79mt8x+Utv5JBMiGYgFwT5v4VpJJTt0/r/AIczi2436/1/wxsRWXwpm1g6YnhXSBP9qaz8x/DhWDzxnMfnGHy93GAN3J4HNSXOkfDK0nvIp/B2kk2lwtq3kaCk7SStGJNiJHGzsQhBOF4/A4yLTRNWink1addUuNPHil7iTR3twoMbSYjuEAQSHa5VyGZl2q3GQMXbDxBdeGdA197bS7zUdSk8R3UQS3tZZhGXbckkojVmCCMpyASeAOtRHZX3tf8A9J/z/rUp76bXt/6V/kv6sWm0v4VL4ft9ZHhrQXs7qXyYPL0NXlkkyR5YiEZkLgq2V25G05AwadaaL8M9Qk00WXhHQ5otSMqQzf2RCgWSMZaN1ZQ6vw3yleNjA4OM0YbKPTdN8LanYwapfWumalcTai76XcR3DSTRy75hbsnmEeZJ0VTgNxwppYIJo4dElngltp9S8WS3lrBOhSRImWZiWU8qTGGJBwRuwQDwK+1b+un+bfyE9r+v6/5L7zqP+FceCP8AoTfD/wD4K4P/AImuf8feAfB9n8NvEt1Z+E9DguIdJupIpYtNhV42ELEMpC5BBGQRXolc38R/+SWeK/8AsC3n/oh6QzLufDvwxs/ElnoNz4Z8PR6nextLbwHSI/3irnOG2bc8E4zng8cVBeaP8LLGGWS48M6CTFdmyMUWiJJK8wUMUSNYyznac/KDxk9jU3ifwxN4h8YyhBJbNHpSPZ34jytvdJPvQg9CR3XupI6GuZ8NtrdrrkXinxD4f1CBFvb2K7t4bV5ngkkS3AmSNQWkjJidQyhjhgemSFD3t/P87L+vR+QS0enl+V/6+ZtJYfCyXT5ruHwhp0q28whngj8Lu1xCxXcN8Ah8xARzkqB055qz4f0D4aeKLU3OjeDtLkt9quss/hw26SK2cFGliUOOP4c9vUVb0ZZ9V8Wa1r8NldWlhPp8FnB9qgaCS4eNpWZ/KcB1A8wKNwBPJAxgm98PLW4svhv4ftr2CS3uIdPiSSKVCjowUZBB5B9qpbO/l+v+X4g/L+tv+GMay0P4W6hd6ta2fhvw9JPo7bb6P+x4wYeCe8fzD5TyuRwRU2n+GfhpqsM8th4X8PypBGkkh/seNdqvGJFPKDOVYH/69c/qeg6rZWet+ItI0+4k1GDULyOS1WI77+ykxuVR/EQQHTHUqR/Eal0K4u/C2nX0Oo6NqskmoaZZtaLa2Ms2+RbVYmicopETBlH+s2j5s54OM7twv1svvabHpz26Xf4NI27bwv8ADW7Omi38LeH3/tSA3Fn/AMSeMebGApLcpxw68HB5qxb+Cvh7d3t3aW/hLw+89kypOn9kxDYWUMOSmDwQeKyvJn8LSeB/7StL2ZNO0yW1uXsLKa78uTy4QAREjHBKnBxjirWja5BaeMtbe4sdYSPVJraS1k/sa7KMvkIvzMI8Jg8EPjHfFaStzNImLbimyp4+8A+D7P4beJbqz8J6HBcQ6TdSRSxabCrxsIWIZSFyCCMgitz4Zf8AJKPCv/YItf8A0UtSfEf/AJJZ4r/7At5/6Ieo/hl/ySjwr/2CLX/0UtIrodRRRRQI81+PP/JND/1+Rf8As1dH8N/+SaaD/wBeaVznx5/5Jof+vyL/ANmro/hv/wAk00H/AK80rmX+8P0Pbqf8iiH+N/kfOfjL/kete/7CVx/6Naijxl/yPWvf9hK4/wDRrUV81U+Nn7bhP93p/wCFfkfTXg3/AJEXQf8AsG2//opa4/8AaD/5IT4h/wC3b/0pirsPBv8AyIug/wDYNt//AEUtcf8AtB/8kJ8Q/wDbt/6UxV9XT+Beh+AYv/eKnq/zJfANn4xb4beGms9d0OK3Ok2pijl0WZ3VfJXAZhdKGIHUgDPoOldB9h8b/wDQw+H/APwQz/8AyZXHeBkfxFpnh/RL28vraw0/wrpl0kNndSWrTySoyljJGyuVURgBQQMsScnbi/4n07UdF1CG+vbjX7/w9Z2IQzWGpNHcWUisS08qAr9oXbt6+YRsPyNuJN9rnPbVpf1t/mdF9h8b/wDQw+H/APwQz/8AyZR9h8b/APQw+H//AAQz/wDyZXL3Ws3r/EiSK31C5Nm2pacqRrMwQo9tOzDbnGGIUkdyB6V1UVzOfibc2pnkNuukRSCHedgczSAtjpnAAz7Ulq7ebX3K4ul/JP73Yb9h8b/9DD4f/wDBDP8A/JlH2Hxv/wBDD4f/APBDP/8AJlcb8RfG8Gl+KyqeIYdObw9bx3sli96sJ1BnkGYthYF8RI+Bg/NIp61fmu28R6h4hv7r+2r210m4jt7TT9G1E2ZMbQRymcsJYt5PmH7zYAX5Rkkkvpf+u39feO2tjo/sPjf/AKGHw/8A+CGf/wCTKPsPjf8A6GHw/wD+CGf/AOTK57SrpfG2rWFo2patHpMWhWuoRIt21rcXTTFwHlkhKnKhOVVgpLkkHAxm6hresaFZ3tlp8moax/ZHiKC3tU+0/vriN7dZfIeRjl8M+MtkkYzuI5cvddn/AFrYW+39aXOz+w+N/wDoYfD/AP4IZ/8A5Mo+w+N/+hh8P/8Aghn/APkyn+CW+1eGodUbVZNUl1L/AEmSYlhGrEY8uOM/6tVxt29cg7ssSaz/AB1YavcXWm3VpDqV9pVuJftthpWoNZ3DkgbJFZXTeFwwKb1zuB5IAol7rswWuxd+w+N/+hh8P/8Aghn/APkyj7D43/6GHw//AOCGf/5MrmtbhsvEtho0Hh/VdafUdWtk8q7j1S6t/It1A33EkSOibxnABXl2AIwDjP8AH3jK30TxIkEXiNLE+GrSK7ks5r8RvqTO65jILZkIhR+MH5pFPWjrZ9/6/rvoHTT+v6/4J2v2Hxv/ANDD4f8A/BDP/wDJlH2Hxv8A9DD4f/8ABDP/APJlcsniKfTfidfancalcSaBcSRWbRtKWgty1ss0UoB4XJDqSOpdaraJ4rvdGg8V+I9eubhojp1vqcNpNMdkAkafy41VjhCVWINjALZNK/ut9v6t92obtJdf6v8Aedl9h8b/APQw+H//AAQz/wDyZR9h8b/9DD4f/wDBDP8A/Jlc/wDC7X4p5tR0BvEcPiKa1SG7W9jvBc5EqYkTcCcbZVfA7K6jpXolU1YSdzzvx9Z+MV+G3iVrzXdDltxpN0ZY4tFmR2XyWyFY3TBSR0JBx6HpXQfYfG//AEMPh/8A8EM//wAmUfEf/klniv8A7At5/wCiHrA8YXetWXj+C/0e4u5YtL00XdxpkTkpdxGUrINmcGQL8ynrlQO9TdXSfX/Jv9B20b/rexv/AGHxv/0MPh//AMEM/wD8mUfYfG//AEMPh/8A8EM//wAmVy9j4hl1GS2vLPVJprO58ViOF1mba8DWu5UHP3SSDt6Zp3jK9vXvPFdpb6leWyrbaWkbW1w0bQGS4dXKEH5WK4yR14o15b/1sn+orq9v63a/Q6b7D43/AOhh8P8A/ghn/wDkyj7D43/6GHw//wCCGf8A+TK4HxH4m1e+8BDSob66tdX0u3uZNVuYZGikBtvkUhlII8xyjj1Td61veJfPu/iGto1j4h1K3TSY5RBo+rGzEbmVwXb/AEiENkAD+Lp2p9Vbrt917/gPvfp/na34nQfYfG//AEMPh/8A8EM//wAmUfYfG/8A0MPh/wD8EM//AMmVwHiS7voPFXiBLeTXY2tZrCGyvl1WRbOxd1QAzR+b84LHkmNwc/MRkkbOu6/qmn634qjtb6aIfaNJtYpCd62Ynfy3kVWyoOGzyMZAyDRulbq7B1Om+w+N/wDoYfD/AP4IZ/8A5Mo+w+N/+hh8P/8Aghn/APkysbxdpK+GPA+qvpeo6qzXqRWRF3qE1zsMsqxeYplZmRgJD90ge3AqzfW8+m/Evw3FbaheCzuLe6T7D5gWCNY449oCKBnnJy24jPBA4o0An0/QfF2lafDY6frnh6G2gXbFGNCnIQegzedPQdulWfsPjf8A6GHw/wD+CGf/AOTKb4YJtfEnifTUwIIr1LmJQMbfOiVnH4uHb/gVdNRvqByFt4e8WWl/eXtvrfh9bm+ZGuJDodwS+1dqjm84AA6DA5J6k1b+w+N/+hh8P/8Aghn/APkyukooA5v7D43/AOhh8P8A/ghn/wDkyuf8F2fjFtBuTa67ocaf2tqQKyaLM5Lfbp9xyLocFskDHAIGTjJ9Erm/Af8AyLt1/wBhrVf/AE4XFAB9h8b/APQw+H//AAQz/wDyZR9h8b/9DD4f/wDBDP8A/JldJRQBzf2Hxv8A9DD4f/8ABDP/APJlH2Hxv/0MPh//AMEM/wD8mV0lFAHN/YfG/wD0MPh//wAEM/8A8mUfYfG//Qw+H/8AwQz/APyZXSUUAc39h8b/APQw+H//AAQz/wDyZR9h8b/9DD4f/wDBDP8A/JldJRQBzf2Hxv8A9DD4f/8ABDP/APJlH2Hxv/0MPh//AMEM/wD8mV0lFAHN/YfG/wD0MPh//wAEM/8A8mUfYfG//Qw+H/8AwQz/APyZXSUUAeW6el9F+0xGmq3Fvc3Y8GHzJba3aGNv9OOMIzuRxgfeOTzx0HqVebf83Tf9yZ/7e16TQAUUUUAFFFFABRRRQAUUUUAFFFFABRRRQAUUUUAFeZfG1Z2tfBC2ckcVwfGFgIpJYy6K2JMFlBUsAeoBGfUda9Nrzb4yf8yF/wBjnp3/ALUoA6X7D43/AOhh8P8A/ghn/wDkyj7D43/6GHw//wCCGf8A+TK5/wAMrNe+MtVmurHxFP5Oq3Ecd8NXIsolUcIYPtAzjp/qiMkfUY/h17tvh7fatJa+Job0aRcyjU7vWmlt5X2tgpF9pYqe4JjXGOxxUOVoc3lf8LlKN5cvnb8bHcfYfG//AEMPh/8A8EM//wAmUfYfG/8A0MPh/wD8EM//AMmVwei65qOjadq1/bJq1u1l4aF9JZ61qL3bXE2CUnjzJIFT5XDAMDyuVGATu6npkvhnQ9L16z1zVrvUTeWiTm4v5JYr0TSpG6+SzeWmQ5K7FXaQMcZB15fet8vxa/T+noQndX/rZP8AU3/sPjf/AKGHw/8A+CGf/wCTK51Ph14ijmWVfFillYMAz6qy5z3U6lgj2PFY2reKtctvBXjNILDWpTBqN2kOqxXUIS2UOMAbphKAvoqfStgJNqHxH1iK4sfEl9DBParHLYaw1vbWoMKE74hcR7uSWOEbI9elTHWz72G+q9fw0Oj+w+N/+hh8P/8Aghn/APkyj7D43/6GHw//AOCGf/5MpvhZ5tT0nWory5uHzql7AriZg8aCQgBWzlcDpjp2rH8GNr1/r8lprN1OYPDKtYNJ53/IRmYBllcA84hMZ+b+ORv7oNEdbeaT/D/hl8wel/J2/E2vsPjf/oYfD/8A4IZ//kyj7D43/wChh8P/APghn/8AkyukooA5v7D43/6GHw//AOCGf/5Mo+w+N/8AoYfD/wD4IZ//AJMrpKKAOb+w+N/+hh8P/wDghn/+TKPsPjf/AKGHw/8A+CGf/wCTK6SigDzvwXZ+MW0G5Nrruhxp/a2pArJoszkt9un3HIuhwWyQMcAgZOMnoPsPjf8A6GHw/wD+CGf/AOTK4+8ivrrwHb2Wl6ndaXPd+LL+EXVrIUZM391jp1GQMqeD0NEni3UNUOpiSWax1Cx8OXqX1rHIyiC8jZPnXn0IZW67WBzzU82jfa/4K/8AwB21S72/F2Ow+w+N/wDoYfD/AP4IZ/8A5Mo+w+N/+hh8P/8Aghn/APkyql5f3AvvA6x3coF3K3nBZD++H2SRvm/vDdg898GuM8L+J9Y07wjcaZcX11eapqUMM+kT3chkYtcN5RXcTkiOQFyOysKuSak49fzZMWnHm6HffYfG/wD0MPh//wAEM/8A8mUfYfG//Qw+H/8AwQz/APyZXFGe+X4d+H7drjWtSZtfmtJBbai8V1cxrJcAL5xkQ9EXq4+7U2vrNa3nhezi0zxZ5E4vZJ9Mj1xvtbFVXaWm+1fMB1C+aevTORUtrV9nb8E/1Gui/rr/AJHX/YfG/wD0MPh//wAEM/8A8mUfYfG//Qw+H/8AwQz/APyZXL6Lq2oiHwE76jPdpdRXsjhZnYzIImaJJCQC7qNoJYZ3AnrT9PMp+Gq+PbjVdTl1U6Y+puq3sgt8+UW8kW+7ygo+793dxktuyaJPl5n2/r9AiuayXU6X7D43/wChh8P/APghn/8Akyq1voPi21vbq7t9c8PRzXjK07DQp/3jKoUEj7ZjO0AZ9APQVnXum6fpvw30o6nqWqxC2skjji069lgku7l1GMGMh5HLZwpJBLEkHqJdLj1PTPEXhM6zIsupXujyWmouMHzJYwjhsjrgmX/vs1TVpNPpp+f+X4oSd0muv/A/r5Gr9h8b/wDQw+H/APwQz/8AyZVSfw94sudTtNQn1vw+91Zq6wOdDuP3e8AMQPtmMkADOMgZA6nPX0UhnN/YfG//AEMPh/8A8EM//wAmVz/j6z8Yr8NvErXmu6HLbjSboyxxaLMjsvktkKxumCkjoSDj0PSvRK5v4j/8ks8V/wDYFvP/AEQ9AB9h8b/9DD4f/wDBDP8A/JlH2Hxv/wBDD4f/APBDP/8AJlYHjC71qy8fwX+j3F3LFpemi7uNMiclLuIylZBszgyBfmU9cqB3rN0vWZfFnigaVFrF2NHvry7u1ltbp43mijjtjHEkikMiZmLnaVPGOhIJH3tvP8Hb/P7gl7r1/rS/9ep2P2Hxv/0MPh//AMEM/wD8mUfYfG//AEMPh/8A8EM//wAmViQaUv8AwkmteGZNS1efTrezt9RgP9q3CzW8jmZGTzlkEjIfLDBWYgHPbAF74X2YXwDpOpS3eoXd3qFlDLcSXuoT3O5tuSVEjsE6n7oGePQU1qm/66/5MHpp/X9al37D43/6GHw//wCCGf8A+TKPsPjf/oYfD/8A4IZ//kyuMj1vVNC1fxBfX2oXU+kahfXNhGZJWYafcKP3O05+RHzt44DhP71a/gfVLy60rWHvL6eZobKzdWlmLFC1lGxYZPGWySe5yajm9zn8k/vVx299Q9fwdv69Dc+w+N/+hh8P/wDghn/+TKPsPjf/AKGHw/8A+CGf/wCTKxtA1G9mfwD515cSfa9GkluN0rHznEUJDPz8xyScn1Nbeg3M83i7xRDNPJJFBcW4iRnJWMGBCQo7ZJJ471clyycSYvmimc74+s/GK/DbxK15ruhy240m6MscWizI7L5LZCsbpgpI6Eg49D0rc+GX/JKPCv8A2CLX/wBFLUnxH/5JZ4r/AOwLef8Aoh6j+GX/ACSjwr/2CLX/ANFLSK6HUUUUUCPNfjz/AMk0P/X5F/7NXR/Df/kmmg/9eaVznx5/5Jof+vyL/wBmro/hv/yTTQf+vNK5l/vD9D26n/Ioh/jf5Hzn4y/5HrXv+wlcf+jWoo8Zf8j1r3/YSuP/AEa1FfNVPjZ+24T/AHen/hX5H014N/5EXQf+wbb/APopa4/9oP8A5IT4h/7dv/SmKuw8G/8AIi6D/wBg23/9FLXH/tB/8kJ8Q/8Abt/6UxV9XT+Beh+AYv8A3ip6v8zN8M6v8OtR+H/hIa14n0q11Gx0e2g3w679juIv3KB42aORXxkcqTjI6ZFalxc/CW5SOOTxNowhSJYnhj8RbI51BJAmRZQs3U58wNnJznNR+FvGUuheA/Bdg/hnWLz7ZpdnBaz2z2vlzP8AZQ5Ub51YYCtywA478Z6W58c2lna6rJc6dfpNpMVvJcW2Ii+Zh8qKRJtLA8H5sehI5q9lc5utjD1DU/hXqc8s9z4o0VJppIpWlttfEDholZUKtHKpXCsw4xnPNQyXXwsklilPjW2E0UXkiZPGEyyMm4ttZxcbmALHG4nHaugg8eWjarFpeoaZqOmalLPHELS6WIttkVykm6ORkKExuOGJBHIGQav3vinTtOn1dLzzYk0ezS8updmV8tt5+XGSSPLbIx6daWiXN/X9WDrymLZeLPhvp/237L4p8PD7fKZrovq0TmZyoXLFnP8ACoGOmBWQ0nwjMFvFD4n0i0FvbLao9n4kNu7QrwqO8cytIo7BicZOMZNdroety6zE7T6NqOlMqq6pfCL94rZwVaN3XscgkMOMjkZ1abXRgn2PPrrVPhXd29jD/wAJPolsNPhEFrJY68LWSKLAHliSKVW28D5ScEgHGQKnt9f+F9rY2tpB4l8PJDa3Iuo/+JvGWMwz+8Zt+52OSSWJJPJzXdUUX1uHSx55P438K6JJNJ4R1vwfMb6dri7W78SrbKJCB8yqqSDLclsBcnk5JJqBvE/g3xIPN8WeIvDdhcRAxxNpHi9wXjPJV3TySRkfdO4d69KooHc82ln+E8l2lzD4r0yxkS3jtVGn+J3tFESZ2JtimUYG49u5rU07xR8NdKhu47PxToGL2TzLlpdYjlaZtoTLM7kn5VA5Pau1oo3Eebif4Qf2BcaI2veHX065WFZYH1pGDCIKIxkyZGAijg9qu3mvfC/UL1rq88S+HpZmeB2J1iMBjAxaLKiTHysxOMc8ZzgV3dFAeRx0vjH4dTazb6tJ4r8Pm+t4XgjmGrRAiNypZSA+CMop5zjHFXf+Fj+CP+hy8P8A/g0g/wDiq6SigDzvx94+8H3nw28S2tn4s0Oe4m0m6jiii1KFnkYwsAqgNkkk4AFa3/Ca/D3+1v7T/wCEt8P/AGvyPs/mf2tF/q927GN+OvfGatfEf/klniv/ALAt5/6IepdS8ZabpXi/TvDt6lwlxqKFobjYPJDchUZs5DNtOOME8ZyQKOqXX+v0DozmoL74SWui3Gk22v8Ah2GyuLo3jRx6wilJiQ3mIwk3RsCAQUI244xUsGr/AAtt9NuLFfFOiSxXMyTzvca8JpZXQqVLSvKXbGxcZbgDHTit9vGVgl9HbvBdAPqh0ozFV2JN5e8Z+bO1uFBx94gEDrUt94s07T7jV4pxMRo9kt5duqgqqsHIQc8uQhOPcc80dL/1sn+VvwDd2/re353Ocm1n4VzzaxLJ4i8OGTW0SPUGGrxgzqq7VBIfjAJHGKTVNZ+GWsakt/deMtOiulhEHm2fiZrUlASQp8qZc8knnPWtt/G9gngc+J/sl61up2NabEE6yeb5RjILBQwfg/NjjrRD43sVtdTl1izvdGl0wRme3vFR5CsnEZTyXcPuYFQASxYYx0yP8gWvzMiXXvhfPbanBP4n0CWPVolhvRJrSMZlCbBkmTIO3jIwe+c805/EHwvlGoCfxJ4cmXU4khvFm1aJxMiKVUEM5HAJ561pS+NRZabc3useHtY0yOARkC4SFvNDuEG0xysoILDIYg46A1rPrVuniaLQykv2mW0e7VwBsCK6oRnOc5YdvXmjfTuF7a9v6/yOA1Cb4ay+HNT0/T/GukrcXlv5Udxe+IjdNCVO5MGWViqhwpIXGcVaudU+GuqarbaxqnjHTf7ThUENb+KpI44mwAwRFmVQDgZ+Ubu4roLPx7pV9Dr0kMV0F0MO025FHnIhcF4vm+Zd0UignHKntzS6R42ttSlaO90zUNHY2X2+I3/kkTQDG51MUjgbcrkNg/MOKL9f66v/AD+4LdPl+X/AMXQPF/hHTr7Wr2/8b+G5J9SvjMoj1WEiOJUWONeWHO1AT7sevWtv/hY/gj/ocvD/AP4NIP8A4qq1n47kvTp8Vt4b1O6uLyxjv2S2kt8QRSMQm4ySJk8ZIUHHvVnXvG1poOoTWh07UNQa0tReXr2UaMtnCSQHfc6k52udqBmwp46ZNtH6fdp+gbvT+r/1oH/Cx/BH/Q5eH/8AwaQf/FUf8LH8Ef8AQ5eH/wDwaQf/ABVX9P12O/1y+03y1RreKG4hcOT50MoOHxgY+ZHGOegOecDVo2A5v/hY/gj/AKHLw/8A+DSD/wCKrn/Bfj7wfa6Dcx3XizQ4XbVtSkCyalCpKvfTsrYLdCrAg9wQe9eiVzfgP/kXbr/sNar/AOnC4oAP+Fj+CP8AocvD/wD4NIP/AIqj/hY/gj/ocvD/AP4NIP8A4qukooA5v/hY/gj/AKHLw/8A+DSD/wCKo/4WP4I/6HLw/wD+DSD/AOKrpKKAOb/4WP4I/wChy8P/APg0g/8AiqP+Fj+CP+hy8P8A/g0g/wDiq6SigDm/+Fj+CP8AocvD/wD4NIP/AIqj/hY/gj/ocvD/AP4NIP8A4qukooA5v/hY/gj/AKHLw/8A+DSD/wCKo/4WP4I/6HLw/wD+DSD/AOKrpKKAOb/4WP4I/wChy8P/APg0g/8AiqP+Fj+CP+hy8P8A/g0g/wDiq6SigDy3T9SsdX/aYjvtKvLe+tJfBh8u4tpVkjfF8QcMpIOCCPqK9Srzb/m6b/uTP/b2vSaACiiigAooooAKKKKACiiigAooooAKKKKACiiigArzL423MFna+CLq8mjgt4fGFhJLLK4VI1AkJZieAABkk16bXm3xk/5kL/sc9O/9qUAbdl41+HunC4Fn4t8Px/aZ2uJf+JtEd0jfePL8dOg4rGs7v4VWFvLb23jCw+zSwvA1tJ4qkkh2OCGAjacqOCcYAx2xW4/j61i1CaO40jU4bCC+/s+TVGEJt1mLBQCBIZACzKu7ZjJGcDmpLzxxHBc3y2Gh6vqtvp7FLu7so4jHE4GWUB5FeQqOojVvTrkUtGvK34f5Wa/Aeqfz/H/MoDxN8Mxc2dx/wk/h0yWVq9nCTq0RAhfbuQjfhgdi/ez0+tULC9+FGm3cFxbeJ9GP2Zt1tDP4h86C2PYxQvKY4yASBtUYBIGBxWxqHj+Ozn04Wfh/VdTttVZVsLyze18q5LRmQbd86sPlVuWUDj6Zual4ystHvtGs9StLyG41YgCPajfZcsi/vSrED55ETKluT6c1Wt/P9SdLeVvwMaTX/hhLpOoaZJ4m8Pmz1KV5rqP+2Y/3jucsc+ZkZPoRUFxq3wxudYl1Q+M7CG6mZGlNr4peBJCgAUtHHMFPAA5HPeuiv/Fi2+rzaZpej6lrd1bKrXS2PkqtvuGVVnlkRdxHO1SSBgkAEZkbxXYxajZWl3FdWf22ye8iluYvLTCAF42ycq6qdxUgcA+hqdLX/r+tB/195zdprPwysdYk1K08ZadFPJM87xr4nbyGd87iYfO8vnOfu9ea0bTxr8PbG4vJ7Xxb4fjkvphPcN/a0R3uEVM8vx8qKMDA4roNF1WPXNFtdTt4Z4IbuMSxpcKFfYfukgE4yMH1wecHir1PVaBe+pzf/Cx/BH/Q5eH/APwaQf8AxVH/AAsfwR/0OXh//wAGkH/xVdJRQBzf/Cx/BH/Q5eH/APwaQf8AxVH/AAsfwR/0OXh//wAGkH/xVdJRQBzf/Cx/BH/Q5eH/APwaQf8AxVH/AAsfwR/0OXh//wAGkH/xVdJRQB5j4Y8W+BJtBMereJ9DV7fXdQvIFk1SJCCb6do3xvGQVYEdiCDWqviH4Xr4iuddXxH4b/tK7tha3E39qxfvYgchWXftP1xnHGcVBYeK7Lwd4DuNT1KC6nhOv6nEVtYw7jN/cndgkcAAk4yeOAa6S+8W6dYvID5s6JpkmqCSAKyvCmM7TnknII7e9K6tf1/LX8PwHre39b/5/ic1pOq/CzRLxLnT/FOiiSKMxQCbxAJkt0OMpEjylYl+VRhABgAdAKfDrPwrt7jSZ4vEXhwS6MsiWDnV4yYA4wwGX5yPXNdVLr9rDNpEbRzE6uxWDCj5SIml+bnj5VPTPP51m6F490fXvDN9rkQuLS1sC/2lLtAjxhVD7sAkYKkMDnkGm9Hr0/r9RLXbqY1zq/wuu9Ki05/FWjR28Ny13F9n18QukrMzFhIkoYZLt3xzUlp4g+GllPZzJ4w0maax8z7PLdeIftDp5gAf5pJWJBwODnHbFaMfj22n8M6drFtpGpzNqF21nDYhYVnEqlwQ26QIMeW38VPu/Gc1nJp1vL4X1k3+oGXyrJXtPMVYwCzM3n7MYYYwxPtRtcN7f1/XUy7XXvhfZ3FtPbeJvD8clrPPcQEazGRHJOSZSAZMfMWPHQZ4AqhJN8JZHnP/AAk+jLHOZGa2XxD/AKOGcEMwg83yg3zE5C9TnrzXVWPjPTr86KsUN0jawZliWRFBheEEyJJzwQVK8ZGR1xzUNt43t7xhcW+k6m+kEsF1gJH9mYKDlgN/m7Mgjfs2nrnaQaUrapjV90cpDd/Du/0fQo/EnjPRptR0a38iG6sfEZtiPlCFgY5VOWVRnOepGfW3b+IvBlv4qsL1fHOhNp+m2ElvbpNriTzNLK6l2d5HLEBUUAlifmbpgZ3Ljx3b2PhPTtcv9Mvgl+kcqw28XmeUjsoUu5wi/fU4JyedobBrXfWPK8VRaNNCF8+0a5gm3/fKOFdcY4xvQ5yc7jwMc2782u+v5O/6kq3Lp5Gd/wALH8Ef9Dl4f/8ABpB/8VR/wsfwR/0OXh//AMGkH/xVdJRUjOb/AOFj+CP+hy8P/wDg0g/+Krn/AB94+8H3nw28S2tn4s0Oe4m0m6jiii1KFnkYwsAqgNkkk4AFeiVzfxH/AOSWeK/+wLef+iHoAq/8Jr8Pf7W/tP8A4S3w/wDa/I+z+Z/a0X+r3bsY34698ZrFjm+EMGmmxtdf8P2sP2t71Dba4sUkUz/eaORZA0eRxhSBjIxg4r0iij+v1/PUP6/T8tDiNK8TfDXRbeaLT/FehA3Dbp5ptaSaaY4wC8ryF2wOBknAwBxVnTPGvw90bSrbTdN8W+H4bS1jWKGP+1om2qBgDJck/ia66igDhLrXvhde6PqOlXfiTw7NZam7yXcL6vERIz/eOd+QeAeMYI4xVO7uvhLeLGsvibRY1S2S0ZYPEPkrNCgwscoSUCVQCRh93BPqa9HooA4PVte+GetNaNeeL9IieyDLbvZeIfsrRhgAQDFKpwdo46cVWj1D4XxaiL6LxpZx3H7veyeLJQJSgCqZFE+JDgAEsDnvmvRaKPMDzvx94+8H3nw28S2tn4s0Oe4m0m6jiii1KFnkYwsAqgNkkk4AFbnwy/5JR4V/7BFr/wCilqT4j/8AJLPFf/YFvP8A0Q9R/DL/AJJR4V/7BFr/AOiloH0OoooooEea/Hn/AJJof+vyL/2auj+G/wDyTTQf+vNK5z48/wDJND/1+Rf+zV0fw3/5JpoP/Xmlcy/3h+h7dT/kUQ/xv8j5z8Zf8j1r3/YSuP8A0a1FHjL/AJHrXv8AsJXH/o1qK+aqfGz9twn+70/8K/I+mvBv/Ii6D/2Dbf8A9FLXH/tB/wDJCfEP/bt/6UxV2Hg3/kRdB/7Btv8A+ilrj/2g/wDkhPiH/t2/9KYq+rp/AvQ/AMX/ALxU9X+Y/wAPaXeah4G+Fs9nD5kVjBaT3DbgNifYXTPJ5+Z1GBk81L4g8L6xfzeMvskDD+1EsVtJFkjBYx/fI3HAI/2hg+9M8A+HNUn+G3hqWLxprlskmk2rLDFDYlIwYVIVd1sWwOgySfUmug/4RfV/+h78Qf8AfjT/AP5Fqt1Y5t2n/XX/ADMnVfBl1ZPBrNjPd69q8F9BcTNeSRJLPDGrr5Ue1Y41IErsMhQSfmbuLVhZ6pc3viHW73Qin262htoNJu5oi8qRh928ozxjcZGAGSMAZIycXP8AhF9X/wCh78Qf9+NP/wDkWj/hF9X/AOh78Qf9+NP/APkWn0a/rp/kHW5Q8D6Tf6Xf3yxadf6PoXlRpaabqF4lw8UgzvaPa8gjj27AE34yDhV79nXN/wDCL6v/AND34g/78af/APItH/CL6v8A9D34g/78af8A/ItMDpKK5v8A4RfV/wDoe/EH/fjT/wD5Fo/4RfV/+h78Qf8AfjT/AP5FpAdJRXN/8Ivq/wD0PfiD/vxp/wD8i0f8Ivq//Q9+IP8Avxp//wAi0AdJRXN/8Ivq/wD0PfiD/vxp/wD8i0f8Ivq//Q9+IP8Avxp//wAi0AdJRXN/8Ivq/wD0PfiD/vxp/wD8i0f8Ivq//Q9+IP8Avxp//wAi0AdJRXN/8Ivq/wD0PfiD/vxp/wD8i0f8Ivq//Q9+IP8Avxp//wAi0AHxH/5JZ4r/AOwLef8Aoh6q694UbxD4muvtaPHYz6SIEuY3AeKdZt6MvOQykBgcYyKyfH3hzVIPht4lll8aa5cpHpN0zQyw2ISQCFiVbbbBsHocEH0IroP+EX1f/oe/EH/fjT//AJFpW1T/AK2t+o+lv63uc5pXhbxFfeANetPEMEMGuT6g15ayRyKyPNGIzFMMH5QzxBtpwQDg1HL4Z8UapoEMcltbafqWtaqL/VpJSJo7aKPBihZVdTJxHEhCtj7xz69P/wAIvq//AEPfiD/vxp//AMi0f8Ivq/8A0PfiD/vxp/8A8i0/+B+Fv8lf0Jt+v4/8Ozk7/wAIeKG0TxTo9wtvfx6pcW99bz2Q+yKJDIvnRhGlZkIEYfdu5LnGDxVm88EanbjW7PSY2mje4stUsbq8ujJJLLDIGNrLKxaQr+7BVmzjzSBwuK6P/hF9X/6HvxB/340//wCRaP8AhF9X/wCh78Qf9+NP/wDkWhabf1bb7rIf9f5/eZPiddd8YeDtQ00eGb3TWkEG0XN5AHkImVm2GKRgAFUncWU5xgVWv/Cmp6F4muNV8K219fP/AGJPbwm+1aSfFw0iFBmeRiowCTjjj1xW/wD8Ivq//Q9+IP8Avxp//wAi0f8ACL6v/wBD34g/78af/wDItKyvf1/FWDpb+uj/AEOLn8B+LNIsrWK1uLDV0/se40iaO1tjaybXjLJK7STMJD5gxwFP71j9LJ8D6lpml31tYQXE66l4Zks5Jbm7NxLZ3KpgIjyMW2PvPyqdoMYIAzXV/wDCL6v/AND34g/78af/APItH/CL6v8A9D34g/78af8A/ItEldNd/wDg/wCbY07NPt/wP8kcjqun/wDCXeEbBdP8Gx3d3caXANN13fbgWJZAQ28sJkMbfNhFbOBjkkDS17RdettT1w6bpr6suvaVFZCdZYoxbTIJELyh2B2ESA/IHPysNvTOpY+F7v7Gn9meO9Z+zZOz7PBp2zOTnGLXHXOffNWP+EX1f/oe/EH/AH40/wD+RaqdpN32f6ij7qXl/wAD/IpaJbrB8Q5rOB/MGl6Fa2sz46szuVH12pnH+0K7GuRtfC9x9svPsXjvV/tPmL9r8qDTd+/Yu3zMWuc7NuM84x2xVr/hF9X/AOh78Qf9+NP/APkWi9/67u/6iSS28vwSX6HSVzfgP/kXbr/sNar/AOnC4o/4RfV/+h78Qf8AfjT/AP5Frn/BfhzVJtBuWj8aa5ABq2pKUjhsSCRfTgt81sTliCx7ZJwAMAIZ6JRXN/8ACL6v/wBD34g/78af/wDItH/CL6v/AND34g/78af/APItAHSUVzf/AAi+r/8AQ9+IP+/Gn/8AyLR/wi+r/wDQ9+IP+/Gn/wDyLQB0lFc3/wAIvq//AEPfiD/vxp//AMi0f8Ivq/8A0PfiD/vxp/8A8i0AdJRXN/8ACL6v/wBD34g/78af/wDItH/CL6v/AND34g/78af/APItAHSUVzf/AAi+r/8AQ9+IP+/Gn/8AyLR/wi+r/wDQ9+IP+/Gn/wDyLQB0lFc3/wAIvq//AEPfiD/vxp//AMi0f8Ivq/8A0PfiD/vxp/8A8i0Ac1/zdN/3Jn/t7XpNeW6fazWX7TEdvc39xqEqeDDuublYxI+b4nkRqq8Zxwo4Hc816lQAUUUUAFFFFABRRRQAUUUUAFFFFABRRRQAUUUUAFebfGT/AJkL/sc9O/8Aalek15l8bYnntfBEUU8ls8njCwVZogpeMkSAMu4FcjqMgj1BoA1dL8Dz3GpahPrl9ffY21l76DTA0P2eTDBo5GKp5h+YBtpfGQMjtRpq+IfC0Oo6VaeHZtUWa9uLmzvYbmCOECaRpAJt7iRSrMQSiPkAEZPyjU/4RfV/+h78Qf8AfjT/AP5Fo/4RfV/+h78Qf9+NP/8AkWlb3eXpa35f5Dvrfzv+f+bMuPwlf6dpfgTT4ALoaHcqbuZWCgKLaVCwDHJG5gABk81n694N8T+J9U8STi9sNNt7uFLGzS6tWuJPLj+cSoyTKIyZGJ5Vj8ikjtXSf8Ivq/8A0PfiD/vxp/8A8i0f8Ivq/wD0PfiD/vxp/wD8i05atv1/EP6+7X8zloNM8R2tjqf9o+HtSuTrhjvpBpGqR289ndCCON42fzospmMEFGOQSCBxnQ1bwjqGs/DLQNI1iJr/AFO1axF45uTuYAqlyTISC2Y2lB5+YEjnNbP/AAi+r/8AQ9+IP+/Gn/8AyLR/wi+r/wDQ9+IP+/Gn/wDyLTv+n4bf5C/4P4nRqoRQqgKoGAAOAKWub/4RfV/+h78Qf9+NP/8AkWj/AIRfV/8Aoe/EH/fjT/8A5FpAdJRXN/8ACL6v/wBD34g/78af/wDItH/CL6v/AND34g/78af/APItAHSUVzf/AAi+r/8AQ9+IP+/Gn/8AyLR/wi+r/wDQ9+IP+/Gn/wDyLQB0lFc3/wAIvq//AEPfiD/vxp//AMi0f8Ivq/8A0PfiD/vxp/8A8i0AYOl6bc6l4dsRaQ+aLfxbfzzAsBtjW/usnk89RwOaqWngbWbXxBrGloqjQG0a4s9LunlBMImZT5DL97CENg9NpUZyKs+C/DmqTaDctH401yADVtSUpHDYkEi+nBb5rYnLEFj2yTgAYA6D/hF9X/6HvxB/340//wCRanlWq73/ABVh3/T8Hcy9Ptdd1XVPDg1LRJdKj0NXe4mlnhkS4k8kxBYtjs2352bLhDgDjJOMLTvAuuwDQ7NrcR6fe20MeuoZlPlm3cyRgAH5vMz5bYz8oGa7H/hF9X/6HvxB/wB+NP8A/kWj/hF9X/6HvxB/340//wCRattuXM9yUko8pzV94Y1X/hDNLtZNLvbmS212e8mt7C9WCfyWlnZWSTzUwcSIeHB5x6ip7jwpPruoeG/M0/XdMsbFbwTG41hvtUZcLsJmjnd2BOeN5wBggDAre/4RfV/+h78Qf9+NP/8AkWj/AIRfV/8Aoe/EH/fjT/8A5FqbKzXf/Kw+qf8AXX/MwNK8MaxG3hO3u7FII9Ha+t7iaFo1DoUZI5gqnrJwxAGQWORUKWfia1+G03gw+HrhpodMl09NUS6h+zyIIiiSAb/N3EbflKAbiRuxzXS/8Ivq/wD0PfiD/vxp/wD8i0f8Ivq//Q9+IP8Avxp//wAi0SXMmu44vlaa6GBr8l9rvwn0uDw7ot1qZvrW1lX7PLAiwhWjfDeZInUAgbc8jnFalxdtqPxB8NK1pNZ3EVjd3U8ExQvEh8tArFGZeWOeGI+U+lTweD9RtYRDbeNdchiXOEjttOVRk5PAtfU5qKPwrctqU8kXjrWDfLGkczLb6d5gTkorH7LnHLEA+pqpO8m+5KVopdjraK5abQb+3eFLj4ha5E07+XErx6cpkfBO1c2vJwpOB2B9Kl/4RfV/+h78Qf8AfjT/AP5FpDOkrm/iP/ySzxX/ANgW8/8ARD0f8Ivq/wD0PfiD/vxp/wD8i1z/AI+8OapB8NvEssvjTXLlI9JumaGWGxCSAQsSrbbYNg9Dgg+hFAHolFc3/wAIvq//AEPfiD/vxp//AMi0f8Ivq/8A0PfiD/vxp/8A8i0AdJRXN/8ACL6v/wBD34g/78af/wDItH/CL6v/AND34g/78af/APItAHSUVzf/AAi+r/8AQ9+IP+/Gn/8AyLR/wi+r/wDQ9+IP+/Gn/wDyLQB0lFc3/wAIvq//AEPfiD/vxp//AMi0f8Ivq/8A0PfiD/vxp/8A8i0AHxH/AOSWeK/+wLef+iHqP4Zf8ko8K/8AYItf/RS1h+PvDmqQfDbxLLL401y5SPSbpmhlhsQkgELEq222DYPQ4IPoRW58Mv8AklHhX/sEWv8A6KWgfQ6iiiigR5r8ef8Akmh/6/Iv/Zq6P4b/APJNNB/680rnPjz/AMk0P/X5F/7NXR/Df/kmmg/9eaVzL/eH6Ht1P+RRD/G/yPnPxl/yPWvf9hK4/wDRrUUeMv8Akete/wCwlcf+jWor5qp8bP23Cf7vT/wr8j6a8G/8iLoP/YNt/wD0Utcf+0H/AMkJ8Q/9u3/pTFXYeDf+RF0H/sG2/wD6KWuP/aD/AOSE+If+3b/0pir6un8C9D8Axf8AvFT1f5nEppp1DR9BYeGtM1/yPAVo/l3xy8Py/eiXY25/Qbkz/eFdrYWOleI/FOm6Z4gmh1/T4PD9tc6cLxA8V47FlluCjEhnAEfJyVEh5+bk8A+KdCtPAXhp5dN1dryPRbS3e4i8O3sm5ViX5RIsJDLnJGCQeorRu9U8E6hpkGnX/he+urG2OYLWbwhePFEcY+VDb4HBPQd6qPuq39fa/wA/60tzy1d/6+z/AJf115dzbQXEmhxzCPwafE/2KQLKVhWM2u424btEbn5CoOMkp0+WtOMeGtIuPE2la14L0Wys7OC1uDa2WJ4b0yPKsQ8gxIomLJjgEnco3HaK3x4o8MDSv7LGi6uNP8ryfsg8LX3leXjGzZ5GNuOMYxWfHcfD+HTZtOi8H3CWM7iSW1XwbdiKRh0Zl+z4JHYmn0t/XT/K/wDVw/r8W/8Agf1YyX8JweF9C0NvsNpY3upeJbS6u4LKJY4YmJIWNAoAwqgLnHJy3erul+DfDFv8X9UEHhzSIhbaZZ3EASxiHlSmWf8AeLhflb5V5HPA9Ku2GoeBtLj2aZ4VvLNPNWbbb+D7yMeYv3XwLcfMMnB6jNaK+MfD63j3a6XrYuZEWN5h4Yv97KpJClvIyQCxwPc+tH9fgl+hPf0X5t/qcv8ADfwhp994Zs5dX8FeGGtri2Ob0BZri5O/P7xGgA5xk/O3IHXqHeCPAvhG78L6jLdeFtFnkTU9QRXk06JiqrcSBVBK8AAAAdgK1NPvvAmk6gb7SvCd3Y3hBBuLbwfeRyc9fmW3B5rRt/GHh60haK10vWoI3dnZI/DF+oZmJLMQIOSSSSe5NJq8beVir/nc8+svDWlp8KvA39neHNGuLjULm0a5huIlijvGEEh/fMI2LdSclW5r1fw5pqaTokVsmj6box3Mz2elnMCknqD5ceSRgn5Rz69a5661rwbfaTFpd74b1G50+Hb5VpN4SvXhTAwMIbfAwOmBU2meJvC+i2Ys9G0TVtPtgxYQWvhW+iQE9TtWADNW3dyfd3/L/Il9P67/AOZ2FFc3/wAJ5pH/AD5+IP8AwnNQ/wDjFH/CeaR/z5+IP/Cc1D/4xUjOkorm/wDhPNI/58/EH/hOah/8Yo/4TzSP+fPxB/4Tmof/ABigDpKK5v8A4TzSP+fPxB/4Tmof/GKP+E80j/nz8Qf+E5qH/wAYoAPiP/ySzxX/ANgW8/8ARD1zfjDTL25+JUGqaIC2raRpIubaLdtFwPOIkhPbDoSBno209qk8feNNLuvht4lt4rXXFebSbpFMugX0aAmFgNztCFUepJAHUmtv/hM9B+1/av7N1z7Rs8vzv+EZv9+zOdufIzjPOKWvMmun+TX6j6Nd/wDNHFWl7b614U1Pxjo37w6X4gOqRHb8/lCKMTx46hvKaRSP7wA7U/W9biu9L1zW4Jpp18RXUehaabWJ5XFsm4TSRogLMcm4f5RyFWutt/FPhm0hnhtNG1eCK4kaSZIvC18qyu33mYCDknuT1psHiXwtapaJbaHq0K2KlbVY/Ct8otwRghMQfKCOOMcU9LW9PySf4K3zYtd/X821+LucNdX1tL8J/E3hu1tpPK0q9hS0tr+2lti9rLOjxBkkQMFBLx5K9E71LIH0DS/FMEVrbeGgL3T0vLDSX2w21q7qst1HIFT76F1LBEK+Ue67q7S58TeF7yWSS70TVp5JUWOR5fCt8xdVbcqkmDkBiSB2PNSN4t8OvcyXD6TrLTyxCGSU+F78s8YJIQnyMlcseOnJ9aOt/wCtP87a+rBaf1/W3T5GD450Dw94f8C6mPDOnadY3cyWzeRa4hWZRcR7WZVHPJxvwSMn1xTptZ1HTPiQ2p+K7Ow0+Kz8O3M2bS+e4BRZoySS0UeDx0wau2V/4F021nttO8KXlpBcFTNFB4PvEWUqcqWAt8HB5GelW7vxN4Xv3L3+iatcs0ZiLTeFb5yUyG28wdMgHHTIBo1vdef4pr9Q6Wfl+DT/AEPOdN1ZbCx1eO4hv7ebxNol3d3YvLC4t1W+VXkKI0qKH/duV+XPEAq7oaSeGrPU7q20nT9Au08JG5gt9L+ZNQKrnzmbYn7xDgFdhI837xzgd5e+KvDWpxLHqOj6xdxoxZVn8L30gUlSpIBg64Zh9CR3pk3ibwvcJGs2i6wwiheCMnwvfZjjYAMinyOAQACB6D0qZLSVuqt/6V/nb0Xcaeqv6/iv8vvZzeu+HdCvfCWj6FY2EF74juNLhg0+Yje9hGoH+lA5/dBSc7lwXYKvJxg8X6fp+oa74tfxCqTtpPh+GbTpJ8ZtifOLTRnja+9F+YEH5VGasWsPgZtLsbbXfDd5rVxZWyWqXl74Mu3kaNOFBLW56D8M5PGa1rrWfBt61k154b1C4On4+xmXwlet9mxjHl5t/kxtHTHQelXU95u3Vv8AEmF4pX6W/T/Il0GS4TxyVuCwlu9BtZrlD/DKruufqQxH/Aa7GuFsvEOkW3ibU9alTxDNLexwwRp/wjOoAQRRhiFH7nkl3dieOoGOMnW/4TzSP+fPxB/4Tmof/GKG7/j+bf4bAlb8PySOkrybUtJg13wHZ6Xdl1huvGF9GzxttZM391hlPYg4IPqK7X/hPNI/58/EH/hOah/8YrmvCPivRP7BlS907WJzHrWo3EZHh29lCMb6dlIIhIDANyOqnIOCCKlq7Xqvwdyr6P0f5GQ/iPWH1TWIpBjxPofhq7hmEa58yVXRo5kUdQ4wwHrleoNaGpaH4a0bw34f1rwvDarq9xfWQtdQhINxqHmSL5okkGWlDRmRm3E9C3bI6QeLPDi6k2oDSNZF60Qha5Hhe+8wxg5CbvIztzzjpmqdjqvgnTNTl1HTfDF9aX027zbq38I3kcsm45bLi3ycnk5PNVHS1/61b/G//Dktb2/rRL8LFDSvBvhi3+MGpiDw5pEQttMs7iAJYxDypTLP+8XC/K3yryOeB6UnjDTL25+JUGqaIC2raRpIubaLdtFwPOIkhPbDoSBno209q3l8Y+H0vHu10zW1uZEWN5h4Yv8AeyqSQpbyMkAscD3PrS/8JnoP2v7V/ZuufaNnl+d/wjN/v2Zztz5GcZ5xU63jbpf8U/8AMp6387fhb/I4vStastXt7XWbSX/Qrnxkrq7jG3fbBQreh3MFwe/FXvFjrLrHixozuWNdHicjori4ZiufXa6nHow9a3P+Eg8JfYbqy/sDU/sl47Pc2/8Awil75c7N95nX7Phie5PWo4tX8FwaK+jw+Gb+PTJCS9inhG8ELEnPMf2faeQD0p7RsvL8kv0Jtrf+t2/1NDWP+SkeGv8Ar2vf5RV09edkfDg2i2p8ESG3VzIsJ8FXWwOQAWC/ZsZIAGfYVtWvjHQLG0itbLTNbtreFQkUMPhm/REUdAFEGAPYUDOqorm/+E80j/nz8Qf+E5qH/wAYo/4TzSP+fPxB/wCE5qH/AMYoA6Siub/4TzSP+fPxB/4Tmof/ABij/hPNI/58/EH/AITmof8AxigDmv8Am6b/ALkz/wBva9Jry3T7+HU/2mI7u2S4SKTwYdq3NtJbyDF8RzHIqsOncDI56GvUqACiiigAooooAKKKKACiiigAooooAKKKKACiiigArzb4yf8AMhf9jnp3/tSvSa8t+O2oWukaV4N1LUJfJtLPxbYzzybS2xEWRmOACTgA8AZoAg0k/afH1xY+IkCaK+tXMmn4bMdxeqVYLN0wQBujXkEhieVUDe03/kQ/GH/X5qf/AKE9Y0nxt+D80EkEur2rxSTCd420mcq8gIYOR5XLZAOeuQKon4pfAs6pJqRk0k38hYvdHQpfNcsCGJfycnIJB55zWfL7nJ/dt+Wv4fdYrm97m87/AJ/5/fcgk3adqnh7xJECW0Xw5YSz4bGbZ2dJ8+oCnfj1jFaOlapBB46uPGupOFt7zR725jc4+WzilhEWD6MA0g/66mpP+F2/B8RlBq9rsa3FqV/smfBhGcR/6r7nJ+XpzTZfjR8HJ4Uin1Ozljjh8hEfSJyFjyDsAMXC5VTjp8o9K1b1uv73/k1/yuvx7maXu2f938Lf5P8AAreANYi07xMi3i39m/iWzkvL1r2xntljvVZpCqPKiq37pyPlzxAD0rX8DabB4T8RW2jXWn6dLeXlnLNb65p8nz6jErqS9ynUyfOp37nBJbBXODBP8d/hRdNC1zr0UzQSebCZNMuGMb4I3LmLg4JGR2Jqppfxg+C2hyzy6Lfafp0lxjzntNGmiMuM43FYhnqevrQrJ/1/X/AQ3e39f1/wT1qivNv+Gg/hj/0M3/khc/8Axuj/AIaD+GP/AEM3/khc/wDxukM9Jorzb/hoP4Y/9DN/5IXP/wAbo/4aD+GP/Qzf+SFz/wDG6APSaK82/wCGg/hj/wBDN/5IXP8A8bo/4aD+GP8A0M3/AJIXP/xugD0mivNv+Gg/hj/0M3/khc//ABuj/hoP4Y/9DN/5IXP/AMboAz9S0mDXfAdnpd2XWG68YX0bPG21kzf3WGU9iDgg+op+mu3i7xZeeGvE6qdSttBuNP1IADEhMke2dR/ddSHHocjqtUdA+Mnww0/SmttS8RW9w41O8voiNOuXCebdSyoRmLhgsgBx0OcE9a0x8c/hIupNqA1uAXrRCFrkaXceYYwchN3lZ255x0zSSte/n+Mbf1/wAk29vL8HcZp3iP8AtNtNm1y4AHg6xmutZ5ODdoHgXr7JM4+qGq/w81ZbDxXDHcQ39vN4mtXu7sXlhcW6rfKzSFEaVFD/ALtyvy54gFTN8aPg4yXaNqlmVvXEl0p0ifFwwxhn/dfMeByc9BU8/wAd/hRdNC1zr0UzQSebCZNMuGMb4I3LmLg4JGR2Jp76v+r7/p9yFZWsvl8tv1+9mB8PLD7BeeFrsaPpulSXNveGG+szmXVHwf3M52JtP/LQAmTPlnlcc6ltpPh28+Dz+JNQhtZNfn02ZrnUpSBcm7MTCSIycNw25PL6ADbjAxUyfG34PxwW0Mer2qxWj+ZbxrpM4WFsEbkHlfKcM3I9T61Uf4r/AAOk1SXUpJ9La/mDLLdNocplkDLtYM/k5OV4OTyOKmSvFx/r+tfwRadpX/r+v+CXbKfXJdc+Hi6vp2n2tsok8mS1v3nd/wDQ2+8rQoF49GP9ay9Y8UWo8d3HiwR35GkahHpqSpYTvbGzG5LlzME8oYkkJOW/5YLWqfjn8JS1sx1uDdaf8e5/su4/c/Lt+T918vy8cduKRfjh8Ik019OTWbdbJ1ZGthpVwI2Vs7gV8rBBycjvk1pKV5839f10+ZnGNo8v9f11+Ri2Gnxp4rbU5NJ020jbxfKn9vxHddqdxxCw2LtjkP7vdvYfOBt5yN2Sxg1rwD47utRV3ka/1BmUSMoPkxmKMMARuXYina2R0OOAagHxq+Dq2b2g1S0Fs8omaEaTPsZwQwYr5WC2QDnrkA1l/wDCz/g1PNqaaprVpqdjf3i3os7zRp5Uhm8sIzDdERztz0yCW55rLl9zk8rf+k/5P+rs0T9/m87/APpX+f8AWx2WukxfCjTLqMlZrRdPniIPO5ZIuPxBK/jXcV4refFH4PyaXZaXpWv22k6db38V5La2ejzxpN5bbwuFjAGXVCTg5C475HQ/8NB/DH/oZv8AyQuf/jdayd233f8Al/w3yM4rlSXl/X9eZ6TXN/Ef/klniv8A7At5/wCiHrmv+Gg/hj/0M3/khc//ABusnxZ8bfhvr3gvW9Is/FMaXGoafPaxNLY3QRWeNlBYiInGTzgGpKPX6K82/wCGg/hj/wBDN/5IXP8A8bo/4aD+GP8A0M3/AJIXP/xugD0mivNv+Gg/hj/0M3/khc//ABuj/hoP4Y/9DN/5IXP/AMboA9Jorzb/AIaD+GP/AEM3/khc/wDxuj/hoP4Y/wDQzf8Akhc//G6APSaK82/4aD+GP/Qzf+SFz/8AG6P+Gg/hj/0M3/khc/8AxugDpfiP/wAks8V/9gW8/wDRD1H8Mv8AklHhX/sEWv8A6KWuD8a/HL4dav4B8Qabp/iHzru80y5ggj+xXC73eJlUZMYAySOScV3nwy/5JR4V/wCwRa/+iloH0OoooooEea/Hn/kmh/6/Iv8A2auj+G//ACTTQf8ArzSuc+PP/JND/wBfkX/s1dH8N/8Akmmg/wDXmlcy/wB4foe3U/5FEP8AG/yPnPxl/wAj1r3/AGErj/0a1FHjL/kete/7CVx/6Naivmqnxs/bcJ/u9P8Awr8j6a8G/wDIi6D/ANg23/8ARS1x/wC0H/yQnxD/ANu3/pTFXYeDf+RF0H/sG2//AKKWuP8A2g/+SE+If+3b/wBKYq+rp/AvQ/AMX/vFT1f5lfw14t1TTPBXhvTdJ0ixvBbeE7TUZ5bzUmtQEEYXaMROCflzklRXTN4xudRmsLXwvpSX11dWMeoSC9ujbR20L/c3sqSNvYggKFI+ViSOM8n4b+H1n4p8K+G7/V7e1mt28IWdnbyMuZ7abYG82MkfIQCMMDnIrpIdG8V2GoWutwf2Xf6nPp0NlqdtNcyQQu8ZZhLHII3I5dgVKdCORjmo7a/18X/A/pu3PLfT+vh/4P8AVrvHjx1sXgl0h119b/8As1dLWcFXn8vzQRKQP3Xl/Pv25AyNu75a0or/AMVNa3Am0DTI7xChhA1Z2glUk7gZPI3qwxnHlkHIw3XGE/gjVXJ1v7XZL4j/ALTGpqm1jbAiDyPs5bhivl5HmYzuO7bj5az08FeI7X/hI77RLDQdDvtZjtoPIsbpwgCNIZZTKIFIkYSEA7DggEk9KfTz/wCG/W/9ahp0/rV/p/VzqvCPiDUPENvfTX+m21nHbXTW8UtreNcR3G3h2VmjjOA2V6clTjirWpa7/Z/iLRtK+z+Z/ajTDzd+PK8uPf0xznp1GKzLHW7TwnpdvZ+LX8P+GIEQRWMS6vuV0UAEAyxxdPl6Z684pvmaf4u8TaJrHhzWdM1G10h5xcm1ullIMkW1QNmRnvyRxRLbQnXqUNM+IGpzaXp2tatoFva6LqEywLc22omaSBnk8tGkjaJAFLYBKs2MjjGSL0nizWr2TUJvDXh6DUbCwleB5ZtQ8iS4kjOJBCgjYNggqCzJlgRwPmORpfg7xJJ4Y03wxrK6Vb6XZzxzTXNrdyTS3IjmEqoEaJBHkgZbc3AIA5yNK20fxVoIv9P0FdJuLG6uprmC6vLiRJbQzOXcGJY2EoVmJHzpkHBxjcVrbTzt+Fv17f51p/Xz/wCB3Om0jVLbW9Gs9UsSzW15Ck8RZcHawyMjseelXKzvD2jReHfDen6PbyNLHY26QCRgAX2jG4gdz1/GtGrla7tsStgoooqRhRRRQAUUUUAc38R/+SWeK/8AsC3n/oh6Zq/iPWYfFX9h6Do9lfSrYi9eS71FrYYLlAqhYZMnjvin/Ef/AJJZ4r/7At5/6Ieq+q6X4hg8cHXdBtNMvIpNNWzaO9vpLdlYSM+4bYZMjn2pdV8/yf62H0f9dV+lyxH4ztZPA134j+yzRm0WVZrKQgSLPGxRoSRkbt42gjIOQR1rMu/HOqx+BZvEdnodnI9glx/aVlcak0b27wkhkQrCwc/KcE7ONp78RXHgDUZ9B07SBq4iVtUfVNTvIIwsjyl2lURI6ugUSleGzwncmmS+A9Yi0nxfpkOrjUINftSYpr7akiXTRmNywijVNhURnIXOQ2QetN9f6/pb/cu4Rtddr/h/nt97L8vifxNHcaXZf2BpJv8AUlllRP7Yl8pI0VDkv9mzuJfGNuOOvOK6mye6ezibUIYYLkr+8jgmMqKfQOVUke+0VyPi3wjc6zdaFMNH0XW4tOilSWz1aUpGxdUAZf3MnI2nqo611WkwPbaRawS2VrYNFGE+y2b74YQOAqHYnAGP4R9KempKvZXLdFFFIYUUUUAFFFFABRRRQAV51b+J5/CngKW+tNLfVZpfEWpQLbRy7GbN/ckleDk4U4HGTxkV6LXB6JpM+reHbT7M8a/Y/FWoXUnmEjKLf3OQMA880ne6t3X56/gPo/R/ka7+ONNWZJQytpj6O+rfbQ3HlKV4249Gz17YxVRfGGtWsdjf614cistJvpo4VlS/824t/NYLEZovLCqCzKDtd9pbuMkZi/DSYa/rsQvIo/D2p6bPa28CZ820knYNIFGNuzcC4GeCxGMYq/PoninXLOz0jxANJhsLeeGae7tZ5JZbvyZFdV8po1EW4oCTvfAyBnO4VGztf+tXf7lb/gkvr/XRfrcksvE/ie48YTaFP4f0iI20MNzPMmsyviKR3X5VNsNzDy2OCQOnPpNrfjZdD8aadotzYM1neRqZNQEvFu7uUjDJjozALuzwWXjnNXrbRLmHx7qOts8RtrrT7e1RATvDRvKxJGMYxIMc+tQar4Uj1rxBdzakkU2m3elGwkiLEOSZC2Rxxx0IOQRU9Y/O/wBzt+hTtrbyt+F/1Ix4xzeeR9h/5jZ0nd53/TLzPM+7+G39aNY8Zf2Ve6pb/YfN/s9LN93nbfM+0StH/dONu3PfOe1YWl+BvEdh4d2XepWd7q9rrQ1KCZy6pdKqCMLKdpKMyA5KhgGOQCOKsX/hTX9VsNbvLoadDquotaCG1juXaCOO3kDgGUxhiWJfnZxkDBxkv7P3fkv1v/Vidb/13f6WOpvNZ+yeJNM0ryN/2+KeTzd+Nnl7OMY5zv8AUYxWnXGXtn4wutY0vWBpOhrcWIuImtjq82x0kCYYSfZs5BU8bfTntXXWrXD2kTXsUUNwVBljhkMiK3cBiqlh7lR9KBktFFFABRRRQB5t/wA3Tf8Acmf+3tek15t/zdN/3Jn/ALe16TQAUUUUAFFFFABRRRQAUUUUAFFFFABRRRQAUUUUAFFFFABRRRQAUUUUAFFFFABRRRQAUUUUAFFFFABRRRQAUUUUAFFFFABRRRQAUUUUAFFFFABRRRQAUUUUAFFFFABRRRQAUUUUAFFFFABTY/un/eP86dTY/un/AHj/ADoH0HUUUUCPNfjz/wAk0P8A1+Rf+zV0fw3/AOSaaD/15pXOfHn/AJJof+vyL/2auj+G/wDyTTQf+vNK5l/vD9D26n/Ioh/jf5Hzn4y/5HrXv+wlcf8Ao1qKPGX/ACPWvf8AYSuP/RrUV81U+Nn7bhP93p/4V+R9NeDf+RF0H/sG2/8A6KWuP/aD/wCSE+If+3b/ANKYq7Dwb/yIug/9g23/APRS1x/7Qf8AyQnxD/27f+lMVfV0/gXofgGL/wB4qer/ADJfAPhzVJ/ht4ali8aa5bJJpNqywxQ2JSMGFSFXdbFsDoMkn1JroP8AhF9X/wCh78Qf9+NP/wDkWuH8EWOn+II/Dmk+J7WC9s4PCWnXGn2V4qyQyOUImkEbDDMoEQyclQ3GNxzW8c2Glyak2nWKxy6Y2iQwKiSF02f2jEpQHJ4HIxnjGO1Vd6ed/wAL/wCRzPS/lb8bf5noP/CL6v8A9D34g/78af8A/ItH/CL6v/0PfiD/AL8af/8AIteZ+JLu51jwPeeFbxmeTwxbXD6kzHcZDENtoW93UiX6x17en+rX6Cq6XX9IWzsznP8AhF9X/wCh78Qf9+NP/wDkWj/hF9X/AOh78Qf9+NP/APkWukopDOb/AOEX1f8A6HvxB/340/8A+RaP+EX1f/oe/EH/AH40/wD+Ra6SigDm/wDhF9X/AOh78Qf9+NP/APkWj/hF9X/6HvxB/wB+NP8A/kWukooA5v8A4RfV/wDoe/EH/fjT/wD5Fo/4RfV/+h78Qf8AfjT/AP5FrpKKAOb/AOEX1f8A6HvxB/340/8A+RaP+EX1f/oe/EH/AH40/wD+Ra6SigDm/wDhF9X/AOh78Qf9+NP/APkWj/hF9X/6HvxB/wB+NP8A/kWukooA878feHNUg+G3iWWXxprlykek3TNDLDYhJAIWJVttsGwehwQfQiug/wCEX1f/AKHvxB/340//AORaPiP/AMks8V/9gW8/9EPXN+MNMvbn4lQapogLatpGki5tot20XA84iSE9sOhIGejbT2pX1SfX/Jv9B9G/63sdJ/wi+r/9D34g/wC/Gn//ACLR/wAIvq//AEPfiD/vxp//AMi1wtpe2+teFNT8Y6N+8Ol+IDqkR2/P5QijE8eOobymkUj+8AO1P1vW4rvS9c1uCaadfEV1HoWmm1ieVxbJuE0kaICzHJuH+UchVp6289PxSt+Lt8mxafLX8G7/AIK/4Hb/APCL6v8A9D34g/78af8A/ItH/CL6v/0PfiD/AL8af/8AItedXV9bS/CfxN4btbaTytKvYUtLa/tpbYvayzo8QZJEDBQS8eSvRO9SyB9A0vxTBFa23hoC909Lyw0l9sNtau6rLdRyBU++hdSwRCvlHuu6jd29Pxt/nqH9f1+h6B/wi+r/APQ9+IP+/Gn/APyLR/wi+r/9D34g/wC/Gn//ACLXM+OdA8PeH/Aupjwzp2nWN3Mls3kWuIVmUXEe1mVRzycb8EjJ9cU6bWdR0z4kNqfiuzsNPis/DtzNm0vnuAUWaMkktFHg8dMGldX+/wDBN/oGtvu/FpfqdJ/wi+r/APQ9+IP+/Gn/APyLR/wi+r/9D34g/wC/Gn//ACLXlum6sthY6vHcQ39vN4m0S7u7sXlhcW6rfKryFEaVFD/u3K/LniAVd0NJPDVnqd1baTp+gXaeEjcwW+l/MmoFVz5zNsT94hwCuwkeb945wBtpO/Rf5/5fdrsNK7SXX/gf5/foegweH9RuoRNbfEDXJomzh44tOZTg4PItfUYqT/hF9X/6HvxB/wB+NP8A/kWuY8W6JYx/BvTQFZxp8FksGJWCf6yEbigO1jxwSCRk4xk1B4ysdO1PxD4vl8QRxyHStAin015v+XUnzi00RP3X3og3Ag/KozTn7jflf8BQ99Jrrb8Trv8AhF9X/wCh78Qf9+NP/wDkWootBv55poofiFrkkluwSZEj04mNiAwDD7LwcEHB7EGvP5LZbvTdd1zVoVbxPZatYQWk8g/f24K222OM5yqsZHyAfm3tnNeh25MHxTvo4ydl1pMMsi54DpLIoP1IbH/ARTtZpd/8r/kJO6v/AFvYd/wi+r/9D34g/wC/Gn//ACLXP+C/DmqTaDctH401yADVtSUpHDYkEi+nBb5rYnLEFj2yTgAYA9Erm/Af/Iu3X/Ya1X/04XFIYf8ACL6v/wBD34g/78af/wDItH/CL6v/AND34g/78af/APItdJRQBzf/AAi+r/8AQ9+IP+/Gn/8AyLR/wi+r/wDQ9+IP+/Gn/wDyLXSUUAc3/wAIvq//AEPfiD/vxp//AMi0f8Ivq/8A0PfiD/vxp/8A8i10lFAHN/8ACL6v/wBD34g/78af/wDItH/CL6v/AND34g/78af/APItdJRQBzf/AAi+r/8AQ9+IP+/Gn/8AyLR/wi+r/wDQ9+IP+/Gn/wDyLXSUUAc3/wAIvq//AEPfiD/vxp//AMi0f8Ivq/8A0PfiD/vxp/8A8i10lFAHlun2s1l+0xHb3N/cahKngw7rm5WMSPm+J5EaqvGccKOB3PNepV5t/wA3Tf8Acmf+3tek0AFFFFABRRRQAUUUUAFFFFABRRRQAUUUUAFFFFABRRRQAUUUUAFFFFABRRRQAUUUUAFFFFABRRRQAUUUUAFFFFABRRRQAUUUUAFFFFABRRRQAUUUUAFFFFABRRRQAUUUUAFFFFABRRRQAU2P7p/3j/OnU2P7p/3j/OgfQdRRRQI81+PP/JND/wBfkX/s1dH8N/8Akmmg/wDXmlc58ef+SaH/AK/Iv/Zq6P4b/wDJNNB/680rmX+8P0Pbqf8AIoh/jf5Hzn4y/wCR617/ALCVx/6Naijxl/yPWvf9hK4/9GtRXzVT42ftuE/3en/hX5H014N/5EXQf+wbb/8Aopa5j45abfav8GNdsdKs7i+u5fs/l29tE0kj4uIycKoJOACfoK6fwb/yIug/9g23/wDRS1s19XT+Beh+AYv/AHip6v8AM+bNJ+PHw3PgXQdC8UeGL7Vn0uxggYT6fbTxiRIlRmTfJ7HnAOK2D+0f8MmWNW8L6mViiWCMHT7bCRqwZUH73hQVBA6AgHtXvdFWcx4PJ+0r8N5jdmXw3qz/AG1Qt1usbY/aABgB/wB78wA45zVv/hqrwOP+YV4g/wDAeD/49XttFAHiX/DVfgj/AKBXiD/wHg/+PUf8NV+CP+gV4g/8B4P/AI9XttFAHiX/AA1X4I/6BXiD/wAB4P8A49R/w1X4I/6BXiD/AMB4P/j1e20UAeJf8NV+CP8AoFeIP/AeD/49R/w1X4I/6BXiD/wHg/8Aj1e20UAeJf8ADVfgj/oFeIP/AAHg/wDj1H/DVfgj/oFeIP8AwHg/+PV7bRQB4l/w1X4I/wCgV4g/8B4P/j1H/DVfgj/oFeIP/AeD/wCPV7bRQB4l/wANV+CP+gV4g/8AAeD/AOPUf8NV+CP+gV4g/wDAeD/49XttFAHz34s/aV8H694L1vSLPTdcS41DT57WJpYIQis8bKCxEpOMnnANaX/DUPgD7X9q/sTXPtGzy/O+yQb9mc7d3m5xnnFe5UUAeEW/7THw5tIZ4bTw7q8EVxI0kyRWNuqyu33mYCXknuT1psH7Snw2tUtEtvDWrQrYqVtVjsLZRbgjBCYl+UEccY4r3migDwe5/aV+G15LJJd+G9WnklRY5HlsLZi6q25VJMvIDEkDseae37Tnw8e5kuH0DWWnliEMkps7cs8YJIQnzclcseOnJ9a91ooA+e7L4/fCTTbWe207wXeWkFwVM0UGlWiLKVOVLASYODyM9KuXf7Svw2v3L3/hvVrlmjMRaawtnJTIbbzL0yAcdMgGveKKAPCb39pn4danEseo+HtYu40Ysqz2VvIFJUqSAZeuGYfQkd6ZN+0p8N7hI1m8OawwiheCMmyt8xxsAGRT5vAIABA9B6V7zRSsmrDu73PnCD46/C6Xw/pml+IPDWpa6NNhEMEt/pdrIQoAA4aU4OFXJHXFXH/aB+E8kdikng29ZNOObJW0u1IteQf3f7z5OQDxjoK+g6Kq7buLpY8Dm/aO+GNxrEOrXHhbU5dSgXbFevp9s00a88K5l3Acnoe5qCy/aP8AA9t4m1PWpbPxDNLexwwRp9khAgijDEKP33JLu7E8dQMcZP0HRSA8S/4ar8Ef9ArxB/4Dwf8Ax6sjw1+0r4P0bSZrW603XHeTUL26BjghI2zXUsyjmUchZAD7569a+hKKAPEv+Gq/BH/QK8Qf+A8H/wAeo/4ar8Ef9ArxB/4Dwf8Ax6vbaKAPEv8AhqvwR/0CvEH/AIDwf/HqP+Gq/BH/AECvEH/gPB/8er22igDxL/hqvwR/0CvEH/gPB/8AHqP+Gq/BH/QK8Qf+A8H/AMer22igDxL/AIar8Ef9ArxB/wCA8H/x6j/hqvwR/wBArxB/4Dwf/Hq9tooA8S/4ar8Ef9ArxB/4Dwf/AB6j/hqvwR/0CvEH/gPB/wDHq9tooA8S/wCGq/BH/QK8Qf8AgPB/8eo/4ar8Ef8AQK8Qf+A8H/x6vbaKAPDfh/8AEDSviP8AtDz6vodveQW8PhZrVlvEVXLC7ViQFZhjDjv617lRRQAUUUUAFFFFABRRRQAUUUUAFFFFABRRRQAUUUUAFFFFABRRRQAUUUUAFFFFABRRRQAUUUUAFFFFABRRRQAUUUUAFFFFABRRRQAUUUUAFFFFABRRRQAUUUUAFFFFABRRRQAUUUUAFFFFABTY/un/AHj/ADp1Nj+6f94/zoH0HUUUUCPNfjz/AMk0P/X5F/7NXR/Df/kmmg/9eaVznx5/5Jof+vyL/wBmro/hv/yTTQf+vNK5l/vD9D26n/Ioh/jf5Hzn4y/5HrXv+wlcf+jWoo8Zf8j1r3/YSuP/AEa1FfNVPjZ+24T/AHen/hX5H014N/5EXQf+wbb/APopa2axvBv/ACIug/8AYNt//RS1s19XT+Beh+AYv/eKnq/zCiiirOYKKKKACiiigAooooAKKKKACiiigAooooAKKKKACiiigAooooAKKKKACiiigAooooAKKKKACiiigAooooAKKKKACiiigAooooAKKKKACiiigAooooAKKKKACiiigAooooAKKKKACiiigAooooAKKKKACiiigAooooAKKKKACiiigAooooAKKKKACiiigAooooAKKKKACiiigAooooAKKKKACiiigAooooAKKKKACiiigAooooAKKKKACiiigAooooAKbH90/wC8f506mx/dP+8f50D6DqKKKBHmvx5/5Jof+vyL/wBmro/hv/yTTQf+vNK5z48/8k0P/X5F/wCzV0fw3/5JpoP/AF5pXMv94foe3U/5FEP8b/I+c/GX/I9a9/2Erj/0a1FHjL/kete/7CVx/wCjWor5qp8bP23Cf7vT/wAK/I+mvBv/ACIug/8AYNt//RS1s1jeDf8AkRdB/wCwbb/+ilqp8QfF3/CCeBNQ8R/Yvt/2Lyv9H83yt++VY/vbWxjfnoelfV0/gXofgGL/AN4qer/M6SivDbb9q3we1rE15o2uRXBQGWOKKF0VschWMilgD0JAz6DpUv8Aw1X4I/6BXiD/AMB4P/j1Wcx7bRXiX/DVfgj/AKBXiD/wHg/+PUf8NV+CP+gV4g/8B4P/AI9QB7bRXiX/AA1X4I/6BXiD/wAB4P8A49R/w1X4I/6BXiD/AMB4P/j1AHttFeJf8NV+CP8AoFeIP/AeD/49R/w1X4I/6BXiD/wHg/8Aj1AHttFeJf8ADVfgj/oFeIP/AAHg/wDj1H/DVfgj/oFeIP8AwHg/+PUAe20V4l/w1X4I/wCgV4g/8B4P/j1H/DVfgj/oFeIP/AeD/wCPUAe20V4l/wANV+CP+gV4g/8AAeD/AOPUf8NV+CP+gV4g/wDAeD/49QB7bRXiX/DVfgj/AKBXiD/wHg/+PUf8NV+CP+gV4g/8B4P/AI9QB7bRXiX/AA1X4I/6BXiD/wAB4P8A49R/w1X4I/6BXiD/AMB4P/j1AHttFeJf8NV+CP8AoFeIP/AeD/49R/w1X4I/6BXiD/wHg/8Aj1AHttFeJf8ADVfgj/oFeIP/AAHg/wDj1H/DVfgj/oFeIP8AwHg/+PUAe20V4l/w1X4I/wCgV4g/8B4P/j1H/DVfgj/oFeIP/AeD/wCPUAe20V4l/wANV+CP+gV4g/8AAeD/AOPUf8NV+CP+gV4g/wDAeD/49QB7bRXiX/DVfgj/AKBXiD/wHg/+PUf8NV+CP+gV4g/8B4P/AI9QB7bRXiX/AA1X4I/6BXiD/wAB4P8A49R/w1X4I/6BXiD/AMB4P/j1AHttFeJf8NV+CP8AoFeIP/AeD/49R/w1X4I/6BXiD/wHg/8Aj1AHttFeJf8ADVfgj/oFeIP/AAHg/wDj1H/DVfgj/oFeIP8AwHg/+PUAe20V4l/w1X4I/wCgV4g/8B4P/j1H/DVfgj/oFeIP/AeD/wCPUAe20V4l/wANV+CP+gV4g/8AAeD/AOPUf8NV+CP+gV4g/wDAeD/49QB7bRXiX/DVfgj/AKBXiD/wHg/+PUf8NV+CP+gV4g/8B4P/AI9QB7bRXiX/AA1X4I/6BXiD/wAB4P8A49R/w1X4I/6BXiD/AMB4P/j1AHttFeJf8NV+CP8AoFeIP/AeD/49R/w1X4I/6BXiD/wHg/8Aj1AHttFed/D/AONfhz4j6/PpGh2WqQXENq10zXkUaoVDKpAKyMc5cdvWvRKACiiigAooooAKKKKACiiigAooooAKKKKACiiigAoorjfib8RIPhpoFjq95p8l9b3GoR2kqxSBHjVldi6gjDEBOFJXOeooA7KivEv+Gq/BH/QK8Qf+A8H/AMeo/wCGq/BH/QK8Qf8AgPB/8eoA9torxL/hqvwR/wBArxB/4Dwf/HqP+Gq/BH/QK8Qf+A8H/wAeoA9torxL/hqvwR/0CvEH/gPB/wDHqP8AhqvwR/0CvEH/AIDwf/HqAPbaK8S/4ar8Ef8AQK8Qf+A8H/x6j/hqvwR/0CvEH/gPB/8AHqAPbaK8S/4ar8Ef9ArxB/4Dwf8Ax6j/AIar8Ef9ArxB/wCA8H/x6gD22ivEv+Gq/BH/AECvEH/gPB/8eo/4ar8Ef9ArxB/4Dwf/AB6gD22ivEv+Gq/BH/QK8Qf+A8H/AMeo/wCGq/BH/QK8Qf8AgPB/8eoA9torxL/hqvwR/wBArxB/4Dwf/HqP+Gq/BH/QK8Qf+A8H/wAeoA9torxL/hqvwR/0CvEH/gPB/wDHqP8AhqvwR/0CvEH/AIDwf/HqAPbaK8S/4ar8Ef8AQK8Qf+A8H/x6j/hqvwR/0CvEH/gPB/8AHqAPbaK8S/4ar8Ef9ArxB/4Dwf8Ax6j/AIar8Ef9ArxB/wCA8H/x6gD22ivEv+Gq/BH/AECvEH/gPB/8eo/4ar8Ef9ArxB/4Dwf/AB6gD22ivEv+Gq/BH/QK8Qf+A8H/AMeo/wCGq/BH/QK8Qf8AgPB/8eoA9torxL/hqvwR/wBArxB/4Dwf/HqP+Gq/BH/QK8Qf+A8H/wAeoA9torxL/hqvwR/0CvEH/gPB/wDHqP8AhqvwR/0CvEH/AIDwf/HqAPbaK8S/4ar8Ef8AQK8Qf+A8H/x6j/hqvwR/0CvEH/gPB/8AHqAPbaK8S/4ar8Ef9ArxB/4Dwf8Ax6j/AIar8Ef9ArxB/wCA8H/x6gD22ivEv+Gq/BH/AECvEH/gPB/8eo/4ar8Ef9ArxB/4Dwf/AB6gD22mx/dP+8f514p/w1X4I/6BXiD/AMB4P/j1eu6Bq0GveHbDV7NZEt9Qt0uollADqrjcAwBIzg84JoH0NCiiigR5r8ef+SaH/r8i/wDZq6P4b/8AJNNB/wCvNK5z48/8k0P/AF+Rf+zV0fw3/wCSaaD/ANeaVzL/AHh+h7dT/kUQ/wAb/I+c/GX/ACPWvf8AYSuP/RrUUeMv+R617/sJXH/o1qK+aqfGz9twn+70/wDCvyPprwb/AMiLoP8A2Dbf/wBFLXH/ALQf/JCfEP8A27f+lMVdh4N/5EXQf+wbb/8Aopa4/wDaD/5IT4h/7dv/AEpir6un8C9D8Axf+8VPV/mYngr/AJEHw/8A9gy2/wDRS1t1ieCv+RB8P/8AYMtv/RS1t1ZzBRRRQAUUUUAFFFFABRRRQAUUUUAFFFFABRRRQAUUUUAFc5b+L4/7R8Q2mo232NtEUTFvN3CaEqWDjgY6EY5we9dHXDeMvA9/4g8QW15pt1Bb29xbiz1RZGYNLAJFfCYB+bhhzjg0tb2Hp1H+HPG2t+JbmeK18PWlsbeOCWQXOpMCFlTeuAsJ5x64otfiPHNrmvaZPprQSaXHNJbuZsrd+V98D5flI+Xjng57U0+D7qDxtqWsLouh6lDctbm2a7mKS2vloFO39y+ORkYI6Cq+qfD29vtK1TyLi2i1OTU5ryxmJbaqSKEaNzjIDLkEDPb0ol3Xb8dAXZ+X/BL1t421HUr2wtNJ0W3lmu9Ij1Qi4vzEFDHHlgiJsnPc4H0psfxAfUH0WHRdLSW41NriN47u5MIt5IQN6kqj578j29ar6f4W8Q6Jqem3tgmmXT2uhRaZIs91JEBIrZLDETZX8j9KqSfDm7iXQ28nTNZNnLdXF9Dfs0cc8k+DlRsk4BHcdhVO3Nptr+bt+H6eZKv/AF6f5nR3Hia+j1a20S10yG51mSA3NxGLsrb20eSAWlMe4knAACZ65wBmtnTp76eBv7TsktJ0fbtin81HGAQythTjnHKg5B7YJ5ibwtfRanBqun2OlhpLH+z73SJJW+ytECSuxxHxjOMGPBBI4xk2/A3hq48M2OpR3UdpCb3UJLuO3s2JjgRgoCAlV6Y9BQv6+/8AyH/X4f5nT0UUUgCiiigAooooAKKKKACiiigAooooAKKKKACiiigAooooAxPCn/JyUn/YpH/0rWvZK8b8Kf8AJyUn/YpH/wBK1r2SgAooooAKKKKACiiigAooooAKKKKACiiigAooooAK8t+O3/IK8G/9jbY/+gyV6lXlvx2/5BXg3/sbbH/0GSgCzRRRQAUUUUAFFFFABRRRQAUUUUAFFFFABRRRQBieKfEEvh6ys5bezS7lvL2KzRJJjEoaQ4BLBW4H0qvqHiW906bTtOl02CXWtSdxDaw3ZMKonLO8pjBAA9EJzwM9ad4x8OyeJbHT7VBbtHBqMNzPHcDKyRoTuXGDkkHoeKq6p4SaHVdG1PwvDY2smlGVRZMvkwyxyDDDKKdp75Cnmheff9F+oPy7EbfECDTl1iLxFZNZXekiN3ht5fPE6ycIYyQpJJ4wQMcVan1/XrDSZ9R1Pw/bxQQ2sk5SLUd8iFULBXBjAHTaSpfBI4IyRlXfgK61461ea1dxWl9qSwpALQmVLQQtuQ7mClyW5PC+nvVHW/A2t+IdUt7+5stDsLqO0uYZ7i2mdmunkgMalsxAgA+pbANLXl8/6t/wRq3Nrt/X9fmdZP4mitfA48Rzw7VNmtyIA/JZlBVAcdSSBnHfpWT/AMJ8yeB77XZ9K8q70+6Nrc2BuM7H8xUxv2+jBun+NVbjwt4j1XQdF0K/+wWNlYvC1xcWl20ssoiX5QEeEKPmCnkkcd6qat8PdalXxBBYalFdwaxHBIXvnCOJ45FJJEcYXaUHUDOQOO9W7cz7f8N/wfwJjeyvv1O213WItC0C71Sdd628RcRg4Lt0VQfUkgfjXMN8SFi8Pw3d1pqWt/JqR0yS2nugsUEoJyXl28Lt5ztPXHvVrXtC13xRY2FlffY9NgjvVnuWtbozsyIMqF3whc78EgjHy9+lUP8AhDNYsde1OWE6fr+l6qkb3VvrDCN2mXgMPLhKAYx/DnI/Gp66/wBbfnqvuH0X9f13O1sZbmazR762W2nyQ8aS+YowcZDYGQeoyAeeQKsVz/gnw7N4X8NR6dcTLIwleQJGzNHAGbIjQtyVHqeT1roKbEgooopDCiiigAooooAKKKKACiiigAooooAxPGv/ACIPiD/sGXP/AKKau8+GX/JKPCv/AGCLX/0UtcH41/5EHxB/2DLn/wBFNXefDL/klHhX/sEWv/opaB9DqKKKKBHmvx5/5Jof+vyL/wBmro/hv/yTTQf+vNK5z48/8k0P/X5F/wCzV0fw3/5JpoP/AF5pXMv94foe3U/5FEP8b/I+c/GX/I9a9/2Erj/0a1FHjL/kete/7CVx/wCjWor5qp8bP23Cf7vT/wAK/I+mvBv/ACIug/8AYNt//RS1x/7Qf/JCfEP/AG7f+lMVdh4N/wCRF0H/ALBtv/6KWuP/AGg/+SE+If8At2/9KYq+rp/AvQ/AMX/vFT1f5lfwH4E8L33gTw5582om9m0a0uZYY9dvEIDRL8wjWYBVzkDAA4wOlaF74X+HmmWKXupa1PaWskjQpPP4pu40Z1JBUMZ8FgVII6jB9KyPBmsad4ct/C17r97BptldeD7CKG6u5BFC0iDLJvYgbsOCFzkjOOhqGFrLTdC0TWrjxBZ+GtVja/nsjrEP7i5t552fYwYqdxHlsArBx3BGRVX91P8Ard/5HPb3rf1t/SNrU/D3w30WSJNY1+TT3mTzIluvFd1EZE/vANcDI9xSS6B8NoNSi0+bxA8d7Ns8q2fxZdCSTfjZtX7Rk7sjGOueKyP+Ela18Tabey6roXg1rrw9bk2usQkqv71/3aAywkY9x0xwKh8SC9udQ8c3MF1bSaGDYyajHFAWne38pGeSGTcVUqmWAKNnHBBwQ/Xu/wAHYXWy7fon+p1cfgPwZLqUunRXmoPewoJJbZfEl6ZI1PRmXz8gHsTWde6J8MtN8v8AtHxGbTzQWj8/xbcpvAYqSM3HOCCPqCKrajZ3H/Cba94o0CP7RqGk/ZZFiQ83ls0P72H3JADL/tovqa5zwv4khtLywvbfxRoehQ3mlu8cutQlhMpvbggKDNFg4OT169BSW6Xm/wAm/wBPzDpf+t0v1O+s/AXg3UVkbT7vULpYm2SGDxHevsbAbBxPwcMDj0IPepLb4deE7y2S4tJtUngkGUli8Q3rKw9QRNg1ieLbufRPEF0NJkZz4zs47W1lgG5Uu1wnmgj1hk3Z9IK9E0zT7fSdJtNOsk2W9pCkES+iqAB+gqul/wCvP9PvF/X9fj9xzf8AwrHw16ax/wCD6+/+PUf8Kx8Nemsf+D6+/wDj1dbRSGcl/wAKx8Nemsf+D6+/+PUf8Kx8Nemsf+D6+/8Aj1dbRQByX/CsfDXprH/g+vv/AI9R/wAKx8Nemsf+D6+/+PV1tFAHJf8ACsfDXprH/g+vv/j1H/CsfDXprH/g+vv/AI9XW0UAebeNfAWiaR4B8Qalp8msQ3dnplzPBJ/bl62x0iZlODMQcEDgjFaqfD7whLeTWkVxqT3MCq8sC+Ir0vGrZ2ll87IBwcZ64NaHxH/5JZ4r/wCwLef+iHrI8d6gfB+uWXi1InmSS2k0y4hjXJkc5kt//IilB/12pXt/X3fe9B2v/X9dB03gjwRb2Nxe3F/fRWlszLPcP4lvFjiKnDBmM+FIPBz0qDU/Cvw+0SGCbWdYuNPiuP8AUvd+KbuJZeM/KWnGeo6etZuqWMul6V4X8GRaZc65IzHUdXhtjEHlCNvZiZHRMNcOpwTyAeDWRo93rV1q3hfR7R49N1nRGv7Jk1S38/bGscbQ7hHKASYmj+YORnPWn3/rbd/foLt/Xp+B1s/g3wLa6OurXWp3kOmsiut7J4mvFhKtjad5n24ORg55zS2ngzwLqEdrJYaleXSXgY2zQ+JrxxOF+8UIn+bHfHSud0S90/Sf+ESv9acWul2SX8FzLdsBHZamZV3bmwEQcTqjYAw2B94Z1dXu49Z8aeFrrwTf6cnnG/b7Y1o08EpCRhmAR49/TG4MRx3xR/X9fn6WD1/r+v8APsaS+AfBzx3LpdaiyWrFbhh4jvSISACQ/wC/+UgEHnsaifwZ4Fj0YavJqV4umFBIL0+JrwQ7T0bf5+3HvmuVlu9Ri0XxFoUkf9q6prXiR7SWOwhEPmw+TE05RZJML+6DD5nxlhzzim6heXMHgXxX4dmsJ9IltbyC7sLa8EblLee4Vh/qnZSolEowG4GBxRurrsvyT/X8GHX5v82v0/FHTWvhf4fX+kXOqafq91eWFqGM9zbeJ7yWOPau5sss5AwOcUg8MfD3+0rfTn1e6j1C5RZIbKXxNeJO6kZBEZnDdAe3Y1heIftdtZeM7fXJ4pNUmOnefJbRGGCWxMoTeqFmYH/XK2Xb7o6AgVqeK/Efhe+8VxeFm1TSdNe1v7e/1Oe4uI4G8xCrxRoGILyNtQEj7qjGckChatedv+D/AF3VhPRNvp/S/r5l6Pwf4Cl1qTR4tUun1OJd0lkvie7MyDAOTH5+4DBHbuKnsvAPhHUVma0fWXEEzwSA65qClXU4IwZQfx6EEEZBBrmNGltXk0PREaI+IrTxPdXd5bZBniQvOWmcdQjI6YY4BDqAeQK7bw5hPGXi2OL/AFX2q3cgdBIbdN36BD+NC1V/66a+mrXqN6O39dV+lyH/AIVj4a9NY/8AB9ff/HqP+FY+GvTWP/B9ff8Ax6utooA5L/hWPhr01j/wfX3/AMerD8JeAtE1PRbie+k1iWVNT1CBW/ty9XCRXk0aDibsiKM9TjJya9Jrm/Af/Iu3X/Ya1X/04XFAFb/hWPhr01j/AMH19/8AHqP+FY+GvTWP/B9ff/Hq62igDkv+FY+GvTWP/B9ff/HqP+FY+GvTWP8AwfX3/wAerraKAOS/4Vj4a9NY/wDB9ff/AB6j/hWPhr01j/wfX3/x6utooA5L/hWPhr01j/wfX3/x6j/hWPhr01j/AMH19/8AHq62igDkv+FY+GvTWP8AwfX3/wAeo/4Vj4a9NY/8H19/8erraKAOS/4Vj4a9NY/8H19/8eo/4Vj4a9NY/wDB9ff/AB6ud8c+FviHqvimW68La79i05o0CQ/bHjwwHJwAR1rnf+EF+L//AENP/lQk/wDia55VpJ25GevSy6jOCk8RFX6O+ht6Ro9nof7Sy2WnCYQr4OLfv7iSdyTfc5eRmY/ia9Wr5q/4Rj4g/wDC0/7L/tz/AIqL+xftP2z7W/8Ax6eft8vfjP3+duMd66T/AIQX4v8A/Q0/+VCT/wCJpe2l/IzT+y6H/QTD8T3GivDv+EF+L/8A0NP/AJUJP/iaP+EF+L//AENP/lQk/wDiaPbS/kYf2XQ/6CYfie40V4d/wgvxf/6Gn/yoSf8AxNH/AAgvxf8A+hp/8qEn/wATR7aX8jD+y6H/AEEw/E9xorw7/hBfi/8A9DT/AOVCT/4ms/XfD3xW8PaHdarf+KJDb2qb5BHfyFsZA4GPek68kruDKjlNKclGOIg2/U+gaK4r4S6zf678O7O81a4a5ufMkjMr/eYBjjPqccV2tdEZKUVJdTyMRRlQqypS3i2vuCiiiqMQooooAKKKKACvMfjfaxXtl4JtLjf5U/i+wjfy5GjbawkBwykFTg9QQR2r06vNvjJ/zIX/AGOenf8AtSgCVfDvw4bWv7HXXpDqe8x/Yh4ruvO3AZ27PtG7OO2Kc/hr4dR60NHk1yZNULBRYt4quhOSRkDy/P3Zxz0q14Rg1ttU16S3v7FNO/ti6BtmsnMxbA5Evm7QM4OPLPHHvXLJqehH4MzeF5XhbxQ9o6SaRkG9bUDlvM8v7+fMxJ5mMY+bOBmlHVJ+Sf3/ANfkO2rXnY6HV/Cvw+8PmIa9rNxphmz5X23xTdw+ZjGcbpxnGR09auR/D7whLOIIrjUnlMYmEa+Ir0tsJwGx533SQeenFYT6v/wi+ueJpNb1fS9H1q6eF7K+1eImG4tkgjBijJkjziTzMqGyC+SDu5Xw/wCKdL03XdKvfEl3pfh9rzwvZstvLItrGjF3JRFc8AZxjsMU1q1/XRv9LC6X/rdL9TafwF4Nj1KPT3u9QW9ljMsdsfEd6JHQHBYL5+SAe9SR/DvwnNNNDDNqkksBAlRfEN6WjJGQGHncZBB57VxOo61e3WqXvjq00LULi1sNRT7NqcLQGE6fCGjm4MnmEHzJ24Qg4QjpmuqsPFvh3RvG3ihdX13TbF55raSFLm7SNpV+zpyqk5YfSlfS7/r+v0YdbL+v6/VFiPwF4Nl1Cawiu9Qe8gRXltl8R3pkjVvull8/IB7E9arxeEfAM+tSaPBqt1JqcQ3SWSeJ7szIMA5MYn3Dgjt3Fcvo2q6haa3pXjG90DUbKHVr+RL2/lMHkta3GxLb5RIZBjy7cfMgxubOM1s6PqNjpXjWHStB1Sw1q1vNTuJ5dNaH/TdJlYOZJSRyE3Flw6qf3gAcjCmknon/AE9NPxB21a/pa/5Gze/D/wAH6bZS3mo3OpWlrCN0k8/iK9REHqWM+BVOy8K/D7UtOk1DTtZuLuyify5LmDxTdvGjcfKWE+AfmHHuPWtf4klx8PdTMKq0g8rarNtBPmpgE4OB74Nc14q0TV10PxLr+rLY2V7e29paxW9nK9xGixzZDu7LGXYmQ8bRgADPNTfcOhtJ8PvCD3slmlxqTXUSLJJAPEV6XRWJCsV87IBwcHvg+lT/APCsfDXprH/g+vv/AI9UfgF1tBqWlaogTxHDOZtRlbrebidlwp/55sowFHCbSn8NdjT6B1OS/wCFY+GvTWP/AAfX3/x6j/hWPhr01j/wfX3/AMerraKAPLdB8KeFh4elvvEOo6hbj+176zjluPEV3EpCXk0USA+cATtRQO5x3Nbk/gHwdbSOlzdajC6QtOyyeI71Ssa/ecgz8KO56CsG60611fwXY6dqEKzWt14wv4po26MrX12CKpxNqtzr+teGdRWW61XTvDN1axzbTm9jZl8mUE9WYfKw/vq3bFRzOz8r/hG47ar5fi7HWN8PvCCNbq1xqSm5OIAfEV7+9O0t8v775vlBPHYZqOy8C+CtSszd6de393bAspng8SXjoCpww3CfHHf0qlZa9pniPWPBlvod5Fez2Aee9iicF7NRbNHiVesbb3C7Wwc544OOT8PR3Vhoth4csVZIPGVtGySRAjyWT5btsjhSYApU/wB7PWtJK0uVfL+u25MXeN38zr5fDXw6g0aPV5tcmj0yVtsd6/iq6ELnkYD+ftJ4PfsaryaR8L4tPhvpfEwSzndkiuG8XXIjkZfvBW+0YJGRkDpmsqa4TSvh/wCH5Yr+x0lIPE1yFur5MwQjzrkDcN6cdvvDtWlqF/qGteI/CE+geIdC1C92X4+329q0tqxCp8oRZyQcYH+sPPOO1Tfdrv8Aon+o+yf9atfoasXgXwVMtoYb2/kF8u+1KeJLw/aF27sp+/8AmGOcjPHNQDwp8P21w6MusXB1UdbEeKLvzxxu/wBX5+7pz06c1i6CVMngSK03R3UMupxXEcpB8q6CP5q8ADaJN2MAfLitfwDrnhyLwxovh++uLRdfhKrdabLhrpbwZMkjR8tktufzMYIO7ODmq+01/X9f5oV9Lv8Ar+v8zV/4Vj4a9NY/8H19/wDHqP8AhWPhr01j/wAH19/8erraKQzkv+FY+GvTWP8AwfX3/wAeo/4Vj4a9NY/8H19/8erraKAOS/4Vj4a9NY/8H19/8erD8a+AtE0jwD4g1LT5NYhu7PTLmeCT+3L1tjpEzKcGYg4IHBGK9Jrm/iP/AMks8V/9gW8/9EPQBmP4D8GRalFp0l5qCX0yGSO1bxJeiV0HVgnn5IHrUV14N8CWNncXl7qd3bW1rJ5U883ia8RIX4+VmM+FPzDg+o9ar+LdDn1n4hLJpjpDq2n6St3p8z5wsqzH5Wx/C6lkb2Y1zHh3X7K68RW/iXXYzYaOuqX3mNejbHY3pit1XzGIwpGJkDHAycA/MMqHvfj+Dt+P527hLR/d+V/6+fY6VtB+GqaQmqv4hZdOeTylvD4suhCz/wB0P9o2k8HjOeKm0jwr8PvEHm/2DrFxqfk4837F4pu5vLznG7bOcZwevoasaDcWmqeNPEer6A8c+kXFhbxvdwcw3Vypl3Mjj5XKoY1LDPQDOVwL/wAMv+SWeGv+wbD/AOgCqWz+X43/AMvxB/1+H+djPg8D+Cbl7tLa+vpmsm2XSx+JbxjA2M4fE/ynHODin2/gPwZdo72l3qE6xqrO0XiO9YKGUMpOJ+AVII9Qc1yd7DLoEfibxbYxs8Qv7yz1eFASZLc/dlAHVomYn/cZ/arHhrxBpfhrS9Rj128isHvdLsprNJ2CtdgWaIRED/rGDKRtXJyV45Gc+ZuHN5J/emx29/l6Xf4NL+v+CdJH4C8GzfZvJu9Qk+1xmW32+I70+cgAJZP3/wAwwQcj1FSR/DvwnNNNDDNqkksBAlRfEN6WjJGQGHncZBB57VjR3lp4Uk+Hw8TXltpIt9Imgla9nWJUkEUI2lmIGcg8e1XtC8WeHIfHPiGObX9Lje/ntHs1e9jBuVa3QKYxn5wTwMZzWklaTiiYtuKbKHjz4d+H7L4c+JLu3Gq+bBpN1Inma3eSLuWFiMq0pDDI6EEHvXSfDL/klHhX/sEWv/opak+I/wDySzxX/wBgW8/9EPUfwy/5JR4V/wCwRa/+ilpFdDqKKKKBHmvx5/5Jof8Ar8i/9mro/hv/AMk00H/rzSuc+PP/ACTQ/wDX5F/7NXR/Df8A5JpoP/Xmlcy/3h+h7dT/AJFEP8b/ACPnPxl/yPWvf9hK4/8ARrUUeMv+R617/sJXH/o1qK+aqfGz9twn+70/8K/I+mvBv/Ii6D/2Dbf/ANFLXH/tB/8AJCfEP/bt/wClMVdh4N/5EXQf+wbb/wDopa4/9oP/AJIT4h/7dv8A0pir6un8C9D8Axf+8VPV/mS+Abzxivw28NLZ6FoctuNJtRFJLrUyOy+SuCyi1YKSOoBOPU9a6D7d43/6F7w//wCD6f8A+Q64rw94zvvDug+BrV7e3bQ/+EdsZdQnIPm2+9FjWQHONgbbu4yASc8Voat8Qb611v7FJq2g6Hb/AG+6tvtuqRM0e2KOFlH+ujG4mRu/YcVSd1def4OxzPR2/ra50v27xv8A9C94f/8AB9P/APIdH27xv/0L3h//AMH0/wD8h1DpniO7HiS207UrzTry0vtL+22d/ZRGOOZkbEuMyONu14mXB6FuTWh4S1e61/w3Bq15CkAvGeW3jVSCICx8otn+IptY9OtV/X42/Rh/X6lX7d43/wChe8P/APg+n/8AkOj7d43/AOhe8P8A/g+n/wDkOukopAc39u8b/wDQveH/APwfT/8AyHR9u8b/APQveH//AAfT/wDyHXSUUAc39u8b/wDQveH/APwfT/8AyHR9u8b/APQveH//AAfT/wDyHXSUUAc39u8b/wDQveH/APwfT/8AyHR9u8b/APQveH//AAfT/wDyHXSUUAc39u8b/wDQveH/APwfT/8AyHR9u8b/APQveH//AAfT/wDyHXSUUAc39u8b/wDQveH/APwfT/8AyHR9u8b/APQveH//AAfT/wDyHXSUUAed+Przxi3w28SreaFocVudJuhLJFrUzuq+S2Sqm1UMQOgJGfUda6D7d43/AOhe8P8A/g+n/wDkOj4j/wDJLPFf/YFvP/RD1M+u3Fp47/se+EKWVzp5urOUKQ2+N8TKxJwcB42GAP4utH9fqBD9u8b/APQveH//AAfT/wDyHR9u8b/9C94f/wDB9P8A/IdZbeMNXuPAtlqdjbWiaprN2ItKt51bYY3clGcZBP7lTIcEelUNT+IswsfC9xDqmjaFFq8UxurnV4i8cEsQXdEP3sfO8svLHpQB0f27xv8A9C94f/8AB9P/APIdH27xv/0L3h//AMH0/wD8h1l2Xi3W9WsdDsbO3tLTWNTgmuJJ7mGQwxQwuqGVYtyu3mF0KqWGA2SxxhpdR8XXXhbVtDs/F+oaLbQXpuRNfEm3jOwKY8CRyEJ3EFSzdOD2o2Av/bvG/wD0L3h//wAH0/8A8h0fbvG//QveH/8AwfT/APyHWVbfEEXfhjxLrFlJY3sdhfNZ6a1s+6O6YpH5Y3BiGLSSbcjFR3njfUrP4Z6jq8/2CDWdLuPsl4HRvs8cgmVC+3eDtKMHHzdGHNHS/o/v/wCHX3h/nYvapH4v1jSbvTb7w3oD213C0MoGvzg7WGDg/Y+Dz1qeC68cQ28cR0HQpCihd769NubA6nFnjNU/D3iLW9et9Wg06/0XU2t3iFrrFrbyLZyb/vrtEj72TGSFkAO5QSpzVIeL9baxmsJ5LU6iPEEWkRX1pAUilUhZJHWN2fDKnmKRuYbl+oDW9vT80v1F0v2v/n+hu/bvG/8A0L3h/wD8H0//AMh1naTZ+LtHa+a20DQ5JL+7e7nkl1+YsztgY4sxwFVVA9FHU80l34p1S08fPpt9c2+m6X58MVs8+jXLi6LoCVF0HEKMWJUAgnOBgk1BYeMdburux1KWOwGh6jqsumwwLE/2iIK0iLK0m4qdzRH5NgwGHzEjlLuuun5affYb0Wvr+D/S5s/bvG//AEL3h/8A8H0//wAh0fbvG/8A0L3h/wD8H0//AMh1Y8I6lc6jojrqMhlvLK6ns55CADIY5CofAAA3KFbgDr0rcoA5v7d43/6F7w//AOD6f/5Drn/Bd54xXQbkWuhaHIn9rakS0mtTIQ326fcMC1PAbIBzyADgZwPRK81GuaxoXgMy+G7a1ur+48Tajbxw3W7a+b+5O3IIwTtwD0GeQaTdhnTfbvG//QveH/8AwfT/APyHR9u8b/8AQveH/wDwfT//ACHWcfiJbMo1GFQ+kjQptVf5T5ytG6qYzzgEZYEY4YdaSfXPFmi2djrGvf2Q9hcXEMVzZW8EiS2gmcIpEzSFZdrOob5EyMkYxgvX+vVr80Tf+vkn+qNL7d43/wChe8P/APg+n/8AkOj7d43/AOhe8P8A/g+n/wDkOs2w1HxhL48udEutU0NreztoLuR49ImV5FkeRSgzckKQI/vYPXpxyvibxnfeHfGtjavb27aH9nWXUJyD5tvvkMayA5xsDbd3GQCTnijql3/r9BvS/l/X6mj9u8b/APQveH//AAfT/wDyHR9u8b/9C94f/wDB9P8A/IdUh4uvjfCHyrbYfEJ0vO1s+V5Pmbvvfez36Y7Ua74uv9L1DWoLeK3ZbCOwaIurEkzzNG+cEdAoxjHPXNC1V/62T/UOtv63a/Qu/bvG/wD0L3h//wAH0/8A8h0fbvG//QveH/8AwfT/APyHVy/1ee18W6RpcaRmC+huJJGYHcDGE24OcfxHPB7VsUAc39u8b/8AQveH/wDwfT//ACHR9u8b/wDQveH/APwfT/8AyHXSUUAc39u8b/8AQveH/wDwfT//ACHR9u8b/wDQveH/APwfT/8AyHXSUUAeW6fJfS/tMRvqtvb212fBh8yK2uGmjX/TjjDsiE8YP3Rg8c9T6lXm3/N03/cmf+3tek0AFFFFABRRRQAVyPxU/wCSXa5/17j/ANDWuurkfip/yS7XP+vcf+hrWdT4Jeh14H/eqX+JfmjK+B3/ACS20/67zf8AoZr0OvPPgd/yS20/67zf+hmvQ6VH+FH0Ncz/AN+q/wCJ/mFFFFannhRRRQAUUUUAFeZfG1p1tfBDWccctwPGFgYo5ZCiM2JMBmAYqCepAOPQ9K9Nrzb4yf8AMhf9jnp3/tSgDpft3jf/AKF7w/8A+D6f/wCQ6Pt3jf8A6F7w/wD+D6f/AOQ6zNC8Vatq/izUNNnvdIs5bWeaP+yJoJFu0iXiO4DF8So3yn5UAw+N+V5h/wCEo8QaTq+rHVr3S9S0rRbB7nUJLLTZbd0l27kiUtPICxXLEYGAU/vcK+l/K/8AX9eQ7O9vkbP27xv/ANC94f8A/B9P/wDIdH27xv8A9C94f/8AB9P/APIdZs+ueLNFs7HWNf8A7IfT7i4hiubK2gkSa0EzhFImaQrLtZ1Dfu0yMkYxg49v8RtRk8X/ANnf2loU5/tx9N/seONlvRCM/v8Ad5x4AG45jAIBGQcU/tcvX/hv80Tf3ebp/wAO/wBDqvt3jf8A6F7w/wD+D6f/AOQ6Pt3jf/oXvD//AIPp/wD5DqjfeMru18fxaakVu2ipLFZXVyQTJHdyq7xqDnAXAjByM5lXkYrsqOlx7Oxzf27xv/0L3h//AMH0/wD8h1W1CTx7eWMkFvpmj2Ej423NtrjmROc8CSxZeenKnrWN4d8d3uraVfXz+IvDd1c21pcTnSLSBhcQGMkDeftDHHAz8i9R0rb8IeKbzxeI9Qsltf7GWAI1woJa5ucDf5fOBGhyuTks2cYC5ZL3tvX8/wDIHp/Xp/mZumWPxHsLwT3U9rqcYUj7PdazGqE+uYtMRsj61s/bvG//AEL3h/8A8H0//wAh10lFMDm/t3jf/oXvD/8A4Pp//kOj7d43/wChe8P/APg+n/8AkOukooA5v7d43/6F7w//AOD6f/5Do+3eN/8AoXvD/wD4Pp//AJDrpKKAPO/Bd54xXQbkWuhaHIn9rakS0mtTIQ326fcMC1PAbIBzyADgZwOg+3eN/wDoXvD/AP4Pp/8A5DrmRrmsaF4DMvhu2tbq/uPE2o28cN1u2vm/uTtyCME7cA9BnkGtOfx81zbveaOkL2reH7jVI/OU71ljYDy3APGCSGHXI61PMrN9v0V/yHbVLv8Aq7fmaf27xv8A9C94f/8AB9P/APIdH27xv/0L3h//AMH0/wD8h0+51+6huvDEaxwkavIyz5U/KBbvL8vPHzKOuePzrnPDfxHvLzwbqmo67bWy6lZIksNvaAgXCSj9xgMScs+Y+vLKcVck02uxMXzJNHQfbvG//QveH/8AwfT/APyHR9u8b/8AQveH/wDwfT//ACHXPTeOdXt/Aek6lqF7oumXl1qklhdXlzC/2WEI8q79plUjPljq/em6r45vNPj0AL4u8KC31RrkvrL2x+y4jC7VUfasZySCfMPTpS7+Wg+39f1sdH9u8b/9C94f/wDB9P8A/IdH27xv/wBC94f/APB9P/8AIdZum+MtSnHhX7fawwf2sLr7UTG68QoSskYY5VXwGAbJ2sPrRZ+JPEFz4dXxfK2lw6E9s16LBoZPtC2+wsrGcPt3kYbb5eBnbu43FNpXv0CPvbGl9u8b/wDQveH/APwfT/8AyHR9u8b/APQveH//AAfT/wDyHWRqnizWNG+HthOggvPEd1YG7ZJkxHGqp5krsqkHYuQo5GSyDPOa07LXL1/EGhrcuPs2saUZhGqgLHOmxjj+L5lkPBJ/1Y981b3mu3/B/wAvvFdWT7/8D/Mk+3eN/wDoXvD/AP4Pp/8A5Do+3eN/+he8P/8Ag+n/APkOukopDOb+3eN/+he8P/8Ag+n/APkOuf8AH154xb4beJVvNC0OK3Ok3Qlki1qZ3VfJbJVTaqGIHQEjPqOteiVzfxH/AOSWeK/+wLef+iHoAPt3jf8A6F7w/wD+D6f/AOQ6Pt3jf/oXvD//AIPp/wD5DrO8TeM77w741sbV7e3bQ/s6y6hOQfNt98hjWQHONgbbu4yASc8VGfGGs6hr0+g6RHYx3xvriNLmeJ3jgtoUiLOyBgXctMqgBlHOe2CR97bz/B2YPR2f9XVzV+3eN/8AoXvD/wD4Pp//AJDo+3eN/wDoXvD/AP4Pp/8A5DqhFq3ih9Q1HQpbzSIdUsooryO8FhI8NxbvvXHk+eGRw8ZGd7DGD3wLngLU9c1zwtZazr1zp8n9oW0c8UNlZvD5O4ZIZmlff1HIC9D68C11/r+tGD0H/bvG/wD0L3h//wAH0/8A8h0fbvG//QveH/8AwfT/APyHWLYePNRPiLXNP1W3tYoomuRpE0YYec0A/eRyZbl8FWGMZG7+7Wj4W8VX2t2GoT3cVujWttbSoIlYAmS2SVs5J43MQPb86nmXLzdLJ/f/AMMO3vcvXVfdb/Ms/bvG/wD0L3h//wAH0/8A8h0fbvG//QveH/8AwfT/APyHUGk+Kb2/bwmJordf7a017u42q3yOEjYBOeBlz1z25rT0rV577xDrlhMkYi06aKOIqDuYPErndz6semOKtqzsyU7q6OT8fXnjFvht4lW80LQ4rc6TdCWSLWpndV8lslVNqoYgdASM+o61r/Dq4itPg94auLhxHDDotvJI56KohUk/lVn4j/8AJLPFf/YFvP8A0Q9Zvgx7aP4E6K+oRtJaL4fiM6J95k8gbgORzjPcVLNIK8kjptH17SvEFp9p0W/gvYu5icEr7EdQfY1oV8ganqWj6XqyX3gG91qyIP3bkIjJ7B0c5HsR+dd54W+P+p2WyDxTaDUYRwbmABJR9V+63/jv1rihjI3tPT8j6bE8OV1H2mH95dnpL/Jnc/Hn/kmh/wCvyL/2auj+G/8AyTTQf+vNK8j+JnxZ0Lxn4QOlaXaajFP9oSXdcRoq4Gc8q5OefSvXfhwCPhroORj/AEJOv0q6c4zrtxfQwxeHq4fK4Qqxs+d/kfOXjL/kete/7CVx/wCjWoo8Zf8AI9a9/wBhK4/9GtRXzlT42fs2E/3en/hX5H014N/5EXQf+wbb/wDopa4/9oP/AJIT4h/7dv8A0pirsPBv/Ii6D/2Dbf8A9FLXH/tB/wDJCfEP/bt/6UxV9XT+Beh+AYv/AHip6v8AMueAvDsF74M8N6heMk1vceFLSwltHjyrqY1YknPIIOMYqHSPhrqnh37LJo/iSGS4tbi4dJNR09p8xSrGio22ZCWVYlG7PPcVieFtO+HVn4J8MQ6t4TsrzUrjQ7S6lNv4be9kYNGAXdo4X5LA8k5Jro7LQPhhf6/caJbeGNAOpW0KTy2z6KiMqMAQfmjAP3hkDkZGcVUbdP61v+dzmfn/AFpb8rfgaPifwfeeKtAs7W71dbTULeQl72ztigZWRo5EVC5Khkcjljg4POMV08EMdtbxwQKEjiUIijooAwBXF6d4a+Gmq6rqOm2Hhfw/NdaaypdJ/Y8ahC2cYYoA33SPlJwQQeaitND+Ft9/av2Tw34ek/sd2S+xo8Y8oqDnrH82NrDK5GVI6g072V/n/Xl/XULXf4HeUVxdl4V+G2o3EUFn4V8PySS2kd6i/wBkRDMLkhW5Tvg8dfatD/hXHgj/AKE3w/8A+CuD/wCJoC9zpKK5v/hXHgj/AKE3w/8A+CuD/wCJo/4Vx4I/6E3w/wD+CuD/AOJoA6Siub/4Vx4I/wChN8P/APgrg/8AiaP+FceCP+hN8P8A/grg/wDiaAOkorm/+FceCP8AoTfD/wD4K4P/AImj/hXHgj/oTfD/AP4K4P8A4mgDpKK5v/hXHgj/AKE3w/8A+CuD/wCJo/4Vx4I/6E3w/wD+CuD/AOJoA6Siub/4Vx4I/wChN8P/APgrg/8AiaP+FceCP+hN8P8A/grg/wDiaAD4j/8AJLPFf/YFvP8A0Q9L408JHxdptvbw6jJpk8MpYXMSbm8tkaOROo+8jkZ7HBwcVz3j7wD4Ps/ht4lurPwnocFxDpN1JFLFpsKvGwhYhlIXIIIyCK04vB3w7m1q40lPCegfbreFJ5IjpEQxG5YKwJTDDKMOCcY5xRuPbUt6v4Jtdb1fS57u7uobHS4HS2tLOeS2ZZGwvmebG6twgKhRx8xqjo/w6i0XXoLq31KWXT7ae6mhs7hWlZftCIHUys5ZvnVnycn5yO2arXGifC210C61qbw34fGnWkrQyzro0bYdZPLKgCMljv8Al+UHJ6U3UdH+F+lx6e9x4T0ib+0kMlotn4e+1NKoAYsFiiY4wwOSO9H9ffqK3T+tC5B4DutOtdMOj6ylvfaS08NnNNaebGLSRsi3kQOpYKFQBgyn5AfUHRh8N38us6Rqur6tHdXWn/aNwitPKjcShQAo3sVChe5YnJ5rCk0f4WR6Jaat/wAIzoMlrekLbCHREklmbnKrEsZkLDByoXK7WyBg4fZaF8MNQms4bfwtoYmvDKIYZdDWKTMeN4ZXjBQgEHDAE5GKA8yxefDqPULqYXmqT/YZ9YOqy29vvgdmESpGglRwy7WUPkYJIA4xzHN8NIVg1m10/VbqK01Y20skd08l26TROCZPMkkLHcqouCeNoI9KcPDHw0Nrqdz/AMIx4eEOlO6XrtpEQEJRA7dU5wpByM1XbRfhavhQeJP+EY0E6UyhhMuiIW5baB5Yj353cYxnPahaL7vy0/BfgG7/AK76/izU1TwlqTza5N4c14aNJrEcO5vsnm+TMvyvKvzr8zxhF9tgIOaybvwvquk6BpChrK8XRtUt7mGDTNPkhPl5ZJSQ00hdtsrPnOSQepNNi0z4XTaRqeop4T0dI9LQyXcVxoAt5oxt3D93LGrcjocYPQdDUkuhfDWC/t7GXwZpZvJkR2gg8PC4MAf7vmmKNlj78sQOCc4BNC0a+X4aoHqvv/yZrar4Z1bW7wQanrdvJogu47r7IlgVnby2DpGZvM2lQ6g/6sEgYz3qvZeBprTUbZH1RJNFsr+XUbWxFriVZnLnDS7yGRWkcgBFP3QWODnOh0v4VXGvHR4vDWgm7854AToaiF5VGWjWYx+WzgZyoYkYPHBq/png7wDqv2sQ+CtDjezuXtpkk0u3yGXBzwDwVKsO+GGQDxQvL1/LX8tQfW/9b/8ABL3ga3uo9Bnu7+2ktZ9Rvri8MEqlXjR5D5YYHkHYEyOxzXSVzf8AwrjwR/0Jvh//AMFcH/xNH/CuPBH/AEJvh/8A8FcH/wATR5B1udJXEeHdH/tjw7D+/wDJ+xeJ9Ru/ubt+y/ufl6jGc9efpWn/AMK48Ef9Cb4f/wDBXB/8TXF6Vovw50HwfPqnijw/oUUH9t6hbCeXSo5NuL6dUXhCQoVQPRQvYCjqvVff0/EOjOl/4VtYnxPrd+90507WrKS2n04IAEeUr5siuDxu2gkY+9ls8mpU8Jazdx2djr3iGK90uymimSKGw8iecxMGjE0nmMrAFQSERMkDoMqUbwb8O01Mae/hTw8Lk27XIQ6VDjywQpbdsx1I71j2Vr8JtQvbe2tvDOjf6W5jtZ5PD3l29ywycRTNEI5MgEjaxyBkZoWlrdP0b/W4PW7f9aL9LHYW+heR4xvdd+0bvtVlDa+Rsxs8t5G3bs858zGMcY96S68OwXviCfULxkmt7jTjYS2jx5V1LliSc8gg4xiuOtrf4V3erjS4fBdt9t+QtE/g+ZNgYlVZi1uAqkg/MSBweeDWjc+HfhjZ+JLPQbnwz4ej1O9jaW3gOkR/vFXOcNs254JxnPB44ote3z/W/wCFxtu7+X4Wt+SGaX8NpdJ8Nf2dBrs0t1BqY1GyvJoAxjKqERJF3fvBsG1jlS2Scg81ZufBF9f6bqzX+swPq+pvbk3UdkywRLA4aNFhMpOM7icvkljyAABD/wAI38M/O8r/AIRfw/v+2/2fj+x4/wDX7N+z7n93nPT3ovPDfwzsJrqK78L+H43tFhacf2PGdgmcpH0TnLAjjp3xRuv67L9LE6J/13f63LV14c8UXWoafqT6/pC39j5yIw0aXymSQJkFPtOdwKdd2OeneuptVuEtIlvZYprgKBLJDEY0Zu5ClmKj2LH61y03gr4e2+pW1hL4S8Prc3Su8Mf9kxHcExu52YGNw6+tWv8AhXHgj/oTfD//AIK4P/iaBnSUVzf/AArjwR/0Jvh//wAFcH/xNH/CuPBH/Qm+H/8AwVwf/E0AdJRXN/8ACuPBH/Qm+H//AAVwf/E0f8K48Ef9Cb4f/wDBXB/8TQBzX/N03/cmf+3tek15bp+m2OkftMR2OlWdvY2kXgw+Xb20Sxxpm+JOFUADJJP1NepUAFFFFABRRRQAVyPxU/5Jdrn/AF7j/wBDWuurkfip/wAku1z/AK9x/wChrWdT4Jeh14H/AHql/iX5oyvgd/yS20/67zf+hmvQ688+B3/JLbT/AK7zf+hmvQ6VH+FH0Ncz/wB+q/4n+YUUUVqeeFFFFABRRUF5e22nWct3fzx29vEu6SWVgqqPcmgaTbsievNvjJ/zIX/Y56d/7UrG1H4z6lrPii30n4e6St+vmYeWeNv3ozyQARsX/ab8hWr8bbaC8tfBFreQxz283jCwjlilQMkikSAqwPBBBwQazhUjO/L0OvE4KthVH2ys5dOvzXQ6O48K6vqGtWV1qmuW08GmzyXFkqacEmVyrKvmSeYQygOchUTdgZPUGpo3gnVrXQ7jQ9b1jTtR0y8jmW88rTJILi4aUHfIZTcMNxJz9z2GABhsnhv4Zx6Tfam/hfw+LPT3kS5k/seP920Zw4xsycEdgc9qZrHh74Z6HJbxX/hPRWnuQTDb2ugrczOo6sI4o2baMjLYwMjJ5FXpb1OTW9+36FxPCWs3cdnY694hivdLspopkihsPInnMTBoxNJ5jKwBUEhETJA6DKmnJ8P9RnkurSfXLU6Pc6v/AGq8CacwuAwlWUIJjKVA3KOfLzjPTOabYaH8LtSu4LW08M6AZ54HuI45dFSNiiPsfIaMYZW4ZThl7gVSa3+FAW1aHwlpt39rg+0Qiz8LvcFot23fiOBiASOCcZ6jIqr2d+v9f/I/gLpb+v61/Et3Hwps7vSdQW51fUTqt7cveG9ju50iSffujf7MJPLOzagAIOQg5rbg8baa7Rwvba40pIQufDt+ilumcmHAH1OB61gTaX8MIdWfTf8AhDLGa6jKCRbfwrJMsZcBlDOkBVTgg8kY74rUsfBXw91JJnsvCXh+VYJ3t5D/AGTENsiHDDlOx79KS7dP6X+X4A+/9a/1+Zo2Hhr7D4Ifw99r37reWH7R5eMb93O3Pbd69qh0Pwn/AMI/qguNPvdlvPbJHe2pi+WeZFVFnU5+Riq4YchgF6EZMN14B8BWVnNdXPhDw+kMEbSSN/ZUJ2qBknATPQViWOn/AAt1AQtD4P0+JLiSOKF7rwu9usrPnaFaSFQ2cHkUlZPTy/W39f5A9tf62ueiUVx2neD/AIdas10NO8KeH5xaTtbyuukRBRIv3lDFMNjODtJAIIPIIq7/AMK48Ef9Cb4f/wDBXB/8TTA6Siub/wCFceCP+hN8P/8Agrg/+Jo/4Vx4I/6E3w//AOCuD/4mgDpKK5v/AIVx4I/6E3w//wCCuD/4mj/hXHgj/oTfD/8A4K4P/iaAMzw7o/8AbHh2H9/5P2LxPqN39zdv2X9z8vUYznrz9Kmj+HdpH4s1nVBeSCx1ezkt5dPWMARvIV82RXzxu2gkY+9ls8muY0rRfhzoPg+fVPFHh/QooP7b1C2E8ulRybcX06ovCEhQqgeihewFb+qeHfhlo3n/ANo+FtBjNvZvfSBdFR9sCEBn+WM5xkcDmlZfn+Wv4f5j1/L89Px/yL2l+E9Th1DS5tc1uLUINHjZbGOKyMDlinl75W8xg7BMj5VQZYnHQCna/DWC3vPDs76izjR4vKuI1hCi+2tvi3ckr5bksOvJqa48H/Dm1exSfwt4dDahL5VqBpULea2wvxhOm1Sc9MCodL8NfDPWrvULbTPDHh6ebTZjBdKNIiXy35GMlBu5BGRkZBHUGq1vfqv6/UnS1uj/AK/Qsy+C7uPQbCz03VYIbqx1SXUY57izMqMXeVthQSKePNxnd2/Cra+HNQu9X0nUtb1G0uZ9PW4RltrJoY5VlVRjDSuRjb6nOe1c7o9j8KddvYbXTvCukGS4V2gafw4YI5wn3vLeSFVcjrhSTjJ6Cmz23wlt550l8M6L5cBdZLpfD263DICWUTiLyywwRtDE5BXGeKnRL8f0Hrc2tO8C/YJNDVtR8620WS6FvC0HWCUFUiJ3dEUhc45CjgVUPgbWI/Dc/hqDxDD/AGC1tLbQwNYZuUiZCqxGbzNpVcgZ8sNtAGc/NUh8K/DcSaah8K+H92q5+xj+yIv3uELn+Dj5QTzj86ZL4a+GcHiSDQJfDHh5dTuITPHB/ZEXzIM87tm0fdbgnJ2nHQ0Sje6fUIytqvUYPBVr4s8I2s+rpqGm6xNpC2MzRXlxB5ZCkENGkiq4DFjg5BHtU9hoU2n+KvD+nQJdS2GiaXKXvJ3d/MlkKIqhnJJOFkJGTtBUdMVmxWXwpm1g6YnhXSBP9qaz8x/DhWDzxnMfnGHy93GAN3J4HNSXOkfDK0nvIp/B2kk2lwtq3kaCk7SStGJNiJHGzsQhBOF4/A4q93zd9f6+/wDIVrLl7f1+lj0GivPm0v4VL4ft9ZHhrQXs7qXyYPL0NXlkkyR5YiEZkLgq2V25G05AwadaaL8M9Qk00WXhHQ5otSMqQzf2RCgWSMZaN1ZQ6vw3yleNjA4OMoZ39c38R/8Aklniv/sC3n/oh6P+FceCP+hN8P8A/grg/wDia5/x94B8H2fw28S3Vn4T0OC4h0m6kili02FXjYQsQykLkEEZBFAHWXXh2C98QT6heMk1vcacbCW0ePKupcsSTnkEHGMVy+jfDK68P28Mul+IWbU7W5me3uru081TBIsamGVA6l8LEnzhlOVB9QbFz4d+GNn4ks9BufDPh6PU72NpbeA6RH+8Vc5w2zbngnGc8HjioLzR/hZYwyyXHhnQSYrs2Rii0RJJXmChiiRrGWc7Tn5QeMnsaUdNv61/z/OwPXf+tP8AL/M6HSPDtxaXl/qWr6it/ql/EkEksUHkwxRpu2pHGWYgZdiSWYknqBgC14Z0X/hHPCum6N5/2n7DbJB52zZv2jGduTj6ZNcclh8LJdPmu4fCGnSrbzCGeCPwu7XELFdw3wCHzEBHOSoHTnmrPh/QPhp4otTc6N4O0uS32q6yz+HDbpIrZwUaWJQ44/hz29RVa6/L/gfmBd1XwBFqnh3VNNa/aG4u7+TULW8SEbrOU/dIBPzY5B6blYjjNQReBdU023kg0LxBFaJd2UFpeGewMzExxeUJYiJF8tioHDBxkLx1zDZaH8LdQu9WtbPw34ekn0dtt9H/AGPGDDwT3j+YfKeVyOCKm0/wz8NNVhnlsPC/h+VII0kkP9jxrtV4xIp5QZyrA/8A16jRRt0svutp+H3j15vPX87v8f61Lt74Su4n0J/DOo21gdFtntYlvbNrpXjZUXnbLGcgIOcnrSWfh7xHY69dajDrmllL94XvIn0mQlmSNUby2+0fICF4yGxnvVO28L/DW7Omi38LeH3/ALUgNxZ/8SeMebGApLcpxw68HB5qxb+Cvh7d3t3aW/hLw+89kypOn9kxDYWUMOSmDwQeKt3vruSrW02LXxH/AOSWeK/+wLef+iHqt8OY45vg74biuIxLE+jW6vGRkOpiGRjvkVkePvAPg+z+G3iW6s/CehwXEOk3UkUsWmwq8bCFiGUhcggjIIrT+El9b6j8IPDE1nJ5ka6dFCW2kYeMeW459GVhnvjjikUnZ3PG49B1P4q695eg+HrHw9o1s5UzR2ix7ccHcwAMj/7I4HfHWvZfD/wu8J6DpaWh0i11GTrJcX0CSu7f8CB2j2H/ANeuwornp4eMXd6s9fF5tXrxVOn7kF0Tf4vdmH/whPhQdPDOj/8Agvi/+JrajjSKNY4kVEQBVVRgKB0AFOordJLY8udSc/jbZ8meMv8Akete/wCwlcf+jWoo8Zf8j1r3/YSuP/RrUV8lU+Nn9CYT/d6f+FfkfTXg3/kRdB/7Btv/AOilrj/2g/8AkhPiH/t2/wDSmKuw8G/8iLoP/YNt/wD0Utcf+0H/AMkJ8Q/9u3/pTFX1dP4F6H4Bi/8AeKnq/wAzB0Dz7Wy8KXZvvEOm27+EdPjE+j6SbwSMASUb/R5guAQf4evetXWrbV9P8Rar4s0bS727uLO8gaK3W3YPeW8lskciqCAeH2MfQxkGr3gGz8Yt8NvDTWeu6HFbnSbUxRy6LM7qvkrgMwulDEDqQBn0HSug+w+N/wDoYfD/AP4IZ/8A5MqktEv61dznv71/62sc3o2m6j4LHiCeKxub+6j0i1dWhhZvtl2WuHk28ckySZPoG7CseHQvFfh6OBLzRoJI73R7jTryXTbqS6eWcq8yTSJ5KbcuZRkFuZQK7z7D43/6GHw//wCCGf8A+TKPsPjf/oYfD/8A4IZ//kyiS5r+f/B/z/II+7/Xp/kc3o143hzWNKm1XT9VEbeGrO33W2l3NztlVmLI3lRttIyODivR1YMoYZwRnkYP5Vzn2Hxv/wBDD4f/APBDP/8AJlH2Hxv/ANDD4f8A/BDP/wDJlU3f8fxbf6kJW/D8El+h0lFc39h8b/8AQw+H/wDwQz//ACZR9h8b/wDQw+H/APwQz/8AyZSKOkorm/sPjf8A6GHw/wD+CGf/AOTKPsPjf/oYfD//AIIZ/wD5MoA6Siub+w+N/wDoYfD/AP4IZ/8A5Mo+w+N/+hh8P/8Aghn/APkygDpKK5v7D43/AOhh8P8A/ghn/wDkyj7D43/6GHw//wCCGf8A+TKAOkorm/sPjf8A6GHw/wD+CGf/AOTKPsPjf/oYfD//AIIZ/wD5MoAPiP8A8ks8V/8AYFvP/RD1m+PE1TSdQsPEvh3T59Qvo4pdPkt4FLF0lGY2IHZZUTJ6BWc1R8fWfjFfht4la813Q5bcaTdGWOLRZkdl8lshWN0wUkdCQceh6V0H2Hxv/wBDD4f/APBDP/8AJlJq/wDX9dBp2Oe1HQtWsYvCvhnw/psd9baav229kvZnggmaMYUGURvlzK5kxt/g5xWJpOheJZdT0DR7kX+iS6LLfwLfWUazxLCyI0IWSWIqyhWEfKg5jI4rvPsPjf8A6GHw/wD+CGf/AOTKPsPjf/oYfD//AIIZ/wD5Mp73v1/r8tBbW8jktHhvNBfw3qt/o195OnwX2nX8dvayzyJO8yMblUw0jxyNGxyoOBIvbONPWIr3xV4q8MXulnWtHt4xehrsWSxyKNqAZSeNtgYggb1DHHFbX2Hxv/0MPh//AMEM/wD8mUfYfG//AEMPh/8A8EM//wAmUb7h6HDyaR4ij0zV9BtLW71KbVfEZMt1qCiBJbVYondnkji2qr7PLBVOcnA4NLqGm+Ix4X8V6Fd6TJbvcXcF/Y/2az3USrLMpkVHaNcsrq7lSnAcHkV2/wBh8b/9DD4f/wDBDP8A/JlH2Hxv/wBDD4f/APBDP/8AJlHS3kl91v8AL8w/zv8Ai/8AM4nxLpl/pek+LYtTa81Fnawuf7VnjA8+0WZd8LbFWMMm2UkKq5WRSecml1fTNTtPF2tPYJro1e+1S0udOntGuBZtBshRxNt/c8COQESfNgjb1Fdfd6N4wv7Ke0vNc8OzW9xG0UsbaBPh1YYIP+mdwadDpfjW3t44YvEOgBI1CKDoc7HAGBybzJ+poWjv/XT/ACX4g9rf1/W/4HL6TY3y/wBj+HW06+jvNN1+4vri5a1kW38gyTOsgmICMXEiDaCWBY5AwSOo8NssnjTxc8JBiF3bo2P+eot0Lf8AjpT8qk+w+N/+hh8P/wDghn/+TKqWHh7xZpazrY634fiFxO9xKf7DuGLyOcsxJvCf6AAAYAAoWn9ddF+S+8Hq7/11f5s6+iub+w+N/wDoYfD/AP4IZ/8A5Mo+w+N/+hh8P/8Aghn/APkygDpK81g05tT8K2Nv9ka7h/4S6/M8YjLr5f2+6DFh/d55zxzXTfYfG/8A0MPh/wD8EM//AMmVz/guz8YtoNybXXdDjT+1tSBWTRZnJb7dPuORdDgtkgY4BAycZKaTtfuvwdw6Mxh4a8RHUtb8MiC4aG28O3NlpWpyAiOaORl8qNn/AL6YKHuQobvW3qV+/ifQdN0HTdE1S0vY7uzkmFzp8kEVksMyO5Err5b4CFVEbNnII4yRvfYfG/8A0MPh/wD8EM//AMmUfYfG/wD0MPh//wAEM/8A8mVSbVvL9G3+uv6B1v8A1sl+hHZWlynxW1e7a3lW2k0m0jSYodjMss5KhuhIDDI9x61neJ/DE3iHxjKEEls0elI9nfiPK290k+9CD0JHde6kjoa1fsPjf/oYfD//AIIZ/wD5Mo+w+N/+hh8P/wDghn/+TKm2z7X/ABv/AJjbvfzt+Fv8ji9KXXZtD/tnVdBvba5tvE/2y8s0hZn8sQiJ3iUcyKGJI25LKOATxVnW1utXt/E2t2mm6j9km/s6KBJLGZJ5vJn3yMICokwA+Pu5O04GME9X9h8b/wDQw+H/APwQz/8AyZR9h8b/APQw+H//AAQz/wDyZT6W/rZL9Cba3/rdv9TH1PxFbTeKtB1iKw1xrK3ju4ZWGhXm9GYRFcx+VvwcH5sY4PNdva3KXlpFcwrKqSqHUTRNE4B9UYBlPsQDWB9h8b/9DD4f/wDBDP8A/JlH2Hxv/wBDD4f/APBDP/8AJlAzpKK5v7D43/6GHw//AOCGf/5Mo+w+N/8AoYfD/wD4IZ//AJMoA6Siub+w+N/+hh8P/wDghn/+TKPsPjf/AKGHw/8A+CGf/wCTKAOa/wCbpv8AuTP/AG9r0mvLdPS+i/aYjTVbi3ubseDD5kttbtDG3+nHGEZ3I4wPvHJ546D1KgAooooAKKKKACud+IGmXes+ANXsNOi825mt8Rxg4LEEHA9+K6KilJcyaNKVR0qkai3TT+4+d/DGq/FHwlocelaX4XmNvG7ODNYuzZY5PIIrX/4Tr4v/APQrf+U6T/4qvcaK5lh5JWU2e1PN6VSTnPDwbfqeHf8ACdfF/wD6Fb/ynSf/ABVH/CdfF/8A6Fb/AMp0n/xVe40U/Yy/nZH9qUP+gaH4nh3/AAnXxf8A+hW/8p0n/wAVR/wnXxf/AOhW/wDKdJ/8VXuNFHsZfzsP7Uof9A0PxPDv+E6+L/8A0K3/AJTpP/iq4Px/rfjjV5IT4ytruytwf3MDW7Qw59QD94+5JNfVtQ3Vpb31q9tewRXEEgw8UqBlYe4PFRPDSlG3Ozow2dUaFRTWHivTf5HyV4T1jxbbrJYeD5Jlkl+Z47SJDK+PU43ED8q22k8bv4j8LJ42XUxZt4lsJIXvlYDzhIQFXPHKs5wPT2r0rxJ8CNIvrj7Z4Yu5NGuQ24RjLxZ9RzuU/Qke1J8WrS8tPD/w9s0vRNfQ+KtNiF3cRlw8gWQeY6hgTk8kbhnpkdazo4ecZe83p9x25jm+FrUr0YRblvdWkvO+zLGpLex+HfE/hX+ytRfUdUvrg2bx2cj28kc75EhnCmNAoY7gzBvlOAcrnV1hLnRPG1/qdwmqCy1PTILSK/0uzN3LZyxPKxHlhJDhhICG2FcqQccZ1vsPjf8A6GHw/wD+CGf/AOTKPsPjf/oYfD//AIIZ/wD5Mr0Foku2n4W/r+kfH7t+f+dzkb7Sda8SfDbTJdWbU31VdUMS3AtxDc/Y5bhoWLIqDZm2fJ+VSMBiARW7e+Hbybx/bjSr/UNFsrfRlhWWxghKHEvEeZYnUYHOBg1o/YfG/wD0MPh//wAEM/8A8mUfYfG//Qw+H/8AwQz/APyZR1v53/CwPVW/re5zpebT/iVrMtxf+JLKGe4tmjisdHa4troCJAd8ot5NvIKnDrj261p+ENTjsb/U9Iu7PVIrqbV7uWNm0u48lkaQsreds8vBHfdV/wCw+N/+hh8P/wDghn/+TKrahofjLUrGS0uPEmjpHJjc1tpN1BIMHPDx3qsOnYj0pLT8vy/yB66f11X6m54iikn8L6rFCjSSSWcyoiDJYlCAAO5rg9T8Ja1P4J0Kw/t3W5Zpbm0BkMECyaeBGwZl8uFSMZAJfJGByDzWhpngjxRpN4Lq18U2skgUrtuodRuUwf8AYl1Blz74rZ+w+N/+hh8P/wDghn/+TKOVfl+DuF3+f4j/AAU88Ph2LS73TP7NudLxaSRxRMsEm0DEkJP3kYYPUkEkHkGuhrm/sPjf/oYfD/8A4IZ//kyj7D43/wChh8P/APghn/8Akyqbbd2JKx0lFc39h8b/APQw+H//AAQz/wDyZR9h8b/9DD4f/wDBDP8A/JlIZ0lFc39h8b/9DD4f/wDBDP8A/JlH2Hxv/wBDD4f/APBDP/8AJlAHMwac2p+FbG3+yNdw/wDCXX5njEZdfL+33QYsP7vPOeOaPDOi6pZePJ9E1azuLjSrDSJLWzv5EJjuLd5EKRM3TzEAZCOpChu9TeC7Pxi2g3Jtdd0ONP7W1IFZNFmclvt0+45F0OC2SBjgEDJxk9B9h8b/APQw+H//AAQz/wDyZSSS/H8Vb+vVg9fw/B3OO0iLW9NjnlvNIv7hvB1hNY6XmJma/lZtqSIMfN+6SIFugLv6GpvC+jeJ/C/iLQ21PSrb7Pc2bWF/cafdyXJebLTLPKphQIN5lGcsMygV1f2Hxv8A9DD4f/8ABDP/APJlH2Hxv/0MPh//AMEM/wD8mU9ev9b3++/5dg02X9bW+6xxXhHw9rOmW/hObUTqV1AyXMK200AX+yZnV9kuERTsKh0Jk3YLrgjJq3ZX89j8K28Iy6HrH9sW2lSWLxxadKYXZYmXzFm2+WytjcAG3HdjG7iuq+w+N/8AoYfD/wD4IZ//AJMo+w+N/wDoYfD/AP4IZ/8A5MpSV4uPf+v1ZSdpKS/r+v63OZsvDesWWteBbi51PV9SigD+dDc28AS0zasBkxwow5+X5ifzrM1Gz8X3cuo+KbbQImaHVEvLQSXMiXv2a3zH5S2/kkEyIZiAXBPm/hXc/YfG/wD0MPh//wAEM/8A8mUfYfG//Qw+H/8AwQz/APyZVSk3Lm/re5EUkrHF2miatFPJq066pcaePFL3EmjvbhQY2kxHcIAgkO1yrkMzLtVuMgYu2HiC68M6Br722l3mo6lJ4juoglvayzCMu25JJRGrMEEZTkAk8Ada6f7D43/6GHw//wCCGf8A+TKrW+g+LbW9uru31zw9HNeMrTsNCn/eMqhQSPtmM7QBn0A9BUpWVvK3/pP+X9WQ3q7vvf8AP/M5+Gyj03TfC2p2MGqX1rpmpXE2ou+l3Edw0k0cu+YW7J5hHmSdFU4DccKaWCCaOHRJZ4JbafUvFkt5awToUkSJlmYllPKkxhiQcEbsEA8DqPsPjf8A6GHw/wD+CGf/AOTKqT+HvFlzqdpqE+t+H3urNXWBzodx+73gBiB9sxkgAZxkDIHU5f2r/wBbp/mg3Vv66r9Tr65v4j/8ks8V/wDYFvP/AEQ9H2Hxv/0MPh//AMEM/wD8mVz/AI+s/GK/DbxK15ruhy240m6MscWizI7L5LZCsbpgpI6Eg49D0oAt+J/DE3iHxjKEEls0elI9nfiPK290k+9CD0JHde6kjoa5nw22t2uuReKfEPh/UIEW9vYru3htXmeCSRLcCZI1BaSMmJ1DKGOGB6ZI7v7D43/6GHw//wCCGf8A+TKPsPjf/oYfD/8A4IZ//kylH3dvP8Xf/gfcEve3/rS3/BKWjLPqvizWtfhsrq0sJ9Pgs4PtUDQSXDxtKzP5TgOoHmBRuAJ5IGME3vh5a3Fl8N/D9tewSW9xDp8SSRSoUdGCjIIPIPtSfYfG/wD0MPh//wAEM/8A8mUfYfG//Qw+H/8AwQz/APyZVbK3p+v+YPV3/rp/kcbqeg6rZWet+ItI0+4k1GDULyOS1WI77+ykxuVR/EQQHTHUqR/Eal0K4u/C2nX0Oo6NqskmoaZZtaLa2Ms2+RbVYmicopETBlH+s2j5s54OOt+w+N/+hh8P/wDghn/+TKPsPjf/AKGHw/8A+CGf/wCTKjlXJydLJfcv6Y7+9z9dfxaf6WMDyZ/C0ngf+0rS9mTTtMltbl7Cymu/Lk8uEAERIxwSpwcY4q1o2uQWnjLW3uLHWEj1Sa2ktZP7GuyjL5CL8zCPCYPBD4x3xWr9h8b/APQw+H//AAQz/wDyZR9h8b/9DD4f/wDBDP8A/JlW3eXMyUuWKSD4j/8AJLPFf/YFvP8A0Q9c1+z5/wAkJ8Pf9vP/AKUy1L4+s/GK/DbxK15ruhy240m6MscWizI7L5LZCsbpgpI6Eg49D0qL9nz/AJIT4e/7ef8A0plpDPSaKKKACiiigD5M8Zf8j1r3/YSuP/RrUUeMv+R617/sJXH/AKNaivkanxs/ojCf7vT/AMK/I+mvBv8AyIug/wDYNt//AEUtcf8AtB/8kJ8Q/wDbt/6UxV2Hg3/kRdB/7Btv/wCilrj/ANoP/khPiH/t2/8ASmKvq6fwL0PwDF/7xU9X+Zi6dDqNn4L8J6xe/wBsTeH4fDNnubSL9oZLCVY1LTvEGXz027eDvxsPyEMa6TWNLt9c8ZWdromo6vFMTHf6hcwaxdLFDBn5IxEJPLDSlcY24Chz1xXP+F774a3/AIB8NjXfEmlR3KaNZwXdqde8hZNkSjZNCsqq+DkEOp7g8cVsPefCxtUuNQj8ZWNtcXUglm+y+K5IEdgoUEok4X7qgdOgq46Wv0/r+vu16c0tf6/r+tfXM1fx7aW3xMa6/wCEjhhg06/g0iTSGvlUzCQESTeVuyxWSSIZxwI39TUml+K7vwzrfiK61e6vL2xu5r17OKWQuI5reUjyI8n5d6Mm1RxlGrbGvfC4eHLnQf8AhJPDp0y6EomgbV4j5nmMWcli+7JLE5znPSon1X4UywW0M3iLw7Ilrf8A9owiTWI2K3GSfMyZMk5J4PHtSiu/b87flq15u2w3rt3/ACv+eifkZNjca3p3gXxBHqGq3c2oW2tW0bz/AGhyUL/ZmkRCTlU3O4CjgA4r1auEu9f+GN7Y6hZ3HinQvJ1KcXF0E1tEZ5AEAYMsgKkeWn3SOlUf+E40HQD9n8L+IvDGoWsnzvJrHjWRpFfphd6zHbgD+Ick8dy7/kvyRKW/q/zNm+R/EXxAu9Evby+trDT9Pgukhs7qS1aeSV5VLGSNlcqojACggZYk5O3GTr819pGsajYW2qX7xW3hK5ljaS4Yt5ivhXJGMuBxu+96knmiXxJ4E8RR2934n8R+HLLU7fekcmk+KCrKhxlfOQxOQcAlSMZA61YXWfhYsZQeJPD+DYtp5/4nKZMDHLKT5nJJ5LfeJ71Motqy8/xTS/NFJrmv6fg1f77MxbXW9U/4RH/hEmv7xtYNyIBevK3nGzMf2jzvMB3Z8vMe/rvFd74LuJrrwHoNxdSvNNLp1u8kkjFmdjGpJJPJJPesBfEHwvTVxqi+JPDgvRZf2eJ/7Wi3eRnOz7/r36+9XrDxz8P9M062sLHxd4fitrWJYYU/taE7UUYAyXyeB3rRtXl52/C//AfrchJ6eV/xt/w3pY6yiub/AOFj+CP+hy8P/wDg0g/+Ko/4WP4I/wChy8P/APg0g/8Aiqko6Siub/4WP4I/6HLw/wD+DSD/AOKo/wCFj+CP+hy8P/8Ag0g/+KoA6Siub/4WP4I/6HLw/wD+DSD/AOKo/wCFj+CP+hy8P/8Ag0g/+KoAPiP/AMks8V/9gW8/9EPWB4wu9asvH8F/o9xdyxaXpou7jTInJS7iMpWQbM4MgX5lPXKgd6Tx94+8H3nw28S2tn4s0Oe4m0m6jiii1KFnkYwsAqgNkkk4AFa3/Ca/D3+1v7T/AOEt8P8A2vyPs/mf2tF/q927GN+OvfGaWvMmun+T/UOjX9bo53+3bm50S+8U6dqdxcWWma+Lk7Z28uSxaKMSDGcFVSQyAdivHNP8Q+Kprax8TawdXFnZzTxaHpcjThIopM7ZbjJIUFXdufSGtHTNb+FmjaTeaXpniLw3BY30sstxbjVoirtJ9/gvwD6DAHYCm2Ws/CvTrbSrez8R+HY4tHZmsU/tiNhEzAqzcyfMxDNy2TyfWnpa3p+ST/L8Ww139fzbX5/hYwH8UfafhHr9tpetzanPo98lol/Z3++W4iaZGjImVh8xjfYTu6q2TUsWsalpel+IFsJtS01P7RsLBINVuzeXWntM6JJMXd5F2lZFK/O65BPHK1uX+u/C7U7m7uL3xL4fklvYoorhhrEa+YsTl48gSDkMTz17dOKku/Efwxv7m9nvfEnhud9QtVtLoSarEVmiUsVUrvxwXbnGeetHW/8AX9P8L+QL+v68vxtruQeMdKbwn4H1K90XUdaaX/Rxsl1OWdifPQZVpXJQkErgMqnPIp0Xie9f4jqdU0/UtFsbfQ7i4kgvZ4WR9ssf7zEUrrkDIycHmq0V58KY7Se2k8V6VcxzqiubzxK1wwVGDqqtJMxUbgDhSAcDOat6tr/ww12SSTVfE3h+dpbVrN/+JzGu6FmDMhCyDglR/LoTRre/r+TQdLPy/NHH6F45F1Z64IvEqX9xrGi3OqwRQ34lfTZV3nyQFYmPEbxYHHMbnrmr2ga1faRZ6rfINXtRZeGhfS2ms6i129xLgsk0WZJAqfK4IDA5K5UYBPS6x4j+GWvQwRar4m8PTJbljFt1eJCm6No2AKuDgo7DHTn2FMute+GN2sIl8UeH8wWUlhGw1iPKwSBQyH5/mB2L1zjFTJaSt2t/6V/mvuvuNWur+r+9f5P7+xT8Q2N1pPwi0ySy1W+tZLKG13/Zptnnu0kW5nYDeeSxwGAO47geMHilrvUtf8UA6rf2K6Fo0VzYpZ3bwqJWErGVwpxJ/q1G1wy4DccmoF1H4far4R0vR/FPjXRrprGBIXNp4jNukxXADMI5V3H5FPzZwc49TZvL34U6gsAvfFWkT+TCICX8RkmeLO7y5j52ZlyT8sm4cn1NXU1bt3YoaJc3kY51PU9R0vWPFEupahDf6bqNnb21rDdOkCxlYCyNCPkcv5z5LKSMrgjArt7Mmz+J2p28eBFfadDdsoH/AC1R2jLfivlj/gFY1zq/wsu9aXVZ/E2hG5DpIyrrirFI6fcd4hJ5bsuBhmUkbVweBgsfF/hGPxjqutXfjfw2yTwQWtpGmqwkpGm5mLfN1LyHgZ4VfoC+q/rpb89RWdn30/P/ACO/rm/Af/Iu3X/Ya1X/ANOFxR/wsfwR/wBDl4f/APBpB/8AFVz/AIL8feD7XQbmO68WaHC7atqUgWTUoVJV76dlbBboVYEHuCD3pDPRKK5v/hY/gj/ocvD/AP4NIP8A4qj/AIWP4I/6HLw//wCDSD/4qgDpKK5v/hY/gj/ocvD/AP4NIP8A4qj/AIWP4I/6HLw//wCDSD/4qgDpKK5v/hY/gj/ocvD/AP4NIP8A4qj/AIWP4I/6HLw//wCDSD/4qgDpKK5v/hY/gj/ocvD/AP4NIP8A4qj/AIWP4I/6HLw//wCDSD/4qgDpKK5v/hY/gj/ocvD/AP4NIP8A4qj/AIWP4I/6HLw//wCDSD/4qgDpKK5v/hY/gj/ocvD/AP4NIP8A4qj/AIWP4I/6HLw//wCDSD/4qgDmv+bpv+5M/wDb2vSa8t0/UrHV/wBpiO+0q8t760l8GHy7i2lWSN8XxBwykg4II+or1KgAooooAKKKKACiiigAooooAKKKKACiiigAooooAK82+Mn/ADIX/Y56d/7Ur0mvMvjbcwWdr4IuryaOC3h8YWEkssrhUjUCQlmJ4AAGSTQBW0vxXd+Gdb8RXWr3V5e2N3NevZxSyFxHNbykeRHk/LvRk2qOMo1QpNrdh8N/E8OoajqF3qFvq0EbvDdusgLi2MkcTlgUUs7hQGUAHtW9PrHwrukhW48ReHJBBqH9pxbtXjO25yW8z7/qTx09qfd6/wDDG9sdQs7jxToXk6lOLi6Ca2iM8gCAMGWQFSPLT7pHSlFWjZ9kvy/4K+7zG9ZXXe/5/wDA/HyM7xDpCw/DPXdRih8VaJeWVrPNALvxFO8m4R5D5juZFK5HRj1B455PFvhu20zwjZ3tjqfiCK4kvLGJ3/4SG+OVknjRxgzY5ViPbPFXo9b+GaaNe6VL4y026s79DHcJeeJmuCykYIDSTMyjB/hIq5f+L/hzqenx2V94r8Py28ckUqJ/a8Qw0bB0OQ+eGUH3xzVaXv6fhuLovn+OwzVrIr4g0Hwlb3+o22mzwXN3O66hMbify2jxH55YyAZl3HDA4UDOMisS4uL3QfiHaeHrLVL+fTjd2dyFuLt5ni8xblWiMjsXZD5SsAxODntgDa1nxR8Ntfhij1PxXoTmB/Mhlh1pIZYW6ZSSORXQkZBwRkEg8Gs5rv4TvYfZT4p0gf6Qty1yviMi5eVQVVmuBN5rEKSBljgcdKS3T8/v1v8A16ebG7Wa8vu/r+tj0eiuR07xt4B0uxS0tvGukPGhJDXWvLcPyc8vJIzH8TxVr/hY/gj/AKHLw/8A+DSD/wCKoEdJRXN/8LH8Ef8AQ5eH/wDwaQf/ABVH/Cx/BH/Q5eH/APwaQf8AxVAHSUVzf/Cx/BH/AEOXh/8A8GkH/wAVR/wsfwR/0OXh/wD8GkH/AMVQB0lFc3/wsfwR/wBDl4f/APBpB/8AFUf8LH8Ef9Dl4f8A/BpB/wDFUAcjJ5kvhfSrRLq7torvxlfwzm0upLd3Q3t2Su+NlYDgdD2q7Nr3/CBah4nt5r26vdL03SodShF7ctNJBI7Sp5XmuSxDFFI3sSMnBxgDO0bX/h9q/hZ7PXvFGkx+Vrmo3cOzWxbSITe3DRyKySKwBV8gg4IYGtWHU/hTDaC3/wCEk0GVftUd27z64ssk0sZyjSSPIWk24GAxIGAOwpJaNd3+Fkvw3/4djb/r5t/jsU/h7qNrrVvq3hW68TNr7QxwXf26y1VmkIkUb0EsT7l2yo/AYYV1HSsuK1ltPhnrWqQ6hr096uqTWak61cu3lLfiMIm+XarbQF3cHk5bk12EvjH4dTazb6tJ4r8Pm+t4XgjmGrRAiNypZSA+CMop5zjHFVJNc+F8uhXOjt4o0JbG6na4ljTW0RjI0nmFg4kDKd/PBGO1N6/1/XQS0VvO/wCGv4m94UtBbWExGna1pxeTmLWNSN5IcAfMrefKFHOMbhyOnQ1vVxek+LPh7osUkdn4302RZG3MbzxJ9qIPsZZWIHsMVof8LH8Ef9Dl4f8A/BpB/wDFU2JHSUVzf/Cx/BH/AEOXh/8A8GkH/wAVR/wsfwR/0OXh/wD8GkH/AMVSGdJRXN/8LH8Ef9Dl4f8A/BpB/wDFUf8ACx/BH/Q5eH//AAaQf/FUAdJRXN/8LH8Ef9Dl4f8A/BpB/wDFUf8ACx/BH/Q5eH//AAaQf/FUAdJXN/Ef/klniv8A7At5/wCiHo/4WP4I/wChy8P/APg0g/8Aiq5/x94+8H3nw28S2tn4s0Oe4m0m6jiii1KFnkYwsAqgNkkk4AFAC+MLvWrLx/Bf6PcXcsWl6aLu40yJyUu4jKVkGzODIF+ZT1yoHes3S9Zl8WeKBpUWsXY0e+vLu7WW1unjeaKOO2McSSKQyJmYudpU8Y6Eg9P/AMJr8Pf7W/tP/hLfD/2vyPs/mf2tF/q927GN+OvfGaxY5vhDBppsbXX/AA/aw/a3vUNtrixSRTP95o5FkDR5HGFIGMjGDilDTfz/ABd/w/4GzCWruvL8rfn/AFoWYNKX/hJNa8Myalq8+nW9nb6jAf7VuFmt5HMyMnnLIJGQ+WGCsxAOe2AL3wvswvgHSdSlu9Qu7vULKGW4kvdQnudzbckqJHYJ1P3QM8egqHSvE3w10W3mi0/xXoQNw26eabWkmmmOMAvK8hdsDgZJwMAcVZ0zxr8PdG0q203TfFvh+G0tY1ihj/taJtqgYAyXJP4mqWify/X/AIH3A9f69P8Ah/mctHreqaFq/iC+vtQup9I1C+ubCMySsw0+4Ufudpz8iPnbxwHCf3q1/A+qXl1pWsPeX08zQ2Vm6tLMWKFrKNiwyeMtkk9zk1Lda98Lr3R9R0q78SeHZrLU3eS7hfV4iJGf7xzvyDwDxjBHGKp3d18JbxY1l8TaLGqWyWjLB4h8lZoUGFjlCSgSqASMPu4J9TWfK+Tl8kvuTv8Aj+HoO/v83m/xat+H9alrQNRvZn8A+deXEn2vRpJbjdKx85xFCQz8/McknJ9TW3oNzPN4u8UQzTySRQXFuIkZyVjBgQkKO2SSeO9Yura98M9aa0a88X6RE9kGW3ey8Q/ZWjDAAgGKVTg7Rx04qtHqHwvi1EX0XjSzjuP3e9k8WSgSlAFUyKJ8SHAAJYHPfNaSd5NkxVopHQ/Ef/klniv/ALAt5/6Ieua/Z8/5IT4e/wC3n/0plqXx94+8H3nw28S2tn4s0Oe4m0m6jiii1KFnkYwsAqgNkkk4AFRfs+f8kJ8Pf9vP/pTLSGek0UUUAFFFFAHyZ4y/5HrXv+wlcf8Ao1qKPGX/ACPWvf8AYSuP/RrUV8jU+Nn9EYT/AHen/hX5H014N/5EXQf+wbb/APopa4/9oP8A5IT4h/7dv/SmKuw8G/8AIi6D/wBg23/9FLXH/tB/8kJ8Q/8Abt/6UxV9XT+Beh+AYv8A3ip6v8yPwb4rvrfw14T8P6PpVveXKeGbK9lFzf8A2dpIzGq4hXY3mMNpzkooyuW546HXvEviDRtUtLeHQ9Nu4b27S3tgNVkW4kB5ZvL+zlQFUMx+fGF65IFctp/hzVfE3wo8LWUOnaLcQHQ7M21/dyyR3OnSmFQZYwqNuYcMMPGcjGe9b6aT4stvGM+qNZaRqcSwpa2UtxqcsMkEOAZDsFu43uwyTu5CoOMZNx6X/r+tvxOaXl/X9b/gaE/jHyfCeua39h3f2TNcxeT53+t8liM7tvy5x6HHvWlputf2jrGrWHkeX/Z0kSb9+fM3xq+cY4xux36Vy9/4T8QS2es6DavpzaPrF3JPJeSTOtxbpKwMiCIRlXP3trF1xuGQdvN422t6B4l1nU44NIfSLx4pprm71J4Ht0jiVHJXyWU4Ck8uB64pLZX7fjZXDq7ef56HXHpXCaZ8QNTm0vTta1bQLe10XUJlgW5ttRM0kDPJ5aNJG0SAKWwCVZsZHGMkbtn458JaleR2eneKdFu7mY7Y4INQid3PoFDZJrmdL8HeJJPDGm+GNZXSrfS7OeOaa5tbuSaW5EcwlVAjRII8kDLbm4BAHOQ18S7f1cOhu3njNbTx3beHzZFreVUSS/8ANwsU7rI0cRXHJKxE5zxuUYOarWXifxPceMJtCn8P6REbaGG5nmTWZXxFI7r8qm2G5h5bHBIHTn0xrr4ba3eabqdy3iSWDV7y/OpR28aRG0WaNgYAWMPnbQscanDDvgdj1dlot5D44vtcnaAQ3WnW1sI0YlleN5WbqANv7wYPXg8CiPS/9af56fcD62/rX/LX7zeooooAKKKKACiiigAooooA5v4j/wDJLPFf/YFvP/RD0zV/Eesw+Kv7D0HR7K+lWxF68l3qLWwwXKBVCwyZPHfFP+I//JLPFf8A2Bbz/wBEPVfVdL8QweODrug2mmXkUmmrZtHe30luysJGfcNsMmRz7Uuq+f5P9bD6P+uq/S5Yj8Z2snga78R/ZZozaLKs1lIQJFnjYo0JIyN28bQRkHII61mXfjnVY/As3iOz0OzkewS4/tKyuNSaN7d4SQyIVhYOflOCdnG09+IrjwBqM+g6dpA1cRK2qPqmp3kEYWR5S7SqIkdXQKJSvDZ4TuTTJfAesRaT4v0yHVxqEGv2pMU19tSRLpozG5YRRqmwqIzkLnIbIPWm+v8AX9Lf7l3CNrrtf8P89vvZfl8T+Jo7jS7L+wNJN/qSyyon9sS+UkaKhyX+zZ3EvjG3HHXnFdTZPdPZxNqEMMFyV/eRwTGVFPoHKqSPfaK5Hxb4RudZutCmGj6LrcWnRSpLZ6tKUjYuqAMv7mTkbT1Uda6rSYHttItYJbK1sGijCfZbN98MIHAVDsTgDH8I+lPTUlXsrluiiikMKKKKACiiigAooooAK5vwH/yLt1/2GtV/9OFxXSVzfgP/AJF26/7DWq/+nC4oA6SiiigAooooAKKKKACiiigAooooAKKKKAPNv+bpv+5M/wDb2vSa82/5um/7kz/29r0mgAooooAKKKKACiiigAooooAKKKKACiiigAooooAK82+Mn/Mhf9jnp3/tSvSa82+Mn/Mhf9jnp3/tSgDf8PeN01nW9c067svsH9lyv5crTb1uIldkaToNpDIcrzjKnPNZ9j8Rp9Q8GalrsOjKj2t5HbwW8l0VEyyeUY3ZvLymVmUkbWxgjmqeqfDjUL9AYLu2gkm1K7F2wLfvNPuX3SxDj752pjPAIPNXtW8FXt54d8TafCtjMdV1GO6ghndhEY1EAKSfIcZ8phwGGCKUfh13svv0/T9fIb+LTa/4a/19xb1PxL4j0exsze6FpZvb6/js7eGLVpGj+ZWO53NuCuNvQKevWq194/vNK03V01PRI4dY0xYJPsi3u6G4jmk8tJEm8sNjIYHMYIK9CCCas3hPVl0mwTRvDXhrRZbHVo78WlleOkE4VGVizLbLtbkfwNwOtGs+DNd12y1m/vG06LWL+G2t7e1jnc28EcMxlwZdgZixLEnyxjgYOCS+9/6Vl+t/6sL+vxf6Gn/wmGoaddXVj4j0eGzvEsZr61+y3pnhukiA3qHaNGVwWXIKYw2QTggEfjK91NrC18O6RDeX9xYQ6hcpc3hghtI5QdgMgjdmYkMAAnRSSV4zDdeG9c8QXs2o66un2U8Wm3NjZWlpcPOgaYLukeVo0P8AAoChOOTk5AFUeC9U06O2lsrbSdW87SLbTNT07UZGSGYQhtrq4jfu7AqUwQQcgjkXn/Xxf/a/1cH5f18P/B/qx2emz3lzp6SanZLZXWWWSFZhKoIJGVcAZU4yCQDgjIByKtVz3gXw7L4W8JQaXcLbRus08xitM+VEJJnkEaEhchQwXO0dOg6V0NN7iCiiikMKKKKACiiigDz7TdfutB8KQ/2fYw31zf8AifUbOOOe5MCKWv7o7iwRzj5f7vet/SfFEk15qWn+ILGPStQ02FbmVUuPOhkgbdiVJCqkjKMCCqkEehBPNWmkanqvhW0k0VLSW50/xXqF55V3O0KSKt9dAjeqOQfm/ump9X8Fa94ih1WfULmysbzWIoNPmjtZGkW1skdmkCOyDzJHDtyyKBkDBwSyV7P1/RW/G/yv5DdtP66u/wCH42NTw34vv/FHh66ubPR4bXVLd0H2C8vCi7HVZEZpFjYjKPn7h+YFe2azbbx7r8nhu+1m48O6bHDbXLWaImryO0ky3Ag5zbgKmcndycAfLzxo6N4S1LQ/GT6outz6naXlkLe7F6kSSK0bZhKCGJFIw0gORn7vPaqVx4J1CT4d6poRFjcXF3qM12sczsIXR7vzgjnYSMrwflIz6im7br+v63Ette/6f56HVaTNrE0Uh12wsbOQN+7WzvXuQw9SWijwfbBrQrB8KaU+kWE1ufDui6CjSb1g0ebfG5IALN+5iw3AHQ8DrW9TYkFFFFIYUUUUAFFFFABXN/Ef/klniv8A7At5/wCiHrpK5v4j/wDJLPFf/YFvP/RD0AQ6342XQ/GmnaLc2DNZ3kamTUBLxbu7lIwyY6MwC7s8Fl45zUUvjieTUpdJ0rSlutU+3S2sMMl15cZjiSNnmkfYSijzFGArEkj1JFzVfCketeILubUkim0270o2EkRYhyTIWyOOOOhByCK5jQvAvinQJItVN/p+paxBdXAImkkijvLeVYly7hGKS/uFY4VhnI7ghQ/vef56fh+D7oJb6eX5f5m9F4o16aS/04aFYx61YCOaSCXU3FvJbuG2yRzCAsTuRlKmNcEHnGM2vBev6p4m0C31fUdLs9Pt7yCOe2WC+a4cqwzhwYkCkcdC2eemOWaRoeptrGpa5rptI769to7SO2tHaSO3iQuR+8ZVLlmkJJ2qBwMHGTc8H6PceH/BekaRevG9xZWkcEjRElCyrgkEgHH4CqWzv5fr/wAAH5f1t/wTH07x+t5ruu6Xc6a1rJpole1czblvUi4kI+UbSpK5Xnh1P0u+HvF39vWd7P8AYvI+ywQTbfN3bvMgWbH3RjG7HvjPtWPq/gK+v9B1NbS5trfVzqU9/ptySxWPeMFJMDO1l3KwGeDkZIFMsvC3ijQbSe30Y6Vci/sLeCZ7q4kj+yzRwiIugWNvNUgA7SUPHXnjP3uTzsvvs7j05/K7+66t+Buab4s/tBvDY+xeX/bli15/rc+RtSNtvT5v9ZjPHTpzWhp2s/b9a1fT/I8v+zZY4/M358zfGr5xjjG7HesG58NatpUnhlvDkVlfDRbOSzZL+7e33qUjUMGSKTn5ORgdadp1j4qsPEuoX39m6PJb6pJBJN/xNJQ8BWJUcKPs+H6EgkrnvitJW5ny7f1YmN+Vc25b+I//ACSzxX/2Bbz/ANEPXNfs+f8AJCfD3/bz/wClMtdL8R/+SWeK/wDsC3n/AKIeua/Z8/5IT4e/7ef/AEplpDPSaKKKACiiigD5M8Zf8j1r3/YSuP8A0a1FHjL/AJHrXv8AsJXH/o1qK+RqfGz+iMJ/u9P/AAr8j6a8G/8AIi6D/wBg23/9FLVT4g+Ef+E78Cah4b+2/YPtvlf6R5Xm7Nkqyfd3LnOzHUdat+Df+RF0H/sG2/8A6KWtmvq6fwL0PwDF/wC8VPV/meE6b4H+PmkaVaabp/jbw/DaWcKQQR+UrbERQqjJtiTgAck5qz/wi/7Q3/Q9+H/+/Cf/ACLXttFWcx4l/wAIv+0N/wBD34f/AO/Cf/ItH/CL/tDf9D34f/78J/8AIte20UAeJf8ACL/tDf8AQ9+H/wDvwn/yLR/wi/7Q3/Q9+H/+/Cf/ACLXttFAHiX/AAi/7Q3/AEPfh/8A78J/8i0f8Iv+0N/0Pfh//vwn/wAi17bRQB4l/wAIv+0N/wBD34f/AO/Cf/ItH/CL/tDf9D34f/78J/8AIte20UAeJf8ACL/tDf8AQ9+H/wDvwn/yLR/wi/7Q3/Q9+H/+/Cf/ACLXttFAHiX/AAi/7Q3/AEPfh/8A78J/8i0f8Iv+0N/0Pfh//vwn/wAi17bRQB4l/wAIv+0N/wBD34f/AO/Cf/ItH/CL/tDf9D34f/78J/8AIte20UAeE6l4H+Pmr6Vd6bqHjbw/NaXkLwTx+Uq70dSrDItgRkE8g5qz/wAIv+0N/wBD34f/AO/Cf/Ite20UAeJf8Iv+0N/0Pfh//vwn/wAi0f8ACL/tDf8AQ9+H/wDvwn/yLXttFAHiX/CL/tDf9D34f/78J/8AItH/AAi/7Q3/AEPfh/8A78J/8i17bRQB4l/wi/7Q3/Q9+H/+/Cf/ACLR/wAIv+0N/wBD34f/AO/Cf/Ite20UAeJf8Iv+0N/0Pfh//vwn/wAi0f8ACL/tDf8AQ9+H/wDvwn/yLXttFAHiX/CL/tDf9D34f/78J/8AItH/AAi/7Q3/AEPfh/8A78J/8i17bRQB4l/wi/7Q3/Q9+H/+/Cf/ACLR/wAIv+0N/wBD34f/AO/Cf/Ite20UAeJf8Iv+0N/0Pfh//vwn/wAi1WsPA/x80y2eCx8beH4onmlnZfKVsvLI0jnm27u7HHQZwMCvdqKAPEv+EX/aG/6Hvw//AN+E/wDkWj/hF/2hv+h78P8A/fhP/kWvbaKAPEv+EX/aG/6Hvw//AN+E/wDkWj/hF/2hv+h78P8A/fhP/kWvbaKAPEv+EX/aG/6Hvw//AN+E/wDkWj/hF/2hv+h78P8A/fhP/kWvbaKAPEv+EX/aG/6Hvw//AN+E/wDkWj/hF/2hv+h78P8A/fhP/kWvbaKAPEv+EX/aG/6Hvw//AN+E/wDkWj/hF/2hv+h78P8A/fhP/kWvbaKAPEv+EX/aG/6Hvw//AN+E/wDkWj/hF/2hv+h78P8A/fhP/kWvbaKAPKfh/wCBfiBp3xJn8U/EPW9L1V20ltOiazBV1HnLIAVESLjh+evI/D1aiigAooooAKKKKACiiigAooooAKKKKACiiigAooooAK8y+Nqzta+CFs5I4rg+MLARSSxl0VsSYLKCpYA9QCM+o616bXm3xk/5kL/sc9O/9qUAdL9h8b/9DD4f/wDBDP8A/JlH2Hxv/wBDD4f/APBDP/8AJlc/4ZWa98ZarNdWPiKfydVuI474auRZRKo4QwfaBnHT/VEZI+ox/Dr3bfD2+1aS18TQ3o0i5lGp3etNLbyvtbBSL7SxU9wTGuMdjiocrQ5vK/4XKUby5fO342O4+w+N/wDoYfD/AP4IZ/8A5Mo+w+N/+hh8P/8Aghn/APkyqfi2e5Hwollhu7m3uJLaAfaIJWSVSzICQ45B5PNcjq3jLWdBt4LC7uJJNZ0CK8+0BiQt9GtrI8E7AcMG25Po6uOMVcvdcl2Ij7yTXX9TuvsPjf8A6GHw/wD+CGf/AOTKPsPjf/oYfD//AIIZ/wD5Mrn9U0yXwzoel69Z65q13qJvLRJzcahJJFeiaVI3XyWby0yHJXYq7SBjjILbXwxazfErVdLk1HXzZQabbXEcQ8Q3w2yPJMGORNnkIvGccU7O9vVfcrjTvHm9PxdjovsPjf8A6GHw/wD+CGf/AOTKPsPjf/oYfD//AIIZ/wD5MrF8GaNFH4v8SM1/rE40zUEhtY7nWLuaNEa2jYgo8hVuXY/MDjPHQV0XjGy1bUPCl3b+HpjFfNsK7ZjCZFDAvGJACYyyhlDjkEg8daT0Sfp+I7a2K/2Hxv8A9DD4f/8ABDP/APJlH2Hxv/0MPh//AMEM/wD8mVzovNG/4RG9F6via3n0+7Ef9mT6vcLdCd1UJCs0cpMquWBXLuBuPTGFq63IfCXgfR/D+t+J5rC91m8xcalcam4NsmTLKqTSPuACgRqSc/MD1ND0/D8RL+vkdZ9h8b/9DD4f/wDBDP8A/JlH2Hxv/wBDD4f/APBDP/8AJlcVd67qPiz4Z+HTo2tSQ6lJqP2KS8srj5ZZoklGSynDIzIrY5BBp+qeLbzxNceHrvSri6sba1msJL6OORoy089wsfkPg8hVWXcp4yy00rysu6X39RN2V32b+47L7D43/wChh8P/APghn/8Akyj7D43/AOhh8P8A/ghn/wDkyukopDPO/Bdn4xbQbk2uu6HGn9rakCsmizOS326fcci6HBbJAxwCBk4yeg+w+N/+hh8P/wDghn/+TK4+8ivrrwHb2Wl6ndaXPd+LL+EXVrIUZM391jp1GQMqeD0NEni3UNUOpiSWax1Cx8OXqX1rHIyiC8jZPnXn0IZW67WBzzU82jfa/wCCv/wB21S72/F2Ow+w+N/+hh8P/wDghn/+TKPsPjf/AKGHw/8A+CGf/wCTKqXl/cC+8DrHdygXcrecFkP74fZJG+b+8N2Dz3wa4zwv4n1jTvCNxplxfXV5qmpQwz6RPdyGRi1w3lFdxOSI5AXI7Kwq5JqTj1/Nkxacebod99h8b/8AQw+H/wDwQz//ACZR9h8b/wDQw+H/APwQz/8AyZXFGe+X4d+H7drjWtSZtfmtJBbai8V1cxrJcAL5xkQ9EXq4+7U2vrNa3nhezi0zxZ5E4vZJ9Mj1xvtbFVXaWm+1fMB1C+aevTORUtrV9nb8E/1Gui/rr/kdf9h8b/8AQw+H/wDwQz//ACZR9h8b/wDQw+H/APwQz/8AyZXL6Lq2oiHwE76jPdpdRXsjhZnYzIImaJJCQC7qNoJYZ3AnrT9PMp+Gq+PbjVdTl1U6Y+puq3sgt8+UW8kW+7ygo+793dxktuyaJPl5n2/r9AiuayXU6X7D43/6GHw//wCCGf8A+TKPsPjf/oYfD/8A4IZ//kysW903T9N+G+lHU9S1WIW1kkccWnXssEl3cuoxgxkPI5bOFJIJYkg9RLpcep6Z4i8JnWZFl1K90eS01Fxg+ZLGEcNkdcEy/wDfZqmrSafT/g/5fihJ3Sa6/wDA/r5Gr9h8b/8AQw+H/wDwQz//ACZR9h8b/wDQw+H/APwQz/8AyZXSUUhnN/YfG/8A0MPh/wD8EM//AMmVz/j6z8Yr8NvErXmu6HLbjSboyxxaLMjsvktkKxumCkjoSDj0PSvRK5v4j/8AJLPFf/YFvP8A0Q9AB9h8b/8AQw+H/wDwQz//ACZR9h8b/wDQw+H/APwQz/8AyZWB4wu9asvH8F/o9xdyxaXpou7jTInJS7iMpWQbM4MgX5lPXKgd6zdL1mXxZ4oGlRaxdjR768u7tZbW6eN5oo47YxxJIpDImZi52lTxjoSCR97bz/B2/wA/uCXuvX+tL/16nY/YfG//AEMPh/8A8EM//wAmUfYfG/8A0MPh/wD8EM//AMmViQaUv/CSa14Zk1LV59Ot7O31GA/2rcLNbyOZkZPOWQSMh8sMFZiAc9sAXvhfZhfAOk6lLd6hd3eoWUMtxJe6hPc7m25JUSOwTqfugZ49BTWqb/rr/kwemn9f1qXfsPjf/oYfD/8A4IZ//kyj7D43/wChh8P/APghn/8AkyuMj1vVNC1fxBfX2oXU+kahfXNhGZJWYafcKP3O05+RHzt44DhP71a/gfVLy60rWHvL6eZobKzdWlmLFC1lGxYZPGWySe5yajm9zn8k/vVx299Q9fwdv69Dc+w+N/8AoYfD/wD4IZ//AJMo+w+N/wDoYfD/AP4IZ/8A5MrG0DUb2Z/APnXlxJ9r0aSW43SsfOcRQkM/PzHJJyfU1t6DczzeLvFEM08kkUFxbiJGclYwYEJCjtkknjvVyXLJxJi+aKZzvj6z8Yr8NvErXmu6HLbjSboyxxaLMjsvktkKxumCkjoSDj0PSov2fP8AkhPh7/t5/wDSmWul+I//ACSzxX/2Bbz/ANEPXNfs+f8AJCfD3/bz/wClMtIZ6TRRRQAUUUUAfJnjL/kete/7CVx/6Naijxl/yPWvf9hK4/8ARrUV8jU+Nn9EYT/d6f8AhX5H014N/wCRF0H/ALBtv/6KWtmsbwb/AMiLoP8A2Dbf/wBFLWzX1dP4F6H4Bi/94qer/MKKKKs5gooooAKKKKACiiigAooooAKKKKACiiigAooooAKKKKACiiigAooooAKKKKACiiigAooooAKKKKACiiigAooooAKKKKACiiigAooooAKKKKACiiigAooooAKKKKACiiigAooooAKKKKACiiigAooooAKKKKACvMvjbcJa2vgi4lEjJD4wsHYRRtI5AEhO1FBZj6AAk9AK9Nrzb4yf8yF/2Oenf+1KANuy8VeHtOFwLPTvEEf2mdriX/intRO6RvvHmHjp0HFY1n/whdhby29tY+MPs0sLwNbSWOtSQ7HBDARspUcE4wBjtitxPFOs6nNdzeGtBt7/AE20meBri41DyJLh42KyCFPLYMAwKgu6AsD0HzFdb8cJ4f1DUbXUdPdTDZrdWBSXJvyWEZiAx8riRo1xznzFPrSsrf1tb/Ieqf8AW9/8zGtrjwfbadPYfYvF89rOEV4rvT9ZuAAhyu3zEbbyB93Gcc1avNW8Iahr9rrV5ouuS6jaQyQQznw5qORG4wykeThgeeCDjJx1q/B4i8RX2u3mn2OhaaUsDClzJPqsiMGeNXYIq27BgN2MkjOO1UovHt+dUPn6NappX9snRxcLqBa4Mm7aG8kxAEZxnDkgZODinvK3X+l+tvmTtG/T+n+hRsH8EabdwXFtpPiY/Zm3W0M+katNBbHsYoXjMcZAJA2qMAkDA4rVj8UeHItYn1VNN8QC9uIUgkl/4R7UfmRCxUY8nAwXbnGeam8PeN01nW9c067svsH9lyv5crTb1uIldkaToNpDIcrzjKnPNZ9j8Rp9Q8GalrsOjKj2t5HbwW8l0VEyyeUY3ZvLymVmUkbWxgjmhO6uu1/kxvR2fe36jpPFek6Ymo3mgaLrEuoX0qzSpc6LqcUcrhVTJYWz7cIo6Lzj3JrOPjGTXh9i8UeGb22sTh/OsLbV2mR1OVKkWMRU5/iDgiujuvEup6JZ20/iXTtOs1nvY7bdbak0qRowYmRmeGPGNvTH4itHw/q8+uWL3z2D2drJIfsZlb95PFgYkZMDZu5IU5OME4JwBa/L/gf1/wAMwf8AX9fL+tDipIvA0trDA2l+KwYbk3a3CadrKztMV2b2mCCRjtO35mOBwOKu6dqXhPS76O9gsPFU11FE8Mc95pOrXTojlSyhpY2IyVX8q2fEfie60nW9K0fTLG1ur7UxK0Rvb02sWIwCVDBHLOdwIUL0DHIxVbxL4n8Q6Dpi6hBoGnzxMkYFvPqrx3DzuQBCqJA6s24gA78HrwOaL9f67f8AAC3RlIar4QF9JeLo+vrPJeLfuw0DUgDOsflh8eVjO3g8YPU881HBe+C7aGeK30PXY0uNQGpyhfD+pDfchlbzP9T6qpx046Vqa/41Ph/VNJs7jTvM+1BXvpVnwtijOkYY/L8wLyAfw8Kx7Yp9p4y8/wCIl74Xm08wpDEGgvPO3CZwiOyFcfKQsgI5OcN0xQvL+rW/yX3eQPXf+r/8P+I//hPNI/58/EH/AITmof8Axij/AITzSP8Anz8Qf+E5qH/xim+GfGI8S67rNlFZeTb6eyiC583d9pUvIhbbtG0BomA5ORg966agOtjzHwx4j0G40EpqFhrkzW+u6hdwmPQr9gr/AG6dlOUixkBuVPQ5BAIIGqureEF8RXOurouuf2ld2wtbib/hHNR/exA5Csvk7T9cZxxnFU7fxPP4U8BS31ppb6rNL4i1KBbaOXYzZv7kkrwcnCnA4yeMity78c20aNNYQC8tTokusRTLLtEipjCYxxnd17elTdWb7X/K7/D/ACHZ3S72/PT8TH0m68G6JeJc6fpfiZZIozFAJtH1aZLdDjKRI8ZWJflUYQAYAHQCnw33gu3uNJni0PXRLoyyJYOfD2pEwBxhgMw85Hrmukn8Q+RcaBF9l3f2y5TPmY8nELS+nzfdx2659qxfD3xGg1fwfqeuahYNpzaaGeW383zS6bA6MpAGdwOMY65HOKp3i2n0FH3lp1Klze+DrvSotOfTPE0dvDctdxfZ9H1aF0lZmYsJEjDDJdu+OaktNV8K2U9nMlj4qmmsfM+zy3Wk6tcOnmAB/mkjYkHA4OcdsVPD441K58K6VqFvoluNR1HUHsPsc1+VjidWkUkyiIkj90f4O9T3/iXxHY3uk6b/AGFpb6nqXnnZ/a0ghjWIKc+Z9n3End02DGOtG1/67fpYN7f13/4JRtdT8H2dxbT22j+II5LWee4gI0DUyI5JyTKQPKx8xY8dBngCqEkXgWR5z/ZHidY5zIzWy6Rq32cM4IZhB5flBvmJyF6nPXmt3S/HSakvh0/YRH/bJuVkInDLA0AO7aQMSKSpAbjIwcdqLTxhqV5YLriaJEvhx42mW7e9xcmEKSJTAY9oU4yB5m7aQduflqZWs7jV3sc3D/wjl/o+hR+JLXxPNqOjW/kQ3VjpesWxHyhCwMcanLKozn1Iz627fV9Nt/FVherH4ibT9NsJLe3SbRNUnmaWV1Ls7yQliAqKASxPzN0wM7seveJJvCum6jZ6JZ3VzdWn2q4Sa+NtFCCoYIDskZmwcdAPlJJHApdG8XHV9Q0Vlh8qx1vSft1qHX94jqVLIxzg/LIuMD+FuTnjR35nff8A4D/4JKtyq39bf16En/CeaR/z5+IP/Cc1D/4xR/wnmkf8+fiD/wAJzUP/AIxXSUVIzm/+E80j/nz8Qf8AhOah/wDGK5/x9400u6+G3iW3itdcV5tJukUy6BfRoCYWA3O0IVR6kkAdSa9Erm/iP/ySzxX/ANgW8/8ARD0AVf8AhK/D39rf2n/Z3iD7X5H2fzP+Ee1H/V7t2MeTjr3xmsWOLwDBppsbXQfEFrD9re9Q22h6rFJFM/3mjkWMNHkcYUgYyMYOK3tb8bLofjTTtFubBms7yNTJqAl4t3dykYZMdGYBd2eCy8c5qKXxxPJqUuk6VpS3WqfbpbWGGS68uMxxJGzzSPsJRR5ijAViSR6khKzWnn+ev46/iD0dn/Wn+X+RX0rXPC2i280Wn6Z4iBuG3TzTaFqc00xxgF5XiLtgcDJOBgDirOmeKvDujaVbabpuneIIbS1jWKGP/hHtRbaoGAMmEk/iadF4o16aS/04aFYx61YCOaSCXU3FvJbuG2yRzCAsTuRlKmNcEHnGM2vBev6p4m0C31fUdLs9Pt7yCOe2WC+a4cqwzhwYkCkcdC2eemOa1d/l/wAANjGutU8H3uj6jpV3ouuzWWpu8l3C/h7UiJGf7xz5OQeAeMYI4xVO7Hga8WNZdH8TRqlsloywaRq0KzQoMLHKEjAlUAkYfdwT6mtbTvH63mu67pdzprWsmmiV7VzNuW9SLiQj5RtKkrleeHU/S74e8Xf29Z3s/wBi8j7LBBNt83du8yBZsfdGMbse+M+1RdKPN0sn8tbfr6D15uXrr+l/0MfVtU8Ka01o15YeKYnsgy272WkatatGGABAMUanB2jjpxVaOXwfFqIvorbxpHcfu97Jaa2BKUAVTIoXEhwACWBz3zXRab4s/tBvDY+xeX/bli15/rc+RtSNtvT5v9ZjPHTpzWhp2s/b9a1fT/I8v+zZY4/M358zfGr5xjjG7HeraadupKaautjjvH3jTS7r4beJbeK11xXm0m6RTLoF9GgJhYDc7QhVHqSQB1JqL9nz/khPh7/t5/8ASmWul+I//JLPFf8A2Bbz/wBEPXNfs+f8kJ8Pf9vP/pTLSGek0UUUAFFFFAHyZ4y/5HrXv+wlcf8Ao1qKPGX/ACPWvf8AYSuP/RrUV8jU+Nn9EYT/AHen/hX5H014N/5EXQf+wbb/APopa2axvBv/ACIug/8AYNt//RS1s19XT+Beh+AYv/eKnq/zCiiirOYKKKKACiiigAooooAKKKKACiiigAooooAKKKKACiiigAooooAKKKKACiiigAooooAKKKKACiiigAooooAKKKKACiiigAooooAKKKKACiiigAooooAKKKKACiiigAooooAKKKKACiiigAooooAKKKKACiiigArzb4yf8yF/2Oenf+1K9JrkviJ4KuvG+laXBp+s/wBjXemanFqUF19lFxh41cKNhYDqwPORxjHNAHP+IPh1ql94f1Lw5bWOhajpt3PPcWd3qDsk+nPO7M5VfKcOVZyVYMhwcHpuPW674b/tfV/Dd2Y7aRdIvWuHMy5bHkyINnB53sh7fdz1Arlv+EJ+J3/RXP8Ay2rb/wCKo/4Qn4nf9Fc/8tq2/wDiqForA9fx/Hcu3Xg+7/4T2+1z/hGfDerrcTQSwXd/OUubXYiqdg+zv0K7hhxz6VHB8O5bHUJtbsItOi17+25L1LsKQZbWRsPDI4Xcf3ZbA5AYKe1Vv+EJ+J3/AEVz/wAtq2/+Ko/4Qn4nf9Fc/wDLatv/AIqhaWa/rb/IHqrP+t1+o/VPhxqF+gMF3bQSTaldi7YFv3mn3L7pYhx987UxngEHmr2reCr288O+JtPhWxmOq6jHdQQzuwiMaiAFJPkOM+Uw4DDBFZ3/AAhPxO/6K5/5bVt/8VR/whPxO/6K5/5bVt/8VSSsreVvy/y/MHq7+d/z/wAy3L4EGqaDb6Td+GPDukWKalHdT2WnymSGdApDEjyIxv6Y4PTqMVp2GpW/gjTU0/xj4j02GFHaPTrq+vVimnhUDAk34BdchSwJ3cMcE4rB/wCEJ+J3/RXP/Latv/iqP+EJ+J3/AEVz/wAtq2/+Kp7Xt1/4H+QeprazdW3jjTnt/DkfhXxbpwytzDdX2Vik/hbdGkozjPGFI6hqpR+GvFun6hopC6Zrtvo9iscDXuozW7m5IKvMw8mXcdvyrlsgFs5J4rf8IT8Tv+iuf+W1bf8AxVH/AAhPxO/6K5/5bVt/8VQtNg33LN/8PNT8R3WvXeta9PpzatClr9l00QyxrAifKGeWEvne0hyu3qO/NVZ/Anie60u5u3vtOh8R+fa3NrdI0jRpKluIJSflBwymTA56il/4Qn4nf9Fc/wDLatv/AIqj/hCfid/0Vz/y2rb/AOKpWVrBd3udL4d8K/8ACO6zcvbGMWB0+zs7dMkuPJ8wEtxjneO/rXSV5t/whPxO/wCiuf8AltW3/wAVR/whPxO/6K5/5bVt/wDFVTbbuxJWLuiaTPq3h20+zPGv2PxVqF1J5hIyi39zkDAPPNMtvh1c23ibWvKvIU0DUNOntraBc+baSTsGkCjG3y8gsBnguRjGKoweAPiRaxmO1+K0cKM7yFY/C9qoLOxZmwD1LMST3JJ71J/whPxO/wCiuf8AltW3/wAVU8q/P8VZ/gVf9PwdzY03QfEVxqWiN4gGmw2+ho3lvZTvI93IYjEGZWjURDazHaGfkgZ45ybL4bX1vc+HjJdWq29vBHFq8SFj9p8iQy2+zgfdkJznGRxTf+EJ+J3/AEVz/wAtq2/+Ko/4Qn4nf9Fc/wDLatv/AIqqu+bm6k2SXKtizqPga/uPCFhpj2ek6o9rrE1/LaX0jLbzxvJMwUny35xIv8JGQfrT5PAEOsTaCmseHPD9rpumi6Eml2/7+AeYF2sgMKDOQxPyjBPBNU/+EJ+J3/RXP/Latv8A4qj/AIQn4nf9Fc/8tq2/+KqbKzX9dh9b/wBf1qadh4O1WKTw2mo3NvcQaI13CX8xzJLbuhjhzleXCbQ3PUEgmqg8M+K4PA8/g6NdJk01bGWxh1A3EgnaHyyqKYfL2h8bQW8wjjdt/hqv/wAIT8Tv+iuf+W1bf/FUf8IT8Tv+iuf+W1bf/FUSXMnfqOL5WmuhYu4fEXinwToEehxWJ064tV/tW3ubyS1lkAUAwq6xPtG7cH4DYGARkmrym4ufHvh6zns4LWbTdOuLm4itJTLFAHKRRIGKoSCA5Hyj7hrJ/wCEJ+J3/RXP/Latv/iqP+EJ+J3/AEVz/wAtq2/+Kqm7ybfUlKySXQ9Jorzb/hCfid/0Vz/y2rb/AOKo/wCEJ+J3/RXP/Latv/iqQz0mub+I/wDySzxX/wBgW8/9EPXNf8IT8Tv+iuf+W1bf/FVHc+APiReWstrefFaOe3mQxyxS+F7VkkUjBVgTggg4INAHVar4Uj1rxBdzakkU2m3elGwkiLEOSZC2Rxxx0IOQRXMaF4F8U6BJFqpv9P1LWILq4BE0kkUd5byrEuXcIxSX9wrHCsM5HcEL/wAIT8Tv+iuf+W1bf/FUf8IT8Tv+iuf+W1bf/FUR93b+tbg9d/60sdJpGh6m2salrmum0jvr22jtI7a0dpI7eJC5H7xlUuWaQknaoHAwcZNzwfo9x4f8F6RpF68b3FlaRwSNESULKuCQSAcfgK4//hCfid/0Vz/y2rb/AOKo/wCEJ+J3/RXP/Latv/iqP6/P/MC7q/gK+v8AQdTW0uba31c6lPf6bcksVj3jBSTAztZdysBng5GSBTLLwt4o0G0nt9GOlXIv7C3gme6uJI/ss0cIiLoFjbzVIAO0lDx154q/8IT8Tv8Aorn/AJbVt/8AFUf8IT8Tv+iuf+W1bf8AxVLlXLy9NPwVh315uuv4u5sXPhrVtKk8Mt4cisr4aLZyWbJf3b2+9SkahgyRSc/JyMDrTtOsfFVh4l1C+/s3R5LfVJIJJv8AiaSh4CsSo4UfZ8P0JBJXPfFYv/CE/E7/AKK5/wCW1bf/ABVH/CE/E7/orn/ltW3/AMVVXu7slJJWR0vxH/5JZ4r/AOwLef8Aoh65r9nz/khPh7/t5/8ASmWq2pfDn4i6vpV3puofFfzrS8heCeP/AIRy3XejqVYZDAjIJ5BzXXfD7wj/AMIJ4E0/w39t+3/YvN/0jyvK375Wk+7ubGN+Op6UhnSUUUUAFFFFAHyZ4y/5HrXv+wlcf+jWoo8Zf8j1r3/YSuP/AEa1FfI1PjZ/RGE/3en/AIV+R7b4a+KHg/T/AAnpFnd6v5dxb2UMUqfZpjtZUAIyEweR2rT/AOFueCP+g3/5KT//ABFFFdyzGqlay/H/ADPlanBuX1JubnO7d94//Ih/wtzwR/0G/wDyUn/+Io/4W54I/wCg3/5KT/8AxFFFP+0q3Zfj/mR/qVl388/vj/8AIh/wtzwR/wBBv/yUn/8AiKP+FueCP+g3/wCSk/8A8RRRR/aVbsvx/wAw/wBSsu/nn98f/kQ/4W54I/6Df/kpP/8AEUf8Lc8Ef9Bv/wAlJ/8A4iiij+0q3Zfj/mH+pWXfzz++P/yIf8Lc8Ef9Bv8A8lJ//iKP+FueCP8AoN/+Sk//AMRRRR/aVbsvx/zD/UrLv55/fH/5EP8Ahbngj/oN/wDkpP8A/EUf8Lc8Ef8AQb/8lJ//AIiiij+0q3Zfj/mH+pWXfzz++P8A8iH/AAtzwR/0G/8AyUn/APiKP+FueCP+g3/5KT//ABFFFH9pVuy/H/MP9Ssu/nn98f8A5EP+FueCP+g3/wCSk/8A8RR/wtzwR/0G/wDyUn/+Iooo/tKt2X4/5h/qVl388/vj/wDIh/wtzwR/0G//ACUn/wDiKP8Ahbngj/oN/wDkpP8A/EUUUf2lW7L8f8w/1Ky7+ef3x/8AkQ/4W54I/wCg3/5KT/8AxFH/AAtzwR/0G/8AyUn/APiKKKP7Srdl+P8AmH+pWXfzz++P/wAiH/C3PBH/AEG//JSf/wCIo/4W54I/6Df/AJKT/wDxFFFH9pVuy/H/ADD/AFKy7+ef3x/+RD/hbngj/oN/+Sk//wARR/wtzwR/0G//ACUn/wDiKKKP7Srdl+P+Yf6lZd/PP74//Ih/wtzwR/0G/wDyUn/+Io/4W54I/wCg3/5KT/8AxFFFH9pVuy/H/MP9Ssu/nn98f/kQ/wCFueCP+g3/AOSk/wD8RR/wtzwR/wBBv/yUn/8AiKKKP7Srdl+P+Yf6lZd/PP74/wDyIf8AC3PBH/Qb/wDJSf8A+Io/4W54I/6Df/kpP/8AEUUUf2lW7L8f8w/1Ky7+ef3x/wDkQ/4W54I/6Df/AJKT/wDxFH/C3PBH/Qb/APJSf/4iiij+0q3Zfj/mH+pWXfzz++P/AMiH/C3PBH/Qb/8AJSf/AOIo/wCFueCP+g3/AOSk/wD8RRRR/aVbsvx/zD/UrLv55/fH/wCRD/hbngj/AKDf/kpP/wDEUf8AC3PBH/Qb/wDJSf8A+Iooo/tKt2X4/wCYf6lZd/PP74//ACIf8Lc8Ef8AQb/8lJ//AIij/hbngj/oN/8AkpP/APEUUUf2lW7L8f8AMP8AUrLv55/fH/5EP+FueCP+g3/5KT//ABFH/C3PBH/Qb/8AJSf/AOIooo/tKt2X4/5h/qVl388/vj/8iH/C3PBH/Qb/APJSf/4ij/hbngj/AKDf/kpP/wDEUUUf2lW7L8f8w/1Ky7+ef3x/+RD/AIW54I/6Df8A5KT/APxFH/C3PBH/AEG//JSf/wCIooo/tKt2X4/5h/qVl388/vj/APIh/wALc8Ef9Bv/AMlJ/wD4ij/hbngj/oN/+Sk//wARRRR/aVbsvx/zD/UrLv55/fH/AORD/hbngj/oN/8AkpP/APEUf8Lc8Ef9Bv8A8lJ//iKKKP7Srdl+P+Yf6lZd/PP74/8AyIf8Lc8Ef9Bv/wAlJ/8A4ij/AIW54I/6Df8A5KT/APxFFFH9pVuy/H/MP9Ssu/nn98f/AJEP+FueCP8AoN/+Sk//AMRR/wALc8Ef9Bv/AMlJ/wD4iiij+0q3Zfj/AJh/qVl388/vj/8AIh/wtzwR/wBBv/yUn/8AiKP+FueCP+g3/wCSk/8A8RRRR/aVbsvx/wAw/wBSsu/nn98f/kQ/4W54I/6Df/kpP/8AEUf8Lc8Ef9Bv/wAlJ/8A4iiij+0q3Zfj/mH+pWXfzz++P/yIf8Lc8Ef9Bv8A8lJ//iKP+FueCP8AoN/+Sk//AMRRRR/aVbsvx/zD/UrLv55/fH/5EP8Ahbngj/oN/wDkpP8A/EUf8Lc8Ef8AQb/8lJ//AIiiij+0q3Zfj/mH+pWXfzz++P8A8iH/AAtzwR/0G/8AyUn/APiKP+FueCP+g3/5KT//ABFFFH9pVuy/H/MP9Ssu/nn98f8A5EP+FueCP+g3/wCSk/8A8RR/wtzwR/0G/wDyUn/+Iooo/tKt2X4/5h/qVl388/vj/wDIh/wtzwR/0G//ACUn/wDiKP8Ahbngj/oN/wDkpP8A/EUUUf2lW7L8f8w/1Ky7+ef3x/8AkQ/4W54I/wCg3/5KT/8AxFH/AAtzwR/0G/8AyUn/APiKKKP7Srdl+P8AmH+pWXfzz++P/wAiH/C3PBH/AEG//JSf/wCIo/4W54I/6Df/AJKT/wDxFFFH9pVuy/H/ADD/AFKy7+ef3x/+RD/hbngj/oN/+Sk//wARR/wtzwR/0G//ACUn/wDiKKKP7Srdl+P+Yf6lZd/PP74//Ih/wtzwR/0G/wDyUn/+Io/4W54I/wCg3/5KT/8AxFFFH9pVuy/H/MP9Ssu/nn98f/kQ/wCFueCP+g3/AOSk/wD8RR/wtzwR/wBBv/yUn/8AiKKKP7Srdl+P+Yf6lZd/PP74/wDyIf8AC3PBH/Qb/wDJSf8A+Io/4W54I/6Df/kpP/8AEUUUf2lW7L8f8w/1Ky7+ef3x/wDkQ/4W54I/6Df/AJKT/wDxFH/C3PBH/Qb/APJSf/4iiij+0q3Zfj/mH+pWXfzz++P/AMiH/C3PBH/Qb/8AJSf/AOIo/wCFueCP+g3/AOSk/wD8RRRR/aVbsvx/zD/UrLv55/fH/wCRD/hbngj/AKDf/kpP/wDEUf8AC3PBH/Qb/wDJSf8A+Iooo/tKt2X4/wCYf6lZd/PP74//ACIf8Lc8Ef8AQb/8lJ//AIij/hbngj/oN/8AkpP/APEUUUf2lW7L8f8AMP8AUrLv55/fH/5EP+FueCP+g3/5KT//ABFH/C3PBH/Qb/8AJSf/AOIooo/tKt2X4/5h/qVl388/vj/8iH/C3PBH/Qb/APJSf/4ij/hbngj/AKDf/kpP/wDEUUUf2lW7L8f8w/1Ky7+ef3x/+RD/AIW54I/6Df8A5KT/APxFH/C3PBH/AEG//JSf/wCIooo/tKt2X4/5h/qVl388/vj/APIh/wALc8Ef9Bv/AMlJ/wD4ij/hbngj/oN/+Sk//wARRRR/aVbsvx/zD/UrLv55/fH/AORD/hbngj/oN/8AkpP/APEUf8Lc8Ef9Bv8A8lJ//iKKKP7Srdl+P+Yf6lZd/PP74/8AyIf8Lc8Ef9Bv/wAlJ/8A4ij/AIW54I/6Df8A5KT/APxFFFH9pVuy/H/MP9Ssu/nn98f/AJEP+FueCP8AoN/+Sk//AMRR/wALc8Ef9Bv/AMlJ/wD4iiij+0q3Zfj/AJh/qVl388/vj/8AIh/wtzwR/wBBv/yUn/8AiKP+FueCP+g3/wCSk/8A8RRRR/aVbsvx/wAw/wBSsu/nn98f/kQ/4W54I/6Df/kpP/8AEUf8Lc8Ef9Bv/wAlJ/8A4iiij+0q3Zfj/mH+pWXfzz++P/yIf8Lc8Ef9Bv8A8lJ//iKP+FueCP8AoN/+Sk//AMRRRR/aVbsvx/zD/UrLv55/fH/5E+efEt5BqHizV7y0fzLe4vZpYnwRuVnJBweRwe9FFFec3d3Ps6cFTgoLZKx//9k=)"
            ],
            "metadata": {
                "language": "sql",
                "azdata_cell_guid": "00497b05-c73a-419e-817f-ef7f92cae0f2"
            },
            "attachments": {}
        },
        {
            "cell_type": "code",
            "source": [
                "select --VALAMI\r\n",
                "from foglalas f join vendeg v on f.ugyfel_fk = v.usernev\r\n",
                "WHERE VALAMI\r\n",
                "(\r\n",
                "select VALAMI\r\n",
                "from Vendeg\r\n",
                "Where szul_dat VALAMI\r\n",
                "(\r\n",
                "    select (max(szul_dat))\r\n",
                "    from vendeg\r\n",
                ")\r\n",
                ")\r\n",
                ""
            ],
            "metadata": {
                "language": "sql",
                "azdata_cell_guid": "a1b2b773-6909-44d0-8d83-4272eeaae260"
            },
            "outputs": [
                {
                    "output_type": "display_data",
                    "data": {
                        "text/html": "Commands completed successfully."
                    },
                    "metadata": {}
                },
                {
                    "output_type": "display_data",
                    "data": {
                        "text/html": "Total execution time: 00:00:00"
                    },
                    "metadata": {}
                }
            ],
            "execution_count": 19
        },
        {
            "cell_type": "code",
            "source": [
                "select max(szul_dat)--VALAMI\r\n",
                "from foglalas f join vendeg v on f.ugyfel_fk = v.usernev\r\n",
                "WHERE EXISTS\r\n",
                "(\r\n",
                "select v.*\r\n",
                "from Vendeg\r\n",
                "Where szul_dat in\r\n",
                "(\r\n",
                "    select (max(szul_dat))\r\n",
                "    from vendeg\r\n",
                ")\r\n",
                ")"
            ],
            "metadata": {
                "language": "sql",
                "azdata_cell_guid": "074a4183-a74d-4ac7-bb80-546a445e4f01"
            },
            "outputs": [
                {
                    "output_type": "error",
                    "evalue": "Msg 8120, Level 16, State 1, Line 1\r\nColumn 'vendeg.USERNEV' is invalid in the select list because it is not contained in either an aggregate function or the GROUP BY clause.",
                    "ename": "",
                    "traceback": []
                },
                {
                    "output_type": "display_data",
                    "data": {
                        "text/html": "Total execution time: 00:00:00.002"
                    },
                    "metadata": {}
                }
            ],
            "execution_count": 27
        }
    ]
}