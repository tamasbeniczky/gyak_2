{
    "metadata": {
        "kernelspec": {
            "name": "SQL",
            "display_name": "SQL",
            "language": "sql"
        },
        "language_info": {
            "name": "sql",
            "version": ""
        }
    },
    "nbformat_minor": 2,
    "nbformat": 4,
    "cells": [
        {
            "cell_type": "markdown",
            "source": [
                "1. <span style=\"background-color: rgb(255, 255, 255); color: rgb(0, 0, 0); font-family: &quot;Open Sans&quot;, sans-serif; font-size: 14.44px;\">Készítsünk sorszámozott listát a szálláshelyek adatairól!&nbsp;</span> \n",
                "\n",
                "a. A lista legyen a szálláshely típusa szerint, azon belül hely szerint, majd a neve szerint növekvően rendezve! \n",
                "\n",
                "b. A számozás típusonként kezdődjön újra!"
            ],
            "metadata": {
                "azdata_cell_guid": "363cd270-6577-449b-9c89-d4b7c7972d52"
            },
            "attachments": {}
        },
        {
            "cell_type": "code",
            "source": [
                "--row_number()\r\n",
                "SELECT row_number() over(\r\n",
                "    PARTITION BY tipus\r\n",
                "    ORDER BY tipus, hely, szallas_nev\r\n",
                ") as 'sorszám',\r\n",
                "        *\r\n",
                "FROM Szallashely"
            ],
            "metadata": {
                "azdata_cell_guid": "6ab9f633-a3b5-48c9-a1dc-4fb8235ae85b",
                "language": "sql"
            },
            "outputs": [
                {
                    "output_type": "display_data",
                    "data": {
                        "text/html": "(21 rows affected)"
                    },
                    "metadata": {}
                },
                {
                    "output_type": "display_data",
                    "data": {
                        "text/html": "Total execution time: 00:00:00.007"
                    },
                    "metadata": {}
                },
                {
                    "output_type": "execute_result",
                    "metadata": {},
                    "execution_count": 2,
                    "data": {
                        "application/vnd.dataresource+json": {
                            "schema": {
                                "fields": [
                                    {
                                        "name": "sorszám"
                                    },
                                    {
                                        "name": "SZALLAS_ID"
                                    },
                                    {
                                        "name": "SZALLAS_NEV"
                                    },
                                    {
                                        "name": "HELY"
                                    },
                                    {
                                        "name": "CSILLAGOK_SZAMA"
                                    },
                                    {
                                        "name": "TIPUS"
                                    },
                                    {
                                        "name": "ROGZITETTE"
                                    },
                                    {
                                        "name": "ROGZ_IDO"
                                    },
                                    {
                                        "name": "CIM"
                                    }
                                ]
                            },
                            "data": [
                                {
                                    "sorszám": "1",
                                    "SZALLAS_ID": "7",
                                    "SZALLAS_NEV": "Szieszta Apartmanház",
                                    "HELY": "Balaton-dél",
                                    "CSILLAGOK_SZAMA": "0",
                                    "TIPUS": "Apartman",
                                    "ROGZITETTE": "Mari",
                                    "ROGZ_IDO": "2016-03-11",
                                    "CIM": "8630 Balatonboglár, Dózsa György utca 108"
                                },
                                {
                                    "sorszám": "2",
                                    "SZALLAS_ID": "18",
                                    "SZALLAS_NEV": "Fortuna Apartman",
                                    "HELY": "Dél-Somogy",
                                    "CSILLAGOK_SZAMA": "0",
                                    "TIPUS": "Apartman",
                                    "ROGZITETTE": "Béla",
                                    "ROGZ_IDO": "2016-04-07",
                                    "CIM": "7570 Barcs, Kossuth u. 13."
                                },
                                {
                                    "sorszám": "3",
                                    "SZALLAS_ID": "3",
                                    "SZALLAS_NEV": "Fortuna Apartman",
                                    "HELY": "Hajdúbihar megye",
                                    "CSILLAGOK_SZAMA": "0",
                                    "TIPUS": "Apartman",
                                    "ROGZITETTE": "Sára",
                                    "ROGZ_IDO": "2016-03-06",
                                    "CIM": "4200 Hajdúszoboszló, Wesselényi utca 56."
                                },
                                {
                                    "sorszám": "1",
                                    "SZALLAS_ID": "20",
                                    "SZALLAS_NEV": "Kollégium",
                                    "HELY": "Budapest",
                                    "CSILLAGOK_SZAMA": "0",
                                    "TIPUS": "Diákszálló",
                                    "ROGZITETTE": "Sára",
                                    "ROGZ_IDO": "2016-04-07",
                                    "CIM": "1146 Budapest, Ajtósi Dürer sor 23."
                                },
                                {
                                    "sorszám": "1",
                                    "SZALLAS_ID": "8",
                                    "SZALLAS_NEV": "Hotel Három Hattyú",
                                    "HELY": "Balaton-dél",
                                    "CSILLAGOK_SZAMA": "4",
                                    "TIPUS": "Hotel",
                                    "ROGZITETTE": "Béla",
                                    "ROGZ_IDO": "2016-03-13",
                                    "CIM": "8623 Balatonföldvár, Rákóczi Ferenc út 45."
                                },
                                {
                                    "sorszám": "2",
                                    "SZALLAS_ID": "6",
                                    "SZALLAS_NEV": "Kentaur Hotel",
                                    "HELY": "Balaton-dél",
                                    "CSILLAGOK_SZAMA": "3",
                                    "TIPUS": "Hotel",
                                    "ROGZITETTE": "Béla",
                                    "ROGZ_IDO": "2016-03-08",
                                    "CIM": "8600 Siófok (Széplak), Akácfa utca 1"
                                },
                                {
                                    "sorszám": "3",
                                    "SZALLAS_ID": "12",
                                    "SZALLAS_NEV": "Gold Hotel",
                                    "HELY": "Budapest",
                                    "CSILLAGOK_SZAMA": "3",
                                    "TIPUS": "Hotel",
                                    "ROGZITETTE": "Béla",
                                    "ROGZ_IDO": "2016-03-24",
                                    "CIM": "1016 Budapest, Hegyalja út 12"
                                },
                                {
                                    "sorszám": "4",
                                    "SZALLAS_ID": "10",
                                    "SZALLAS_NEV": "Lagúna Hotel",
                                    "HELY": "Budapest",
                                    "CSILLAGOK_SZAMA": "4",
                                    "TIPUS": "Hotel",
                                    "ROGZITETTE": "Sára",
                                    "ROGZ_IDO": "2016-03-20",
                                    "CIM": "1097 Budapest, Albert Flórián út 3"
                                },
                                {
                                    "sorszám": "5",
                                    "SZALLAS_ID": "16",
                                    "SZALLAS_NEV": "Bagoly Hotel",
                                    "HELY": "Pest megye",
                                    "CSILLAGOK_SZAMA": "3",
                                    "TIPUS": "Hotel",
                                    "ROGZITETTE": "Mari",
                                    "ROGZ_IDO": "2016-04-01",
                                    "CIM": "2230 Gyömrő, Bergszász u. 5."
                                },
                                {
                                    "sorszám": "6",
                                    "SZALLAS_ID": "17",
                                    "SZALLAS_NEV": "Szarvas Hotel",
                                    "HELY": "Tolna megye",
                                    "CSILLAGOK_SZAMA": "4",
                                    "TIPUS": "Hotel",
                                    "ROGZITETTE": "Béla",
                                    "ROGZ_IDO": "2016-04-04",
                                    "CIM": "7121 Szálka, Petőfi Sándor u."
                                },
                                {
                                    "sorszám": "1",
                                    "SZALLAS_ID": "9",
                                    "SZALLAS_NEV": "Jáde panzió",
                                    "HELY": "Balaton-dél",
                                    "CSILLAGOK_SZAMA": "3",
                                    "TIPUS": "panzió",
                                    "ROGZITETTE": "Mari",
                                    "ROGZ_IDO": "2016-03-16",
                                    "CIM": "8624 Balatonföldvár, Kiss u.2."
                                },
                                {
                                    "sorszám": "2",
                                    "SZALLAS_ID": "15",
                                    "SZALLAS_NEV": "Tímárház Panzió",
                                    "HELY": "Balaton-dél",
                                    "CSILLAGOK_SZAMA": "3",
                                    "TIPUS": "panzió",
                                    "ROGZITETTE": "Béla",
                                    "ROGZ_IDO": "2016-03-29",
                                    "CIM": "8600 Siófok, Virág utca 1"
                                },
                                {
                                    "sorszám": "3",
                                    "SZALLAS_ID": "5",
                                    "SZALLAS_NEV": "Fortuna Panzió",
                                    "HELY": "Békés megye",
                                    "CSILLAGOK_SZAMA": "3",
                                    "TIPUS": "panzió",
                                    "ROGZITETTE": "Sára",
                                    "ROGZ_IDO": "2016-03-08",
                                    "CIM": "5900 Orosháza, Gyopárosfürdő Tópart utca 3."
                                },
                                {
                                    "sorszám": "4",
                                    "SZALLAS_ID": "4",
                                    "SZALLAS_NEV": "Fortuna panzió",
                                    "HELY": "Budapest",
                                    "CSILLAGOK_SZAMA": "3",
                                    "TIPUS": "panzió",
                                    "ROGZITETTE": "Béla",
                                    "ROGZ_IDO": "2016-03-07",
                                    "CIM": "1019 Budapest XIV. Cinkotai út 86."
                                },
                                {
                                    "sorszám": "5",
                                    "SZALLAS_ID": "13",
                                    "SZALLAS_NEV": "Riviéra Panzió",
                                    "HELY": "Csongrád megye",
                                    "CSILLAGOK_SZAMA": "3",
                                    "TIPUS": "panzió",
                                    "ROGZITETTE": "Sára",
                                    "ROGZ_IDO": "2016-03-27",
                                    "CIM": "6722 Szeged, Petőfi Sándor út 3."
                                },
                                {
                                    "sorszám": "1",
                                    "SZALLAS_ID": "2",
                                    "SZALLAS_NEV": "Családi Ház",
                                    "HELY": "Balaton-dél",
                                    "CSILLAGOK_SZAMA": "0",
                                    "TIPUS": "vendégház",
                                    "ROGZITETTE": "Béla",
                                    "ROGZ_IDO": "2016-03-02",
                                    "CIM": "8630 Balatonboglár, József Attila utca 25"
                                },
                                {
                                    "sorszám": "2",
                                    "SZALLAS_ID": "1",
                                    "SZALLAS_NEV": "Sába-Ház",
                                    "HELY": "Balaton-dél",
                                    "CSILLAGOK_SZAMA": "0",
                                    "TIPUS": "vendégház",
                                    "ROGZITETTE": "Béla",
                                    "ROGZ_IDO": "2016-02-28",
                                    "CIM": "8630 Balatonboglár, Radnóti Miklós utca 8"
                                },
                                {
                                    "sorszám": "3",
                                    "SZALLAS_ID": "11",
                                    "SZALLAS_NEV": "Partiszél Vendégház",
                                    "HELY": "Balaton-észak",
                                    "CSILLAGOK_SZAMA": "0",
                                    "TIPUS": "vendégház",
                                    "ROGZITETTE": "Béla",
                                    "ROGZ_IDO": "2016-03-22",
                                    "CIM": "8220 Balatonalmádi Neptun u. 23."
                                },
                                {
                                    "sorszám": "4",
                                    "SZALLAS_ID": "14",
                                    "SZALLAS_NEV": "Nyárfás Vendégház",
                                    "HELY": "Csongrád megye",
                                    "CSILLAGOK_SZAMA": "0",
                                    "TIPUS": "vendégház",
                                    "ROGZITETTE": "Béla",
                                    "ROGZ_IDO": "2016-03-27",
                                    "CIM": "6723 Szeged, Nagy u. 12."
                                },
                                {
                                    "sorszám": "5",
                                    "SZALLAS_ID": "21",
                                    "SZALLAS_NEV": "Müller Vendégház",
                                    "HELY": "Dél-Somogy",
                                    "CSILLAGOK_SZAMA": "0",
                                    "TIPUS": "vendégház",
                                    "ROGZITETTE": "Béla",
                                    "ROGZ_IDO": "2016-04-07",
                                    "CIM": "7570 Barcs, Magyar u. 10."
                                },
                                {
                                    "sorszám": "6",
                                    "SZALLAS_ID": "19",
                                    "SZALLAS_NEV": "Nyárfás Vendégház",
                                    "HELY": "Dél-Somogy",
                                    "CSILLAGOK_SZAMA": "0",
                                    "TIPUS": "vendégház",
                                    "ROGZITETTE": "Sára",
                                    "ROGZ_IDO": "2016-04-07",
                                    "CIM": "7570 Barcs, Bajcsy-Zs. u. 53"
                                }
                            ]
                        },
                        "text/html": [
                            "<table>",
                            "<tr><th>sorszám</th><th>SZALLAS_ID</th><th>SZALLAS_NEV</th><th>HELY</th><th>CSILLAGOK_SZAMA</th><th>TIPUS</th><th>ROGZITETTE</th><th>ROGZ_IDO</th><th>CIM</th></tr>",
                            "<tr><td>1</td><td>7</td><td>Szieszta Apartmanház</td><td>Balaton-dél</td><td>0</td><td>Apartman</td><td>Mari</td><td>2016-03-11</td><td>8630 Balatonboglár, Dózsa György utca 108</td></tr>",
                            "<tr><td>2</td><td>18</td><td>Fortuna Apartman</td><td>Dél-Somogy</td><td>0</td><td>Apartman</td><td>Béla</td><td>2016-04-07</td><td>7570 Barcs, Kossuth u. 13.</td></tr>",
                            "<tr><td>3</td><td>3</td><td>Fortuna Apartman</td><td>Hajdúbihar megye</td><td>0</td><td>Apartman</td><td>Sára</td><td>2016-03-06</td><td>4200 Hajdúszoboszló, Wesselényi utca 56.</td></tr>",
                            "<tr><td>1</td><td>20</td><td>Kollégium</td><td>Budapest</td><td>0</td><td>Diákszálló</td><td>Sára</td><td>2016-04-07</td><td>1146 Budapest, Ajtósi Dürer sor 23.</td></tr>",
                            "<tr><td>1</td><td>8</td><td>Hotel Három Hattyú</td><td>Balaton-dél</td><td>4</td><td>Hotel</td><td>Béla</td><td>2016-03-13</td><td>8623 Balatonföldvár, Rákóczi Ferenc út 45.</td></tr>",
                            "<tr><td>2</td><td>6</td><td>Kentaur Hotel</td><td>Balaton-dél</td><td>3</td><td>Hotel</td><td>Béla</td><td>2016-03-08</td><td>8600 Siófok (Széplak), Akácfa utca 1</td></tr>",
                            "<tr><td>3</td><td>12</td><td>Gold Hotel</td><td>Budapest</td><td>3</td><td>Hotel</td><td>Béla</td><td>2016-03-24</td><td>1016 Budapest, Hegyalja út 12</td></tr>",
                            "<tr><td>4</td><td>10</td><td>Lagúna Hotel</td><td>Budapest</td><td>4</td><td>Hotel</td><td>Sára</td><td>2016-03-20</td><td>1097 Budapest, Albert Flórián út 3</td></tr>",
                            "<tr><td>5</td><td>16</td><td>Bagoly Hotel</td><td>Pest megye</td><td>3</td><td>Hotel</td><td>Mari</td><td>2016-04-01</td><td>2230 Gyömrő, Bergszász u. 5.</td></tr>",
                            "<tr><td>6</td><td>17</td><td>Szarvas Hotel</td><td>Tolna megye</td><td>4</td><td>Hotel</td><td>Béla</td><td>2016-04-04</td><td>7121 Szálka, Petőfi Sándor u.</td></tr>",
                            "<tr><td>1</td><td>9</td><td>Jáde panzió</td><td>Balaton-dél</td><td>3</td><td>panzió</td><td>Mari</td><td>2016-03-16</td><td>8624 Balatonföldvár, Kiss u.2.</td></tr>",
                            "<tr><td>2</td><td>15</td><td>Tímárház Panzió</td><td>Balaton-dél</td><td>3</td><td>panzió</td><td>Béla</td><td>2016-03-29</td><td>8600 Siófok, Virág utca 1</td></tr>",
                            "<tr><td>3</td><td>5</td><td>Fortuna Panzió</td><td>Békés megye</td><td>3</td><td>panzió</td><td>Sára</td><td>2016-03-08</td><td>5900 Orosháza, Gyopárosfürdő Tópart utca 3.</td></tr>",
                            "<tr><td>4</td><td>4</td><td>Fortuna panzió</td><td>Budapest</td><td>3</td><td>panzió</td><td>Béla</td><td>2016-03-07</td><td>1019 Budapest XIV. Cinkotai út 86.</td></tr>",
                            "<tr><td>5</td><td>13</td><td>Riviéra Panzió</td><td>Csongrád megye</td><td>3</td><td>panzió</td><td>Sára</td><td>2016-03-27</td><td>6722 Szeged, Petőfi Sándor út 3.</td></tr>",
                            "<tr><td>1</td><td>2</td><td>Családi Ház</td><td>Balaton-dél</td><td>0</td><td>vendégház</td><td>Béla</td><td>2016-03-02</td><td>8630 Balatonboglár, József Attila utca 25</td></tr>",
                            "<tr><td>2</td><td>1</td><td>Sába-Ház</td><td>Balaton-dél</td><td>0</td><td>vendégház</td><td>Béla</td><td>2016-02-28</td><td>8630 Balatonboglár, Radnóti Miklós utca 8</td></tr>",
                            "<tr><td>3</td><td>11</td><td>Partiszél Vendégház</td><td>Balaton-észak</td><td>0</td><td>vendégház</td><td>Béla</td><td>2016-03-22</td><td>8220 Balatonalmádi Neptun u. 23.</td></tr>",
                            "<tr><td>4</td><td>14</td><td>Nyárfás Vendégház</td><td>Csongrád megye</td><td>0</td><td>vendégház</td><td>Béla</td><td>2016-03-27</td><td>6723 Szeged, Nagy u. 12.</td></tr>",
                            "<tr><td>5</td><td>21</td><td>Müller Vendégház</td><td>Dél-Somogy</td><td>0</td><td>vendégház</td><td>Béla</td><td>2016-04-07</td><td>7570 Barcs, Magyar u. 10.</td></tr>",
                            "<tr><td>6</td><td>19</td><td>Nyárfás Vendégház</td><td>Dél-Somogy</td><td>0</td><td>vendégház</td><td>Sára</td><td>2016-04-07</td><td>7570 Barcs, Bajcsy-Zs. u. 53</td></tr>",
                            "</table>"
                        ]
                    }
                }
            ],
            "execution_count": 2
        },
        {
            "cell_type": "markdown",
            "source": [
                "2. <span style=\"background-color: rgb(255, 255, 255); color: rgb(0, 0, 0); font-family: &quot;Open Sans&quot;, sans-serif; font-size: 14.44px;\">Készítsünk lekérdezést, amely a foglalások adatait jeleníti meg!&nbsp;</span> \n",
                "\n",
                "a. A lista tartalmazzon két új oszlopot, amelyek az adott ügyfél legrövidebb, illetve leghosszabb foglalásának hosszát (a foglalt napok számát) mutatják meg! \n",
                "\n",
                "b. Az oszlopokat nevezzük el értelemszerűen!"
            ],
            "metadata": {
                "azdata_cell_guid": "ea75c103-911f-41a3-a32c-3d40fb3e4e4a"
            },
            "attachments": {}
        },
        {
            "cell_type": "code",
            "source": [
                ""
            ],
            "metadata": {
                "azdata_cell_guid": "222b9618-a8e8-42b4-a8e8-d002257122b7",
                "language": "sql"
            },
            "outputs": [],
            "execution_count": null
        },
        {
            "cell_type": "markdown",
            "source": [
                "```\n",
                "3. Készítsük listát, amely megjeleníti az ügyfelek azonosítóját, nevét és a foglalásainak kezdő- és befejező dátumát, valamint azt, hogy a foglalás összesen hány főre történt! \n",
                "```\n",
                "\n",
                "a. Egy új oszlopban jelenítsük meg azt is, hogy az ügyfél előző három foglalása összesen hány főre történt!\n",
                "\n",
                "![](https://moodle.uni-corvinus.hu/theme/image.php/adaptable/atto_h5p/1709548862/icon)"
            ],
            "metadata": {
                "azdata_cell_guid": "d7876bb9-76d0-4d07-baed-3cb17b2f96c3"
            },
            "attachments": {}
        },
        {
            "cell_type": "code",
            "source": [
                ""
            ],
            "metadata": {
                "azdata_cell_guid": "56ec19ce-e249-4551-b2a8-f17569765acc",
                "language": "sql"
            },
            "outputs": [],
            "execution_count": null
        },
        {
            "cell_type": "markdown",
            "source": [
                "4. <span style=\"background-color: rgb(255, 255, 255); color: rgb(0, 0, 0); font-family: &quot;Open Sans&quot;, sans-serif; font-size: 14.44px;\">Készítsünk listát arról, hogy az egyes szálláshelyeken évente hány foglalás történt!&nbsp;</span> \n",
                "\n",
                "a. A lista jelenítse meg a szálláshely azonosítóját, nevét, az évet, és a foglalások számát!\n",
                "\n",
                "b. Egy új oszlopban jelenítsük meg a szálláshely eddigi éves foglalásainak számát is (az aktuálisat is beleértve). \n",
                "\n",
                "c. Az évnél a METTOL dátumot vegyük figyelembe! \n",
                "\n",
                "d. A lista ne tartalmazzon duplikált sorokat!"
            ],
            "metadata": {
                "azdata_cell_guid": "8e7fef82-8022-49a0-8255-fc2846c2134b"
            },
            "attachments": {}
        },
        {
            "cell_type": "code",
            "source": [
                "SELECT DISTINCT szh.szallas_id,\r\n",
                "                year(f.mettol),\r\n",
                "                count(*) over(PARTITION By szh.szallas_id, year(f.mettol)),\r\n",
                "                --eddigi foglalások száma\r\n",
                "                count(*) over(PARTITION By szh.szallas_id, year(f.mettol)\r\n",
                "                                order By f.mettol\r\n",
                "                                range BETWEEN unbounded preceding and current row)\r\n",
                "from szallashely szh\r\n",
                "    join szoba sz on szh.szallas_id = sz.szallas_fk\r\n",
                "    join foglalas f on sz.szoba_id = f.szoba_fk"
            ],
            "metadata": {
                "azdata_cell_guid": "36f7b396-4a1f-45e5-8720-2302537c91bc",
                "language": "sql"
            },
            "outputs": [
                {
                    "output_type": "display_data",
                    "data": {
                        "text/html": "(811 rows affected)"
                    },
                    "metadata": {}
                },
                {
                    "output_type": "display_data",
                    "data": {
                        "text/html": "Total execution time: 00:00:00.080"
                    },
                    "metadata": {}
                },
                {
                    "output_type": "execute_result",
                    "metadata": {},
                    "execution_count": 14,
                    "data": {
                        "application/vnd.dataresource+json": {
                            "schema": {
                                "fields": [
                                    {
                                        "name": "szallas_id"
                                    },
                                    {
                                        "name": "(No column name)"
                                    },
                                    {
                                        "name": "(No column name)"
                                    },
                                    {
                                        "name": "(No column name)"
                                    }
                                ]
                            },
                            "data": [
                                {
                                    "szallas_id": "3",
                                    "(No column name)": "31"
                                },
                                {
                                    "szallas_id": "6",
                                    "(No column name)": "44"
                                },
                                {
                                    "szallas_id": "6",
                                    "(No column name)": "20"
                                },
                                {
                                    "szallas_id": "8",
                                    "(No column name)": "80"
                                },
                                {
                                    "szallas_id": "12",
                                    "(No column name)": "12"
                                },
                                {
                                    "szallas_id": "8",
                                    "(No column name)": "32"
                                },
                                {
                                    "szallas_id": "10",
                                    "(No column name)": "12"
                                },
                                {
                                    "szallas_id": "2",
                                    "(No column name)": "7"
                                },
                                {
                                    "szallas_id": "7",
                                    "(No column name)": "23"
                                },
                                {
                                    "szallas_id": "12",
                                    "(No column name)": "18"
                                },
                                {
                                    "szallas_id": "1",
                                    "(No column name)": "1"
                                },
                                {
                                    "szallas_id": "3",
                                    "(No column name)": "8"
                                },
                                {
                                    "szallas_id": "5",
                                    "(No column name)": "32"
                                },
                                {
                                    "szallas_id": "6",
                                    "(No column name)": "136"
                                },
                                {
                                    "szallas_id": "9",
                                    "(No column name)": "23"
                                },
                                {
                                    "szallas_id": "10",
                                    "(No column name)": "47"
                                },
                                {
                                    "szallas_id": "5",
                                    "(No column name)": "9"
                                },
                                {
                                    "szallas_id": "6",
                                    "(No column name)": "113"
                                },
                                {
                                    "szallas_id": "8",
                                    "(No column name)": "155"
                                },
                                {
                                    "szallas_id": "10",
                                    "(No column name)": "70"
                                },
                                {
                                    "szallas_id": "2",
                                    "(No column name)": "1"
                                },
                                {
                                    "szallas_id": "8",
                                    "(No column name)": "27"
                                },
                                {
                                    "szallas_id": "10",
                                    "(No column name)": "16"
                                },
                                {
                                    "szallas_id": "6",
                                    "(No column name)": "67"
                                },
                                {
                                    "szallas_id": "8",
                                    "(No column name)": "103"
                                },
                                {
                                    "szallas_id": "8",
                                    "(No column name)": "4"
                                },
                                {
                                    "szallas_id": "6",
                                    "(No column name)": "50"
                                },
                                {
                                    "szallas_id": "6",
                                    "(No column name)": "144"
                                },
                                {
                                    "szallas_id": "7",
                                    "(No column name)": "4"
                                },
                                {
                                    "szallas_id": "8",
                                    "(No column name)": "26"
                                },
                                {
                                    "szallas_id": "9",
                                    "(No column name)": "2"
                                },
                                {
                                    "szallas_id": "5",
                                    "(No column name)": "1"
                                },
                                {
                                    "szallas_id": "10",
                                    "(No column name)": "87"
                                },
                                {
                                    "szallas_id": "4",
                                    "(No column name)": "8"
                                },
                                {
                                    "szallas_id": "6",
                                    "(No column name)": "61"
                                },
                                {
                                    "szallas_id": "8",
                                    "(No column name)": "72"
                                },
                                {
                                    "szallas_id": "8",
                                    "(No column name)": "109"
                                },
                                {
                                    "szallas_id": "8",
                                    "(No column name)": "10"
                                },
                                {
                                    "szallas_id": "10",
                                    "(No column name)": "24"
                                },
                                {
                                    "szallas_id": "12",
                                    "(No column name)": "41"
                                },
                                {
                                    "szallas_id": "5",
                                    "(No column name)": "38"
                                },
                                {
                                    "szallas_id": "4",
                                    "(No column name)": "48"
                                },
                                {
                                    "szallas_id": "4",
                                    "(No column name)": "54"
                                },
                                {
                                    "szallas_id": "4",
                                    "(No column name)": "11"
                                },
                                {
                                    "szallas_id": "6",
                                    "(No column name)": "107"
                                },
                                {
                                    "szallas_id": "10",
                                    "(No column name)": "76"
                                },
                                {
                                    "szallas_id": "12",
                                    "(No column name)": "81"
                                },
                                {
                                    "szallas_id": "6",
                                    "(No column name)": "4"
                                },
                                {
                                    "szallas_id": "12",
                                    "(No column name)": "12"
                                },
                                {
                                    "szallas_id": "1",
                                    "(No column name)": "7"
                                },
                                {
                                    "szallas_id": "3",
                                    "(No column name)": "2"
                                },
                                {
                                    "szallas_id": "4",
                                    "(No column name)": "2"
                                },
                                {
                                    "szallas_id": "10",
                                    "(No column name)": "30"
                                },
                                {
                                    "szallas_id": "12",
                                    "(No column name)": "35"
                                },
                                {
                                    "szallas_id": "5",
                                    "(No column name)": "41"
                                },
                                {
                                    "szallas_id": "10",
                                    "(No column name)": "56"
                                },
                                {
                                    "szallas_id": "12",
                                    "(No column name)": "95"
                                },
                                {
                                    "szallas_id": "6",
                                    "(No column name)": "150"
                                },
                                {
                                    "szallas_id": "7",
                                    "(No column name)": "12"
                                },
                                {
                                    "szallas_id": "8",
                                    "(No column name)": "20"
                                },
                                {
                                    "szallas_id": "1",
                                    "(No column name)": "4"
                                },
                                {
                                    "szallas_id": "6",
                                    "(No column name)": "10"
                                },
                                {
                                    "szallas_id": "8",
                                    "(No column name)": "46"
                                },
                                {
                                    "szallas_id": "9",
                                    "(No column name)": "6"
                                },
                                {
                                    "szallas_id": "5",
                                    "(No column name)": "6"
                                },
                                {
                                    "szallas_id": "6",
                                    "(No column name)": "29"
                                },
                                {
                                    "szallas_id": "12",
                                    "(No column name)": "21"
                                },
                                {
                                    "szallas_id": "4",
                                    "(No column name)": "5"
                                },
                                {
                                    "szallas_id": "12",
                                    "(No column name)": "44"
                                },
                                {
                                    "szallas_id": "12",
                                    "(No column name)": "1"
                                },
                                {
                                    "szallas_id": "12",
                                    "(No column name)": "144"
                                },
                                {
                                    "szallas_id": "12",
                                    "(No column name)": "24"
                                },
                                {
                                    "szallas_id": "6",
                                    "(No column name)": "3"
                                },
                                {
                                    "szallas_id": "12",
                                    "(No column name)": "72"
                                },
                                {
                                    "szallas_id": "12",
                                    "(No column name)": "121"
                                },
                                {
                                    "szallas_id": "4",
                                    "(No column name)": "22"
                                },
                                {
                                    "szallas_id": "4",
                                    "(No column name)": "34"
                                },
                                {
                                    "szallas_id": "8",
                                    "(No column name)": "3"
                                },
                                {
                                    "szallas_id": "10",
                                    "(No column name)": "50"
                                },
                                {
                                    "szallas_id": "11",
                                    "(No column name)": "17"
                                },
                                {
                                    "szallas_id": "12",
                                    "(No column name)": "101"
                                },
                                {
                                    "szallas_id": "7",
                                    "(No column name)": "6"
                                },
                                {
                                    "szallas_id": "2",
                                    "(No column name)": "5"
                                },
                                {
                                    "szallas_id": "3",
                                    "(No column name)": "4"
                                },
                                {
                                    "szallas_id": "7",
                                    "(No column name)": "20"
                                },
                                {
                                    "szallas_id": "10",
                                    "(No column name)": "1"
                                },
                                {
                                    "szallas_id": "10",
                                    "(No column name)": "13"
                                },
                                {
                                    "szallas_id": "12",
                                    "(No column name)": "52"
                                },
                                {
                                    "szallas_id": "12",
                                    "(No column name)": "64"
                                },
                                {
                                    "szallas_id": "1",
                                    "(No column name)": "18"
                                },
                                {
                                    "szallas_id": "1",
                                    "(No column name)": "30"
                                },
                                {
                                    "szallas_id": "6",
                                    "(No column name)": "73"
                                },
                                {
                                    "szallas_id": "8",
                                    "(No column name)": "146"
                                },
                                {
                                    "szallas_id": "10",
                                    "(No column name)": "15"
                                },
                                {
                                    "szallas_id": "3",
                                    "(No column name)": "22"
                                },
                                {
                                    "szallas_id": "3",
                                    "(No column name)": "28"
                                },
                                {
                                    "szallas_id": "6",
                                    "(No column name)": "124"
                                },
                                {
                                    "szallas_id": "6",
                                    "(No column name)": "130"
                                },
                                {
                                    "szallas_id": "8",
                                    "(No column name)": "95"
                                },
                                {
                                    "szallas_id": "12",
                                    "(No column name)": "9"
                                },
                                {
                                    "szallas_id": "12",
                                    "(No column name)": "15"
                                },
                                {
                                    "szallas_id": "8",
                                    "(No column name)": "40"
                                },
                                {
                                    "szallas_id": "10",
                                    "(No column name)": "7"
                                },
                                {
                                    "szallas_id": "12",
                                    "(No column name)": "58"
                                },
                                {
                                    "szallas_id": "1",
                                    "(No column name)": "24"
                                },
                                {
                                    "szallas_id": "6",
                                    "(No column name)": "30"
                                },
                                {
                                    "szallas_id": "9",
                                    "(No column name)": "12"
                                },
                                {
                                    "szallas_id": "10",
                                    "(No column name)": "9"
                                },
                                {
                                    "szallas_id": "1",
                                    "(No column name)": "38"
                                },
                                {
                                    "szallas_id": "10",
                                    "(No column name)": "44"
                                },
                                {
                                    "szallas_id": "11",
                                    "(No column name)": "11"
                                },
                                {
                                    "szallas_id": "1",
                                    "(No column name)": "4"
                                },
                                {
                                    "szallas_id": "4",
                                    "(No column name)": "5"
                                },
                                {
                                    "szallas_id": "8",
                                    "(No column name)": "1"
                                },
                                {
                                    "szallas_id": "2",
                                    "(No column name)": "4"
                                },
                                {
                                    "szallas_id": "12",
                                    "(No column name)": "15"
                                },
                                {
                                    "szallas_id": "8",
                                    "(No column name)": "47"
                                },
                                {
                                    "szallas_id": "9",
                                    "(No column name)": "5"
                                },
                                {
                                    "szallas_id": "6",
                                    "(No column name)": "47"
                                },
                                {
                                    "szallas_id": "6",
                                    "(No column name)": "23"
                                },
                                {
                                    "szallas_id": "8",
                                    "(No column name)": "6"
                                },
                                {
                                    "szallas_id": "8",
                                    "(No column name)": "83"
                                },
                                {
                                    "szallas_id": "3",
                                    "(No column name)": "11"
                                },
                                {
                                    "szallas_id": "6",
                                    "(No column name)": "64"
                                },
                                {
                                    "szallas_id": "6",
                                    "(No column name)": "70"
                                },
                                {
                                    "szallas_id": "8",
                                    "(No column name)": "106"
                                },
                                {
                                    "szallas_id": "6",
                                    "(No column name)": "93"
                                },
                                {
                                    "szallas_id": "7",
                                    "(No column name)": "26"
                                },
                                {
                                    "szallas_id": "8",
                                    "(No column name)": "52"
                                },
                                {
                                    "szallas_id": "8",
                                    "(No column name)": "129"
                                },
                                {
                                    "szallas_id": "10",
                                    "(No column name)": "90"
                                },
                                {
                                    "szallas_id": "12",
                                    "(No column name)": "21"
                                },
                                {
                                    "szallas_id": "1",
                                    "(No column name)": "61"
                                },
                                {
                                    "szallas_id": "6",
                                    "(No column name)": "116"
                                },
                                {
                                    "szallas_id": "7",
                                    "(No column name)": "3"
                                },
                                {
                                    "szallas_id": "8",
                                    "(No column name)": "29"
                                },
                                {
                                    "szallas_id": "10",
                                    "(No column name)": "67"
                                },
                                {
                                    "szallas_id": "11",
                                    "(No column name)": "3"
                                },
                                {
                                    "szallas_id": "1",
                                    "(No column name)": "44"
                                },
                                {
                                    "szallas_id": "5",
                                    "(No column name)": "35"
                                },
                                {
                                    "szallas_id": "5",
                                    "(No column name)": "3"
                                },
                                {
                                    "szallas_id": "11",
                                    "(No column name)": "5"
                                },
                                {
                                    "szallas_id": "8",
                                    "(No column name)": "7"
                                },
                                {
                                    "szallas_id": "10",
                                    "(No column name)": "27"
                                },
                                {
                                    "szallas_id": "1",
                                    "(No column name)": "7"
                                },
                                {
                                    "szallas_id": "6",
                                    "(No column name)": "1"
                                },
                                {
                                    "szallas_id": "8",
                                    "(No column name)": "123"
                                },
                                {
                                    "szallas_id": "12",
                                    "(No column name)": "138"
                                },
                                {
                                    "szallas_id": "4",
                                    "(No column name)": "45"
                                },
                                {
                                    "szallas_id": "4",
                                    "(No column name)": "8"
                                },
                                {
                                    "szallas_id": "6",
                                    "(No column name)": "147"
                                },
                                {
                                    "szallas_id": "8",
                                    "(No column name)": "60"
                                },
                                {
                                    "szallas_id": "10",
                                    "(No column name)": "36"
                                },
                                {
                                    "szallas_id": "10",
                                    "(No column name)": "73"
                                },
                                {
                                    "szallas_id": "12",
                                    "(No column name)": "78"
                                },
                                {
                                    "szallas_id": "1",
                                    "(No column name)": "53"
                                },
                                {
                                    "szallas_id": "6",
                                    "(No column name)": "53"
                                },
                                {
                                    "szallas_id": "8",
                                    "(No column name)": "12"
                                },
                                {
                                    "szallas_id": "3",
                                    "(No column name)": "5"
                                },
                                {
                                    "szallas_id": "6",
                                    "(No column name)": "101"
                                },
                                {
                                    "szallas_id": "8",
                                    "(No column name)": "112"
                                },
                                {
                                    "szallas_id": "12",
                                    "(No column name)": "38"
                                },
                                {
                                    "szallas_id": "2",
                                    "(No column name)": "10"
                                },
                                {
                                    "szallas_id": "6",
                                    "(No column name)": "7"
                                },
                                {
                                    "szallas_id": "8",
                                    "(No column name)": "18"
                                },
                                {
                                    "szallas_id": "12",
                                    "(No column name)": "9"
                                },
                                {
                                    "szallas_id": "4",
                                    "(No column name)": "51"
                                },
                                {
                                    "szallas_id": "6",
                                    "(No column name)": "104"
                                },
                                {
                                    "szallas_id": "12",
                                    "(No column name)": "84"
                                },
                                {
                                    "szallas_id": "3",
                                    "(No column name)": "19"
                                },
                                {
                                    "szallas_id": "5",
                                    "(No column name)": "9"
                                },
                                {
                                    "szallas_id": "6",
                                    "(No column name)": "127"
                                },
                                {
                                    "szallas_id": "8",
                                    "(No column name)": "92"
                                },
                                {
                                    "szallas_id": "1",
                                    "(No column name)": "27"
                                },
                                {
                                    "szallas_id": "9",
                                    "(No column name)": "9"
                                },
                                {
                                    "szallas_id": "12",
                                    "(No column name)": "118"
                                },
                                {
                                    "szallas_id": "10",
                                    "(No column name)": "10"
                                },
                                {
                                    "szallas_id": "12",
                                    "(No column name)": "141"
                                },
                                {
                                    "szallas_id": "8",
                                    "(No column name)": "23"
                                },
                                {
                                    "szallas_id": "12",
                                    "(No column name)": "92"
                                },
                                {
                                    "szallas_id": "2",
                                    "(No column name)": "2"
                                },
                                {
                                    "szallas_id": "12",
                                    "(No column name)": "147"
                                },
                                {
                                    "szallas_id": "4",
                                    "(No column name)": "2"
                                },
                                {
                                    "szallas_id": "3",
                                    "(No column name)": "25"
                                },
                                {
                                    "szallas_id": "6",
                                    "(No column name)": "26"
                                },
                                {
                                    "szallas_id": "8",
                                    "(No column name)": "86"
                                },
                                {
                                    "szallas_id": "1",
                                    "(No column name)": "21"
                                },
                                {
                                    "szallas_id": "6",
                                    "(No column name)": "27"
                                },
                                {
                                    "szallas_id": "8",
                                    "(No column name)": "44"
                                },
                                {
                                    "szallas_id": "9",
                                    "(No column name)": "3"
                                },
                                {
                                    "szallas_id": "9",
                                    "(No column name)": "15"
                                },
                                {
                                    "szallas_id": "10",
                                    "(No column name)": "6"
                                },
                                {
                                    "szallas_id": "10",
                                    "(No column name)": "18"
                                },
                                {
                                    "szallas_id": "3",
                                    "(No column name)": "1"
                                },
                                {
                                    "szallas_id": "6",
                                    "(No column name)": "84"
                                },
                                {
                                    "szallas_id": "8",
                                    "(No column name)": "49"
                                },
                                {
                                    "szallas_id": "8",
                                    "(No column name)": "135"
                                },
                                {
                                    "szallas_id": "10",
                                    "(No column name)": "96"
                                },
                                {
                                    "szallas_id": "5",
                                    "(No column name)": "12"
                                },
                                {
                                    "szallas_id": "5",
                                    "(No column name)": "24"
                                },
                                {
                                    "szallas_id": "7",
                                    "(No column name)": "9"
                                },
                                {
                                    "szallas_id": "4",
                                    "(No column name)": "25"
                                },
                                {
                                    "szallas_id": "4",
                                    "(No column name)": "31"
                                },
                                {
                                    "szallas_id": "11",
                                    "(No column name)": "14"
                                },
                                {
                                    "szallas_id": "8",
                                    "(No column name)": "43"
                                },
                                {
                                    "szallas_id": "10",
                                    "(No column name)": "4"
                                },
                                {
                                    "szallas_id": "12",
                                    "(No column name)": "61"
                                },
                                {
                                    "szallas_id": "5",
                                    "(No column name)": "18"
                                },
                                {
                                    "szallas_id": "6",
                                    "(No column name)": "115"
                                },
                                {
                                    "szallas_id": "8",
                                    "(No column name)": "2"
                                },
                                {
                                    "szallas_id": "6",
                                    "(No column name)": "138"
                                },
                                {
                                    "szallas_id": "7",
                                    "(No column name)": "25"
                                },
                                {
                                    "szallas_id": "8",
                                    "(No column name)": "57"
                                },
                                {
                                    "szallas_id": "8",
                                    "(No column name)": "25"
                                },
                                {
                                    "szallas_id": "11",
                                    "(No column name)": "10"
                                },
                                {
                                    "szallas_id": "8",
                                    "(No column name)": "34"
                                },
                                {
                                    "szallas_id": "12",
                                    "(No column name)": "129"
                                },
                                {
                                    "szallas_id": "3",
                                    "(No column name)": "33"
                                },
                                {
                                    "szallas_id": "12",
                                    "(No column name)": "152"
                                },
                                {
                                    "szallas_id": "12",
                                    "(No column name)": "16"
                                },
                                {
                                    "szallas_id": "1",
                                    "(No column name)": "35"
                                },
                                {
                                    "szallas_id": "3",
                                    "(No column name)": "10"
                                },
                                {
                                    "szallas_id": "5",
                                    "(No column name)": "26"
                                },
                                {
                                    "szallas_id": "2",
                                    "(No column name)": "3"
                                },
                                {
                                    "szallas_id": "5",
                                    "(No column name)": "3"
                                },
                                {
                                    "szallas_id": "6",
                                    "(No column name)": "46"
                                },
                                {
                                    "szallas_id": "6",
                                    "(No column name)": "24"
                                },
                                {
                                    "szallas_id": "10",
                                    "(No column name)": "95"
                                },
                                {
                                    "szallas_id": "6",
                                    "(No column name)": "69"
                                },
                                {
                                    "szallas_id": "6",
                                    "(No column name)": "1"
                                },
                                {
                                    "szallas_id": "1",
                                    "(No column name)": "12"
                                },
                                {
                                    "szallas_id": "8",
                                    "(No column name)": "5"
                                },
                                {
                                    "szallas_id": "8",
                                    "(No column name)": "128"
                                },
                                {
                                    "szallas_id": "10",
                                    "(No column name)": "18"
                                },
                                {
                                    "szallas_id": "4",
                                    "(No column name)": "10"
                                },
                                {
                                    "szallas_id": "4",
                                    "(No column name)": "9"
                                },
                                {
                                    "szallas_id": "8",
                                    "(No column name)": "74"
                                },
                                {
                                    "szallas_id": "8",
                                    "(No column name)": "157"
                                },
                                {
                                    "szallas_id": "12",
                                    "(No column name)": "77"
                                },
                                {
                                    "szallas_id": "5",
                                    "(No column name)": "4"
                                },
                                {
                                    "szallas_id": "6",
                                    "(No column name)": "15"
                                },
                                {
                                    "szallas_id": "8",
                                    "(No column name)": "19"
                                },
                                {
                                    "szallas_id": "4",
                                    "(No column name)": "56"
                                },
                                {
                                    "szallas_id": "7",
                                    "(No column name)": "2"
                                },
                                {
                                    "szallas_id": "12",
                                    "(No column name)": "43"
                                },
                                {
                                    "szallas_id": "1",
                                    "(No column name)": "6"
                                },
                                {
                                    "szallas_id": "6",
                                    "(No column name)": "98"
                                },
                                {
                                    "szallas_id": "3",
                                    "(No column name)": "4"
                                },
                                {
                                    "szallas_id": "8",
                                    "(No column name)": "65"
                                },
                                {
                                    "szallas_id": "10",
                                    "(No column name)": "35"
                                },
                                {
                                    "szallas_id": "1",
                                    "(No column name)": "52"
                                },
                                {
                                    "szallas_id": "2",
                                    "(No column name)": "9"
                                },
                                {
                                    "szallas_id": "6",
                                    "(No column name)": "52"
                                },
                                {
                                    "szallas_id": "1",
                                    "(No column name)": "5"
                                },
                                {
                                    "szallas_id": "4",
                                    "(No column name)": "50"
                                },
                                {
                                    "szallas_id": "10",
                                    "(No column name)": "81"
                                },
                                {
                                    "szallas_id": "12",
                                    "(No column name)": "37"
                                },
                                {
                                    "szallas_id": "1",
                                    "(No column name)": "49"
                                },
                                {
                                    "szallas_id": "5",
                                    "(No column name)": "43"
                                },
                                {
                                    "szallas_id": "6",
                                    "(No column name)": "6"
                                },
                                {
                                    "szallas_id": "8",
                                    "(No column name)": "17"
                                },
                                {
                                    "szallas_id": "12",
                                    "(No column name)": "10"
                                },
                                {
                                    "szallas_id": "1",
                                    "(No column name)": "26"
                                },
                                {
                                    "szallas_id": "4",
                                    "(No column name)": "3"
                                },
                                {
                                    "szallas_id": "5",
                                    "(No column name)": "17"
                                },
                                {
                                    "szallas_id": "9",
                                    "(No column name)": "8"
                                },
                                {
                                    "szallas_id": "10",
                                    "(No column name)": "32"
                                },
                                {
                                    "szallas_id": "10",
                                    "(No column name)": "9"
                                },
                                {
                                    "szallas_id": "6",
                                    "(No column name)": "7"
                                },
                                {
                                    "szallas_id": "10",
                                    "(No column name)": "1"
                                },
                                {
                                    "szallas_id": "12",
                                    "(No column name)": "140"
                                },
                                {
                                    "szallas_id": "3",
                                    "(No column name)": "16"
                                },
                                {
                                    "szallas_id": "4",
                                    "(No column name)": "36"
                                },
                                {
                                    "szallas_id": "12",
                                    "(No column name)": "46"
                                },
                                {
                                    "szallas_id": "12",
                                    "(No column name)": "123"
                                },
                                {
                                    "szallas_id": "6",
                                    "(No column name)": "27"
                                },
                                {
                                    "szallas_id": "12",
                                    "(No column name)": "97"
                                },
                                {
                                    "szallas_id": "12",
                                    "(No column name)": "146"
                                },
                                {
                                    "szallas_id": "1",
                                    "(No column name)": "32"
                                },
                                {
                                    "szallas_id": "6",
                                    "(No column name)": "26"
                                },
                                {
                                    "szallas_id": "9",
                                    "(No column name)": "14"
                                },
                                {
                                    "szallas_id": "2",
                                    "(No column name)": "3"
                                },
                                {
                                    "szallas_id": "3",
                                    "(No column name)": "24"
                                },
                                {
                                    "szallas_id": "6",
                                    "(No column name)": "132"
                                },
                                {
                                    "szallas_id": "10",
                                    "(No column name)": "15"
                                },
                                {
                                    "szallas_id": "7",
                                    "(No column name)": "8"
                                },
                                {
                                    "szallas_id": "8",
                                    "(No column name)": "45"
                                },
                                {
                                    "szallas_id": "3",
                                    "(No column name)": "2"
                                },
                                {
                                    "szallas_id": "8",
                                    "(No column name)": "48"
                                },
                                {
                                    "szallas_id": "8",
                                    "(No column name)": "134"
                                },
                                {
                                    "szallas_id": "12",
                                    "(No column name)": "17"
                                },
                                {
                                    "szallas_id": "12",
                                    "(No column name)": "103"
                                },
                                {
                                    "szallas_id": "4",
                                    "(No column name)": "30"
                                },
                                {
                                    "szallas_id": "10",
                                    "(No column name)": "52"
                                },
                                {
                                    "szallas_id": "10",
                                    "(No column name)": "58"
                                },
                                {
                                    "szallas_id": "10",
                                    "(No column name)": "101"
                                },
                                {
                                    "szallas_id": "6",
                                    "(No column name)": "15"
                                },
                                {
                                    "szallas_id": "8",
                                    "(No column name)": "91"
                                },
                                {
                                    "szallas_id": "8",
                                    "(No column name)": "140"
                                },
                                {
                                    "szallas_id": "11",
                                    "(No column name)": "19"
                                },
                                {
                                    "szallas_id": "12",
                                    "(No column name)": "109"
                                },
                                {
                                    "szallas_id": "3",
                                    "(No column name)": "7"
                                },
                                {
                                    "szallas_id": "5",
                                    "(No column name)": "29"
                                },
                                {
                                    "szallas_id": "9",
                                    "(No column name)": "20"
                                },
                                {
                                    "szallas_id": "1",
                                    "(No column name)": "15"
                                },
                                {
                                    "szallas_id": "3",
                                    "(No column name)": "30"
                                },
                                {
                                    "szallas_id": "8",
                                    "(No column name)": "8"
                                },
                                {
                                    "szallas_id": "10",
                                    "(No column name)": "21"
                                },
                                {
                                    "szallas_id": "1",
                                    "(No column name)": "2"
                                },
                                {
                                    "szallas_id": "2",
                                    "(No column name)": "6"
                                },
                                {
                                    "szallas_id": "6",
                                    "(No column name)": "21"
                                },
                                {
                                    "szallas_id": "11",
                                    "(No column name)": "13"
                                },
                                {
                                    "szallas_id": "6",
                                    "(No column name)": "112"
                                },
                                {
                                    "szallas_id": "6",
                                    "(No column name)": "118"
                                },
                                {
                                    "szallas_id": "8",
                                    "(No column name)": "77"
                                },
                                {
                                    "szallas_id": "8",
                                    "(No column name)": "148"
                                },
                                {
                                    "szallas_id": "8",
                                    "(No column name)": "154"
                                },
                                {
                                    "szallas_id": "8",
                                    "(No column name)": "5"
                                },
                                {
                                    "szallas_id": "6",
                                    "(No column name)": "95"
                                },
                                {
                                    "szallas_id": "8",
                                    "(No column name)": "100"
                                },
                                {
                                    "szallas_id": "8",
                                    "(No column name)": "131"
                                },
                                {
                                    "szallas_id": "6",
                                    "(No column name)": "66"
                                },
                                {
                                    "szallas_id": "7",
                                    "(No column name)": "5"
                                },
                                {
                                    "szallas_id": "10",
                                    "(No column name)": "69"
                                },
                                {
                                    "szallas_id": "11",
                                    "(No column name)": "1"
                                },
                                {
                                    "szallas_id": "5",
                                    "(No column name)": "6"
                                },
                                {
                                    "szallas_id": "6",
                                    "(No column name)": "141"
                                },
                                {
                                    "szallas_id": "7",
                                    "(No column name)": "28"
                                },
                                {
                                    "szallas_id": "8",
                                    "(No column name)": "54"
                                },
                                {
                                    "szallas_id": "10",
                                    "(No column name)": "92"
                                },
                                {
                                    "szallas_id": "3",
                                    "(No column name)": "13"
                                },
                                {
                                    "szallas_id": "10",
                                    "(No column name)": "38"
                                },
                                {
                                    "szallas_id": "1",
                                    "(No column name)": "9"
                                },
                                {
                                    "szallas_id": "6",
                                    "(No column name)": "3"
                                },
                                {
                                    "szallas_id": "8",
                                    "(No column name)": "14"
                                },
                                {
                                    "szallas_id": "4",
                                    "(No column name)": "47"
                                },
                                {
                                    "szallas_id": "4",
                                    "(No column name)": "59"
                                },
                                {
                                    "szallas_id": "8",
                                    "(No column name)": "25"
                                },
                                {
                                    "szallas_id": "8",
                                    "(No column name)": "108"
                                },
                                {
                                    "szallas_id": "9",
                                    "(No column name)": "3"
                                },
                                {
                                    "szallas_id": "10",
                                    "(No column name)": "75"
                                },
                                {
                                    "szallas_id": "12",
                                    "(No column name)": "40"
                                },
                                {
                                    "szallas_id": "1",
                                    "(No column name)": "55"
                                },
                                {
                                    "szallas_id": "5",
                                    "(No column name)": "37"
                                },
                                {
                                    "szallas_id": "5",
                                    "(No column name)": "1"
                                },
                                {
                                    "szallas_id": "6",
                                    "(No column name)": "49"
                                },
                                {
                                    "szallas_id": "8",
                                    "(No column name)": "22"
                                },
                                {
                                    "szallas_id": "4",
                                    "(No column name)": "7"
                                },
                                {
                                    "szallas_id": "6",
                                    "(No column name)": "106"
                                },
                                {
                                    "szallas_id": "8",
                                    "(No column name)": "71"
                                },
                                {
                                    "szallas_id": "10",
                                    "(No column name)": "29"
                                },
                                {
                                    "szallas_id": "12",
                                    "(No column name)": "80"
                                },
                                {
                                    "szallas_id": "12",
                                    "(No column name)": "86"
                                },
                                {
                                    "szallas_id": "1",
                                    "(No column name)": "46"
                                },
                                {
                                    "szallas_id": "6",
                                    "(No column name)": "58"
                                },
                                {
                                    "szallas_id": "12",
                                    "(No column name)": "7"
                                },
                                {
                                    "szallas_id": "12",
                                    "(No column name)": "13"
                                },
                                {
                                    "szallas_id": "4",
                                    "(No column name)": "53"
                                },
                                {
                                    "szallas_id": "7",
                                    "(No column name)": "5"
                                },
                                {
                                    "szallas_id": "8",
                                    "(No column name)": "114"
                                },
                                {
                                    "szallas_id": "8",
                                    "(No column name)": "117"
                                },
                                {
                                    "szallas_id": "12",
                                    "(No column name)": "132"
                                },
                                {
                                    "szallas_id": "2",
                                    "(No column name)": "12"
                                },
                                {
                                    "szallas_id": "8",
                                    "(No column name)": "16"
                                },
                                {
                                    "szallas_id": "8",
                                    "(No column name)": "68"
                                },
                                {
                                    "szallas_id": "1",
                                    "(No column name)": "3"
                                },
                                {
                                    "szallas_id": "6",
                                    "(No column name)": "9"
                                },
                                {
                                    "szallas_id": "11",
                                    "(No column name)": "22"
                                },
                                {
                                    "szallas_id": "12",
                                    "(No column name)": "143"
                                },
                                {
                                    "szallas_id": "6",
                                    "(No column name)": "149"
                                },
                                {
                                    "szallas_id": "7",
                                    "(No column name)": "11"
                                },
                                {
                                    "szallas_id": "8",
                                    "(No column name)": "36"
                                },
                                {
                                    "szallas_id": "12",
                                    "(No column name)": "27"
                                },
                                {
                                    "szallas_id": "12",
                                    "(No column name)": "4"
                                },
                                {
                                    "szallas_id": "4",
                                    "(No column name)": "13"
                                },
                                {
                                    "szallas_id": "4",
                                    "(No column name)": "19"
                                },
                                {
                                    "szallas_id": "4",
                                    "(No column name)": "6"
                                },
                                {
                                    "szallas_id": "11",
                                    "(No column name)": "2"
                                },
                                {
                                    "szallas_id": "12",
                                    "(No column name)": "20"
                                },
                                {
                                    "szallas_id": "6",
                                    "(No column name)": "4"
                                },
                                {
                                    "szallas_id": "12",
                                    "(No column name)": "120"
                                },
                                {
                                    "szallas_id": "4",
                                    "(No column name)": "39"
                                },
                                {
                                    "szallas_id": "6",
                                    "(No column name)": "121"
                                },
                                {
                                    "szallas_id": "12",
                                    "(No column name)": "6"
                                },
                                {
                                    "szallas_id": "8",
                                    "(No column name)": "2"
                                },
                                {
                                    "szallas_id": "8",
                                    "(No column name)": "51"
                                },
                                {
                                    "szallas_id": "11",
                                    "(No column name)": "16"
                                },
                                {
                                    "szallas_id": "12",
                                    "(No column name)": "100"
                                },
                                {
                                    "szallas_id": "12",
                                    "(No column name)": "112"
                                },
                                {
                                    "szallas_id": "12",
                                    "(No column name)": "149"
                                },
                                {
                                    "szallas_id": "6",
                                    "(No column name)": "72"
                                },
                                {
                                    "szallas_id": "10",
                                    "(No column name)": "4"
                                },
                                {
                                    "szallas_id": "4",
                                    "(No column name)": "33"
                                },
                                {
                                    "szallas_id": "6",
                                    "(No column name)": "86"
                                },
                                {
                                    "szallas_id": "6",
                                    "(No column name)": "135"
                                },
                                {
                                    "szallas_id": "10",
                                    "(No column name)": "12"
                                },
                                {
                                    "szallas_id": "10",
                                    "(No column name)": "49"
                                },
                                {
                                    "szallas_id": "10",
                                    "(No column name)": "61"
                                },
                                {
                                    "szallas_id": "10",
                                    "(No column name)": "98"
                                },
                                {
                                    "szallas_id": "5",
                                    "(No column name)": "14"
                                },
                                {
                                    "szallas_id": "5",
                                    "(No column name)": "20"
                                },
                                {
                                    "szallas_id": "6",
                                    "(No column name)": "29"
                                },
                                {
                                    "szallas_id": "6",
                                    "(No column name)": "35"
                                },
                                {
                                    "szallas_id": "9",
                                    "(No column name)": "11"
                                },
                                {
                                    "szallas_id": "9",
                                    "(No column name)": "17"
                                },
                                {
                                    "szallas_id": "6",
                                    "(No column name)": "18"
                                },
                                {
                                    "szallas_id": "8",
                                    "(No column name)": "88"
                                },
                                {
                                    "szallas_id": "8",
                                    "(No column name)": "94"
                                },
                                {
                                    "szallas_id": "12",
                                    "(No column name)": "57"
                                },
                                {
                                    "szallas_id": "12",
                                    "(No column name)": "63"
                                },
                                {
                                    "szallas_id": "6",
                                    "(No column name)": "78"
                                },
                                {
                                    "szallas_id": "7",
                                    "(No column name)": "17"
                                },
                                {
                                    "szallas_id": "8",
                                    "(No column name)": "42"
                                },
                                {
                                    "szallas_id": "10",
                                    "(No column name)": "10"
                                },
                                {
                                    "szallas_id": "3",
                                    "(No column name)": "27"
                                },
                                {
                                    "szallas_id": "4",
                                    "(No column name)": "27"
                                },
                                {
                                    "szallas_id": "6",
                                    "(No column name)": "129"
                                },
                                {
                                    "szallas_id": "10",
                                    "(No column name)": "55"
                                },
                                {
                                    "szallas_id": "4",
                                    "(No column name)": "52"
                                },
                                {
                                    "szallas_id": "12",
                                    "(No column name)": "131"
                                },
                                {
                                    "szallas_id": "1",
                                    "(No column name)": "3"
                                },
                                {
                                    "szallas_id": "4",
                                    "(No column name)": "4"
                                },
                                {
                                    "szallas_id": "8",
                                    "(No column name)": "105"
                                },
                                {
                                    "szallas_id": "10",
                                    "(No column name)": "20"
                                },
                                {
                                    "szallas_id": "6",
                                    "(No column name)": "22"
                                },
                                {
                                    "szallas_id": "9",
                                    "(No column name)": "19"
                                },
                                {
                                    "szallas_id": "8",
                                    "(No column name)": "30"
                                },
                                {
                                    "szallas_id": "10",
                                    "(No column name)": "89"
                                },
                                {
                                    "szallas_id": "3",
                                    "(No column name)": "35"
                                },
                                {
                                    "szallas_id": "6",
                                    "(No column name)": "94"
                                },
                                {
                                    "szallas_id": "1",
                                    "(No column name)": "37"
                                },
                                {
                                    "szallas_id": "3",
                                    "(No column name)": "12"
                                },
                                {
                                    "szallas_id": "5",
                                    "(No column name)": "28"
                                },
                                {
                                    "szallas_id": "6",
                                    "(No column name)": "40"
                                },
                                {
                                    "szallas_id": "8",
                                    "(No column name)": "76"
                                },
                                {
                                    "szallas_id": "8",
                                    "(No column name)": "153"
                                },
                                {
                                    "szallas_id": "10",
                                    "(No column name)": "43"
                                },
                                {
                                    "szallas_id": "1",
                                    "(No column name)": "60"
                                },
                                {
                                    "szallas_id": "5",
                                    "(No column name)": "5"
                                },
                                {
                                    "szallas_id": "6",
                                    "(No column name)": "17"
                                },
                                {
                                    "szallas_id": "6",
                                    "(No column name)": "140"
                                },
                                {
                                    "szallas_id": "7",
                                    "(No column name)": "2"
                                },
                                {
                                    "szallas_id": "8",
                                    "(No column name)": "53"
                                },
                                {
                                    "szallas_id": "10",
                                    "(No column name)": "66"
                                },
                                {
                                    "szallas_id": "11",
                                    "(No column name)": "2"
                                },
                                {
                                    "szallas_id": "12",
                                    "(No column name)": "22"
                                },
                                {
                                    "szallas_id": "4",
                                    "(No column name)": "58"
                                },
                                {
                                    "szallas_id": "8",
                                    "(No column name)": "122"
                                },
                                {
                                    "szallas_id": "8",
                                    "(No column name)": "8"
                                },
                                {
                                    "szallas_id": "10",
                                    "(No column name)": "74"
                                },
                                {
                                    "szallas_id": "12",
                                    "(No column name)": "125"
                                },
                                {
                                    "szallas_id": "12",
                                    "(No column name)": "137"
                                },
                                {
                                    "szallas_id": "1",
                                    "(No column name)": "8"
                                },
                                {
                                    "szallas_id": "6",
                                    "(No column name)": "63"
                                },
                                {
                                    "szallas_id": "10",
                                    "(No column name)": "26"
                                },
                                {
                                    "szallas_id": "1",
                                    "(No column name)": "43"
                                },
                                {
                                    "szallas_id": "5",
                                    "(No column name)": "34"
                                },
                                {
                                    "szallas_id": "6",
                                    "(No column name)": "111"
                                },
                                {
                                    "szallas_id": "10",
                                    "(No column name)": "37"
                                },
                                {
                                    "szallas_id": "12",
                                    "(No column name)": "91"
                                },
                                {
                                    "szallas_id": "1",
                                    "(No column name)": "54"
                                },
                                {
                                    "szallas_id": "4",
                                    "(No column name)": "44"
                                },
                                {
                                    "szallas_id": "6",
                                    "(No column name)": "146"
                                },
                                {
                                    "szallas_id": "9",
                                    "(No column name)": "4"
                                },
                                {
                                    "szallas_id": "8",
                                    "(No column name)": "17"
                                },
                                {
                                    "szallas_id": "10",
                                    "(No column name)": "83"
                                },
                                {
                                    "szallas_id": "12",
                                    "(No column name)": "8"
                                },
                                {
                                    "szallas_id": "12",
                                    "(No column name)": "14"
                                },
                                {
                                    "szallas_id": "6",
                                    "(No column name)": "100"
                                },
                                {
                                    "szallas_id": "8",
                                    "(No column name)": "13"
                                },
                                {
                                    "szallas_id": "8",
                                    "(No column name)": "19"
                                },
                                {
                                    "szallas_id": "12",
                                    "(No column name)": "85"
                                },
                                {
                                    "szallas_id": "2",
                                    "(No column name)": "11"
                                },
                                {
                                    "szallas_id": "6",
                                    "(No column name)": "54"
                                },
                                {
                                    "szallas_id": "7",
                                    "(No column name)": "6"
                                },
                                {
                                    "szallas_id": "8",
                                    "(No column name)": "14"
                                },
                                {
                                    "szallas_id": "12",
                                    "(No column name)": "48"
                                },
                                {
                                    "szallas_id": "12",
                                    "(No column name)": "5"
                                },
                                {
                                    "szallas_id": "1",
                                    "(No column name)": "51"
                                },
                                {
                                    "szallas_id": "5",
                                    "(No column name)": "10"
                                },
                                {
                                    "szallas_id": "6",
                                    "(No column name)": "8"
                                },
                                {
                                    "szallas_id": "8",
                                    "(No column name)": "93"
                                },
                                {
                                    "szallas_id": "12",
                                    "(No column name)": "25"
                                },
                                {
                                    "szallas_id": "1",
                                    "(No column name)": "28"
                                },
                                {
                                    "szallas_id": "3",
                                    "(No column name)": "18"
                                },
                                {
                                    "szallas_id": "4",
                                    "(No column name)": "18"
                                },
                                {
                                    "szallas_id": "10",
                                    "(No column name)": "34"
                                },
                                {
                                    "szallas_id": "11",
                                    "(No column name)": "1"
                                },
                                {
                                    "szallas_id": "8",
                                    "(No column name)": "22"
                                },
                                {
                                    "szallas_id": "4",
                                    "(No column name)": "61"
                                },
                                {
                                    "szallas_id": "12",
                                    "(No column name)": "74"
                                },
                                {
                                    "szallas_id": "12",
                                    "(No column name)": "117"
                                },
                                {
                                    "szallas_id": "10",
                                    "(No column name)": "19"
                                },
                                {
                                    "szallas_id": "4",
                                    "(No column name)": "38"
                                },
                                {
                                    "szallas_id": "4",
                                    "(No column name)": "1"
                                },
                                {
                                    "szallas_id": "10",
                                    "(No column name)": "3"
                                },
                                {
                                    "szallas_id": "12",
                                    "(No column name)": "54"
                                },
                                {
                                    "szallas_id": "1",
                                    "(No column name)": "20"
                                },
                                {
                                    "szallas_id": "8",
                                    "(No column name)": "50"
                                },
                                {
                                    "szallas_id": "8",
                                    "(No column name)": "99"
                                },
                                {
                                    "szallas_id": "8",
                                    "(No column name)": "31"
                                },
                                {
                                    "szallas_id": "9",
                                    "(No column name)": "2"
                                },
                                {
                                    "szallas_id": "10",
                                    "(No column name)": "5"
                                },
                                {
                                    "szallas_id": "12",
                                    "(No column name)": "148"
                                },
                                {
                                    "szallas_id": "5",
                                    "(No column name)": "25"
                                },
                                {
                                    "szallas_id": "6",
                                    "(No column name)": "120"
                                },
                                {
                                    "szallas_id": "8",
                                    "(No column name)": "85"
                                },
                                {
                                    "szallas_id": "9",
                                    "(No column name)": "16"
                                },
                                {
                                    "szallas_id": "12",
                                    "(No column name)": "5"
                                },
                                {
                                    "szallas_id": "4",
                                    "(No column name)": "32"
                                },
                                {
                                    "szallas_id": "5",
                                    "(No column name)": "11"
                                },
                                {
                                    "szallas_id": "6",
                                    "(No column name)": "134"
                                },
                                {
                                    "szallas_id": "10",
                                    "(No column name)": "60"
                                },
                                {
                                    "szallas_id": "10",
                                    "(No column name)": "97"
                                },
                                {
                                    "szallas_id": "6",
                                    "(No column name)": "77"
                                },
                                {
                                    "szallas_id": "6",
                                    "(No column name)": "83"
                                },
                                {
                                    "szallas_id": "7",
                                    "(No column name)": "10"
                                },
                                {
                                    "szallas_id": "7",
                                    "(No column name)": "16"
                                },
                                {
                                    "szallas_id": "8",
                                    "(No column name)": "36"
                                },
                                {
                                    "szallas_id": "8",
                                    "(No column name)": "42"
                                },
                                {
                                    "szallas_id": "8",
                                    "(No column name)": "136"
                                },
                                {
                                    "szallas_id": "8",
                                    "(No column name)": "142"
                                },
                                {
                                    "szallas_id": "11",
                                    "(No column name)": "15"
                                },
                                {
                                    "szallas_id": "11",
                                    "(No column name)": "21"
                                },
                                {
                                    "szallas_id": "4",
                                    "(No column name)": "24"
                                },
                                {
                                    "szallas_id": "6",
                                    "(No column name)": "126"
                                },
                                {
                                    "szallas_id": "12",
                                    "(No column name)": "11"
                                },
                                {
                                    "szallas_id": "10",
                                    "(No column name)": "54"
                                },
                                {
                                    "szallas_id": "10",
                                    "(No column name)": "103"
                                },
                                {
                                    "szallas_id": "1",
                                    "(No column name)": "63"
                                },
                                {
                                    "szallas_id": "6",
                                    "(No column name)": "20"
                                },
                                {
                                    "szallas_id": "8",
                                    "(No column name)": "56"
                                },
                                {
                                    "szallas_id": "1",
                                    "(No column name)": "40"
                                },
                                {
                                    "szallas_id": "6",
                                    "(No column name)": "19"
                                },
                                {
                                    "szallas_id": "1",
                                    "(No column name)": "17"
                                },
                                {
                                    "szallas_id": "3",
                                    "(No column name)": "32"
                                },
                                {
                                    "szallas_id": "8",
                                    "(No column name)": "10"
                                },
                                {
                                    "szallas_id": "10",
                                    "(No column name)": "23"
                                },
                                {
                                    "szallas_id": "8",
                                    "(No column name)": "125"
                                },
                                {
                                    "szallas_id": "5",
                                    "(No column name)": "8"
                                },
                                {
                                    "szallas_id": "6",
                                    "(No column name)": "137"
                                },
                                {
                                    "szallas_id": "6",
                                    "(No column name)": "143"
                                },
                                {
                                    "szallas_id": "1",
                                    "(No column name)": "34"
                                },
                                {
                                    "szallas_id": "6",
                                    "(No column name)": "43"
                                },
                                {
                                    "szallas_id": "6",
                                    "(No column name)": "114"
                                },
                                {
                                    "szallas_id": "8",
                                    "(No column name)": "79"
                                },
                                {
                                    "szallas_id": "10",
                                    "(No column name)": "40"
                                },
                                {
                                    "szallas_id": "11",
                                    "(No column name)": "7"
                                },
                                {
                                    "szallas_id": "1",
                                    "(No column name)": "11"
                                },
                                {
                                    "szallas_id": "6",
                                    "(No column name)": "91"
                                },
                                {
                                    "szallas_id": "6",
                                    "(No column name)": "2"
                                },
                                {
                                    "szallas_id": "8",
                                    "(No column name)": "28"
                                },
                                {
                                    "szallas_id": "10",
                                    "(No column name)": "17"
                                },
                                {
                                    "szallas_id": "1",
                                    "(No column name)": "57"
                                },
                                {
                                    "szallas_id": "6",
                                    "(No column name)": "14"
                                },
                                {
                                    "szallas_id": "6",
                                    "(No column name)": "51"
                                },
                                {
                                    "szallas_id": "7",
                                    "(No column name)": "3"
                                },
                                {
                                    "szallas_id": "9",
                                    "(No column name)": "1"
                                },
                                {
                                    "szallas_id": "8",
                                    "(No column name)": "73"
                                },
                                {
                                    "szallas_id": "8",
                                    "(No column name)": "156"
                                },
                                {
                                    "szallas_id": "12",
                                    "(No column name)": "88"
                                },
                                {
                                    "szallas_id": "6",
                                    "(No column name)": "60"
                                },
                                {
                                    "szallas_id": "6",
                                    "(No column name)": "97"
                                },
                                {
                                    "szallas_id": "4",
                                    "(No column name)": "55"
                                },
                                {
                                    "szallas_id": "4",
                                    "(No column name)": "12"
                                },
                                {
                                    "szallas_id": "8",
                                    "(No column name)": "119"
                                },
                                {
                                    "szallas_id": "8",
                                    "(No column name)": "11"
                                },
                                {
                                    "szallas_id": "12",
                                    "(No column name)": "128"
                                },
                                {
                                    "szallas_id": "12",
                                    "(No column name)": "134"
                                },
                                {
                                    "szallas_id": "2",
                                    "(No column name)": "8"
                                },
                                {
                                    "szallas_id": "3",
                                    "(No column name)": "1"
                                },
                                {
                                    "szallas_id": "4",
                                    "(No column name)": "1"
                                },
                                {
                                    "szallas_id": "5",
                                    "(No column name)": "42"
                                },
                                {
                                    "szallas_id": "6",
                                    "(No column name)": "103"
                                },
                                {
                                    "szallas_id": "12",
                                    "(No column name)": "34"
                                },
                                {
                                    "szallas_id": "6",
                                    "(No column name)": "80"
                                },
                                {
                                    "szallas_id": "4",
                                    "(No column name)": "41"
                                },
                                {
                                    "szallas_id": "4",
                                    "(No column name)": "4"
                                },
                                {
                                    "szallas_id": "10",
                                    "(No column name)": "57"
                                },
                                {
                                    "szallas_id": "3",
                                    "(No column name)": "21"
                                },
                                {
                                    "szallas_id": "6",
                                    "(No column name)": "10"
                                },
                                {
                                    "szallas_id": "8",
                                    "(No column name)": "70"
                                },
                                {
                                    "szallas_id": "6",
                                    "(No column name)": "11"
                                },
                                {
                                    "szallas_id": "10",
                                    "(No column name)": "2"
                                },
                                {
                                    "szallas_id": "12",
                                    "(No column name)": "45"
                                },
                                {
                                    "szallas_id": "12",
                                    "(No column name)": "51"
                                },
                                {
                                    "szallas_id": "12",
                                    "(No column name)": "2"
                                },
                                {
                                    "szallas_id": "3",
                                    "(No column name)": "15"
                                },
                                {
                                    "szallas_id": "4",
                                    "(No column name)": "15"
                                },
                                {
                                    "szallas_id": "11",
                                    "(No column name)": "4"
                                },
                                {
                                    "szallas_id": "12",
                                    "(No column name)": "94"
                                },
                                {
                                    "szallas_id": "5",
                                    "(No column name)": "7"
                                },
                                {
                                    "szallas_id": "12",
                                    "(No column name)": "71"
                                },
                                {
                                    "szallas_id": "12",
                                    "(No column name)": "145"
                                },
                                {
                                    "szallas_id": "7",
                                    "(No column name)": "19"
                                },
                                {
                                    "szallas_id": "4",
                                    "(No column name)": "35"
                                },
                                {
                                    "szallas_id": "10",
                                    "(No column name)": "14"
                                },
                                {
                                    "szallas_id": "1",
                                    "(No column name)": "31"
                                },
                                {
                                    "szallas_id": "4",
                                    "(No column name)": "21"
                                },
                                {
                                    "szallas_id": "5",
                                    "(No column name)": "22"
                                },
                                {
                                    "szallas_id": "6",
                                    "(No column name)": "37"
                                },
                                {
                                    "szallas_id": "6",
                                    "(No column name)": "123"
                                },
                                {
                                    "szallas_id": "10",
                                    "(No column name)": "16"
                                },
                                {
                                    "szallas_id": "8",
                                    "(No column name)": "96"
                                },
                                {
                                    "szallas_id": "8",
                                    "(No column name)": "133"
                                },
                                {
                                    "szallas_id": "9",
                                    "(No column name)": "5"
                                },
                                {
                                    "szallas_id": "12",
                                    "(No column name)": "102"
                                },
                                {
                                    "szallas_id": "12",
                                    "(No column name)": "151"
                                },
                                {
                                    "szallas_id": "10",
                                    "(No column name)": "6"
                                },
                                {
                                    "szallas_id": "6",
                                    "(No column name)": "31"
                                },
                                {
                                    "szallas_id": "6",
                                    "(No column name)": "16"
                                },
                                {
                                    "szallas_id": "9",
                                    "(No column name)": "13"
                                },
                                {
                                    "szallas_id": "12",
                                    "(No column name)": "8"
                                },
                                {
                                    "szallas_id": "8",
                                    "(No column name)": "139"
                                },
                                {
                                    "szallas_id": "8",
                                    "(No column name)": "40"
                                },
                                {
                                    "szallas_id": "10",
                                    "(No column name)": "8"
                                },
                                {
                                    "szallas_id": "11",
                                    "(No column name)": "18"
                                },
                                {
                                    "szallas_id": "12",
                                    "(No column name)": "108"
                                },
                                {
                                    "szallas_id": "1",
                                    "(No column name)": "62"
                                },
                                {
                                    "szallas_id": "10",
                                    "(No column name)": "68"
                                },
                                {
                                    "szallas_id": "1",
                                    "(No column name)": "39"
                                },
                                {
                                    "szallas_id": "4",
                                    "(No column name)": "29"
                                },
                                {
                                    "szallas_id": "9",
                                    "(No column name)": "21"
                                },
                                {
                                    "szallas_id": "10",
                                    "(No column name)": "45"
                                },
                                {
                                    "szallas_id": "1",
                                    "(No column name)": "16"
                                },
                                {
                                    "szallas_id": "3",
                                    "(No column name)": "6"
                                },
                                {
                                    "szallas_id": "10",
                                    "(No column name)": "22"
                                },
                                {
                                    "szallas_id": "2",
                                    "(No column name)": "5"
                                },
                                {
                                    "szallas_id": "10",
                                    "(No column name)": "14"
                                },
                                {
                                    "szallas_id": "11",
                                    "(No column name)": "12"
                                },
                                {
                                    "szallas_id": "6",
                                    "(No column name)": "65"
                                },
                                {
                                    "szallas_id": "7",
                                    "(No column name)": "4"
                                },
                                {
                                    "szallas_id": "8",
                                    "(No column name)": "101"
                                },
                                {
                                    "szallas_id": "8",
                                    "(No column name)": "107"
                                },
                                {
                                    "szallas_id": "12",
                                    "(No column name)": "20"
                                },
                                {
                                    "szallas_id": "6",
                                    "(No column name)": "88"
                                },
                                {
                                    "szallas_id": "6",
                                    "(No column name)": "119"
                                },
                                {
                                    "szallas_id": "8",
                                    "(No column name)": "7"
                                },
                                {
                                    "szallas_id": "8",
                                    "(No column name)": "124"
                                },
                                {
                                    "szallas_id": "8",
                                    "(No column name)": "130"
                                },
                                {
                                    "szallas_id": "8",
                                    "(No column name)": "6"
                                },
                                {
                                    "szallas_id": "5",
                                    "(No column name)": "7"
                                },
                                {
                                    "szallas_id": "6",
                                    "(No column name)": "19"
                                },
                                {
                                    "szallas_id": "8",
                                    "(No column name)": "55"
                                },
                                {
                                    "szallas_id": "5",
                                    "(No column name)": "30"
                                },
                                {
                                    "szallas_id": "6",
                                    "(No column name)": "42"
                                },
                                {
                                    "szallas_id": "7",
                                    "(No column name)": "27"
                                },
                                {
                                    "szallas_id": "1",
                                    "(No column name)": "56"
                                },
                                {
                                    "szallas_id": "4",
                                    "(No column name)": "46"
                                },
                                {
                                    "szallas_id": "8",
                                    "(No column name)": "15"
                                },
                                {
                                    "szallas_id": "5",
                                    "(No column name)": "2"
                                },
                                {
                                    "szallas_id": "6",
                                    "(No column name)": "13"
                                },
                                {
                                    "szallas_id": "6",
                                    "(No column name)": "96"
                                },
                                {
                                    "szallas_id": "12",
                                    "(No column name)": "79"
                                },
                                {
                                    "szallas_id": "4",
                                    "(No column name)": "7"
                                },
                                {
                                    "szallas_id": "6",
                                    "(No column name)": "48"
                                },
                                {
                                    "szallas_id": "10",
                                    "(No column name)": "85"
                                },
                                {
                                    "szallas_id": "12",
                                    "(No column name)": "139"
                                },
                                {
                                    "szallas_id": "8",
                                    "(No column name)": "118"
                                },
                                {
                                    "szallas_id": "8",
                                    "(No column name)": "12"
                                },
                                {
                                    "szallas_id": "12",
                                    "(No column name)": "87"
                                },
                                {
                                    "szallas_id": "2",
                                    "(No column name)": "13"
                                },
                                {
                                    "szallas_id": "6",
                                    "(No column name)": "102"
                                },
                                {
                                    "szallas_id": "6",
                                    "(No column name)": "105"
                                },
                                {
                                    "szallas_id": "8",
                                    "(No column name)": "67"
                                },
                                {
                                    "szallas_id": "10",
                                    "(No column name)": "28"
                                },
                                {
                                    "szallas_id": "4",
                                    "(No column name)": "40"
                                },
                                {
                                    "szallas_id": "11",
                                    "(No column name)": "23"
                                },
                                {
                                    "szallas_id": "12",
                                    "(No column name)": "119"
                                },
                                {
                                    "szallas_id": "1",
                                    "(No column name)": "2"
                                },
                                {
                                    "szallas_id": "8",
                                    "(No column name)": "44"
                                },
                                {
                                    "szallas_id": "3",
                                    "(No column name)": "20"
                                },
                                {
                                    "szallas_id": "10",
                                    "(No column name)": "11"
                                },
                                {
                                    "szallas_id": "2",
                                    "(No column name)": "1"
                                },
                                {
                                    "szallas_id": "8",
                                    "(No column name)": "24"
                                },
                                {
                                    "szallas_id": "12",
                                    "(No column name)": "27"
                                },
                                {
                                    "szallas_id": "12",
                                    "(No column name)": "26"
                                },
                                {
                                    "szallas_id": "8",
                                    "(No column name)": "1"
                                },
                                {
                                    "szallas_id": "11",
                                    "(No column name)": "3"
                                },
                                {
                                    "szallas_id": "12",
                                    "(No column name)": "50"
                                },
                                {
                                    "szallas_id": "12",
                                    "(No column name)": "93"
                                },
                                {
                                    "szallas_id": "12",
                                    "(No column name)": "70"
                                },
                                {
                                    "szallas_id": "3",
                                    "(No column name)": "14"
                                },
                                {
                                    "szallas_id": "10",
                                    "(No column name)": "62"
                                },
                                {
                                    "szallas_id": "12",
                                    "(No column name)": "113"
                                },
                                {
                                    "szallas_id": "7",
                                    "(No column name)": "18"
                                },
                                {
                                    "szallas_id": "8",
                                    "(No column name)": "87"
                                },
                                {
                                    "szallas_id": "10",
                                    "(No column name)": "17"
                                },
                                {
                                    "szallas_id": "12",
                                    "(No column name)": "7"
                                },
                                {
                                    "szallas_id": "5",
                                    "(No column name)": "13"
                                },
                                {
                                    "szallas_id": "9",
                                    "(No column name)": "4"
                                },
                                {
                                    "szallas_id": "12",
                                    "(No column name)": "150"
                                },
                                {
                                    "szallas_id": "4",
                                    "(No column name)": "20"
                                },
                                {
                                    "szallas_id": "6",
                                    "(No column name)": "36"
                                },
                                {
                                    "szallas_id": "6",
                                    "(No column name)": "85"
                                },
                                {
                                    "szallas_id": "6",
                                    "(No column name)": "122"
                                },
                                {
                                    "szallas_id": "10",
                                    "(No column name)": "48"
                                },
                                {
                                    "szallas_id": "8",
                                    "(No column name)": "35"
                                },
                                {
                                    "szallas_id": "10",
                                    "(No column name)": "3"
                                },
                                {
                                    "szallas_id": "1",
                                    "(No column name)": "22"
                                },
                                {
                                    "szallas_id": "5",
                                    "(No column name)": "19"
                                },
                                {
                                    "szallas_id": "9",
                                    "(No column name)": "10"
                                },
                                {
                                    "szallas_id": "3",
                                    "(No column name)": "26"
                                },
                                {
                                    "szallas_id": "4",
                                    "(No column name)": "26"
                                },
                                {
                                    "szallas_id": "6",
                                    "(No column name)": "79"
                                },
                                {
                                    "szallas_id": "6",
                                    "(No column name)": "128"
                                },
                                {
                                    "szallas_id": "10",
                                    "(No column name)": "5"
                                },
                                {
                                    "szallas_id": "6",
                                    "(No column name)": "139"
                                },
                                {
                                    "szallas_id": "7",
                                    "(No column name)": "1"
                                },
                                {
                                    "szallas_id": "8",
                                    "(No column name)": "104"
                                },
                                {
                                    "szallas_id": "12",
                                    "(No column name)": "36"
                                },
                                {
                                    "szallas_id": "12",
                                    "(No column name)": "107"
                                },
                                {
                                    "szallas_id": "7",
                                    "(No column name)": "24"
                                },
                                {
                                    "szallas_id": "8",
                                    "(No column name)": "81"
                                },
                                {
                                    "szallas_id": "10",
                                    "(No column name)": "11"
                                },
                                {
                                    "szallas_id": "12",
                                    "(No column name)": "13"
                                },
                                {
                                    "szallas_id": "12",
                                    "(No column name)": "130"
                                },
                                {
                                    "szallas_id": "8",
                                    "(No column name)": "58"
                                },
                                {
                                    "szallas_id": "8",
                                    "(No column name)": "35"
                                },
                                {
                                    "szallas_id": "9",
                                    "(No column name)": "18"
                                },
                                {
                                    "szallas_id": "1",
                                    "(No column name)": "59"
                                },
                                {
                                    "szallas_id": "3",
                                    "(No column name)": "34"
                                },
                                {
                                    "szallas_id": "10",
                                    "(No column name)": "71"
                                },
                                {
                                    "szallas_id": "2",
                                    "(No column name)": "2"
                                },
                                {
                                    "szallas_id": "5",
                                    "(No column name)": "27"
                                },
                                {
                                    "szallas_id": "5",
                                    "(No column name)": "33"
                                },
                                {
                                    "szallas_id": "10",
                                    "(No column name)": "88"
                                },
                                {
                                    "szallas_id": "10",
                                    "(No column name)": "94"
                                },
                                {
                                    "szallas_id": "11",
                                    "(No column name)": "9"
                                },
                                {
                                    "szallas_id": "5",
                                    "(No column name)": "4"
                                },
                                {
                                    "szallas_id": "6",
                                    "(No column name)": "25"
                                },
                                {
                                    "szallas_id": "9",
                                    "(No column name)": "1"
                                },
                                {
                                    "szallas_id": "1",
                                    "(No column name)": "36"
                                },
                                {
                                    "szallas_id": "8",
                                    "(No column name)": "127"
                                },
                                {
                                    "szallas_id": "8",
                                    "(No column name)": "3"
                                },
                                {
                                    "szallas_id": "9",
                                    "(No column name)": "24"
                                },
                                {
                                    "szallas_id": "6",
                                    "(No column name)": "62"
                                },
                                {
                                    "szallas_id": "8",
                                    "(No column name)": "27"
                                },
                                {
                                    "szallas_id": "12",
                                    "(No column name)": "30"
                                },
                                {
                                    "szallas_id": "4",
                                    "(No column name)": "10"
                                },
                                {
                                    "szallas_id": "8",
                                    "(No column name)": "75"
                                },
                                {
                                    "szallas_id": "12",
                                    "(No column name)": "136"
                                },
                                {
                                    "szallas_id": "4",
                                    "(No column name)": "9"
                                },
                                {
                                    "szallas_id": "6",
                                    "(No column name)": "99"
                                },
                                {
                                    "szallas_id": "10",
                                    "(No column name)": "25"
                                },
                                {
                                    "szallas_id": "12",
                                    "(No column name)": "76"
                                },
                                {
                                    "szallas_id": "1",
                                    "(No column name)": "42"
                                },
                                {
                                    "szallas_id": "4",
                                    "(No column name)": "57"
                                },
                                {
                                    "szallas_id": "8",
                                    "(No column name)": "121"
                                },
                                {
                                    "szallas_id": "8",
                                    "(No column name)": "9"
                                },
                                {
                                    "szallas_id": "12",
                                    "(No column name)": "90"
                                },
                                {
                                    "szallas_id": "4",
                                    "(No column name)": "49"
                                },
                                {
                                    "szallas_id": "7",
                                    "(No column name)": "1"
                                },
                                {
                                    "szallas_id": "5",
                                    "(No column name)": "39"
                                },
                                {
                                    "szallas_id": "10",
                                    "(No column name)": "82"
                                },
                                {
                                    "szallas_id": "3",
                                    "(No column name)": "3"
                                },
                                {
                                    "szallas_id": "10",
                                    "(No column name)": "31"
                                },
                                {
                                    "szallas_id": "1",
                                    "(No column name)": "48"
                                },
                                {
                                    "szallas_id": "6",
                                    "(No column name)": "5"
                                },
                                {
                                    "szallas_id": "6",
                                    "(No column name)": "56"
                                },
                                {
                                    "szallas_id": "8",
                                    "(No column name)": "21"
                                },
                                {
                                    "szallas_id": "8",
                                    "(No column name)": "38"
                                },
                                {
                                    "szallas_id": "4",
                                    "(No column name)": "17"
                                },
                                {
                                    "szallas_id": "6",
                                    "(No column name)": "33"
                                },
                                {
                                    "szallas_id": "10",
                                    "(No column name)": "8"
                                },
                                {
                                    "szallas_id": "1",
                                    "(No column name)": "5"
                                },
                                {
                                    "szallas_id": "6",
                                    "(No column name)": "8"
                                },
                                {
                                    "szallas_id": "8",
                                    "(No column name)": "47"
                                },
                                {
                                    "szallas_id": "4",
                                    "(No column name)": "43"
                                },
                                {
                                    "szallas_id": "12",
                                    "(No column name)": "116"
                                },
                                {
                                    "szallas_id": "3",
                                    "(No column name)": "17"
                                },
                                {
                                    "szallas_id": "4",
                                    "(No column name)": "60"
                                },
                                {
                                    "szallas_id": "5",
                                    "(No column name)": "5"
                                },
                                {
                                    "szallas_id": "6",
                                    "(No column name)": "28"
                                },
                                {
                                    "szallas_id": "12",
                                    "(No column name)": "73"
                                },
                                {
                                    "szallas_id": "10",
                                    "(No column name)": "20"
                                },
                                {
                                    "szallas_id": "12",
                                    "(No column name)": "47"
                                },
                                {
                                    "szallas_id": "12",
                                    "(No column name)": "96"
                                },
                                {
                                    "szallas_id": "2",
                                    "(No column name)": "4"
                                },
                                {
                                    "szallas_id": "3",
                                    "(No column name)": "3"
                                },
                                {
                                    "szallas_id": "7",
                                    "(No column name)": "7"
                                },
                                {
                                    "szallas_id": "12",
                                    "(No column name)": "23"
                                },
                                {
                                    "szallas_id": "1",
                                    "(No column name)": "33"
                                },
                                {
                                    "szallas_id": "4",
                                    "(No column name)": "23"
                                },
                                {
                                    "szallas_id": "6",
                                    "(No column name)": "39"
                                },
                                {
                                    "szallas_id": "10",
                                    "(No column name)": "2"
                                },
                                {
                                    "szallas_id": "10",
                                    "(No column name)": "51"
                                },
                                {
                                    "szallas_id": "1",
                                    "(No column name)": "19"
                                },
                                {
                                    "szallas_id": "6",
                                    "(No column name)": "25"
                                },
                                {
                                    "szallas_id": "8",
                                    "(No column name)": "147"
                                },
                                {
                                    "szallas_id": "12",
                                    "(No column name)": "67"
                                },
                                {
                                    "szallas_id": "7",
                                    "(No column name)": "21"
                                },
                                {
                                    "szallas_id": "8",
                                    "(No column name)": "84"
                                },
                                {
                                    "szallas_id": "8",
                                    "(No column name)": "46"
                                },
                                {
                                    "szallas_id": "12",
                                    "(No column name)": "4"
                                },
                                {
                                    "szallas_id": "12",
                                    "(No column name)": "16"
                                },
                                {
                                    "szallas_id": "12",
                                    "(No column name)": "53"
                                },
                                {
                                    "szallas_id": "10",
                                    "(No column name)": "59"
                                },
                                {
                                    "szallas_id": "11",
                                    "(No column name)": "20"
                                },
                                {
                                    "szallas_id": "12",
                                    "(No column name)": "110"
                                },
                                {
                                    "szallas_id": "6",
                                    "(No column name)": "76"
                                },
                                {
                                    "szallas_id": "6",
                                    "(No column name)": "82"
                                },
                                {
                                    "szallas_id": "6",
                                    "(No column name)": "125"
                                },
                                {
                                    "szallas_id": "1",
                                    "(No column name)": "25"
                                },
                                {
                                    "szallas_id": "5",
                                    "(No column name)": "16"
                                },
                                {
                                    "szallas_id": "8",
                                    "(No column name)": "141"
                                },
                                {
                                    "szallas_id": "10",
                                    "(No column name)": "102"
                                },
                                {
                                    "szallas_id": "6",
                                    "(No column name)": "14"
                                },
                                {
                                    "szallas_id": "7",
                                    "(No column name)": "15"
                                },
                                {
                                    "szallas_id": "8",
                                    "(No column name)": "41"
                                },
                                {
                                    "szallas_id": "12",
                                    "(No column name)": "59"
                                }
                            ]
                        },
                        "text/html": [
                            "<table>",
                            "<tr><th>szallas_id</th><th>(No column name)</th><th>(No column name)</th><th>(No column name)</th></tr>",
                            "<tr><td>3</td><td>2016</td><td>35</td><td>31</td></tr>",
                            "<tr><td>6</td><td>2016</td><td>150</td><td>44</td></tr>",
                            "<tr><td>6</td><td>2017</td><td>29</td><td>20</td></tr>",
                            "<tr><td>8</td><td>2016</td><td>157</td><td>80</td></tr>",
                            "<tr><td>12</td><td>2016</td><td>152</td><td>12</td></tr>",
                            "<tr><td>8</td><td>2016</td><td>157</td><td>32</td></tr>",
                            "<tr><td>10</td><td>2017</td><td>20</td><td>12</td></tr>",
                            "<tr><td>2</td><td>2016</td><td>13</td><td>7</td></tr>",
                            "<tr><td>7</td><td>2016</td><td>28</td><td>23</td></tr>",
                            "<tr><td>12</td><td>2017</td><td>27</td><td>18</td></tr>",
                            "<tr><td>1</td><td>2017</td><td>7</td><td>1</td></tr>",
                            "<tr><td>3</td><td>2016</td><td>35</td><td>8</td></tr>",
                            "<tr><td>5</td><td>2016</td><td>43</td><td>32</td></tr>",
                            "<tr><td>6</td><td>2016</td><td>150</td><td>136</td></tr>",
                            "<tr><td>9</td><td>2016</td><td>24</td><td>23</td></tr>",
                            "<tr><td>10</td><td>2016</td><td>103</td><td>47</td></tr>",
                            "<tr><td>5</td><td>2016</td><td>43</td><td>9</td></tr>",
                            "<tr><td>6</td><td>2016</td><td>150</td><td>113</td></tr>",
                            "<tr><td>8</td><td>2016</td><td>157</td><td>155</td></tr>",
                            "<tr><td>10</td><td>2016</td><td>103</td><td>70</td></tr>",
                            "<tr><td>2</td><td>2016</td><td>13</td><td>1</td></tr>",
                            "<tr><td>8</td><td>2017</td><td>47</td><td>27</td></tr>",
                            "<tr><td>10</td><td>2016</td><td>103</td><td>16</td></tr>",
                            "<tr><td>6</td><td>2016</td><td>150</td><td>67</td></tr>",
                            "<tr><td>8</td><td>2016</td><td>157</td><td>103</td></tr>",
                            "<tr><td>8</td><td>2017</td><td>47</td><td>4</td></tr>",
                            "<tr><td>6</td><td>2016</td><td>150</td><td>50</td></tr>",
                            "<tr><td>6</td><td>2016</td><td>150</td><td>144</td></tr>",
                            "<tr><td>7</td><td>2017</td><td>6</td><td>4</td></tr>",
                            "<tr><td>8</td><td>2016</td><td>157</td><td>26</td></tr>",
                            "<tr><td>9</td><td>2017</td><td>5</td><td>2</td></tr>",
                            "<tr><td>5</td><td>2016</td><td>43</td><td>1</td></tr>",
                            "<tr><td>10</td><td>2016</td><td>103</td><td>87</td></tr>",
                            "<tr><td>4</td><td>2016</td><td>61</td><td>8</td></tr>",
                            "<tr><td>6</td><td>2016</td><td>150</td><td>61</td></tr>",
                            "<tr><td>8</td><td>2016</td><td>157</td><td>72</td></tr>",
                            "<tr><td>8</td><td>2016</td><td>157</td><td>109</td></tr>",
                            "<tr><td>8</td><td>2017</td><td>47</td><td>10</td></tr>",
                            "<tr><td>10</td><td>2016</td><td>103</td><td>24</td></tr>",
                            "<tr><td>12</td><td>2016</td><td>152</td><td>41</td></tr>",
                            "<tr><td>5</td><td>2016</td><td>43</td><td>38</td></tr>",
                            "<tr><td>4</td><td>2016</td><td>61</td><td>48</td></tr>",
                            "<tr><td>4</td><td>2016</td><td>61</td><td>54</td></tr>",
                            "<tr><td>4</td><td>2017</td><td>12</td><td>11</td></tr>",
                            "<tr><td>6</td><td>2016</td><td>150</td><td>107</td></tr>",
                            "<tr><td>10</td><td>2016</td><td>103</td><td>76</td></tr>",
                            "<tr><td>12</td><td>2016</td><td>152</td><td>81</td></tr>",
                            "<tr><td>6</td><td>2016</td><td>150</td><td>4</td></tr>",
                            "<tr><td>12</td><td>2017</td><td>27</td><td>12</td></tr>",
                            "<tr><td>1</td><td>2017</td><td>7</td><td>7</td></tr>",
                            "<tr><td>3</td><td>2016</td><td>35</td><td>2</td></tr>",
                            "<tr><td>4</td><td>2016</td><td>61</td><td>2</td></tr>",
                            "<tr><td>10</td><td>2016</td><td>103</td><td>30</td></tr>",
                            "<tr><td>12</td><td>2016</td><td>152</td><td>35</td></tr>",
                            "<tr><td>5</td><td>2016</td><td>43</td><td>41</td></tr>",
                            "<tr><td>10</td><td>2016</td><td>103</td><td>56</td></tr>",
                            "<tr><td>12</td><td>2016</td><td>152</td><td>95</td></tr>",
                            "<tr><td>6</td><td>2016</td><td>150</td><td>150</td></tr>",
                            "<tr><td>7</td><td>2016</td><td>28</td><td>12</td></tr>",
                            "<tr><td>8</td><td>2016</td><td>157</td><td>20</td></tr>",
                            "<tr><td>1</td><td>2016</td><td>63</td><td>4</td></tr>",
                            "<tr><td>6</td><td>2016</td><td>150</td><td>10</td></tr>",
                            "<tr><td>8</td><td>2016</td><td>157</td><td>46</td></tr>",
                            "<tr><td>9</td><td>2016</td><td>24</td><td>6</td></tr>",
                            "<tr><td>5</td><td>2017</td><td>10</td><td>6</td></tr>",
                            "<tr><td>6</td><td>2017</td><td>29</td><td>29</td></tr>",
                            "<tr><td>12</td><td>2016</td><td>152</td><td>21</td></tr>",
                            "<tr><td>4</td><td>2017</td><td>12</td><td>5</td></tr>",
                            "<tr><td>12</td><td>2016</td><td>152</td><td>44</td></tr>",
                            "<tr><td>12</td><td>2017</td><td>27</td><td>1</td></tr>",
                            "<tr><td>12</td><td>2016</td><td>152</td><td>144</td></tr>",
                            "<tr><td>12</td><td>2017</td><td>27</td><td>24</td></tr>",
                            "<tr><td>6</td><td>2017</td><td>29</td><td>3</td></tr>",
                            "<tr><td>12</td><td>2016</td><td>152</td><td>72</td></tr>",
                            "<tr><td>12</td><td>2016</td><td>152</td><td>121</td></tr>",
                            "<tr><td>4</td><td>2016</td><td>61</td><td>22</td></tr>",
                            "<tr><td>4</td><td>2016</td><td>61</td><td>34</td></tr>",
                            "<tr><td>8</td><td>2016</td><td>157</td><td>3</td></tr>",
                            "<tr><td>10</td><td>2016</td><td>103</td><td>50</td></tr>",
                            "<tr><td>11</td><td>2016</td><td>23</td><td>17</td></tr>",
                            "<tr><td>12</td><td>2016</td><td>152</td><td>101</td></tr>",
                            "<tr><td>7</td><td>2016</td><td>28</td><td>6</td></tr>",
                            "<tr><td>2</td><td>2017</td><td>5</td><td>5</td></tr>",
                            "<tr><td>3</td><td>2017</td><td>4</td><td>4</td></tr>",
                            "<tr><td>7</td><td>2016</td><td>28</td><td>20</td></tr>",
                            "<tr><td>10</td><td>2016</td><td>103</td><td>1</td></tr>",
                            "<tr><td>10</td><td>2016</td><td>103</td><td>13</td></tr>",
                            "<tr><td>12</td><td>2016</td><td>152</td><td>52</td></tr>",
                            "<tr><td>12</td><td>2016</td><td>152</td><td>64</td></tr>",
                            "<tr><td>1</td><td>2016</td><td>63</td><td>18</td></tr>",
                            "<tr><td>1</td><td>2016</td><td>63</td><td>30</td></tr>",
                            "<tr><td>6</td><td>2016</td><td>150</td><td>73</td></tr>",
                            "<tr><td>8</td><td>2016</td><td>157</td><td>146</td></tr>",
                            "<tr><td>10</td><td>2017</td><td>20</td><td>15</td></tr>",
                            "<tr><td>3</td><td>2016</td><td>35</td><td>22</td></tr>",
                            "<tr><td>3</td><td>2016</td><td>35</td><td>28</td></tr>",
                            "<tr><td>6</td><td>2016</td><td>150</td><td>124</td></tr>",
                            "<tr><td>6</td><td>2016</td><td>150</td><td>130</td></tr>",
                            "<tr><td>8</td><td>2016</td><td>157</td><td>95</td></tr>",
                            "<tr><td>12</td><td>2016</td><td>152</td><td>9</td></tr>",
                            "<tr><td>12</td><td>2016</td><td>152</td><td>15</td></tr>",
                            "<tr><td>8</td><td>2016</td><td>157</td><td>40</td></tr>",
                            "<tr><td>10</td><td>2016</td><td>103</td><td>7</td></tr>",
                            "<tr><td>12</td><td>2016</td><td>152</td><td>58</td></tr>",
                            "<tr><td>1</td><td>2016</td><td>63</td><td>24</td></tr>",
                            "<tr><td>6</td><td>2016</td><td>150</td><td>30</td></tr>",
                            "<tr><td>9</td><td>2016</td><td>24</td><td>12</td></tr>",
                            "<tr><td>10</td><td>2017</td><td>20</td><td>9</td></tr>",
                            "<tr><td>1</td><td>2016</td><td>63</td><td>38</td></tr>",
                            "<tr><td>10</td><td>2016</td><td>103</td><td>44</td></tr>",
                            "<tr><td>11</td><td>2016</td><td>23</td><td>11</td></tr>",
                            "<tr><td>1</td><td>2017</td><td>7</td><td>4</td></tr>",
                            "<tr><td>4</td><td>2016</td><td>61</td><td>5</td></tr>",
                            "<tr><td>8</td><td>2017</td><td>47</td><td>1</td></tr>",
                            "<tr><td>2</td><td>2016</td><td>13</td><td>4</td></tr>",
                            "<tr><td>12</td><td>2017</td><td>27</td><td>15</td></tr>",
                            "<tr><td>8</td><td>2017</td><td>47</td><td>47</td></tr>",
                            "<tr><td>9</td><td>2017</td><td>5</td><td>5</td></tr>",
                            "<tr><td>6</td><td>2016</td><td>150</td><td>47</td></tr>",
                            "<tr><td>6</td><td>2017</td><td>29</td><td>23</td></tr>",
                            "<tr><td>8</td><td>2016</td><td>157</td><td>6</td></tr>",
                            "<tr><td>8</td><td>2016</td><td>157</td><td>83</td></tr>",
                            "<tr><td>3</td><td>2016</td><td>35</td><td>11</td></tr>",
                            "<tr><td>6</td><td>2016</td><td>150</td><td>64</td></tr>",
                            "<tr><td>6</td><td>2016</td><td>150</td><td>70</td></tr>",
                            "<tr><td>8</td><td>2016</td><td>157</td><td>106</td></tr>",
                            "<tr><td>6</td><td>2016</td><td>150</td><td>93</td></tr>",
                            "<tr><td>7</td><td>2016</td><td>28</td><td>26</td></tr>",
                            "<tr><td>8</td><td>2016</td><td>157</td><td>52</td></tr>",
                            "<tr><td>8</td><td>2016</td><td>157</td><td>129</td></tr>",
                            "<tr><td>10</td><td>2016</td><td>103</td><td>90</td></tr>",
                            "<tr><td>12</td><td>2017</td><td>27</td><td>21</td></tr>",
                            "<tr><td>1</td><td>2016</td><td>63</td><td>61</td></tr>",
                            "<tr><td>6</td><td>2016</td><td>150</td><td>116</td></tr>",
                            "<tr><td>7</td><td>2016</td><td>28</td><td>3</td></tr>",
                            "<tr><td>8</td><td>2016</td><td>157</td><td>29</td></tr>",
                            "<tr><td>10</td><td>2016</td><td>103</td><td>67</td></tr>",
                            "<tr><td>11</td><td>2017</td><td>3</td><td>3</td></tr>",
                            "<tr><td>1</td><td>2016</td><td>63</td><td>44</td></tr>",
                            "<tr><td>5</td><td>2016</td><td>43</td><td>35</td></tr>",
                            "<tr><td>5</td><td>2017</td><td>10</td><td>3</td></tr>",
                            "<tr><td>11</td><td>2016</td><td>23</td><td>5</td></tr>",
                            "<tr><td>8</td><td>2017</td><td>47</td><td>7</td></tr>",
                            "<tr><td>10</td><td>2016</td><td>103</td><td>27</td></tr>",
                            "<tr><td>1</td><td>2016</td><td>63</td><td>7</td></tr>",
                            "<tr><td>6</td><td>2016</td><td>150</td><td>1</td></tr>",
                            "<tr><td>8</td><td>2016</td><td>157</td><td>123</td></tr>",
                            "<tr><td>12</td><td>2016</td><td>152</td><td>138</td></tr>",
                            "<tr><td>4</td><td>2016</td><td>61</td><td>45</td></tr>",
                            "<tr><td>4</td><td>2017</td><td>12</td><td>8</td></tr>",
                            "<tr><td>6</td><td>2016</td><td>150</td><td>147</td></tr>",
                            "<tr><td>8</td><td>2016</td><td>157</td><td>60</td></tr>",
                            "<tr><td>10</td><td>2016</td><td>103</td><td>36</td></tr>",
                            "<tr><td>10</td><td>2016</td><td>103</td><td>73</td></tr>",
                            "<tr><td>12</td><td>2016</td><td>152</td><td>78</td></tr>",
                            "<tr><td>1</td><td>2016</td><td>63</td><td>53</td></tr>",
                            "<tr><td>6</td><td>2016</td><td>150</td><td>53</td></tr>",
                            "<tr><td>8</td><td>2016</td><td>157</td><td>12</td></tr>",
                            "<tr><td>3</td><td>2016</td><td>35</td><td>5</td></tr>",
                            "<tr><td>6</td><td>2016</td><td>150</td><td>101</td></tr>",
                            "<tr><td>8</td><td>2016</td><td>157</td><td>112</td></tr>",
                            "<tr><td>12</td><td>2016</td><td>152</td><td>38</td></tr>",
                            "<tr><td>2</td><td>2016</td><td>13</td><td>10</td></tr>",
                            "<tr><td>6</td><td>2016</td><td>150</td><td>7</td></tr>",
                            "<tr><td>8</td><td>2017</td><td>47</td><td>18</td></tr>",
                            "<tr><td>12</td><td>2017</td><td>27</td><td>9</td></tr>",
                            "<tr><td>4</td><td>2016</td><td>61</td><td>51</td></tr>",
                            "<tr><td>6</td><td>2016</td><td>150</td><td>104</td></tr>",
                            "<tr><td>12</td><td>2016</td><td>152</td><td>84</td></tr>",
                            "<tr><td>3</td><td>2016</td><td>35</td><td>19</td></tr>",
                            "<tr><td>5</td><td>2017</td><td>10</td><td>9</td></tr>",
                            "<tr><td>6</td><td>2016</td><td>150</td><td>127</td></tr>",
                            "<tr><td>8</td><td>2016</td><td>157</td><td>92</td></tr>",
                            "<tr><td>1</td><td>2016</td><td>63</td><td>27</td></tr>",
                            "<tr><td>9</td><td>2016</td><td>24</td><td>9</td></tr>",
                            "<tr><td>12</td><td>2016</td><td>152</td><td>118</td></tr>",
                            "<tr><td>10</td><td>2016</td><td>103</td><td>10</td></tr>",
                            "<tr><td>12</td><td>2016</td><td>152</td><td>141</td></tr>",
                            "<tr><td>8</td><td>2016</td><td>157</td><td>23</td></tr>",
                            "<tr><td>12</td><td>2016</td><td>152</td><td>92</td></tr>",
                            "<tr><td>2</td><td>2017</td><td>5</td><td>2</td></tr>",
                            "<tr><td>12</td><td>2016</td><td>152</td><td>147</td></tr>",
                            "<tr><td>4</td><td>2017</td><td>12</td><td>2</td></tr>",
                            "<tr><td>3</td><td>2016</td><td>35</td><td>25</td></tr>",
                            "<tr><td>6</td><td>2017</td><td>29</td><td>26</td></tr>",
                            "<tr><td>8</td><td>2016</td><td>157</td><td>86</td></tr>",
                            "<tr><td>1</td><td>2016</td><td>63</td><td>21</td></tr>",
                            "<tr><td>6</td><td>2016</td><td>150</td><td>27</td></tr>",
                            "<tr><td>8</td><td>2017</td><td>47</td><td>44</td></tr>",
                            "<tr><td>9</td><td>2016</td><td>24</td><td>3</td></tr>",
                            "<tr><td>9</td><td>2016</td><td>24</td><td>15</td></tr>",
                            "<tr><td>10</td><td>2017</td><td>20</td><td>6</td></tr>",
                            "<tr><td>10</td><td>2017</td><td>20</td><td>18</td></tr>",
                            "<tr><td>3</td><td>2017</td><td>4</td><td>1</td></tr>",
                            "<tr><td>6</td><td>2016</td><td>150</td><td>84</td></tr>",
                            "<tr><td>8</td><td>2016</td><td>157</td><td>49</td></tr>",
                            "<tr><td>8</td><td>2016</td><td>157</td><td>135</td></tr>",
                            "<tr><td>10</td><td>2016</td><td>103</td><td>96</td></tr>",
                            "<tr><td>5</td><td>2016</td><td>43</td><td>12</td></tr>",
                            "<tr><td>5</td><td>2016</td><td>43</td><td>24</td></tr>",
                            "<tr><td>7</td><td>2016</td><td>28</td><td>9</td></tr>",
                            "<tr><td>4</td><td>2016</td><td>61</td><td>25</td></tr>",
                            "<tr><td>4</td><td>2016</td><td>61</td><td>31</td></tr>",
                            "<tr><td>11</td><td>2016</td><td>23</td><td>14</td></tr>",
                            "<tr><td>8</td><td>2016</td><td>157</td><td>43</td></tr>",
                            "<tr><td>10</td><td>2016</td><td>103</td><td>4</td></tr>",
                            "<tr><td>12</td><td>2016</td><td>152</td><td>61</td></tr>",
                            "<tr><td>5</td><td>2016</td><td>43</td><td>18</td></tr>",
                            "<tr><td>6</td><td>2016</td><td>150</td><td>115</td></tr>",
                            "<tr><td>8</td><td>2017</td><td>47</td><td>2</td></tr>",
                            "<tr><td>6</td><td>2016</td><td>150</td><td>138</td></tr>",
                            "<tr><td>7</td><td>2016</td><td>28</td><td>25</td></tr>",
                            "<tr><td>8</td><td>2016</td><td>157</td><td>57</td></tr>",
                            "<tr><td>8</td><td>2017</td><td>47</td><td>25</td></tr>",
                            "<tr><td>11</td><td>2016</td><td>23</td><td>10</td></tr>",
                            "<tr><td>8</td><td>2016</td><td>157</td><td>34</td></tr>",
                            "<tr><td>12</td><td>2016</td><td>152</td><td>129</td></tr>",
                            "<tr><td>3</td><td>2016</td><td>35</td><td>33</td></tr>",
                            "<tr><td>12</td><td>2016</td><td>152</td><td>152</td></tr>",
                            "<tr><td>12</td><td>2017</td><td>27</td><td>16</td></tr>",
                            "<tr><td>1</td><td>2016</td><td>63</td><td>35</td></tr>",
                            "<tr><td>3</td><td>2016</td><td>35</td><td>10</td></tr>",
                            "<tr><td>5</td><td>2016</td><td>43</td><td>26</td></tr>",
                            "<tr><td>2</td><td>2016</td><td>13</td><td>3</td></tr>",
                            "<tr><td>5</td><td>2016</td><td>43</td><td>3</td></tr>",
                            "<tr><td>6</td><td>2016</td><td>150</td><td>46</td></tr>",
                            "<tr><td>6</td><td>2017</td><td>29</td><td>24</td></tr>",
                            "<tr><td>10</td><td>2016</td><td>103</td><td>95</td></tr>",
                            "<tr><td>6</td><td>2016</td><td>150</td><td>69</td></tr>",
                            "<tr><td>6</td><td>2017</td><td>29</td><td>1</td></tr>",
                            "<tr><td>1</td><td>2016</td><td>63</td><td>12</td></tr>",
                            "<tr><td>8</td><td>2016</td><td>157</td><td>5</td></tr>",
                            "<tr><td>8</td><td>2016</td><td>157</td><td>128</td></tr>",
                            "<tr><td>10</td><td>2016</td><td>103</td><td>18</td></tr>",
                            "<tr><td>4</td><td>2016</td><td>61</td><td>10</td></tr>",
                            "<tr><td>4</td><td>2017</td><td>12</td><td>9</td></tr>",
                            "<tr><td>8</td><td>2016</td><td>157</td><td>74</td></tr>",
                            "<tr><td>8</td><td>2016</td><td>157</td><td>157</td></tr>",
                            "<tr><td>12</td><td>2016</td><td>152</td><td>77</td></tr>",
                            "<tr><td>5</td><td>2017</td><td>10</td><td>4</td></tr>",
                            "<tr><td>6</td><td>2016</td><td>150</td><td>15</td></tr>",
                            "<tr><td>8</td><td>2017</td><td>47</td><td>19</td></tr>",
                            "<tr><td>4</td><td>2016</td><td>61</td><td>56</td></tr>",
                            "<tr><td>7</td><td>2017</td><td>6</td><td>2</td></tr>",
                            "<tr><td>12</td><td>2016</td><td>152</td><td>43</td></tr>",
                            "<tr><td>1</td><td>2016</td><td>63</td><td>6</td></tr>",
                            "<tr><td>6</td><td>2016</td><td>150</td><td>98</td></tr>",
                            "<tr><td>3</td><td>2016</td><td>35</td><td>4</td></tr>",
                            "<tr><td>8</td><td>2016</td><td>157</td><td>65</td></tr>",
                            "<tr><td>10</td><td>2016</td><td>103</td><td>35</td></tr>",
                            "<tr><td>1</td><td>2016</td><td>63</td><td>52</td></tr>",
                            "<tr><td>2</td><td>2016</td><td>13</td><td>9</td></tr>",
                            "<tr><td>6</td><td>2016</td><td>150</td><td>52</td></tr>",
                            "<tr><td>1</td><td>2017</td><td>7</td><td>5</td></tr>",
                            "<tr><td>4</td><td>2016</td><td>61</td><td>50</td></tr>",
                            "<tr><td>10</td><td>2016</td><td>103</td><td>81</td></tr>",
                            "<tr><td>12</td><td>2016</td><td>152</td><td>37</td></tr>",
                            "<tr><td>1</td><td>2016</td><td>63</td><td>49</td></tr>",
                            "<tr><td>5</td><td>2016</td><td>43</td><td>43</td></tr>",
                            "<tr><td>6</td><td>2016</td><td>150</td><td>6</td></tr>",
                            "<tr><td>8</td><td>2016</td><td>157</td><td>17</td></tr>",
                            "<tr><td>12</td><td>2017</td><td>27</td><td>10</td></tr>",
                            "<tr><td>1</td><td>2016</td><td>63</td><td>26</td></tr>",
                            "<tr><td>4</td><td>2017</td><td>12</td><td>3</td></tr>",
                            "<tr><td>5</td><td>2016</td><td>43</td><td>17</td></tr>",
                            "<tr><td>9</td><td>2016</td><td>24</td><td>8</td></tr>",
                            "<tr><td>10</td><td>2016</td><td>103</td><td>32</td></tr>",
                            "<tr><td>10</td><td>2016</td><td>103</td><td>9</td></tr>",
                            "<tr><td>6</td><td>2017</td><td>29</td><td>7</td></tr>",
                            "<tr><td>10</td><td>2017</td><td>20</td><td>1</td></tr>",
                            "<tr><td>12</td><td>2016</td><td>152</td><td>140</td></tr>",
                            "<tr><td>3</td><td>2016</td><td>35</td><td>16</td></tr>",
                            "<tr><td>4</td><td>2016</td><td>61</td><td>36</td></tr>",
                            "<tr><td>12</td><td>2016</td><td>152</td><td>46</td></tr>",
                            "<tr><td>12</td><td>2016</td><td>152</td><td>123</td></tr>",
                            "<tr><td>6</td><td>2017</td><td>29</td><td>27</td></tr>",
                            "<tr><td>12</td><td>2016</td><td>152</td><td>97</td></tr>",
                            "<tr><td>12</td><td>2016</td><td>152</td><td>146</td></tr>",
                            "<tr><td>1</td><td>2016</td><td>63</td><td>32</td></tr>",
                            "<tr><td>6</td><td>2016</td><td>150</td><td>26</td></tr>",
                            "<tr><td>9</td><td>2016</td><td>24</td><td>14</td></tr>",
                            "<tr><td>2</td><td>2017</td><td>5</td><td>3</td></tr>",
                            "<tr><td>3</td><td>2016</td><td>35</td><td>24</td></tr>",
                            "<tr><td>6</td><td>2016</td><td>150</td><td>132</td></tr>",
                            "<tr><td>10</td><td>2016</td><td>103</td><td>15</td></tr>",
                            "<tr><td>7</td><td>2016</td><td>28</td><td>8</td></tr>",
                            "<tr><td>8</td><td>2017</td><td>47</td><td>45</td></tr>",
                            "<tr><td>3</td><td>2017</td><td>4</td><td>2</td></tr>",
                            "<tr><td>8</td><td>2016</td><td>157</td><td>48</td></tr>",
                            "<tr><td>8</td><td>2016</td><td>157</td><td>134</td></tr>",
                            "<tr><td>12</td><td>2016</td><td>152</td><td>17</td></tr>",
                            "<tr><td>12</td><td>2016</td><td>152</td><td>103</td></tr>",
                            "<tr><td>4</td><td>2016</td><td>61</td><td>30</td></tr>",
                            "<tr><td>10</td><td>2016</td><td>103</td><td>52</td></tr>",
                            "<tr><td>10</td><td>2016</td><td>103</td><td>58</td></tr>",
                            "<tr><td>10</td><td>2016</td><td>103</td><td>101</td></tr>",
                            "<tr><td>6</td><td>2017</td><td>29</td><td>15</td></tr>",
                            "<tr><td>8</td><td>2016</td><td>157</td><td>91</td></tr>",
                            "<tr><td>8</td><td>2016</td><td>157</td><td>140</td></tr>",
                            "<tr><td>11</td><td>2016</td><td>23</td><td>19</td></tr>",
                            "<tr><td>12</td><td>2016</td><td>152</td><td>109</td></tr>",
                            "<tr><td>3</td><td>2016</td><td>35</td><td>7</td></tr>",
                            "<tr><td>5</td><td>2016</td><td>43</td><td>29</td></tr>",
                            "<tr><td>9</td><td>2016</td><td>24</td><td>20</td></tr>",
                            "<tr><td>1</td><td>2016</td><td>63</td><td>15</td></tr>",
                            "<tr><td>3</td><td>2016</td><td>35</td><td>30</td></tr>",
                            "<tr><td>8</td><td>2016</td><td>157</td><td>8</td></tr>",
                            "<tr><td>10</td><td>2016</td><td>103</td><td>21</td></tr>",
                            "<tr><td>1</td><td>2017</td><td>7</td><td>2</td></tr>",
                            "<tr><td>2</td><td>2016</td><td>13</td><td>6</td></tr>",
                            "<tr><td>6</td><td>2017</td><td>29</td><td>21</td></tr>",
                            "<tr><td>11</td><td>2016</td><td>23</td><td>13</td></tr>",
                            "<tr><td>6</td><td>2016</td><td>150</td><td>112</td></tr>",
                            "<tr><td>6</td><td>2016</td><td>150</td><td>118</td></tr>",
                            "<tr><td>8</td><td>2016</td><td>157</td><td>77</td></tr>",
                            "<tr><td>8</td><td>2016</td><td>157</td><td>148</td></tr>",
                            "<tr><td>8</td><td>2016</td><td>157</td><td>154</td></tr>",
                            "<tr><td>8</td><td>2017</td><td>47</td><td>5</td></tr>",
                            "<tr><td>6</td><td>2016</td><td>150</td><td>95</td></tr>",
                            "<tr><td>8</td><td>2016</td><td>157</td><td>100</td></tr>",
                            "<tr><td>8</td><td>2016</td><td>157</td><td>131</td></tr>",
                            "<tr><td>6</td><td>2016</td><td>150</td><td>66</td></tr>",
                            "<tr><td>7</td><td>2016</td><td>28</td><td>5</td></tr>",
                            "<tr><td>10</td><td>2016</td><td>103</td><td>69</td></tr>",
                            "<tr><td>11</td><td>2017</td><td>3</td><td>1</td></tr>",
                            "<tr><td>5</td><td>2016</td><td>43</td><td>6</td></tr>",
                            "<tr><td>6</td><td>2016</td><td>150</td><td>141</td></tr>",
                            "<tr><td>7</td><td>2016</td><td>28</td><td>28</td></tr>",
                            "<tr><td>8</td><td>2016</td><td>157</td><td>54</td></tr>",
                            "<tr><td>10</td><td>2016</td><td>103</td><td>92</td></tr>",
                            "<tr><td>3</td><td>2016</td><td>35</td><td>13</td></tr>",
                            "<tr><td>10</td><td>2016</td><td>103</td><td>38</td></tr>",
                            "<tr><td>1</td><td>2016</td><td>63</td><td>9</td></tr>",
                            "<tr><td>6</td><td>2016</td><td>150</td><td>3</td></tr>",
                            "<tr><td>8</td><td>2016</td><td>157</td><td>14</td></tr>",
                            "<tr><td>4</td><td>2016</td><td>61</td><td>47</td></tr>",
                            "<tr><td>4</td><td>2016</td><td>61</td><td>59</td></tr>",
                            "<tr><td>8</td><td>2016</td><td>157</td><td>25</td></tr>",
                            "<tr><td>8</td><td>2016</td><td>157</td><td>108</td></tr>",
                            "<tr><td>9</td><td>2017</td><td>5</td><td>3</td></tr>",
                            "<tr><td>10</td><td>2016</td><td>103</td><td>75</td></tr>",
                            "<tr><td>12</td><td>2016</td><td>152</td><td>40</td></tr>",
                            "<tr><td>1</td><td>2016</td><td>63</td><td>55</td></tr>",
                            "<tr><td>5</td><td>2016</td><td>43</td><td>37</td></tr>",
                            "<tr><td>5</td><td>2017</td><td>10</td><td>1</td></tr>",
                            "<tr><td>6</td><td>2016</td><td>150</td><td>49</td></tr>",
                            "<tr><td>8</td><td>2017</td><td>47</td><td>22</td></tr>",
                            "<tr><td>4</td><td>2016</td><td>61</td><td>7</td></tr>",
                            "<tr><td>6</td><td>2016</td><td>150</td><td>106</td></tr>",
                            "<tr><td>8</td><td>2016</td><td>157</td><td>71</td></tr>",
                            "<tr><td>10</td><td>2016</td><td>103</td><td>29</td></tr>",
                            "<tr><td>12</td><td>2016</td><td>152</td><td>80</td></tr>",
                            "<tr><td>12</td><td>2016</td><td>152</td><td>86</td></tr>",
                            "<tr><td>1</td><td>2016</td><td>63</td><td>46</td></tr>",
                            "<tr><td>6</td><td>2016</td><td>150</td><td>58</td></tr>",
                            "<tr><td>12</td><td>2017</td><td>27</td><td>7</td></tr>",
                            "<tr><td>12</td><td>2017</td><td>27</td><td>13</td></tr>",
                            "<tr><td>4</td><td>2016</td><td>61</td><td>53</td></tr>",
                            "<tr><td>7</td><td>2017</td><td>6</td><td>5</td></tr>",
                            "<tr><td>8</td><td>2016</td><td>157</td><td>114</td></tr>",
                            "<tr><td>8</td><td>2016</td><td>157</td><td>117</td></tr>",
                            "<tr><td>12</td><td>2016</td><td>152</td><td>132</td></tr>",
                            "<tr><td>2</td><td>2016</td><td>13</td><td>12</td></tr>",
                            "<tr><td>8</td><td>2017</td><td>47</td><td>16</td></tr>",
                            "<tr><td>8</td><td>2016</td><td>157</td><td>68</td></tr>",
                            "<tr><td>1</td><td>2016</td><td>63</td><td>3</td></tr>",
                            "<tr><td>6</td><td>2016</td><td>150</td><td>9</td></tr>",
                            "<tr><td>11</td><td>2016</td><td>23</td><td>22</td></tr>",
                            "<tr><td>12</td><td>2016</td><td>152</td><td>143</td></tr>",
                            "<tr><td>6</td><td>2016</td><td>150</td><td>149</td></tr>",
                            "<tr><td>7</td><td>2016</td><td>28</td><td>11</td></tr>",
                            "<tr><td>8</td><td>2017</td><td>47</td><td>36</td></tr>",
                            "<tr><td>12</td><td>2017</td><td>27</td><td>27</td></tr>",
                            "<tr><td>12</td><td>2017</td><td>27</td><td>4</td></tr>",
                            "<tr><td>4</td><td>2016</td><td>61</td><td>13</td></tr>",
                            "<tr><td>4</td><td>2016</td><td>61</td><td>19</td></tr>",
                            "<tr><td>4</td><td>2017</td><td>12</td><td>6</td></tr>",
                            "<tr><td>11</td><td>2016</td><td>23</td><td>2</td></tr>",
                            "<tr><td>12</td><td>2016</td><td>152</td><td>20</td></tr>",
                            "<tr><td>6</td><td>2017</td><td>29</td><td>4</td></tr>",
                            "<tr><td>12</td><td>2016</td><td>152</td><td>120</td></tr>",
                            "<tr><td>4</td><td>2016</td><td>61</td><td>39</td></tr>",
                            "<tr><td>6</td><td>2016</td><td>150</td><td>121</td></tr>",
                            "<tr><td>12</td><td>2016</td><td>152</td><td>6</td></tr>",
                            "<tr><td>8</td><td>2016</td><td>157</td><td>2</td></tr>",
                            "<tr><td>8</td><td>2016</td><td>157</td><td>51</td></tr>",
                            "<tr><td>11</td><td>2016</td><td>23</td><td>16</td></tr>",
                            "<tr><td>12</td><td>2016</td><td>152</td><td>100</td></tr>",
                            "<tr><td>12</td><td>2016</td><td>152</td><td>112</td></tr>",
                            "<tr><td>12</td><td>2016</td><td>152</td><td>149</td></tr>",
                            "<tr><td>6</td><td>2016</td><td>150</td><td>72</td></tr>",
                            "<tr><td>10</td><td>2017</td><td>20</td><td>4</td></tr>",
                            "<tr><td>4</td><td>2016</td><td>61</td><td>33</td></tr>",
                            "<tr><td>6</td><td>2016</td><td>150</td><td>86</td></tr>",
                            "<tr><td>6</td><td>2016</td><td>150</td><td>135</td></tr>",
                            "<tr><td>10</td><td>2016</td><td>103</td><td>12</td></tr>",
                            "<tr><td>10</td><td>2016</td><td>103</td><td>49</td></tr>",
                            "<tr><td>10</td><td>2016</td><td>103</td><td>61</td></tr>",
                            "<tr><td>10</td><td>2016</td><td>103</td><td>98</td></tr>",
                            "<tr><td>5</td><td>2016</td><td>43</td><td>14</td></tr>",
                            "<tr><td>5</td><td>2016</td><td>43</td><td>20</td></tr>",
                            "<tr><td>6</td><td>2016</td><td>150</td><td>29</td></tr>",
                            "<tr><td>6</td><td>2016</td><td>150</td><td>35</td></tr>",
                            "<tr><td>9</td><td>2016</td><td>24</td><td>11</td></tr>",
                            "<tr><td>9</td><td>2016</td><td>24</td><td>17</td></tr>",
                            "<tr><td>6</td><td>2017</td><td>29</td><td>18</td></tr>",
                            "<tr><td>8</td><td>2016</td><td>157</td><td>88</td></tr>",
                            "<tr><td>8</td><td>2016</td><td>157</td><td>94</td></tr>",
                            "<tr><td>12</td><td>2016</td><td>152</td><td>57</td></tr>",
                            "<tr><td>12</td><td>2016</td><td>152</td><td>63</td></tr>",
                            "<tr><td>6</td><td>2016</td><td>150</td><td>78</td></tr>",
                            "<tr><td>7</td><td>2016</td><td>28</td><td>17</td></tr>",
                            "<tr><td>8</td><td>2017</td><td>47</td><td>42</td></tr>",
                            "<tr><td>10</td><td>2017</td><td>20</td><td>10</td></tr>",
                            "<tr><td>3</td><td>2016</td><td>35</td><td>27</td></tr>",
                            "<tr><td>4</td><td>2016</td><td>61</td><td>27</td></tr>",
                            "<tr><td>6</td><td>2016</td><td>150</td><td>129</td></tr>",
                            "<tr><td>10</td><td>2016</td><td>103</td><td>55</td></tr>",
                            "<tr><td>4</td><td>2016</td><td>61</td><td>52</td></tr>",
                            "<tr><td>12</td><td>2016</td><td>152</td><td>131</td></tr>",
                            "<tr><td>1</td><td>2017</td><td>7</td><td>3</td></tr>",
                            "<tr><td>4</td><td>2016</td><td>61</td><td>4</td></tr>",
                            "<tr><td>8</td><td>2016</td><td>157</td><td>105</td></tr>",
                            "<tr><td>10</td><td>2016</td><td>103</td><td>20</td></tr>",
                            "<tr><td>6</td><td>2017</td><td>29</td><td>22</td></tr>",
                            "<tr><td>9</td><td>2016</td><td>24</td><td>19</td></tr>",
                            "<tr><td>8</td><td>2016</td><td>157</td><td>30</td></tr>",
                            "<tr><td>10</td><td>2016</td><td>103</td><td>89</td></tr>",
                            "<tr><td>3</td><td>2016</td><td>35</td><td>35</td></tr>",
                            "<tr><td>6</td><td>2016</td><td>150</td><td>94</td></tr>",
                            "<tr><td>1</td><td>2016</td><td>63</td><td>37</td></tr>",
                            "<tr><td>3</td><td>2016</td><td>35</td><td>12</td></tr>",
                            "<tr><td>5</td><td>2016</td><td>43</td><td>28</td></tr>",
                            "<tr><td>6</td><td>2016</td><td>150</td><td>40</td></tr>",
                            "<tr><td>8</td><td>2016</td><td>157</td><td>76</td></tr>",
                            "<tr><td>8</td><td>2016</td><td>157</td><td>153</td></tr>",
                            "<tr><td>10</td><td>2016</td><td>103</td><td>43</td></tr>",
                            "<tr><td>1</td><td>2016</td><td>63</td><td>60</td></tr>",
                            "<tr><td>5</td><td>2016</td><td>43</td><td>5</td></tr>",
                            "<tr><td>6</td><td>2016</td><td>150</td><td>17</td></tr>",
                            "<tr><td>6</td><td>2016</td><td>150</td><td>140</td></tr>",
                            "<tr><td>7</td><td>2016</td><td>28</td><td>2</td></tr>",
                            "<tr><td>8</td><td>2016</td><td>157</td><td>53</td></tr>",
                            "<tr><td>10</td><td>2016</td><td>103</td><td>66</td></tr>",
                            "<tr><td>11</td><td>2017</td><td>3</td><td>2</td></tr>",
                            "<tr><td>12</td><td>2017</td><td>27</td><td>22</td></tr>",
                            "<tr><td>4</td><td>2016</td><td>61</td><td>58</td></tr>",
                            "<tr><td>8</td><td>2016</td><td>157</td><td>122</td></tr>",
                            "<tr><td>8</td><td>2017</td><td>47</td><td>8</td></tr>",
                            "<tr><td>10</td><td>2016</td><td>103</td><td>74</td></tr>",
                            "<tr><td>12</td><td>2016</td><td>152</td><td>125</td></tr>",
                            "<tr><td>12</td><td>2016</td><td>152</td><td>137</td></tr>",
                            "<tr><td>1</td><td>2016</td><td>63</td><td>8</td></tr>",
                            "<tr><td>6</td><td>2016</td><td>150</td><td>63</td></tr>",
                            "<tr><td>10</td><td>2016</td><td>103</td><td>26</td></tr>",
                            "<tr><td>1</td><td>2016</td><td>63</td><td>43</td></tr>",
                            "<tr><td>5</td><td>2016</td><td>43</td><td>34</td></tr>",
                            "<tr><td>6</td><td>2016</td><td>150</td><td>111</td></tr>",
                            "<tr><td>10</td><td>2016</td><td>103</td><td>37</td></tr>",
                            "<tr><td>12</td><td>2016</td><td>152</td><td>91</td></tr>",
                            "<tr><td>1</td><td>2016</td><td>63</td><td>54</td></tr>",
                            "<tr><td>4</td><td>2016</td><td>61</td><td>44</td></tr>",
                            "<tr><td>6</td><td>2016</td><td>150</td><td>146</td></tr>",
                            "<tr><td>9</td><td>2017</td><td>5</td><td>4</td></tr>",
                            "<tr><td>8</td><td>2017</td><td>47</td><td>17</td></tr>",
                            "<tr><td>10</td><td>2016</td><td>103</td><td>83</td></tr>",
                            "<tr><td>12</td><td>2017</td><td>27</td><td>8</td></tr>",
                            "<tr><td>12</td><td>2017</td><td>27</td><td>14</td></tr>",
                            "<tr><td>6</td><td>2016</td><td>150</td><td>100</td></tr>",
                            "<tr><td>8</td><td>2016</td><td>157</td><td>13</td></tr>",
                            "<tr><td>8</td><td>2016</td><td>157</td><td>19</td></tr>",
                            "<tr><td>12</td><td>2016</td><td>152</td><td>85</td></tr>",
                            "<tr><td>2</td><td>2016</td><td>13</td><td>11</td></tr>",
                            "<tr><td>6</td><td>2016</td><td>150</td><td>54</td></tr>",
                            "<tr><td>7</td><td>2017</td><td>6</td><td>6</td></tr>",
                            "<tr><td>8</td><td>2017</td><td>47</td><td>14</td></tr>",
                            "<tr><td>12</td><td>2016</td><td>152</td><td>48</td></tr>",
                            "<tr><td>12</td><td>2017</td><td>27</td><td>5</td></tr>",
                            "<tr><td>1</td><td>2016</td><td>63</td><td>51</td></tr>",
                            "<tr><td>5</td><td>2017</td><td>10</td><td>10</td></tr>",
                            "<tr><td>6</td><td>2016</td><td>150</td><td>8</td></tr>",
                            "<tr><td>8</td><td>2016</td><td>157</td><td>93</td></tr>",
                            "<tr><td>12</td><td>2016</td><td>152</td><td>25</td></tr>",
                            "<tr><td>1</td><td>2016</td><td>63</td><td>28</td></tr>",
                            "<tr><td>3</td><td>2016</td><td>35</td><td>18</td></tr>",
                            "<tr><td>4</td><td>2016</td><td>61</td><td>18</td></tr>",
                            "<tr><td>10</td><td>2016</td><td>103</td><td>34</td></tr>",
                            "<tr><td>11</td><td>2016</td><td>23</td><td>1</td></tr>",
                            "<tr><td>8</td><td>2016</td><td>157</td><td>22</td></tr>",
                            "<tr><td>4</td><td>2016</td><td>61</td><td>61</td></tr>",
                            "<tr><td>12</td><td>2016</td><td>152</td><td>74</td></tr>",
                            "<tr><td>12</td><td>2016</td><td>152</td><td>117</td></tr>",
                            "<tr><td>10</td><td>2017</td><td>20</td><td>19</td></tr>",
                            "<tr><td>4</td><td>2016</td><td>61</td><td>38</td></tr>",
                            "<tr><td>4</td><td>2017</td><td>12</td><td>1</td></tr>",
                            "<tr><td>10</td><td>2016</td><td>103</td><td>3</td></tr>",
                            "<tr><td>12</td><td>2016</td><td>152</td><td>54</td></tr>",
                            "<tr><td>1</td><td>2016</td><td>63</td><td>20</td></tr>",
                            "<tr><td>8</td><td>2016</td><td>157</td><td>50</td></tr>",
                            "<tr><td>8</td><td>2016</td><td>157</td><td>99</td></tr>",
                            "<tr><td>8</td><td>2017</td><td>47</td><td>31</td></tr>",
                            "<tr><td>9</td><td>2016</td><td>24</td><td>2</td></tr>",
                            "<tr><td>10</td><td>2017</td><td>20</td><td>5</td></tr>",
                            "<tr><td>12</td><td>2016</td><td>152</td><td>148</td></tr>",
                            "<tr><td>5</td><td>2016</td><td>43</td><td>25</td></tr>",
                            "<tr><td>6</td><td>2016</td><td>150</td><td>120</td></tr>",
                            "<tr><td>8</td><td>2016</td><td>157</td><td>85</td></tr>",
                            "<tr><td>9</td><td>2016</td><td>24</td><td>16</td></tr>",
                            "<tr><td>12</td><td>2016</td><td>152</td><td>5</td></tr>",
                            "<tr><td>4</td><td>2016</td><td>61</td><td>32</td></tr>",
                            "<tr><td>5</td><td>2016</td><td>43</td><td>11</td></tr>",
                            "<tr><td>6</td><td>2016</td><td>150</td><td>134</td></tr>",
                            "<tr><td>10</td><td>2016</td><td>103</td><td>60</td></tr>",
                            "<tr><td>10</td><td>2016</td><td>103</td><td>97</td></tr>",
                            "<tr><td>6</td><td>2016</td><td>150</td><td>77</td></tr>",
                            "<tr><td>6</td><td>2016</td><td>150</td><td>83</td></tr>",
                            "<tr><td>7</td><td>2016</td><td>28</td><td>10</td></tr>",
                            "<tr><td>7</td><td>2016</td><td>28</td><td>16</td></tr>",
                            "<tr><td>8</td><td>2016</td><td>157</td><td>36</td></tr>",
                            "<tr><td>8</td><td>2016</td><td>157</td><td>42</td></tr>",
                            "<tr><td>8</td><td>2016</td><td>157</td><td>136</td></tr>",
                            "<tr><td>8</td><td>2016</td><td>157</td><td>142</td></tr>",
                            "<tr><td>11</td><td>2016</td><td>23</td><td>15</td></tr>",
                            "<tr><td>11</td><td>2016</td><td>23</td><td>21</td></tr>",
                            "<tr><td>4</td><td>2016</td><td>61</td><td>24</td></tr>",
                            "<tr><td>6</td><td>2016</td><td>150</td><td>126</td></tr>",
                            "<tr><td>12</td><td>2016</td><td>152</td><td>11</td></tr>",
                            "<tr><td>10</td><td>2016</td><td>103</td><td>54</td></tr>",
                            "<tr><td>10</td><td>2016</td><td>103</td><td>103</td></tr>",
                            "<tr><td>1</td><td>2016</td><td>63</td><td>63</td></tr>",
                            "<tr><td>6</td><td>2016</td><td>150</td><td>20</td></tr>",
                            "<tr><td>8</td><td>2016</td><td>157</td><td>56</td></tr>",
                            "<tr><td>1</td><td>2016</td><td>63</td><td>40</td></tr>",
                            "<tr><td>6</td><td>2017</td><td>29</td><td>19</td></tr>",
                            "<tr><td>1</td><td>2016</td><td>63</td><td>17</td></tr>",
                            "<tr><td>3</td><td>2016</td><td>35</td><td>32</td></tr>",
                            "<tr><td>8</td><td>2016</td><td>157</td><td>10</td></tr>",
                            "<tr><td>10</td><td>2016</td><td>103</td><td>23</td></tr>",
                            "<tr><td>8</td><td>2016</td><td>157</td><td>125</td></tr>",
                            "<tr><td>5</td><td>2016</td><td>43</td><td>8</td></tr>",
                            "<tr><td>6</td><td>2016</td><td>150</td><td>137</td></tr>",
                            "<tr><td>6</td><td>2016</td><td>150</td><td>143</td></tr>",
                            "<tr><td>1</td><td>2016</td><td>63</td><td>34</td></tr>",
                            "<tr><td>6</td><td>2016</td><td>150</td><td>43</td></tr>",
                            "<tr><td>6</td><td>2016</td><td>150</td><td>114</td></tr>",
                            "<tr><td>8</td><td>2016</td><td>157</td><td>79</td></tr>",
                            "<tr><td>10</td><td>2016</td><td>103</td><td>40</td></tr>",
                            "<tr><td>11</td><td>2016</td><td>23</td><td>7</td></tr>",
                            "<tr><td>1</td><td>2016</td><td>63</td><td>11</td></tr>",
                            "<tr><td>6</td><td>2016</td><td>150</td><td>91</td></tr>",
                            "<tr><td>6</td><td>2017</td><td>29</td><td>2</td></tr>",
                            "<tr><td>8</td><td>2017</td><td>47</td><td>28</td></tr>",
                            "<tr><td>10</td><td>2016</td><td>103</td><td>17</td></tr>",
                            "<tr><td>1</td><td>2016</td><td>63</td><td>57</td></tr>",
                            "<tr><td>6</td><td>2016</td><td>150</td><td>14</td></tr>",
                            "<tr><td>6</td><td>2016</td><td>150</td><td>51</td></tr>",
                            "<tr><td>7</td><td>2017</td><td>6</td><td>3</td></tr>",
                            "<tr><td>9</td><td>2017</td><td>5</td><td>1</td></tr>",
                            "<tr><td>8</td><td>2016</td><td>157</td><td>73</td></tr>",
                            "<tr><td>8</td><td>2016</td><td>157</td><td>156</td></tr>",
                            "<tr><td>12</td><td>2016</td><td>152</td><td>88</td></tr>",
                            "<tr><td>6</td><td>2016</td><td>150</td><td>60</td></tr>",
                            "<tr><td>6</td><td>2016</td><td>150</td><td>97</td></tr>",
                            "<tr><td>4</td><td>2016</td><td>61</td><td>55</td></tr>",
                            "<tr><td>4</td><td>2017</td><td>12</td><td>12</td></tr>",
                            "<tr><td>8</td><td>2016</td><td>157</td><td>119</td></tr>",
                            "<tr><td>8</td><td>2017</td><td>47</td><td>11</td></tr>",
                            "<tr><td>12</td><td>2016</td><td>152</td><td>128</td></tr>",
                            "<tr><td>12</td><td>2016</td><td>152</td><td>134</td></tr>",
                            "<tr><td>2</td><td>2016</td><td>13</td><td>8</td></tr>",
                            "<tr><td>3</td><td>2016</td><td>35</td><td>1</td></tr>",
                            "<tr><td>4</td><td>2016</td><td>61</td><td>1</td></tr>",
                            "<tr><td>5</td><td>2016</td><td>43</td><td>42</td></tr>",
                            "<tr><td>6</td><td>2016</td><td>150</td><td>103</td></tr>",
                            "<tr><td>12</td><td>2016</td><td>152</td><td>34</td></tr>",
                            "<tr><td>6</td><td>2016</td><td>150</td><td>80</td></tr>",
                            "<tr><td>4</td><td>2016</td><td>61</td><td>41</td></tr>",
                            "<tr><td>4</td><td>2017</td><td>12</td><td>4</td></tr>",
                            "<tr><td>10</td><td>2016</td><td>103</td><td>57</td></tr>",
                            "<tr><td>3</td><td>2016</td><td>35</td><td>21</td></tr>",
                            "<tr><td>6</td><td>2017</td><td>29</td><td>10</td></tr>",
                            "<tr><td>8</td><td>2016</td><td>157</td><td>70</td></tr>",
                            "<tr><td>6</td><td>2016</td><td>150</td><td>11</td></tr>",
                            "<tr><td>10</td><td>2017</td><td>20</td><td>2</td></tr>",
                            "<tr><td>12</td><td>2016</td><td>152</td><td>45</td></tr>",
                            "<tr><td>12</td><td>2016</td><td>152</td><td>51</td></tr>",
                            "<tr><td>12</td><td>2017</td><td>27</td><td>2</td></tr>",
                            "<tr><td>3</td><td>2016</td><td>35</td><td>15</td></tr>",
                            "<tr><td>4</td><td>2016</td><td>61</td><td>15</td></tr>",
                            "<tr><td>11</td><td>2016</td><td>23</td><td>4</td></tr>",
                            "<tr><td>12</td><td>2016</td><td>152</td><td>94</td></tr>",
                            "<tr><td>5</td><td>2017</td><td>10</td><td>7</td></tr>",
                            "<tr><td>12</td><td>2016</td><td>152</td><td>71</td></tr>",
                            "<tr><td>12</td><td>2016</td><td>152</td><td>145</td></tr>",
                            "<tr><td>7</td><td>2016</td><td>28</td><td>19</td></tr>",
                            "<tr><td>4</td><td>2016</td><td>61</td><td>35</td></tr>",
                            "<tr><td>10</td><td>2016</td><td>103</td><td>14</td></tr>",
                            "<tr><td>1</td><td>2016</td><td>63</td><td>31</td></tr>",
                            "<tr><td>4</td><td>2016</td><td>61</td><td>21</td></tr>",
                            "<tr><td>5</td><td>2016</td><td>43</td><td>22</td></tr>",
                            "<tr><td>6</td><td>2016</td><td>150</td><td>37</td></tr>",
                            "<tr><td>6</td><td>2016</td><td>150</td><td>123</td></tr>",
                            "<tr><td>10</td><td>2017</td><td>20</td><td>16</td></tr>",
                            "<tr><td>8</td><td>2016</td><td>157</td><td>96</td></tr>",
                            "<tr><td>8</td><td>2016</td><td>157</td><td>133</td></tr>",
                            "<tr><td>9</td><td>2016</td><td>24</td><td>5</td></tr>",
                            "<tr><td>12</td><td>2016</td><td>152</td><td>102</td></tr>",
                            "<tr><td>12</td><td>2016</td><td>152</td><td>151</td></tr>",
                            "<tr><td>10</td><td>2016</td><td>103</td><td>6</td></tr>",
                            "<tr><td>6</td><td>2016</td><td>150</td><td>31</td></tr>",
                            "<tr><td>6</td><td>2017</td><td>29</td><td>16</td></tr>",
                            "<tr><td>9</td><td>2016</td><td>24</td><td>13</td></tr>",
                            "<tr><td>12</td><td>2016</td><td>152</td><td>8</td></tr>",
                            "<tr><td>8</td><td>2016</td><td>157</td><td>139</td></tr>",
                            "<tr><td>8</td><td>2017</td><td>47</td><td>40</td></tr>",
                            "<tr><td>10</td><td>2017</td><td>20</td><td>8</td></tr>",
                            "<tr><td>11</td><td>2016</td><td>23</td><td>18</td></tr>",
                            "<tr><td>12</td><td>2016</td><td>152</td><td>108</td></tr>",
                            "<tr><td>1</td><td>2016</td><td>63</td><td>62</td></tr>",
                            "<tr><td>10</td><td>2016</td><td>103</td><td>68</td></tr>",
                            "<tr><td>1</td><td>2016</td><td>63</td><td>39</td></tr>",
                            "<tr><td>4</td><td>2016</td><td>61</td><td>29</td></tr>",
                            "<tr><td>9</td><td>2016</td><td>24</td><td>21</td></tr>",
                            "<tr><td>10</td><td>2016</td><td>103</td><td>45</td></tr>",
                            "<tr><td>1</td><td>2016</td><td>63</td><td>16</td></tr>",
                            "<tr><td>3</td><td>2016</td><td>35</td><td>6</td></tr>",
                            "<tr><td>10</td><td>2016</td><td>103</td><td>22</td></tr>",
                            "<tr><td>2</td><td>2016</td><td>13</td><td>5</td></tr>",
                            "<tr><td>10</td><td>2017</td><td>20</td><td>14</td></tr>",
                            "<tr><td>11</td><td>2016</td><td>23</td><td>12</td></tr>",
                            "<tr><td>6</td><td>2016</td><td>150</td><td>65</td></tr>",
                            "<tr><td>7</td><td>2016</td><td>28</td><td>4</td></tr>",
                            "<tr><td>8</td><td>2016</td><td>157</td><td>101</td></tr>",
                            "<tr><td>8</td><td>2016</td><td>157</td><td>107</td></tr>",
                            "<tr><td>12</td><td>2017</td><td>27</td><td>20</td></tr>",
                            "<tr><td>6</td><td>2016</td><td>150</td><td>88</td></tr>",
                            "<tr><td>6</td><td>2016</td><td>150</td><td>119</td></tr>",
                            "<tr><td>8</td><td>2016</td><td>157</td><td>7</td></tr>",
                            "<tr><td>8</td><td>2016</td><td>157</td><td>124</td></tr>",
                            "<tr><td>8</td><td>2016</td><td>157</td><td>130</td></tr>",
                            "<tr><td>8</td><td>2017</td><td>47</td><td>6</td></tr>",
                            "<tr><td>5</td><td>2016</td><td>43</td><td>7</td></tr>",
                            "<tr><td>6</td><td>2016</td><td>150</td><td>19</td></tr>",
                            "<tr><td>8</td><td>2016</td><td>157</td><td>55</td></tr>",
                            "<tr><td>5</td><td>2016</td><td>43</td><td>30</td></tr>",
                            "<tr><td>6</td><td>2016</td><td>150</td><td>42</td></tr>",
                            "<tr><td>7</td><td>2016</td><td>28</td><td>27</td></tr>",
                            "<tr><td>1</td><td>2016</td><td>63</td><td>56</td></tr>",
                            "<tr><td>4</td><td>2016</td><td>61</td><td>46</td></tr>",
                            "<tr><td>8</td><td>2016</td><td>157</td><td>15</td></tr>",
                            "<tr><td>5</td><td>2017</td><td>10</td><td>2</td></tr>",
                            "<tr><td>6</td><td>2016</td><td>150</td><td>13</td></tr>",
                            "<tr><td>6</td><td>2016</td><td>150</td><td>96</td></tr>",
                            "<tr><td>12</td><td>2016</td><td>152</td><td>79</td></tr>",
                            "<tr><td>4</td><td>2017</td><td>12</td><td>7</td></tr>",
                            "<tr><td>6</td><td>2016</td><td>150</td><td>48</td></tr>",
                            "<tr><td>10</td><td>2016</td><td>103</td><td>85</td></tr>",
                            "<tr><td>12</td><td>2016</td><td>152</td><td>139</td></tr>",
                            "<tr><td>8</td><td>2016</td><td>157</td><td>118</td></tr>",
                            "<tr><td>8</td><td>2017</td><td>47</td><td>12</td></tr>",
                            "<tr><td>12</td><td>2016</td><td>152</td><td>87</td></tr>",
                            "<tr><td>2</td><td>2016</td><td>13</td><td>13</td></tr>",
                            "<tr><td>6</td><td>2016</td><td>150</td><td>102</td></tr>",
                            "<tr><td>6</td><td>2016</td><td>150</td><td>105</td></tr>",
                            "<tr><td>8</td><td>2016</td><td>157</td><td>67</td></tr>",
                            "<tr><td>10</td><td>2016</td><td>103</td><td>28</td></tr>",
                            "<tr><td>4</td><td>2016</td><td>61</td><td>40</td></tr>",
                            "<tr><td>11</td><td>2016</td><td>23</td><td>23</td></tr>",
                            "<tr><td>12</td><td>2016</td><td>152</td><td>119</td></tr>",
                            "<tr><td>1</td><td>2016</td><td>63</td><td>2</td></tr>",
                            "<tr><td>8</td><td>2016</td><td>157</td><td>44</td></tr>",
                            "<tr><td>3</td><td>2016</td><td>35</td><td>20</td></tr>",
                            "<tr><td>10</td><td>2016</td><td>103</td><td>11</td></tr>",
                            "<tr><td>2</td><td>2017</td><td>5</td><td>1</td></tr>",
                            "<tr><td>8</td><td>2016</td><td>157</td><td>24</td></tr>",
                            "<tr><td>12</td><td>2016</td><td>152</td><td>27</td></tr>",
                            "<tr><td>12</td><td>2017</td><td>27</td><td>26</td></tr>",
                            "<tr><td>8</td><td>2016</td><td>157</td><td>1</td></tr>",
                            "<tr><td>11</td><td>2016</td><td>23</td><td>3</td></tr>",
                            "<tr><td>12</td><td>2016</td><td>152</td><td>50</td></tr>",
                            "<tr><td>12</td><td>2016</td><td>152</td><td>93</td></tr>",
                            "<tr><td>12</td><td>2016</td><td>152</td><td>70</td></tr>",
                            "<tr><td>3</td><td>2016</td><td>35</td><td>14</td></tr>",
                            "<tr><td>10</td><td>2016</td><td>103</td><td>62</td></tr>",
                            "<tr><td>12</td><td>2016</td><td>152</td><td>113</td></tr>",
                            "<tr><td>7</td><td>2016</td><td>28</td><td>18</td></tr>",
                            "<tr><td>8</td><td>2016</td><td>157</td><td>87</td></tr>",
                            "<tr><td>10</td><td>2017</td><td>20</td><td>17</td></tr>",
                            "<tr><td>12</td><td>2016</td><td>152</td><td>7</td></tr>",
                            "<tr><td>5</td><td>2016</td><td>43</td><td>13</td></tr>",
                            "<tr><td>9</td><td>2016</td><td>24</td><td>4</td></tr>",
                            "<tr><td>12</td><td>2016</td><td>152</td><td>150</td></tr>",
                            "<tr><td>4</td><td>2016</td><td>61</td><td>20</td></tr>",
                            "<tr><td>6</td><td>2016</td><td>150</td><td>36</td></tr>",
                            "<tr><td>6</td><td>2016</td><td>150</td><td>85</td></tr>",
                            "<tr><td>6</td><td>2016</td><td>150</td><td>122</td></tr>",
                            "<tr><td>10</td><td>2016</td><td>103</td><td>48</td></tr>",
                            "<tr><td>8</td><td>2017</td><td>47</td><td>35</td></tr>",
                            "<tr><td>10</td><td>2017</td><td>20</td><td>3</td></tr>",
                            "<tr><td>1</td><td>2016</td><td>63</td><td>22</td></tr>",
                            "<tr><td>5</td><td>2016</td><td>43</td><td>19</td></tr>",
                            "<tr><td>9</td><td>2016</td><td>24</td><td>10</td></tr>",
                            "<tr><td>3</td><td>2016</td><td>35</td><td>26</td></tr>",
                            "<tr><td>4</td><td>2016</td><td>61</td><td>26</td></tr>",
                            "<tr><td>6</td><td>2016</td><td>150</td><td>79</td></tr>",
                            "<tr><td>6</td><td>2016</td><td>150</td><td>128</td></tr>",
                            "<tr><td>10</td><td>2016</td><td>103</td><td>5</td></tr>",
                            "<tr><td>6</td><td>2016</td><td>150</td><td>139</td></tr>",
                            "<tr><td>7</td><td>2016</td><td>28</td><td>1</td></tr>",
                            "<tr><td>8</td><td>2016</td><td>157</td><td>104</td></tr>",
                            "<tr><td>12</td><td>2016</td><td>152</td><td>36</td></tr>",
                            "<tr><td>12</td><td>2016</td><td>152</td><td>107</td></tr>",
                            "<tr><td>7</td><td>2016</td><td>28</td><td>24</td></tr>",
                            "<tr><td>8</td><td>2016</td><td>157</td><td>81</td></tr>",
                            "<tr><td>10</td><td>2017</td><td>20</td><td>11</td></tr>",
                            "<tr><td>12</td><td>2016</td><td>152</td><td>13</td></tr>",
                            "<tr><td>12</td><td>2016</td><td>152</td><td>130</td></tr>",
                            "<tr><td>8</td><td>2016</td><td>157</td><td>58</td></tr>",
                            "<tr><td>8</td><td>2016</td><td>157</td><td>35</td></tr>",
                            "<tr><td>9</td><td>2016</td><td>24</td><td>18</td></tr>",
                            "<tr><td>1</td><td>2016</td><td>63</td><td>59</td></tr>",
                            "<tr><td>3</td><td>2016</td><td>35</td><td>34</td></tr>",
                            "<tr><td>10</td><td>2016</td><td>103</td><td>71</td></tr>",
                            "<tr><td>2</td><td>2016</td><td>13</td><td>2</td></tr>",
                            "<tr><td>5</td><td>2016</td><td>43</td><td>27</td></tr>",
                            "<tr><td>5</td><td>2016</td><td>43</td><td>33</td></tr>",
                            "<tr><td>10</td><td>2016</td><td>103</td><td>88</td></tr>",
                            "<tr><td>10</td><td>2016</td><td>103</td><td>94</td></tr>",
                            "<tr><td>11</td><td>2016</td><td>23</td><td>9</td></tr>",
                            "<tr><td>5</td><td>2016</td><td>43</td><td>4</td></tr>",
                            "<tr><td>6</td><td>2017</td><td>29</td><td>25</td></tr>",
                            "<tr><td>9</td><td>2016</td><td>24</td><td>1</td></tr>",
                            "<tr><td>1</td><td>2016</td><td>63</td><td>36</td></tr>",
                            "<tr><td>8</td><td>2016</td><td>157</td><td>127</td></tr>",
                            "<tr><td>8</td><td>2017</td><td>47</td><td>3</td></tr>",
                            "<tr><td>9</td><td>2016</td><td>24</td><td>24</td></tr>",
                            "<tr><td>6</td><td>2016</td><td>150</td><td>62</td></tr>",
                            "<tr><td>8</td><td>2016</td><td>157</td><td>27</td></tr>",
                            "<tr><td>12</td><td>2016</td><td>152</td><td>30</td></tr>",
                            "<tr><td>4</td><td>2017</td><td>12</td><td>10</td></tr>",
                            "<tr><td>8</td><td>2016</td><td>157</td><td>75</td></tr>",
                            "<tr><td>12</td><td>2016</td><td>152</td><td>136</td></tr>",
                            "<tr><td>4</td><td>2016</td><td>61</td><td>9</td></tr>",
                            "<tr><td>6</td><td>2016</td><td>150</td><td>99</td></tr>",
                            "<tr><td>10</td><td>2016</td><td>103</td><td>25</td></tr>",
                            "<tr><td>12</td><td>2016</td><td>152</td><td>76</td></tr>",
                            "<tr><td>1</td><td>2016</td><td>63</td><td>42</td></tr>",
                            "<tr><td>4</td><td>2016</td><td>61</td><td>57</td></tr>",
                            "<tr><td>8</td><td>2016</td><td>157</td><td>121</td></tr>",
                            "<tr><td>8</td><td>2017</td><td>47</td><td>9</td></tr>",
                            "<tr><td>12</td><td>2016</td><td>152</td><td>90</td></tr>",
                            "<tr><td>4</td><td>2016</td><td>61</td><td>49</td></tr>",
                            "<tr><td>7</td><td>2017</td><td>6</td><td>1</td></tr>",
                            "<tr><td>5</td><td>2016</td><td>43</td><td>39</td></tr>",
                            "<tr><td>10</td><td>2016</td><td>103</td><td>82</td></tr>",
                            "<tr><td>3</td><td>2016</td><td>35</td><td>3</td></tr>",
                            "<tr><td>10</td><td>2016</td><td>103</td><td>31</td></tr>",
                            "<tr><td>1</td><td>2016</td><td>63</td><td>48</td></tr>",
                            "<tr><td>6</td><td>2016</td><td>150</td><td>5</td></tr>",
                            "<tr><td>6</td><td>2016</td><td>150</td><td>56</td></tr>",
                            "<tr><td>8</td><td>2016</td><td>157</td><td>21</td></tr>",
                            "<tr><td>8</td><td>2017</td><td>47</td><td>38</td></tr>",
                            "<tr><td>4</td><td>2016</td><td>61</td><td>17</td></tr>",
                            "<tr><td>6</td><td>2016</td><td>150</td><td>33</td></tr>",
                            "<tr><td>10</td><td>2016</td><td>103</td><td>8</td></tr>",
                            "<tr><td>1</td><td>2016</td><td>63</td><td>5</td></tr>",
                            "<tr><td>6</td><td>2017</td><td>29</td><td>8</td></tr>",
                            "<tr><td>8</td><td>2016</td><td>157</td><td>47</td></tr>",
                            "<tr><td>4</td><td>2016</td><td>61</td><td>43</td></tr>",
                            "<tr><td>12</td><td>2016</td><td>152</td><td>116</td></tr>",
                            "<tr><td>3</td><td>2016</td><td>35</td><td>17</td></tr>",
                            "<tr><td>4</td><td>2016</td><td>61</td><td>60</td></tr>",
                            "<tr><td>5</td><td>2017</td><td>10</td><td>5</td></tr>",
                            "<tr><td>6</td><td>2017</td><td>29</td><td>28</td></tr>",
                            "<tr><td>12</td><td>2016</td><td>152</td><td>73</td></tr>",
                            "<tr><td>10</td><td>2017</td><td>20</td><td>20</td></tr>",
                            "<tr><td>12</td><td>2016</td><td>152</td><td>47</td></tr>",
                            "<tr><td>12</td><td>2016</td><td>152</td><td>96</td></tr>",
                            "<tr><td>2</td><td>2017</td><td>5</td><td>4</td></tr>",
                            "<tr><td>3</td><td>2017</td><td>4</td><td>3</td></tr>",
                            "<tr><td>7</td><td>2016</td><td>28</td><td>7</td></tr>",
                            "<tr><td>12</td><td>2017</td><td>27</td><td>23</td></tr>",
                            "<tr><td>1</td><td>2016</td><td>63</td><td>33</td></tr>",
                            "<tr><td>4</td><td>2016</td><td>61</td><td>23</td></tr>",
                            "<tr><td>6</td><td>2016</td><td>150</td><td>39</td></tr>",
                            "<tr><td>10</td><td>2016</td><td>103</td><td>2</td></tr>",
                            "<tr><td>10</td><td>2016</td><td>103</td><td>51</td></tr>",
                            "<tr><td>1</td><td>2016</td><td>63</td><td>19</td></tr>",
                            "<tr><td>6</td><td>2016</td><td>150</td><td>25</td></tr>",
                            "<tr><td>8</td><td>2016</td><td>157</td><td>147</td></tr>",
                            "<tr><td>12</td><td>2016</td><td>152</td><td>67</td></tr>",
                            "<tr><td>7</td><td>2016</td><td>28</td><td>21</td></tr>",
                            "<tr><td>8</td><td>2016</td><td>157</td><td>84</td></tr>",
                            "<tr><td>8</td><td>2017</td><td>47</td><td>46</td></tr>",
                            "<tr><td>12</td><td>2016</td><td>152</td><td>4</td></tr>",
                            "<tr><td>12</td><td>2016</td><td>152</td><td>16</td></tr>",
                            "<tr><td>12</td><td>2016</td><td>152</td><td>53</td></tr>",
                            "<tr><td>10</td><td>2016</td><td>103</td><td>59</td></tr>",
                            "<tr><td>11</td><td>2016</td><td>23</td><td>20</td></tr>",
                            "<tr><td>12</td><td>2016</td><td>152</td><td>110</td></tr>",
                            "<tr><td>6</td><td>2016</td><td>150</td><td>76</td></tr>",
                            "<tr><td>6</td><td>2016</td><td>150</td><td>82</td></tr>",
                            "<tr><td>6</td><td>2016</td><td>150</td><td>125</td></tr>",
                            "<tr><td>1</td><td>2016</td><td>63</td><td>25</td></tr>",
                            "<tr><td>5</td><td>2016</td><td>43</td><td>16</td></tr>",
                            "<tr><td>8</td><td>2016</td><td>157</td><td>141</td></tr>",
                            "<tr><td>10</td><td>2016</td><td>103</td><td>102</td></tr>",
                            "<tr><td>6</td><td>2017</td><td>29</td><td>14</td></tr>",
                            "<tr><td>7</td><td>2016</td><td>28</td><td>15</td></tr>",
                            "<tr><td>8</td><td>2016</td><td>157</td><td>41</td></tr>",
                            "<tr><td>12</td><td>2016</td><td>152</td><td>59</td></tr>",
                            "</table>"
                        ]
                    }
                }
            ],
            "execution_count": 14
        },
        {
            "cell_type": "markdown",
            "source": [
                "5. <span style=\"background-color: rgb(255, 255, 255); color: rgb(0, 0, 0); font-family: &quot;Open Sans&quot;, sans-serif; font-size: 14.44px;\">Készítsük listát a szálláshelyekről! A lista tartalmazza a szálláshely azonosítóját, nevét, és a csillagok számát csillagszám szerint csökkenő, azon belül szállásnév szerint növekvő sorrendben!&nbsp;</span> \n",
                "\n",
                "a. Vegyünk fel két új oszlopot, amely a sorrend szerint előző szálláshely nevét, illetve azonosítóját is megjeleníti!"
            ],
            "metadata": {
                "azdata_cell_guid": "84239ca2-6b5e-49f5-9860-d44c11d6de32"
            },
            "attachments": {}
        },
        {
            "cell_type": "code",
            "source": [
                ""
            ],
            "metadata": {
                "azdata_cell_guid": "06d9a62b-9430-424b-a135-d80e675f0eb3",
                "language": "sql"
            },
            "outputs": [],
            "execution_count": null
        },
        {
            "cell_type": "markdown",
            "source": [
                "6. <span style=\"background-color: rgb(255, 255, 255); color: rgb(0, 0, 0); font-family: &quot;Open Sans&quot;, sans-serif; font-size: 14.44px;\">Listázzuk azon termékeket, amelyekből az átlagosnál kevesebb van raktáron!&nbsp;</span> \n",
                "\n",
                "a. Csak a termék kódja és megnevezése jelenjen meg!"
            ],
            "metadata": {
                "azdata_cell_guid": "b0d15045-3c43-4f3a-b8d4-76b4f24e5546"
            },
            "attachments": {}
        },
        {
            "cell_type": "code",
            "source": [
                "select termekkod,\r\n",
                "        megnevezes\r\n",
                "from termek\r\n",
                "where keszlet < (\r\n",
                "    --átlag \r\n",
                "    Select avg(keszlet)\r\n",
                "    from termek\r\n",
                ")"
            ],
            "metadata": {
                "azdata_cell_guid": "f2b7400d-1255-40ac-9250-4d57f9da5357",
                "language": "sql"
            },
            "outputs": [
                {
                    "output_type": "display_data",
                    "data": {
                        "text/html": "(551 rows affected)"
                    },
                    "metadata": {}
                },
                {
                    "output_type": "display_data",
                    "data": {
                        "text/html": "Total execution time: 00:00:00.005"
                    },
                    "metadata": {}
                },
                {
                    "output_type": "execute_result",
                    "metadata": {},
                    "execution_count": 22,
                    "data": {
                        "application/vnd.dataresource+json": {
                            "schema": {
                                "fields": [
                                    {
                                        "name": "termekkod"
                                    }
                                ]
                            },
                            "data": [
                                {
                                    "termekkod": "01010001T"
                                },
                                {
                                    "termekkod": "01010110T"
                                },
                                {
                                    "termekkod": "01010304T"
                                },
                                {
                                    "termekkod": "01020299T"
                                },
                                {
                                    "termekkod": "01020300T"
                                },
                                {
                                    "termekkod": "01030091T"
                                },
                                {
                                    "termekkod": "01030092T"
                                },
                                {
                                    "termekkod": "01040307T"
                                },
                                {
                                    "termekkod": "01040502T"
                                },
                                {
                                    "termekkod": "01080093T"
                                },
                                {
                                    "termekkod": "01080512T"
                                },
                                {
                                    "termekkod": "01080513T"
                                },
                                {
                                    "termekkod": "01090498T"
                                },
                                {
                                    "termekkod": "01090499T"
                                },
                                {
                                    "termekkod": "01090500T"
                                },
                                {
                                    "termekkod": "01090501T"
                                },
                                {
                                    "termekkod": "01090515T"
                                },
                                {
                                    "termekkod": "01090516T"
                                },
                                {
                                    "termekkod": "01090517T"
                                },
                                {
                                    "termekkod": "01100070T"
                                },
                                {
                                    "termekkod": "01100071T"
                                },
                                {
                                    "termekkod": "01100072T"
                                },
                                {
                                    "termekkod": "01100094T"
                                },
                                {
                                    "termekkod": "01100095T"
                                },
                                {
                                    "termekkod": "01100096T"
                                },
                                {
                                    "termekkod": "01100496T"
                                },
                                {
                                    "termekkod": "01100497T"
                                },
                                {
                                    "termekkod": "01100503T"
                                },
                                {
                                    "termekkod": "01100504T"
                                },
                                {
                                    "termekkod": "01100505T"
                                },
                                {
                                    "termekkod": "01100509T"
                                },
                                {
                                    "termekkod": "01100510T"
                                },
                                {
                                    "termekkod": "02010028T"
                                },
                                {
                                    "termekkod": "02020029T"
                                },
                                {
                                    "termekkod": "02020032T"
                                },
                                {
                                    "termekkod": "02020033T"
                                },
                                {
                                    "termekkod": "02020037T"
                                },
                                {
                                    "termekkod": "02020245T"
                                },
                                {
                                    "termekkod": "02020444T"
                                },
                                {
                                    "termekkod": "02030040T"
                                },
                                {
                                    "termekkod": "02030041T"
                                },
                                {
                                    "termekkod": "02030042T"
                                },
                                {
                                    "termekkod": "02030043T"
                                },
                                {
                                    "termekkod": "02030044T"
                                },
                                {
                                    "termekkod": "02040002T"
                                },
                                {
                                    "termekkod": "02040025T"
                                },
                                {
                                    "termekkod": "02040145T"
                                },
                                {
                                    "termekkod": "02040146T"
                                },
                                {
                                    "termekkod": "02040147T"
                                },
                                {
                                    "termekkod": "02040148T"
                                },
                                {
                                    "termekkod": "02040149T"
                                },
                                {
                                    "termekkod": "02040176T"
                                },
                                {
                                    "termekkod": "02040177T"
                                },
                                {
                                    "termekkod": "02040178T"
                                },
                                {
                                    "termekkod": "02040194T"
                                },
                                {
                                    "termekkod": "02040195T"
                                },
                                {
                                    "termekkod": "02040196T"
                                },
                                {
                                    "termekkod": "02040197T"
                                },
                                {
                                    "termekkod": "02040198T"
                                },
                                {
                                    "termekkod": "02040199T"
                                },
                                {
                                    "termekkod": "02040200T"
                                },
                                {
                                    "termekkod": "02040206T"
                                },
                                {
                                    "termekkod": "02040207T"
                                },
                                {
                                    "termekkod": "02040208T"
                                },
                                {
                                    "termekkod": "02040209T"
                                },
                                {
                                    "termekkod": "02040210T"
                                },
                                {
                                    "termekkod": "02040211T"
                                },
                                {
                                    "termekkod": "02040214T"
                                },
                                {
                                    "termekkod": "02040290T"
                                },
                                {
                                    "termekkod": "02040291T"
                                },
                                {
                                    "termekkod": "02040292T"
                                },
                                {
                                    "termekkod": "02040293T"
                                },
                                {
                                    "termekkod": "02040294T"
                                },
                                {
                                    "termekkod": "02040295T"
                                },
                                {
                                    "termekkod": "02040296T"
                                },
                                {
                                    "termekkod": "02040297T"
                                },
                                {
                                    "termekkod": "02040298T"
                                },
                                {
                                    "termekkod": "02040308T"
                                },
                                {
                                    "termekkod": "02040309T"
                                },
                                {
                                    "termekkod": "02040401T"
                                },
                                {
                                    "termekkod": "02040402T"
                                },
                                {
                                    "termekkod": "02040403T"
                                },
                                {
                                    "termekkod": "02040404T"
                                },
                                {
                                    "termekkod": "02040405T"
                                },
                                {
                                    "termekkod": "02040406T"
                                },
                                {
                                    "termekkod": "02040506T"
                                },
                                {
                                    "termekkod": "02040507T"
                                },
                                {
                                    "termekkod": "02040508T"
                                },
                                {
                                    "termekkod": "02050460T"
                                },
                                {
                                    "termekkod": "02050461T"
                                },
                                {
                                    "termekkod": "02060034T"
                                },
                                {
                                    "termekkod": "02060038T"
                                },
                                {
                                    "termekkod": "02060039T"
                                },
                                {
                                    "termekkod": "02060447T"
                                },
                                {
                                    "termekkod": "02060448T"
                                },
                                {
                                    "termekkod": "02080069T"
                                },
                                {
                                    "termekkod": "02080081T"
                                },
                                {
                                    "termekkod": "02080109T"
                                },
                                {
                                    "termekkod": "02080226T"
                                },
                                {
                                    "termekkod": "02080431T"
                                },
                                {
                                    "termekkod": "02080432T"
                                },
                                {
                                    "termekkod": "02080433T"
                                },
                                {
                                    "termekkod": "02080434T"
                                },
                                {
                                    "termekkod": "02080435T"
                                },
                                {
                                    "termekkod": "02080436T"
                                },
                                {
                                    "termekkod": "02080449T"
                                },
                                {
                                    "termekkod": "02080450T"
                                },
                                {
                                    "termekkod": "02080451T"
                                },
                                {
                                    "termekkod": "02080452T"
                                },
                                {
                                    "termekkod": "02080453T"
                                },
                                {
                                    "termekkod": "02080454T"
                                },
                                {
                                    "termekkod": "02080455T"
                                },
                                {
                                    "termekkod": "02080456T"
                                },
                                {
                                    "termekkod": "02080511T"
                                },
                                {
                                    "termekkod": "02080514T"
                                },
                                {
                                    "termekkod": "03010342T"
                                },
                                {
                                    "termekkod": "03010344T"
                                },
                                {
                                    "termekkod": "03010345T"
                                },
                                {
                                    "termekkod": "03050076T"
                                },
                                {
                                    "termekkod": "03050077T"
                                },
                                {
                                    "termekkod": "03050078T"
                                },
                                {
                                    "termekkod": "03050079T"
                                },
                                {
                                    "termekkod": "03050080T"
                                },
                                {
                                    "termekkod": "03050457T"
                                },
                                {
                                    "termekkod": "03050458T"
                                },
                                {
                                    "termekkod": "03050459T"
                                },
                                {
                                    "termekkod": "03080003T"
                                },
                                {
                                    "termekkod": "03080004T"
                                },
                                {
                                    "termekkod": "03080005T"
                                },
                                {
                                    "termekkod": "03080006T"
                                },
                                {
                                    "termekkod": "03080007T"
                                },
                                {
                                    "termekkod": "03080008T"
                                },
                                {
                                    "termekkod": "03080009T"
                                },
                                {
                                    "termekkod": "03080010T"
                                },
                                {
                                    "termekkod": "03080011T"
                                },
                                {
                                    "termekkod": "03080012T"
                                },
                                {
                                    "termekkod": "03080013T"
                                },
                                {
                                    "termekkod": "03080014T"
                                },
                                {
                                    "termekkod": "03080015T"
                                },
                                {
                                    "termekkod": "03080016T"
                                },
                                {
                                    "termekkod": "03080017T"
                                },
                                {
                                    "termekkod": "03080018T"
                                },
                                {
                                    "termekkod": "03080019T"
                                },
                                {
                                    "termekkod": "03080020T"
                                },
                                {
                                    "termekkod": "03080021T"
                                },
                                {
                                    "termekkod": "03080030T"
                                },
                                {
                                    "termekkod": "03080031T"
                                },
                                {
                                    "termekkod": "03080437T"
                                },
                                {
                                    "termekkod": "03080438T"
                                },
                                {
                                    "termekkod": "03080439T"
                                },
                                {
                                    "termekkod": "04020445T"
                                },
                                {
                                    "termekkod": "04030234T"
                                },
                                {
                                    "termekkod": "04030235T"
                                },
                                {
                                    "termekkod": "04030236T"
                                },
                                {
                                    "termekkod": "04030237T"
                                },
                                {
                                    "termekkod": "04030238T"
                                },
                                {
                                    "termekkod": "04030239T"
                                },
                                {
                                    "termekkod": "04030240T"
                                },
                                {
                                    "termekkod": "04030241T"
                                },
                                {
                                    "termekkod": "04030242T"
                                },
                                {
                                    "termekkod": "04030243T"
                                },
                                {
                                    "termekkod": "04030260T"
                                },
                                {
                                    "termekkod": "04030261T"
                                },
                                {
                                    "termekkod": "04030262T"
                                },
                                {
                                    "termekkod": "04030263T"
                                },
                                {
                                    "termekkod": "04030264T"
                                },
                                {
                                    "termekkod": "04030265T"
                                },
                                {
                                    "termekkod": "04030266T"
                                },
                                {
                                    "termekkod": "04030285T"
                                },
                                {
                                    "termekkod": "04030286T"
                                },
                                {
                                    "termekkod": "04030287T"
                                },
                                {
                                    "termekkod": "04030288T"
                                },
                                {
                                    "termekkod": "04030289T"
                                },
                                {
                                    "termekkod": "04040090T"
                                },
                                {
                                    "termekkod": "04040387T"
                                },
                                {
                                    "termekkod": "04050022T"
                                },
                                {
                                    "termekkod": "04050023T"
                                },
                                {
                                    "termekkod": "04050024T"
                                },
                                {
                                    "termekkod": "04050035T"
                                },
                                {
                                    "termekkod": "04050073T"
                                },
                                {
                                    "termekkod": "04050074T"
                                },
                                {
                                    "termekkod": "04050075T"
                                },
                                {
                                    "termekkod": "04050171T"
                                },
                                {
                                    "termekkod": "04050187T"
                                },
                                {
                                    "termekkod": "04050203T"
                                },
                                {
                                    "termekkod": "04050204T"
                                },
                                {
                                    "termekkod": "04050220T"
                                },
                                {
                                    "termekkod": "04050221T"
                                },
                                {
                                    "termekkod": "04050222T"
                                },
                                {
                                    "termekkod": "04050223T"
                                },
                                {
                                    "termekkod": "04050224T"
                                },
                                {
                                    "termekkod": "04050225T"
                                },
                                {
                                    "termekkod": "04050250T"
                                },
                                {
                                    "termekkod": "04050251T"
                                },
                                {
                                    "termekkod": "04050252T"
                                },
                                {
                                    "termekkod": "04050253T"
                                },
                                {
                                    "termekkod": "04050254T"
                                },
                                {
                                    "termekkod": "04050255T"
                                },
                                {
                                    "termekkod": "04050256T"
                                },
                                {
                                    "termekkod": "04050267T"
                                },
                                {
                                    "termekkod": "04050268T"
                                },
                                {
                                    "termekkod": "04050269T"
                                },
                                {
                                    "termekkod": "04050320T"
                                },
                                {
                                    "termekkod": "04050321T"
                                },
                                {
                                    "termekkod": "04050322T"
                                },
                                {
                                    "termekkod": "04050358T"
                                },
                                {
                                    "termekkod": "04080270T"
                                },
                                {
                                    "termekkod": "04080271T"
                                },
                                {
                                    "termekkod": "04080272T"
                                },
                                {
                                    "termekkod": "04080442T"
                                },
                                {
                                    "termekkod": "04080443T"
                                },
                                {
                                    "termekkod": "04110066T"
                                },
                                {
                                    "termekkod": "04110067T"
                                },
                                {
                                    "termekkod": "04110068T"
                                },
                                {
                                    "termekkod": "04110227T"
                                },
                                {
                                    "termekkod": "04110228T"
                                },
                                {
                                    "termekkod": "04110229T"
                                },
                                {
                                    "termekkod": "04110230T"
                                },
                                {
                                    "termekkod": "04110231T"
                                },
                                {
                                    "termekkod": "04110232T"
                                },
                                {
                                    "termekkod": "04110233T"
                                },
                                {
                                    "termekkod": "04110258T"
                                },
                                {
                                    "termekkod": "04110273T"
                                },
                                {
                                    "termekkod": "04110274T"
                                },
                                {
                                    "termekkod": "04110275T"
                                },
                                {
                                    "termekkod": "04110276T"
                                },
                                {
                                    "termekkod": "04110277T"
                                },
                                {
                                    "termekkod": "04110278T"
                                },
                                {
                                    "termekkod": "04110279T"
                                },
                                {
                                    "termekkod": "04110280T"
                                },
                                {
                                    "termekkod": "04110281T"
                                },
                                {
                                    "termekkod": "04110282T"
                                },
                                {
                                    "termekkod": "04110283T"
                                },
                                {
                                    "termekkod": "04110284T"
                                },
                                {
                                    "termekkod": "04110362T"
                                },
                                {
                                    "termekkod": "05010026T"
                                },
                                {
                                    "termekkod": "05010027T"
                                },
                                {
                                    "termekkod": "05010306T"
                                },
                                {
                                    "termekkod": "05010369T"
                                },
                                {
                                    "termekkod": "05010370T"
                                },
                                {
                                    "termekkod": "05040310T"
                                },
                                {
                                    "termekkod": "05040348T"
                                },
                                {
                                    "termekkod": "05040349T"
                                },
                                {
                                    "termekkod": "05050045T"
                                },
                                {
                                    "termekkod": "05050046T"
                                },
                                {
                                    "termekkod": "05050170T"
                                },
                                {
                                    "termekkod": "05050346T"
                                },
                                {
                                    "termekkod": "05050465T"
                                },
                                {
                                    "termekkod": "05080340T"
                                },
                                {
                                    "termekkod": "05080341T"
                                },
                                {
                                    "termekkod": "05110359T"
                                },
                                {
                                    "termekkod": "05110360T"
                                },
                                {
                                    "termekkod": "05110361T"
                                },
                                {
                                    "termekkod": "05110363T"
                                },
                                {
                                    "termekkod": "05110364T"
                                },
                                {
                                    "termekkod": "06010036T"
                                },
                                {
                                    "termekkod": "06010082T"
                                },
                                {
                                    "termekkod": "06010083T"
                                },
                                {
                                    "termekkod": "06010084T"
                                },
                                {
                                    "termekkod": "06010085T"
                                },
                                {
                                    "termekkod": "06010086T"
                                },
                                {
                                    "termekkod": "06010111T"
                                },
                                {
                                    "termekkod": "06010112T"
                                },
                                {
                                    "termekkod": "06010113T"
                                },
                                {
                                    "termekkod": "06010114T"
                                },
                                {
                                    "termekkod": "06010115T"
                                },
                                {
                                    "termekkod": "06010201T"
                                },
                                {
                                    "termekkod": "06010202T"
                                },
                                {
                                    "termekkod": "06010305T"
                                },
                                {
                                    "termekkod": "06010343T"
                                },
                                {
                                    "termekkod": "06010365T"
                                },
                                {
                                    "termekkod": "06010366T"
                                },
                                {
                                    "termekkod": "06010367T"
                                },
                                {
                                    "termekkod": "06010368T"
                                },
                                {
                                    "termekkod": "06010373T"
                                },
                                {
                                    "termekkod": "06010374T"
                                },
                                {
                                    "termekkod": "06010375T"
                                },
                                {
                                    "termekkod": "06010376T"
                                },
                                {
                                    "termekkod": "06010377T"
                                },
                                {
                                    "termekkod": "06040087T"
                                },
                                {
                                    "termekkod": "06040088T"
                                },
                                {
                                    "termekkod": "06040089T"
                                },
                                {
                                    "termekkod": "06040172T"
                                },
                                {
                                    "termekkod": "06040173T"
                                },
                                {
                                    "termekkod": "06040174T"
                                },
                                {
                                    "termekkod": "06040175T"
                                },
                                {
                                    "termekkod": "06040179T"
                                },
                                {
                                    "termekkod": "06040180T"
                                },
                                {
                                    "termekkod": "06040181T"
                                },
                                {
                                    "termekkod": "06040182T"
                                },
                                {
                                    "termekkod": "06040183T"
                                },
                                {
                                    "termekkod": "06040184T"
                                },
                                {
                                    "termekkod": "06040185T"
                                },
                                {
                                    "termekkod": "06040186T"
                                },
                                {
                                    "termekkod": "06040205T"
                                },
                                {
                                    "termekkod": "06040206T"
                                },
                                {
                                    "termekkod": "06040212T"
                                },
                                {
                                    "termekkod": "06040213T"
                                },
                                {
                                    "termekkod": "06040246T"
                                },
                                {
                                    "termekkod": "06040247T"
                                },
                                {
                                    "termekkod": "06040248T"
                                },
                                {
                                    "termekkod": "06040323T"
                                },
                                {
                                    "termekkod": "06040324T"
                                },
                                {
                                    "termekkod": "06040325T"
                                },
                                {
                                    "termekkod": "06040326T"
                                },
                                {
                                    "termekkod": "06040327T"
                                },
                                {
                                    "termekkod": "06040328T"
                                },
                                {
                                    "termekkod": "06040329T"
                                },
                                {
                                    "termekkod": "06040330T"
                                },
                                {
                                    "termekkod": "06040331T"
                                },
                                {
                                    "termekkod": "06040347T"
                                },
                                {
                                    "termekkod": "06040350T"
                                },
                                {
                                    "termekkod": "06040351T"
                                },
                                {
                                    "termekkod": "06040352T"
                                },
                                {
                                    "termekkod": "06040353T"
                                },
                                {
                                    "termekkod": "06040354T"
                                },
                                {
                                    "termekkod": "06040355T"
                                },
                                {
                                    "termekkod": "06040356T"
                                },
                                {
                                    "termekkod": "06040357T"
                                },
                                {
                                    "termekkod": "06040378T"
                                },
                                {
                                    "termekkod": "06040379T"
                                },
                                {
                                    "termekkod": "06040380T"
                                },
                                {
                                    "termekkod": "06040381T"
                                },
                                {
                                    "termekkod": "06040382T"
                                },
                                {
                                    "termekkod": "06040383T"
                                },
                                {
                                    "termekkod": "06040384T"
                                },
                                {
                                    "termekkod": "06040385T"
                                },
                                {
                                    "termekkod": "06040386T"
                                },
                                {
                                    "termekkod": "06040392T"
                                },
                                {
                                    "termekkod": "06040393T"
                                },
                                {
                                    "termekkod": "06040394T"
                                },
                                {
                                    "termekkod": "06040395T"
                                },
                                {
                                    "termekkod": "06040396T"
                                },
                                {
                                    "termekkod": "06040397T"
                                },
                                {
                                    "termekkod": "06040398T"
                                },
                                {
                                    "termekkod": "06040399T"
                                },
                                {
                                    "termekkod": "06040400T"
                                },
                                {
                                    "termekkod": "06040446T"
                                },
                                {
                                    "termekkod": "06050249T"
                                },
                                {
                                    "termekkod": "06050301T"
                                },
                                {
                                    "termekkod": "06050302T"
                                },
                                {
                                    "termekkod": "06050303T"
                                },
                                {
                                    "termekkod": "06080116T"
                                },
                                {
                                    "termekkod": "06080117T"
                                },
                                {
                                    "termekkod": "06080118T"
                                },
                                {
                                    "termekkod": "06080119T"
                                },
                                {
                                    "termekkod": "06080120T"
                                },
                                {
                                    "termekkod": "06080121T"
                                },
                                {
                                    "termekkod": "06080122T"
                                },
                                {
                                    "termekkod": "06080123T"
                                },
                                {
                                    "termekkod": "06080124T"
                                },
                                {
                                    "termekkod": "06080125T"
                                },
                                {
                                    "termekkod": "06080126T"
                                },
                                {
                                    "termekkod": "06080188T"
                                },
                                {
                                    "termekkod": "06080189T"
                                },
                                {
                                    "termekkod": "06080190T"
                                },
                                {
                                    "termekkod": "06080191T"
                                },
                                {
                                    "termekkod": "06080192T"
                                },
                                {
                                    "termekkod": "06080193T"
                                },
                                {
                                    "termekkod": "06080259T"
                                },
                                {
                                    "termekkod": "06080332T"
                                },
                                {
                                    "termekkod": "06080333T"
                                },
                                {
                                    "termekkod": "06080334T"
                                },
                                {
                                    "termekkod": "06080335T"
                                },
                                {
                                    "termekkod": "06080336T"
                                },
                                {
                                    "termekkod": "06080337T"
                                },
                                {
                                    "termekkod": "06080338T"
                                },
                                {
                                    "termekkod": "06080339T"
                                },
                                {
                                    "termekkod": "06080407T"
                                },
                                {
                                    "termekkod": "06080408T"
                                },
                                {
                                    "termekkod": "06080409T"
                                },
                                {
                                    "termekkod": "06080410T"
                                },
                                {
                                    "termekkod": "06080411T"
                                },
                                {
                                    "termekkod": "06080412T"
                                },
                                {
                                    "termekkod": "06080413T"
                                },
                                {
                                    "termekkod": "06080414T"
                                },
                                {
                                    "termekkod": "06080415T"
                                },
                                {
                                    "termekkod": "06080416T"
                                },
                                {
                                    "termekkod": "06080417T"
                                },
                                {
                                    "termekkod": "06080422T"
                                },
                                {
                                    "termekkod": "06080423T"
                                },
                                {
                                    "termekkod": "06080424T"
                                },
                                {
                                    "termekkod": "06080425T"
                                },
                                {
                                    "termekkod": "06080426T"
                                },
                                {
                                    "termekkod": "06080427T"
                                },
                                {
                                    "termekkod": "06080428T"
                                },
                                {
                                    "termekkod": "06080429T"
                                },
                                {
                                    "termekkod": "06080430T"
                                },
                                {
                                    "termekkod": "06080440T"
                                },
                                {
                                    "termekkod": "06080441T"
                                },
                                {
                                    "termekkod": "07010136T"
                                },
                                {
                                    "termekkod": "07010137T"
                                },
                                {
                                    "termekkod": "07010138T"
                                },
                                {
                                    "termekkod": "07010139T"
                                },
                                {
                                    "termekkod": "07010140T"
                                },
                                {
                                    "termekkod": "07010141T"
                                },
                                {
                                    "termekkod": "07010142T"
                                },
                                {
                                    "termekkod": "07010143T"
                                },
                                {
                                    "termekkod": "07010144T"
                                },
                                {
                                    "termekkod": "07010244T"
                                },
                                {
                                    "termekkod": "07010371T"
                                },
                                {
                                    "termekkod": "07010372T"
                                },
                                {
                                    "termekkod": "07030103T"
                                },
                                {
                                    "termekkod": "07030104T"
                                },
                                {
                                    "termekkod": "07030105T"
                                },
                                {
                                    "termekkod": "07030106T"
                                },
                                {
                                    "termekkod": "07030107T"
                                },
                                {
                                    "termekkod": "07030108T"
                                },
                                {
                                    "termekkod": "07040047T"
                                },
                                {
                                    "termekkod": "07040048T"
                                },
                                {
                                    "termekkod": "07040049T"
                                },
                                {
                                    "termekkod": "07040050T"
                                },
                                {
                                    "termekkod": "07040051T"
                                },
                                {
                                    "termekkod": "07040052T"
                                },
                                {
                                    "termekkod": "07040053T"
                                },
                                {
                                    "termekkod": "07040054T"
                                },
                                {
                                    "termekkod": "07040055T"
                                },
                                {
                                    "termekkod": "07040056T"
                                },
                                {
                                    "termekkod": "07040057T"
                                },
                                {
                                    "termekkod": "07040058T"
                                },
                                {
                                    "termekkod": "07040059T"
                                },
                                {
                                    "termekkod": "07040060T"
                                },
                                {
                                    "termekkod": "07040061T"
                                },
                                {
                                    "termekkod": "07040097T"
                                },
                                {
                                    "termekkod": "07040098T"
                                },
                                {
                                    "termekkod": "07040099T"
                                },
                                {
                                    "termekkod": "07040100T"
                                },
                                {
                                    "termekkod": "07040101T"
                                },
                                {
                                    "termekkod": "07040102T"
                                },
                                {
                                    "termekkod": "07040127T"
                                },
                                {
                                    "termekkod": "07040128T"
                                },
                                {
                                    "termekkod": "07040129T"
                                },
                                {
                                    "termekkod": "07040130T"
                                },
                                {
                                    "termekkod": "07040131T"
                                },
                                {
                                    "termekkod": "07040132T"
                                },
                                {
                                    "termekkod": "07040133T"
                                },
                                {
                                    "termekkod": "07040134T"
                                },
                                {
                                    "termekkod": "07040135T"
                                },
                                {
                                    "termekkod": "07040165T"
                                },
                                {
                                    "termekkod": "07040166T"
                                },
                                {
                                    "termekkod": "07040167T"
                                },
                                {
                                    "termekkod": "07040168T"
                                },
                                {
                                    "termekkod": "07040169T"
                                },
                                {
                                    "termekkod": "07040215T"
                                },
                                {
                                    "termekkod": "07040216T"
                                },
                                {
                                    "termekkod": "07040217T"
                                },
                                {
                                    "termekkod": "07040218T"
                                },
                                {
                                    "termekkod": "07040219T"
                                },
                                {
                                    "termekkod": "07040257T"
                                },
                                {
                                    "termekkod": "07040388T"
                                },
                                {
                                    "termekkod": "07040389T"
                                },
                                {
                                    "termekkod": "07040390T"
                                },
                                {
                                    "termekkod": "07040391T"
                                },
                                {
                                    "termekkod": "07050462T"
                                },
                                {
                                    "termekkod": "07050463T"
                                },
                                {
                                    "termekkod": "07050464T"
                                },
                                {
                                    "termekkod": "07080062T"
                                },
                                {
                                    "termekkod": "07080063T"
                                },
                                {
                                    "termekkod": "07080064T"
                                },
                                {
                                    "termekkod": "07080065T"
                                },
                                {
                                    "termekkod": "07080150T"
                                },
                                {
                                    "termekkod": "07080151T"
                                },
                                {
                                    "termekkod": "07080152T"
                                },
                                {
                                    "termekkod": "07080153T"
                                },
                                {
                                    "termekkod": "07080154T"
                                },
                                {
                                    "termekkod": "07080155T"
                                },
                                {
                                    "termekkod": "07080156T"
                                },
                                {
                                    "termekkod": "07080157T"
                                },
                                {
                                    "termekkod": "07080158T"
                                },
                                {
                                    "termekkod": "07080159T"
                                },
                                {
                                    "termekkod": "07080160T"
                                },
                                {
                                    "termekkod": "07080161T"
                                },
                                {
                                    "termekkod": "07080162T"
                                },
                                {
                                    "termekkod": "07080163T"
                                },
                                {
                                    "termekkod": "07080164T"
                                },
                                {
                                    "termekkod": "07080311T"
                                },
                                {
                                    "termekkod": "07080312T"
                                },
                                {
                                    "termekkod": "07080313T"
                                },
                                {
                                    "termekkod": "07080314T"
                                },
                                {
                                    "termekkod": "07080315T"
                                },
                                {
                                    "termekkod": "07080316T"
                                },
                                {
                                    "termekkod": "07080317T"
                                },
                                {
                                    "termekkod": "07080318T"
                                },
                                {
                                    "termekkod": "07080319T"
                                },
                                {
                                    "termekkod": "07080418T"
                                },
                                {
                                    "termekkod": "07080419T"
                                },
                                {
                                    "termekkod": "07080420T"
                                },
                                {
                                    "termekkod": "07080421T"
                                },
                                {
                                    "termekkod": "07080466T"
                                },
                                {
                                    "termekkod": "07080467T"
                                },
                                {
                                    "termekkod": "07080468T"
                                },
                                {
                                    "termekkod": "07080469T"
                                },
                                {
                                    "termekkod": "07080470T"
                                },
                                {
                                    "termekkod": "07080471T"
                                },
                                {
                                    "termekkod": "08070472T"
                                },
                                {
                                    "termekkod": "08070473T"
                                },
                                {
                                    "termekkod": "08070474T"
                                },
                                {
                                    "termekkod": "08070475T"
                                },
                                {
                                    "termekkod": "08070476T"
                                },
                                {
                                    "termekkod": "08070477T"
                                },
                                {
                                    "termekkod": "08070478T"
                                },
                                {
                                    "termekkod": "08070479T"
                                },
                                {
                                    "termekkod": "08070480T"
                                },
                                {
                                    "termekkod": "08070481T"
                                },
                                {
                                    "termekkod": "08070482T"
                                },
                                {
                                    "termekkod": "08070483T"
                                },
                                {
                                    "termekkod": "08070484T"
                                },
                                {
                                    "termekkod": "08070485T"
                                },
                                {
                                    "termekkod": "08070486T"
                                },
                                {
                                    "termekkod": "08070487T"
                                },
                                {
                                    "termekkod": "08070488T"
                                },
                                {
                                    "termekkod": "08070489T"
                                },
                                {
                                    "termekkod": "08070490T"
                                },
                                {
                                    "termekkod": "08070491T"
                                },
                                {
                                    "termekkod": "08070492T"
                                },
                                {
                                    "termekkod": "08070493T"
                                },
                                {
                                    "termekkod": "08070494T"
                                },
                                {
                                    "termekkod": "08070495T"
                                },
                                {
                                    "termekkod": "F001-KB101"
                                },
                                {
                                    "termekkod": "F007-NA201"
                                },
                                {
                                    "termekkod": "F013-NA207"
                                },
                                {
                                    "termekkod": "F021-IN215"
                                },
                                {
                                    "termekkod": "G001-KB101"
                                },
                                {
                                    "termekkod": "G013-NA201"
                                },
                                {
                                    "termekkod": "G019-NA207"
                                },
                                {
                                    "termekkod": "G023-FE301"
                                },
                                {
                                    "termekkod": "G029-FE307"
                                },
                                {
                                    "termekkod": "G038-FE316"
                                },
                                {
                                    "termekkod": "G041-AL211"
                                },
                                {
                                    "termekkod": "G048-PO218"
                                },
                                {
                                    "termekkod": "G064-CI401"
                                },
                                {
                                    "termekkod": "G073-CI410"
                                },
                                {
                                    "termekkod": "G082-CI419"
                                },
                                {
                                    "termekkod": "L001-KB101"
                                },
                                {
                                    "termekkod": "L013-NA201"
                                },
                                {
                                    "termekkod": "L019-NA207"
                                },
                                {
                                    "termekkod": "L023-FE301"
                                },
                                {
                                    "termekkod": "L029-FE307"
                                },
                                {
                                    "termekkod": "L033-FE311"
                                },
                                {
                                    "termekkod": "L041-AL211"
                                },
                                {
                                    "termekkod": "L048-PO218"
                                },
                                {
                                    "termekkod": "L064-CI401"
                                },
                                {
                                    "termekkod": "L073-CI410"
                                },
                                {
                                    "termekkod": "L082-CI419"
                                },
                                {
                                    "termekkod": "N001-KB101"
                                },
                                {
                                    "termekkod": "N008-NA201"
                                },
                                {
                                    "termekkod": "N019-FE301"
                                },
                                {
                                    "termekkod": "N029-AL212"
                                },
                                {
                                    "termekkod": "N035-AL218"
                                },
                                {
                                    "termekkod": "N039-AL222"
                                },
                                {
                                    "termekkod": "U001-KI501"
                                }
                            ]
                        },
                        "text/html": [
                            "<table>",
                            "<tr><th>termekkod</th></tr>",
                            "<tr><td>01010001T</td></tr>",
                            "<tr><td>01010110T</td></tr>",
                            "<tr><td>01010304T</td></tr>",
                            "<tr><td>01020299T</td></tr>",
                            "<tr><td>01020300T</td></tr>",
                            "<tr><td>01030091T</td></tr>",
                            "<tr><td>01030092T</td></tr>",
                            "<tr><td>01040307T</td></tr>",
                            "<tr><td>01040502T</td></tr>",
                            "<tr><td>01080093T</td></tr>",
                            "<tr><td>01080512T</td></tr>",
                            "<tr><td>01080513T</td></tr>",
                            "<tr><td>01090498T</td></tr>",
                            "<tr><td>01090499T</td></tr>",
                            "<tr><td>01090500T</td></tr>",
                            "<tr><td>01090501T</td></tr>",
                            "<tr><td>01090515T</td></tr>",
                            "<tr><td>01090516T</td></tr>",
                            "<tr><td>01090517T</td></tr>",
                            "<tr><td>01100070T</td></tr>",
                            "<tr><td>01100071T</td></tr>",
                            "<tr><td>01100072T</td></tr>",
                            "<tr><td>01100094T</td></tr>",
                            "<tr><td>01100095T</td></tr>",
                            "<tr><td>01100096T</td></tr>",
                            "<tr><td>01100496T</td></tr>",
                            "<tr><td>01100497T</td></tr>",
                            "<tr><td>01100503T</td></tr>",
                            "<tr><td>01100504T</td></tr>",
                            "<tr><td>01100505T</td></tr>",
                            "<tr><td>01100509T</td></tr>",
                            "<tr><td>01100510T</td></tr>",
                            "<tr><td>02010028T</td></tr>",
                            "<tr><td>02020029T</td></tr>",
                            "<tr><td>02020032T</td></tr>",
                            "<tr><td>02020033T</td></tr>",
                            "<tr><td>02020037T</td></tr>",
                            "<tr><td>02020245T</td></tr>",
                            "<tr><td>02020444T</td></tr>",
                            "<tr><td>02030040T</td></tr>",
                            "<tr><td>02030041T</td></tr>",
                            "<tr><td>02030042T</td></tr>",
                            "<tr><td>02030043T</td></tr>",
                            "<tr><td>02030044T</td></tr>",
                            "<tr><td>02040002T</td></tr>",
                            "<tr><td>02040025T</td></tr>",
                            "<tr><td>02040145T</td></tr>",
                            "<tr><td>02040146T</td></tr>",
                            "<tr><td>02040147T</td></tr>",
                            "<tr><td>02040148T</td></tr>",
                            "<tr><td>02040149T</td></tr>",
                            "<tr><td>02040176T</td></tr>",
                            "<tr><td>02040177T</td></tr>",
                            "<tr><td>02040178T</td></tr>",
                            "<tr><td>02040194T</td></tr>",
                            "<tr><td>02040195T</td></tr>",
                            "<tr><td>02040196T</td></tr>",
                            "<tr><td>02040197T</td></tr>",
                            "<tr><td>02040198T</td></tr>",
                            "<tr><td>02040199T</td></tr>",
                            "<tr><td>02040200T</td></tr>",
                            "<tr><td>02040206T</td></tr>",
                            "<tr><td>02040207T</td></tr>",
                            "<tr><td>02040208T</td></tr>",
                            "<tr><td>02040209T</td></tr>",
                            "<tr><td>02040210T</td></tr>",
                            "<tr><td>02040211T</td></tr>",
                            "<tr><td>02040214T</td></tr>",
                            "<tr><td>02040290T</td></tr>",
                            "<tr><td>02040291T</td></tr>",
                            "<tr><td>02040292T</td></tr>",
                            "<tr><td>02040293T</td></tr>",
                            "<tr><td>02040294T</td></tr>",
                            "<tr><td>02040295T</td></tr>",
                            "<tr><td>02040296T</td></tr>",
                            "<tr><td>02040297T</td></tr>",
                            "<tr><td>02040298T</td></tr>",
                            "<tr><td>02040308T</td></tr>",
                            "<tr><td>02040309T</td></tr>",
                            "<tr><td>02040401T</td></tr>",
                            "<tr><td>02040402T</td></tr>",
                            "<tr><td>02040403T</td></tr>",
                            "<tr><td>02040404T</td></tr>",
                            "<tr><td>02040405T</td></tr>",
                            "<tr><td>02040406T</td></tr>",
                            "<tr><td>02040506T</td></tr>",
                            "<tr><td>02040507T</td></tr>",
                            "<tr><td>02040508T</td></tr>",
                            "<tr><td>02050460T</td></tr>",
                            "<tr><td>02050461T</td></tr>",
                            "<tr><td>02060034T</td></tr>",
                            "<tr><td>02060038T</td></tr>",
                            "<tr><td>02060039T</td></tr>",
                            "<tr><td>02060447T</td></tr>",
                            "<tr><td>02060448T</td></tr>",
                            "<tr><td>02080069T</td></tr>",
                            "<tr><td>02080081T</td></tr>",
                            "<tr><td>02080109T</td></tr>",
                            "<tr><td>02080226T</td></tr>",
                            "<tr><td>02080431T</td></tr>",
                            "<tr><td>02080432T</td></tr>",
                            "<tr><td>02080433T</td></tr>",
                            "<tr><td>02080434T</td></tr>",
                            "<tr><td>02080435T</td></tr>",
                            "<tr><td>02080436T</td></tr>",
                            "<tr><td>02080449T</td></tr>",
                            "<tr><td>02080450T</td></tr>",
                            "<tr><td>02080451T</td></tr>",
                            "<tr><td>02080452T</td></tr>",
                            "<tr><td>02080453T</td></tr>",
                            "<tr><td>02080454T</td></tr>",
                            "<tr><td>02080455T</td></tr>",
                            "<tr><td>02080456T</td></tr>",
                            "<tr><td>02080511T</td></tr>",
                            "<tr><td>02080514T</td></tr>",
                            "<tr><td>03010342T</td></tr>",
                            "<tr><td>03010344T</td></tr>",
                            "<tr><td>03010345T</td></tr>",
                            "<tr><td>03050076T</td></tr>",
                            "<tr><td>03050077T</td></tr>",
                            "<tr><td>03050078T</td></tr>",
                            "<tr><td>03050079T</td></tr>",
                            "<tr><td>03050080T</td></tr>",
                            "<tr><td>03050457T</td></tr>",
                            "<tr><td>03050458T</td></tr>",
                            "<tr><td>03050459T</td></tr>",
                            "<tr><td>03080003T</td></tr>",
                            "<tr><td>03080004T</td></tr>",
                            "<tr><td>03080005T</td></tr>",
                            "<tr><td>03080006T</td></tr>",
                            "<tr><td>03080007T</td></tr>",
                            "<tr><td>03080008T</td></tr>",
                            "<tr><td>03080009T</td></tr>",
                            "<tr><td>03080010T</td></tr>",
                            "<tr><td>03080011T</td></tr>",
                            "<tr><td>03080012T</td></tr>",
                            "<tr><td>03080013T</td></tr>",
                            "<tr><td>03080014T</td></tr>",
                            "<tr><td>03080015T</td></tr>",
                            "<tr><td>03080016T</td></tr>",
                            "<tr><td>03080017T</td></tr>",
                            "<tr><td>03080018T</td></tr>",
                            "<tr><td>03080019T</td></tr>",
                            "<tr><td>03080020T</td></tr>",
                            "<tr><td>03080021T</td></tr>",
                            "<tr><td>03080030T</td></tr>",
                            "<tr><td>03080031T</td></tr>",
                            "<tr><td>03080437T</td></tr>",
                            "<tr><td>03080438T</td></tr>",
                            "<tr><td>03080439T</td></tr>",
                            "<tr><td>04020445T</td></tr>",
                            "<tr><td>04030234T</td></tr>",
                            "<tr><td>04030235T</td></tr>",
                            "<tr><td>04030236T</td></tr>",
                            "<tr><td>04030237T</td></tr>",
                            "<tr><td>04030238T</td></tr>",
                            "<tr><td>04030239T</td></tr>",
                            "<tr><td>04030240T</td></tr>",
                            "<tr><td>04030241T</td></tr>",
                            "<tr><td>04030242T</td></tr>",
                            "<tr><td>04030243T</td></tr>",
                            "<tr><td>04030260T</td></tr>",
                            "<tr><td>04030261T</td></tr>",
                            "<tr><td>04030262T</td></tr>",
                            "<tr><td>04030263T</td></tr>",
                            "<tr><td>04030264T</td></tr>",
                            "<tr><td>04030265T</td></tr>",
                            "<tr><td>04030266T</td></tr>",
                            "<tr><td>04030285T</td></tr>",
                            "<tr><td>04030286T</td></tr>",
                            "<tr><td>04030287T</td></tr>",
                            "<tr><td>04030288T</td></tr>",
                            "<tr><td>04030289T</td></tr>",
                            "<tr><td>04040090T</td></tr>",
                            "<tr><td>04040387T</td></tr>",
                            "<tr><td>04050022T</td></tr>",
                            "<tr><td>04050023T</td></tr>",
                            "<tr><td>04050024T</td></tr>",
                            "<tr><td>04050035T</td></tr>",
                            "<tr><td>04050073T</td></tr>",
                            "<tr><td>04050074T</td></tr>",
                            "<tr><td>04050075T</td></tr>",
                            "<tr><td>04050171T</td></tr>",
                            "<tr><td>04050187T</td></tr>",
                            "<tr><td>04050203T</td></tr>",
                            "<tr><td>04050204T</td></tr>",
                            "<tr><td>04050220T</td></tr>",
                            "<tr><td>04050221T</td></tr>",
                            "<tr><td>04050222T</td></tr>",
                            "<tr><td>04050223T</td></tr>",
                            "<tr><td>04050224T</td></tr>",
                            "<tr><td>04050225T</td></tr>",
                            "<tr><td>04050250T</td></tr>",
                            "<tr><td>04050251T</td></tr>",
                            "<tr><td>04050252T</td></tr>",
                            "<tr><td>04050253T</td></tr>",
                            "<tr><td>04050254T</td></tr>",
                            "<tr><td>04050255T</td></tr>",
                            "<tr><td>04050256T</td></tr>",
                            "<tr><td>04050267T</td></tr>",
                            "<tr><td>04050268T</td></tr>",
                            "<tr><td>04050269T</td></tr>",
                            "<tr><td>04050320T</td></tr>",
                            "<tr><td>04050321T</td></tr>",
                            "<tr><td>04050322T</td></tr>",
                            "<tr><td>04050358T</td></tr>",
                            "<tr><td>04080270T</td></tr>",
                            "<tr><td>04080271T</td></tr>",
                            "<tr><td>04080272T</td></tr>",
                            "<tr><td>04080442T</td></tr>",
                            "<tr><td>04080443T</td></tr>",
                            "<tr><td>04110066T</td></tr>",
                            "<tr><td>04110067T</td></tr>",
                            "<tr><td>04110068T</td></tr>",
                            "<tr><td>04110227T</td></tr>",
                            "<tr><td>04110228T</td></tr>",
                            "<tr><td>04110229T</td></tr>",
                            "<tr><td>04110230T</td></tr>",
                            "<tr><td>04110231T</td></tr>",
                            "<tr><td>04110232T</td></tr>",
                            "<tr><td>04110233T</td></tr>",
                            "<tr><td>04110258T</td></tr>",
                            "<tr><td>04110273T</td></tr>",
                            "<tr><td>04110274T</td></tr>",
                            "<tr><td>04110275T</td></tr>",
                            "<tr><td>04110276T</td></tr>",
                            "<tr><td>04110277T</td></tr>",
                            "<tr><td>04110278T</td></tr>",
                            "<tr><td>04110279T</td></tr>",
                            "<tr><td>04110280T</td></tr>",
                            "<tr><td>04110281T</td></tr>",
                            "<tr><td>04110282T</td></tr>",
                            "<tr><td>04110283T</td></tr>",
                            "<tr><td>04110284T</td></tr>",
                            "<tr><td>04110362T</td></tr>",
                            "<tr><td>05010026T</td></tr>",
                            "<tr><td>05010027T</td></tr>",
                            "<tr><td>05010306T</td></tr>",
                            "<tr><td>05010369T</td></tr>",
                            "<tr><td>05010370T</td></tr>",
                            "<tr><td>05040310T</td></tr>",
                            "<tr><td>05040348T</td></tr>",
                            "<tr><td>05040349T</td></tr>",
                            "<tr><td>05050045T</td></tr>",
                            "<tr><td>05050046T</td></tr>",
                            "<tr><td>05050170T</td></tr>",
                            "<tr><td>05050346T</td></tr>",
                            "<tr><td>05050465T</td></tr>",
                            "<tr><td>05080340T</td></tr>",
                            "<tr><td>05080341T</td></tr>",
                            "<tr><td>05110359T</td></tr>",
                            "<tr><td>05110360T</td></tr>",
                            "<tr><td>05110361T</td></tr>",
                            "<tr><td>05110363T</td></tr>",
                            "<tr><td>05110364T</td></tr>",
                            "<tr><td>06010036T</td></tr>",
                            "<tr><td>06010082T</td></tr>",
                            "<tr><td>06010083T</td></tr>",
                            "<tr><td>06010084T</td></tr>",
                            "<tr><td>06010085T</td></tr>",
                            "<tr><td>06010086T</td></tr>",
                            "<tr><td>06010111T</td></tr>",
                            "<tr><td>06010112T</td></tr>",
                            "<tr><td>06010113T</td></tr>",
                            "<tr><td>06010114T</td></tr>",
                            "<tr><td>06010115T</td></tr>",
                            "<tr><td>06010201T</td></tr>",
                            "<tr><td>06010202T</td></tr>",
                            "<tr><td>06010305T</td></tr>",
                            "<tr><td>06010343T</td></tr>",
                            "<tr><td>06010365T</td></tr>",
                            "<tr><td>06010366T</td></tr>",
                            "<tr><td>06010367T</td></tr>",
                            "<tr><td>06010368T</td></tr>",
                            "<tr><td>06010373T</td></tr>",
                            "<tr><td>06010374T</td></tr>",
                            "<tr><td>06010375T</td></tr>",
                            "<tr><td>06010376T</td></tr>",
                            "<tr><td>06010377T</td></tr>",
                            "<tr><td>06040087T</td></tr>",
                            "<tr><td>06040088T</td></tr>",
                            "<tr><td>06040089T</td></tr>",
                            "<tr><td>06040172T</td></tr>",
                            "<tr><td>06040173T</td></tr>",
                            "<tr><td>06040174T</td></tr>",
                            "<tr><td>06040175T</td></tr>",
                            "<tr><td>06040179T</td></tr>",
                            "<tr><td>06040180T</td></tr>",
                            "<tr><td>06040181T</td></tr>",
                            "<tr><td>06040182T</td></tr>",
                            "<tr><td>06040183T</td></tr>",
                            "<tr><td>06040184T</td></tr>",
                            "<tr><td>06040185T</td></tr>",
                            "<tr><td>06040186T</td></tr>",
                            "<tr><td>06040205T</td></tr>",
                            "<tr><td>06040206T</td></tr>",
                            "<tr><td>06040212T</td></tr>",
                            "<tr><td>06040213T</td></tr>",
                            "<tr><td>06040246T</td></tr>",
                            "<tr><td>06040247T</td></tr>",
                            "<tr><td>06040248T</td></tr>",
                            "<tr><td>06040323T</td></tr>",
                            "<tr><td>06040324T</td></tr>",
                            "<tr><td>06040325T</td></tr>",
                            "<tr><td>06040326T</td></tr>",
                            "<tr><td>06040327T</td></tr>",
                            "<tr><td>06040328T</td></tr>",
                            "<tr><td>06040329T</td></tr>",
                            "<tr><td>06040330T</td></tr>",
                            "<tr><td>06040331T</td></tr>",
                            "<tr><td>06040347T</td></tr>",
                            "<tr><td>06040350T</td></tr>",
                            "<tr><td>06040351T</td></tr>",
                            "<tr><td>06040352T</td></tr>",
                            "<tr><td>06040353T</td></tr>",
                            "<tr><td>06040354T</td></tr>",
                            "<tr><td>06040355T</td></tr>",
                            "<tr><td>06040356T</td></tr>",
                            "<tr><td>06040357T</td></tr>",
                            "<tr><td>06040378T</td></tr>",
                            "<tr><td>06040379T</td></tr>",
                            "<tr><td>06040380T</td></tr>",
                            "<tr><td>06040381T</td></tr>",
                            "<tr><td>06040382T</td></tr>",
                            "<tr><td>06040383T</td></tr>",
                            "<tr><td>06040384T</td></tr>",
                            "<tr><td>06040385T</td></tr>",
                            "<tr><td>06040386T</td></tr>",
                            "<tr><td>06040392T</td></tr>",
                            "<tr><td>06040393T</td></tr>",
                            "<tr><td>06040394T</td></tr>",
                            "<tr><td>06040395T</td></tr>",
                            "<tr><td>06040396T</td></tr>",
                            "<tr><td>06040397T</td></tr>",
                            "<tr><td>06040398T</td></tr>",
                            "<tr><td>06040399T</td></tr>",
                            "<tr><td>06040400T</td></tr>",
                            "<tr><td>06040446T</td></tr>",
                            "<tr><td>06050249T</td></tr>",
                            "<tr><td>06050301T</td></tr>",
                            "<tr><td>06050302T</td></tr>",
                            "<tr><td>06050303T</td></tr>",
                            "<tr><td>06080116T</td></tr>",
                            "<tr><td>06080117T</td></tr>",
                            "<tr><td>06080118T</td></tr>",
                            "<tr><td>06080119T</td></tr>",
                            "<tr><td>06080120T</td></tr>",
                            "<tr><td>06080121T</td></tr>",
                            "<tr><td>06080122T</td></tr>",
                            "<tr><td>06080123T</td></tr>",
                            "<tr><td>06080124T</td></tr>",
                            "<tr><td>06080125T</td></tr>",
                            "<tr><td>06080126T</td></tr>",
                            "<tr><td>06080188T</td></tr>",
                            "<tr><td>06080189T</td></tr>",
                            "<tr><td>06080190T</td></tr>",
                            "<tr><td>06080191T</td></tr>",
                            "<tr><td>06080192T</td></tr>",
                            "<tr><td>06080193T</td></tr>",
                            "<tr><td>06080259T</td></tr>",
                            "<tr><td>06080332T</td></tr>",
                            "<tr><td>06080333T</td></tr>",
                            "<tr><td>06080334T</td></tr>",
                            "<tr><td>06080335T</td></tr>",
                            "<tr><td>06080336T</td></tr>",
                            "<tr><td>06080337T</td></tr>",
                            "<tr><td>06080338T</td></tr>",
                            "<tr><td>06080339T</td></tr>",
                            "<tr><td>06080407T</td></tr>",
                            "<tr><td>06080408T</td></tr>",
                            "<tr><td>06080409T</td></tr>",
                            "<tr><td>06080410T</td></tr>",
                            "<tr><td>06080411T</td></tr>",
                            "<tr><td>06080412T</td></tr>",
                            "<tr><td>06080413T</td></tr>",
                            "<tr><td>06080414T</td></tr>",
                            "<tr><td>06080415T</td></tr>",
                            "<tr><td>06080416T</td></tr>",
                            "<tr><td>06080417T</td></tr>",
                            "<tr><td>06080422T</td></tr>",
                            "<tr><td>06080423T</td></tr>",
                            "<tr><td>06080424T</td></tr>",
                            "<tr><td>06080425T</td></tr>",
                            "<tr><td>06080426T</td></tr>",
                            "<tr><td>06080427T</td></tr>",
                            "<tr><td>06080428T</td></tr>",
                            "<tr><td>06080429T</td></tr>",
                            "<tr><td>06080430T</td></tr>",
                            "<tr><td>06080440T</td></tr>",
                            "<tr><td>06080441T</td></tr>",
                            "<tr><td>07010136T</td></tr>",
                            "<tr><td>07010137T</td></tr>",
                            "<tr><td>07010138T</td></tr>",
                            "<tr><td>07010139T</td></tr>",
                            "<tr><td>07010140T</td></tr>",
                            "<tr><td>07010141T</td></tr>",
                            "<tr><td>07010142T</td></tr>",
                            "<tr><td>07010143T</td></tr>",
                            "<tr><td>07010144T</td></tr>",
                            "<tr><td>07010244T</td></tr>",
                            "<tr><td>07010371T</td></tr>",
                            "<tr><td>07010372T</td></tr>",
                            "<tr><td>07030103T</td></tr>",
                            "<tr><td>07030104T</td></tr>",
                            "<tr><td>07030105T</td></tr>",
                            "<tr><td>07030106T</td></tr>",
                            "<tr><td>07030107T</td></tr>",
                            "<tr><td>07030108T</td></tr>",
                            "<tr><td>07040047T</td></tr>",
                            "<tr><td>07040048T</td></tr>",
                            "<tr><td>07040049T</td></tr>",
                            "<tr><td>07040050T</td></tr>",
                            "<tr><td>07040051T</td></tr>",
                            "<tr><td>07040052T</td></tr>",
                            "<tr><td>07040053T</td></tr>",
                            "<tr><td>07040054T</td></tr>",
                            "<tr><td>07040055T</td></tr>",
                            "<tr><td>07040056T</td></tr>",
                            "<tr><td>07040057T</td></tr>",
                            "<tr><td>07040058T</td></tr>",
                            "<tr><td>07040059T</td></tr>",
                            "<tr><td>07040060T</td></tr>",
                            "<tr><td>07040061T</td></tr>",
                            "<tr><td>07040097T</td></tr>",
                            "<tr><td>07040098T</td></tr>",
                            "<tr><td>07040099T</td></tr>",
                            "<tr><td>07040100T</td></tr>",
                            "<tr><td>07040101T</td></tr>",
                            "<tr><td>07040102T</td></tr>",
                            "<tr><td>07040127T</td></tr>",
                            "<tr><td>07040128T</td></tr>",
                            "<tr><td>07040129T</td></tr>",
                            "<tr><td>07040130T</td></tr>",
                            "<tr><td>07040131T</td></tr>",
                            "<tr><td>07040132T</td></tr>",
                            "<tr><td>07040133T</td></tr>",
                            "<tr><td>07040134T</td></tr>",
                            "<tr><td>07040135T</td></tr>",
                            "<tr><td>07040165T</td></tr>",
                            "<tr><td>07040166T</td></tr>",
                            "<tr><td>07040167T</td></tr>",
                            "<tr><td>07040168T</td></tr>",
                            "<tr><td>07040169T</td></tr>",
                            "<tr><td>07040215T</td></tr>",
                            "<tr><td>07040216T</td></tr>",
                            "<tr><td>07040217T</td></tr>",
                            "<tr><td>07040218T</td></tr>",
                            "<tr><td>07040219T</td></tr>",
                            "<tr><td>07040257T</td></tr>",
                            "<tr><td>07040388T</td></tr>",
                            "<tr><td>07040389T</td></tr>",
                            "<tr><td>07040390T</td></tr>",
                            "<tr><td>07040391T</td></tr>",
                            "<tr><td>07050462T</td></tr>",
                            "<tr><td>07050463T</td></tr>",
                            "<tr><td>07050464T</td></tr>",
                            "<tr><td>07080062T</td></tr>",
                            "<tr><td>07080063T</td></tr>",
                            "<tr><td>07080064T</td></tr>",
                            "<tr><td>07080065T</td></tr>",
                            "<tr><td>07080150T</td></tr>",
                            "<tr><td>07080151T</td></tr>",
                            "<tr><td>07080152T</td></tr>",
                            "<tr><td>07080153T</td></tr>",
                            "<tr><td>07080154T</td></tr>",
                            "<tr><td>07080155T</td></tr>",
                            "<tr><td>07080156T</td></tr>",
                            "<tr><td>07080157T</td></tr>",
                            "<tr><td>07080158T</td></tr>",
                            "<tr><td>07080159T</td></tr>",
                            "<tr><td>07080160T</td></tr>",
                            "<tr><td>07080161T</td></tr>",
                            "<tr><td>07080162T</td></tr>",
                            "<tr><td>07080163T</td></tr>",
                            "<tr><td>07080164T</td></tr>",
                            "<tr><td>07080311T</td></tr>",
                            "<tr><td>07080312T</td></tr>",
                            "<tr><td>07080313T</td></tr>",
                            "<tr><td>07080314T</td></tr>",
                            "<tr><td>07080315T</td></tr>",
                            "<tr><td>07080316T</td></tr>",
                            "<tr><td>07080317T</td></tr>",
                            "<tr><td>07080318T</td></tr>",
                            "<tr><td>07080319T</td></tr>",
                            "<tr><td>07080418T</td></tr>",
                            "<tr><td>07080419T</td></tr>",
                            "<tr><td>07080420T</td></tr>",
                            "<tr><td>07080421T</td></tr>",
                            "<tr><td>07080466T</td></tr>",
                            "<tr><td>07080467T</td></tr>",
                            "<tr><td>07080468T</td></tr>",
                            "<tr><td>07080469T</td></tr>",
                            "<tr><td>07080470T</td></tr>",
                            "<tr><td>07080471T</td></tr>",
                            "<tr><td>08070472T</td></tr>",
                            "<tr><td>08070473T</td></tr>",
                            "<tr><td>08070474T</td></tr>",
                            "<tr><td>08070475T</td></tr>",
                            "<tr><td>08070476T</td></tr>",
                            "<tr><td>08070477T</td></tr>",
                            "<tr><td>08070478T</td></tr>",
                            "<tr><td>08070479T</td></tr>",
                            "<tr><td>08070480T</td></tr>",
                            "<tr><td>08070481T</td></tr>",
                            "<tr><td>08070482T</td></tr>",
                            "<tr><td>08070483T</td></tr>",
                            "<tr><td>08070484T</td></tr>",
                            "<tr><td>08070485T</td></tr>",
                            "<tr><td>08070486T</td></tr>",
                            "<tr><td>08070487T</td></tr>",
                            "<tr><td>08070488T</td></tr>",
                            "<tr><td>08070489T</td></tr>",
                            "<tr><td>08070490T</td></tr>",
                            "<tr><td>08070491T</td></tr>",
                            "<tr><td>08070492T</td></tr>",
                            "<tr><td>08070493T</td></tr>",
                            "<tr><td>08070494T</td></tr>",
                            "<tr><td>08070495T</td></tr>",
                            "<tr><td>F001-KB101</td></tr>",
                            "<tr><td>F007-NA201</td></tr>",
                            "<tr><td>F013-NA207</td></tr>",
                            "<tr><td>F021-IN215</td></tr>",
                            "<tr><td>G001-KB101</td></tr>",
                            "<tr><td>G013-NA201</td></tr>",
                            "<tr><td>G019-NA207</td></tr>",
                            "<tr><td>G023-FE301</td></tr>",
                            "<tr><td>G029-FE307</td></tr>",
                            "<tr><td>G038-FE316</td></tr>",
                            "<tr><td>G041-AL211</td></tr>",
                            "<tr><td>G048-PO218</td></tr>",
                            "<tr><td>G064-CI401</td></tr>",
                            "<tr><td>G073-CI410</td></tr>",
                            "<tr><td>G082-CI419</td></tr>",
                            "<tr><td>L001-KB101</td></tr>",
                            "<tr><td>L013-NA201</td></tr>",
                            "<tr><td>L019-NA207</td></tr>",
                            "<tr><td>L023-FE301</td></tr>",
                            "<tr><td>L029-FE307</td></tr>",
                            "<tr><td>L033-FE311</td></tr>",
                            "<tr><td>L041-AL211</td></tr>",
                            "<tr><td>L048-PO218</td></tr>",
                            "<tr><td>L064-CI401</td></tr>",
                            "<tr><td>L073-CI410</td></tr>",
                            "<tr><td>L082-CI419</td></tr>",
                            "<tr><td>N001-KB101</td></tr>",
                            "<tr><td>N008-NA201</td></tr>",
                            "<tr><td>N019-FE301</td></tr>",
                            "<tr><td>N029-AL212</td></tr>",
                            "<tr><td>N035-AL218</td></tr>",
                            "<tr><td>N039-AL222</td></tr>",
                            "<tr><td>U001-KI501</td></tr>",
                            "</table>"
                        ]
                    }
                }
            ],
            "execution_count": 22
        },
        {
            "cell_type": "markdown",
            "source": [
                "7. <span style=\"background-color: rgb(255, 255, 255); color: rgb(0, 0, 0); font-family: &quot;Open Sans&quot;, sans-serif; font-size: 14.44px;\">Listázzuk azon ügyfeleket, akik még nem fizettek bankkártyával!&nbsp;</span> \n",
                "\n",
                "a. Csak az ügyfelek neve jelenjen meg!"
            ],
            "metadata": {
                "azdata_cell_guid": "7ebf7ddd-1bd2-4246-815a-be8ae37e3b5b"
            },
            "attachments": {}
        },
        {
            "cell_type": "code",
            "source": [
                "--akiknek a kódja nincs benne a bankártyával fizetők kódjainak halmazában\r\n",
                "SELECT nev\r\n",
                "FROM Ugyfel\r\n",
                "WHERE [LOGIN] NOT IN \r\n",
                "\r\n",
                "(\r\n",
                "    --a bankkártyával fizetők LOGIN-jai\r\n",
                "    SELECT [LOGIN]\r\n",
                "    FROM Rendeles\r\n",
                "    WHERE FIZ_MOD = 'Bankkártya'\r\n",
                ")"
            ],
            "metadata": {
                "azdata_cell_guid": "84b7e896-f36e-4985-88f5-e0f706494fef",
                "language": "sql"
            },
            "outputs": [
                {
                    "output_type": "display_data",
                    "data": {
                        "text/html": "(9 rows affected)"
                    },
                    "metadata": {}
                },
                {
                    "output_type": "display_data",
                    "data": {
                        "text/html": "Total execution time: 00:00:00.059"
                    },
                    "metadata": {}
                },
                {
                    "output_type": "execute_result",
                    "metadata": {},
                    "execution_count": 26,
                    "data": {
                        "application/vnd.dataresource+json": {
                            "schema": {
                                "fields": [
                                    {
                                        "name": "nev"
                                    }
                                ]
                            },
                            "data": [
                                {
                                    "nev": "Biró Alexander"
                                },
                                {
                                    "nev": "Csóti Attila"
                                },
                                {
                                    "nev": "Bagi Beáta"
                                },
                                {
                                    "nev": "Mór Ottó"
                                },
                                {
                                    "nev": "Molnár Eszter"
                                },
                                {
                                    "nev": "Kiss Anita"
                                },
                                {
                                    "nev": "Kispál Márk"
                                },
                                {
                                    "nev": "Nagy Péter"
                                },
                                {
                                    "nev": "Szűcs Norbert"
                                }
                            ]
                        },
                        "text/html": [
                            "<table>",
                            "<tr><th>nev</th></tr>",
                            "<tr><td>Biró Alexander</td></tr>",
                            "<tr><td>Csóti Attila</td></tr>",
                            "<tr><td>Bagi Beáta</td></tr>",
                            "<tr><td>Mór Ottó</td></tr>",
                            "<tr><td>Molnár Eszter</td></tr>",
                            "<tr><td>Kiss Anita</td></tr>",
                            "<tr><td>Kispál Márk</td></tr>",
                            "<tr><td>Nagy Péter</td></tr>",
                            "<tr><td>Szűcs Norbert</td></tr>",
                            "</table>"
                        ]
                    }
                }
            ],
            "execution_count": 26
        },
        {
            "cell_type": "code",
            "source": [
                "--nem létezik olyan rendelés, ahol az adott ügyfélkóddal foglaltak és bankkártyával fizettek\r\n",
                "SELECT nev\r\n",
                "FROM Ugyfel u\r\n",
                "WHERE NOT EXISTS\r\n",
                "(\r\n",
                "    SELECT *\r\n",
                "    FROM Rendeles r \r\n",
                "    where u.login = r.[LOGIN]\r\n",
                "        AND r.FIZ_MOD = 'bankkártya'\r\n",
                ")"
            ],
            "metadata": {
                "language": "sql",
                "azdata_cell_guid": "657d326b-e587-455b-8191-cd4653cea052"
            },
            "outputs": [
{
    "output_type": "display_data",
    "data": {
        "text/html": "(9 rows affected)"
    },
    "metadata": {}
}, {
    "output_type": "display_data",
    "data": {
        "text/html": "Total execution time: 00:00:00.042"
    },
    "metadata": {}
}, {
    "output_type": "execute_result",
    "metadata": {},
    "execution_count": 27,
    "data": {
        "application/vnd.dataresource+json": {
            "schema": {
                "fields": [
                    {
                        "name": "nev"
                    }
                ]
            },
            "data": [
                {
                    "nev": "Biró Alexander"
                },
                {
                    "nev": "Csóti Attila"
                },
                {
                    "nev": "Bagi Beáta"
                },
                {
                    "nev": "Mór Ottó"
                },
                {
                    "nev": "Molnár Eszter"
                },
                {
                    "nev": "Kiss Anita"
                },
                {
                    "nev": "Kispál Márk"
                },
                {
                    "nev": "Nagy Péter"
                },
                {
                    "nev": "Szűcs Norbert"
                }
            ]
        },
        "text/html": [
            "<table>",
            "<tr><th>nev</th></tr>",
            "<tr><td>Biró Alexander</td></tr>",
            "<tr><td>Csóti Attila</td></tr>",
            "<tr><td>Bagi Beáta</td></tr>",
            "<tr><td>Mór Ottó</td></tr>",
            "<tr><td>Molnár Eszter</td></tr>",
            "<tr><td>Kiss Anita</td></tr>",
            "<tr><td>Kispál Márk</td></tr>",
            "<tr><td>Nagy Péter</td></tr>",
            "<tr><td>Szűcs Norbert</td></tr>",
            "</table>"
        ]
    }
}
],
            "execution_count": 27
        },
        {
            "cell_type": "markdown",
            "source": [
                "8. <span style=\"background-color: rgb(255, 255, 255); color: rgb(0, 0, 0); font-family: &quot;Open Sans&quot;, sans-serif; font-size: 14.44px;\">Mennyibe kerül a második legnagyobb listaárú termék?</span>"
            ],
            "metadata": {
                "azdata_cell_guid": "27a3d3dc-eafb-4a5e-b103-9f465b9eda8f"
            },
            "attachments": {}
        },
        {
            "cell_type": "code",
            "source": [
                ""
            ],
            "metadata": {
                "azdata_cell_guid": "f09edb3f-649b-4a96-958e-9e12774ae8b7",
                "language": "sql"
            },
            "outputs": [
                {
                    "output_type": "display_data",
                    "data": {
                        "text/html": "Commands completed successfully."
                    },
                    "metadata": {}
                },
                {
                    "output_type": "display_data",
                    "data": {
                        "text/html": "Total execution time: 00:00:00"
                    },
                    "metadata": {}
                }
            ],
            "execution_count": 25
        },
        {
            "cell_type": "markdown",
            "source": [
                "9. <span style=\"background-color: rgb(255, 255, 255); color: rgb(0, 0, 0); font-family: &quot;Open Sans&quot;, sans-serif; font-size: 14.44px;\">Melyik raktár(ak)ban van az a termék, amelyből a legnagyobb készlet van?&nbsp;</span> \n",
                "\n",
                "a. Csak a raktár(ak) neve jelenjen meg!"
            ],
            "metadata": {
                "azdata_cell_guid": "f12a331a-0e26-4d3d-9c68-812316286577"
            },
            "attachments": {}
        },
        {
            "cell_type": "code",
            "source": [
                ""
            ],
            "metadata": {
                "azdata_cell_guid": "10a77fc9-e61a-46fc-a401-59720d82bc50",
                "language": "sql"
            },
            "outputs": [],
            "execution_count": null
        },
        {
            "cell_type": "markdown",
            "source": [
                "10. <span style=\"background-color: rgb(255, 255, 255); color: rgb(0, 0, 0); font-family: &quot;Open Sans&quot;, sans-serif; font-size: 14.44px;\">Melyek azok a termékek, amelyek listaára nagyobb, mint bármelyik olyan terméké, amelynek nevében az Ajándék szó szerepel?&nbsp;</span> \n",
                "\n",
                "a. A termékek kódját és nevét is jelenítsük meg!"
            ],
            "metadata": {
                "azdata_cell_guid": "9229e2b6-e200-4499-b95b-2d0222149831"
            },
            "attachments": {}
        },
        {
            "cell_type": "code",
            "source": [
                ""
            ],
            "metadata": {
                "azdata_cell_guid": "8b49ed67-28c6-4880-82a8-cd369e5bba99",
                "language": "sql"
            },
            "outputs": [],
            "execution_count": null
        },
        {
            "cell_type": "markdown",
            "source": [
                "11. <span style=\"background-color: rgb(255, 255, 255); color: rgb(0, 0, 0); font-family: &quot;Open Sans&quot;, sans-serif; font-size: 14.44px;\">Melyik hónapokban adtak le az ügyfelek több rendelést, mint januárban?&nbsp;</span> \n",
                "\n",
                "a. Elég a hónapok sorszámait megjeleníteni. \n",
                "\n",
                "b. A listát rendezzük a hónapok száma szerint növekvő sorrendbe!"
            ],
            "metadata": {
                "azdata_cell_guid": "7f5fc7a7-3b6a-4d89-b292-490830afb0c6"
            },
            "attachments": {}
        },
        {
            "cell_type": "code",
            "source": [
                ""
            ],
            "metadata": {
                "azdata_cell_guid": "4a9ece40-f782-4c0d-92cd-9c21969067ed",
                "language": "sql"
            },
            "outputs": [],
            "execution_count": null
        },
        {
            "cell_type": "markdown",
            "source": [
                "12. <span style=\"background-color: rgb(255, 255, 255); color: rgb(0, 0, 0); font-family: &quot;Open Sans&quot;, sans-serif; font-size: 14.44px;\">Melyek azok a termékek, amelyek listaára az átlagostól max. 20%-kal tér el?&nbsp;</span> \n",
                "\n",
                "a. A termék kódját és nevét is jelenítsük meg!"
            ],
            "metadata": {
                "azdata_cell_guid": "5a483c52-bb98-44bb-bd03-1146d4b0abfa"
            },
            "attachments": {}
        },
        {
            "cell_type": "code",
            "source": [
                ""
            ],
            "metadata": {
                "azdata_cell_guid": "dd6e89bd-08f9-4b18-8460-03c45b503df0",
                "language": "sql"
            },
            "outputs": [],
            "execution_count": null
        },
        {
            "cell_type": "markdown",
            "source": [
                "13. <span style=\"background-color: rgb(255, 255, 255); color: rgb(0, 0, 0); font-family: &quot;Open Sans&quot;, sans-serif; font-size: 14.44px;\">Készítsünk listát (sorszámonként) az egyes rendelések teljes összegéről!&nbsp;</span> \n",
                "\n",
                "a. Szűrjünk azon tételekre, ahol ez az érték nagyobb, mint Viktor Éva rendeléseinek teljes összege! \n",
                "\n",
                "b. A teljes összeg oszlopot nevezzük el értelemszerűen!"
            ],
            "metadata": {
                "azdata_cell_guid": "85d5cb66-96c6-42de-99cf-85ab22d08548"
            },
            "attachments": {}
        },
        {
            "cell_type": "code",
            "source": [
                ""
            ],
            "metadata": {
                "azdata_cell_guid": "cb07d64b-0eaa-498b-b4d2-0b46971e95ce",
                "language": "sql"
            },
            "outputs": [],
            "execution_count": null
        },
        {
            "cell_type": "markdown",
            "source": [
                "14. <span style=\"background-color: rgb(255, 255, 255); color: rgb(0, 0, 0); font-family: &quot;Open Sans&quot;, sans-serif; font-size: 14.44px;\">Listázzuk azokat a termékkategóriákat, amelyből 2017 januárban nem történt rendelés!&nbsp;</span> \n",
                "\n",
                "a. Elég a kategóriák nevét megjeleníteni!"
            ],
            "metadata": {
                "azdata_cell_guid": "f95ad665-a807-4099-bf06-64ed974f866f"
            },
            "attachments": {}
        },
        {
            "cell_type": "code",
            "source": [
                ""
            ],
            "metadata": {
                "azdata_cell_guid": "74c7ec8a-ae4a-4d03-b1c4-e8f6bb1be12c",
                "language": "sql"
            },
            "outputs": [],
            "execution_count": null
        },
        {
            "cell_type": "markdown",
            "source": [
                "15. <span style=\"background-color: rgb(255, 255, 255); color: rgb(0, 0, 0); font-family: &quot;Open Sans&quot;, sans-serif; font-size: 14.44px;\">Listázzuk azon rendelési tételeket, amelynek értéke nagyobb, mint a legdrágább termék listaára azon termékek közül, amelyek szülő kategóriája a ruha!</span>"
            ],
            "metadata": {
                "azdata_cell_guid": "93552388-ffec-49ff-99e5-ae8dc8072601"
            },
            "attachments": {}
        },
        {
            "cell_type": "code",
            "source": [
                ""
            ],
            "metadata": {
                "azdata_cell_guid": "0e7f547f-7d96-4611-b1c2-0fa84a581e79",
                "language": "sql"
            },
            "outputs": [],
            "execution_count": null
        }
    ]
}