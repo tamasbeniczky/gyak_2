{
    "metadata": {
        "kernelspec": {
            "name": "SQL",
            "display_name": "SQL",
            "language": "sql"
        },
        "language_info": {
            "name": "sql",
            "version": ""
        }
    },
    "nbformat_minor": 2,
    "nbformat": 4,
    "cells": [
        {
            "cell_type": "code",
            "source": [
                "SELECT \r\n",
                "FROM Ugyfel u JOIN foglalas f on \n",
                "join szoba sz ON\n",
                "join szallashely szh on "
            ],
            "metadata": {
                "azdata_cell_guid": "06a9a315-7b2b-475f-b23e-59b0bb53f874",
                "language": "sql"
            },
            "outputs": [],
            "execution_count": null
        }
    ]
}