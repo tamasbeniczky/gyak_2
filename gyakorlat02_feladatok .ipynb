{
    "metadata": {
        "kernelspec": {
            "name": "SQL",
            "display_name": "SQL",
            "language": "sql"
        },
        "language_info": {
            "name": "sql",
            "version": ""
        },
        "extensions": {
            "azuredatastudio": {
                "version": 1,
                "views": []
            }
        }
    },
    "nbformat_minor": 2,
    "nbformat": 4,
    "cells": [
        {
            "cell_type": "markdown",
            "source": [
                "1. <span style=\"color:rgb(36, 41, 47);font-family:-apple-system, BlinkMacSystemFont, &quot;Segoe UI&quot;, Helvetica, Arial, sans-serif, &quot;Apple Color Emoji&quot;, &quot;Segoe UI Emoji&quot;;font-size:16px;\">Készítsünk lekérdezést, amely listázza, hogy mely napokon hány db kölcsönzés történt!</span>\n",
                "\n",
                "<span style=\"font-size: 16px;\">a.&nbsp;</span> Az oszlopok neve legyen 'Dátum' és 'Kölcsönzések száma'  \n",
                "b. A listát rendezzük a kölcsönzés dátuma szerint csökkenő sorrendbe!"
            ],
            "metadata": {
                "azdata_cell_guid": "77f2d5b3-38e9-41cc-893f-f5afd02b97ef"
            },
            "attachments": {}
        },
        {
            "cell_type": "code",
            "source": [
                "--dvd magyar\r\n",
                "SELECT ki_datum as Dátum,\r\n",
                "    --hany darab\r\n",
                "    COUNT(*) AS 'Kölcsönzések száma'\r\n",
                "From kolcsonzesek\r\n",
                "GROUP BY ki_datum\r\n",
                "ORDER BY ki_datum DESC"
            ],
            "metadata": {
                "azdata_cell_guid": "bd3cef1a-4e6e-4ece-9dc3-aaa9d2b5d66d",
                "language": "sql"
            },
            "outputs": [
                {
                    "output_type": "display_data",
                    "data": {
                        "text/html": "(3 rows affected)"
                    },
                    "metadata": {}
                },
                {
                    "output_type": "display_data",
                    "data": {
                        "text/html": "Total execution time: 00:00:00.009"
                    },
                    "metadata": {}
                },
                {
                    "output_type": "execute_result",
                    "execution_count": 7,
                    "data": {
                        "application/vnd.dataresource+json": {
                            "schema": {
                                "fields": [
                                    {
                                        "name": "Dátum"
                                    },
                                    {
                                        "name": "Kölcsönzések száma"
                                    }
                                ]
                            },
                            "data": [
                                {
                                    "Dátum": "2006-10-02",
                                    "Kölcsönzések száma": "1"
                                },
                                {
                                    "Dátum": "2006-10-01",
                                    "Kölcsönzések száma": "1"
                                },
                                {
                                    "Dátum": "2003-12-11",
                                    "Kölcsönzések száma": "3"
                                }
                            ]
                        },
                        "text/html": "<table><tr><th>Dátum</th><th>Kölcsönzések száma</th></tr><tr><td>2006-10-02</td><td>1</td></tr><tr><td>2006-10-01</td><td>1</td></tr><tr><td>2003-12-11</td><td>3</td></tr></table>"
                    },
                    "metadata": {}
                }
            ],
            "execution_count": 7
        },
        {
            "cell_type": "markdown",
            "source": [
                "2. <span style=\"font-weight: 600; color: rgb(36, 41, 47); font-family: -apple-system, BlinkMacSystemFont, &quot;Segoe UI&quot;, Helvetica, Arial, sans-serif, &quot;Apple Color Emoji&quot;, &quot;Segoe UI Emoji&quot;; font-size: 16px;\">Mennyi a dvd-k átlagos ára stílusonkénti bontásban?</span>\n",
                "\n",
                "1. Csak azokat a stílusokat vegyük figyelembe, ahol az átlagos ár 4500 Ft feletti!\n",
                "2. Az oszlopokat nevezzük el értelemszerűen!\n",
                "3. A listát rendezzük átlagos ár szerint csökkenő sorrendbe!"
            ],
            "metadata": {
                "azdata_cell_guid": "88f5b4bb-f4c1-4bad-a0c7-b2592687b422"
            },
            "attachments": {}
        },
        {
            "cell_type": "code",
            "source": [
                "SELECT stilus,\r\n",
                "    AVG(nettoar) AS 'Átlagos ár'\r\n",
                "FROM dvd\r\n",
                "-- sorokra vonatkozó feltétel: WHERE\r\n",
                "GROUP BY stilus\r\n",
                "-- csoportokra vonatkozó feltétel: HAVING\r\n",
                "HAVING AVG(nettoar) > 4500\r\n",
                "ORDER BY AVG(nettoar) DESC\r\n",
                "\r\n",
                ""
            ],
            "metadata": {
                "azdata_cell_guid": "e9de5726-f036-4fb9-8c33-a873955ed886",
                "language": "sql",
                "tags": []
            },
            "outputs": [
                {
                    "output_type": "display_data",
                    "data": {
                        "text/html": "(30 rows affected)"
                    },
                    "metadata": {}
                },
                {
                    "output_type": "display_data",
                    "data": {
                        "text/html": "Total execution time: 00:00:00.014"
                    },
                    "metadata": {}
                },
                {
                    "output_type": "execute_result",
                    "execution_count": 10,
                    "data": {
                        "application/vnd.dataresource+json": {
                            "schema": {
                                "fields": [
                                    {
                                        "name": "stilus"
                                    },
                                    {
                                        "name": "Átlagos ár"
                                    }
                                ]
                            },
                            "data": [
                                {
                                    "stilus": "ásványtan",
                                    "Átlagos ár": "5624"
                                },
                                {
                                    "stilus": "játék (rodeó)",
                                    "Átlagos ár": "5591"
                                },
                                {
                                    "stilus": "humor",
                                    "Átlagos ár": "5573"
                                },
                                {
                                    "stilus": "környezetvédelem",
                                    "Átlagos ár": "5508"
                                },
                                {
                                    "stilus": "kresz",
                                    "Átlagos ár": "5476"
                                },
                                {
                                    "stilus": "játék (jégkorong)",
                                    "Átlagos ár": "5242"
                                },
                                {
                                    "stilus": "színház",
                                    "Átlagos ár": "5158"
                                },
                                {
                                    "stilus": "múvészet",
                                    "Átlagos ár": "5118"
                                },
                                {
                                    "stilus": "kémia",
                                    "Átlagos ár": "5094"
                                },
                                {
                                    "stilus": "fordító program",
                                    "Átlagos ár": "5036"
                                },
                                {
                                    "stilus": "kerttervező",
                                    "Átlagos ár": "4951"
                                },
                                {
                                    "stilus": "művészet",
                                    "Átlagos ár": "4939,25"
                                },
                                {
                                    "stilus": "festészet",
                                    "Átlagos ár": "4901"
                                },
                                {
                                    "stilus": "zene",
                                    "Átlagos ár": "4855,333333333333"
                                },
                                {
                                    "stilus": "játék",
                                    "Átlagos ár": "4850,466666666666"
                                },
                                {
                                    "stilus": "játék (labdarúgás)",
                                    "Átlagos ár": "4817,333333333333"
                                },
                                {
                                    "stilus": "állattan",
                                    "Átlagos ár": "4783,666666666667"
                                },
                                {
                                    "stilus": "nyelvtan",
                                    "Átlagos ár": "4770,666666666667"
                                },
                                {
                                    "stilus": "fizika",
                                    "Átlagos ár": "4769"
                                },
                                {
                                    "stilus": "nyelvtanító",
                                    "Átlagos ár": "4759,476190476191"
                                },
                                {
                                    "stilus": "csillagászat",
                                    "Átlagos ár": "4733,571428571428"
                                },
                                {
                                    "stilus": "ismeretterjesztő",
                                    "Átlagos ár": "4726,673913043478"
                                },
                                {
                                    "stilus": "irodalom, nyelv",
                                    "Átlagos ár": "4704"
                                },
                                {
                                    "stilus": "gasztronómia",
                                    "Átlagos ár": "4691"
                                },
                                {
                                    "stilus": "történelem",
                                    "Átlagos ár": "4655,731707317073"
                                },
                                {
                                    "stilus": "szótár",
                                    "Átlagos ár": "4624,428571428572"
                                },
                                {
                                    "stilus": "sport",
                                    "Átlagos ár": "4607"
                                },
                                {
                                    "stilus": "földrajz",
                                    "Átlagos ár": "4580,0625"
                                },
                                {
                                    "stilus": "matematika",
                                    "Átlagos ár": "4520,777777777777"
                                },
                                {
                                    "stilus": "felvételi",
                                    "Átlagos ár": "4501,333333333333"
                                }
                            ]
                        },
                        "text/html": "<table><tr><th>stilus</th><th>Átlagos ár</th></tr><tr><td>ásványtan</td><td>5624</td></tr><tr><td>játék (rodeó)</td><td>5591</td></tr><tr><td>humor</td><td>5573</td></tr><tr><td>környezetvédelem</td><td>5508</td></tr><tr><td>kresz</td><td>5476</td></tr><tr><td>játék (jégkorong)</td><td>5242</td></tr><tr><td>színház</td><td>5158</td></tr><tr><td>múvészet</td><td>5118</td></tr><tr><td>kémia</td><td>5094</td></tr><tr><td>fordító program</td><td>5036</td></tr><tr><td>kerttervező</td><td>4951</td></tr><tr><td>művészet</td><td>4939,25</td></tr><tr><td>festészet</td><td>4901</td></tr><tr><td>zene</td><td>4855,333333333333</td></tr><tr><td>játék</td><td>4850,466666666666</td></tr><tr><td>játék (labdarúgás)</td><td>4817,333333333333</td></tr><tr><td>állattan</td><td>4783,666666666667</td></tr><tr><td>nyelvtan</td><td>4770,666666666667</td></tr><tr><td>fizika</td><td>4769</td></tr><tr><td>nyelvtanító</td><td>4759,476190476191</td></tr><tr><td>csillagászat</td><td>4733,571428571428</td></tr><tr><td>ismeretterjesztő</td><td>4726,673913043478</td></tr><tr><td>irodalom, nyelv</td><td>4704</td></tr><tr><td>gasztronómia</td><td>4691</td></tr><tr><td>történelem</td><td>4655,731707317073</td></tr><tr><td>szótár</td><td>4624,428571428572</td></tr><tr><td>sport</td><td>4607</td></tr><tr><td>földrajz</td><td>4580,0625</td></tr><tr><td>matematika</td><td>4520,777777777777</td></tr><tr><td>felvételi</td><td>4501,333333333333</td></tr></table>"
                    },
                    "metadata": {}
                }
            ],
            "execution_count": 10
        },
        {
            "cell_type": "markdown",
            "source": [
                "3. <span style=\"color:rgb(36, 41, 47);font-family:-apple-system, BlinkMacSystemFont, &quot;Segoe UI&quot;, Helvetica, Arial, sans-serif, &quot;Apple Color Emoji&quot;, &quot;Segoe UI Emoji&quot;;font-size:16px;\">Listázzuk nyelvenkénti, azon belül stílusonkénti bontásban, hogy mennyi a dvd-k legkisebb és legnagyobb ára!&nbsp;</span> \n",
                "\n",
                "<span style=\"font-size: 16px;\">a. Az oszlopok neve legyen 'Nyelv', 'Stílus', 'MinÁr' és 'MaxÁr'!<br>b.&nbsp;</span> A listából hagyjuk ki azokat a sorokat, ahol a nyelv vagy a stílus nincs megadva!  \n",
                "c. Szintén hagyjuk ki azokat a csoportokat, ahol a csoport elemszáma 3-nál kisebb!"
            ],
            "metadata": {
                "azdata_cell_guid": "9e7249de-1b59-43d8-84b1-26fa7d81fc5a"
            },
            "attachments": {}
        },
        {
            "cell_type": "code",
            "source": [
                "   SELECT lang AS 'Nyelv',\r\n",
                "          stilus AS 'Stílus',\r\n",
                "\t\t  MIN(nettoar) AS 'MinÁr',\r\n",
                "\t\t  MAX(nettoar) AS 'MaxÁr'\r\n",
                "   FROM dvd\r\n",
                "   WHERE lang IS NOT NULL AND stilus IS NOT NULL\r\n",
                "   GROUP BY lang, stilus\r\n",
                "   HAVING COUNT(*)>=3"
            ],
            "metadata": {
                "azdata_cell_guid": "6405d3e8-a9b1-45d7-aa76-3b1e785ef6cc",
                "language": "sql",
                "tags": []
            },
            "outputs": [
                {
                    "output_type": "display_data",
                    "data": {
                        "text/html": "(25 rows affected)"
                    },
                    "metadata": {}
                },
                {
                    "output_type": "display_data",
                    "data": {
                        "text/html": "Total execution time: 00:00:00.020"
                    },
                    "metadata": {}
                },
                {
                    "output_type": "execute_result",
                    "execution_count": 40,
                    "data": {
                        "application/vnd.dataresource+json": {
                            "schema": {
                                "fields": [
                                    {
                                        "name": "Nyelv"
                                    },
                                    {
                                        "name": "Stílus"
                                    },
                                    {
                                        "name": "MinÁr"
                                    },
                                    {
                                        "name": "MaxÁr"
                                    }
                                ]
                            },
                            "data": [
                                {
                                    "Nyelv": "1",
                                    "Stílus": "állattan",
                                    "MinÁr": "4153",
                                    "MaxÁr": "5235"
                                },
                                {
                                    "Nyelv": "1",
                                    "Stílus": "biológia",
                                    "MinÁr": "3482",
                                    "MaxÁr": "5543"
                                },
                                {
                                    "Nyelv": "1",
                                    "Stílus": "csillagászat",
                                    "MinÁr": "3582",
                                    "MaxÁr": "5992"
                                },
                                {
                                    "Nyelv": "1",
                                    "Stílus": "felvételi",
                                    "MinÁr": "3215",
                                    "MaxÁr": "5955"
                                },
                                {
                                    "Nyelv": "1",
                                    "Stílus": "fizika",
                                    "MinÁr": "3734",
                                    "MaxÁr": "5763"
                                },
                                {
                                    "Nyelv": "1",
                                    "Stílus": "földrajz",
                                    "MinÁr": "3123",
                                    "MaxÁr": "6065"
                                },
                                {
                                    "Nyelv": "1",
                                    "Stílus": "gasztronómia",
                                    "MinÁr": "3258",
                                    "MaxÁr": "5706"
                                },
                                {
                                    "Nyelv": "1",
                                    "Stílus": "irodalom",
                                    "MinÁr": "3391",
                                    "MaxÁr": "5654"
                                },
                                {
                                    "Nyelv": "1",
                                    "Stílus": "ismeretterjesztő",
                                    "MinÁr": "3256",
                                    "MaxÁr": "6072"
                                },
                                {
                                    "Nyelv": "2",
                                    "Stílus": "ismeretterjesztő",
                                    "MinÁr": "5334",
                                    "MaxÁr": "5900"
                                },
                                {
                                    "Nyelv": "1",
                                    "Stílus": "játék",
                                    "MinÁr": "3110",
                                    "MaxÁr": "6078"
                                },
                                {
                                    "Nyelv": "2",
                                    "Stílus": "játék",
                                    "MinÁr": "3144",
                                    "MaxÁr": "6062"
                                },
                                {
                                    "Nyelv": "2",
                                    "Stílus": "játék (autóverseny)",
                                    "MinÁr": "3106",
                                    "MaxÁr": "5005"
                                },
                                {
                                    "Nyelv": "1",
                                    "Stílus": "matematika",
                                    "MinÁr": "3105",
                                    "MaxÁr": "5995"
                                },
                                {
                                    "Nyelv": "1",
                                    "Stílus": "művészet",
                                    "MinÁr": "3490",
                                    "MaxÁr": "6098"
                                },
                                {
                                    "Nyelv": "1",
                                    "Stílus": "nyelvtan",
                                    "MinÁr": "3688",
                                    "MaxÁr": "5845"
                                },
                                {
                                    "Nyelv": "2",
                                    "Stílus": "nyelvtanító",
                                    "MinÁr": "3115",
                                    "MaxÁr": "6068"
                                },
                                {
                                    "Nyelv": "3",
                                    "Stílus": "nyelvtanító",
                                    "MinÁr": "3313",
                                    "MaxÁr": "5990"
                                },
                                {
                                    "Nyelv": "4",
                                    "Stílus": "nyelvtanító",
                                    "MinÁr": "3419",
                                    "MaxÁr": "6082"
                                },
                                {
                                    "Nyelv": "6",
                                    "Stílus": "nyelvtanító",
                                    "MinÁr": "3775",
                                    "MaxÁr": "5882"
                                },
                                {
                                    "Nyelv": "7",
                                    "Stílus": "nyelvtanító",
                                    "MinÁr": "3770",
                                    "MaxÁr": "5619"
                                },
                                {
                                    "Nyelv": "1",
                                    "Stílus": "számítástechnika",
                                    "MinÁr": "3277",
                                    "MaxÁr": "5260"
                                },
                                {
                                    "Nyelv": "2",
                                    "Stílus": "szótár",
                                    "MinÁr": "3509",
                                    "MaxÁr": "5638"
                                },
                                {
                                    "Nyelv": "1",
                                    "Stílus": "történelem",
                                    "MinÁr": "3122",
                                    "MaxÁr": "6084"
                                },
                                {
                                    "Nyelv": "1",
                                    "Stílus": "zene",
                                    "MinÁr": "3391",
                                    "MaxÁr": "5730"
                                }
                            ]
                        },
                        "text/html": "<table><tr><th>Nyelv</th><th>Stílus</th><th>MinÁr</th><th>MaxÁr</th></tr><tr><td>1</td><td>állattan</td><td>4153</td><td>5235</td></tr><tr><td>1</td><td>biológia</td><td>3482</td><td>5543</td></tr><tr><td>1</td><td>csillagászat</td><td>3582</td><td>5992</td></tr><tr><td>1</td><td>felvételi</td><td>3215</td><td>5955</td></tr><tr><td>1</td><td>fizika</td><td>3734</td><td>5763</td></tr><tr><td>1</td><td>földrajz</td><td>3123</td><td>6065</td></tr><tr><td>1</td><td>gasztronómia</td><td>3258</td><td>5706</td></tr><tr><td>1</td><td>irodalom</td><td>3391</td><td>5654</td></tr><tr><td>1</td><td>ismeretterjesztő</td><td>3256</td><td>6072</td></tr><tr><td>2</td><td>ismeretterjesztő</td><td>5334</td><td>5900</td></tr><tr><td>1</td><td>játék</td><td>3110</td><td>6078</td></tr><tr><td>2</td><td>játék</td><td>3144</td><td>6062</td></tr><tr><td>2</td><td>játék (autóverseny)</td><td>3106</td><td>5005</td></tr><tr><td>1</td><td>matematika</td><td>3105</td><td>5995</td></tr><tr><td>1</td><td>művészet</td><td>3490</td><td>6098</td></tr><tr><td>1</td><td>nyelvtan</td><td>3688</td><td>5845</td></tr><tr><td>2</td><td>nyelvtanító</td><td>3115</td><td>6068</td></tr><tr><td>3</td><td>nyelvtanító</td><td>3313</td><td>5990</td></tr><tr><td>4</td><td>nyelvtanító</td><td>3419</td><td>6082</td></tr><tr><td>6</td><td>nyelvtanító</td><td>3775</td><td>5882</td></tr><tr><td>7</td><td>nyelvtanító</td><td>3770</td><td>5619</td></tr><tr><td>1</td><td>számítástechnika</td><td>3277</td><td>5260</td></tr><tr><td>2</td><td>szótár</td><td>3509</td><td>5638</td></tr><tr><td>1</td><td>történelem</td><td>3122</td><td>6084</td></tr><tr><td>1</td><td>zene</td><td>3391</td><td>5730</td></tr></table>"
                    },
                    "metadata": {}
                }
            ],
            "execution_count": 40
        },
        {
            "cell_type": "code",
            "source": [
                "SELECT t.Tantárgynév AS 'Tantárgynév', o.targy\r\n",
                "FROM Tantárgyak t LEFT JOIN Orak o ON t.Tkód = o.targy\r\n",
                "WHERE o.targy IS NULL"
            ],
            "metadata": {
                "azdata_cell_guid": "2ce41889-4dfe-4adc-be24-2c04662fcc97",
                "language": "sql"
            },
            "outputs": [
{
    "output_type": "display_data",
    "data": {
        "text/html": "(1 row affected)"
    },
    "metadata": {}
}, {
    "output_type": "display_data",
    "data": {
        "text/html": "Total execution time: 00:00:00.008"
    },
    "metadata": {}
}, {
    "output_type": "execute_result",
    "metadata": {},
    "execution_count": 3,
    "data": {
        "application/vnd.dataresource+json": {
            "schema": {
                "fields": [
                    {
                        "name": "Tantárgynév"
                    },
                    {
                        "name": "targy"
                    }
                ]
            },
            "data": [
                {
                    "Tantárgynév": "Folyami gáttan",
                    "targy": "NULL"
                }
            ]
        },
        "text/html": [
            "<table>",
            "<tr><th>Tantárgynév</th><th>targy</th></tr>",
            "<tr><td>Folyami gáttan</td><td>NULL</td></tr>",
            "</table>"
        ]
    }
}
],
            "execution_count": 3
        },
        {
            "cell_type": "markdown",
            "source": [
                "4. <span style=\"color: rgb(36, 41, 47); font-family: -apple-system, BlinkMacSystemFont, &quot;Segoe UI&quot;, Helvetica, Arial, sans-serif, &quot;Apple Color Emoji&quot;, &quot;Segoe UI Emoji&quot;; font-size: 16px;\">Készítsünk listát, amely a csoportokat hoz létre aszerint, hogy a mai naptól számítva hány nap telt el a kölcsönzés kezdete óta. A lista jelenítse meg csoportonkénti bontásban a kikölcsönzött dvd-k számát!</span>\n",
                "\n",
                "1. Az oszlopokat nevezzük el értelemszerűen!\n",
                "2. A listát rendezzük az eltelt napok száma szerint csökkenő sorrendbe!"
            ],
            "metadata": {
                "azdata_cell_guid": "6478e469-c094-472c-a772-ccd5b5c61516"
            },
            "attachments": {}
        },
        {
            "cell_type": "code",
            "source": [
                "SELECT DATEDIFF(day, ki_datum, GETDATE()) AS 'Eltelt napok száma', \r\n",
                "        COUNT(*) AS 'DB'\r\n",
                "FROM kolcsonzesek\r\n",
                "GROUP BY DATEDIFF(day, ki_datum, GETDATE())\r\n",
                "ORDER BY 1 DESC"
            ],
            "metadata": {
                "azdata_cell_guid": "02031ea2-3838-458d-839c-228e3b362b61",
                "language": "sql",
                "tags": []
            },
            "outputs": [
                {
                    "output_type": "display_data",
                    "data": {
                        "text/html": "(3 rows affected)"
                    },
                    "metadata": {}
                },
                {
                    "output_type": "display_data",
                    "data": {
                        "text/html": "Total execution time: 00:00:00.013"
                    },
                    "metadata": {}
                },
                {
                    "output_type": "execute_result",
                    "execution_count": 45,
                    "data": {
                        "application/vnd.dataresource+json": {
                            "schema": {
                                "fields": [
                                    {
                                        "name": "Eltelt napok száma"
                                    },
                                    {
                                        "name": "DB"
                                    }
                                ]
                            },
                            "data": [
                                {
                                    "Eltelt napok száma": "7390",
                                    "DB": "3"
                                },
                                {
                                    "Eltelt napok száma": "6365",
                                    "DB": "1"
                                },
                                {
                                    "Eltelt napok száma": "6364",
                                    "DB": "1"
                                }
                            ]
                        },
                        "text/html": "<table><tr><th>Eltelt napok száma</th><th>DB</th></tr><tr><td>7390</td><td>3</td></tr><tr><td>6365</td><td>1</td></tr><tr><td>6364</td><td>1</td></tr></table>"
                    },
                    "metadata": {}
                }
            ],
            "execution_count": 45
        },
        {
            "cell_type": "markdown",
            "source": [
                "5. <span style=\"color: rgb(36, 41, 47); font-family: -apple-system, BlinkMacSystemFont, &quot;Segoe UI&quot;, Helvetica, Arial, sans-serif, &quot;Apple Color Emoji&quot;, &quot;Segoe UI Emoji&quot;; font-size: 16px;\">A kölcsönző tulajdonosa elhatározza, hogy ezentúl kerekebb árakat alkalmaz. Ezért minden dvd árát 1000 Ft-ra kerekíti. Készítsünk lekérdezést, amely megmutatja, hogy melyik 1000 Ft-ra kerekített ár szerint, azon belül stílus szerint hány db dvd összesen raktáron! **</span>\n",
                "\n",
                "1. Csak olyan csoportokat listázzunk, ahol a raktárkészlet legalább 30!\n",
                "2. A listát rendezzük kerekített ár szerint, azon belül raktárkészlet szerint növekvő sorrendbe!"
            ],
            "metadata": {
                "azdata_cell_guid": "9edbbaf9-c276-4898-9a01-e1b2993c089f"
            },
            "attachments": {}
        },
        {
            "cell_type": "code",
            "source": [
                "SELECT ROUND(nettoar, -3) AS 'Kerekített ár',\r\n",
                "        stilus,\r\n",
                "\t\t SUM([raktár készlet]) AS 'Raktár készlet'\r\n",
                "  FROM dvd\r\n",
                "    GROUP BY ROUND(nettoar, -3), stilus\r\n",
                "  HAVING SUM([raktár készlet]) > 30\r\n",
                "  ORDER BY 1, 3"
            ],
            "metadata": {
                "azdata_cell_guid": "5ad5fdcb-2878-4111-861a-833bcd50e935",
                "language": "sql"
            },
            "outputs": [
                {
                    "output_type": "display_data",
                    "data": {
                        "text/html": "(19 rows affected)"
                    },
                    "metadata": {}
                },
                {
                    "output_type": "display_data",
                    "data": {
                        "text/html": "Total execution time: 00:00:00.016"
                    },
                    "metadata": {}
                },
                {
                    "output_type": "execute_result",
                    "execution_count": 64,
                    "data": {
                        "application/vnd.dataresource+json": {
                            "schema": {
                                "fields": [
                                    {
                                        "name": "Kerekített ár"
                                    },
                                    {
                                        "name": "stilus"
                                    },
                                    {
                                        "name": "Raktár készlet"
                                    }
                                ]
                            },
                            "data": [
                                {
                                    "Kerekített ár": "3000",
                                    "stilus": "játék",
                                    "Raktár készlet": "40"
                                },
                                {
                                    "Kerekített ár": "3000",
                                    "stilus": "történelem",
                                    "Raktár készlet": "40"
                                },
                                {
                                    "Kerekített ár": "3000",
                                    "stilus": "ismeretterjesztő",
                                    "Raktár készlet": "70"
                                },
                                {
                                    "Kerekített ár": "4000",
                                    "stilus": "csillagászat",
                                    "Raktár készlet": "40"
                                },
                                {
                                    "Kerekített ár": "4000",
                                    "stilus": "földrajz",
                                    "Raktár készlet": "50"
                                },
                                {
                                    "Kerekített ár": "4000",
                                    "stilus": "irodalom",
                                    "Raktár készlet": "90"
                                },
                                {
                                    "Kerekített ár": "4000",
                                    "stilus": "ismeretterjesztő",
                                    "Raktár készlet": "130"
                                },
                                {
                                    "Kerekített ár": "4000",
                                    "stilus": "nyelvtanító",
                                    "Raktár készlet": "140"
                                },
                                {
                                    "Kerekített ár": "4000",
                                    "stilus": "történelem",
                                    "Raktár készlet": "160"
                                },
                                {
                                    "Kerekített ár": "4000",
                                    "stilus": "játék",
                                    "Raktár készlet": "180"
                                },
                                {
                                    "Kerekített ár": "5000",
                                    "stilus": "földrajz",
                                    "Raktár készlet": "60"
                                },
                                {
                                    "Kerekített ár": "5000",
                                    "stilus": "történelem",
                                    "Raktár készlet": "120"
                                },
                                {
                                    "Kerekített ár": "5000",
                                    "stilus": "nyelvtanító",
                                    "Raktár készlet": "140"
                                },
                                {
                                    "Kerekített ár": "5000",
                                    "stilus": "ismeretterjesztő",
                                    "Raktár készlet": "170"
                                },
                                {
                                    "Kerekített ár": "5000",
                                    "stilus": "játék",
                                    "Raktár készlet": "210"
                                },
                                {
                                    "Kerekített ár": "6000",
                                    "stilus": "történelem",
                                    "Raktár készlet": "88"
                                },
                                {
                                    "Kerekített ár": "6000",
                                    "stilus": "ismeretterjesztő",
                                    "Raktár készlet": "90"
                                },
                                {
                                    "Kerekített ár": "6000",
                                    "stilus": "nyelvtanító",
                                    "Raktár készlet": "110"
                                },
                                {
                                    "Kerekített ár": "6000",
                                    "stilus": "játék",
                                    "Raktár készlet": "170"
                                }
                            ]
                        },
                        "text/html": "<table><tr><th>Kerekített ár</th><th>stilus</th><th>Raktár készlet</th></tr><tr><td>3000</td><td>játék</td><td>40</td></tr><tr><td>3000</td><td>történelem</td><td>40</td></tr><tr><td>3000</td><td>ismeretterjesztő</td><td>70</td></tr><tr><td>4000</td><td>csillagászat</td><td>40</td></tr><tr><td>4000</td><td>földrajz</td><td>50</td></tr><tr><td>4000</td><td>irodalom</td><td>90</td></tr><tr><td>4000</td><td>ismeretterjesztő</td><td>130</td></tr><tr><td>4000</td><td>nyelvtanító</td><td>140</td></tr><tr><td>4000</td><td>történelem</td><td>160</td></tr><tr><td>4000</td><td>játék</td><td>180</td></tr><tr><td>5000</td><td>földrajz</td><td>60</td></tr><tr><td>5000</td><td>történelem</td><td>120</td></tr><tr><td>5000</td><td>nyelvtanító</td><td>140</td></tr><tr><td>5000</td><td>ismeretterjesztő</td><td>170</td></tr><tr><td>5000</td><td>játék</td><td>210</td></tr><tr><td>6000</td><td>történelem</td><td>88</td></tr><tr><td>6000</td><td>ismeretterjesztő</td><td>90</td></tr><tr><td>6000</td><td>nyelvtanító</td><td>110</td></tr><tr><td>6000</td><td>játék</td><td>170</td></tr></table>"
                    },
                    "metadata": {}
                }
            ],
            "execution_count": 64
        },
        {
            "cell_type": "markdown",
            "source": [
                "6. <span style=\"font-weight: 600; color: rgb(36, 41, 47); font-family: -apple-system, BlinkMacSystemFont, &quot;Segoe UI&quot;, Helvetica, Arial, sans-serif, &quot;Apple Color Emoji&quot;, &quot;Segoe UI Emoji&quot;; font-size: 16px;\">A dvd-ket csoportosíthatjuk aszerint, hogy milyen hosszú a címük. Amelyiknél a cím hosszúsága 10 karakter alatt van, az legyen Rövid, 10-20-ig Átlagos, 20 felett Hosszú. Hány Rövid, Átlagos, illetve Hosszú dvd-van összesen raktáron?</span>\n",
                "\n",
                "1. Az oszlopok neve legyen 'Cím hosszúság' és 'Darabszám"
            ],
            "metadata": {
                "azdata_cell_guid": "5fe65c1c-2479-45ac-ad03-ec99d12eae21"
            },
            "attachments": {}
        },
        {
            "cell_type": "code",
            "source": [
                "    SELECT CASE WHEN LEN(cim)< 10 THEN 'Rövid' \r\n",
                "\t            WHEN LEN(cim) BETWEEN 10 AND 20 THEN 'Átlagos' \r\n",
                "\t\t\t\tELSE 'Hosszú'\r\n",
                "\t\t\tEND AS 'Cím hosszúság', SUM([raktár készlet]) AS 'Darabszám'\r\n",
                "\tFROM dvd\r\n",
                "\tGROUP BY CASE WHEN LEN(cim)< 10 THEN 'Rövid' \r\n",
                "\t            WHEN LEN(cim) BETWEEN 10 AND 20 THEN 'Átlagos' \r\n",
                "\t\t\t\tELSE 'Hosszú'\r\n",
                "\t\t\t END\r\n",
                "\r\n",
                ""
            ],
            "metadata": {
                "azdata_cell_guid": "924f2dde-f1c2-4def-a7f9-dbf4bace7735",
                "language": "sql"
            },
            "outputs": [
                {
                    "output_type": "display_data",
                    "data": {
                        "text/html": "(3 rows affected)"
                    },
                    "metadata": {}
                },
                {
                    "output_type": "display_data",
                    "data": {
                        "text/html": "Total execution time: 00:00:00.015"
                    },
                    "metadata": {}
                },
                {
                    "output_type": "execute_result",
                    "execution_count": 71,
                    "data": {
                        "application/vnd.dataresource+json": {
                            "schema": {
                                "fields": [
                                    {
                                        "name": "Cím hosszúság"
                                    },
                                    {
                                        "name": "Darabszám"
                                    }
                                ]
                            },
                            "data": [
                                {
                                    "Cím hosszúság": "Átlagos",
                                    "Darabszám": "930"
                                },
                                {
                                    "Cím hosszúság": "Hosszú",
                                    "Darabszám": "2128"
                                },
                                {
                                    "Cím hosszúság": "Rövid",
                                    "Darabszám": "120"
                                }
                            ]
                        },
                        "text/html": "<table><tr><th>Cím hosszúság</th><th>Darabszám</th></tr><tr><td>Átlagos</td><td>930</td></tr><tr><td>Hosszú</td><td>2128</td></tr><tr><td>Rövid</td><td>120</td></tr></table>"
                    },
                    "metadata": {}
                }
            ],
            "execution_count": 71
        },
        {
            "cell_type": "markdown",
            "source": [
                "7. <span style=\"color: rgb(36, 41, 47); font-family: -apple-system, BlinkMacSystemFont, &quot;Segoe UI&quot;, Helvetica, Arial, sans-serif, &quot;Apple Color Emoji&quot;, &quot;Segoe UI Emoji&quot;; font-size: 16px;\">Készítsünk listát arról, hogy melyik teremben hány óra van!</span>\n",
                "\n",
                "1. Jelenítsük meg a termek azonosítóit és a teremben tartott órák számát!\n",
                "2. Az oszlopokat nevezzük el értelemszerűen!\n",
                "3. Szűrjünk azokra a termekre, ahol az órák száma legalább 3!"
            ],
            "metadata": {
                "azdata_cell_guid": "3aeb6bf5-b111-40d5-92b2-9712ce335696"
            },
            "attachments": {}
        },
        {
            "cell_type": "code",
            "source": [
                "SELECT terem AS 'Teremkód',\r\n",
                "       COUNT(*) AS 'Óraszám'\r\n",
                "FROM Orak\r\n",
                "GROUP BY terem\r\n",
                "HAVING COUNT(*) >=3"
            ],
            "metadata": {
                "azdata_cell_guid": "3e89b651-f56f-4102-af52-30eb2bbe360d",
                "language": "sql"
            },
            "outputs": [
                {
                    "output_type": "display_data",
                    "data": {
                        "text/html": "(11 rows affected)"
                    },
                    "metadata": {}
                },
                {
                    "output_type": "display_data",
                    "data": {
                        "text/html": "Total execution time: 00:00:00.108"
                    },
                    "metadata": {}
                },
                {
                    "output_type": "execute_result",
                    "execution_count": 8,
                    "data": {
                        "application/vnd.dataresource+json": {
                            "schema": {
                                "fields": [
                                    {
                                        "name": "Teremkód"
                                    },
                                    {
                                        "name": "Óraszám"
                                    }
                                ]
                            },
                            "data": [
                                {
                                    "Teremkód": "2",
                                    "Óraszám": "5"
                                },
                                {
                                    "Teremkód": "3",
                                    "Óraszám": "11"
                                },
                                {
                                    "Teremkód": "4",
                                    "Óraszám": "8"
                                },
                                {
                                    "Teremkód": "5",
                                    "Óraszám": "5"
                                },
                                {
                                    "Teremkód": "6",
                                    "Óraszám": "6"
                                },
                                {
                                    "Teremkód": "7",
                                    "Óraszám": "6"
                                },
                                {
                                    "Teremkód": "8",
                                    "Óraszám": "6"
                                },
                                {
                                    "Teremkód": "10",
                                    "Óraszám": "3"
                                },
                                {
                                    "Teremkód": "12",
                                    "Óraszám": "3"
                                },
                                {
                                    "Teremkód": "13",
                                    "Óraszám": "5"
                                },
                                {
                                    "Teremkód": "14",
                                    "Óraszám": "3"
                                }
                            ]
                        },
                        "text/html": "<table><tr><th>Teremkód</th><th>Óraszám</th></tr><tr><td>2</td><td>5</td></tr><tr><td>3</td><td>11</td></tr><tr><td>4</td><td>8</td></tr><tr><td>5</td><td>5</td></tr><tr><td>6</td><td>6</td></tr><tr><td>7</td><td>6</td></tr><tr><td>8</td><td>6</td></tr><tr><td>10</td><td>3</td></tr><tr><td>12</td><td>3</td></tr><tr><td>13</td><td>5</td></tr><tr><td>14</td><td>3</td></tr></table>"
                    },
                    "metadata": {}
                }
            ],
            "execution_count": 8
        },
        {
            "cell_type": "markdown",
            "source": [
                "8. <span style=\"color: rgb(36, 41, 47); font-family: -apple-system, BlinkMacSystemFont, &quot;Segoe UI&quot;, Helvetica, Arial, sans-serif, &quot;Apple Color Emoji&quot;, &quot;Segoe UI Emoji&quot;; font-size: 16px;\">Készítsünk lekérdezést, amely megadja, hogy minimálian és maximálisan hány kreditet ér egy tantárgy!</span>\n",
                "\n",
                "1. Az oszlopokat nevezzük el értelemszerűen!\n",
                "2. Ne vegyük figyelembe azokat a tantárgyakat, amelyek nevében az „alapjai” szó szerepel, vagy a tantárgy neve 10 karakternél rövidebb!"
            ],
            "metadata": {
                "azdata_cell_guid": "26a504dc-ff6a-439f-94c0-4580eca3eacf"
            },
            "attachments": {}
        },
        {
            "cell_type": "code",
            "source": [
                "SELECT MIN(Kredit) AS 'MinKredit', \r\n",
                "       MAX(Kredit) AS 'MaxKredit'\r\n",
                "FROM Tantárgyak\r\n",
                "WHERE Tantárgynév NOT LIKE '%alapjai%' AND LEN(Tantárgynév) >=10"
            ],
            "metadata": {
                "azdata_cell_guid": "1cbb8aeb-78b5-4350-aa45-e3202fdab85b",
                "language": "sql",
                "tags": []
            },
            "outputs": [
                {
                    "output_type": "display_data",
                    "data": {
                        "text/html": "(1 row affected)"
                    },
                    "metadata": {}
                },
                {
                    "output_type": "display_data",
                    "data": {
                        "text/html": "Total execution time: 00:00:00.009"
                    },
                    "metadata": {}
                },
                {
                    "output_type": "execute_result",
                    "execution_count": 12,
                    "data": {
                        "application/vnd.dataresource+json": {
                            "schema": {
                                "fields": [
                                    {
                                        "name": "MinKredit"
                                    },
                                    {
                                        "name": "MaxKredit"
                                    }
                                ]
                            },
                            "data": [
                                {
                                    "MinKredit": "1",
                                    "MaxKredit": "5"
                                }
                            ]
                        },
                        "text/html": "<table><tr><th>MinKredit</th><th>MaxKredit</th></tr><tr><td>1</td><td>5</td></tr></table>"
                    },
                    "metadata": {}
                }
            ],
            "execution_count": 12
        },
        {
            "cell_type": "markdown",
            "source": [
                "9. <span style=\"color: rgb(36, 41, 47); font-family: -apple-system, BlinkMacSystemFont, &quot;Segoe UI&quot;, Helvetica, Arial, sans-serif, &quot;Apple Color Emoji&quot;, &quot;Segoe UI Emoji&quot;; font-size: 16px;\">A tapasztalat alapján a tanársegédeknek 8, az óraadóknak 10 órájuk van egy héten. A többiek annyi órát tartanak, amennyi az elvárt óraszámuk. Készítsünk lekérdezést, amely minden beosztáshoz megjeleníti, hogy hetente hány túlóra tartozik hozzá!</span>\n",
                "\n",
                "1. A lekérdezés csak a beosztások nevét és a heti túlórák számát jelenítse meg!"
            ],
            "metadata": {
                "azdata_cell_guid": "435e2860-2dd5-4877-90f4-34a43baeb53c"
            },
            "attachments": {}
        },
        {
            "cell_type": "code",
            "source": [
                "---többtáblás lekérdezés\r\n",
                "-- connection tanulmanyi\r\n",
                "\r\n",
                "SELECT beosztasnev,\r\n",
                "\t   CASE WHEN beosztasnev = 'Tanársegéd' THEN 8\r\n",
                "\t        WHEN beosztasnev = 'Óraadó' THEN 10\r\n",
                "\t\t\tELSE elvart\r\n",
                "\t   END - elvart AS 'Túlóra'\r\n",
                "FROM Beosztasok "
            ],
            "metadata": {
                "azdata_cell_guid": "ce846351-ddbe-4d8e-b8fb-2a92c73ac80b",
                "language": "sql"
            },
            "outputs": [
                {
                    "output_type": "display_data",
                    "data": {
                        "text/html": "(7 rows affected)"
                    },
                    "metadata": {}
                },
                {
                    "output_type": "display_data",
                    "data": {
                        "text/html": "Total execution time: 00:00:00.033"
                    },
                    "metadata": {}
                },
                {
                    "output_type": "execute_result",
                    "execution_count": 15,
                    "data": {
                        "application/vnd.dataresource+json": {
                            "schema": {
                                "fields": [
                                    {
                                        "name": "beosztasnev"
                                    },
                                    {
                                        "name": "Túlóra"
                                    }
                                ]
                            },
                            "data": [
                                {
                                    "beosztasnev": "Óraadó",
                                    "Túlóra": "4"
                                },
                                {
                                    "beosztasnev": "Tanársegéd",
                                    "Túlóra": "2"
                                },
                                {
                                    "beosztasnev": "Adjunktus",
                                    "Túlóra": "0"
                                },
                                {
                                    "beosztasnev": "Docens",
                                    "Túlóra": "0"
                                },
                                {
                                    "beosztasnev": "Professzor",
                                    "Túlóra": "0"
                                },
                                {
                                    "beosztasnev": "Egyetemi tanár",
                                    "Túlóra": "0"
                                },
                                {
                                    "beosztasnev": "Tudományos munkatárs",
                                    "Túlóra": "0"
                                }
                            ]
                        },
                        "text/html": "<table><tr><th>beosztasnev</th><th>Túlóra</th></tr><tr><td>Óraadó</td><td>4</td></tr><tr><td>Tanársegéd</td><td>2</td></tr><tr><td>Adjunktus</td><td>0</td></tr><tr><td>Docens</td><td>0</td></tr><tr><td>Professzor</td><td>0</td></tr><tr><td>Egyetemi tanár</td><td>0</td></tr><tr><td>Tudományos munkatárs</td><td>0</td></tr></table>"
                    },
                    "metadata": {}
                }
            ],
            "execution_count": 15
        },
        {
            "cell_type": "markdown",
            "source": [
                "10. <span style=\"font-weight: 600; color: rgb(36, 41, 47); font-family: -apple-system, BlinkMacSystemFont, &quot;Segoe UI&quot;, Helvetica, Arial, sans-serif, &quot;Apple Color Emoji&quot;, &quot;Segoe UI Emoji&quot;; font-size: 16px;\">Melyek azok az oktatók, akiknek nincs órájuk?</span>\n",
                "\n",
                "1. Csak az oktatók neve jelenjen meg!\n",
                "2. ÖTLET: használjunk LEFT JOIN-t, és szűrjünk azokra a rekordokra, ahol NULL érték van a JOIN utáni feltétel jobb oldalán!"
            ],
            "metadata": {
                "azdata_cell_guid": "217c5772-afe2-4a7c-b913-e3a3e09d6411"
            },
            "attachments": {}
        },
        {
            "cell_type": "code",
            "source": [
                "SELECT okt.nev\r\n",
                "FROM Oktatok okt LEFT JOIN Orak o ON okt.oktato_id = o.tanar\r\n",
                "WHERE o.tanar IS NULL"
            ],
            "metadata": {
                "azdata_cell_guid": "a9cc0926-3dbd-4ed8-8179-1c39d64a0762",
                "language": "sql"
            },
            "outputs": [
                {
                    "output_type": "display_data",
                    "data": {
                        "text/html": "(5 rows affected)"
                    },
                    "metadata": {}
                },
                {
                    "output_type": "display_data",
                    "data": {
                        "text/html": "Total execution time: 00:00:00.019"
                    },
                    "metadata": {}
                },
                {
                    "output_type": "execute_result",
                    "execution_count": 22,
                    "data": {
                        "application/vnd.dataresource+json": {
                            "schema": {
                                "fields": [
                                    {
                                        "name": "nev"
                                    }
                                ]
                            },
                            "data": [
                                {
                                    "nev": "Józsa Gábor"
                                },
                                {
                                    "nev": "Rácz András"
                                },
                                {
                                    "nev": "Kiss István"
                                },
                                {
                                    "nev": "Mészáros Kriszta"
                                },
                                {
                                    "nev": "Kovacs Istvan"
                                }
                            ]
                        },
                        "text/html": "<table><tr><th>nev</th></tr><tr><td>Józsa Gábor</td></tr><tr><td>Rácz András</td></tr><tr><td>Kiss István</td></tr><tr><td>Mészáros Kriszta</td></tr><tr><td>Kovacs Istvan</td></tr></table>"
                    },
                    "metadata": {}
                }
            ],
            "execution_count": 22
        },
        {
            "cell_type": "markdown",
            "source": [
                "11. <span style=\"font-weight: 600; color: rgb(36, 41, 47); font-family: -apple-system, BlinkMacSystemFont, &quot;Segoe UI&quot;, Helvetica, Arial, sans-serif, &quot;Apple Color Emoji&quot;, &quot;Segoe UI Emoji&quot;; font-size: 16px;\">Készítsünk lekérdezést, amely részletesen megjeleníti az egyes órák fontosabb adatait, azaz</span>\n",
                "\n",
                "1. Az órák azonosítóit, a tanár nevét, a tantárgy nevét, a terem nevét és a kezdési időpontot!\n",
                "2. Az oszlopokat nevezzük el értelemszerűen!"
            ],
            "metadata": {
                "azdata_cell_guid": "d2340f5f-1614-473c-b937-85740d67f7c1"
            },
            "attachments": {}
        },
        {
            "cell_type": "code",
            "source": [
                "SELECT o.ora_id AS 'Azonosító', \r\n",
                "       okt.nev AS 'Tanár', \r\n",
                "\t   t.tantárgynév AS 'Tantárgy', \r\n",
                "\t   tm.Terem AS 'terem',\r\n",
                "\t   s.Időpont AS 'Kezdés'\r\n",
                "FROM Orak o JOIN Oktatok okt ON o.tanar = okt.oktato_id\r\n",
                "            JOIN Tantárgyak t on o.targy = t.tkód\r\n",
                "\t\t\tJOIN Termek tm ON o.terem = tm.tkód\r\n",
                "\t\t\tJOIN Savok s on o.sav = s.sav_id"
            ],
            "metadata": {
                "azdata_cell_guid": "e99c2c53-898f-4787-b0e6-182d106dc16f",
                "language": "sql",
                "tags": []
            },
            "outputs": [
                {
                    "output_type": "display_data",
                    "data": {
                        "text/html": "(67 rows affected)"
                    },
                    "metadata": {}
                },
                {
                    "output_type": "display_data",
                    "data": {
                        "text/html": "Total execution time: 00:00:00.015"
                    },
                    "metadata": {}
                },
                {
                    "output_type": "execute_result",
                    "execution_count": 34,
                    "data": {
                        "application/vnd.dataresource+json": {
                            "schema": {
                                "fields": [
                                    {
                                        "name": "Azonosító"
                                    },
                                    {
                                        "name": "Tanár"
                                    },
                                    {
                                        "name": "Tantárgy"
                                    },
                                    {
                                        "name": "terem"
                                    },
                                    {
                                        "name": "Kezdés"
                                    }
                                ]
                            },
                            "data": [
                                {
                                    "Azonosító": "159",
                                    "Tanár": "Ujfalussi István",
                                    "Tantárgy": "Az ürgeöntés alapjai",
                                    "terem": "117",
                                    "Kezdés": "8.00"
                                },
                                {
                                    "Azonosító": "160",
                                    "Tanár": "Pelikán József",
                                    "Tantárgy": "Az ürgeöntés alapjai",
                                    "terem": "118",
                                    "Kezdés": "14.00"
                                },
                                {
                                    "Azonosító": "161",
                                    "Tanár": "Pelikán József",
                                    "Tantárgy": "Az ürgeöntés alapjai",
                                    "terem": "118",
                                    "Kezdés": "9.30"
                                },
                                {
                                    "Azonosító": "162",
                                    "Tanár": "Kovács András",
                                    "Tantárgy": "Az ürgeöntés alapjai",
                                    "terem": "119",
                                    "Kezdés": "12.30"
                                },
                                {
                                    "Azonosító": "163",
                                    "Tanár": "Szerb László",
                                    "Tantárgy": "Az ürgeöntés alapjai",
                                    "terem": "120",
                                    "Kezdés": "9.30"
                                },
                                {
                                    "Azonosító": "164",
                                    "Tanár": "Kiss János",
                                    "Tantárgy": "Az ürgeöntés alapjai",
                                    "terem": "119",
                                    "Kezdés": "11.00"
                                },
                                {
                                    "Azonosító": "165",
                                    "Tanár": "Szerb László",
                                    "Tantárgy": "Az ürgeöntés alapjai",
                                    "terem": "119",
                                    "Kezdés": "11.00"
                                },
                                {
                                    "Azonosító": "166",
                                    "Tanár": "Szerb László",
                                    "Tantárgy": "Az ürgeöntés alapjai",
                                    "terem": "119",
                                    "Kezdés": "12.30"
                                },
                                {
                                    "Azonosító": "167",
                                    "Tanár": "Szentágotai Istvás",
                                    "Tantárgy": "Az ürgeöntés alapjai",
                                    "terem": "120",
                                    "Kezdés": "12.30"
                                },
                                {
                                    "Azonosító": "168",
                                    "Tanár": "Ujfalussi István",
                                    "Tantárgy": "Az ürgeöntés alapjai",
                                    "terem": "217",
                                    "Kezdés": "11.00"
                                },
                                {
                                    "Azonosító": "169",
                                    "Tanár": "Kovács András",
                                    "Tantárgy": "Az ürgeöntés alapjai",
                                    "terem": "218",
                                    "Kezdés": "9.30"
                                },
                                {
                                    "Azonosító": "170",
                                    "Tanár": "Ludas Mátyás",
                                    "Tantárgy": "Az ürgeöntés alapjai",
                                    "terem": "120",
                                    "Kezdés": "9.30"
                                },
                                {
                                    "Azonosító": "171",
                                    "Tanár": "Szénási ászló",
                                    "Tantárgy": "Az ürgeöntés alapjai",
                                    "terem": "220",
                                    "Kezdés": "9.30"
                                },
                                {
                                    "Azonosító": "172",
                                    "Tanár": "Kiss János",
                                    "Tantárgy": "Az ürgeöntés alapjai",
                                    "terem": "119",
                                    "Kezdés": "9.30"
                                },
                                {
                                    "Azonosító": "173",
                                    "Tanár": "Kovács András",
                                    "Tantárgy": "Az ürgeöntés alapjai",
                                    "terem": "119",
                                    "Kezdés": "11.00"
                                },
                                {
                                    "Azonosító": "174",
                                    "Tanár": "Ludas Mátyás",
                                    "Tantárgy": "Az ürgeöntés alapjai",
                                    "terem": "219",
                                    "Kezdés": "11.00"
                                },
                                {
                                    "Azonosító": "175",
                                    "Tanár": "Szénási ászló",
                                    "Tantárgy": "Az ürgeöntés alapjai",
                                    "terem": "120",
                                    "Kezdés": "12.30"
                                },
                                {
                                    "Azonosító": "176",
                                    "Tanár": "Kovács András",
                                    "Tantárgy": "Az ürgeöntés alapjai",
                                    "terem": "118",
                                    "Kezdés": "12.30"
                                },
                                {
                                    "Azonosító": "177",
                                    "Tanár": "Szentágotai Istvás",
                                    "Tantárgy": "Az ürgeöntés alapjai",
                                    "terem": "119",
                                    "Kezdés": "14.00"
                                },
                                {
                                    "Azonosító": "178",
                                    "Tanár": "Vitéz János",
                                    "Tantárgy": "Az ürgeöntés alapjai",
                                    "terem": "220",
                                    "Kezdés": "14.00"
                                },
                                {
                                    "Azonosító": "179",
                                    "Tanár": "Szentágotai Istvás",
                                    "Tantárgy": "Az ürgeöntés alapjai",
                                    "terem": "120",
                                    "Kezdés": "15.30"
                                },
                                {
                                    "Azonosító": "180",
                                    "Tanár": "Vitéz János",
                                    "Tantárgy": "Az ürgeöntés alapjai",
                                    "terem": "119",
                                    "Kezdés": "15.30"
                                },
                                {
                                    "Azonosító": "181",
                                    "Tanár": "Szentágotai Istvás",
                                    "Tantárgy": "Az ürgeöntés alapjai",
                                    "terem": "118",
                                    "Kezdés": "8.00"
                                },
                                {
                                    "Azonosító": "182",
                                    "Tanár": "Vitéz János",
                                    "Tantárgy": "Az ürgeöntés alapjai",
                                    "terem": "219",
                                    "Kezdés": "8.00"
                                },
                                {
                                    "Azonosító": "183",
                                    "Tanár": "Szentágotai Istvás",
                                    "Tantárgy": "Az ürgeöntés alapjai",
                                    "terem": "220",
                                    "Kezdés": "9.30"
                                },
                                {
                                    "Azonosító": "184",
                                    "Tanár": "Vitéz János",
                                    "Tantárgy": "Az ürgeöntés alapjai",
                                    "terem": "218",
                                    "Kezdés": "9.30"
                                },
                                {
                                    "Azonosító": "185",
                                    "Tanár": "Szentágotai Istvás",
                                    "Tantárgy": "Az ürgeöntés alapjai",
                                    "terem": "120",
                                    "Kezdés": "11.00"
                                },
                                {
                                    "Azonosító": "186",
                                    "Tanár": "Nógrádi Kata",
                                    "Tantárgy": "ü-business",
                                    "terem": "219",
                                    "Kezdés": "12.30"
                                },
                                {
                                    "Azonosító": "187",
                                    "Tanár": "Balkán András",
                                    "Tantárgy": "Bevezetés az ürgeöntésbe",
                                    "terem": "217",
                                    "Kezdés": "9.30"
                                },
                                {
                                    "Azonosító": "188",
                                    "Tanár": "Farkasos Piroska",
                                    "Tantárgy": "Bevezetés az ürgeöntésbe",
                                    "terem": "VP 203.",
                                    "Kezdés": "15.30"
                                },
                                {
                                    "Azonosító": "189",
                                    "Tanár": "Farkasos Piroska",
                                    "Tantárgy": "Bevezetés az ürgeöntésbe",
                                    "terem": "VP 203.",
                                    "Kezdés": "9.30"
                                },
                                {
                                    "Azonosító": "190",
                                    "Tanár": "Farkasos Piroska",
                                    "Tantárgy": "Bevezetés az ürgeöntésbe",
                                    "terem": "E.2.238",
                                    "Kezdés": "11.00"
                                },
                                {
                                    "Azonosító": "191",
                                    "Tanár": "Varga Kata",
                                    "Tantárgy": "Az ürgeöntés hydrológiai alapjai II.",
                                    "terem": "220",
                                    "Kezdés": "14.00"
                                },
                                {
                                    "Azonosító": "192",
                                    "Tanár": "Varga Kata",
                                    "Tantárgy": "Az ürgeöntés hydrológiai alapjai II.",
                                    "terem": "119",
                                    "Kezdés": "15.30"
                                },
                                {
                                    "Azonosító": "193",
                                    "Tanár": "Farkasos Piroska",
                                    "Tantárgy": "Az ürgeöntés hydrológiai alapjai II.",
                                    "terem": "217",
                                    "Kezdés": "14.00"
                                },
                                {
                                    "Azonosító": "194",
                                    "Tanár": "Farkasos Piroska",
                                    "Tantárgy": "Az ürgeöntés hydrológiai alapjai II.",
                                    "terem": "E.fsz.I",
                                    "Kezdés": "15.30"
                                },
                                {
                                    "Azonosító": "195",
                                    "Tanár": "Balkán András",
                                    "Tantárgy": "Az ürgeöntés hydrológiai alapjai II.",
                                    "terem": "116",
                                    "Kezdés": "14.00"
                                },
                                {
                                    "Azonosító": "196",
                                    "Tanár": "Balkán András",
                                    "Tantárgy": "Az ürgeöntés hydrológiai alapjai II.",
                                    "terem": "218",
                                    "Kezdés": "15.30"
                                },
                                {
                                    "Azonosító": "197",
                                    "Tanár": "Farkasos Piroska",
                                    "Tantárgy": "Az ürgeöntés hydrológiai alapjai II.",
                                    "terem": "116",
                                    "Kezdés": "8.00"
                                },
                                {
                                    "Azonosító": "198",
                                    "Tanár": "Farkasos Piroska",
                                    "Tantárgy": "Az ürgeöntés hydrológiai alapjai II.",
                                    "terem": "119",
                                    "Kezdés": "9.30"
                                },
                                {
                                    "Azonosító": "199",
                                    "Tanár": "Szabó Andrera",
                                    "Tantárgy": "Az ürgeöntés hydrológiai alapjai II.",
                                    "terem": "218",
                                    "Kezdés": "8.00"
                                },
                                {
                                    "Azonosító": "200",
                                    "Tanár": "Szabó Andrera",
                                    "Tantárgy": "Az ürgeöntés hydrológiai alapjai II.",
                                    "terem": "220",
                                    "Kezdés": "9.30"
                                },
                                {
                                    "Azonosító": "201",
                                    "Tanár": "Juhász András",
                                    "Tantárgy": "Öntési gyakorlat",
                                    "terem": "E.2.238",
                                    "Kezdés": "12.30"
                                },
                                {
                                    "Azonosító": "202",
                                    "Tanár": "Juhász András",
                                    "Tantárgy": "Öntési gyakorlat",
                                    "terem": "E.3.332",
                                    "Kezdés": "14.00"
                                },
                                {
                                    "Azonosító": "203",
                                    "Tanár": "Aranyi Mária",
                                    "Tantárgy": "Az ürgeöntés hydrológiai alapjai I.",
                                    "terem": "S.Asor.S3",
                                    "Kezdés": "12.30"
                                },
                                {
                                    "Azonosító": "204",
                                    "Tanár": "Róbert Gida",
                                    "Tantárgy": "Az ürgeöntés hydrológiai alapjai I.",
                                    "terem": "120",
                                    "Kezdés": "14.00"
                                },
                                {
                                    "Azonosító": "205",
                                    "Tanár": "Ujfalussi István",
                                    "Tantárgy": "Az öntés elmélete",
                                    "terem": "220",
                                    "Kezdés": "12.30"
                                },
                                {
                                    "Azonosító": "206",
                                    "Tanár": "Varga Kata",
                                    "Tantárgy": "Az öntés elmélete",
                                    "terem": "S.Asor.S3",
                                    "Kezdés": "8.00"
                                },
                                {
                                    "Azonosító": "207",
                                    "Tanár": "Varga Kata",
                                    "Tantárgy": "Az öntés elmélete",
                                    "terem": "219",
                                    "Kezdés": "12.30"
                                },
                                {
                                    "Azonosító": "208",
                                    "Tanár": "Jogrerős Pál",
                                    "Tantárgy": "Ürgevitel",
                                    "terem": "VP 203.",
                                    "Kezdés": "8.00"
                                },
                                {
                                    "Azonosító": "209",
                                    "Tanár": "Jogrerős Pál",
                                    "Tantárgy": "Ürgevitel",
                                    "terem": "VP 203.",
                                    "Kezdés": "9.30"
                                },
                                {
                                    "Azonosító": "210",
                                    "Tanár": "Szép llonka",
                                    "Tantárgy": "Ürgeöntés az EU-ban",
                                    "terem": "E.2.238",
                                    "Kezdés": "15.30"
                                },
                                {
                                    "Azonosító": "211",
                                    "Tanár": "Szép llonka",
                                    "Tantárgy": "Ürgeöntés az EU-ban",
                                    "terem": "217",
                                    "Kezdés": "17.00"
                                },
                                {
                                    "Azonosító": "212",
                                    "Tanár": "Kiss János",
                                    "Tantárgy": "Ürgeöntés az EU-ban",
                                    "terem": "120",
                                    "Kezdés": "18.30"
                                },
                                {
                                    "Azonosító": "213",
                                    "Tanár": "Kiss János",
                                    "Tantárgy": "Ürgeöntés az EU-ban",
                                    "terem": "218",
                                    "Kezdés": "20.00"
                                },
                                {
                                    "Azonosító": "214",
                                    "Tanár": "Pelikán József",
                                    "Tantárgy": "Az ürge anatómiája",
                                    "terem": "219",
                                    "Kezdés": "11.00"
                                },
                                {
                                    "Azonosító": "215",
                                    "Tanár": "Pelikán József",
                                    "Tantárgy": "Az ürge anatómiája",
                                    "terem": "E.fsz.IV.",
                                    "Kezdés": "12.30"
                                },
                                {
                                    "Azonosító": "216",
                                    "Tanár": "Szép llonka",
                                    "Tantárgy": "Az ürge anatómiája",
                                    "terem": "218",
                                    "Kezdés": "11.00"
                                },
                                {
                                    "Azonosító": "217",
                                    "Tanár": "Szép llonka",
                                    "Tantárgy": "Az ürge anatómiája",
                                    "terem": "217",
                                    "Kezdés": "12.30"
                                },
                                {
                                    "Azonosító": "218",
                                    "Tanár": "Pelikán József",
                                    "Tantárgy": "Az ürge anatómiája",
                                    "terem": "118",
                                    "Kezdés": "15.30"
                                },
                                {
                                    "Azonosító": "219",
                                    "Tanár": "Pelikán József",
                                    "Tantárgy": "Az ürge anatómiája",
                                    "terem": "219",
                                    "Kezdés": "17.00"
                                },
                                {
                                    "Azonosító": "220",
                                    "Tanár": "Kovács László",
                                    "Tantárgy": "Fejezetek az ürgék jogaiból",
                                    "terem": "119",
                                    "Kezdés": "11.00"
                                },
                                {
                                    "Azonosító": "221",
                                    "Tanár": "Kovács László",
                                    "Tantárgy": "Fejezetek az ürgék jogaiból",
                                    "terem": "VP 203.",
                                    "Kezdés": "11.00"
                                },
                                {
                                    "Azonosító": "222",
                                    "Tanár": "Kovács László",
                                    "Tantárgy": "Fejezetek az ürgék jogaiból",
                                    "terem": "116",
                                    "Kezdés": "14.00"
                                },
                                {
                                    "Azonosító": "223",
                                    "Tanár": "Kovács László",
                                    "Tantárgy": "Fejezetek az ürgék jogaiból",
                                    "terem": "S.Asor.S3",
                                    "Kezdés": "8.00"
                                },
                                {
                                    "Azonosító": "226",
                                    "Tanár": "Szentágotai Istvás",
                                    "Tantárgy": "ürgefőzés",
                                    "terem": "117",
                                    "Kezdés": "11.00"
                                },
                                {
                                    "Azonosító": "227",
                                    "Tanár": "Szentágotai Istvás",
                                    "Tantárgy": "Az ürgeöntés hydrológiai alapjai I.",
                                    "terem": "116",
                                    "Kezdés": "14.00"
                                }
                            ]
                        },
                        "text/html": "<table><tr><th>Azonosító</th><th>Tanár</th><th>Tantárgy</th><th>terem</th><th>Kezdés</th></tr><tr><td>159</td><td>Ujfalussi István</td><td>Az ürgeöntés alapjai</td><td>117</td><td>8.00</td></tr><tr><td>160</td><td>Pelikán József</td><td>Az ürgeöntés alapjai</td><td>118</td><td>14.00</td></tr><tr><td>161</td><td>Pelikán József</td><td>Az ürgeöntés alapjai</td><td>118</td><td>9.30</td></tr><tr><td>162</td><td>Kovács András</td><td>Az ürgeöntés alapjai</td><td>119</td><td>12.30</td></tr><tr><td>163</td><td>Szerb László</td><td>Az ürgeöntés alapjai</td><td>120</td><td>9.30</td></tr><tr><td>164</td><td>Kiss János</td><td>Az ürgeöntés alapjai</td><td>119</td><td>11.00</td></tr><tr><td>165</td><td>Szerb László</td><td>Az ürgeöntés alapjai</td><td>119</td><td>11.00</td></tr><tr><td>166</td><td>Szerb László</td><td>Az ürgeöntés alapjai</td><td>119</td><td>12.30</td></tr><tr><td>167</td><td>Szentágotai Istvás</td><td>Az ürgeöntés alapjai</td><td>120</td><td>12.30</td></tr><tr><td>168</td><td>Ujfalussi István</td><td>Az ürgeöntés alapjai</td><td>217</td><td>11.00</td></tr><tr><td>169</td><td>Kovács András</td><td>Az ürgeöntés alapjai</td><td>218</td><td>9.30</td></tr><tr><td>170</td><td>Ludas Mátyás</td><td>Az ürgeöntés alapjai</td><td>120</td><td>9.30</td></tr><tr><td>171</td><td>Szénási ászló</td><td>Az ürgeöntés alapjai</td><td>220</td><td>9.30</td></tr><tr><td>172</td><td>Kiss János</td><td>Az ürgeöntés alapjai</td><td>119</td><td>9.30</td></tr><tr><td>173</td><td>Kovács András</td><td>Az ürgeöntés alapjai</td><td>119</td><td>11.00</td></tr><tr><td>174</td><td>Ludas Mátyás</td><td>Az ürgeöntés alapjai</td><td>219</td><td>11.00</td></tr><tr><td>175</td><td>Szénási ászló</td><td>Az ürgeöntés alapjai</td><td>120</td><td>12.30</td></tr><tr><td>176</td><td>Kovács András</td><td>Az ürgeöntés alapjai</td><td>118</td><td>12.30</td></tr><tr><td>177</td><td>Szentágotai Istvás</td><td>Az ürgeöntés alapjai</td><td>119</td><td>14.00</td></tr><tr><td>178</td><td>Vitéz János</td><td>Az ürgeöntés alapjai</td><td>220</td><td>14.00</td></tr><tr><td>179</td><td>Szentágotai Istvás</td><td>Az ürgeöntés alapjai</td><td>120</td><td>15.30</td></tr><tr><td>180</td><td>Vitéz János</td><td>Az ürgeöntés alapjai</td><td>119</td><td>15.30</td></tr><tr><td>181</td><td>Szentágotai Istvás</td><td>Az ürgeöntés alapjai</td><td>118</td><td>8.00</td></tr><tr><td>182</td><td>Vitéz János</td><td>Az ürgeöntés alapjai</td><td>219</td><td>8.00</td></tr><tr><td>183</td><td>Szentágotai Istvás</td><td>Az ürgeöntés alapjai</td><td>220</td><td>9.30</td></tr><tr><td>184</td><td>Vitéz János</td><td>Az ürgeöntés alapjai</td><td>218</td><td>9.30</td></tr><tr><td>185</td><td>Szentágotai Istvás</td><td>Az ürgeöntés alapjai</td><td>120</td><td>11.00</td></tr><tr><td>186</td><td>Nógrádi Kata</td><td>ü-business</td><td>219</td><td>12.30</td></tr><tr><td>187</td><td>Balkán András</td><td>Bevezetés az ürgeöntésbe</td><td>217</td><td>9.30</td></tr><tr><td>188</td><td>Farkasos Piroska</td><td>Bevezetés az ürgeöntésbe</td><td>VP 203.</td><td>15.30</td></tr><tr><td>189</td><td>Farkasos Piroska</td><td>Bevezetés az ürgeöntésbe</td><td>VP 203.</td><td>9.30</td></tr><tr><td>190</td><td>Farkasos Piroska</td><td>Bevezetés az ürgeöntésbe</td><td>E.2.238</td><td>11.00</td></tr><tr><td>191</td><td>Varga Kata</td><td>Az ürgeöntés hydrológiai alapjai II.</td><td>220</td><td>14.00</td></tr><tr><td>192</td><td>Varga Kata</td><td>Az ürgeöntés hydrológiai alapjai II.</td><td>119</td><td>15.30</td></tr><tr><td>193</td><td>Farkasos Piroska</td><td>Az ürgeöntés hydrológiai alapjai II.</td><td>217</td><td>14.00</td></tr><tr><td>194</td><td>Farkasos Piroska</td><td>Az ürgeöntés hydrológiai alapjai II.</td><td>E.fsz.I</td><td>15.30</td></tr><tr><td>195</td><td>Balkán András</td><td>Az ürgeöntés hydrológiai alapjai II.</td><td>116</td><td>14.00</td></tr><tr><td>196</td><td>Balkán András</td><td>Az ürgeöntés hydrológiai alapjai II.</td><td>218</td><td>15.30</td></tr><tr><td>197</td><td>Farkasos Piroska</td><td>Az ürgeöntés hydrológiai alapjai II.</td><td>116</td><td>8.00</td></tr><tr><td>198</td><td>Farkasos Piroska</td><td>Az ürgeöntés hydrológiai alapjai II.</td><td>119</td><td>9.30</td></tr><tr><td>199</td><td>Szabó Andrera</td><td>Az ürgeöntés hydrológiai alapjai II.</td><td>218</td><td>8.00</td></tr><tr><td>200</td><td>Szabó Andrera</td><td>Az ürgeöntés hydrológiai alapjai II.</td><td>220</td><td>9.30</td></tr><tr><td>201</td><td>Juhász András</td><td>Öntési gyakorlat</td><td>E.2.238</td><td>12.30</td></tr><tr><td>202</td><td>Juhász András</td><td>Öntési gyakorlat</td><td>E.3.332</td><td>14.00</td></tr><tr><td>203</td><td>Aranyi Mária</td><td>Az ürgeöntés hydrológiai alapjai I.</td><td>S.Asor.S3</td><td>12.30</td></tr><tr><td>204</td><td>Róbert Gida</td><td>Az ürgeöntés hydrológiai alapjai I.</td><td>120</td><td>14.00</td></tr><tr><td>205</td><td>Ujfalussi István</td><td>Az öntés elmélete</td><td>220</td><td>12.30</td></tr><tr><td>206</td><td>Varga Kata</td><td>Az öntés elmélete</td><td>S.Asor.S3</td><td>8.00</td></tr><tr><td>207</td><td>Varga Kata</td><td>Az öntés elmélete</td><td>219</td><td>12.30</td></tr><tr><td>208</td><td>Jogrerős Pál</td><td>Ürgevitel</td><td>VP 203.</td><td>8.00</td></tr><tr><td>209</td><td>Jogrerős Pál</td><td>Ürgevitel</td><td>VP 203.</td><td>9.30</td></tr><tr><td>210</td><td>Szép llonka</td><td>Ürgeöntés az EU-ban</td><td>E.2.238</td><td>15.30</td></tr><tr><td>211</td><td>Szép llonka</td><td>Ürgeöntés az EU-ban</td><td>217</td><td>17.00</td></tr><tr><td>212</td><td>Kiss János</td><td>Ürgeöntés az EU-ban</td><td>120</td><td>18.30</td></tr><tr><td>213</td><td>Kiss János</td><td>Ürgeöntés az EU-ban</td><td>218</td><td>20.00</td></tr><tr><td>214</td><td>Pelikán József</td><td>Az ürge anatómiája</td><td>219</td><td>11.00</td></tr><tr><td>215</td><td>Pelikán József</td><td>Az ürge anatómiája</td><td>E.fsz.IV.</td><td>12.30</td></tr><tr><td>216</td><td>Szép llonka</td><td>Az ürge anatómiája</td><td>218</td><td>11.00</td></tr><tr><td>217</td><td>Szép llonka</td><td>Az ürge anatómiája</td><td>217</td><td>12.30</td></tr><tr><td>218</td><td>Pelikán József</td><td>Az ürge anatómiája</td><td>118</td><td>15.30</td></tr><tr><td>219</td><td>Pelikán József</td><td>Az ürge anatómiája</td><td>219</td><td>17.00</td></tr><tr><td>220</td><td>Kovács László</td><td>Fejezetek az ürgék jogaiból</td><td>119</td><td>11.00</td></tr><tr><td>221</td><td>Kovács László</td><td>Fejezetek az ürgék jogaiból</td><td>VP 203.</td><td>11.00</td></tr><tr><td>222</td><td>Kovács László</td><td>Fejezetek az ürgék jogaiból</td><td>116</td><td>14.00</td></tr><tr><td>223</td><td>Kovács László</td><td>Fejezetek az ürgék jogaiból</td><td>S.Asor.S3</td><td>8.00</td></tr><tr><td>226</td><td>Szentágotai Istvás</td><td>ürgefőzés</td><td>117</td><td>11.00</td></tr><tr><td>227</td><td>Szentágotai Istvás</td><td>Az ürgeöntés hydrológiai alapjai I.</td><td>116</td><td>14.00</td></tr></table>"
                    },
                    "metadata": {}
                }
            ],
            "execution_count": 34
        },
        {
            "cell_type": "markdown",
            "source": [
                "12. <span style=\"color: rgb(36, 41, 47); font-family: -apple-system, BlinkMacSystemFont, &quot;Segoe UI&quot;, Helvetica, Arial, sans-serif, &quot;Apple Color Emoji&quot;, &quot;Segoe UI Emoji&quot;; font-size: 16px;\">Készítsünk listát, amely tartalmazza az egyes órák azonosítóit, és az órán oktatott tantárgy felelősének nevét!</span>\n",
                "\n",
                "1. Rendezzük a listát a tantárgyfelelős neve szerint csökkenő sorrendbe!"
            ],
            "metadata": {
                "azdata_cell_guid": "a765e9d6-58b3-4171-872a-78f3118fd6e3"
            },
            "attachments": {}
        },
        {
            "cell_type": "code",
            "source": [
                "SELECT o.ora_id,\r\n",
                "        okt.nev\r\n",
                "FROM Orak o JOIN Tantárgyak t ON o.targy = t.tkód\r\n",
                "            JOIN Oktatok okt ON t.tantárgyfelelős = okt.oktato_id\r\n",
                "ORDER BY 2 DESC"
            ],
            "metadata": {
                "azdata_cell_guid": "422e8127-b652-4d3a-bfd7-9b1637b5781e",
                "language": "sql"
            },
            "outputs": [
                {
                    "output_type": "display_data",
                    "data": {
                        "text/html": "(67 rows affected)"
                    },
                    "metadata": {}
                },
                {
                    "output_type": "display_data",
                    "data": {
                        "text/html": "Total execution time: 00:00:00.010"
                    },
                    "metadata": {}
                },
                {
                    "output_type": "execute_result",
                    "execution_count": 46,
                    "data": {
                        "application/vnd.dataresource+json": {
                            "schema": {
                                "fields": [
                                    {
                                        "name": "ora_id"
                                    },
                                    {
                                        "name": "nev"
                                    }
                                ]
                            },
                            "data": [
                                {
                                    "ora_id": "203",
                                    "nev": "Ujfalussi István"
                                },
                                {
                                    "ora_id": "204",
                                    "nev": "Ujfalussi István"
                                },
                                {
                                    "ora_id": "227",
                                    "nev": "Ujfalussi István"
                                },
                                {
                                    "ora_id": "210",
                                    "nev": "Pelikán József"
                                },
                                {
                                    "ora_id": "211",
                                    "nev": "Pelikán József"
                                },
                                {
                                    "ora_id": "212",
                                    "nev": "Pelikán József"
                                },
                                {
                                    "ora_id": "213",
                                    "nev": "Pelikán József"
                                },
                                {
                                    "ora_id": "214",
                                    "nev": "Pelikán József"
                                },
                                {
                                    "ora_id": "215",
                                    "nev": "Pelikán József"
                                },
                                {
                                    "ora_id": "216",
                                    "nev": "Pelikán József"
                                },
                                {
                                    "ora_id": "217",
                                    "nev": "Pelikán József"
                                },
                                {
                                    "ora_id": "218",
                                    "nev": "Pelikán József"
                                },
                                {
                                    "ora_id": "219",
                                    "nev": "Pelikán József"
                                },
                                {
                                    "ora_id": "201",
                                    "nev": "Pelikán József"
                                },
                                {
                                    "ora_id": "202",
                                    "nev": "Pelikán József"
                                },
                                {
                                    "ora_id": "205",
                                    "nev": "Kovács László"
                                },
                                {
                                    "ora_id": "206",
                                    "nev": "Kovács László"
                                },
                                {
                                    "ora_id": "207",
                                    "nev": "Kovács László"
                                },
                                {
                                    "ora_id": "226",
                                    "nev": "Kovács László"
                                },
                                {
                                    "ora_id": "186",
                                    "nev": "Kovács László"
                                },
                                {
                                    "ora_id": "220",
                                    "nev": "Kovács László"
                                },
                                {
                                    "ora_id": "221",
                                    "nev": "Kovács László"
                                },
                                {
                                    "ora_id": "222",
                                    "nev": "Kovács László"
                                },
                                {
                                    "ora_id": "223",
                                    "nev": "Kovács László"
                                },
                                {
                                    "ora_id": "208",
                                    "nev": "Jogrerős Pál"
                                },
                                {
                                    "ora_id": "209",
                                    "nev": "Jogrerős Pál"
                                },
                                {
                                    "ora_id": "191",
                                    "nev": "Balkán András"
                                },
                                {
                                    "ora_id": "192",
                                    "nev": "Balkán András"
                                },
                                {
                                    "ora_id": "193",
                                    "nev": "Balkán András"
                                },
                                {
                                    "ora_id": "194",
                                    "nev": "Balkán András"
                                },
                                {
                                    "ora_id": "195",
                                    "nev": "Balkán András"
                                },
                                {
                                    "ora_id": "196",
                                    "nev": "Balkán András"
                                },
                                {
                                    "ora_id": "197",
                                    "nev": "Balkán András"
                                },
                                {
                                    "ora_id": "198",
                                    "nev": "Balkán András"
                                },
                                {
                                    "ora_id": "199",
                                    "nev": "Balkán András"
                                },
                                {
                                    "ora_id": "200",
                                    "nev": "Balkán András"
                                },
                                {
                                    "ora_id": "159",
                                    "nev": "Balkán András"
                                },
                                {
                                    "ora_id": "160",
                                    "nev": "Balkán András"
                                },
                                {
                                    "ora_id": "161",
                                    "nev": "Balkán András"
                                },
                                {
                                    "ora_id": "162",
                                    "nev": "Balkán András"
                                },
                                {
                                    "ora_id": "163",
                                    "nev": "Balkán András"
                                },
                                {
                                    "ora_id": "164",
                                    "nev": "Balkán András"
                                },
                                {
                                    "ora_id": "165",
                                    "nev": "Balkán András"
                                },
                                {
                                    "ora_id": "166",
                                    "nev": "Balkán András"
                                },
                                {
                                    "ora_id": "167",
                                    "nev": "Balkán András"
                                },
                                {
                                    "ora_id": "168",
                                    "nev": "Balkán András"
                                },
                                {
                                    "ora_id": "169",
                                    "nev": "Balkán András"
                                },
                                {
                                    "ora_id": "170",
                                    "nev": "Balkán András"
                                },
                                {
                                    "ora_id": "171",
                                    "nev": "Balkán András"
                                },
                                {
                                    "ora_id": "172",
                                    "nev": "Balkán András"
                                },
                                {
                                    "ora_id": "173",
                                    "nev": "Balkán András"
                                },
                                {
                                    "ora_id": "174",
                                    "nev": "Balkán András"
                                },
                                {
                                    "ora_id": "175",
                                    "nev": "Balkán András"
                                },
                                {
                                    "ora_id": "176",
                                    "nev": "Balkán András"
                                },
                                {
                                    "ora_id": "177",
                                    "nev": "Balkán András"
                                },
                                {
                                    "ora_id": "178",
                                    "nev": "Balkán András"
                                },
                                {
                                    "ora_id": "179",
                                    "nev": "Balkán András"
                                },
                                {
                                    "ora_id": "180",
                                    "nev": "Balkán András"
                                },
                                {
                                    "ora_id": "181",
                                    "nev": "Balkán András"
                                },
                                {
                                    "ora_id": "182",
                                    "nev": "Balkán András"
                                },
                                {
                                    "ora_id": "183",
                                    "nev": "Balkán András"
                                },
                                {
                                    "ora_id": "184",
                                    "nev": "Balkán András"
                                },
                                {
                                    "ora_id": "185",
                                    "nev": "Balkán András"
                                },
                                {
                                    "ora_id": "187",
                                    "nev": "Balkán András"
                                },
                                {
                                    "ora_id": "188",
                                    "nev": "Balkán András"
                                },
                                {
                                    "ora_id": "189",
                                    "nev": "Balkán András"
                                },
                                {
                                    "ora_id": "190",
                                    "nev": "Balkán András"
                                }
                            ]
                        },
                        "text/html": "<table><tr><th>ora_id</th><th>nev</th></tr><tr><td>203</td><td>Ujfalussi István</td></tr><tr><td>204</td><td>Ujfalussi István</td></tr><tr><td>227</td><td>Ujfalussi István</td></tr><tr><td>210</td><td>Pelikán József</td></tr><tr><td>211</td><td>Pelikán József</td></tr><tr><td>212</td><td>Pelikán József</td></tr><tr><td>213</td><td>Pelikán József</td></tr><tr><td>214</td><td>Pelikán József</td></tr><tr><td>215</td><td>Pelikán József</td></tr><tr><td>216</td><td>Pelikán József</td></tr><tr><td>217</td><td>Pelikán József</td></tr><tr><td>218</td><td>Pelikán József</td></tr><tr><td>219</td><td>Pelikán József</td></tr><tr><td>201</td><td>Pelikán József</td></tr><tr><td>202</td><td>Pelikán József</td></tr><tr><td>205</td><td>Kovács László</td></tr><tr><td>206</td><td>Kovács László</td></tr><tr><td>207</td><td>Kovács László</td></tr><tr><td>226</td><td>Kovács László</td></tr><tr><td>186</td><td>Kovács László</td></tr><tr><td>220</td><td>Kovács László</td></tr><tr><td>221</td><td>Kovács László</td></tr><tr><td>222</td><td>Kovács László</td></tr><tr><td>223</td><td>Kovács László</td></tr><tr><td>208</td><td>Jogrerős Pál</td></tr><tr><td>209</td><td>Jogrerős Pál</td></tr><tr><td>191</td><td>Balkán András</td></tr><tr><td>192</td><td>Balkán András</td></tr><tr><td>193</td><td>Balkán András</td></tr><tr><td>194</td><td>Balkán András</td></tr><tr><td>195</td><td>Balkán András</td></tr><tr><td>196</td><td>Balkán András</td></tr><tr><td>197</td><td>Balkán András</td></tr><tr><td>198</td><td>Balkán András</td></tr><tr><td>199</td><td>Balkán András</td></tr><tr><td>200</td><td>Balkán András</td></tr><tr><td>159</td><td>Balkán András</td></tr><tr><td>160</td><td>Balkán András</td></tr><tr><td>161</td><td>Balkán András</td></tr><tr><td>162</td><td>Balkán András</td></tr><tr><td>163</td><td>Balkán András</td></tr><tr><td>164</td><td>Balkán András</td></tr><tr><td>165</td><td>Balkán András</td></tr><tr><td>166</td><td>Balkán András</td></tr><tr><td>167</td><td>Balkán András</td></tr><tr><td>168</td><td>Balkán András</td></tr><tr><td>169</td><td>Balkán András</td></tr><tr><td>170</td><td>Balkán András</td></tr><tr><td>171</td><td>Balkán András</td></tr><tr><td>172</td><td>Balkán András</td></tr><tr><td>173</td><td>Balkán András</td></tr><tr><td>174</td><td>Balkán András</td></tr><tr><td>175</td><td>Balkán András</td></tr><tr><td>176</td><td>Balkán András</td></tr><tr><td>177</td><td>Balkán András</td></tr><tr><td>178</td><td>Balkán András</td></tr><tr><td>179</td><td>Balkán András</td></tr><tr><td>180</td><td>Balkán András</td></tr><tr><td>181</td><td>Balkán András</td></tr><tr><td>182</td><td>Balkán András</td></tr><tr><td>183</td><td>Balkán András</td></tr><tr><td>184</td><td>Balkán András</td></tr><tr><td>185</td><td>Balkán András</td></tr><tr><td>187</td><td>Balkán András</td></tr><tr><td>188</td><td>Balkán András</td></tr><tr><td>189</td><td>Balkán András</td></tr><tr><td>190</td><td>Balkán András</td></tr></table>"
                    },
                    "metadata": {}
                }
            ],
            "execution_count": 46
        },
        {
            "cell_type": "markdown",
            "source": [
                "13. <span style=\"color: rgb(36, 41, 47); font-family: -apple-system, BlinkMacSystemFont, &quot;Segoe UI&quot;, Helvetica, Arial, sans-serif, &quot;Apple Color Emoji&quot;, &quot;Segoe UI Emoji&quot;; font-size: 16px;\">Készítsünk listát, amely megjeleníti, hogy az Orak táblában lévő órák közül hányat tart Dr., illetve nem Dr. titulusú tanár!</span>\n",
                "\n",
                "1. Az oszlopokat nevezzük el értelemszerűen!"
            ],
            "metadata": {
                "azdata_cell_guid": "3f9237ae-f109-401c-acb9-31d75e73331b"
            },
            "attachments": {}
        },
        {
            "cell_type": "code",
            "source": [
                "SELECT CASE\r\n",
                "        WHEN okt.titulus = 'Dr.' THEN 'Doktor'\r\n",
                "        ELSE 'Nem doktor'\r\n",
                "        END as 'doktor?',\r\n",
                "        Count(*) AS 'Orak szama'\r\n",
                "FROM orak o JOIN Oktatok okt ON o.tanar = okt.oktato_id\r\n",
                "GROUP BY CAse WHEN okt.titulus = 'Dr.' THEN 'Doktor'\r\n",
                "        ELSE 'Nem doktor'\r\n",
                "        END\r\n",
                ""
            ],
            "metadata": {
                "azdata_cell_guid": "4b31bb89-cfbc-46b1-8639-85c462877786",
                "language": "sql"
            },
            "outputs": [
                {
                    "output_type": "display_data",
                    "data": {
                        "text/html": "(2 rows affected)"
                    },
                    "metadata": {}
                },
                {
                    "output_type": "display_data",
                    "data": {
                        "text/html": "Total execution time: 00:00:00.013"
                    },
                    "metadata": {}
                },
                {
                    "output_type": "execute_result",
                    "execution_count": 68,
                    "data": {
                        "application/vnd.dataresource+json": {
                            "schema": {
                                "fields": [
                                    {
                                        "name": "doktor?"
                                    },
                                    {
                                        "name": "Orak szama"
                                    }
                                ]
                            },
                            "data": [
                                {
                                    "doktor?": "Doktor",
                                    "Orak szama": "25"
                                },
                                {
                                    "doktor?": "Nem doktor",
                                    "Orak szama": "42"
                                }
                            ]
                        },
                        "text/html": "<table><tr><th>doktor?</th><th>Orak szama</th></tr><tr><td>Doktor</td><td>25</td></tr><tr><td>Nem doktor</td><td>42</td></tr></table>"
                    },
                    "metadata": {}
                }
            ],
            "execution_count": 68
        },
        {
            "cell_type": "markdown",
            "source": [
                "14. <span style=\"color: rgb(36, 41, 47); font-family: -apple-system, BlinkMacSystemFont, &quot;Segoe UI&quot;, Helvetica, Arial, sans-serif, &quot;Apple Color Emoji&quot;, &quot;Segoe UI Emoji&quot;; font-size: 16px;\">Készítsünk listát arról, hogy beosztásonként hány óra szerepel az Orak táblában!</span>\n",
                "\n",
                "1. Jelenítsük meg a beosztások nevét és az órák számát!\n",
                "2. A listát szűrjük azokra a beosztásokra, ahol ez az óraszám 10 feletti!"
            ],
            "metadata": {
                "azdata_cell_guid": "f634e09a-85ef-4e70-8ec6-ef355dfddaa7"
            },
            "attachments": {}
        },
        {
            "cell_type": "code",
            "source": [
                "SELECT b.beosztasnev, COUNT(*) AS 'Óraszám'\r\n",
                "FROM Orak o JOIN Oktatok okt ON o.tanar = okt.oktato_id\r\n",
                "\t\t    JOIN Beosztasok b ON okt.beosztás = b.beosztas_id\r\n",
                "GROUP BY b.beosztasnev\r\n",
                "HAVING COUNT(*) > 10"
            ],
            "metadata": {
                "azdata_cell_guid": "88abc55b-2c78-495b-a72f-3f8f4eb5fe70",
                "language": "sql"
            },
            "outputs": [
                {
                    "output_type": "display_data",
                    "data": {
                        "text/html": "(3 rows affected)"
                    },
                    "metadata": {}
                },
                {
                    "output_type": "display_data",
                    "data": {
                        "text/html": "Total execution time: 00:00:00.008"
                    },
                    "metadata": {}
                },
                {
                    "output_type": "execute_result",
                    "execution_count": 89,
                    "data": {
                        "application/vnd.dataresource+json": {
                            "schema": {
                                "fields": [
                                    {
                                        "name": "beosztasnev"
                                    },
                                    {
                                        "name": "Óraszám"
                                    }
                                ]
                            },
                            "data": [
                                {
                                    "beosztasnev": "Adjunktus",
                                    "Óraszám": "14"
                                },
                                {
                                    "beosztasnev": "Egyetemi tanár",
                                    "Óraszám": "11"
                                },
                                {
                                    "beosztasnev": "Tanársegéd",
                                    "Óraszám": "22"
                                }
                            ]
                        },
                        "text/html": "<table><tr><th>beosztasnev</th><th>Óraszám</th></tr><tr><td>Adjunktus</td><td>14</td></tr><tr><td>Egyetemi tanár</td><td>11</td></tr><tr><td>Tanársegéd</td><td>22</td></tr></table>"
                    },
                    "metadata": {}
                }
            ],
            "execution_count": 89
        },
        {
            "cell_type": "markdown",
            "source": [
                "15. <span style=\"color: rgb(36, 41, 47); font-family: -apple-system, BlinkMacSystemFont, &quot;Segoe UI&quot;, Helvetica, Arial, sans-serif, &quot;Apple Color Emoji&quot;, &quot;Segoe UI Emoji&quot;; font-size: 16px;\">Melyek azok az órák, amelyek kezdési időpontja olyan sávba esik, amely a mostani időpont (óra:perc) után van?</span>\n",
                "\n",
                "1. Listázzuk az órák azonosítóit, valamint az órakezdés napját és időpontját!\n",
                "2. A listát rendezzük az időpont szerint növekvő sorrendbe!"
            ],
            "metadata": {
                "azdata_cell_guid": "4cbf2f0d-a65d-480a-8186-ccdb24498443"
            },
            "attachments": {}
        },
        {
            "cell_type": "code",
            "source": [
                "SELECT o.ora_id AS 'Tárgy azonosítója',\r\n",
                "        n.nap AS 'Kezdés napja',\r\n",
                "        s.Időpont AS 'Kezdés időpontja'\r\n",
                "FROM Orak o JOIN Napok n ON o.nap = n.nap_id\r\n",
                "            JOIN Savok s ON o.Sav = s.sav_id\r\n",
                "WHERE cast(LEFT(időpont, CHARINDEX('.', időpont)-1)+':'+RIGHT(időpont,2)as time) > CAST(GETDATE() AS time)\r\n",
                "ORDER BY s.Időpont"
            ],
            "metadata": {
                "azdata_cell_guid": "c148aee8-bc85-40bf-b80a-a4898a6c05cb",
                "language": "sql"
            },
            "outputs": [
                {
                    "output_type": "display_data",
                    "data": {
                        "text/html": "(67 rows affected)"
                    },
                    "metadata": {}
                },
                {
                    "output_type": "display_data",
                    "data": {
                        "text/html": "Total execution time: 00:00:00.060"
                    },
                    "metadata": {}
                },
                {
                    "output_type": "execute_result",
                    "execution_count": 103,
                    "data": {
                        "application/vnd.dataresource+json": {
                            "schema": {
                                "fields": [
                                    {
                                        "name": "Tárgy azonosítója"
                                    },
                                    {
                                        "name": "Kezdés napja"
                                    },
                                    {
                                        "name": "Kezdés időpontja"
                                    }
                                ]
                            },
                            "data": [
                                {
                                    "Tárgy azonosítója": "164",
                                    "Kezdés napja": "Kedd",
                                    "Kezdés időpontja": "11.00"
                                },
                                {
                                    "Tárgy azonosítója": "165",
                                    "Kezdés napja": "Kedd",
                                    "Kezdés időpontja": "11.00"
                                },
                                {
                                    "Tárgy azonosítója": "168",
                                    "Kezdés napja": "Csütörtök",
                                    "Kezdés időpontja": "11.00"
                                },
                                {
                                    "Tárgy azonosítója": "173",
                                    "Kezdés napja": "Csütörtök",
                                    "Kezdés időpontja": "11.00"
                                },
                                {
                                    "Tárgy azonosítója": "174",
                                    "Kezdés napja": "Csütörtök",
                                    "Kezdés időpontja": "11.00"
                                },
                                {
                                    "Tárgy azonosítója": "185",
                                    "Kezdés napja": "Csütörtök",
                                    "Kezdés időpontja": "11.00"
                                },
                                {
                                    "Tárgy azonosítója": "190",
                                    "Kezdés napja": "Péntek",
                                    "Kezdés időpontja": "11.00"
                                },
                                {
                                    "Tárgy azonosítója": "214",
                                    "Kezdés napja": "Hétfő",
                                    "Kezdés időpontja": "11.00"
                                },
                                {
                                    "Tárgy azonosítója": "216",
                                    "Kezdés napja": "Hétfő",
                                    "Kezdés időpontja": "11.00"
                                },
                                {
                                    "Tárgy azonosítója": "220",
                                    "Kezdés napja": "Kedd",
                                    "Kezdés időpontja": "11.00"
                                },
                                {
                                    "Tárgy azonosítója": "221",
                                    "Kezdés napja": "Szerda",
                                    "Kezdés időpontja": "11.00"
                                },
                                {
                                    "Tárgy azonosítója": "226",
                                    "Kezdés napja": "Szerda",
                                    "Kezdés időpontja": "11.00"
                                },
                                {
                                    "Tárgy azonosítója": "162",
                                    "Kezdés napja": "Hétfő",
                                    "Kezdés időpontja": "12.30"
                                },
                                {
                                    "Tárgy azonosítója": "166",
                                    "Kezdés napja": "Kedd",
                                    "Kezdés időpontja": "12.30"
                                },
                                {
                                    "Tárgy azonosítója": "167",
                                    "Kezdés napja": "Hétfő",
                                    "Kezdés időpontja": "12.30"
                                },
                                {
                                    "Tárgy azonosítója": "175",
                                    "Kezdés napja": "Csütörtök",
                                    "Kezdés időpontja": "12.30"
                                },
                                {
                                    "Tárgy azonosítója": "176",
                                    "Kezdés napja": "Csütörtök",
                                    "Kezdés időpontja": "12.30"
                                },
                                {
                                    "Tárgy azonosítója": "186",
                                    "Kezdés napja": "Kedd",
                                    "Kezdés időpontja": "12.30"
                                },
                                {
                                    "Tárgy azonosítója": "201",
                                    "Kezdés napja": "Csütörtök",
                                    "Kezdés időpontja": "12.30"
                                },
                                {
                                    "Tárgy azonosítója": "203",
                                    "Kezdés napja": "Hétfő",
                                    "Kezdés időpontja": "12.30"
                                },
                                {
                                    "Tárgy azonosítója": "205",
                                    "Kezdés napja": "Hétfő",
                                    "Kezdés időpontja": "12.30"
                                },
                                {
                                    "Tárgy azonosítója": "207",
                                    "Kezdés napja": "Csütörtök",
                                    "Kezdés időpontja": "12.30"
                                },
                                {
                                    "Tárgy azonosítója": "215",
                                    "Kezdés napja": "Hétfő",
                                    "Kezdés időpontja": "12.30"
                                },
                                {
                                    "Tárgy azonosítója": "217",
                                    "Kezdés napja": "Hétfő",
                                    "Kezdés időpontja": "12.30"
                                },
                                {
                                    "Tárgy azonosítója": "160",
                                    "Kezdés napja": "Kedd",
                                    "Kezdés időpontja": "14.00"
                                },
                                {
                                    "Tárgy azonosítója": "177",
                                    "Kezdés napja": "Csütörtök",
                                    "Kezdés időpontja": "14.00"
                                },
                                {
                                    "Tárgy azonosítója": "178",
                                    "Kezdés napja": "Csütörtök",
                                    "Kezdés időpontja": "14.00"
                                },
                                {
                                    "Tárgy azonosítója": "191",
                                    "Kezdés napja": "Hétfő",
                                    "Kezdés időpontja": "14.00"
                                },
                                {
                                    "Tárgy azonosítója": "193",
                                    "Kezdés napja": "Hétfő",
                                    "Kezdés időpontja": "14.00"
                                },
                                {
                                    "Tárgy azonosítója": "195",
                                    "Kezdés napja": "Hétfő",
                                    "Kezdés időpontja": "14.00"
                                },
                                {
                                    "Tárgy azonosítója": "202",
                                    "Kezdés napja": "Csütörtök",
                                    "Kezdés időpontja": "14.00"
                                },
                                {
                                    "Tárgy azonosítója": "204",
                                    "Kezdés napja": "Kedd",
                                    "Kezdés időpontja": "14.00"
                                },
                                {
                                    "Tárgy azonosítója": "222",
                                    "Kezdés napja": "Csütörtök",
                                    "Kezdés időpontja": "14.00"
                                },
                                {
                                    "Tárgy azonosítója": "227",
                                    "Kezdés napja": "Kedd",
                                    "Kezdés időpontja": "14.00"
                                },
                                {
                                    "Tárgy azonosítója": "179",
                                    "Kezdés napja": "Csütörtök",
                                    "Kezdés időpontja": "15.30"
                                },
                                {
                                    "Tárgy azonosítója": "180",
                                    "Kezdés napja": "Csütörtök",
                                    "Kezdés időpontja": "15.30"
                                },
                                {
                                    "Tárgy azonosítója": "188",
                                    "Kezdés napja": "Csütörtök",
                                    "Kezdés időpontja": "15.30"
                                },
                                {
                                    "Tárgy azonosítója": "192",
                                    "Kezdés napja": "Hétfő",
                                    "Kezdés időpontja": "15.30"
                                },
                                {
                                    "Tárgy azonosítója": "194",
                                    "Kezdés napja": "Hétfő",
                                    "Kezdés időpontja": "15.30"
                                },
                                {
                                    "Tárgy azonosítója": "196",
                                    "Kezdés napja": "Hétfő",
                                    "Kezdés időpontja": "15.30"
                                },
                                {
                                    "Tárgy azonosítója": "210",
                                    "Kezdés napja": "Hétfő",
                                    "Kezdés időpontja": "15.30"
                                },
                                {
                                    "Tárgy azonosítója": "218",
                                    "Kezdés napja": "Kedd",
                                    "Kezdés időpontja": "15.30"
                                },
                                {
                                    "Tárgy azonosítója": "211",
                                    "Kezdés napja": "Hétfő",
                                    "Kezdés időpontja": "17.00"
                                },
                                {
                                    "Tárgy azonosítója": "219",
                                    "Kezdés napja": "Kedd",
                                    "Kezdés időpontja": "17.00"
                                },
                                {
                                    "Tárgy azonosítója": "212",
                                    "Kezdés napja": "Hétfő",
                                    "Kezdés időpontja": "18.30"
                                },
                                {
                                    "Tárgy azonosítója": "213",
                                    "Kezdés napja": "Hétfő",
                                    "Kezdés időpontja": "20.00"
                                },
                                {
                                    "Tárgy azonosítója": "159",
                                    "Kezdés napja": "Szerda",
                                    "Kezdés időpontja": "8.00"
                                },
                                {
                                    "Tárgy azonosítója": "181",
                                    "Kezdés napja": "Péntek",
                                    "Kezdés időpontja": "8.00"
                                },
                                {
                                    "Tárgy azonosítója": "182",
                                    "Kezdés napja": "Péntek",
                                    "Kezdés időpontja": "8.00"
                                },
                                {
                                    "Tárgy azonosítója": "197",
                                    "Kezdés napja": "Csütörtök",
                                    "Kezdés időpontja": "8.00"
                                },
                                {
                                    "Tárgy azonosítója": "199",
                                    "Kezdés napja": "Csütörtök",
                                    "Kezdés időpontja": "8.00"
                                },
                                {
                                    "Tárgy azonosítója": "206",
                                    "Kezdés napja": "Kedd",
                                    "Kezdés időpontja": "8.00"
                                },
                                {
                                    "Tárgy azonosítója": "208",
                                    "Kezdés napja": "Hétfő",
                                    "Kezdés időpontja": "8.00"
                                },
                                {
                                    "Tárgy azonosítója": "223",
                                    "Kezdés napja": "Péntek",
                                    "Kezdés időpontja": "8.00"
                                },
                                {
                                    "Tárgy azonosítója": "161",
                                    "Kezdés napja": "Hétfő",
                                    "Kezdés időpontja": "9.30"
                                },
                                {
                                    "Tárgy azonosítója": "163",
                                    "Kezdés napja": "Szerda",
                                    "Kezdés időpontja": "9.30"
                                },
                                {
                                    "Tárgy azonosítója": "169",
                                    "Kezdés napja": "Hétfő",
                                    "Kezdés időpontja": "9.30"
                                },
                                {
                                    "Tárgy azonosítója": "170",
                                    "Kezdés napja": "Hétfő",
                                    "Kezdés időpontja": "9.30"
                                },
                                {
                                    "Tárgy azonosítója": "171",
                                    "Kezdés napja": "Kedd",
                                    "Kezdés időpontja": "9.30"
                                },
                                {
                                    "Tárgy azonosítója": "172",
                                    "Kezdés napja": "Kedd",
                                    "Kezdés időpontja": "9.30"
                                },
                                {
                                    "Tárgy azonosítója": "183",
                                    "Kezdés napja": "Péntek",
                                    "Kezdés időpontja": "9.30"
                                },
                                {
                                    "Tárgy azonosítója": "184",
                                    "Kezdés napja": "Péntek",
                                    "Kezdés időpontja": "9.30"
                                },
                                {
                                    "Tárgy azonosítója": "187",
                                    "Kezdés napja": "Szerda",
                                    "Kezdés időpontja": "9.30"
                                },
                                {
                                    "Tárgy azonosítója": "189",
                                    "Kezdés napja": "Csütörtök",
                                    "Kezdés időpontja": "9.30"
                                },
                                {
                                    "Tárgy azonosítója": "198",
                                    "Kezdés napja": "Szerda",
                                    "Kezdés időpontja": "9.30"
                                },
                                {
                                    "Tárgy azonosítója": "200",
                                    "Kezdés napja": "Csütörtök",
                                    "Kezdés időpontja": "9.30"
                                },
                                {
                                    "Tárgy azonosítója": "209",
                                    "Kezdés napja": "Hétfő",
                                    "Kezdés időpontja": "9.30"
                                }
                            ]
                        },
                        "text/html": "<table><tr><th>Tárgy azonosítója</th><th>Kezdés napja</th><th>Kezdés időpontja</th></tr><tr><td>164</td><td>Kedd</td><td>11.00</td></tr><tr><td>165</td><td>Kedd</td><td>11.00</td></tr><tr><td>168</td><td>Csütörtök</td><td>11.00</td></tr><tr><td>173</td><td>Csütörtök</td><td>11.00</td></tr><tr><td>174</td><td>Csütörtök</td><td>11.00</td></tr><tr><td>185</td><td>Csütörtök</td><td>11.00</td></tr><tr><td>190</td><td>Péntek</td><td>11.00</td></tr><tr><td>214</td><td>Hétfő</td><td>11.00</td></tr><tr><td>216</td><td>Hétfő</td><td>11.00</td></tr><tr><td>220</td><td>Kedd</td><td>11.00</td></tr><tr><td>221</td><td>Szerda</td><td>11.00</td></tr><tr><td>226</td><td>Szerda</td><td>11.00</td></tr><tr><td>162</td><td>Hétfő</td><td>12.30</td></tr><tr><td>166</td><td>Kedd</td><td>12.30</td></tr><tr><td>167</td><td>Hétfő</td><td>12.30</td></tr><tr><td>175</td><td>Csütörtök</td><td>12.30</td></tr><tr><td>176</td><td>Csütörtök</td><td>12.30</td></tr><tr><td>186</td><td>Kedd</td><td>12.30</td></tr><tr><td>201</td><td>Csütörtök</td><td>12.30</td></tr><tr><td>203</td><td>Hétfő</td><td>12.30</td></tr><tr><td>205</td><td>Hétfő</td><td>12.30</td></tr><tr><td>207</td><td>Csütörtök</td><td>12.30</td></tr><tr><td>215</td><td>Hétfő</td><td>12.30</td></tr><tr><td>217</td><td>Hétfő</td><td>12.30</td></tr><tr><td>160</td><td>Kedd</td><td>14.00</td></tr><tr><td>177</td><td>Csütörtök</td><td>14.00</td></tr><tr><td>178</td><td>Csütörtök</td><td>14.00</td></tr><tr><td>191</td><td>Hétfő</td><td>14.00</td></tr><tr><td>193</td><td>Hétfő</td><td>14.00</td></tr><tr><td>195</td><td>Hétfő</td><td>14.00</td></tr><tr><td>202</td><td>Csütörtök</td><td>14.00</td></tr><tr><td>204</td><td>Kedd</td><td>14.00</td></tr><tr><td>222</td><td>Csütörtök</td><td>14.00</td></tr><tr><td>227</td><td>Kedd</td><td>14.00</td></tr><tr><td>179</td><td>Csütörtök</td><td>15.30</td></tr><tr><td>180</td><td>Csütörtök</td><td>15.30</td></tr><tr><td>188</td><td>Csütörtök</td><td>15.30</td></tr><tr><td>192</td><td>Hétfő</td><td>15.30</td></tr><tr><td>194</td><td>Hétfő</td><td>15.30</td></tr><tr><td>196</td><td>Hétfő</td><td>15.30</td></tr><tr><td>210</td><td>Hétfő</td><td>15.30</td></tr><tr><td>218</td><td>Kedd</td><td>15.30</td></tr><tr><td>211</td><td>Hétfő</td><td>17.00</td></tr><tr><td>219</td><td>Kedd</td><td>17.00</td></tr><tr><td>212</td><td>Hétfő</td><td>18.30</td></tr><tr><td>213</td><td>Hétfő</td><td>20.00</td></tr><tr><td>159</td><td>Szerda</td><td>8.00</td></tr><tr><td>181</td><td>Péntek</td><td>8.00</td></tr><tr><td>182</td><td>Péntek</td><td>8.00</td></tr><tr><td>197</td><td>Csütörtök</td><td>8.00</td></tr><tr><td>199</td><td>Csütörtök</td><td>8.00</td></tr><tr><td>206</td><td>Kedd</td><td>8.00</td></tr><tr><td>208</td><td>Hétfő</td><td>8.00</td></tr><tr><td>223</td><td>Péntek</td><td>8.00</td></tr><tr><td>161</td><td>Hétfő</td><td>9.30</td></tr><tr><td>163</td><td>Szerda</td><td>9.30</td></tr><tr><td>169</td><td>Hétfő</td><td>9.30</td></tr><tr><td>170</td><td>Hétfő</td><td>9.30</td></tr><tr><td>171</td><td>Kedd</td><td>9.30</td></tr><tr><td>172</td><td>Kedd</td><td>9.30</td></tr><tr><td>183</td><td>Péntek</td><td>9.30</td></tr><tr><td>184</td><td>Péntek</td><td>9.30</td></tr><tr><td>187</td><td>Szerda</td><td>9.30</td></tr><tr><td>189</td><td>Csütörtök</td><td>9.30</td></tr><tr><td>198</td><td>Szerda</td><td>9.30</td></tr><tr><td>200</td><td>Csütörtök</td><td>9.30</td></tr><tr><td>209</td><td>Hétfő</td><td>9.30</td></tr></table>"
                    },
                    "metadata": {}
                }
            ],
            "execution_count": 103
        },
        {
            "cell_type": "code",
            "source": [
                "select CAST(GETDATE()AS time)\r\n",
                "from savok"
            ],
            "metadata": {
                "azdata_cell_guid": "6407a6ef-9991-4082-9a8b-5c5a0ed0b183",
                "language": "sql"
            },
            "outputs": [
                {
                    "output_type": "display_data",
                    "data": {
                        "text/html": "(9 rows affected)"
                    },
                    "metadata": {}
                },
                {
                    "output_type": "display_data",
                    "data": {
                        "text/html": "Total execution time: 00:00:00.027"
                    },
                    "metadata": {}
                },
                {
                    "output_type": "execute_result",
                    "execution_count": 101,
                    "data": {
                        "application/vnd.dataresource+json": {
                            "schema": {
                                "fields": [
                                    {
                                        "name": "(No column name)"
                                    }
                                ]
                            },
                            "data": [
                                {
                                    "(No column name)": "00:18:12.3866667"
                                },
                                {
                                    "(No column name)": "00:18:12.3866667"
                                },
                                {
                                    "(No column name)": "00:18:12.3866667"
                                },
                                {
                                    "(No column name)": "00:18:12.3866667"
                                },
                                {
                                    "(No column name)": "00:18:12.3866667"
                                },
                                {
                                    "(No column name)": "00:18:12.3866667"
                                },
                                {
                                    "(No column name)": "00:18:12.3866667"
                                },
                                {
                                    "(No column name)": "00:18:12.3866667"
                                },
                                {
                                    "(No column name)": "00:18:12.3866667"
                                }
                            ]
                        },
                        "text/html": "<table><tr><th>(No column name)</th></tr><tr><td>00:18:12.3866667</td></tr><tr><td>00:18:12.3866667</td></tr><tr><td>00:18:12.3866667</td></tr><tr><td>00:18:12.3866667</td></tr><tr><td>00:18:12.3866667</td></tr><tr><td>00:18:12.3866667</td></tr><tr><td>00:18:12.3866667</td></tr><tr><td>00:18:12.3866667</td></tr><tr><td>00:18:12.3866667</td></tr></table>"
                    },
                    "metadata": {}
                }
            ],
            "execution_count": 101
        }
    ]
}