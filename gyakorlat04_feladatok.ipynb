{
    "metadata": {
        "kernelspec": {
            "name": "SQL",
            "display_name": "SQL",
            "language": "sql"
        },
        "language_info": {
            "name": "sql",
            "version": ""
        }
    },
    "nbformat_minor": 2,
    "nbformat": 4,
    "cells": [
        {
            "cell_type": "markdown",
            "source": [
                "1. <span style=\"background-color: rgb(255, 255, 255); color: rgb(0, 0, 0); font-family: &quot;Open Sans&quot;, sans-serif; font-size: 14.44px;\">Készítsünk listát arról, hogy ügyfelenként (LOGIN), azon belül szállítási módonként hány megrendelés történt!&nbsp;</span> \n",
                "\n",
                "a. A lista tartalmazza a részösszegeket és a végösszeget is!  \n",
                "b. Használjuk a ROLLUP záradékot!"
            ],
            "metadata": {
                "azdata_cell_guid": "363cd270-6577-449b-9c89-d4b7c7972d52"
            },
            "attachments": {}
        },
        {
            "cell_type": "code",
            "source": [
                "SELECT LOGIN,\r\n",
                "    szall_mod,\r\n",
                "    count(*)\r\n",
                "FROM rendeles\r\n",
                "GROUP BY cube(LOGIN, szall_mod)"
            ],
            "metadata": {
                "azdata_cell_guid": "6ab9f633-a3b5-48c9-a1dc-4fb8235ae85b",
                "language": "sql",
                "tags": []
            },
            "outputs": [],
            "execution_count": 8
        },
        {
            "cell_type": "markdown",
            "source": [
                "2. <span style=\"background-color: rgb(255, 255, 255); color: rgb(0, 0, 0); font-family: &quot;Open Sans&quot;, sans-serif; font-size: 14.44px;\">Készítsünk listát a termékek számáról a következő csoportosítási szempontok szerint:<br>kategória azonosító, raktárkód, raktárkód+mennyiségi egység!</span>\n",
                "\n",
                "a. A listát szűrjük azokra a csoportokra, ahol a termékek száma legalább 6!"
            ],
            "metadata": {
                "azdata_cell_guid": "ea75c103-911f-41a3-a32c-3d40fb3e4e4a"
            },
            "attachments": {}
        },
        {
            "cell_type": "code",
            "source": [
                "select kat_id\r\n",
                "        raktar_kod,\r\n",
                "        megys,\r\n",
                "        count(*)\r\n",
                "from termek\r\n",
                "group by GROUPING SETS(kat_id,raktar_kod, (raktar_kod, megys))"
            ],
            "metadata": {
                "azdata_cell_guid": "222b9618-a8e8-42b4-a8e8-d002257122b7",
                "language": "sql",
                "tags": []
            },
            "outputs": [
                {
                    "output_type": "display_data",
                    "data": {
                        "text/html": "(174 rows affected)"
                    },
                    "metadata": {}
                },
                {
                    "output_type": "display_data",
                    "data": {
                        "text/html": "Total execution time: 00:00:00.024"
                    },
                    "metadata": {}
                },
                {
                    "output_type": "execute_result",
                    "metadata": {},
                    "execution_count": 2,
                    "data": {
                        "application/vnd.dataresource+json": {
                            "schema": {
                                "fields": [
                                    {
                                        "name": "raktar_kod"
                                    },
                                    {
                                        "name": "megys"
                                    },
                                    {
                                        "name": "(No column name)"
                                    }
                                ]
                            },
                            "data": [
                                {
                                    "raktar_kod": "NULL",
                                    "megys": "db",
                                    "(No column name)": "11"
                                },
                                {
                                    "raktar_kod": "NULL",
                                    "megys": "NULL",
                                    "(No column name)": "11"
                                },
                                {
                                    "raktar_kod": "NULL",
                                    "megys": "db",
                                    "(No column name)": "5"
                                },
                                {
                                    "raktar_kod": "NULL",
                                    "megys": "NULL",
                                    "(No column name)": "5"
                                },
                                {
                                    "raktar_kod": "NULL",
                                    "megys": "db",
                                    "(No column name)": "14"
                                },
                                {
                                    "raktar_kod": "NULL",
                                    "megys": "NULL",
                                    "(No column name)": "14"
                                },
                                {
                                    "raktar_kod": "NULL",
                                    "megys": "db",
                                    "(No column name)": "4"
                                },
                                {
                                    "raktar_kod": "NULL",
                                    "megys": "NULL",
                                    "(No column name)": "4"
                                },
                                {
                                    "raktar_kod": "NULL",
                                    "megys": "csomag",
                                    "(No column name)": "7"
                                },
                                {
                                    "raktar_kod": "NULL",
                                    "megys": "db",
                                    "(No column name)": "72"
                                },
                                {
                                    "raktar_kod": "NULL",
                                    "megys": "doboz",
                                    "(No column name)": "1"
                                },
                                {
                                    "raktar_kod": "NULL",
                                    "megys": "ív",
                                    "(No column name)": "5"
                                },
                                {
                                    "raktar_kod": "NULL",
                                    "megys": "üveg",
                                    "(No column name)": "1"
                                },
                                {
                                    "raktar_kod": "NULL",
                                    "megys": "NULL",
                                    "(No column name)": "86"
                                },
                                {
                                    "raktar_kod": "NULL",
                                    "megys": "csomag",
                                    "(No column name)": "9"
                                },
                                {
                                    "raktar_kod": "NULL",
                                    "megys": "db",
                                    "(No column name)": "94"
                                },
                                {
                                    "raktar_kod": "NULL",
                                    "megys": "ív",
                                    "(No column name)": "3"
                                },
                                {
                                    "raktar_kod": "NULL",
                                    "megys": "NULL",
                                    "(No column name)": "106"
                                },
                                {
                                    "raktar_kod": "NULL",
                                    "megys": "csomag",
                                    "(No column name)": "9"
                                },
                                {
                                    "raktar_kod": "NULL",
                                    "megys": "db",
                                    "(No column name)": "88"
                                },
                                {
                                    "raktar_kod": "NULL",
                                    "megys": "ív",
                                    "(No column name)": "2"
                                },
                                {
                                    "raktar_kod": "NULL",
                                    "megys": "tekercs",
                                    "(No column name)": "1"
                                },
                                {
                                    "raktar_kod": "NULL",
                                    "megys": "NULL",
                                    "(No column name)": "100"
                                },
                                {
                                    "raktar_kod": "NULL",
                                    "megys": "csomag",
                                    "(No column name)": "8"
                                },
                                {
                                    "raktar_kod": "NULL",
                                    "megys": "db",
                                    "(No column name)": "109"
                                },
                                {
                                    "raktar_kod": "NULL",
                                    "megys": "ív",
                                    "(No column name)": "6"
                                },
                                {
                                    "raktar_kod": "NULL",
                                    "megys": "NULL",
                                    "(No column name)": "123"
                                },
                                {
                                    "raktar_kod": "NULL",
                                    "megys": "csomag",
                                    "(No column name)": "11"
                                },
                                {
                                    "raktar_kod": "NULL",
                                    "megys": "db",
                                    "(No column name)": "86"
                                },
                                {
                                    "raktar_kod": "NULL",
                                    "megys": "ív",
                                    "(No column name)": "5"
                                },
                                {
                                    "raktar_kod": "NULL",
                                    "megys": "NULL",
                                    "(No column name)": "102"
                                },
                                {
                                    "raktar_kod": "4",
                                    "megys": "NULL",
                                    "(No column name)": "15"
                                },
                                {
                                    "raktar_kod": "5",
                                    "megys": "NULL",
                                    "(No column name)": "3"
                                },
                                {
                                    "raktar_kod": "6",
                                    "megys": "NULL",
                                    "(No column name)": "20"
                                },
                                {
                                    "raktar_kod": "7",
                                    "megys": "NULL",
                                    "(No column name)": "3"
                                },
                                {
                                    "raktar_kod": "8",
                                    "megys": "NULL",
                                    "(No column name)": "3"
                                },
                                {
                                    "raktar_kod": "9",
                                    "megys": "NULL",
                                    "(No column name)": "2"
                                },
                                {
                                    "raktar_kod": "10",
                                    "megys": "NULL",
                                    "(No column name)": "1"
                                },
                                {
                                    "raktar_kod": "11",
                                    "megys": "NULL",
                                    "(No column name)": "1"
                                },
                                {
                                    "raktar_kod": "12",
                                    "megys": "NULL",
                                    "(No column name)": "1"
                                },
                                {
                                    "raktar_kod": "13",
                                    "megys": "NULL",
                                    "(No column name)": "2"
                                },
                                {
                                    "raktar_kod": "14",
                                    "megys": "NULL",
                                    "(No column name)": "4"
                                },
                                {
                                    "raktar_kod": "15",
                                    "megys": "NULL",
                                    "(No column name)": "1"
                                },
                                {
                                    "raktar_kod": "16",
                                    "megys": "NULL",
                                    "(No column name)": "7"
                                },
                                {
                                    "raktar_kod": "17",
                                    "megys": "NULL",
                                    "(No column name)": "1"
                                },
                                {
                                    "raktar_kod": "18",
                                    "megys": "NULL",
                                    "(No column name)": "2"
                                },
                                {
                                    "raktar_kod": "19",
                                    "megys": "NULL",
                                    "(No column name)": "19"
                                },
                                {
                                    "raktar_kod": "20",
                                    "megys": "NULL",
                                    "(No column name)": "3"
                                },
                                {
                                    "raktar_kod": "21",
                                    "megys": "NULL",
                                    "(No column name)": "5"
                                },
                                {
                                    "raktar_kod": "22",
                                    "megys": "NULL",
                                    "(No column name)": "2"
                                },
                                {
                                    "raktar_kod": "24",
                                    "megys": "NULL",
                                    "(No column name)": "7"
                                },
                                {
                                    "raktar_kod": "25",
                                    "megys": "NULL",
                                    "(No column name)": "4"
                                },
                                {
                                    "raktar_kod": "26",
                                    "megys": "NULL",
                                    "(No column name)": "1"
                                },
                                {
                                    "raktar_kod": "27",
                                    "megys": "NULL",
                                    "(No column name)": "3"
                                },
                                {
                                    "raktar_kod": "28",
                                    "megys": "NULL",
                                    "(No column name)": "5"
                                },
                                {
                                    "raktar_kod": "29",
                                    "megys": "NULL",
                                    "(No column name)": "1"
                                },
                                {
                                    "raktar_kod": "30",
                                    "megys": "NULL",
                                    "(No column name)": "7"
                                },
                                {
                                    "raktar_kod": "31",
                                    "megys": "NULL",
                                    "(No column name)": "1"
                                },
                                {
                                    "raktar_kod": "32",
                                    "megys": "NULL",
                                    "(No column name)": "3"
                                },
                                {
                                    "raktar_kod": "33",
                                    "megys": "NULL",
                                    "(No column name)": "1"
                                },
                                {
                                    "raktar_kod": "34",
                                    "megys": "NULL",
                                    "(No column name)": "1"
                                },
                                {
                                    "raktar_kod": "35",
                                    "megys": "NULL",
                                    "(No column name)": "7"
                                },
                                {
                                    "raktar_kod": "36",
                                    "megys": "NULL",
                                    "(No column name)": "5"
                                },
                                {
                                    "raktar_kod": "37",
                                    "megys": "NULL",
                                    "(No column name)": "1"
                                },
                                {
                                    "raktar_kod": "38",
                                    "megys": "NULL",
                                    "(No column name)": "1"
                                },
                                {
                                    "raktar_kod": "39",
                                    "megys": "NULL",
                                    "(No column name)": "2"
                                },
                                {
                                    "raktar_kod": "40",
                                    "megys": "NULL",
                                    "(No column name)": "1"
                                },
                                {
                                    "raktar_kod": "41",
                                    "megys": "NULL",
                                    "(No column name)": "13"
                                },
                                {
                                    "raktar_kod": "42",
                                    "megys": "NULL",
                                    "(No column name)": "1"
                                },
                                {
                                    "raktar_kod": "43",
                                    "megys": "NULL",
                                    "(No column name)": "3"
                                },
                                {
                                    "raktar_kod": "44",
                                    "megys": "NULL",
                                    "(No column name)": "1"
                                },
                                {
                                    "raktar_kod": "45",
                                    "megys": "NULL",
                                    "(No column name)": "11"
                                },
                                {
                                    "raktar_kod": "46",
                                    "megys": "NULL",
                                    "(No column name)": "7"
                                },
                                {
                                    "raktar_kod": "47",
                                    "megys": "NULL",
                                    "(No column name)": "4"
                                },
                                {
                                    "raktar_kod": "48",
                                    "megys": "NULL",
                                    "(No column name)": "2"
                                },
                                {
                                    "raktar_kod": "49",
                                    "megys": "NULL",
                                    "(No column name)": "2"
                                },
                                {
                                    "raktar_kod": "50",
                                    "megys": "NULL",
                                    "(No column name)": "1"
                                },
                                {
                                    "raktar_kod": "51",
                                    "megys": "NULL",
                                    "(No column name)": "3"
                                },
                                {
                                    "raktar_kod": "52",
                                    "megys": "NULL",
                                    "(No column name)": "26"
                                },
                                {
                                    "raktar_kod": "53",
                                    "megys": "NULL",
                                    "(No column name)": "1"
                                },
                                {
                                    "raktar_kod": "54",
                                    "megys": "NULL",
                                    "(No column name)": "6"
                                },
                                {
                                    "raktar_kod": "55",
                                    "megys": "NULL",
                                    "(No column name)": "2"
                                },
                                {
                                    "raktar_kod": "56",
                                    "megys": "NULL",
                                    "(No column name)": "4"
                                },
                                {
                                    "raktar_kod": "57",
                                    "megys": "NULL",
                                    "(No column name)": "2"
                                },
                                {
                                    "raktar_kod": "58",
                                    "megys": "NULL",
                                    "(No column name)": "3"
                                },
                                {
                                    "raktar_kod": "59",
                                    "megys": "NULL",
                                    "(No column name)": "4"
                                },
                                {
                                    "raktar_kod": "60",
                                    "megys": "NULL",
                                    "(No column name)": "5"
                                },
                                {
                                    "raktar_kod": "61",
                                    "megys": "NULL",
                                    "(No column name)": "1"
                                },
                                {
                                    "raktar_kod": "62",
                                    "megys": "NULL",
                                    "(No column name)": "2"
                                },
                                {
                                    "raktar_kod": "64",
                                    "megys": "NULL",
                                    "(No column name)": "4"
                                },
                                {
                                    "raktar_kod": "65",
                                    "megys": "NULL",
                                    "(No column name)": "2"
                                },
                                {
                                    "raktar_kod": "66",
                                    "megys": "NULL",
                                    "(No column name)": "7"
                                },
                                {
                                    "raktar_kod": "67",
                                    "megys": "NULL",
                                    "(No column name)": "2"
                                },
                                {
                                    "raktar_kod": "68",
                                    "megys": "NULL",
                                    "(No column name)": "2"
                                },
                                {
                                    "raktar_kod": "70",
                                    "megys": "NULL",
                                    "(No column name)": "3"
                                },
                                {
                                    "raktar_kod": "71",
                                    "megys": "NULL",
                                    "(No column name)": "2"
                                },
                                {
                                    "raktar_kod": "72",
                                    "megys": "NULL",
                                    "(No column name)": "2"
                                },
                                {
                                    "raktar_kod": "73",
                                    "megys": "NULL",
                                    "(No column name)": "2"
                                },
                                {
                                    "raktar_kod": "74",
                                    "megys": "NULL",
                                    "(No column name)": "1"
                                },
                                {
                                    "raktar_kod": "75",
                                    "megys": "NULL",
                                    "(No column name)": "2"
                                },
                                {
                                    "raktar_kod": "76",
                                    "megys": "NULL",
                                    "(No column name)": "5"
                                },
                                {
                                    "raktar_kod": "78",
                                    "megys": "NULL",
                                    "(No column name)": "24"
                                },
                                {
                                    "raktar_kod": "79",
                                    "megys": "NULL",
                                    "(No column name)": "4"
                                },
                                {
                                    "raktar_kod": "80",
                                    "megys": "NULL",
                                    "(No column name)": "1"
                                },
                                {
                                    "raktar_kod": "82",
                                    "megys": "NULL",
                                    "(No column name)": "1"
                                },
                                {
                                    "raktar_kod": "83",
                                    "megys": "NULL",
                                    "(No column name)": "6"
                                },
                                {
                                    "raktar_kod": "84",
                                    "megys": "NULL",
                                    "(No column name)": "1"
                                },
                                {
                                    "raktar_kod": "85",
                                    "megys": "NULL",
                                    "(No column name)": "16"
                                },
                                {
                                    "raktar_kod": "86",
                                    "megys": "NULL",
                                    "(No column name)": "1"
                                },
                                {
                                    "raktar_kod": "88",
                                    "megys": "NULL",
                                    "(No column name)": "2"
                                },
                                {
                                    "raktar_kod": "89",
                                    "megys": "NULL",
                                    "(No column name)": "3"
                                },
                                {
                                    "raktar_kod": "90",
                                    "megys": "NULL",
                                    "(No column name)": "2"
                                },
                                {
                                    "raktar_kod": "91",
                                    "megys": "NULL",
                                    "(No column name)": "7"
                                },
                                {
                                    "raktar_kod": "92",
                                    "megys": "NULL",
                                    "(No column name)": "2"
                                },
                                {
                                    "raktar_kod": "93",
                                    "megys": "NULL",
                                    "(No column name)": "7"
                                },
                                {
                                    "raktar_kod": "94",
                                    "megys": "NULL",
                                    "(No column name)": "2"
                                },
                                {
                                    "raktar_kod": "95",
                                    "megys": "NULL",
                                    "(No column name)": "2"
                                },
                                {
                                    "raktar_kod": "96",
                                    "megys": "NULL",
                                    "(No column name)": "9"
                                },
                                {
                                    "raktar_kod": "97",
                                    "megys": "NULL",
                                    "(No column name)": "10"
                                },
                                {
                                    "raktar_kod": "98",
                                    "megys": "NULL",
                                    "(No column name)": "4"
                                },
                                {
                                    "raktar_kod": "99",
                                    "megys": "NULL",
                                    "(No column name)": "1"
                                },
                                {
                                    "raktar_kod": "100",
                                    "megys": "NULL",
                                    "(No column name)": "9"
                                },
                                {
                                    "raktar_kod": "101",
                                    "megys": "NULL",
                                    "(No column name)": "1"
                                },
                                {
                                    "raktar_kod": "103",
                                    "megys": "NULL",
                                    "(No column name)": "1"
                                },
                                {
                                    "raktar_kod": "104",
                                    "megys": "NULL",
                                    "(No column name)": "2"
                                },
                                {
                                    "raktar_kod": "105",
                                    "megys": "NULL",
                                    "(No column name)": "1"
                                },
                                {
                                    "raktar_kod": "106",
                                    "megys": "NULL",
                                    "(No column name)": "5"
                                },
                                {
                                    "raktar_kod": "107",
                                    "megys": "NULL",
                                    "(No column name)": "1"
                                },
                                {
                                    "raktar_kod": "108",
                                    "megys": "NULL",
                                    "(No column name)": "1"
                                },
                                {
                                    "raktar_kod": "109",
                                    "megys": "NULL",
                                    "(No column name)": "1"
                                },
                                {
                                    "raktar_kod": "110",
                                    "megys": "NULL",
                                    "(No column name)": "2"
                                },
                                {
                                    "raktar_kod": "111",
                                    "megys": "NULL",
                                    "(No column name)": "3"
                                },
                                {
                                    "raktar_kod": "112",
                                    "megys": "NULL",
                                    "(No column name)": "2"
                                },
                                {
                                    "raktar_kod": "114",
                                    "megys": "NULL",
                                    "(No column name)": "1"
                                },
                                {
                                    "raktar_kod": "115",
                                    "megys": "NULL",
                                    "(No column name)": "1"
                                },
                                {
                                    "raktar_kod": "116",
                                    "megys": "NULL",
                                    "(No column name)": "2"
                                },
                                {
                                    "raktar_kod": "117",
                                    "megys": "NULL",
                                    "(No column name)": "2"
                                },
                                {
                                    "raktar_kod": "118",
                                    "megys": "NULL",
                                    "(No column name)": "9"
                                },
                                {
                                    "raktar_kod": "119",
                                    "megys": "NULL",
                                    "(No column name)": "3"
                                },
                                {
                                    "raktar_kod": "121",
                                    "megys": "NULL",
                                    "(No column name)": "2"
                                },
                                {
                                    "raktar_kod": "122",
                                    "megys": "NULL",
                                    "(No column name)": "7"
                                },
                                {
                                    "raktar_kod": "123",
                                    "megys": "NULL",
                                    "(No column name)": "2"
                                },
                                {
                                    "raktar_kod": "124",
                                    "megys": "NULL",
                                    "(No column name)": "10"
                                },
                                {
                                    "raktar_kod": "125",
                                    "megys": "NULL",
                                    "(No column name)": "4"
                                },
                                {
                                    "raktar_kod": "126",
                                    "megys": "NULL",
                                    "(No column name)": "1"
                                },
                                {
                                    "raktar_kod": "127",
                                    "megys": "NULL",
                                    "(No column name)": "2"
                                },
                                {
                                    "raktar_kod": "128",
                                    "megys": "NULL",
                                    "(No column name)": "2"
                                },
                                {
                                    "raktar_kod": "129",
                                    "megys": "NULL",
                                    "(No column name)": "2"
                                },
                                {
                                    "raktar_kod": "130",
                                    "megys": "NULL",
                                    "(No column name)": "1"
                                },
                                {
                                    "raktar_kod": "131",
                                    "megys": "NULL",
                                    "(No column name)": "1"
                                },
                                {
                                    "raktar_kod": "132",
                                    "megys": "NULL",
                                    "(No column name)": "1"
                                },
                                {
                                    "raktar_kod": "133",
                                    "megys": "NULL",
                                    "(No column name)": "6"
                                },
                                {
                                    "raktar_kod": "134",
                                    "megys": "NULL",
                                    "(No column name)": "2"
                                },
                                {
                                    "raktar_kod": "135",
                                    "megys": "NULL",
                                    "(No column name)": "1"
                                },
                                {
                                    "raktar_kod": "136",
                                    "megys": "NULL",
                                    "(No column name)": "2"
                                },
                                {
                                    "raktar_kod": "137",
                                    "megys": "NULL",
                                    "(No column name)": "3"
                                },
                                {
                                    "raktar_kod": "138",
                                    "megys": "NULL",
                                    "(No column name)": "5"
                                },
                                {
                                    "raktar_kod": "139",
                                    "megys": "NULL",
                                    "(No column name)": "1"
                                },
                                {
                                    "raktar_kod": "140",
                                    "megys": "NULL",
                                    "(No column name)": "1"
                                },
                                {
                                    "raktar_kod": "141",
                                    "megys": "NULL",
                                    "(No column name)": "2"
                                },
                                {
                                    "raktar_kod": "142",
                                    "megys": "NULL",
                                    "(No column name)": "1"
                                },
                                {
                                    "raktar_kod": "143",
                                    "megys": "NULL",
                                    "(No column name)": "3"
                                },
                                {
                                    "raktar_kod": "144",
                                    "megys": "NULL",
                                    "(No column name)": "2"
                                },
                                {
                                    "raktar_kod": "145",
                                    "megys": "NULL",
                                    "(No column name)": "18"
                                },
                                {
                                    "raktar_kod": "146",
                                    "megys": "NULL",
                                    "(No column name)": "7"
                                },
                                {
                                    "raktar_kod": "147",
                                    "megys": "NULL",
                                    "(No column name)": "1"
                                },
                                {
                                    "raktar_kod": "148",
                                    "megys": "NULL",
                                    "(No column name)": "1"
                                },
                                {
                                    "raktar_kod": "149",
                                    "megys": "NULL",
                                    "(No column name)": "6"
                                },
                                {
                                    "raktar_kod": "150",
                                    "megys": "NULL",
                                    "(No column name)": "2"
                                },
                                {
                                    "raktar_kod": "151",
                                    "megys": "NULL",
                                    "(No column name)": "4"
                                },
                                {
                                    "raktar_kod": "152",
                                    "megys": "NULL",
                                    "(No column name)": "6"
                                },
                                {
                                    "raktar_kod": "153",
                                    "megys": "NULL",
                                    "(No column name)": "1"
                                },
                                {
                                    "raktar_kod": "154",
                                    "megys": "NULL",
                                    "(No column name)": "4"
                                },
                                {
                                    "raktar_kod": "155",
                                    "megys": "NULL",
                                    "(No column name)": "1"
                                }
                            ]
                        },
                        "text/html": [
                            "<table>",
                            "<tr><th>raktar_kod</th><th>megys</th><th>(No column name)</th></tr>",
                            "<tr><td>NULL</td><td>db</td><td>11</td></tr>",
                            "<tr><td>NULL</td><td>NULL</td><td>11</td></tr>",
                            "<tr><td>NULL</td><td>db</td><td>5</td></tr>",
                            "<tr><td>NULL</td><td>NULL</td><td>5</td></tr>",
                            "<tr><td>NULL</td><td>db</td><td>14</td></tr>",
                            "<tr><td>NULL</td><td>NULL</td><td>14</td></tr>",
                            "<tr><td>NULL</td><td>db</td><td>4</td></tr>",
                            "<tr><td>NULL</td><td>NULL</td><td>4</td></tr>",
                            "<tr><td>NULL</td><td>csomag</td><td>7</td></tr>",
                            "<tr><td>NULL</td><td>db</td><td>72</td></tr>",
                            "<tr><td>NULL</td><td>doboz</td><td>1</td></tr>",
                            "<tr><td>NULL</td><td>ív</td><td>5</td></tr>",
                            "<tr><td>NULL</td><td>üveg</td><td>1</td></tr>",
                            "<tr><td>NULL</td><td>NULL</td><td>86</td></tr>",
                            "<tr><td>NULL</td><td>csomag</td><td>9</td></tr>",
                            "<tr><td>NULL</td><td>db</td><td>94</td></tr>",
                            "<tr><td>NULL</td><td>ív</td><td>3</td></tr>",
                            "<tr><td>NULL</td><td>NULL</td><td>106</td></tr>",
                            "<tr><td>NULL</td><td>csomag</td><td>9</td></tr>",
                            "<tr><td>NULL</td><td>db</td><td>88</td></tr>",
                            "<tr><td>NULL</td><td>ív</td><td>2</td></tr>",
                            "<tr><td>NULL</td><td>tekercs</td><td>1</td></tr>",
                            "<tr><td>NULL</td><td>NULL</td><td>100</td></tr>",
                            "<tr><td>NULL</td><td>csomag</td><td>8</td></tr>",
                            "<tr><td>NULL</td><td>db</td><td>109</td></tr>",
                            "<tr><td>NULL</td><td>ív</td><td>6</td></tr>",
                            "<tr><td>NULL</td><td>NULL</td><td>123</td></tr>",
                            "<tr><td>NULL</td><td>csomag</td><td>11</td></tr>",
                            "<tr><td>NULL</td><td>db</td><td>86</td></tr>",
                            "<tr><td>NULL</td><td>ív</td><td>5</td></tr>",
                            "<tr><td>NULL</td><td>NULL</td><td>102</td></tr>",
                            "<tr><td>4</td><td>NULL</td><td>15</td></tr>",
                            "<tr><td>5</td><td>NULL</td><td>3</td></tr>",
                            "<tr><td>6</td><td>NULL</td><td>20</td></tr>",
                            "<tr><td>7</td><td>NULL</td><td>3</td></tr>",
                            "<tr><td>8</td><td>NULL</td><td>3</td></tr>",
                            "<tr><td>9</td><td>NULL</td><td>2</td></tr>",
                            "<tr><td>10</td><td>NULL</td><td>1</td></tr>",
                            "<tr><td>11</td><td>NULL</td><td>1</td></tr>",
                            "<tr><td>12</td><td>NULL</td><td>1</td></tr>",
                            "<tr><td>13</td><td>NULL</td><td>2</td></tr>",
                            "<tr><td>14</td><td>NULL</td><td>4</td></tr>",
                            "<tr><td>15</td><td>NULL</td><td>1</td></tr>",
                            "<tr><td>16</td><td>NULL</td><td>7</td></tr>",
                            "<tr><td>17</td><td>NULL</td><td>1</td></tr>",
                            "<tr><td>18</td><td>NULL</td><td>2</td></tr>",
                            "<tr><td>19</td><td>NULL</td><td>19</td></tr>",
                            "<tr><td>20</td><td>NULL</td><td>3</td></tr>",
                            "<tr><td>21</td><td>NULL</td><td>5</td></tr>",
                            "<tr><td>22</td><td>NULL</td><td>2</td></tr>",
                            "<tr><td>24</td><td>NULL</td><td>7</td></tr>",
                            "<tr><td>25</td><td>NULL</td><td>4</td></tr>",
                            "<tr><td>26</td><td>NULL</td><td>1</td></tr>",
                            "<tr><td>27</td><td>NULL</td><td>3</td></tr>",
                            "<tr><td>28</td><td>NULL</td><td>5</td></tr>",
                            "<tr><td>29</td><td>NULL</td><td>1</td></tr>",
                            "<tr><td>30</td><td>NULL</td><td>7</td></tr>",
                            "<tr><td>31</td><td>NULL</td><td>1</td></tr>",
                            "<tr><td>32</td><td>NULL</td><td>3</td></tr>",
                            "<tr><td>33</td><td>NULL</td><td>1</td></tr>",
                            "<tr><td>34</td><td>NULL</td><td>1</td></tr>",
                            "<tr><td>35</td><td>NULL</td><td>7</td></tr>",
                            "<tr><td>36</td><td>NULL</td><td>5</td></tr>",
                            "<tr><td>37</td><td>NULL</td><td>1</td></tr>",
                            "<tr><td>38</td><td>NULL</td><td>1</td></tr>",
                            "<tr><td>39</td><td>NULL</td><td>2</td></tr>",
                            "<tr><td>40</td><td>NULL</td><td>1</td></tr>",
                            "<tr><td>41</td><td>NULL</td><td>13</td></tr>",
                            "<tr><td>42</td><td>NULL</td><td>1</td></tr>",
                            "<tr><td>43</td><td>NULL</td><td>3</td></tr>",
                            "<tr><td>44</td><td>NULL</td><td>1</td></tr>",
                            "<tr><td>45</td><td>NULL</td><td>11</td></tr>",
                            "<tr><td>46</td><td>NULL</td><td>7</td></tr>",
                            "<tr><td>47</td><td>NULL</td><td>4</td></tr>",
                            "<tr><td>48</td><td>NULL</td><td>2</td></tr>",
                            "<tr><td>49</td><td>NULL</td><td>2</td></tr>",
                            "<tr><td>50</td><td>NULL</td><td>1</td></tr>",
                            "<tr><td>51</td><td>NULL</td><td>3</td></tr>",
                            "<tr><td>52</td><td>NULL</td><td>26</td></tr>",
                            "<tr><td>53</td><td>NULL</td><td>1</td></tr>",
                            "<tr><td>54</td><td>NULL</td><td>6</td></tr>",
                            "<tr><td>55</td><td>NULL</td><td>2</td></tr>",
                            "<tr><td>56</td><td>NULL</td><td>4</td></tr>",
                            "<tr><td>57</td><td>NULL</td><td>2</td></tr>",
                            "<tr><td>58</td><td>NULL</td><td>3</td></tr>",
                            "<tr><td>59</td><td>NULL</td><td>4</td></tr>",
                            "<tr><td>60</td><td>NULL</td><td>5</td></tr>",
                            "<tr><td>61</td><td>NULL</td><td>1</td></tr>",
                            "<tr><td>62</td><td>NULL</td><td>2</td></tr>",
                            "<tr><td>64</td><td>NULL</td><td>4</td></tr>",
                            "<tr><td>65</td><td>NULL</td><td>2</td></tr>",
                            "<tr><td>66</td><td>NULL</td><td>7</td></tr>",
                            "<tr><td>67</td><td>NULL</td><td>2</td></tr>",
                            "<tr><td>68</td><td>NULL</td><td>2</td></tr>",
                            "<tr><td>70</td><td>NULL</td><td>3</td></tr>",
                            "<tr><td>71</td><td>NULL</td><td>2</td></tr>",
                            "<tr><td>72</td><td>NULL</td><td>2</td></tr>",
                            "<tr><td>73</td><td>NULL</td><td>2</td></tr>",
                            "<tr><td>74</td><td>NULL</td><td>1</td></tr>",
                            "<tr><td>75</td><td>NULL</td><td>2</td></tr>",
                            "<tr><td>76</td><td>NULL</td><td>5</td></tr>",
                            "<tr><td>78</td><td>NULL</td><td>24</td></tr>",
                            "<tr><td>79</td><td>NULL</td><td>4</td></tr>",
                            "<tr><td>80</td><td>NULL</td><td>1</td></tr>",
                            "<tr><td>82</td><td>NULL</td><td>1</td></tr>",
                            "<tr><td>83</td><td>NULL</td><td>6</td></tr>",
                            "<tr><td>84</td><td>NULL</td><td>1</td></tr>",
                            "<tr><td>85</td><td>NULL</td><td>16</td></tr>",
                            "<tr><td>86</td><td>NULL</td><td>1</td></tr>",
                            "<tr><td>88</td><td>NULL</td><td>2</td></tr>",
                            "<tr><td>89</td><td>NULL</td><td>3</td></tr>",
                            "<tr><td>90</td><td>NULL</td><td>2</td></tr>",
                            "<tr><td>91</td><td>NULL</td><td>7</td></tr>",
                            "<tr><td>92</td><td>NULL</td><td>2</td></tr>",
                            "<tr><td>93</td><td>NULL</td><td>7</td></tr>",
                            "<tr><td>94</td><td>NULL</td><td>2</td></tr>",
                            "<tr><td>95</td><td>NULL</td><td>2</td></tr>",
                            "<tr><td>96</td><td>NULL</td><td>9</td></tr>",
                            "<tr><td>97</td><td>NULL</td><td>10</td></tr>",
                            "<tr><td>98</td><td>NULL</td><td>4</td></tr>",
                            "<tr><td>99</td><td>NULL</td><td>1</td></tr>",
                            "<tr><td>100</td><td>NULL</td><td>9</td></tr>",
                            "<tr><td>101</td><td>NULL</td><td>1</td></tr>",
                            "<tr><td>103</td><td>NULL</td><td>1</td></tr>",
                            "<tr><td>104</td><td>NULL</td><td>2</td></tr>",
                            "<tr><td>105</td><td>NULL</td><td>1</td></tr>",
                            "<tr><td>106</td><td>NULL</td><td>5</td></tr>",
                            "<tr><td>107</td><td>NULL</td><td>1</td></tr>",
                            "<tr><td>108</td><td>NULL</td><td>1</td></tr>",
                            "<tr><td>109</td><td>NULL</td><td>1</td></tr>",
                            "<tr><td>110</td><td>NULL</td><td>2</td></tr>",
                            "<tr><td>111</td><td>NULL</td><td>3</td></tr>",
                            "<tr><td>112</td><td>NULL</td><td>2</td></tr>",
                            "<tr><td>114</td><td>NULL</td><td>1</td></tr>",
                            "<tr><td>115</td><td>NULL</td><td>1</td></tr>",
                            "<tr><td>116</td><td>NULL</td><td>2</td></tr>",
                            "<tr><td>117</td><td>NULL</td><td>2</td></tr>",
                            "<tr><td>118</td><td>NULL</td><td>9</td></tr>",
                            "<tr><td>119</td><td>NULL</td><td>3</td></tr>",
                            "<tr><td>121</td><td>NULL</td><td>2</td></tr>",
                            "<tr><td>122</td><td>NULL</td><td>7</td></tr>",
                            "<tr><td>123</td><td>NULL</td><td>2</td></tr>",
                            "<tr><td>124</td><td>NULL</td><td>10</td></tr>",
                            "<tr><td>125</td><td>NULL</td><td>4</td></tr>",
                            "<tr><td>126</td><td>NULL</td><td>1</td></tr>",
                            "<tr><td>127</td><td>NULL</td><td>2</td></tr>",
                            "<tr><td>128</td><td>NULL</td><td>2</td></tr>",
                            "<tr><td>129</td><td>NULL</td><td>2</td></tr>",
                            "<tr><td>130</td><td>NULL</td><td>1</td></tr>",
                            "<tr><td>131</td><td>NULL</td><td>1</td></tr>",
                            "<tr><td>132</td><td>NULL</td><td>1</td></tr>",
                            "<tr><td>133</td><td>NULL</td><td>6</td></tr>",
                            "<tr><td>134</td><td>NULL</td><td>2</td></tr>",
                            "<tr><td>135</td><td>NULL</td><td>1</td></tr>",
                            "<tr><td>136</td><td>NULL</td><td>2</td></tr>",
                            "<tr><td>137</td><td>NULL</td><td>3</td></tr>",
                            "<tr><td>138</td><td>NULL</td><td>5</td></tr>",
                            "<tr><td>139</td><td>NULL</td><td>1</td></tr>",
                            "<tr><td>140</td><td>NULL</td><td>1</td></tr>",
                            "<tr><td>141</td><td>NULL</td><td>2</td></tr>",
                            "<tr><td>142</td><td>NULL</td><td>1</td></tr>",
                            "<tr><td>143</td><td>NULL</td><td>3</td></tr>",
                            "<tr><td>144</td><td>NULL</td><td>2</td></tr>",
                            "<tr><td>145</td><td>NULL</td><td>18</td></tr>",
                            "<tr><td>146</td><td>NULL</td><td>7</td></tr>",
                            "<tr><td>147</td><td>NULL</td><td>1</td></tr>",
                            "<tr><td>148</td><td>NULL</td><td>1</td></tr>",
                            "<tr><td>149</td><td>NULL</td><td>6</td></tr>",
                            "<tr><td>150</td><td>NULL</td><td>2</td></tr>",
                            "<tr><td>151</td><td>NULL</td><td>4</td></tr>",
                            "<tr><td>152</td><td>NULL</td><td>6</td></tr>",
                            "<tr><td>153</td><td>NULL</td><td>1</td></tr>",
                            "<tr><td>154</td><td>NULL</td><td>4</td></tr>",
                            "<tr><td>155</td><td>NULL</td><td>1</td></tr>",
                            "</table>"
                        ]
                    }
                }
            ],
            "execution_count": 2
        },
        {
            "cell_type": "markdown",
            "source": [
                "```\n",
                "3. Készítsünk listát az egyes termékkategóriákban lévő termékek számáról! \n",
                "\n",
                "```\n",
                "\n",
                "a. Elég megjeleníteni a kategóriák azonosítóit és a darabszámokat!   \n",
                "<span style=\"color: var(--vscode-foreground);\">b. A lista megfelelően jelölve tartalmazza a végösszeget is!&nbsp;<br></span> <span style=\"color: var(--vscode-foreground);\">c. Az oszlopokat nevezzük el értelemszerűen!&nbsp;<br></span> <span style=\"color: var(--vscode-foreground);\">d. A listát rendezzük a darabszám szerint növekvő sorrendbe!</span>\n",
                "\n",
                "  \n",
                "\n",
                "![](https://moodle.uni-corvinus.hu/theme/image.php/adaptable/atto_h5p/1709548862/icon)"
            ],
            "metadata": {
                "azdata_cell_guid": "d7876bb9-76d0-4d07-baed-3cb17b2f96c3"
            },
            "attachments": {}
        },
        {
            "cell_type": "code",
            "source": [
                "select\r\n",
                "    (\r\n",
                "        case grouping(year(rend_datum))\r\n",
                "        when 0 then cast(year(rend_datum) as nvarchar(4))\r\n",
                "        when 1 then 'összesen' end\r\n",
                "    ) as év,\r\n",
                "    count(*) as 'db'\r\n",
                "from rendeles\r\n",
                "group by rollup(year(rend_datum))"
            ],
            "metadata": {
                "azdata_cell_guid": "56ec19ce-e249-4551-b2a8-f17569765acc",
                "language": "sql"
            },
            "outputs": [
                {
                    "output_type": "display_data",
                    "data": {
                        "text/html": "(4 rows affected)"
                    },
                    "metadata": {}
                },
                {
                    "output_type": "display_data",
                    "data": {
                        "text/html": "Total execution time: 00:00:01.017"
                    },
                    "metadata": {}
                },
                {
                    "output_type": "execute_result",
                    "metadata": {},
                    "execution_count": 6,
                    "data": {
                        "application/vnd.dataresource+json": {
                            "schema": {
                                "fields": [
                                    {
                                        "name": "év"
                                    },
                                    {
                                        "name": "db"
                                    }
                                ]
                            },
                            "data": [
                                {
                                    "év": "2015",
                                    "db": "9747"
                                },
                                {
                                    "év": "2016",
                                    "db": "14773"
                                },
                                {
                                    "év": "2017",
                                    "db": "3565"
                                },
                                {
                                    "év": "összesen",
                                    "db": "28085"
                                }
                            ]
                        },
                        "text/html": [
                            "<table>",
                            "<tr><th>év</th><th>db</th></tr>",
                            "<tr><td>2015</td><td>9747</td></tr>",
                            "<tr><td>2016</td><td>14773</td></tr>",
                            "<tr><td>2017</td><td>3565</td></tr>",
                            "<tr><td>összesen</td><td>28085</td></tr>",
                            "</table>"
                        ]
                    }
                }
            ],
            "execution_count": 6
        },
        {
            "cell_type": "markdown",
            "source": [
                "4. <span style=\"background-color: rgb(255, 255, 255); color: rgb(0, 0, 0); font-family: &quot;Open Sans&quot;, sans-serif; font-size: 14.44px;\">Készítsünk listát az ügyfelek számáról születési év szerint, azon belül nem szerinti bontásban!&nbsp;</span> \n",
                "\n",
                "a. A lista megfelelően jelölve tartalmazza a részösszegeket és a végösszeget is!  \n",
                "b. Az oszlopoknak adjunk nevet értelemszerűen!"
            ],
            "metadata": {
                "azdata_cell_guid": "8e7fef82-8022-49a0-8255-fc2846c2134b"
            },
            "attachments": {}
        },
        {
            "cell_type": "code",
            "source": [
                "SELECT IIF(grouping_id(szulev)=1, 'Végösszeg', CAST(szulev as nvarchar)) as 'születési év',\r\n",
                "        CASE\r\n",
                "        WHEN GROUPING_ID(szulev, nem) = 1 then 'részösszeg'\r\n",
                "        when GROUPING_ID(szulev, nem) = 3 then 'végösszeg'\r\n",
                "        else nem end as 'nem',\r\n",
                "        count(*) as 'ügyfelek száma'\r\n",
                "from ugyfel\r\n",
                "group by rollup(szulev, nem)"
            ],
            "metadata": {
                "azdata_cell_guid": "36f7b396-4a1f-45e5-8720-2302537c91bc",
                "language": "sql"
            },
            "outputs": [
                {
                    "output_type": "display_data",
                    "data": {
                        "text/html": "(96 rows affected)"
                    },
                    "metadata": {}
                },
                {
                    "output_type": "display_data",
                    "data": {
                        "text/html": "Total execution time: 00:00:00.027"
                    },
                    "metadata": {}
                },
                {
                    "output_type": "execute_result",
                    "metadata": {},
                    "execution_count": 8,
                    "data": {
                        "application/vnd.dataresource+json": {
                            "schema": {
                                "fields": [
                                    {
                                        "name": "születési év"
                                    },
                                    {
                                        "name": "nem"
                                    },
                                    {
                                        "name": "ügyfelek száma"
                                    }
                                ]
                            },
                            "data": [
                                {
                                    "születési év": "1967",
                                    "nem": "F",
                                    "ügyfelek száma": "5"
                                },
                                {
                                    "születési év": "1967",
                                    "nem": "N",
                                    "ügyfelek száma": "3"
                                },
                                {
                                    "születési év": "1967",
                                    "nem": "részösszeg",
                                    "ügyfelek száma": "8"
                                },
                                {
                                    "születési év": "1968",
                                    "nem": "F",
                                    "ügyfelek száma": "5"
                                },
                                {
                                    "születési év": "1968",
                                    "nem": "N",
                                    "ügyfelek száma": "3"
                                },
                                {
                                    "születési év": "1968",
                                    "nem": "részösszeg",
                                    "ügyfelek száma": "8"
                                },
                                {
                                    "születési év": "1969",
                                    "nem": "F",
                                    "ügyfelek száma": "5"
                                },
                                {
                                    "születési év": "1969",
                                    "nem": "N",
                                    "ügyfelek száma": "3"
                                },
                                {
                                    "születési év": "1969",
                                    "nem": "részösszeg",
                                    "ügyfelek száma": "8"
                                },
                                {
                                    "születési év": "1970",
                                    "nem": "F",
                                    "ügyfelek száma": "4"
                                },
                                {
                                    "születési év": "1970",
                                    "nem": "részösszeg",
                                    "ügyfelek száma": "4"
                                },
                                {
                                    "születési év": "1971",
                                    "nem": "F",
                                    "ügyfelek száma": "2"
                                },
                                {
                                    "születési év": "1971",
                                    "nem": "N",
                                    "ügyfelek száma": "3"
                                },
                                {
                                    "születési év": "1971",
                                    "nem": "részösszeg",
                                    "ügyfelek száma": "5"
                                },
                                {
                                    "születési év": "1972",
                                    "nem": "F",
                                    "ügyfelek száma": "2"
                                },
                                {
                                    "születési év": "1972",
                                    "nem": "N",
                                    "ügyfelek száma": "2"
                                },
                                {
                                    "születési év": "1972",
                                    "nem": "részösszeg",
                                    "ügyfelek száma": "4"
                                },
                                {
                                    "születési év": "1973",
                                    "nem": "F",
                                    "ügyfelek száma": "2"
                                },
                                {
                                    "születési év": "1973",
                                    "nem": "N",
                                    "ügyfelek száma": "2"
                                },
                                {
                                    "születési év": "1973",
                                    "nem": "részösszeg",
                                    "ügyfelek száma": "4"
                                },
                                {
                                    "születési év": "1974",
                                    "nem": "F",
                                    "ügyfelek száma": "1"
                                },
                                {
                                    "születési év": "1974",
                                    "nem": "N",
                                    "ügyfelek száma": "3"
                                },
                                {
                                    "születési év": "1974",
                                    "nem": "részösszeg",
                                    "ügyfelek száma": "4"
                                },
                                {
                                    "születési év": "1975",
                                    "nem": "F",
                                    "ügyfelek száma": "8"
                                },
                                {
                                    "születési év": "1975",
                                    "nem": "N",
                                    "ügyfelek száma": "3"
                                },
                                {
                                    "születési év": "1975",
                                    "nem": "részösszeg",
                                    "ügyfelek száma": "11"
                                },
                                {
                                    "születési év": "1976",
                                    "nem": "F",
                                    "ügyfelek száma": "5"
                                },
                                {
                                    "születési év": "1976",
                                    "nem": "N",
                                    "ügyfelek száma": "2"
                                },
                                {
                                    "születési év": "1976",
                                    "nem": "részösszeg",
                                    "ügyfelek száma": "7"
                                },
                                {
                                    "születési év": "1977",
                                    "nem": "F",
                                    "ügyfelek száma": "4"
                                },
                                {
                                    "születési év": "1977",
                                    "nem": "N",
                                    "ügyfelek száma": "1"
                                },
                                {
                                    "születési év": "1977",
                                    "nem": "részösszeg",
                                    "ügyfelek száma": "5"
                                },
                                {
                                    "születési év": "1978",
                                    "nem": "F",
                                    "ügyfelek száma": "3"
                                },
                                {
                                    "születési év": "1978",
                                    "nem": "N",
                                    "ügyfelek száma": "4"
                                },
                                {
                                    "születési év": "1978",
                                    "nem": "részösszeg",
                                    "ügyfelek száma": "7"
                                },
                                {
                                    "születési év": "1979",
                                    "nem": "F",
                                    "ügyfelek száma": "4"
                                },
                                {
                                    "születési év": "1979",
                                    "nem": "N",
                                    "ügyfelek száma": "3"
                                },
                                {
                                    "születési év": "1979",
                                    "nem": "részösszeg",
                                    "ügyfelek száma": "7"
                                },
                                {
                                    "születési év": "1980",
                                    "nem": "F",
                                    "ügyfelek száma": "4"
                                },
                                {
                                    "születési év": "1980",
                                    "nem": "N",
                                    "ügyfelek száma": "3"
                                },
                                {
                                    "születési év": "1980",
                                    "nem": "részösszeg",
                                    "ügyfelek száma": "7"
                                },
                                {
                                    "születési év": "1981",
                                    "nem": "N",
                                    "ügyfelek száma": "4"
                                },
                                {
                                    "születési év": "1981",
                                    "nem": "részösszeg",
                                    "ügyfelek száma": "4"
                                },
                                {
                                    "születési év": "1982",
                                    "nem": "F",
                                    "ügyfelek száma": "2"
                                },
                                {
                                    "születési év": "1982",
                                    "nem": "N",
                                    "ügyfelek száma": "2"
                                },
                                {
                                    "születési év": "1982",
                                    "nem": "részösszeg",
                                    "ügyfelek száma": "4"
                                },
                                {
                                    "születési év": "1983",
                                    "nem": "F",
                                    "ügyfelek száma": "5"
                                },
                                {
                                    "születési év": "1983",
                                    "nem": "N",
                                    "ügyfelek száma": "3"
                                },
                                {
                                    "születési év": "1983",
                                    "nem": "részösszeg",
                                    "ügyfelek száma": "8"
                                },
                                {
                                    "születési év": "1984",
                                    "nem": "F",
                                    "ügyfelek száma": "6"
                                },
                                {
                                    "születési év": "1984",
                                    "nem": "N",
                                    "ügyfelek száma": "2"
                                },
                                {
                                    "születési év": "1984",
                                    "nem": "részösszeg",
                                    "ügyfelek száma": "8"
                                },
                                {
                                    "születési év": "1985",
                                    "nem": "F",
                                    "ügyfelek száma": "5"
                                },
                                {
                                    "születési év": "1985",
                                    "nem": "N",
                                    "ügyfelek száma": "1"
                                },
                                {
                                    "születési év": "1985",
                                    "nem": "részösszeg",
                                    "ügyfelek száma": "6"
                                },
                                {
                                    "születési év": "1986",
                                    "nem": "F",
                                    "ügyfelek száma": "7"
                                },
                                {
                                    "születési év": "1986",
                                    "nem": "N",
                                    "ügyfelek száma": "2"
                                },
                                {
                                    "születési év": "1986",
                                    "nem": "részösszeg",
                                    "ügyfelek száma": "9"
                                },
                                {
                                    "születési év": "1987",
                                    "nem": "F",
                                    "ügyfelek száma": "2"
                                },
                                {
                                    "születési év": "1987",
                                    "nem": "N",
                                    "ügyfelek száma": "3"
                                },
                                {
                                    "születési év": "1987",
                                    "nem": "részösszeg",
                                    "ügyfelek száma": "5"
                                },
                                {
                                    "születési év": "1988",
                                    "nem": "F",
                                    "ügyfelek száma": "2"
                                },
                                {
                                    "születési év": "1988",
                                    "nem": "N",
                                    "ügyfelek száma": "4"
                                },
                                {
                                    "születési év": "1988",
                                    "nem": "részösszeg",
                                    "ügyfelek száma": "6"
                                },
                                {
                                    "születési év": "1989",
                                    "nem": "F",
                                    "ügyfelek száma": "6"
                                },
                                {
                                    "születési év": "1989",
                                    "nem": "N",
                                    "ügyfelek száma": "1"
                                },
                                {
                                    "születési év": "1989",
                                    "nem": "részösszeg",
                                    "ügyfelek száma": "7"
                                },
                                {
                                    "születési év": "1990",
                                    "nem": "F",
                                    "ügyfelek száma": "5"
                                },
                                {
                                    "születési év": "1990",
                                    "nem": "N",
                                    "ügyfelek száma": "3"
                                },
                                {
                                    "születési év": "1990",
                                    "nem": "részösszeg",
                                    "ügyfelek száma": "8"
                                },
                                {
                                    "születési év": "1991",
                                    "nem": "F",
                                    "ügyfelek száma": "3"
                                },
                                {
                                    "születési év": "1991",
                                    "nem": "N",
                                    "ügyfelek száma": "3"
                                },
                                {
                                    "születési év": "1991",
                                    "nem": "részösszeg",
                                    "ügyfelek száma": "6"
                                },
                                {
                                    "születési év": "1992",
                                    "nem": "F",
                                    "ügyfelek száma": "3"
                                },
                                {
                                    "születési év": "1992",
                                    "nem": "N",
                                    "ügyfelek száma": "1"
                                },
                                {
                                    "születési év": "1992",
                                    "nem": "részösszeg",
                                    "ügyfelek száma": "4"
                                },
                                {
                                    "születési év": "1993",
                                    "nem": "F",
                                    "ügyfelek száma": "2"
                                },
                                {
                                    "születési év": "1993",
                                    "nem": "N",
                                    "ügyfelek száma": "3"
                                },
                                {
                                    "születési év": "1993",
                                    "nem": "részösszeg",
                                    "ügyfelek száma": "5"
                                },
                                {
                                    "születési év": "1994",
                                    "nem": "N",
                                    "ügyfelek száma": "3"
                                },
                                {
                                    "születési év": "1994",
                                    "nem": "részösszeg",
                                    "ügyfelek száma": "3"
                                },
                                {
                                    "születési év": "1995",
                                    "nem": "F",
                                    "ügyfelek száma": "3"
                                },
                                {
                                    "születési év": "1995",
                                    "nem": "N",
                                    "ügyfelek száma": "3"
                                },
                                {
                                    "születési év": "1995",
                                    "nem": "részösszeg",
                                    "ügyfelek száma": "6"
                                },
                                {
                                    "születési év": "1996",
                                    "nem": "F",
                                    "ügyfelek száma": "2"
                                },
                                {
                                    "születési év": "1996",
                                    "nem": "N",
                                    "ügyfelek száma": "5"
                                },
                                {
                                    "születési év": "1996",
                                    "nem": "részösszeg",
                                    "ügyfelek száma": "7"
                                },
                                {
                                    "születési év": "1997",
                                    "nem": "F",
                                    "ügyfelek száma": "10"
                                },
                                {
                                    "születési év": "1997",
                                    "nem": "N",
                                    "ügyfelek száma": "2"
                                },
                                {
                                    "születési év": "1997",
                                    "nem": "részösszeg",
                                    "ügyfelek száma": "12"
                                },
                                {
                                    "születési év": "1998",
                                    "nem": "F",
                                    "ügyfelek száma": "1"
                                },
                                {
                                    "születési év": "1998",
                                    "nem": "N",
                                    "ügyfelek száma": "1"
                                },
                                {
                                    "születési év": "1998",
                                    "nem": "részösszeg",
                                    "ügyfelek száma": "2"
                                },
                                {
                                    "születési év": "2000",
                                    "nem": "F",
                                    "ügyfelek száma": "1"
                                },
                                {
                                    "születési év": "2000",
                                    "nem": "részösszeg",
                                    "ügyfelek száma": "1"
                                },
                                {
                                    "születési év": "Végösszeg",
                                    "nem": "végösszeg",
                                    "ügyfelek száma": "200"
                                }
                            ]
                        },
                        "text/html": [
                            "<table>",
                            "<tr><th>születési év</th><th>nem</th><th>ügyfelek száma</th></tr>",
                            "<tr><td>1967</td><td>F</td><td>5</td></tr>",
                            "<tr><td>1967</td><td>N</td><td>3</td></tr>",
                            "<tr><td>1967</td><td>részösszeg</td><td>8</td></tr>",
                            "<tr><td>1968</td><td>F</td><td>5</td></tr>",
                            "<tr><td>1968</td><td>N</td><td>3</td></tr>",
                            "<tr><td>1968</td><td>részösszeg</td><td>8</td></tr>",
                            "<tr><td>1969</td><td>F</td><td>5</td></tr>",
                            "<tr><td>1969</td><td>N</td><td>3</td></tr>",
                            "<tr><td>1969</td><td>részösszeg</td><td>8</td></tr>",
                            "<tr><td>1970</td><td>F</td><td>4</td></tr>",
                            "<tr><td>1970</td><td>részösszeg</td><td>4</td></tr>",
                            "<tr><td>1971</td><td>F</td><td>2</td></tr>",
                            "<tr><td>1971</td><td>N</td><td>3</td></tr>",
                            "<tr><td>1971</td><td>részösszeg</td><td>5</td></tr>",
                            "<tr><td>1972</td><td>F</td><td>2</td></tr>",
                            "<tr><td>1972</td><td>N</td><td>2</td></tr>",
                            "<tr><td>1972</td><td>részösszeg</td><td>4</td></tr>",
                            "<tr><td>1973</td><td>F</td><td>2</td></tr>",
                            "<tr><td>1973</td><td>N</td><td>2</td></tr>",
                            "<tr><td>1973</td><td>részösszeg</td><td>4</td></tr>",
                            "<tr><td>1974</td><td>F</td><td>1</td></tr>",
                            "<tr><td>1974</td><td>N</td><td>3</td></tr>",
                            "<tr><td>1974</td><td>részösszeg</td><td>4</td></tr>",
                            "<tr><td>1975</td><td>F</td><td>8</td></tr>",
                            "<tr><td>1975</td><td>N</td><td>3</td></tr>",
                            "<tr><td>1975</td><td>részösszeg</td><td>11</td></tr>",
                            "<tr><td>1976</td><td>F</td><td>5</td></tr>",
                            "<tr><td>1976</td><td>N</td><td>2</td></tr>",
                            "<tr><td>1976</td><td>részösszeg</td><td>7</td></tr>",
                            "<tr><td>1977</td><td>F</td><td>4</td></tr>",
                            "<tr><td>1977</td><td>N</td><td>1</td></tr>",
                            "<tr><td>1977</td><td>részösszeg</td><td>5</td></tr>",
                            "<tr><td>1978</td><td>F</td><td>3</td></tr>",
                            "<tr><td>1978</td><td>N</td><td>4</td></tr>",
                            "<tr><td>1978</td><td>részösszeg</td><td>7</td></tr>",
                            "<tr><td>1979</td><td>F</td><td>4</td></tr>",
                            "<tr><td>1979</td><td>N</td><td>3</td></tr>",
                            "<tr><td>1979</td><td>részösszeg</td><td>7</td></tr>",
                            "<tr><td>1980</td><td>F</td><td>4</td></tr>",
                            "<tr><td>1980</td><td>N</td><td>3</td></tr>",
                            "<tr><td>1980</td><td>részösszeg</td><td>7</td></tr>",
                            "<tr><td>1981</td><td>N</td><td>4</td></tr>",
                            "<tr><td>1981</td><td>részösszeg</td><td>4</td></tr>",
                            "<tr><td>1982</td><td>F</td><td>2</td></tr>",
                            "<tr><td>1982</td><td>N</td><td>2</td></tr>",
                            "<tr><td>1982</td><td>részösszeg</td><td>4</td></tr>",
                            "<tr><td>1983</td><td>F</td><td>5</td></tr>",
                            "<tr><td>1983</td><td>N</td><td>3</td></tr>",
                            "<tr><td>1983</td><td>részösszeg</td><td>8</td></tr>",
                            "<tr><td>1984</td><td>F</td><td>6</td></tr>",
                            "<tr><td>1984</td><td>N</td><td>2</td></tr>",
                            "<tr><td>1984</td><td>részösszeg</td><td>8</td></tr>",
                            "<tr><td>1985</td><td>F</td><td>5</td></tr>",
                            "<tr><td>1985</td><td>N</td><td>1</td></tr>",
                            "<tr><td>1985</td><td>részösszeg</td><td>6</td></tr>",
                            "<tr><td>1986</td><td>F</td><td>7</td></tr>",
                            "<tr><td>1986</td><td>N</td><td>2</td></tr>",
                            "<tr><td>1986</td><td>részösszeg</td><td>9</td></tr>",
                            "<tr><td>1987</td><td>F</td><td>2</td></tr>",
                            "<tr><td>1987</td><td>N</td><td>3</td></tr>",
                            "<tr><td>1987</td><td>részösszeg</td><td>5</td></tr>",
                            "<tr><td>1988</td><td>F</td><td>2</td></tr>",
                            "<tr><td>1988</td><td>N</td><td>4</td></tr>",
                            "<tr><td>1988</td><td>részösszeg</td><td>6</td></tr>",
                            "<tr><td>1989</td><td>F</td><td>6</td></tr>",
                            "<tr><td>1989</td><td>N</td><td>1</td></tr>",
                            "<tr><td>1989</td><td>részösszeg</td><td>7</td></tr>",
                            "<tr><td>1990</td><td>F</td><td>5</td></tr>",
                            "<tr><td>1990</td><td>N</td><td>3</td></tr>",
                            "<tr><td>1990</td><td>részösszeg</td><td>8</td></tr>",
                            "<tr><td>1991</td><td>F</td><td>3</td></tr>",
                            "<tr><td>1991</td><td>N</td><td>3</td></tr>",
                            "<tr><td>1991</td><td>részösszeg</td><td>6</td></tr>",
                            "<tr><td>1992</td><td>F</td><td>3</td></tr>",
                            "<tr><td>1992</td><td>N</td><td>1</td></tr>",
                            "<tr><td>1992</td><td>részösszeg</td><td>4</td></tr>",
                            "<tr><td>1993</td><td>F</td><td>2</td></tr>",
                            "<tr><td>1993</td><td>N</td><td>3</td></tr>",
                            "<tr><td>1993</td><td>részösszeg</td><td>5</td></tr>",
                            "<tr><td>1994</td><td>N</td><td>3</td></tr>",
                            "<tr><td>1994</td><td>részösszeg</td><td>3</td></tr>",
                            "<tr><td>1995</td><td>F</td><td>3</td></tr>",
                            "<tr><td>1995</td><td>N</td><td>3</td></tr>",
                            "<tr><td>1995</td><td>részösszeg</td><td>6</td></tr>",
                            "<tr><td>1996</td><td>F</td><td>2</td></tr>",
                            "<tr><td>1996</td><td>N</td><td>5</td></tr>",
                            "<tr><td>1996</td><td>részösszeg</td><td>7</td></tr>",
                            "<tr><td>1997</td><td>F</td><td>10</td></tr>",
                            "<tr><td>1997</td><td>N</td><td>2</td></tr>",
                            "<tr><td>1997</td><td>részösszeg</td><td>12</td></tr>",
                            "<tr><td>1998</td><td>F</td><td>1</td></tr>",
                            "<tr><td>1998</td><td>N</td><td>1</td></tr>",
                            "<tr><td>1998</td><td>részösszeg</td><td>2</td></tr>",
                            "<tr><td>2000</td><td>F</td><td>1</td></tr>",
                            "<tr><td>2000</td><td>részösszeg</td><td>1</td></tr>",
                            "<tr><td>Végösszeg</td><td>végösszeg</td><td>200</td></tr>",
                            "</table>"
                        ]
                    }
                }
            ],
            "execution_count": 8
        },
        {
            "cell_type": "markdown",
            "source": [
                "5. <span style=\"background-color: rgb(255, 255, 255); color: rgb(0, 0, 0); font-family: &quot;Open Sans&quot;, sans-serif; font-size: 14.44px;\">Készítsünk listát a termékek számáról a felvitel hónapja, azon belül napja szerint csoportosítva.&nbsp;</span> \n",
                "\n",
                "a. A lista csak a részösszegeket és a végösszeget tartalmazza!  \n",
                "b. Az oszlopoknak adjunk megfelelő nevet!  \n",
                "c. Ötlet: HAVING + GROUPING\\_ID fv együttes használata"
            ],
            "metadata": {
                "azdata_cell_guid": "84239ca2-6b5e-49f5-9860-d44c11d6de32"
            },
            "attachments": {}
        },
        {
            "cell_type": "code",
            "source": [
                "select month(felvitel) as 'hónap',\r\n",
                "        day(felvitel) as 'nap',\r\n",
                "        count(*) as 'termékek száma'\r\n",
                "From Termek\r\n",
                "group by rollup(month(felvitel), day(felvitel))\r\n",
                "having grouping_id(month(felvitel), day(felvitel)) > 0"
            ],
            "metadata": {
                "azdata_cell_guid": "06d9a62b-9430-424b-a135-d80e675f0eb3",
                "language": "sql"
            },
            "outputs": [
{
    "output_type": "display_data",
    "data": {
        "text/html": "(5 rows affected)"
    },
    "metadata": {}
}, {
    "output_type": "display_data",
    "data": {
        "text/html": "Total execution time: 00:00:00.008"
    },
    "metadata": {}
}, {
    "output_type": "execute_result",
    "metadata": {},
    "execution_count": 15,
    "data": {
        "application/vnd.dataresource+json": {
            "schema": {
                "fields": [
                    {
                        "name": "hónap"
                    },
                    {
                        "name": "nap"
                    },
                    {
                        "name": "termékek száma"
                    }
                ]
            },
            "data": [
                {
                    "hónap": "7",
                    "nap": "NULL",
                    "termékek száma": "355"
                },
                {
                    "hónap": "8",
                    "nap": "NULL",
                    "termékek száma": "194"
                },
                {
                    "hónap": "9",
                    "nap": "NULL",
                    "termékek száma": "1"
                },
                {
                    "hónap": "12",
                    "nap": "NULL",
                    "termékek száma": "1"
                },
                {
                    "hónap": "NULL",
                    "nap": "NULL",
                    "termékek száma": "551"
                }
            ]
        },
        "text/html": [
            "<table>",
            "<tr><th>hónap</th><th>nap</th><th>termékek száma</th></tr>",
            "<tr><td>7</td><td>NULL</td><td>355</td></tr>",
            "<tr><td>8</td><td>NULL</td><td>194</td></tr>",
            "<tr><td>9</td><td>NULL</td><td>1</td></tr>",
            "<tr><td>12</td><td>NULL</td><td>1</td></tr>",
            "<tr><td>NULL</td><td>NULL</td><td>551</td></tr>",
            "</table>"
        ]
    }
}
],
            "execution_count": 15
        }
    ]
}